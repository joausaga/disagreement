{
 "cells": [
  {
   "cell_type": "markdown",
   "metadata": {},
   "source": [
    "# Value of disagreement in crowdsourced policymaking"
   ]
  },
  {
   "cell_type": "markdown",
   "metadata": {},
   "source": [
    "In this notebook we explore the value of disagreement in crowdsourced policymaking by addressing the following research questions."
   ]
  },
  {
   "cell_type": "markdown",
   "metadata": {},
   "source": [
    "## Research Questions"
   ]
  },
  {
   "cell_type": "markdown",
   "metadata": {},
   "source": [
    "1. **RQ1.** What are the predictors of disagreement?\n",
    "2. **RQ2.** What are the predictors of new ideas?\n",
    "3. **RQ3.** How does the presence of both disagreement and agreement affect new idea generation? (if disagreement and agreement are present simultaneously, in the same comment/thread?)\n",
    "4. **RQ4.** Do comments with only disagreement/only agreement lead to more new idea generation?"
   ]
  },
  {
   "cell_type": "markdown",
   "metadata": {},
   "source": [
    "## Methodology"
   ]
  },
  {
   "cell_type": "markdown",
   "metadata": {},
   "source": [
    "To address RQ1 and RQ2, numeric variables computed during the qualitative analysis are considered. As the first step, we propose to conduct correlation analyses to understand collinearity between variables. Collinearity between variables might produce incorrect inferences about the association between predictors and the response variable. To address RQ1, logistic regression is employed to model the relationship between predictors and the variable disagreement. Variables that are found to be highly-correlated are not included in the analysis. In answering RQ2, multi-variate linear regression is applied to learn the relationship between predictors and the generation of new ideas. As in the case of RQ1, highly-correlated variables will be excluded from the analysis."
   ]
  },
  {
   "cell_type": "markdown",
   "metadata": {},
   "source": [
    "RQ3 is answered by fitting a logistic regression model in which the response variable is whether or not the new ideas are produced while the explanatory variables are agreement and disagreement."
   ]
  },
  {
   "cell_type": "markdown",
   "metadata": {},
   "source": [
    "For RQ4, we check the number of comments in which new ideas are produced when there is agreement or disagreement. Also, we count the number of ideas produced in comments than contain agreement and disagreement. Inferential statistics (e.g., student’s t-test) is conducted on the means of ideas produced on comments with agreement and disagreement to understand whether there is a significant difference in the number of ideas produced when agreements are present or vice versa."
   ]
  },
  {
   "cell_type": "markdown",
   "metadata": {},
   "source": [
    "## Load libraries"
   ]
  },
  {
   "cell_type": "code",
   "execution_count": 1,
   "metadata": {},
   "outputs": [],
   "source": [
    "# load libraries\n",
    "import pandas as pd\n",
    "import numpy as np\n",
    "import matplotlib.pyplot as plt\n",
    "import seaborn as sns\n",
    "import statsmodels.api as sm\n",
    "from scipy import stats\n",
    "\n",
    "from collections import defaultdict\n",
    "from predictor import predict_disagreement\n",
    "from statsmodels.formula.api import glm\n",
    "from statsmodels.stats.outliers_influence import variance_inflation_factor\n",
    "\n",
    "plt.style.use('seaborn')"
   ]
  },
  {
   "cell_type": "markdown",
   "metadata": {},
   "source": [
    "## Load data"
   ]
  },
  {
   "cell_type": "markdown",
   "metadata": {},
   "source": [
    "### Topic: Member decision making and right"
   ]
  },
  {
   "cell_type": "code",
   "execution_count": 2,
   "metadata": {},
   "outputs": [
    {
     "name": "stdout",
     "output_type": "stream",
     "text": [
      "The dataset has 213 rows and 51 columns\n"
     ]
    }
   ],
   "source": [
    "member_df = pd.read_csv('data/member_decision_making_and_right.csv')\n",
    "nrows, ncols = member_df.shape\n",
    "print(f'The dataset has {nrows} rows and {ncols} columns')"
   ]
  },
  {
   "cell_type": "markdown",
   "metadata": {},
   "source": [
    "#### Columns"
   ]
  },
  {
   "cell_type": "code",
   "execution_count": 126,
   "metadata": {},
   "outputs": [
    {
     "data": {
      "text/plain": [
       "Index(['background', 'proposals', 'time', 'user_id', 'user_email', 'user_name',\n",
       "       'comment_id', 'comment', 'response_id', 'response', 'number_of_likes',\n",
       "       'users_who_liked', 'attachments', 'comment_1', 'response_1', 'topic_1',\n",
       "       'topic_2', 'topic_3', 'disagreement', 'agreement',\n",
       "       'simple_disagreement', 'elaborated_disagreement', 'simple_agreement',\n",
       "       'elaborated_agreement', 'idea_s', 'number_of_ideas', 'new_idea',\n",
       "       'sourcing', 'value_s', 'topic_shift', 'brainstorming', 'blending',\n",
       "       'building', 'broadening', 'fact', 'value', 'policy', 'interpretation',\n",
       "       'target_of_disagreement', 'target_of_agreement', 'gives_reason_s',\n",
       "       'presents_evidence', 'asks_question_s', 'provides_information',\n",
       "       'clarifies_position_stance', 'responds_to_previous_comment',\n",
       "       'constructive_tone', 'moderator_post', 'acknowledges_problem', 'notes',\n",
       "       'annotations_for_disagreement_new_idea_cascades', 'topic'],\n",
       "      dtype='object')"
      ]
     },
     "execution_count": 126,
     "metadata": {},
     "output_type": "execute_result"
    }
   ],
   "source": [
    "member_df.columns"
   ]
  },
  {
   "cell_type": "markdown",
   "metadata": {},
   "source": [
    "### Topic: Administration of an association"
   ]
  },
  {
   "cell_type": "code",
   "execution_count": 3,
   "metadata": {},
   "outputs": [
    {
     "name": "stdout",
     "output_type": "stream",
     "text": [
      "The dataset has 119 rows and 51 columns\n"
     ]
    }
   ],
   "source": [
    "admin_df = pd.read_csv('data/administration_of_association.csv')\n",
    "nrows, ncols = admin_df.shape\n",
    "print(f'The dataset has {nrows} rows and {ncols} columns')"
   ]
  },
  {
   "cell_type": "markdown",
   "metadata": {},
   "source": [
    "#### Columns"
   ]
  },
  {
   "cell_type": "code",
   "execution_count": 5,
   "metadata": {},
   "outputs": [
    {
     "data": {
      "text/plain": [
       "Index(['Background', 'Proposal', 'Time', 'User ID', 'User email', 'User name',\n",
       "       'Comment's ID', 'Comment', 'Response ID', 'Response', 'Amount of likes',\n",
       "       'Users who liked', 'Attachments', 'Comment.1', 'Response.1', 'Topic 1',\n",
       "       'Topic 2', 'Topic 3', 'disagreement', 'agreement',\n",
       "       'simple disagreement', 'elaborated disagreement', 'simple agreement',\n",
       "       'elaborated agreement', 'idea(s)', 'number of ideas', 'new idea',\n",
       "       'sourcing', 'value(s)', 'topic shift', 'brainstorming', 'blending',\n",
       "       'building', 'broadening', 'fact', 'value', 'policy', 'interpretation',\n",
       "       'target of disagreement', 'target of agreement', 'gives reason(s)',\n",
       "       'presents evidence', 'asks question(s)', 'provides information',\n",
       "       'clarifies position/stance', 'responds to previous comment',\n",
       "       'constructive tone', 'moderator post', 'acknowledges problem', 'notes',\n",
       "       'annotations for disagreement / new idea cascades'],\n",
       "      dtype='object')"
      ]
     },
     "execution_count": 5,
     "metadata": {},
     "output_type": "execute_result"
    }
   ],
   "source": [
    "admin_df.columns"
   ]
  },
  {
   "cell_type": "markdown",
   "metadata": {},
   "source": [
    "### Topic: Informally organized groups of an association"
   ]
  },
  {
   "cell_type": "code",
   "execution_count": 4,
   "metadata": {},
   "outputs": [
    {
     "name": "stdout",
     "output_type": "stream",
     "text": [
      "The dataset has 159 rows and 53 columns\n"
     ]
    }
   ],
   "source": [
    "informal_df = pd.read_csv('data/informally_organized_group_of_a.csv')\n",
    "nrows, ncols = informal_df.shape\n",
    "print(f'The dataset has {nrows} rows and {ncols} columns')"
   ]
  },
  {
   "cell_type": "markdown",
   "metadata": {},
   "source": [
    "#### Columns"
   ]
  },
  {
   "cell_type": "code",
   "execution_count": 7,
   "metadata": {},
   "outputs": [
    {
     "data": {
      "text/plain": [
       "Index(['Background', 'Proposal', 'Time', 'User ID', 'User email', 'User name',\n",
       "       'Comment ID', 'Comment', 'Response ID', 'Response', 'Number of likes',\n",
       "       'Users who liked', 'Attachments', 'Comment.1', 'Response.1', 'Topic 1',\n",
       "       'Topic 2', 'Topic 3', 'disagreement', 'agreement',\n",
       "       'simple disagreement', 'elaborated disagreement', 'simple agreement',\n",
       "       'elaborated agreement', 'idea(s)', 'number of ideas', 'new idea',\n",
       "       'sourcing', 'value(s)', 'topic shift', 'brainstorming', 'blending',\n",
       "       'building', 'broadening', 'fact', 'value', 'policy', 'IRRpolicy',\n",
       "       'interpretation', 'IRRinterpretation', 'target of disagreement',\n",
       "       'target of agreement', 'gives reason(s)', 'presents evidence',\n",
       "       'asks question(s)', 'provides information', 'clarifies position/stance',\n",
       "       'responds to previous comment', 'constructive tone',\n",
       "       'IRRconstructive tone', 'moderator post', 'acknowledges problem',\n",
       "       'annotations for disagreement / new idea cascade(s)'],\n",
       "      dtype='object')"
      ]
     },
     "execution_count": 7,
     "metadata": {},
     "output_type": "execute_result"
    }
   ],
   "source": [
    "informal_df.columns"
   ]
  },
  {
   "cell_type": "markdown",
   "metadata": {},
   "source": [
    "## Preprocess data"
   ]
  },
  {
   "cell_type": "markdown",
   "metadata": {},
   "source": [
    "### Normalize column names"
   ]
  },
  {
   "cell_type": "markdown",
   "metadata": {},
   "source": [
    "Put column names to lower case, replace spaces with underscore, delete leading and trailing spaces, and remove non alpha-numerical characters"
   ]
  },
  {
   "cell_type": "code",
   "execution_count": 5,
   "metadata": {},
   "outputs": [],
   "source": [
    "def normalize_column_names(names):\n",
    "    names = names.str.lower()\n",
    "    names = names.str.replace(' ','_')\n",
    "    names = names.str.replace('.','_')\n",
    "    names = names.str.replace('(','_')\n",
    "    names = names.str.replace(')','')\n",
    "    names = names.str.replace('/','_')\n",
    "    names = names.str.replace('___','_')\n",
    "    names = names.str.strip()\n",
    "    return names"
   ]
  },
  {
   "cell_type": "code",
   "execution_count": 6,
   "metadata": {},
   "outputs": [],
   "source": [
    "member_df.columns = normalize_column_names(member_df.columns)\n",
    "admin_df.columns = normalize_column_names(admin_df.columns)\n",
    "informal_df.columns = normalize_column_names(informal_df.columns)"
   ]
  },
  {
   "cell_type": "markdown",
   "metadata": {},
   "source": [
    "### Standarize column names"
   ]
  },
  {
   "cell_type": "markdown",
   "metadata": {},
   "source": [
    "Columns that contained the same information but have slightly different names are renamed for compatibility purposes"
   ]
  },
  {
   "cell_type": "code",
   "execution_count": 7,
   "metadata": {},
   "outputs": [],
   "source": [
    "member_df = member_df.rename(columns={\n",
    "    'annotations_for_disagreement_new_idea_cascade_s': 'annotations_for_disagreement_new_idea_cascades'\n",
    "})"
   ]
  },
  {
   "cell_type": "code",
   "execution_count": 8,
   "metadata": {},
   "outputs": [],
   "source": [
    "admin_df = admin_df.rename(columns={\n",
    "    'amount_of_likes': 'number_of_likes',\n",
    "    'comment\\'s_id': 'comment_id',\n",
    "    'proposal': 'proposals',    \n",
    "})"
   ]
  },
  {
   "cell_type": "code",
   "execution_count": 9,
   "metadata": {},
   "outputs": [],
   "source": [
    "informal_df = informal_df.rename(columns={\n",
    "    'annotations_for_disagreement_new_idea_cascade_s': 'annotations_for_disagreement_new_idea_cascades',\n",
    "    'proposal': 'proposals'\n",
    "})"
   ]
  },
  {
   "cell_type": "markdown",
   "metadata": {},
   "source": [
    "### Merge datasets in one dataframe"
   ]
  },
  {
   "cell_type": "markdown",
   "metadata": {},
   "source": [
    "Add an extra column to indicate the discussion topic"
   ]
  },
  {
   "cell_type": "code",
   "execution_count": 10,
   "metadata": {},
   "outputs": [],
   "source": [
    "member_df['topic'] = 'member'\n",
    "admin_df['topic'] = 'admin'\n",
    "informal_df['topic'] = 'informal'"
   ]
  },
  {
   "cell_type": "markdown",
   "metadata": {},
   "source": [
    "Merge datasets"
   ]
  },
  {
   "cell_type": "code",
   "execution_count": 11,
   "metadata": {},
   "outputs": [],
   "source": [
    "all_df = pd.concat([member_df, admin_df, informal_df], axis=0, ignore_index=True)"
   ]
  },
  {
   "cell_type": "code",
   "execution_count": 12,
   "metadata": {},
   "outputs": [
    {
     "name": "stdout",
     "output_type": "stream",
     "text": [
      "The merged dataset has 491 rows and 55 columns\n"
     ]
    }
   ],
   "source": [
    "nrows, ncols = all_df.shape\n",
    "print(f'The merged dataset has {nrows} rows and {ncols} columns')"
   ]
  },
  {
   "cell_type": "code",
   "execution_count": 16,
   "metadata": {},
   "outputs": [
    {
     "data": {
      "text/plain": [
       "Index(['background', 'proposals', 'time', 'user_id', 'user_email', 'user_name',\n",
       "       'comment_id', 'comment', 'response_id', 'response', 'number_of_likes',\n",
       "       'users_who_liked', 'attachments', 'comment_1', 'response_1', 'topic_1',\n",
       "       'topic_2', 'topic_3', 'disagreement', 'agreement',\n",
       "       'simple_disagreement', 'elaborated_disagreement', 'simple_agreement',\n",
       "       'elaborated_agreement', 'idea_s', 'number_of_ideas', 'new_idea',\n",
       "       'sourcing', 'value_s', 'topic_shift', 'brainstorming', 'blending',\n",
       "       'building', 'broadening', 'fact', 'value', 'policy', 'interpretation',\n",
       "       'target_of_disagreement', 'target_of_agreement', 'gives_reason_s',\n",
       "       'presents_evidence', 'asks_question_s', 'provides_information',\n",
       "       'clarifies_position_stance', 'responds_to_previous_comment',\n",
       "       'constructive_tone', 'moderator_post', 'acknowledges_problem', 'notes',\n",
       "       'annotations_for_disagreement_new_idea_cascades', 'topic', 'irrpolicy',\n",
       "       'irrinterpretation', 'irrconstructive_tone'],\n",
       "      dtype='object')"
      ]
     },
     "execution_count": 16,
     "metadata": {},
     "output_type": "execute_result"
    }
   ],
   "source": [
    "all_df.columns"
   ]
  },
  {
   "cell_type": "markdown",
   "metadata": {},
   "source": [
    "### Remove columns containing text in Finnish"
   ]
  },
  {
   "cell_type": "markdown",
   "metadata": {},
   "source": [
    "Text of comments and responses are both in Finnish and English. Columns `comment` and `response` that contain text in Finnish are removed because they will not be considered in this analysis."
   ]
  },
  {
   "cell_type": "code",
   "execution_count": 13,
   "metadata": {},
   "outputs": [],
   "source": [
    "all_df = all_df.drop(['comment', 'response'], axis=1)"
   ]
  },
  {
   "cell_type": "markdown",
   "metadata": {},
   "source": [
    "Columns `comment_1` and `response_1` are renamed removing `_1` from their names"
   ]
  },
  {
   "cell_type": "code",
   "execution_count": 14,
   "metadata": {},
   "outputs": [],
   "source": [
    "all_df = all_df.rename(columns={'comment_1': 'comment', 'response_1': 'response'})"
   ]
  },
  {
   "cell_type": "markdown",
   "metadata": {},
   "source": [
    "**Final columns**"
   ]
  },
  {
   "cell_type": "code",
   "execution_count": 19,
   "metadata": {},
   "outputs": [
    {
     "data": {
      "text/plain": [
       "Index(['background', 'proposals', 'time', 'user_id', 'user_email', 'user_name',\n",
       "       'comment_id', 'response_id', 'number_of_likes', 'users_who_liked',\n",
       "       'attachments', 'comment', 'response', 'topic_1', 'topic_2', 'topic_3',\n",
       "       'disagreement', 'agreement', 'simple_disagreement',\n",
       "       'elaborated_disagreement', 'simple_agreement', 'elaborated_agreement',\n",
       "       'idea_s', 'number_of_ideas', 'new_idea', 'sourcing', 'value_s',\n",
       "       'topic_shift', 'brainstorming', 'blending', 'building', 'broadening',\n",
       "       'fact', 'value', 'policy', 'interpretation', 'target_of_disagreement',\n",
       "       'target_of_agreement', 'gives_reason_s', 'presents_evidence',\n",
       "       'asks_question_s', 'provides_information', 'clarifies_position_stance',\n",
       "       'responds_to_previous_comment', 'constructive_tone', 'moderator_post',\n",
       "       'acknowledges_problem', 'notes',\n",
       "       'annotations_for_disagreement_new_idea_cascades', 'topic', 'irrpolicy',\n",
       "       'irrinterpretation', 'irrconstructive_tone'],\n",
       "      dtype='object')"
      ]
     },
     "execution_count": 19,
     "metadata": {},
     "output_type": "execute_result"
    }
   ],
   "source": [
    "all_df.columns"
   ]
  },
  {
   "cell_type": "markdown",
   "metadata": {},
   "source": [
    "### Check null values"
   ]
  },
  {
   "cell_type": "markdown",
   "metadata": {},
   "source": [
    "Check the number of null values by columns"
   ]
  },
  {
   "cell_type": "code",
   "execution_count": 20,
   "metadata": {},
   "outputs": [
    {
     "data": {
      "text/plain": [
       "background                                          3\n",
       "proposals                                           3\n",
       "time                                                3\n",
       "user_id                                             3\n",
       "user_email                                          3\n",
       "user_name                                           3\n",
       "comment_id                                        346\n",
       "response_id                                       148\n",
       "number_of_likes                                     0\n",
       "users_who_liked                                   263\n",
       "attachments                                       491\n",
       "comment                                           348\n",
       "response                                          146\n",
       "topic_1                                             4\n",
       "topic_2                                           147\n",
       "topic_3                                           358\n",
       "disagreement                                        0\n",
       "agreement                                           0\n",
       "simple_disagreement                                 0\n",
       "elaborated_disagreement                             0\n",
       "simple_agreement                                    0\n",
       "elaborated_agreement                                0\n",
       "idea_s                                             37\n",
       "number_of_ideas                                     1\n",
       "new_idea                                            0\n",
       "sourcing                                          330\n",
       "value_s                                           340\n",
       "topic_shift                                         0\n",
       "brainstorming                                       0\n",
       "blending                                            0\n",
       "building                                            0\n",
       "broadening                                          0\n",
       "fact                                                0\n",
       "value                                               0\n",
       "policy                                              0\n",
       "interpretation                                      0\n",
       "target_of_disagreement                            209\n",
       "target_of_agreement                               239\n",
       "gives_reason_s                                      0\n",
       "presents_evidence                                   0\n",
       "asks_question_s                                     0\n",
       "provides_information                                0\n",
       "clarifies_position_stance                           0\n",
       "responds_to_previous_comment                        0\n",
       "constructive_tone                                   0\n",
       "moderator_post                                      0\n",
       "acknowledges_problem                                0\n",
       "notes                                             398\n",
       "annotations_for_disagreement_new_idea_cascades    454\n",
       "topic                                               0\n",
       "irrpolicy                                         486\n",
       "irrinterpretation                                 486\n",
       "irrconstructive_tone                              486\n",
       "dtype: int64"
      ]
     },
     "execution_count": 20,
     "metadata": {},
     "output_type": "execute_result"
    }
   ],
   "source": [
    "all_df.isnull().sum()"
   ]
  },
  {
   "cell_type": "markdown",
   "metadata": {},
   "source": [
    "## RQ1. Predictors of disagreement"
   ]
  },
  {
   "cell_type": "markdown",
   "metadata": {},
   "source": [
    "### Methodology"
   ]
  },
  {
   "cell_type": "markdown",
   "metadata": {},
   "source": [
    "To understand which variables best predict disagreement logistic regression is applied through the following procedure:\n",
    "\n",
    "1. Select the explanatory variables or predictors of interest (all of the available in this case). The terms predictors and variables are used interchangeable from here;\n",
    "2. Cast predictors to numeric type ensuring that categorical predictors contain only binary values (1/0). Records in which categorical predictors contain values different from 0 or 1 are discarded;\n",
    "3. Compute correlation between the numerical predictors number of likes and number of ideas. Because the distribution values in the numerical variables does not follow a normal distribution, the non-parametric Spearman correlation method is used. Predictors that are not independent should not be included together in logistic regression models;\n",
    "4. Compute correlation between numerical and categorical variables. [Point-biserial correlation](https://www.statisticssolutions.com/point-biserial-correlation/) is used to understand the independence between categorical and numerical predictors. Predictors that are not independent should be included together in models;\n",
    "5. Cast categorical predictors to category type so later the correlation between these variable can be computed;\n",
    "6. Compute correlation between categorical predictors. Not independent predictors should not be included together in models;\n",
    "7. Fit logistic regression models considering all possible combinations of independent predictors;\n",
    "8. Select the best model and interpret the coefficients."
   ]
  },
  {
   "cell_type": "markdown",
   "metadata": {},
   "source": [
    "### 1. Define and select predictor variables for `disagreement`"
   ]
  },
  {
   "cell_type": "code",
   "execution_count": 17,
   "metadata": {},
   "outputs": [
    {
     "name": "stdout",
     "output_type": "stream",
     "text": [
      "In total 22 variables will be considered in the analysis of RQ1\n"
     ]
    }
   ],
   "source": [
    "predictors_disagreement = [\n",
    "    'number_of_likes', 'number_of_ideas', 'simple_disagreement', 'elaborated_disagreement',\n",
    "    'topic_shift', 'brainstorming', 'blending', 'building', 'broadening', 'fact',\n",
    "    'value', 'policy', 'interpretation', 'gives_reason_s', 'presents_evidence', 'asks_question_s',\n",
    "    'provides_information', 'clarifies_position_stance', 'responds_to_previous_comment', \n",
    "    'constructive_tone', 'moderator_post', 'acknowledges_problem'\n",
    "]\n",
    "print(f\"In total {len(predictors_disagreement)} variables will be considered in the analysis of RQ1\")"
   ]
  },
  {
   "cell_type": "markdown",
   "metadata": {},
   "source": [
    "#### Select columns that include predictors and the target variable"
   ]
  },
  {
   "cell_type": "code",
   "execution_count": 119,
   "metadata": {},
   "outputs": [
    {
     "name": "stdout",
     "output_type": "stream",
     "text": [
      "The analysis is conducted with a dataset composed of 491 rows and 23 columns\n"
     ]
    }
   ],
   "source": [
    "rq1_df = all_df.loc[:,predictors_disagreement+['disagreement']]\n",
    "print(f\"The analysis is conducted with a dataset composed of {rq1_df.shape[0]} rows and {rq1_df.shape[1]} columns\")"
   ]
  },
  {
   "cell_type": "markdown",
   "metadata": {},
   "source": [
    "### 2. Cast variables to numeric"
   ]
  },
  {
   "cell_type": "markdown",
   "metadata": {},
   "source": [
    "Some variables have the values `unclear` and `nan`, which need to be converted to numerical before casting the variable to this type."
   ]
  },
  {
   "cell_type": "code",
   "execution_count": 16,
   "metadata": {},
   "outputs": [],
   "source": [
    "numerical_predictors = ['number_of_likes', 'number_of_ideas']"
   ]
  },
  {
   "cell_type": "code",
   "execution_count": 121,
   "metadata": {},
   "outputs": [
    {
     "name": "stdout",
     "output_type": "stream",
     "text": [
      "Found the following invalid values {13, 6, 7} in 3 rows of the column simple_disagreement. Rows has been discarded.\n"
     ]
    },
    {
     "name": "stderr",
     "output_type": "stream",
     "text": [
      "/home/jorge/Dropbox/Data Analyses/disagreement/env/lib/python3.7/site-packages/pandas/core/ops/array_ops.py:253: FutureWarning: elementwise comparison failed; returning scalar instead, but in the future will perform elementwise comparison\n",
      "  res_values = method(rvalues)\n"
     ]
    }
   ],
   "source": [
    "for col in rq1_df.columns:\n",
    "    rq1_df.loc[rq1_df[col]=='unclear', col] = 0\n",
    "    rq1_df.loc[rq1_df[col].isna(), col] = 0\n",
    "    rq1_df[col] = pd.to_numeric(rq1_df[col], downcast='unsigned')\n",
    "    if col not in numerical_predictors:\n",
    "        unique_values = rq1_df[col].unique()\n",
    "        invalid_values = set(unique_values) - set([0,1])\n",
    "        if len(invalid_values) > 0:  # the column has invalid values                   \n",
    "            invalid_indexes = list(rq1_df.loc[~rq1_df[col].isin([0,1])].index)\n",
    "            if len(invalid_indexes) > 0:\n",
    "                print(f'Found the following invalid values {invalid_values} in {len(invalid_indexes)} rows of the column {col}. Rows has been discarded.')\n",
    "                rq1_df = rq1_df.drop(index=invalid_indexes)            "
   ]
  },
  {
   "cell_type": "code",
   "execution_count": 122,
   "metadata": {},
   "outputs": [
    {
     "name": "stdout",
     "output_type": "stream",
     "text": [
      "After the step above the dataset is composed of 488 rows and 23 columns\n"
     ]
    }
   ],
   "source": [
    "print(f\"After the step above the dataset is composed of {rq1_df.shape[0]} rows and {rq1_df.shape[1]} columns\")"
   ]
  },
  {
   "cell_type": "markdown",
   "metadata": {},
   "source": [
    "#### Check variable types"
   ]
  },
  {
   "cell_type": "code",
   "execution_count": 26,
   "metadata": {},
   "outputs": [
    {
     "name": "stdout",
     "output_type": "stream",
     "text": [
      "<class 'pandas.core.frame.DataFrame'>\n",
      "Int64Index: 488 entries, 0 to 489\n",
      "Data columns (total 23 columns):\n",
      " #   Column                        Non-Null Count  Dtype \n",
      "---  ------                        --------------  ----- \n",
      " 0   number_of_likes               488 non-null    uint8 \n",
      " 1   number_of_ideas               488 non-null    uint16\n",
      " 2   simple_disagreement           488 non-null    uint8 \n",
      " 3   elaborated_disagreement       488 non-null    uint8 \n",
      " 4   topic_shift                   488 non-null    uint8 \n",
      " 5   brainstorming                 488 non-null    uint8 \n",
      " 6   blending                      488 non-null    uint8 \n",
      " 7   building                      488 non-null    uint8 \n",
      " 8   broadening                    488 non-null    uint8 \n",
      " 9   fact                          488 non-null    uint8 \n",
      " 10  value                         488 non-null    uint8 \n",
      " 11  policy                        488 non-null    uint8 \n",
      " 12  interpretation                488 non-null    uint8 \n",
      " 13  gives_reason_s                488 non-null    uint8 \n",
      " 14  presents_evidence             488 non-null    uint8 \n",
      " 15  asks_question_s               488 non-null    uint8 \n",
      " 16  provides_information          488 non-null    uint8 \n",
      " 17  clarifies_position_stance     488 non-null    uint8 \n",
      " 18  responds_to_previous_comment  488 non-null    uint8 \n",
      " 19  constructive_tone             488 non-null    uint8 \n",
      " 20  moderator_post                488 non-null    uint8 \n",
      " 21  acknowledges_problem          488 non-null    uint8 \n",
      " 22  disagreement                  488 non-null    uint8 \n",
      "dtypes: uint16(1), uint8(22)\n",
      "memory usage: 15.2 KB\n"
     ]
    }
   ],
   "source": [
    "rq1_df.info()"
   ]
  },
  {
   "cell_type": "markdown",
   "metadata": {},
   "source": [
    "### 3. Check independence between numerical variables"
   ]
  },
  {
   "cell_type": "markdown",
   "metadata": {},
   "source": [
    "We use Persons correlation to find out whether the numerical variables `number_of_likes` and `number_of_ideas` are correlated."
   ]
  },
  {
   "cell_type": "code",
   "execution_count": 27,
   "metadata": {},
   "outputs": [],
   "source": [
    "alpha_level = 0.05"
   ]
  },
  {
   "cell_type": "markdown",
   "metadata": {},
   "source": [
    "Distribution of `number_of_likes`"
   ]
  },
  {
   "cell_type": "code",
   "execution_count": 28,
   "metadata": {},
   "outputs": [
    {
     "data": {
      "text/plain": [
       "<matplotlib.axes._subplots.AxesSubplot at 0x7f274aec3780>"
      ]
     },
     "execution_count": 28,
     "metadata": {},
     "output_type": "execute_result"
    },
    {
     "data": {
      "image/png": "[encoded data removed]",
      "text/plain": [
       "<Figure size 576x396 with 1 Axes>"
      ]
     },
     "metadata": {},
     "output_type": "display_data"
    }
   ],
   "source": [
    "rq1_df['number_of_likes'].hist()"
   ]
  },
  {
   "cell_type": "markdown",
   "metadata": {},
   "source": [
    "Distribution of `number_of_ideas`"
   ]
  },
  {
   "cell_type": "code",
   "execution_count": 29,
   "metadata": {},
   "outputs": [
    {
     "data": {
      "text/plain": [
       "<matplotlib.axes._subplots.AxesSubplot at 0x7f274873c7b8>"
      ]
     },
     "execution_count": 29,
     "metadata": {},
     "output_type": "execute_result"
    },
    {
     "data": {
      "image/png": "[encoded data removed]",
      "text/plain": [
       "<Figure size 576x396 with 1 Axes>"
      ]
     },
     "metadata": {},
     "output_type": "display_data"
    }
   ],
   "source": [
    "rq1_df['number_of_ideas'].hist()"
   ]
  },
  {
   "cell_type": "markdown",
   "metadata": {},
   "source": [
    "Because data are not distributed normally, a non-parametric correlation method is used"
   ]
  },
  {
   "cell_type": "code",
   "execution_count": 30,
   "metadata": {},
   "outputs": [],
   "source": [
    "pearson_stat, p_val = stats.spearmanr(rq1_df['number_of_likes'], rq1_df['number_of_ideas'])"
   ]
  },
  {
   "cell_type": "code",
   "execution_count": 31,
   "metadata": {},
   "outputs": [
    {
     "name": "stdout",
     "output_type": "stream",
     "text": [
      "Numerical variables are not independent, p-value: 0.011.\n"
     ]
    }
   ],
   "source": [
    "if p_val < alpha_level:\n",
    "    print(f'Numerical variables are not independent, p-value: {round(p_val,3)}.')\n",
    "else:\n",
    "    print(f'Numerical variables are independent, p-value: {round(p_val,3)}.')"
   ]
  },
  {
   "cell_type": "markdown",
   "metadata": {},
   "source": [
    "Numerical variables are not independent, so they cannot be included together in models."
   ]
  },
  {
   "cell_type": "markdown",
   "metadata": {},
   "source": [
    "### 4. Check independence between numerical and categorical variables"
   ]
  },
  {
   "cell_type": "markdown",
   "metadata": {},
   "source": [
    "Persons correlation is employed to analyze correlation between numerical and categorical variables. Having dichotomous categorical variables, Persons correlation can be used [ref](https://www.researchgate.net/post/Can_I_use_Pearsons_correlation_coefficient_to_know_the_relation_between_perception_and_gender_age_income). "
   ]
  },
  {
   "cell_type": "code",
   "execution_count": 32,
   "metadata": {},
   "outputs": [],
   "source": [
    "independence_num_cat = pd.DataFrame(columns=numerical_predictors, index=predictors_disagreement)\n",
    "independence_num_cat_vars = defaultdict(list)\n",
    "for predictor_1 in numerical_predictors:    \n",
    "    for predictor_2 in predictors_disagreement:        \n",
    "        if predictor_2 == predictor_1:\n",
    "            continue\n",
    "        pearson_stat, p_val = stats.spearmanr(rq1_df[predictor_1],rq1_df[predictor_2])        \n",
    "        if p_val < alpha_level:\n",
    "            independence_num_cat.loc[predictor_2,predictor_1] = 'F'\n",
    "        else:\n",
    "            independence_num_cat.loc[predictor_2,predictor_1] = 'T'\n",
    "            independence_num_cat_vars[predictor_1].append(predictor_2)"
   ]
  },
  {
   "cell_type": "code",
   "execution_count": 33,
   "metadata": {},
   "outputs": [
    {
     "data": {
      "text/html": [
       "<div>\n",
       "<style scoped>\n",
       "    .dataframe tbody tr th:only-of-type {\n",
       "        vertical-align: middle;\n",
       "    }\n",
       "\n",
       "    .dataframe tbody tr th {\n",
       "        vertical-align: top;\n",
       "    }\n",
       "\n",
       "    .dataframe thead th {\n",
       "        text-align: right;\n",
       "    }\n",
       "</style>\n",
       "<table border=\"1\" class=\"dataframe\">\n",
       "  <thead>\n",
       "    <tr style=\"text-align: right;\">\n",
       "      <th></th>\n",
       "      <th>number_of_likes</th>\n",
       "      <th>number_of_ideas</th>\n",
       "    </tr>\n",
       "  </thead>\n",
       "  <tbody>\n",
       "    <tr>\n",
       "      <th>number_of_likes</th>\n",
       "      <td>NaN</td>\n",
       "      <td>F</td>\n",
       "    </tr>\n",
       "    <tr>\n",
       "      <th>number_of_ideas</th>\n",
       "      <td>F</td>\n",
       "      <td>NaN</td>\n",
       "    </tr>\n",
       "    <tr>\n",
       "      <th>simple_disagreement</th>\n",
       "      <td>T</td>\n",
       "      <td>F</td>\n",
       "    </tr>\n",
       "    <tr>\n",
       "      <th>elaborated_disagreement</th>\n",
       "      <td>F</td>\n",
       "      <td>F</td>\n",
       "    </tr>\n",
       "    <tr>\n",
       "      <th>topic_shift</th>\n",
       "      <td>F</td>\n",
       "      <td>F</td>\n",
       "    </tr>\n",
       "    <tr>\n",
       "      <th>brainstorming</th>\n",
       "      <td>F</td>\n",
       "      <td>F</td>\n",
       "    </tr>\n",
       "    <tr>\n",
       "      <th>blending</th>\n",
       "      <td>F</td>\n",
       "      <td>F</td>\n",
       "    </tr>\n",
       "    <tr>\n",
       "      <th>building</th>\n",
       "      <td>F</td>\n",
       "      <td>F</td>\n",
       "    </tr>\n",
       "    <tr>\n",
       "      <th>broadening</th>\n",
       "      <td>T</td>\n",
       "      <td>F</td>\n",
       "    </tr>\n",
       "    <tr>\n",
       "      <th>fact</th>\n",
       "      <td>F</td>\n",
       "      <td>T</td>\n",
       "    </tr>\n",
       "    <tr>\n",
       "      <th>value</th>\n",
       "      <td>T</td>\n",
       "      <td>F</td>\n",
       "    </tr>\n",
       "    <tr>\n",
       "      <th>policy</th>\n",
       "      <td>T</td>\n",
       "      <td>F</td>\n",
       "    </tr>\n",
       "    <tr>\n",
       "      <th>interpretation</th>\n",
       "      <td>F</td>\n",
       "      <td>F</td>\n",
       "    </tr>\n",
       "    <tr>\n",
       "      <th>gives_reason_s</th>\n",
       "      <td>F</td>\n",
       "      <td>F</td>\n",
       "    </tr>\n",
       "    <tr>\n",
       "      <th>presents_evidence</th>\n",
       "      <td>T</td>\n",
       "      <td>T</td>\n",
       "    </tr>\n",
       "    <tr>\n",
       "      <th>asks_question_s</th>\n",
       "      <td>F</td>\n",
       "      <td>T</td>\n",
       "    </tr>\n",
       "    <tr>\n",
       "      <th>provides_information</th>\n",
       "      <td>T</td>\n",
       "      <td>T</td>\n",
       "    </tr>\n",
       "    <tr>\n",
       "      <th>clarifies_position_stance</th>\n",
       "      <td>F</td>\n",
       "      <td>F</td>\n",
       "    </tr>\n",
       "    <tr>\n",
       "      <th>responds_to_previous_comment</th>\n",
       "      <td>F</td>\n",
       "      <td>T</td>\n",
       "    </tr>\n",
       "    <tr>\n",
       "      <th>constructive_tone</th>\n",
       "      <td>T</td>\n",
       "      <td>T</td>\n",
       "    </tr>\n",
       "    <tr>\n",
       "      <th>moderator_post</th>\n",
       "      <td>F</td>\n",
       "      <td>F</td>\n",
       "    </tr>\n",
       "    <tr>\n",
       "      <th>acknowledges_problem</th>\n",
       "      <td>T</td>\n",
       "      <td>F</td>\n",
       "    </tr>\n",
       "  </tbody>\n",
       "</table>\n",
       "</div>"
      ],
      "text/plain": [
       "                             number_of_likes number_of_ideas\n",
       "number_of_likes                          NaN               F\n",
       "number_of_ideas                            F             NaN\n",
       "simple_disagreement                        T               F\n",
       "elaborated_disagreement                    F               F\n",
       "topic_shift                                F               F\n",
       "brainstorming                              F               F\n",
       "blending                                   F               F\n",
       "building                                   F               F\n",
       "broadening                                 T               F\n",
       "fact                                       F               T\n",
       "value                                      T               F\n",
       "policy                                     T               F\n",
       "interpretation                             F               F\n",
       "gives_reason_s                             F               F\n",
       "presents_evidence                          T               T\n",
       "asks_question_s                            F               T\n",
       "provides_information                       T               T\n",
       "clarifies_position_stance                  F               F\n",
       "responds_to_previous_comment               F               T\n",
       "constructive_tone                          T               T\n",
       "moderator_post                             F               F\n",
       "acknowledges_problem                       T               F"
      ]
     },
     "execution_count": 33,
     "metadata": {},
     "output_type": "execute_result"
    }
   ],
   "source": [
    "independence_num_cat"
   ]
  },
  {
   "cell_type": "markdown",
   "metadata": {},
   "source": [
    "`number_of_likes` is independent from"
   ]
  },
  {
   "cell_type": "code",
   "execution_count": 34,
   "metadata": {},
   "outputs": [
    {
     "data": {
      "text/plain": [
       "['simple_disagreement',\n",
       " 'broadening',\n",
       " 'value',\n",
       " 'policy',\n",
       " 'presents_evidence',\n",
       " 'provides_information',\n",
       " 'constructive_tone',\n",
       " 'acknowledges_problem']"
      ]
     },
     "execution_count": 34,
     "metadata": {},
     "output_type": "execute_result"
    }
   ],
   "source": [
    "independence_num_cat_vars['number_of_likes']"
   ]
  },
  {
   "cell_type": "markdown",
   "metadata": {},
   "source": [
    "`number_of_ideas` is independent from"
   ]
  },
  {
   "cell_type": "code",
   "execution_count": 35,
   "metadata": {},
   "outputs": [
    {
     "data": {
      "text/plain": [
       "['fact',\n",
       " 'presents_evidence',\n",
       " 'asks_question_s',\n",
       " 'provides_information',\n",
       " 'responds_to_previous_comment',\n",
       " 'constructive_tone']"
      ]
     },
     "execution_count": 35,
     "metadata": {},
     "output_type": "execute_result"
    }
   ],
   "source": [
    "independence_num_cat_vars['number_of_ideas']"
   ]
  },
  {
   "cell_type": "markdown",
   "metadata": {},
   "source": [
    "### 5. Cast categorical variables to category type"
   ]
  },
  {
   "cell_type": "code",
   "execution_count": 36,
   "metadata": {},
   "outputs": [],
   "source": [
    "for col in rq1_df.columns:\n",
    "    if col not in numerical_predictors:\n",
    "        rq1_df[col] = rq1_df[col].astype('category')"
   ]
  },
  {
   "cell_type": "code",
   "execution_count": 37,
   "metadata": {},
   "outputs": [
    {
     "name": "stdout",
     "output_type": "stream",
     "text": [
      "<class 'pandas.core.frame.DataFrame'>\n",
      "Int64Index: 488 entries, 0 to 489\n",
      "Data columns (total 23 columns):\n",
      " #   Column                        Non-Null Count  Dtype   \n",
      "---  ------                        --------------  -----   \n",
      " 0   number_of_likes               488 non-null    uint8   \n",
      " 1   number_of_ideas               488 non-null    uint16  \n",
      " 2   simple_disagreement           488 non-null    category\n",
      " 3   elaborated_disagreement       488 non-null    category\n",
      " 4   topic_shift                   488 non-null    category\n",
      " 5   brainstorming                 488 non-null    category\n",
      " 6   blending                      488 non-null    category\n",
      " 7   building                      488 non-null    category\n",
      " 8   broadening                    488 non-null    category\n",
      " 9   fact                          488 non-null    category\n",
      " 10  value                         488 non-null    category\n",
      " 11  policy                        488 non-null    category\n",
      " 12  interpretation                488 non-null    category\n",
      " 13  gives_reason_s                488 non-null    category\n",
      " 14  presents_evidence             488 non-null    category\n",
      " 15  asks_question_s               488 non-null    category\n",
      " 16  provides_information          488 non-null    category\n",
      " 17  clarifies_position_stance     488 non-null    category\n",
      " 18  responds_to_previous_comment  488 non-null    category\n",
      " 19  constructive_tone             488 non-null    category\n",
      " 20  moderator_post                488 non-null    category\n",
      " 21  acknowledges_problem          488 non-null    category\n",
      " 22  disagreement                  488 non-null    category\n",
      "dtypes: category(21), uint16(1), uint8(1)\n",
      "memory usage: 17.2 KB\n"
     ]
    }
   ],
   "source": [
    "rq1_df.info()"
   ]
  },
  {
   "cell_type": "markdown",
   "metadata": {},
   "source": [
    "### 6. Check independence of categorial variables"
   ]
  },
  {
   "cell_type": "code",
   "execution_count": 38,
   "metadata": {},
   "outputs": [],
   "source": [
    "independece_analysis = pd.DataFrame(columns=predictors_disagreement, index=predictors_disagreement)\n",
    "for predictor_1 in predictors_disagreement:\n",
    "    if predictor_1 in numerical_predictors:\n",
    "        continue\n",
    "    for predictor_2 in predictors_disagreement:        \n",
    "        if predictor_2 in numerical_predictors:\n",
    "            continue\n",
    "        if predictor_2 == predictor_1:\n",
    "            continue\n",
    "        cross_tab = pd.crosstab(rq1_df[predictor_1],rq1_df[predictor_2])\n",
    "        chi2_stat, p_val, dof, ex = stats.chi2_contingency(cross_tab)\n",
    "        if p_val < alpha_level:\n",
    "            independece_analysis.loc[predictor_1,predictor_2] = 'F'\n",
    "        else:\n",
    "            independece_analysis.loc[predictor_1,predictor_2] = 'T'"
   ]
  },
  {
   "cell_type": "code",
   "execution_count": 39,
   "metadata": {},
   "outputs": [
    {
     "data": {
      "text/html": [
       "<div>\n",
       "<style scoped>\n",
       "    .dataframe tbody tr th:only-of-type {\n",
       "        vertical-align: middle;\n",
       "    }\n",
       "\n",
       "    .dataframe tbody tr th {\n",
       "        vertical-align: top;\n",
       "    }\n",
       "\n",
       "    .dataframe thead th {\n",
       "        text-align: right;\n",
       "    }\n",
       "</style>\n",
       "<table border=\"1\" class=\"dataframe\">\n",
       "  <thead>\n",
       "    <tr style=\"text-align: right;\">\n",
       "      <th></th>\n",
       "      <th>simple_disagreement</th>\n",
       "      <th>elaborated_disagreement</th>\n",
       "      <th>topic_shift</th>\n",
       "      <th>brainstorming</th>\n",
       "      <th>blending</th>\n",
       "      <th>building</th>\n",
       "      <th>broadening</th>\n",
       "      <th>fact</th>\n",
       "      <th>value</th>\n",
       "      <th>policy</th>\n",
       "      <th>interpretation</th>\n",
       "      <th>gives_reason_s</th>\n",
       "      <th>presents_evidence</th>\n",
       "      <th>asks_question_s</th>\n",
       "      <th>provides_information</th>\n",
       "      <th>clarifies_position_stance</th>\n",
       "      <th>responds_to_previous_comment</th>\n",
       "      <th>constructive_tone</th>\n",
       "      <th>moderator_post</th>\n",
       "      <th>acknowledges_problem</th>\n",
       "    </tr>\n",
       "  </thead>\n",
       "  <tbody>\n",
       "    <tr>\n",
       "      <th>simple_disagreement</th>\n",
       "      <td>NaN</td>\n",
       "      <td>F</td>\n",
       "      <td>T</td>\n",
       "      <td>F</td>\n",
       "      <td>T</td>\n",
       "      <td>T</td>\n",
       "      <td>F</td>\n",
       "      <td>T</td>\n",
       "      <td>F</td>\n",
       "      <td>F</td>\n",
       "      <td>T</td>\n",
       "      <td>F</td>\n",
       "      <td>T</td>\n",
       "      <td>T</td>\n",
       "      <td>T</td>\n",
       "      <td>T</td>\n",
       "      <td>T</td>\n",
       "      <td>F</td>\n",
       "      <td>T</td>\n",
       "      <td>F</td>\n",
       "    </tr>\n",
       "    <tr>\n",
       "      <th>elaborated_disagreement</th>\n",
       "      <td>F</td>\n",
       "      <td>NaN</td>\n",
       "      <td>T</td>\n",
       "      <td>F</td>\n",
       "      <td>T</td>\n",
       "      <td>F</td>\n",
       "      <td>T</td>\n",
       "      <td>F</td>\n",
       "      <td>F</td>\n",
       "      <td>F</td>\n",
       "      <td>F</td>\n",
       "      <td>F</td>\n",
       "      <td>F</td>\n",
       "      <td>F</td>\n",
       "      <td>T</td>\n",
       "      <td>F</td>\n",
       "      <td>F</td>\n",
       "      <td>T</td>\n",
       "      <td>F</td>\n",
       "      <td>T</td>\n",
       "    </tr>\n",
       "    <tr>\n",
       "      <th>topic_shift</th>\n",
       "      <td>T</td>\n",
       "      <td>T</td>\n",
       "      <td>NaN</td>\n",
       "      <td>F</td>\n",
       "      <td>T</td>\n",
       "      <td>F</td>\n",
       "      <td>F</td>\n",
       "      <td>T</td>\n",
       "      <td>T</td>\n",
       "      <td>F</td>\n",
       "      <td>T</td>\n",
       "      <td>T</td>\n",
       "      <td>T</td>\n",
       "      <td>T</td>\n",
       "      <td>T</td>\n",
       "      <td>F</td>\n",
       "      <td>F</td>\n",
       "      <td>T</td>\n",
       "      <td>T</td>\n",
       "      <td>T</td>\n",
       "    </tr>\n",
       "    <tr>\n",
       "      <th>brainstorming</th>\n",
       "      <td>F</td>\n",
       "      <td>F</td>\n",
       "      <td>F</td>\n",
       "      <td>NaN</td>\n",
       "      <td>F</td>\n",
       "      <td>T</td>\n",
       "      <td>F</td>\n",
       "      <td>T</td>\n",
       "      <td>T</td>\n",
       "      <td>T</td>\n",
       "      <td>T</td>\n",
       "      <td>F</td>\n",
       "      <td>T</td>\n",
       "      <td>T</td>\n",
       "      <td>T</td>\n",
       "      <td>T</td>\n",
       "      <td>F</td>\n",
       "      <td>F</td>\n",
       "      <td>T</td>\n",
       "      <td>T</td>\n",
       "    </tr>\n",
       "    <tr>\n",
       "      <th>blending</th>\n",
       "      <td>T</td>\n",
       "      <td>T</td>\n",
       "      <td>T</td>\n",
       "      <td>F</td>\n",
       "      <td>NaN</td>\n",
       "      <td>T</td>\n",
       "      <td>T</td>\n",
       "      <td>T</td>\n",
       "      <td>F</td>\n",
       "      <td>F</td>\n",
       "      <td>T</td>\n",
       "      <td>F</td>\n",
       "      <td>T</td>\n",
       "      <td>F</td>\n",
       "      <td>T</td>\n",
       "      <td>T</td>\n",
       "      <td>F</td>\n",
       "      <td>T</td>\n",
       "      <td>T</td>\n",
       "      <td>F</td>\n",
       "    </tr>\n",
       "    <tr>\n",
       "      <th>building</th>\n",
       "      <td>T</td>\n",
       "      <td>F</td>\n",
       "      <td>F</td>\n",
       "      <td>T</td>\n",
       "      <td>T</td>\n",
       "      <td>NaN</td>\n",
       "      <td>T</td>\n",
       "      <td>F</td>\n",
       "      <td>T</td>\n",
       "      <td>F</td>\n",
       "      <td>F</td>\n",
       "      <td>F</td>\n",
       "      <td>F</td>\n",
       "      <td>F</td>\n",
       "      <td>F</td>\n",
       "      <td>F</td>\n",
       "      <td>F</td>\n",
       "      <td>T</td>\n",
       "      <td>F</td>\n",
       "      <td>T</td>\n",
       "    </tr>\n",
       "    <tr>\n",
       "      <th>broadening</th>\n",
       "      <td>F</td>\n",
       "      <td>T</td>\n",
       "      <td>F</td>\n",
       "      <td>F</td>\n",
       "      <td>T</td>\n",
       "      <td>T</td>\n",
       "      <td>NaN</td>\n",
       "      <td>T</td>\n",
       "      <td>F</td>\n",
       "      <td>T</td>\n",
       "      <td>T</td>\n",
       "      <td>F</td>\n",
       "      <td>F</td>\n",
       "      <td>T</td>\n",
       "      <td>F</td>\n",
       "      <td>T</td>\n",
       "      <td>T</td>\n",
       "      <td>T</td>\n",
       "      <td>F</td>\n",
       "      <td>F</td>\n",
       "    </tr>\n",
       "    <tr>\n",
       "      <th>fact</th>\n",
       "      <td>T</td>\n",
       "      <td>F</td>\n",
       "      <td>T</td>\n",
       "      <td>T</td>\n",
       "      <td>T</td>\n",
       "      <td>F</td>\n",
       "      <td>T</td>\n",
       "      <td>NaN</td>\n",
       "      <td>T</td>\n",
       "      <td>T</td>\n",
       "      <td>F</td>\n",
       "      <td>F</td>\n",
       "      <td>F</td>\n",
       "      <td>T</td>\n",
       "      <td>T</td>\n",
       "      <td>F</td>\n",
       "      <td>F</td>\n",
       "      <td>T</td>\n",
       "      <td>T</td>\n",
       "      <td>T</td>\n",
       "    </tr>\n",
       "    <tr>\n",
       "      <th>value</th>\n",
       "      <td>F</td>\n",
       "      <td>F</td>\n",
       "      <td>T</td>\n",
       "      <td>T</td>\n",
       "      <td>F</td>\n",
       "      <td>T</td>\n",
       "      <td>F</td>\n",
       "      <td>T</td>\n",
       "      <td>NaN</td>\n",
       "      <td>F</td>\n",
       "      <td>F</td>\n",
       "      <td>F</td>\n",
       "      <td>F</td>\n",
       "      <td>T</td>\n",
       "      <td>T</td>\n",
       "      <td>T</td>\n",
       "      <td>T</td>\n",
       "      <td>T</td>\n",
       "      <td>T</td>\n",
       "      <td>F</td>\n",
       "    </tr>\n",
       "    <tr>\n",
       "      <th>policy</th>\n",
       "      <td>F</td>\n",
       "      <td>F</td>\n",
       "      <td>F</td>\n",
       "      <td>T</td>\n",
       "      <td>F</td>\n",
       "      <td>F</td>\n",
       "      <td>T</td>\n",
       "      <td>T</td>\n",
       "      <td>F</td>\n",
       "      <td>NaN</td>\n",
       "      <td>T</td>\n",
       "      <td>F</td>\n",
       "      <td>T</td>\n",
       "      <td>T</td>\n",
       "      <td>F</td>\n",
       "      <td>T</td>\n",
       "      <td>F</td>\n",
       "      <td>T</td>\n",
       "      <td>F</td>\n",
       "      <td>F</td>\n",
       "    </tr>\n",
       "    <tr>\n",
       "      <th>interpretation</th>\n",
       "      <td>T</td>\n",
       "      <td>F</td>\n",
       "      <td>T</td>\n",
       "      <td>T</td>\n",
       "      <td>T</td>\n",
       "      <td>F</td>\n",
       "      <td>T</td>\n",
       "      <td>F</td>\n",
       "      <td>F</td>\n",
       "      <td>T</td>\n",
       "      <td>NaN</td>\n",
       "      <td>F</td>\n",
       "      <td>T</td>\n",
       "      <td>T</td>\n",
       "      <td>T</td>\n",
       "      <td>F</td>\n",
       "      <td>F</td>\n",
       "      <td>T</td>\n",
       "      <td>T</td>\n",
       "      <td>T</td>\n",
       "    </tr>\n",
       "    <tr>\n",
       "      <th>gives_reason_s</th>\n",
       "      <td>F</td>\n",
       "      <td>F</td>\n",
       "      <td>T</td>\n",
       "      <td>F</td>\n",
       "      <td>F</td>\n",
       "      <td>F</td>\n",
       "      <td>F</td>\n",
       "      <td>F</td>\n",
       "      <td>F</td>\n",
       "      <td>F</td>\n",
       "      <td>F</td>\n",
       "      <td>NaN</td>\n",
       "      <td>F</td>\n",
       "      <td>F</td>\n",
       "      <td>F</td>\n",
       "      <td>F</td>\n",
       "      <td>T</td>\n",
       "      <td>T</td>\n",
       "      <td>F</td>\n",
       "      <td>F</td>\n",
       "    </tr>\n",
       "    <tr>\n",
       "      <th>presents_evidence</th>\n",
       "      <td>T</td>\n",
       "      <td>F</td>\n",
       "      <td>T</td>\n",
       "      <td>T</td>\n",
       "      <td>T</td>\n",
       "      <td>F</td>\n",
       "      <td>F</td>\n",
       "      <td>F</td>\n",
       "      <td>F</td>\n",
       "      <td>T</td>\n",
       "      <td>T</td>\n",
       "      <td>F</td>\n",
       "      <td>NaN</td>\n",
       "      <td>T</td>\n",
       "      <td>T</td>\n",
       "      <td>T</td>\n",
       "      <td>T</td>\n",
       "      <td>T</td>\n",
       "      <td>T</td>\n",
       "      <td>T</td>\n",
       "    </tr>\n",
       "    <tr>\n",
       "      <th>asks_question_s</th>\n",
       "      <td>T</td>\n",
       "      <td>F</td>\n",
       "      <td>T</td>\n",
       "      <td>T</td>\n",
       "      <td>F</td>\n",
       "      <td>F</td>\n",
       "      <td>T</td>\n",
       "      <td>T</td>\n",
       "      <td>T</td>\n",
       "      <td>T</td>\n",
       "      <td>T</td>\n",
       "      <td>F</td>\n",
       "      <td>T</td>\n",
       "      <td>NaN</td>\n",
       "      <td>T</td>\n",
       "      <td>F</td>\n",
       "      <td>T</td>\n",
       "      <td>T</td>\n",
       "      <td>T</td>\n",
       "      <td>F</td>\n",
       "    </tr>\n",
       "    <tr>\n",
       "      <th>provides_information</th>\n",
       "      <td>T</td>\n",
       "      <td>T</td>\n",
       "      <td>T</td>\n",
       "      <td>T</td>\n",
       "      <td>T</td>\n",
       "      <td>F</td>\n",
       "      <td>F</td>\n",
       "      <td>T</td>\n",
       "      <td>T</td>\n",
       "      <td>F</td>\n",
       "      <td>T</td>\n",
       "      <td>F</td>\n",
       "      <td>T</td>\n",
       "      <td>T</td>\n",
       "      <td>NaN</td>\n",
       "      <td>T</td>\n",
       "      <td>T</td>\n",
       "      <td>T</td>\n",
       "      <td>F</td>\n",
       "      <td>T</td>\n",
       "    </tr>\n",
       "    <tr>\n",
       "      <th>clarifies_position_stance</th>\n",
       "      <td>T</td>\n",
       "      <td>F</td>\n",
       "      <td>F</td>\n",
       "      <td>T</td>\n",
       "      <td>T</td>\n",
       "      <td>F</td>\n",
       "      <td>T</td>\n",
       "      <td>F</td>\n",
       "      <td>T</td>\n",
       "      <td>T</td>\n",
       "      <td>F</td>\n",
       "      <td>F</td>\n",
       "      <td>T</td>\n",
       "      <td>F</td>\n",
       "      <td>T</td>\n",
       "      <td>NaN</td>\n",
       "      <td>F</td>\n",
       "      <td>T</td>\n",
       "      <td>T</td>\n",
       "      <td>T</td>\n",
       "    </tr>\n",
       "    <tr>\n",
       "      <th>responds_to_previous_comment</th>\n",
       "      <td>T</td>\n",
       "      <td>F</td>\n",
       "      <td>F</td>\n",
       "      <td>F</td>\n",
       "      <td>F</td>\n",
       "      <td>F</td>\n",
       "      <td>T</td>\n",
       "      <td>F</td>\n",
       "      <td>T</td>\n",
       "      <td>F</td>\n",
       "      <td>F</td>\n",
       "      <td>T</td>\n",
       "      <td>T</td>\n",
       "      <td>T</td>\n",
       "      <td>T</td>\n",
       "      <td>F</td>\n",
       "      <td>NaN</td>\n",
       "      <td>T</td>\n",
       "      <td>F</td>\n",
       "      <td>F</td>\n",
       "    </tr>\n",
       "    <tr>\n",
       "      <th>constructive_tone</th>\n",
       "      <td>F</td>\n",
       "      <td>T</td>\n",
       "      <td>T</td>\n",
       "      <td>F</td>\n",
       "      <td>T</td>\n",
       "      <td>T</td>\n",
       "      <td>T</td>\n",
       "      <td>T</td>\n",
       "      <td>T</td>\n",
       "      <td>T</td>\n",
       "      <td>T</td>\n",
       "      <td>T</td>\n",
       "      <td>T</td>\n",
       "      <td>T</td>\n",
       "      <td>T</td>\n",
       "      <td>T</td>\n",
       "      <td>T</td>\n",
       "      <td>NaN</td>\n",
       "      <td>T</td>\n",
       "      <td>T</td>\n",
       "    </tr>\n",
       "    <tr>\n",
       "      <th>moderator_post</th>\n",
       "      <td>T</td>\n",
       "      <td>F</td>\n",
       "      <td>T</td>\n",
       "      <td>T</td>\n",
       "      <td>T</td>\n",
       "      <td>F</td>\n",
       "      <td>F</td>\n",
       "      <td>T</td>\n",
       "      <td>T</td>\n",
       "      <td>F</td>\n",
       "      <td>T</td>\n",
       "      <td>F</td>\n",
       "      <td>T</td>\n",
       "      <td>T</td>\n",
       "      <td>F</td>\n",
       "      <td>T</td>\n",
       "      <td>F</td>\n",
       "      <td>T</td>\n",
       "      <td>NaN</td>\n",
       "      <td>T</td>\n",
       "    </tr>\n",
       "    <tr>\n",
       "      <th>acknowledges_problem</th>\n",
       "      <td>F</td>\n",
       "      <td>T</td>\n",
       "      <td>T</td>\n",
       "      <td>T</td>\n",
       "      <td>F</td>\n",
       "      <td>T</td>\n",
       "      <td>F</td>\n",
       "      <td>T</td>\n",
       "      <td>F</td>\n",
       "      <td>F</td>\n",
       "      <td>T</td>\n",
       "      <td>F</td>\n",
       "      <td>T</td>\n",
       "      <td>F</td>\n",
       "      <td>T</td>\n",
       "      <td>T</td>\n",
       "      <td>F</td>\n",
       "      <td>T</td>\n",
       "      <td>T</td>\n",
       "      <td>NaN</td>\n",
       "    </tr>\n",
       "  </tbody>\n",
       "</table>\n",
       "</div>"
      ],
      "text/plain": [
       "                             simple_disagreement elaborated_disagreement  \\\n",
       "simple_disagreement                          NaN                       F   \n",
       "elaborated_disagreement                        F                     NaN   \n",
       "topic_shift                                    T                       T   \n",
       "brainstorming                                  F                       F   \n",
       "blending                                       T                       T   \n",
       "building                                       T                       F   \n",
       "broadening                                     F                       T   \n",
       "fact                                           T                       F   \n",
       "value                                          F                       F   \n",
       "policy                                         F                       F   \n",
       "interpretation                                 T                       F   \n",
       "gives_reason_s                                 F                       F   \n",
       "presents_evidence                              T                       F   \n",
       "asks_question_s                                T                       F   \n",
       "provides_information                           T                       T   \n",
       "clarifies_position_stance                      T                       F   \n",
       "responds_to_previous_comment                   T                       F   \n",
       "constructive_tone                              F                       T   \n",
       "moderator_post                                 T                       F   \n",
       "acknowledges_problem                           F                       T   \n",
       "\n",
       "                             topic_shift brainstorming blending building  \\\n",
       "simple_disagreement                    T             F        T        T   \n",
       "elaborated_disagreement                T             F        T        F   \n",
       "topic_shift                          NaN             F        T        F   \n",
       "brainstorming                          F           NaN        F        T   \n",
       "blending                               T             F      NaN        T   \n",
       "building                               F             T        T      NaN   \n",
       "broadening                             F             F        T        T   \n",
       "fact                                   T             T        T        F   \n",
       "value                                  T             T        F        T   \n",
       "policy                                 F             T        F        F   \n",
       "interpretation                         T             T        T        F   \n",
       "gives_reason_s                         T             F        F        F   \n",
       "presents_evidence                      T             T        T        F   \n",
       "asks_question_s                        T             T        F        F   \n",
       "provides_information                   T             T        T        F   \n",
       "clarifies_position_stance              F             T        T        F   \n",
       "responds_to_previous_comment           F             F        F        F   \n",
       "constructive_tone                      T             F        T        T   \n",
       "moderator_post                         T             T        T        F   \n",
       "acknowledges_problem                   T             T        F        T   \n",
       "\n",
       "                             broadening fact value policy interpretation  \\\n",
       "simple_disagreement                   F    T     F      F              T   \n",
       "elaborated_disagreement               T    F     F      F              F   \n",
       "topic_shift                           F    T     T      F              T   \n",
       "brainstorming                         F    T     T      T              T   \n",
       "blending                              T    T     F      F              T   \n",
       "building                              T    F     T      F              F   \n",
       "broadening                          NaN    T     F      T              T   \n",
       "fact                                  T  NaN     T      T              F   \n",
       "value                                 F    T   NaN      F              F   \n",
       "policy                                T    T     F    NaN              T   \n",
       "interpretation                        T    F     F      T            NaN   \n",
       "gives_reason_s                        F    F     F      F              F   \n",
       "presents_evidence                     F    F     F      T              T   \n",
       "asks_question_s                       T    T     T      T              T   \n",
       "provides_information                  F    T     T      F              T   \n",
       "clarifies_position_stance             T    F     T      T              F   \n",
       "responds_to_previous_comment          T    F     T      F              F   \n",
       "constructive_tone                     T    T     T      T              T   \n",
       "moderator_post                        F    T     T      F              T   \n",
       "acknowledges_problem                  F    T     F      F              T   \n",
       "\n",
       "                             gives_reason_s presents_evidence asks_question_s  \\\n",
       "simple_disagreement                       F                 T               T   \n",
       "elaborated_disagreement                   F                 F               F   \n",
       "topic_shift                               T                 T               T   \n",
       "brainstorming                             F                 T               T   \n",
       "blending                                  F                 T               F   \n",
       "building                                  F                 F               F   \n",
       "broadening                                F                 F               T   \n",
       "fact                                      F                 F               T   \n",
       "value                                     F                 F               T   \n",
       "policy                                    F                 T               T   \n",
       "interpretation                            F                 T               T   \n",
       "gives_reason_s                          NaN                 F               F   \n",
       "presents_evidence                         F               NaN               T   \n",
       "asks_question_s                           F                 T             NaN   \n",
       "provides_information                      F                 T               T   \n",
       "clarifies_position_stance                 F                 T               F   \n",
       "responds_to_previous_comment              T                 T               T   \n",
       "constructive_tone                         T                 T               T   \n",
       "moderator_post                            F                 T               T   \n",
       "acknowledges_problem                      F                 T               F   \n",
       "\n",
       "                             provides_information clarifies_position_stance  \\\n",
       "simple_disagreement                             T                         T   \n",
       "elaborated_disagreement                         T                         F   \n",
       "topic_shift                                     T                         F   \n",
       "brainstorming                                   T                         T   \n",
       "blending                                        T                         T   \n",
       "building                                        F                         F   \n",
       "broadening                                      F                         T   \n",
       "fact                                            T                         F   \n",
       "value                                           T                         T   \n",
       "policy                                          F                         T   \n",
       "interpretation                                  T                         F   \n",
       "gives_reason_s                                  F                         F   \n",
       "presents_evidence                               T                         T   \n",
       "asks_question_s                                 T                         F   \n",
       "provides_information                          NaN                         T   \n",
       "clarifies_position_stance                       T                       NaN   \n",
       "responds_to_previous_comment                    T                         F   \n",
       "constructive_tone                               T                         T   \n",
       "moderator_post                                  F                         T   \n",
       "acknowledges_problem                            T                         T   \n",
       "\n",
       "                             responds_to_previous_comment constructive_tone  \\\n",
       "simple_disagreement                                     T                 F   \n",
       "elaborated_disagreement                                 F                 T   \n",
       "topic_shift                                             F                 T   \n",
       "brainstorming                                           F                 F   \n",
       "blending                                                F                 T   \n",
       "building                                                F                 T   \n",
       "broadening                                              T                 T   \n",
       "fact                                                    F                 T   \n",
       "value                                                   T                 T   \n",
       "policy                                                  F                 T   \n",
       "interpretation                                          F                 T   \n",
       "gives_reason_s                                          T                 T   \n",
       "presents_evidence                                       T                 T   \n",
       "asks_question_s                                         T                 T   \n",
       "provides_information                                    T                 T   \n",
       "clarifies_position_stance                               F                 T   \n",
       "responds_to_previous_comment                          NaN                 T   \n",
       "constructive_tone                                       T               NaN   \n",
       "moderator_post                                          F                 T   \n",
       "acknowledges_problem                                    F                 T   \n",
       "\n",
       "                             moderator_post acknowledges_problem  \n",
       "simple_disagreement                       T                    F  \n",
       "elaborated_disagreement                   F                    T  \n",
       "topic_shift                               T                    T  \n",
       "brainstorming                             T                    T  \n",
       "blending                                  T                    F  \n",
       "building                                  F                    T  \n",
       "broadening                                F                    F  \n",
       "fact                                      T                    T  \n",
       "value                                     T                    F  \n",
       "policy                                    F                    F  \n",
       "interpretation                            T                    T  \n",
       "gives_reason_s                            F                    F  \n",
       "presents_evidence                         T                    T  \n",
       "asks_question_s                           T                    F  \n",
       "provides_information                      F                    T  \n",
       "clarifies_position_stance                 T                    T  \n",
       "responds_to_previous_comment              F                    F  \n",
       "constructive_tone                         T                    T  \n",
       "moderator_post                          NaN                    T  \n",
       "acknowledges_problem                      T                  NaN  "
      ]
     },
     "execution_count": 39,
     "metadata": {},
     "output_type": "execute_result"
    }
   ],
   "source": [
    "independece_analysis.drop(columns=numerical_predictors, index=numerical_predictors, inplace=True)\n",
    "independece_analysis"
   ]
  },
  {
   "cell_type": "markdown",
   "metadata": {},
   "source": [
    "### 7. Fit models based on independent predictors"
   ]
  },
  {
   "cell_type": "markdown",
   "metadata": {},
   "source": [
    "Based on the previous analysis of independencie between categorical variables, predictors will be selected."
   ]
  },
  {
   "cell_type": "code",
   "execution_count": 40,
   "metadata": {},
   "outputs": [],
   "source": [
    "possible_models = [None]*len(independece_analysis.columns)\n",
    "idx = 0\n",
    "for col in independece_analysis.columns:\n",
    "    possible_models[idx] = [col]\n",
    "    for row in independece_analysis.index:\n",
    "        if independece_analysis.loc[row, col] == 'T':\n",
    "            possible_models[idx].append(row)\n",
    "    # Add independent numerical variables\n",
    "    for num_var, ind_cat_vars in independence_num_cat_vars.items():        \n",
    "        if col in ind_cat_vars:\n",
    "            possible_models[idx].append(num_var)\n",
    "            # After adding a numerical variable to the model\n",
    "            # we break loop because both numerical variables \n",
    "            # cannot be together in a model since they are\n",
    "            # not independent\n",
    "            break\n",
    "    idx += 1"
   ]
  },
  {
   "cell_type": "code",
   "execution_count": 41,
   "metadata": {},
   "outputs": [
    {
     "name": "stdout",
     "output_type": "stream",
     "text": [
      "There are 20 possible models\n"
     ]
    }
   ],
   "source": [
    "print(f'There are {len(possible_models)} possible models')"
   ]
  },
  {
   "cell_type": "markdown",
   "metadata": {},
   "source": [
    "Create formulas for the possible models"
   ]
  },
  {
   "cell_type": "code",
   "execution_count": 51,
   "metadata": {},
   "outputs": [],
   "source": [
    "models = []\n",
    "for possible_model in possible_models:\n",
    "    formula = f'disagreement ~ '\n",
    "    num_predictors = len(possible_model)\n",
    "    for idx, predictor in enumerate(possible_model):\n",
    "        if predictor not in numerical_predictors:\n",
    "            formula += f' C({predictor})'\n",
    "        else:\n",
    "            formula += f' {predictor}'\n",
    "        if idx < (len(possible_model)-1):\n",
    "            formula += ' + '\n",
    "    models.append({'formula': formula, 'num_predictors': num_predictors, 'predictors': possible_model})"
   ]
  },
  {
   "cell_type": "markdown",
   "metadata": {},
   "source": [
    "#### Fit models"
   ]
  },
  {
   "cell_type": "code",
   "execution_count": 52,
   "metadata": {},
   "outputs": [
    {
     "name": "stdout",
     "output_type": "stream",
     "text": [
      "Error: Perfect separation detected, results not available.\n",
      "\n",
      "Model:\n",
      "disagreement ~  C(provides_information) +  C(simple_disagreement) +  C(elaborated_disagreement) +  C(topic_shift) +  C(brainstorming) +  C(blending) +  C(fact) +  C(value) +  C(interpretation) +  C(presents_evidence) +  C(asks_question_s) +  C(clarifies_position_stance) +  C(responds_to_previous_comment) +  C(constructive_tone) +  C(acknowledges_problem) +  number_of_likes\n",
      "\n"
     ]
    }
   ],
   "source": [
    "idx_not_fitted_models = []\n",
    "for idx, model_dict in enumerate(models):\n",
    "    try:\n",
    "        formula = model_dict['formula']\n",
    "        model = glm(formula, data = rq1_df, family = sm.families.Binomial()).fit()\n",
    "        model_dict['model'] = model\n",
    "        model_dict['deviance'] = model.deviance\n",
    "        model_dict['log_likelihood'] = model.llf \n",
    "        #models.append(model)\n",
    "    except Exception as e:\n",
    "        idx_not_fitted_models.append(idx)\n",
    "        print(f'Error: {e}.\\n\\nModel:\\n{formula}')\n",
    "        print()"
   ]
  },
  {
   "cell_type": "markdown",
   "metadata": {},
   "source": [
    "The perfect separation error happens when all values in one of the predictor categories are associated with only one of the binary outcome, see [here](https://stackoverflow.com/questions/53041669/error-perfectseparationerror-perfect-separation-detected-results-not-availab). A possible solution, which is executed below, is to drop predictors one by one and try if the resulting model can be fitted."
   ]
  },
  {
   "cell_type": "code",
   "execution_count": 53,
   "metadata": {},
   "outputs": [
    {
     "name": "stdout",
     "output_type": "stream",
     "text": [
      "Variable simple_disagreement has been removed from the predictors list and the model could be fitted.\n",
      "\n",
      "Variable elaborated_disagreement has been removed from the predictors list and the model could be fitted.\n",
      "\n",
      "Variable value has been removed from the predictors list and the model could be fitted.\n",
      "\n",
      "Variable number_of_likes has been removed from the predictors list and the model could be fitted.\n",
      "\n"
     ]
    }
   ],
   "source": [
    "updated_models = []\n",
    "for idx_not_fitted_model in idx_not_fitted_models:\n",
    "    predictors = possible_models[idx_not_fitted_model].copy()\n",
    "    for predictor in predictors:\n",
    "        ind_vars = possible_models[idx_not_fitted_model].copy()        \n",
    "        ind_vars.remove(predictor)\n",
    "        formula = 'disagreement ~ '\n",
    "        for idx, ind_var in enumerate(ind_vars):\n",
    "            if ind_var not in numerical_predictors:\n",
    "                formula += f' C({ind_var})'\n",
    "            else:\n",
    "                formula += f' {ind_var}'\n",
    "            if idx < (len(ind_vars)-1):\n",
    "                formula += ' + '\n",
    "        try:\n",
    "            model = glm(formula, data = rq1_df, family = sm.families.Binomial()).fit()\n",
    "            print(f'Variable {predictor} has been removed from the predictors list and the model could be fitted.\\n')\n",
    "            updated_models.append(\n",
    "                {\n",
    "                    'formula': formula, \n",
    "                    'model': model, \n",
    "                    'num_predictors': len(ind_vars),\n",
    "                    'predictors': ind_vars,\n",
    "                    'deviance': model.deviance,\n",
    "                    'log_likelihood': model.llf\n",
    "                }\n",
    "            )\n",
    "        except:\n",
    "            pass"
   ]
  },
  {
   "cell_type": "code",
   "execution_count": 54,
   "metadata": {},
   "outputs": [
    {
     "name": "stdout",
     "output_type": "stream",
     "text": [
      "4 new models could be fitted\n"
     ]
    }
   ],
   "source": [
    "print(f'{len(updated_models)} new models could be fitted')"
   ]
  },
  {
   "cell_type": "markdown",
   "metadata": {},
   "source": [
    "Update list of fitted models"
   ]
  },
  {
   "cell_type": "code",
   "execution_count": 55,
   "metadata": {},
   "outputs": [],
   "source": [
    "models.extend(updated_models)"
   ]
  },
  {
   "cell_type": "markdown",
   "metadata": {},
   "source": [
    "### 8. Select the best model"
   ]
  },
  {
   "cell_type": "markdown",
   "metadata": {},
   "source": [
    "Selection is based on the goodness of fit. `Deviance`, which is measuse of error of fit, is used to evaluate models fit. The lower the deviance the better the model fits the data. "
   ]
  },
  {
   "cell_type": "code",
   "execution_count": 104,
   "metadata": {},
   "outputs": [],
   "source": [
    "min_dev = 1000000\n",
    "best_models = []\n",
    "for model in models:\n",
    "    if 'deviance' in model and model['deviance'] < min_dev:\n",
    "        min_dev = model['deviance']\n",
    "        best_models = [model]\n",
    "    elif 'deviance' in model and model['deviance'] == min_dev:\n",
    "        best_models.append(model)"
   ]
  },
  {
   "cell_type": "code",
   "execution_count": 105,
   "metadata": {},
   "outputs": [
    {
     "name": "stdout",
     "output_type": "stream",
     "text": [
      "There are 1 best model(s)\n"
     ]
    }
   ],
   "source": [
    "print(f\"There are {len(best_models)} best model(s)\")"
   ]
  },
  {
   "cell_type": "markdown",
   "metadata": {},
   "source": [
    "**Best model**"
   ]
  },
  {
   "cell_type": "code",
   "execution_count": 106,
   "metadata": {},
   "outputs": [
    {
     "data": {
      "text/html": [
       "<table class=\"simpletable\">\n",
       "<caption>Generalized Linear Model Regression Results</caption>\n",
       "<tr>\n",
       "  <th>Dep. Variable:</th>   <td>['disagreement[0]', 'disagreement[1]']</td> <th>  No. Observations:  </th>  <td>   488</td> \n",
       "</tr>\n",
       "<tr>\n",
       "  <th>Model:</th>                             <td>GLM</td>                  <th>  Df Residuals:      </th>  <td>   475</td> \n",
       "</tr>\n",
       "<tr>\n",
       "  <th>Model Family:</th>                   <td>Binomial</td>                <th>  Df Model:          </th>  <td>    12</td> \n",
       "</tr>\n",
       "<tr>\n",
       "  <th>Link Function:</th>                    <td>logit</td>                 <th>  Scale:             </th> <td>  1.0000</td>\n",
       "</tr>\n",
       "<tr>\n",
       "  <th>Method:</th>                           <td>IRLS</td>                  <th>  Log-Likelihood:    </th> <td> -41.132</td>\n",
       "</tr>\n",
       "<tr>\n",
       "  <th>Date:</th>                       <td>Fri, 17 Jul 2020</td>            <th>  Deviance:          </th> <td>  82.263</td>\n",
       "</tr>\n",
       "<tr>\n",
       "  <th>Time:</th>                           <td>10:49:03</td>                <th>  Pearson chi2:      </th>  <td>  315.</td> \n",
       "</tr>\n",
       "<tr>\n",
       "  <th>No. Iterations:</th>                     <td>9</td>                   <th>                     </th>     <td> </td>   \n",
       "</tr>\n",
       "<tr>\n",
       "  <th>Covariance Type:</th>                <td>nonrobust</td>               <th>                     </th>     <td> </td>   \n",
       "</tr>\n",
       "</table>\n",
       "<table class=\"simpletable\">\n",
       "<tr>\n",
       "                    <td></td>                      <th>coef</th>     <th>std err</th>      <th>z</th>      <th>P>|z|</th>  <th>[0.025</th>    <th>0.975]</th>  \n",
       "</tr>\n",
       "<tr>\n",
       "  <th>Intercept</th>                            <td>    1.2262</td> <td>    1.246</td> <td>    0.984</td> <td> 0.325</td> <td>   -1.215</td> <td>    3.668</td>\n",
       "</tr>\n",
       "<tr>\n",
       "  <th>C(broadening)[T.1]</th>                   <td>    3.5808</td> <td>    1.327</td> <td>    2.699</td> <td> 0.007</td> <td>    0.980</td> <td>    6.182</td>\n",
       "</tr>\n",
       "<tr>\n",
       "  <th>C(elaborated_disagreement)[T.1]</th>      <td>  -10.0362</td> <td>    1.739</td> <td>   -5.771</td> <td> 0.000</td> <td>  -13.445</td> <td>   -6.627</td>\n",
       "</tr>\n",
       "<tr>\n",
       "  <th>C(blending)[T.1]</th>                     <td>    2.3335</td> <td>    0.896</td> <td>    2.603</td> <td> 0.009</td> <td>    0.577</td> <td>    4.090</td>\n",
       "</tr>\n",
       "<tr>\n",
       "  <th>C(building)[T.1]</th>                     <td>   -4.6833</td> <td>    0.955</td> <td>   -4.902</td> <td> 0.000</td> <td>   -6.556</td> <td>   -2.811</td>\n",
       "</tr>\n",
       "<tr>\n",
       "  <th>C(fact)[T.1]</th>                         <td>    0.4740</td> <td>    1.004</td> <td>    0.472</td> <td> 0.637</td> <td>   -1.495</td> <td>    2.443</td>\n",
       "</tr>\n",
       "<tr>\n",
       "  <th>C(policy)[T.1]</th>                       <td>   -4.9299</td> <td>    1.392</td> <td>   -3.542</td> <td> 0.000</td> <td>   -7.658</td> <td>   -2.202</td>\n",
       "</tr>\n",
       "<tr>\n",
       "  <th>C(interpretation)[T.1]</th>               <td>    0.7207</td> <td>    0.952</td> <td>    0.757</td> <td> 0.449</td> <td>   -1.146</td> <td>    2.587</td>\n",
       "</tr>\n",
       "<tr>\n",
       "  <th>C(asks_question_s)[T.1]</th>              <td>    0.6177</td> <td>    1.023</td> <td>    0.604</td> <td> 0.546</td> <td>   -1.388</td> <td>    2.624</td>\n",
       "</tr>\n",
       "<tr>\n",
       "  <th>C(clarifies_position_stance)[T.1]</th>    <td>    2.5304</td> <td>    1.206</td> <td>    2.098</td> <td> 0.036</td> <td>    0.167</td> <td>    4.894</td>\n",
       "</tr>\n",
       "<tr>\n",
       "  <th>C(responds_to_previous_comment)[T.1]</th> <td>    0.0267</td> <td>    0.857</td> <td>    0.031</td> <td> 0.975</td> <td>   -1.654</td> <td>    1.707</td>\n",
       "</tr>\n",
       "<tr>\n",
       "  <th>C(constructive_tone)[T.1]</th>            <td>    6.1215</td> <td>    1.672</td> <td>    3.661</td> <td> 0.000</td> <td>    2.844</td> <td>    9.399</td>\n",
       "</tr>\n",
       "<tr>\n",
       "  <th>number_of_likes</th>                      <td>    0.1627</td> <td>    0.171</td> <td>    0.954</td> <td> 0.340</td> <td>   -0.172</td> <td>    0.497</td>\n",
       "</tr>\n",
       "</table>"
      ],
      "text/plain": [
       "<class 'statsmodels.iolib.summary.Summary'>\n",
       "\"\"\"\n",
       "                           Generalized Linear Model Regression Results                            \n",
       "==================================================================================================\n",
       "Dep. Variable:     ['disagreement[0]', 'disagreement[1]']   No. Observations:                  488\n",
       "Model:                                                GLM   Df Residuals:                      475\n",
       "Model Family:                                    Binomial   Df Model:                           12\n",
       "Link Function:                                      logit   Scale:                          1.0000\n",
       "Method:                                              IRLS   Log-Likelihood:                -41.132\n",
       "Date:                                    Fri, 17 Jul 2020   Deviance:                       82.263\n",
       "Time:                                            10:49:03   Pearson chi2:                     315.\n",
       "No. Iterations:                                         9                                         \n",
       "Covariance Type:                                nonrobust                                         \n",
       "========================================================================================================\n",
       "                                           coef    std err          z      P>|z|      [0.025      0.975]\n",
       "--------------------------------------------------------------------------------------------------------\n",
       "Intercept                                1.2262      1.246      0.984      0.325      -1.215       3.668\n",
       "C(broadening)[T.1]                       3.5808      1.327      2.699      0.007       0.980       6.182\n",
       "C(elaborated_disagreement)[T.1]        -10.0362      1.739     -5.771      0.000     -13.445      -6.627\n",
       "C(blending)[T.1]                         2.3335      0.896      2.603      0.009       0.577       4.090\n",
       "C(building)[T.1]                        -4.6833      0.955     -4.902      0.000      -6.556      -2.811\n",
       "C(fact)[T.1]                             0.4740      1.004      0.472      0.637      -1.495       2.443\n",
       "C(policy)[T.1]                          -4.9299      1.392     -3.542      0.000      -7.658      -2.202\n",
       "C(interpretation)[T.1]                   0.7207      0.952      0.757      0.449      -1.146       2.587\n",
       "C(asks_question_s)[T.1]                  0.6177      1.023      0.604      0.546      -1.388       2.624\n",
       "C(clarifies_position_stance)[T.1]        2.5304      1.206      2.098      0.036       0.167       4.894\n",
       "C(responds_to_previous_comment)[T.1]     0.0267      0.857      0.031      0.975      -1.654       1.707\n",
       "C(constructive_tone)[T.1]                6.1215      1.672      3.661      0.000       2.844       9.399\n",
       "number_of_likes                          0.1627      0.171      0.954      0.340      -0.172       0.497\n",
       "========================================================================================================\n",
       "\"\"\""
      ]
     },
     "execution_count": 106,
     "metadata": {},
     "output_type": "execute_result"
    }
   ],
   "source": [
    "best_models[0]['model'].summary()"
   ]
  },
  {
   "cell_type": "markdown",
   "metadata": {},
   "source": [
    "Predictors `broadening`, `elaborated disagreement`, `blending`, `bulding`, `policy`, `clarifies position stance`, and `constructive tone` have a statistical significant effect on `disagreement`. The rest of the predictors (i.e., fact, interpretation, asks questions, clarifies position, constructive tone, and number of likes) do not influence significantly in the presence of disagreement in discussions."
   ]
  },
  {
   "cell_type": "markdown",
   "metadata": {},
   "source": [
    "**Interpretation of predictors' effect**"
   ]
  },
  {
   "cell_type": "code",
   "execution_count": 107,
   "metadata": {},
   "outputs": [
    {
     "data": {
      "text/plain": [
       "Intercept                                1.226194\n",
       "C(broadening)[T.1]                       3.580829\n",
       "C(elaborated_disagreement)[T.1]        -10.036193\n",
       "C(blending)[T.1]                         2.333453\n",
       "C(building)[T.1]                        -4.683274\n",
       "C(fact)[T.1]                             0.473982\n",
       "C(policy)[T.1]                          -4.929909\n",
       "C(interpretation)[T.1]                   0.720706\n",
       "C(asks_question_s)[T.1]                  0.617669\n",
       "C(clarifies_position_stance)[T.1]        2.530369\n",
       "C(responds_to_previous_comment)[T.1]     0.026706\n",
       "C(constructive_tone)[T.1]                6.121526\n",
       "number_of_likes                          0.162680\n",
       "dtype: float64"
      ]
     },
     "execution_count": 107,
     "metadata": {},
     "output_type": "execute_result"
    }
   ],
   "source": [
    "best_models[0]['model'].params"
   ]
  },
  {
   "cell_type": "code",
   "execution_count": 108,
   "metadata": {},
   "outputs": [],
   "source": [
    "# Convert from log odds to odds (only significant predictors are converted)\n",
    "broadening = np.exp(best_models[0]['model'].params[1])\n",
    "elaborated_disagreement = np.exp(best_models[0]['model'].params[2])\n",
    "blending = np.exp(best_models[0]['model'].params[3])\n",
    "building = np.exp(best_models[0]['model'].params[4])\n",
    "policy = np.exp(best_models[0]['model'].params[6])\n",
    "clarifies = np.exp(best_models[0]['model'].params[9])\n",
    "constructive = np.exp(best_models[0]['model'].params[11])"
   ]
  },
  {
   "cell_type": "markdown",
   "metadata": {},
   "source": [
    "Broadening"
   ]
  },
  {
   "cell_type": "code",
   "execution_count": 109,
   "metadata": {},
   "outputs": [
    {
     "name": "stdout",
     "output_type": "stream",
     "text": [
      "The odds that disagreement appears in a discussion where there is diversity of perspectives (broadening) are 35.9 times the odds that disagreement appears in a discussion without diverse perspectives\n"
     ]
    }
   ],
   "source": [
    "print(f\"The odds that disagreement appears in a discussion where there is diversity of perspectives \"\\\n",
    "      f\"(broadening) are {round(broadening,2)} times the odds that disagreement appears in a discussion \"\\\n",
    "      f\"without diverse perspectives\")"
   ]
  },
  {
   "cell_type": "markdown",
   "metadata": {},
   "source": [
    "Elaborated Disagreement"
   ]
  },
  {
   "cell_type": "code",
   "execution_count": 125,
   "metadata": {},
   "outputs": [
    {
     "name": "stdout",
     "output_type": "stream",
     "text": [
      "The odds that disagreement appears in a discussion with elaborated disagreement are 0.0 times the odds that disagreement appears in a discussion without elaborated disagreement.\n"
     ]
    }
   ],
   "source": [
    "print(f\"The odds that disagreement appears in a discussion with elaborated disagreement are \"\\\n",
    "      f\"{round(elaborated_disagreement,4)} times the odds that disagreement appears in a \"\\\n",
    "      f\"discussion without elaborated disagreement.\")"
   ]
  },
  {
   "cell_type": "markdown",
   "metadata": {},
   "source": [
    "Blending"
   ]
  },
  {
   "cell_type": "code",
   "execution_count": 111,
   "metadata": {},
   "outputs": [
    {
     "name": "stdout",
     "output_type": "stream",
     "text": [
      "The odds that disagreement appears in a discussion where diverse ideas are integrated (blending) are 10.31 times the odds that disagreement appears in a discussion without the integration of diverse ideas.\n"
     ]
    }
   ],
   "source": [
    "print(f\"The odds that disagreement appears in a discussion where diverse ideas are integrated (blending)\"\\\n",
    "      f\" are {round(blending,2)} times the odds that disagreement appears in a discussion without the \"\\\n",
    "      f\"integration of diverse ideas.\")"
   ]
  },
  {
   "cell_type": "markdown",
   "metadata": {},
   "source": [
    "Building"
   ]
  },
  {
   "cell_type": "code",
   "execution_count": 112,
   "metadata": {},
   "outputs": [
    {
     "name": "stdout",
     "output_type": "stream",
     "text": [
      "The odds that disagreement appears in a discussion where participants build upon others' ideas are 0.01 times the odds that disagreement appears in a discussion without building.\n"
     ]
    }
   ],
   "source": [
    "print(f\"The odds that disagreement appears in a discussion where participants build upon others' ideas \"\\\n",
    "      f\"are {round(building,2)} times the odds that disagreement appears in a discussion without building.\")"
   ]
  },
  {
   "cell_type": "markdown",
   "metadata": {},
   "source": [
    "Policy"
   ]
  },
  {
   "cell_type": "code",
   "execution_count": 113,
   "metadata": {},
   "outputs": [
    {
     "name": "stdout",
     "output_type": "stream",
     "text": [
      "The odds that disagreement appears in a discussion that includes exchange of comments about policies are 0.01 times the odds that disagreement appears in a discussion without exchange of comments about policies.\n"
     ]
    }
   ],
   "source": [
    "print(f\"The odds that disagreement appears in a discussion that includes exchange of comments about policies are \"\\\n",
    "      f\"{round(policy,2)} times the odds that disagreement appears in a discussion without exchange of \"\\\n",
    "      f\"comments about policies.\")"
   ]
  },
  {
   "cell_type": "markdown",
   "metadata": {},
   "source": [
    "Clarifies"
   ]
  },
  {
   "cell_type": "code",
   "execution_count": 114,
   "metadata": {},
   "outputs": [
    {
     "name": "stdout",
     "output_type": "stream",
     "text": [
      "The odds that disagreement appears in a discussion in which commenter clarified o elaborated on a position are 12.56 times the odds that disagreement appears in a discussion without clarifications.\n"
     ]
    }
   ],
   "source": [
    "print(f\"The odds that disagreement appears in a discussion in which commenter clarified o elaborated on a \" \\\n",
    "      f\"position are {round(clarifies,2)} times the odds that disagreement appears in a discussion without \" \\\n",
    "      f\"clarifications.\")"
   ]
  },
  {
   "cell_type": "markdown",
   "metadata": {},
   "source": [
    "Constructive Tone"
   ]
  },
  {
   "cell_type": "code",
   "execution_count": 123,
   "metadata": {},
   "outputs": [
    {
     "name": "stdout",
     "output_type": "stream",
     "text": [
      "The odds that disagreement appears in a discussion with constructive tone are 455.56 times the estimates odds that disagreement appears in a discussion without constructive tone.\n"
     ]
    }
   ],
   "source": [
    "print(f\"The odds that disagreement appears in a discussion with constructive tone are {round(constructive,2)} \" \\\n",
    "      f\"times the estimates odds that disagreement appears in a discussion without constructive tone.\")"
   ]
  },
  {
   "cell_type": "markdown",
   "metadata": {},
   "source": [
    "#### Findings"
   ]
  },
  {
   "cell_type": "markdown",
   "metadata": {},
   "source": [
    "The model that better models the presence/absence of disagreement is composed of the variables broadening, elaborated disagreement, blending, bulding, policy, clarifies position/stance, constructive tone, fact, interpretation, asks questions, clarifies position, constructive tone, and number of likes. Not all predictors influence significantly into the presence/absence of disagreement. Among the predictors that influence significantly the most influencials are (ordered from the most influencial to the less influencial): constructive tone, broadening, clarifies, blending, building, policy, and elaborated disagreement."
   ]
  },
  {
   "cell_type": "markdown",
   "metadata": {},
   "source": [
    "## RQ1. Predictors of disagreement by discussion theme"
   ]
  },
  {
   "cell_type": "markdown",
   "metadata": {},
   "source": [
    "### Theme: Member"
   ]
  },
  {
   "cell_type": "code",
   "execution_count": 19,
   "metadata": {},
   "outputs": [
    {
     "name": "stdout",
     "output_type": "stream",
     "text": [
      "['simple_disagreement', 'elaborated_disagreement', 'topic_shift', 'brainstorming', 'blending', 'building', 'broadening', 'fact', 'value', 'policy', 'interpretation', 'gives_reason_s', 'presents_evidence', 'asks_question_s', 'provides_information', 'clarifies_position_stance', 'responds_to_previous_comment', 'constructive_tone', 'moderator_post', 'acknowledges_problem']\n"
     ]
    }
   ],
   "source": [
    "categorical_predictors = predictors_disagreement.copy()\n",
    "for numerical_predictor in numerical_predictors:\n",
    "    categorical_predictors.remove(numerical_predictor)\n",
    "print(categorical_predictors)"
   ]
  },
  {
   "cell_type": "code",
   "execution_count": 29,
   "metadata": {},
   "outputs": [
    {
     "name": "stdout",
     "output_type": "stream",
     "text": [
      "The analysis is conducted with a dataset composed of 213 rows and 23 columns\n",
      "Found the following invalid values {6} in 1 rows of the column simple_disagreement. Rows has been discarded.\n",
      "After the step above the dataset is composed of 212 rows and 23 columns\n",
      "There are 20 possible models\n",
      "Error: Perfect separation detected, results not available.\n",
      "Model:\n",
      "disagreement ~  C(topic_shift) +  C(simple_disagreement) +  C(elaborated_disagreement) +  C(brainstorming) +  C(blending) +  C(building) +  C(broadening) +  C(fact) +  C(value) +  C(policy) +  C(interpretation) +  C(gives_reason_s) +  C(presents_evidence) +  C(asks_question_s) +  C(provides_information) +  C(constructive_tone) +  C(acknowledges_problem) +  number_of_likes +  number_of_ideas\n",
      "\n",
      "Error: Perfect separation detected, results not available.\n",
      "Model:\n",
      "disagreement ~  C(brainstorming) +  C(simple_disagreement) +  C(elaborated_disagreement) +  C(topic_shift) +  C(blending) +  C(building) +  C(fact) +  C(value) +  C(policy) +  C(interpretation) +  C(gives_reason_s) +  C(presents_evidence) +  C(asks_question_s) +  C(provides_information) +  C(clarifies_position_stance) +  C(responds_to_previous_comment) +  C(moderator_post) +  C(acknowledges_problem)\n",
      "\n",
      "Error: Perfect separation detected, results not available.\n",
      "Model:\n",
      "disagreement ~  C(blending) +  C(simple_disagreement) +  C(elaborated_disagreement) +  C(topic_shift) +  C(brainstorming) +  C(building) +  C(fact) +  C(value) +  C(policy) +  C(interpretation) +  C(presents_evidence) +  C(asks_question_s) +  C(provides_information) +  C(clarifies_position_stance) +  C(constructive_tone) +  C(moderator_post) +  number_of_likes\n",
      "\n",
      "Error: Perfect separation detected, results not available.\n",
      "Model:\n",
      "disagreement ~  C(broadening) +  C(simple_disagreement) +  C(elaborated_disagreement) +  C(topic_shift) +  C(building) +  C(fact) +  C(value) +  C(policy) +  C(interpretation) +  C(gives_reason_s) +  C(presents_evidence) +  C(asks_question_s) +  C(provides_information) +  C(clarifies_position_stance) +  C(responds_to_previous_comment) +  C(constructive_tone) +  C(moderator_post) +  C(acknowledges_problem) +  number_of_likes\n",
      "\n",
      "Error: Perfect separation detected, results not available.\n",
      "Model:\n",
      "disagreement ~  C(value) +  C(simple_disagreement) +  C(elaborated_disagreement) +  C(topic_shift) +  C(brainstorming) +  C(blending) +  C(building) +  C(broadening) +  C(fact) +  C(interpretation) +  C(presents_evidence) +  C(asks_question_s) +  C(provides_information) +  C(responds_to_previous_comment) +  C(constructive_tone) +  C(moderator_post) +  number_of_likes\n",
      "\n",
      "Error: Perfect separation detected, results not available.\n",
      "Model:\n",
      "disagreement ~  C(asks_question_s) +  C(simple_disagreement) +  C(elaborated_disagreement) +  C(topic_shift) +  C(brainstorming) +  C(blending) +  C(building) +  C(broadening) +  C(fact) +  C(value) +  C(policy) +  C(interpretation) +  C(presents_evidence) +  C(provides_information) +  C(responds_to_previous_comment) +  C(constructive_tone) +  C(moderator_post) +  C(acknowledges_problem) +  number_of_likes +  number_of_ideas\n",
      "\n",
      "Error: Perfect separation detected, results not available.\n",
      "Model:\n",
      "disagreement ~  C(provides_information) +  C(simple_disagreement) +  C(elaborated_disagreement) +  C(topic_shift) +  C(brainstorming) +  C(blending) +  C(broadening) +  C(fact) +  C(value) +  C(interpretation) +  C(presents_evidence) +  C(asks_question_s) +  C(clarifies_position_stance) +  C(responds_to_previous_comment) +  C(constructive_tone) +  C(acknowledges_problem) +  number_of_likes +  number_of_ideas\n",
      "\n",
      "Error: Perfect separation detected, results not available.\n",
      "Model:\n",
      "disagreement ~  C(constructive_tone) +  C(elaborated_disagreement) +  C(topic_shift) +  C(blending) +  C(building) +  C(broadening) +  C(fact) +  C(value) +  C(policy) +  C(interpretation) +  C(presents_evidence) +  C(asks_question_s) +  C(provides_information) +  C(clarifies_position_stance) +  C(responds_to_previous_comment) +  C(moderator_post) +  C(acknowledges_problem) +  number_of_likes +  number_of_ideas\n",
      "\n",
      "Error: Perfect separation detected, results not available.\n",
      "Model:\n",
      "disagreement ~  C(moderator_post) +  C(simple_disagreement) +  C(elaborated_disagreement) +  C(brainstorming) +  C(blending) +  C(broadening) +  C(fact) +  C(value) +  C(interpretation) +  C(gives_reason_s) +  C(presents_evidence) +  C(asks_question_s) +  C(responds_to_previous_comment) +  C(constructive_tone) +  C(acknowledges_problem)\n",
      "\n",
      "Error: Perfect separation detected, results not available.\n",
      "Model:\n",
      "disagreement ~  C(acknowledges_problem) +  C(simple_disagreement) +  C(elaborated_disagreement) +  C(topic_shift) +  C(brainstorming) +  C(building) +  C(broadening) +  C(fact) +  C(interpretation) +  C(presents_evidence) +  C(asks_question_s) +  C(provides_information) +  C(clarifies_position_stance) +  C(constructive_tone) +  C(moderator_post) +  number_of_likes\n",
      "\n",
      "Variable elaborated_disagreement has been removed from the predictors list and the model could be fitted.\n",
      "\n",
      "Variable elaborated_disagreement has been removed from the predictors list and the model could be fitted.\n",
      "\n",
      "Variable elaborated_disagreement has been removed from the predictors list and the model could be fitted.\n",
      "\n",
      "Variable elaborated_disagreement has been removed from the predictors list and the model could be fitted.\n",
      "\n",
      "Variable elaborated_disagreement has been removed from the predictors list and the model could be fitted.\n",
      "\n",
      "Variable elaborated_disagreement has been removed from the predictors list and the model could be fitted.\n",
      "\n",
      "Variable simple_disagreement has been removed from the predictors list and the model could be fitted.\n",
      "\n",
      "Variable elaborated_disagreement has been removed from the predictors list and the model could be fitted.\n",
      "\n",
      "Variable constructive_tone has been removed from the predictors list and the model could be fitted.\n",
      "\n",
      "Variable elaborated_disagreement has been removed from the predictors list and the model could be fitted.\n",
      "\n",
      "Variable simple_disagreement has been removed from the predictors list and the model could be fitted.\n",
      "\n",
      "Variable elaborated_disagreement has been removed from the predictors list and the model could be fitted.\n",
      "\n",
      "Variable elaborated_disagreement has been removed from the predictors list and the model could be fitted.\n",
      "\n",
      "There are 1 best model(s)\n"
     ]
    }
   ],
   "source": [
    "best_models = predict_disagreement(all_df, categorical_predictors, numerical_predictors, theme='member')"
   ]
  },
  {
   "cell_type": "markdown",
   "metadata": {},
   "source": [
    "**Best model**"
   ]
  },
  {
   "cell_type": "code",
   "execution_count": 30,
   "metadata": {},
   "outputs": [
    {
     "data": {
      "text/html": [
       "<table class=\"simpletable\">\n",
       "<caption>Generalized Linear Model Regression Results</caption>\n",
       "<tr>\n",
       "  <th>Dep. Variable:</th>   <td>['disagreement[0]', 'disagreement[1]']</td> <th>  No. Observations:  </th>  <td>   212</td> \n",
       "</tr>\n",
       "<tr>\n",
       "  <th>Model:</th>                             <td>GLM</td>                  <th>  Df Residuals:      </th>  <td>   199</td> \n",
       "</tr>\n",
       "<tr>\n",
       "  <th>Model Family:</th>                   <td>Binomial</td>                <th>  Df Model:          </th>  <td>    12</td> \n",
       "</tr>\n",
       "<tr>\n",
       "  <th>Link Function:</th>                    <td>logit</td>                 <th>  Scale:             </th> <td>  1.0000</td>\n",
       "</tr>\n",
       "<tr>\n",
       "  <th>Method:</th>                           <td>IRLS</td>                  <th>  Log-Likelihood:    </th> <td> -48.579</td>\n",
       "</tr>\n",
       "<tr>\n",
       "  <th>Date:</th>                       <td>Wed, 05 Aug 2020</td>            <th>  Deviance:          </th> <td>  97.157</td>\n",
       "</tr>\n",
       "<tr>\n",
       "  <th>Time:</th>                           <td>17:04:45</td>                <th>  Pearson chi2:      </th>  <td>  188.</td> \n",
       "</tr>\n",
       "<tr>\n",
       "  <th>No. Iterations:</th>                    <td>21</td>                   <th>                     </th>     <td> </td>   \n",
       "</tr>\n",
       "<tr>\n",
       "  <th>Covariance Type:</th>                <td>nonrobust</td>               <th>                     </th>     <td> </td>   \n",
       "</tr>\n",
       "</table>\n",
       "<table class=\"simpletable\">\n",
       "<tr>\n",
       "                <td></td>                  <th>coef</th>     <th>std err</th>      <th>z</th>      <th>P>|z|</th>  <th>[0.025</th>    <th>0.975]</th>  \n",
       "</tr>\n",
       "<tr>\n",
       "  <th>Intercept</th>                    <td>    3.5728</td> <td>    4.799</td> <td>    0.744</td> <td> 0.457</td> <td>   -5.833</td> <td>   12.979</td>\n",
       "</tr>\n",
       "<tr>\n",
       "  <th>C(building)[T.1]</th>             <td>   -6.7682</td> <td>    1.172</td> <td>   -5.776</td> <td> 0.000</td> <td>   -9.065</td> <td>   -4.472</td>\n",
       "</tr>\n",
       "<tr>\n",
       "  <th>C(simple_disagreement)[T.1]</th>  <td>  -24.0735</td> <td>  1.6e+04</td> <td>   -0.002</td> <td> 0.999</td> <td>-3.15e+04</td> <td> 3.14e+04</td>\n",
       "</tr>\n",
       "<tr>\n",
       "  <th>C(topic_shift)[T.1]</th>          <td>   -0.2966</td> <td>    0.702</td> <td>   -0.422</td> <td> 0.673</td> <td>   -1.673</td> <td>    1.080</td>\n",
       "</tr>\n",
       "<tr>\n",
       "  <th>C(brainstorming)[T.1]</th>        <td>    0.5315</td> <td>    0.707</td> <td>    0.752</td> <td> 0.452</td> <td>   -0.854</td> <td>    1.917</td>\n",
       "</tr>\n",
       "<tr>\n",
       "  <th>C(blending)[T.1]</th>             <td>    0.4842</td> <td>    0.699</td> <td>    0.693</td> <td> 0.488</td> <td>   -0.886</td> <td>    1.854</td>\n",
       "</tr>\n",
       "<tr>\n",
       "  <th>C(broadening)[T.1]</th>           <td>    1.1423</td> <td>    0.817</td> <td>    1.399</td> <td> 0.162</td> <td>   -0.458</td> <td>    2.743</td>\n",
       "</tr>\n",
       "<tr>\n",
       "  <th>C(value)[T.1]</th>                <td>   -0.6818</td> <td>    0.786</td> <td>   -0.868</td> <td> 0.386</td> <td>   -2.222</td> <td>    0.858</td>\n",
       "</tr>\n",
       "<tr>\n",
       "  <th>C(presents_evidence)[T.1]</th>    <td>   -2.3032</td> <td>    1.474</td> <td>   -1.563</td> <td> 0.118</td> <td>   -5.192</td> <td>    0.585</td>\n",
       "</tr>\n",
       "<tr>\n",
       "  <th>C(asks_question_s)[T.1]</th>      <td>    0.1220</td> <td>    0.698</td> <td>    0.175</td> <td> 0.861</td> <td>   -1.246</td> <td>    1.490</td>\n",
       "</tr>\n",
       "<tr>\n",
       "  <th>C(constructive_tone)[T.1]</th>    <td>    0.5850</td> <td>    4.816</td> <td>    0.121</td> <td> 0.903</td> <td>   -8.854</td> <td>   10.024</td>\n",
       "</tr>\n",
       "<tr>\n",
       "  <th>C(acknowledges_problem)[T.1]</th> <td>   -0.2084</td> <td>    0.662</td> <td>   -0.315</td> <td> 0.753</td> <td>   -1.506</td> <td>    1.089</td>\n",
       "</tr>\n",
       "<tr>\n",
       "  <th>number_of_likes</th>              <td>    0.1823</td> <td>    0.165</td> <td>    1.104</td> <td> 0.269</td> <td>   -0.141</td> <td>    0.506</td>\n",
       "</tr>\n",
       "</table>"
      ],
      "text/plain": [
       "<class 'statsmodels.iolib.summary.Summary'>\n",
       "\"\"\"\n",
       "                           Generalized Linear Model Regression Results                            \n",
       "==================================================================================================\n",
       "Dep. Variable:     ['disagreement[0]', 'disagreement[1]']   No. Observations:                  212\n",
       "Model:                                                GLM   Df Residuals:                      199\n",
       "Model Family:                                    Binomial   Df Model:                           12\n",
       "Link Function:                                      logit   Scale:                          1.0000\n",
       "Method:                                              IRLS   Log-Likelihood:                -48.579\n",
       "Date:                                    Wed, 05 Aug 2020   Deviance:                       97.157\n",
       "Time:                                            17:04:45   Pearson chi2:                     188.\n",
       "No. Iterations:                                        21                                         \n",
       "Covariance Type:                                nonrobust                                         \n",
       "================================================================================================\n",
       "                                   coef    std err          z      P>|z|      [0.025      0.975]\n",
       "------------------------------------------------------------------------------------------------\n",
       "Intercept                        3.5728      4.799      0.744      0.457      -5.833      12.979\n",
       "C(building)[T.1]                -6.7682      1.172     -5.776      0.000      -9.065      -4.472\n",
       "C(simple_disagreement)[T.1]    -24.0735    1.6e+04     -0.002      0.999   -3.15e+04    3.14e+04\n",
       "C(topic_shift)[T.1]             -0.2966      0.702     -0.422      0.673      -1.673       1.080\n",
       "C(brainstorming)[T.1]            0.5315      0.707      0.752      0.452      -0.854       1.917\n",
       "C(blending)[T.1]                 0.4842      0.699      0.693      0.488      -0.886       1.854\n",
       "C(broadening)[T.1]               1.1423      0.817      1.399      0.162      -0.458       2.743\n",
       "C(value)[T.1]                   -0.6818      0.786     -0.868      0.386      -2.222       0.858\n",
       "C(presents_evidence)[T.1]       -2.3032      1.474     -1.563      0.118      -5.192       0.585\n",
       "C(asks_question_s)[T.1]          0.1220      0.698      0.175      0.861      -1.246       1.490\n",
       "C(constructive_tone)[T.1]        0.5850      4.816      0.121      0.903      -8.854      10.024\n",
       "C(acknowledges_problem)[T.1]    -0.2084      0.662     -0.315      0.753      -1.506       1.089\n",
       "number_of_likes                  0.1823      0.165      1.104      0.269      -0.141       0.506\n",
       "================================================================================================\n",
       "\"\"\""
      ]
     },
     "execution_count": 30,
     "metadata": {},
     "output_type": "execute_result"
    }
   ],
   "source": [
    "best_models[0]['model'].summary()"
   ]
  },
  {
   "cell_type": "markdown",
   "metadata": {},
   "source": [
    "The predictors `bulding` has a statistical significant effect on `disagreement` for the theme `member`. The rest of the predictors do not influence significantly in the presence of disagreement in discussions."
   ]
  },
  {
   "cell_type": "markdown",
   "metadata": {},
   "source": [
    "**Interpretation of predictors' effect**"
   ]
  },
  {
   "cell_type": "code",
   "execution_count": 31,
   "metadata": {},
   "outputs": [
    {
     "data": {
      "text/plain": [
       "Intercept                        3.572830\n",
       "C(building)[T.1]                -6.768190\n",
       "C(simple_disagreement)[T.1]    -24.073477\n",
       "C(topic_shift)[T.1]             -0.296555\n",
       "C(brainstorming)[T.1]            0.531492\n",
       "C(blending)[T.1]                 0.484182\n",
       "C(broadening)[T.1]               1.142276\n",
       "C(value)[T.1]                   -0.681789\n",
       "C(presents_evidence)[T.1]       -2.303249\n",
       "C(asks_question_s)[T.1]          0.122046\n",
       "C(constructive_tone)[T.1]        0.585019\n",
       "C(acknowledges_problem)[T.1]    -0.208403\n",
       "number_of_likes                  0.182274\n",
       "dtype: float64"
      ]
     },
     "execution_count": 31,
     "metadata": {},
     "output_type": "execute_result"
    }
   ],
   "source": [
    "best_models[0]['model'].params"
   ]
  },
  {
   "cell_type": "code",
   "execution_count": 32,
   "metadata": {},
   "outputs": [],
   "source": [
    "# Convert from log odds to odds (only significant predictors are converted)\n",
    "building = np.exp(best_models[0]['model'].params[1])"
   ]
  },
  {
   "cell_type": "markdown",
   "metadata": {},
   "source": [
    "Building"
   ]
  },
  {
   "cell_type": "code",
   "execution_count": 33,
   "metadata": {},
   "outputs": [
    {
     "name": "stdout",
     "output_type": "stream",
     "text": [
      "The odds that disagreement appears in a discussion where participants build upon others' ideas are 0.001 times the odds that disagreement appears in a discussion without building.\n"
     ]
    }
   ],
   "source": [
    "print(f\"The odds that disagreement appears in a discussion where participants build upon others' ideas \"\\\n",
    "      f\"are {round(building,3)} times the odds that disagreement appears in a discussion without building.\")"
   ]
  },
  {
   "cell_type": "markdown",
   "metadata": {},
   "source": [
    "### Theme: Admin"
   ]
  },
  {
   "cell_type": "code",
   "execution_count": 35,
   "metadata": {},
   "outputs": [
    {
     "name": "stdout",
     "output_type": "stream",
     "text": [
      "The analysis is conducted with a dataset composed of 119 rows and 23 columns\n",
      "Found the following invalid values {7} in 1 rows of the column simple_disagreement. Rows has been discarded.\n",
      "After the step above the dataset is composed of 118 rows and 23 columns\n",
      "There are 20 possible models\n",
      "Error: Perfect separation detected, results not available.\n",
      "Model:\n",
      "disagreement ~  C(simple_disagreement) +  C(elaborated_disagreement) +  C(topic_shift) +  C(brainstorming) +  C(blending) +  C(building) +  C(broadening) +  C(fact) +  C(value) +  C(policy) +  C(interpretation) +  C(presents_evidence) +  C(asks_question_s) +  C(provides_information) +  C(clarifies_position_stance) +  C(responds_to_previous_comment) +  C(constructive_tone) +  C(moderator_post) +  C(acknowledges_problem) +  number_of_likes +  number_of_ideas\n",
      "\n",
      "Error: Perfect separation detected, results not available.\n",
      "Model:\n",
      "disagreement ~  C(topic_shift) +  C(simple_disagreement) +  C(elaborated_disagreement) +  C(blending) +  C(building) +  C(broadening) +  C(fact) +  C(value) +  C(policy) +  C(interpretation) +  C(gives_reason_s) +  C(presents_evidence) +  C(asks_question_s) +  C(provides_information) +  C(clarifies_position_stance) +  C(constructive_tone) +  C(moderator_post) +  C(acknowledges_problem)\n",
      "\n",
      "Error: Perfect separation detected, results not available.\n",
      "Model:\n",
      "disagreement ~  C(blending) +  C(simple_disagreement) +  C(elaborated_disagreement) +  C(topic_shift) +  C(building) +  C(broadening) +  C(fact) +  C(interpretation) +  C(presents_evidence) +  C(asks_question_s) +  C(provides_information) +  C(clarifies_position_stance) +  C(responds_to_previous_comment) +  C(constructive_tone) +  number_of_likes\n",
      "\n",
      "Error: Perfect separation detected, results not available.\n",
      "Model:\n",
      "disagreement ~  C(broadening) +  C(simple_disagreement) +  C(elaborated_disagreement) +  C(topic_shift) +  C(brainstorming) +  C(blending) +  C(building) +  C(fact) +  C(value) +  C(policy) +  C(interpretation) +  C(gives_reason_s) +  C(presents_evidence) +  C(asks_question_s) +  C(provides_information) +  C(clarifies_position_stance) +  C(responds_to_previous_comment) +  C(constructive_tone) +  C(moderator_post) +  number_of_likes +  number_of_ideas\n",
      "\n",
      "Error: Perfect separation detected, results not available.\n",
      "Model:\n",
      "disagreement ~  C(value) +  C(simple_disagreement) +  C(elaborated_disagreement) +  C(topic_shift) +  C(brainstorming) +  C(building) +  C(broadening) +  C(fact) +  C(policy) +  C(interpretation) +  C(gives_reason_s) +  C(presents_evidence) +  C(asks_question_s) +  C(provides_information) +  C(clarifies_position_stance) +  C(responds_to_previous_comment) +  C(constructive_tone) +  C(moderator_post) +  C(acknowledges_problem) +  number_of_likes +  number_of_ideas\n",
      "\n",
      "Error: Perfect separation detected, results not available.\n",
      "Model:\n",
      "disagreement ~  C(interpretation) +  C(simple_disagreement) +  C(elaborated_disagreement) +  C(topic_shift) +  C(brainstorming) +  C(blending) +  C(broadening) +  C(value) +  C(gives_reason_s) +  C(presents_evidence) +  C(asks_question_s) +  C(provides_information) +  C(responds_to_previous_comment) +  C(constructive_tone) +  C(moderator_post) +  C(acknowledges_problem) +  number_of_likes +  number_of_ideas\n",
      "\n",
      "Error: Perfect separation detected, results not available.\n",
      "Model:\n",
      "disagreement ~  C(presents_evidence) +  C(simple_disagreement) +  C(elaborated_disagreement) +  C(topic_shift) +  C(brainstorming) +  C(blending) +  C(building) +  C(broadening) +  C(fact) +  C(value) +  C(policy) +  C(interpretation) +  C(gives_reason_s) +  C(asks_question_s) +  C(provides_information) +  C(clarifies_position_stance) +  C(responds_to_previous_comment) +  C(constructive_tone) +  C(moderator_post) +  C(acknowledges_problem) +  number_of_likes +  number_of_ideas\n",
      "\n",
      "Error: Perfect separation detected, results not available.\n",
      "Model:\n",
      "disagreement ~  C(asks_question_s) +  C(simple_disagreement) +  C(elaborated_disagreement) +  C(topic_shift) +  C(brainstorming) +  C(blending) +  C(broadening) +  C(fact) +  C(value) +  C(policy) +  C(interpretation) +  C(gives_reason_s) +  C(presents_evidence) +  C(provides_information) +  C(clarifies_position_stance) +  C(responds_to_previous_comment) +  C(constructive_tone) +  C(moderator_post) +  C(acknowledges_problem) +  number_of_ideas\n",
      "\n",
      "Error: Perfect separation detected, results not available.\n",
      "Model:\n",
      "disagreement ~  C(provides_information) +  C(simple_disagreement) +  C(elaborated_disagreement) +  C(topic_shift) +  C(brainstorming) +  C(blending) +  C(building) +  C(broadening) +  C(fact) +  C(value) +  C(interpretation) +  C(presents_evidence) +  C(asks_question_s) +  C(clarifies_position_stance) +  C(responds_to_previous_comment) +  C(constructive_tone) +  C(acknowledges_problem) +  number_of_likes\n",
      "\n",
      "Error: Perfect separation detected, results not available.\n",
      "Model:\n",
      "disagreement ~  C(clarifies_position_stance) +  C(simple_disagreement) +  C(elaborated_disagreement) +  C(topic_shift) +  C(brainstorming) +  C(blending) +  C(broadening) +  C(value) +  C(policy) +  C(gives_reason_s) +  C(presents_evidence) +  C(asks_question_s) +  C(provides_information) +  C(responds_to_previous_comment) +  C(constructive_tone) +  C(moderator_post) +  C(acknowledges_problem) +  number_of_likes +  number_of_ideas\n",
      "\n",
      "Error: Perfect separation detected, results not available.\n",
      "Model:\n",
      "disagreement ~  C(constructive_tone) +  C(simple_disagreement) +  C(elaborated_disagreement) +  C(topic_shift) +  C(brainstorming) +  C(blending) +  C(building) +  C(broadening) +  C(fact) +  C(value) +  C(policy) +  C(interpretation) +  C(gives_reason_s) +  C(presents_evidence) +  C(asks_question_s) +  C(provides_information) +  C(clarifies_position_stance) +  C(responds_to_previous_comment) +  C(moderator_post) +  C(acknowledges_problem) +  number_of_likes +  number_of_ideas\n",
      "\n",
      "Error: Perfect separation detected, results not available.\n",
      "Model:\n",
      "disagreement ~  C(moderator_post) +  C(simple_disagreement) +  C(elaborated_disagreement) +  C(topic_shift) +  C(brainstorming) +  C(building) +  C(broadening) +  C(fact) +  C(value) +  C(policy) +  C(interpretation) +  C(presents_evidence) +  C(asks_question_s) +  C(clarifies_position_stance) +  C(responds_to_previous_comment) +  C(constructive_tone) +  C(acknowledges_problem)\n",
      "\n",
      "Error: Perfect separation detected, results not available.\n",
      "Model:\n",
      "disagreement ~  C(acknowledges_problem) +  C(simple_disagreement) +  C(elaborated_disagreement) +  C(topic_shift) +  C(brainstorming) +  C(building) +  C(fact) +  C(value) +  C(interpretation) +  C(presents_evidence) +  C(asks_question_s) +  C(provides_information) +  C(clarifies_position_stance) +  C(responds_to_previous_comment) +  C(constructive_tone) +  C(moderator_post) +  number_of_likes\n",
      "\n",
      "Variable elaborated_disagreement has been removed from the predictors list and the model could be fitted.\n",
      "\n",
      "Variable simple_disagreement has been removed from the predictors list and the model could be fitted.\n",
      "\n",
      "Variable elaborated_disagreement has been removed from the predictors list and the model could be fitted.\n",
      "\n",
      "Variable building has been removed from the predictors list and the model could be fitted.\n",
      "\n",
      "Variable simple_disagreement has been removed from the predictors list and the model could be fitted.\n",
      "\n",
      "Variable elaborated_disagreement has been removed from the predictors list and the model could be fitted.\n",
      "\n",
      "Variable elaborated_disagreement has been removed from the predictors list and the model could be fitted.\n",
      "\n",
      "Variable elaborated_disagreement has been removed from the predictors list and the model could be fitted.\n",
      "\n",
      "Variable simple_disagreement has been removed from the predictors list and the model could be fitted.\n",
      "\n",
      "Variable elaborated_disagreement has been removed from the predictors list and the model could be fitted.\n",
      "\n",
      "Variable elaborated_disagreement has been removed from the predictors list and the model could be fitted.\n",
      "\n",
      "Variable simple_disagreement has been removed from the predictors list and the model could be fitted.\n",
      "\n",
      "Variable elaborated_disagreement has been removed from the predictors list and the model could be fitted.\n",
      "\n",
      "Variable simple_disagreement has been removed from the predictors list and the model could be fitted.\n",
      "\n",
      "Variable elaborated_disagreement has been removed from the predictors list and the model could be fitted.\n",
      "\n"
     ]
    },
    {
     "name": "stdout",
     "output_type": "stream",
     "text": [
      "Variable elaborated_disagreement has been removed from the predictors list and the model could be fitted.\n",
      "\n",
      "Variable elaborated_disagreement has been removed from the predictors list and the model could be fitted.\n",
      "\n",
      "Variable simple_disagreement has been removed from the predictors list and the model could be fitted.\n",
      "\n",
      "Variable elaborated_disagreement has been removed from the predictors list and the model could be fitted.\n",
      "\n",
      "Variable building has been removed from the predictors list and the model could be fitted.\n",
      "\n",
      "Variable simple_disagreement has been removed from the predictors list and the model could be fitted.\n",
      "\n",
      "Variable elaborated_disagreement has been removed from the predictors list and the model could be fitted.\n",
      "\n",
      "There are 1 best model(s)\n"
     ]
    }
   ],
   "source": [
    "best_models = predict_disagreement(all_df, categorical_predictors, numerical_predictors, theme='admin')"
   ]
  },
  {
   "cell_type": "markdown",
   "metadata": {},
   "source": [
    "**Best model**"
   ]
  },
  {
   "cell_type": "code",
   "execution_count": 36,
   "metadata": {},
   "outputs": [
    {
     "data": {
      "text/html": [
       "<table class=\"simpletable\">\n",
       "<caption>Generalized Linear Model Regression Results</caption>\n",
       "<tr>\n",
       "  <th>Dep. Variable:</th>   <td>['disagreement[0]', 'disagreement[1]']</td> <th>  No. Observations:  </th>  <td>   118</td> \n",
       "</tr>\n",
       "<tr>\n",
       "  <th>Model:</th>                             <td>GLM</td>                  <th>  Df Residuals:      </th>  <td>   103</td> \n",
       "</tr>\n",
       "<tr>\n",
       "  <th>Model Family:</th>                   <td>Binomial</td>                <th>  Df Model:          </th>  <td>    14</td> \n",
       "</tr>\n",
       "<tr>\n",
       "  <th>Link Function:</th>                    <td>logit</td>                 <th>  Scale:             </th> <td>  1.0000</td>\n",
       "</tr>\n",
       "<tr>\n",
       "  <th>Method:</th>                           <td>IRLS</td>                  <th>  Log-Likelihood:    </th> <td> -12.747</td>\n",
       "</tr>\n",
       "<tr>\n",
       "  <th>Date:</th>                       <td>Wed, 05 Aug 2020</td>            <th>  Deviance:          </th> <td>  25.495</td>\n",
       "</tr>\n",
       "<tr>\n",
       "  <th>Time:</th>                           <td>17:16:28</td>                <th>  Pearson chi2:      </th>  <td>  103.</td> \n",
       "</tr>\n",
       "<tr>\n",
       "  <th>No. Iterations:</th>                    <td>10</td>                   <th>                     </th>     <td> </td>   \n",
       "</tr>\n",
       "<tr>\n",
       "  <th>Covariance Type:</th>                <td>nonrobust</td>               <th>                     </th>     <td> </td>   \n",
       "</tr>\n",
       "</table>\n",
       "<table class=\"simpletable\">\n",
       "<tr>\n",
       "                    <td></td>                      <th>coef</th>     <th>std err</th>      <th>z</th>      <th>P>|z|</th>  <th>[0.025</th>    <th>0.975]</th>  \n",
       "</tr>\n",
       "<tr>\n",
       "  <th>Intercept</th>                            <td>   10.0393</td> <td>   11.690</td> <td>    0.859</td> <td> 0.390</td> <td>  -12.872</td> <td>   32.951</td>\n",
       "</tr>\n",
       "<tr>\n",
       "  <th>C(blending)[T.1]</th>                     <td>    4.6300</td> <td>    2.279</td> <td>    2.031</td> <td> 0.042</td> <td>    0.163</td> <td>    9.097</td>\n",
       "</tr>\n",
       "<tr>\n",
       "  <th>C(elaborated_disagreement)[T.1]</th>      <td>   -9.2131</td> <td>    3.013</td> <td>   -3.058</td> <td> 0.002</td> <td>  -15.118</td> <td>   -3.308</td>\n",
       "</tr>\n",
       "<tr>\n",
       "  <th>C(topic_shift)[T.1]</th>                  <td>   -3.0587</td> <td>    2.139</td> <td>   -1.430</td> <td> 0.153</td> <td>   -7.251</td> <td>    1.134</td>\n",
       "</tr>\n",
       "<tr>\n",
       "  <th>C(building)[T.1]</th>                     <td>   -6.7746</td> <td>    2.472</td> <td>   -2.741</td> <td> 0.006</td> <td>  -11.619</td> <td>   -1.930</td>\n",
       "</tr>\n",
       "<tr>\n",
       "  <th>C(broadening)[T.1]</th>                   <td>    2.9889</td> <td>    2.127</td> <td>    1.405</td> <td> 0.160</td> <td>   -1.181</td> <td>    7.158</td>\n",
       "</tr>\n",
       "<tr>\n",
       "  <th>C(fact)[T.1]</th>                         <td>   -0.4979</td> <td>    1.611</td> <td>   -0.309</td> <td> 0.757</td> <td>   -3.655</td> <td>    2.659</td>\n",
       "</tr>\n",
       "<tr>\n",
       "  <th>C(interpretation)[T.1]</th>               <td>    0.1362</td> <td>    2.894</td> <td>    0.047</td> <td> 0.962</td> <td>   -5.537</td> <td>    5.809</td>\n",
       "</tr>\n",
       "<tr>\n",
       "  <th>C(presents_evidence)[T.1]</th>            <td>  -11.3354</td> <td>   11.873</td> <td>   -0.955</td> <td> 0.340</td> <td>  -34.606</td> <td>   11.936</td>\n",
       "</tr>\n",
       "<tr>\n",
       "  <th>C(asks_question_s)[T.1]</th>              <td>    3.8822</td> <td>    2.051</td> <td>    1.893</td> <td> 0.058</td> <td>   -0.138</td> <td>    7.903</td>\n",
       "</tr>\n",
       "<tr>\n",
       "  <th>C(provides_information)[T.1]</th>         <td>    7.1723</td> <td>    7.088</td> <td>    1.012</td> <td> 0.312</td> <td>   -6.719</td> <td>   21.064</td>\n",
       "</tr>\n",
       "<tr>\n",
       "  <th>C(clarifies_position_stance)[T.1]</th>    <td>    3.0677</td> <td>    3.238</td> <td>    0.948</td> <td> 0.343</td> <td>   -3.278</td> <td>    9.413</td>\n",
       "</tr>\n",
       "<tr>\n",
       "  <th>C(responds_to_previous_comment)[T.1]</th> <td>   -4.9238</td> <td>    8.086</td> <td>   -0.609</td> <td> 0.543</td> <td>  -20.773</td> <td>   10.925</td>\n",
       "</tr>\n",
       "<tr>\n",
       "  <th>C(constructive_tone)[T.1]</th>            <td>   -0.6533</td> <td>   10.647</td> <td>   -0.061</td> <td> 0.951</td> <td>  -21.521</td> <td>   20.215</td>\n",
       "</tr>\n",
       "<tr>\n",
       "  <th>number_of_likes</th>                      <td>    0.0253</td> <td>    0.300</td> <td>    0.084</td> <td> 0.933</td> <td>   -0.562</td> <td>    0.613</td>\n",
       "</tr>\n",
       "</table>"
      ],
      "text/plain": [
       "<class 'statsmodels.iolib.summary.Summary'>\n",
       "\"\"\"\n",
       "                           Generalized Linear Model Regression Results                            \n",
       "==================================================================================================\n",
       "Dep. Variable:     ['disagreement[0]', 'disagreement[1]']   No. Observations:                  118\n",
       "Model:                                                GLM   Df Residuals:                      103\n",
       "Model Family:                                    Binomial   Df Model:                           14\n",
       "Link Function:                                      logit   Scale:                          1.0000\n",
       "Method:                                              IRLS   Log-Likelihood:                -12.747\n",
       "Date:                                    Wed, 05 Aug 2020   Deviance:                       25.495\n",
       "Time:                                            17:16:28   Pearson chi2:                     103.\n",
       "No. Iterations:                                        10                                         \n",
       "Covariance Type:                                nonrobust                                         \n",
       "========================================================================================================\n",
       "                                           coef    std err          z      P>|z|      [0.025      0.975]\n",
       "--------------------------------------------------------------------------------------------------------\n",
       "Intercept                               10.0393     11.690      0.859      0.390     -12.872      32.951\n",
       "C(blending)[T.1]                         4.6300      2.279      2.031      0.042       0.163       9.097\n",
       "C(elaborated_disagreement)[T.1]         -9.2131      3.013     -3.058      0.002     -15.118      -3.308\n",
       "C(topic_shift)[T.1]                     -3.0587      2.139     -1.430      0.153      -7.251       1.134\n",
       "C(building)[T.1]                        -6.7746      2.472     -2.741      0.006     -11.619      -1.930\n",
       "C(broadening)[T.1]                       2.9889      2.127      1.405      0.160      -1.181       7.158\n",
       "C(fact)[T.1]                            -0.4979      1.611     -0.309      0.757      -3.655       2.659\n",
       "C(interpretation)[T.1]                   0.1362      2.894      0.047      0.962      -5.537       5.809\n",
       "C(presents_evidence)[T.1]              -11.3354     11.873     -0.955      0.340     -34.606      11.936\n",
       "C(asks_question_s)[T.1]                  3.8822      2.051      1.893      0.058      -0.138       7.903\n",
       "C(provides_information)[T.1]             7.1723      7.088      1.012      0.312      -6.719      21.064\n",
       "C(clarifies_position_stance)[T.1]        3.0677      3.238      0.948      0.343      -3.278       9.413\n",
       "C(responds_to_previous_comment)[T.1]    -4.9238      8.086     -0.609      0.543     -20.773      10.925\n",
       "C(constructive_tone)[T.1]               -0.6533     10.647     -0.061      0.951     -21.521      20.215\n",
       "number_of_likes                          0.0253      0.300      0.084      0.933      -0.562       0.613\n",
       "========================================================================================================\n",
       "\"\"\""
      ]
     },
     "execution_count": 36,
     "metadata": {},
     "output_type": "execute_result"
    }
   ],
   "source": [
    "best_models[0]['model'].summary()"
   ]
  },
  {
   "cell_type": "markdown",
   "metadata": {},
   "source": [
    "The predictors `blending`, `elaborated disagreement`, `building` have a statistical significant effect on `disagreement` for the theme `admin`. The rest of the predictors do not influence significantly in the presence of disagreement in discussions."
   ]
  },
  {
   "cell_type": "markdown",
   "metadata": {},
   "source": [
    "**Interpretation of predictors' effect**"
   ]
  },
  {
   "cell_type": "code",
   "execution_count": 37,
   "metadata": {},
   "outputs": [
    {
     "data": {
      "text/plain": [
       "Intercept                               10.039289\n",
       "C(blending)[T.1]                         4.629970\n",
       "C(elaborated_disagreement)[T.1]         -9.213090\n",
       "C(topic_shift)[T.1]                     -3.058745\n",
       "C(building)[T.1]                        -6.774614\n",
       "C(broadening)[T.1]                       2.988880\n",
       "C(fact)[T.1]                            -0.497873\n",
       "C(interpretation)[T.1]                   0.136179\n",
       "C(presents_evidence)[T.1]              -11.335351\n",
       "C(asks_question_s)[T.1]                  3.882161\n",
       "C(provides_information)[T.1]             7.172345\n",
       "C(clarifies_position_stance)[T.1]        3.067663\n",
       "C(responds_to_previous_comment)[T.1]    -4.923814\n",
       "C(constructive_tone)[T.1]               -0.653254\n",
       "number_of_likes                          0.025316\n",
       "dtype: float64"
      ]
     },
     "execution_count": 37,
     "metadata": {},
     "output_type": "execute_result"
    }
   ],
   "source": [
    "best_models[0]['model'].params"
   ]
  },
  {
   "cell_type": "code",
   "execution_count": 38,
   "metadata": {},
   "outputs": [],
   "source": [
    "# Convert from log odds to odds (only significant predictors are converted)\n",
    "blending = np.exp(best_models[0]['model'].params[1])\n",
    "elaborated_disagreement = np.exp(best_models[0]['model'].params[2])\n",
    "building = np.exp(best_models[0]['model'].params[4])"
   ]
  },
  {
   "cell_type": "markdown",
   "metadata": {},
   "source": [
    "Elaborated Disagreement"
   ]
  },
  {
   "cell_type": "code",
   "execution_count": 39,
   "metadata": {},
   "outputs": [
    {
     "name": "stdout",
     "output_type": "stream",
     "text": [
      "The odds that disagreement appears in a discussion with elaborated disagreement are 0.0001 times the odds that disagreement appears in a discussion without elaborated disagreement.\n"
     ]
    }
   ],
   "source": [
    "print(f\"The odds that disagreement appears in a discussion with elaborated disagreement are \"\\\n",
    "      f\"{round(elaborated_disagreement,4)} times the odds that disagreement appears in a \"\\\n",
    "      f\"discussion without elaborated disagreement.\")"
   ]
  },
  {
   "cell_type": "markdown",
   "metadata": {},
   "source": [
    "Blending"
   ]
  },
  {
   "cell_type": "code",
   "execution_count": 40,
   "metadata": {},
   "outputs": [
    {
     "name": "stdout",
     "output_type": "stream",
     "text": [
      "The odds that disagreement appears in a discussion where diverse ideas are integrated (blending) are 102.51 times the odds that disagreement appears in a discussion without the integration of diverse ideas.\n"
     ]
    }
   ],
   "source": [
    "print(f\"The odds that disagreement appears in a discussion where diverse ideas are integrated (blending)\"\\\n",
    "      f\" are {round(blending,2)} times the odds that disagreement appears in a discussion without the \"\\\n",
    "      f\"integration of diverse ideas.\")"
   ]
  },
  {
   "cell_type": "markdown",
   "metadata": {},
   "source": [
    "Building"
   ]
  },
  {
   "cell_type": "code",
   "execution_count": 42,
   "metadata": {},
   "outputs": [
    {
     "name": "stdout",
     "output_type": "stream",
     "text": [
      "The odds that disagreement appears in a discussion where participants build upon others' ideas are 0.0011 times the odds that disagreement appears in a discussion without building.\n"
     ]
    }
   ],
   "source": [
    "print(f\"The odds that disagreement appears in a discussion where participants build upon others' ideas \"\\\n",
    "      f\"are {round(building,4)} times the odds that disagreement appears in a discussion without building.\")"
   ]
  },
  {
   "cell_type": "markdown",
   "metadata": {},
   "source": [
    "### Theme: Informal"
   ]
  },
  {
   "cell_type": "code",
   "execution_count": 43,
   "metadata": {},
   "outputs": [
    {
     "name": "stdout",
     "output_type": "stream",
     "text": [
      "The analysis is conducted with a dataset composed of 159 rows and 23 columns\n",
      "Found the following invalid values {13} in 1 rows of the column simple_disagreement. Rows has been discarded.\n",
      "After the step above the dataset is composed of 158 rows and 23 columns\n",
      "There are 20 possible models\n",
      "Error: Perfect separation detected, results not available.\n",
      "Model:\n",
      "disagreement ~  C(topic_shift) +  C(simple_disagreement) +  C(elaborated_disagreement) +  C(brainstorming) +  C(blending) +  C(building) +  C(broadening) +  C(fact) +  C(value) +  C(interpretation) +  C(gives_reason_s) +  C(presents_evidence) +  C(asks_question_s) +  C(provides_information) +  C(clarifies_position_stance) +  C(constructive_tone) +  C(acknowledges_problem) +  number_of_ideas\n",
      "\n",
      "Error: Perfect separation detected, results not available.\n",
      "Model:\n",
      "disagreement ~  C(brainstorming) +  C(simple_disagreement) +  C(elaborated_disagreement) +  C(topic_shift) +  C(blending) +  C(building) +  C(fact) +  C(value) +  C(policy) +  C(interpretation) +  C(presents_evidence) +  C(asks_question_s) +  C(provides_information) +  C(clarifies_position_stance) +  C(responds_to_previous_comment) +  C(constructive_tone) +  C(moderator_post) +  C(acknowledges_problem)\n",
      "\n",
      "Error: Perfect separation detected, results not available.\n",
      "Model:\n",
      "disagreement ~  C(blending) +  C(simple_disagreement) +  C(elaborated_disagreement) +  C(topic_shift) +  C(brainstorming) +  C(building) +  C(broadening) +  C(fact) +  C(value) +  C(policy) +  C(interpretation) +  C(gives_reason_s) +  C(presents_evidence) +  C(provides_information) +  C(clarifies_position_stance) +  C(responds_to_previous_comment) +  C(constructive_tone) +  C(moderator_post) +  number_of_likes\n",
      "\n",
      "Error: Perfect separation detected, results not available.\n",
      "Model:\n",
      "disagreement ~  C(value) +  C(simple_disagreement) +  C(elaborated_disagreement) +  C(topic_shift) +  C(brainstorming) +  C(blending) +  C(fact) +  C(policy) +  C(interpretation) +  C(asks_question_s) +  C(provides_information) +  C(clarifies_position_stance) +  C(responds_to_previous_comment) +  C(constructive_tone) +  C(moderator_post) +  C(acknowledges_problem) +  number_of_likes\n",
      "\n",
      "Error: Perfect separation detected, results not available.\n",
      "Model:\n",
      "disagreement ~  C(presents_evidence) +  C(simple_disagreement) +  C(elaborated_disagreement) +  C(topic_shift) +  C(brainstorming) +  C(blending) +  C(building) +  C(broadening) +  C(policy) +  C(interpretation) +  C(asks_question_s) +  C(provides_information) +  C(responds_to_previous_comment) +  C(constructive_tone) +  C(moderator_post) +  number_of_likes\n",
      "\n",
      "Error: Perfect separation detected, results not available.\n",
      "Model:\n",
      "disagreement ~  C(provides_information) +  C(simple_disagreement) +  C(elaborated_disagreement) +  C(topic_shift) +  C(brainstorming) +  C(blending) +  C(building) +  C(fact) +  C(value) +  C(policy) +  C(interpretation) +  C(gives_reason_s) +  C(presents_evidence) +  C(asks_question_s) +  C(clarifies_position_stance) +  C(responds_to_previous_comment) +  C(constructive_tone) +  C(moderator_post) +  C(acknowledges_problem) +  number_of_likes\n",
      "\n",
      "Variable simple_disagreement has been removed from the predictors list and the model could be fitted.\n",
      "\n",
      "Variable elaborated_disagreement has been removed from the predictors list and the model could be fitted.\n",
      "\n",
      "Variable simple_disagreement has been removed from the predictors list and the model could be fitted.\n",
      "\n",
      "Variable elaborated_disagreement has been removed from the predictors list and the model could be fitted.\n",
      "\n",
      "Variable simple_disagreement has been removed from the predictors list and the model could be fitted.\n",
      "\n",
      "Variable elaborated_disagreement has been removed from the predictors list and the model could be fitted.\n",
      "\n",
      "Variable simple_disagreement has been removed from the predictors list and the model could be fitted.\n",
      "\n",
      "Variable elaborated_disagreement has been removed from the predictors list and the model could be fitted.\n",
      "\n",
      "Variable simple_disagreement has been removed from the predictors list and the model could be fitted.\n",
      "\n",
      "Variable elaborated_disagreement has been removed from the predictors list and the model could be fitted.\n",
      "\n",
      "Variable simple_disagreement has been removed from the predictors list and the model could be fitted.\n",
      "\n",
      "Variable elaborated_disagreement has been removed from the predictors list and the model could be fitted.\n",
      "\n",
      "There are 1 best model(s)\n"
     ]
    }
   ],
   "source": [
    "best_models = predict_disagreement(all_df, categorical_predictors, numerical_predictors, theme='informal')"
   ]
  },
  {
   "cell_type": "markdown",
   "metadata": {},
   "source": [
    "**Best model**"
   ]
  },
  {
   "cell_type": "code",
   "execution_count": 44,
   "metadata": {},
   "outputs": [
    {
     "data": {
      "text/html": [
       "<table class=\"simpletable\">\n",
       "<caption>Generalized Linear Model Regression Results</caption>\n",
       "<tr>\n",
       "  <th>Dep. Variable:</th>   <td>['disagreement[0]', 'disagreement[1]']</td> <th>  No. Observations:  </th>  <td>   158</td> \n",
       "</tr>\n",
       "<tr>\n",
       "  <th>Model:</th>                             <td>GLM</td>                  <th>  Df Residuals:      </th>  <td>   139</td> \n",
       "</tr>\n",
       "<tr>\n",
       "  <th>Model Family:</th>                   <td>Binomial</td>                <th>  Df Model:          </th>  <td>    18</td> \n",
       "</tr>\n",
       "<tr>\n",
       "  <th>Link Function:</th>                    <td>logit</td>                 <th>  Scale:             </th> <td>  1.0000</td>\n",
       "</tr>\n",
       "<tr>\n",
       "  <th>Method:</th>                           <td>IRLS</td>                  <th>  Log-Likelihood:    </th> <td> -24.849</td>\n",
       "</tr>\n",
       "<tr>\n",
       "  <th>Date:</th>                       <td>Wed, 05 Aug 2020</td>            <th>  Deviance:          </th> <td>  49.698</td>\n",
       "</tr>\n",
       "<tr>\n",
       "  <th>Time:</th>                           <td>17:26:13</td>                <th>  Pearson chi2:      </th>  <td>  55.1</td> \n",
       "</tr>\n",
       "<tr>\n",
       "  <th>No. Iterations:</th>                    <td>23</td>                   <th>                     </th>     <td> </td>   \n",
       "</tr>\n",
       "<tr>\n",
       "  <th>Covariance Type:</th>                <td>nonrobust</td>               <th>                     </th>     <td> </td>   \n",
       "</tr>\n",
       "</table>\n",
       "<table class=\"simpletable\">\n",
       "<tr>\n",
       "                    <td></td>                      <th>coef</th>     <th>std err</th>      <th>z</th>      <th>P>|z|</th>  <th>[0.025</th>    <th>0.975]</th>  \n",
       "</tr>\n",
       "<tr>\n",
       "  <th>Intercept</th>                            <td>   -7.7183</td> <td> 3.88e+04</td> <td>   -0.000</td> <td> 1.000</td> <td> -7.6e+04</td> <td>  7.6e+04</td>\n",
       "</tr>\n",
       "<tr>\n",
       "  <th>C(blending)[T.1]</th>                     <td>   -0.9889</td> <td>    0.924</td> <td>   -1.070</td> <td> 0.284</td> <td>   -2.800</td> <td>    0.822</td>\n",
       "</tr>\n",
       "<tr>\n",
       "  <th>C(simple_disagreement)[T.1]</th>          <td>  -27.6013</td> <td> 2.49e+04</td> <td>   -0.001</td> <td> 0.999</td> <td>-4.88e+04</td> <td> 4.88e+04</td>\n",
       "</tr>\n",
       "<tr>\n",
       "  <th>C(topic_shift)[T.1]</th>                  <td>   -2.3623</td> <td>    1.346</td> <td>   -1.755</td> <td> 0.079</td> <td>   -5.001</td> <td>    0.276</td>\n",
       "</tr>\n",
       "<tr>\n",
       "  <th>C(brainstorming)[T.1]</th>                <td>   -0.5978</td> <td>    1.117</td> <td>   -0.535</td> <td> 0.592</td> <td>   -2.786</td> <td>    1.591</td>\n",
       "</tr>\n",
       "<tr>\n",
       "  <th>C(building)[T.1]</th>                     <td>   -5.6031</td> <td>    1.194</td> <td>   -4.692</td> <td> 0.000</td> <td>   -7.944</td> <td>   -3.263</td>\n",
       "</tr>\n",
       "<tr>\n",
       "  <th>C(broadening)[T.1]</th>                   <td>   -1.1587</td> <td>    1.140</td> <td>   -1.017</td> <td> 0.309</td> <td>   -3.392</td> <td>    1.075</td>\n",
       "</tr>\n",
       "<tr>\n",
       "  <th>C(fact)[T.1]</th>                         <td>  -27.7351</td> <td> 1.89e+04</td> <td>   -0.001</td> <td> 0.999</td> <td>-3.71e+04</td> <td> 3.71e+04</td>\n",
       "</tr>\n",
       "<tr>\n",
       "  <th>C(value)[T.1]</th>                        <td>    2.0057</td> <td>    1.281</td> <td>    1.566</td> <td> 0.117</td> <td>   -0.505</td> <td>    4.516</td>\n",
       "</tr>\n",
       "<tr>\n",
       "  <th>C(policy)[T.1]</th>                       <td>   -6.2993</td> <td>    2.153</td> <td>   -2.926</td> <td> 0.003</td> <td>  -10.518</td> <td>   -2.080</td>\n",
       "</tr>\n",
       "<tr>\n",
       "  <th>C(interpretation)[T.1]</th>               <td>   -2.3183</td> <td>    1.430</td> <td>   -1.621</td> <td> 0.105</td> <td>   -5.121</td> <td>    0.485</td>\n",
       "</tr>\n",
       "<tr>\n",
       "  <th>C(gives_reason_s)[T.1]</th>               <td>   -0.2811</td> <td>    1.271</td> <td>   -0.221</td> <td> 0.825</td> <td>   -2.773</td> <td>    2.211</td>\n",
       "</tr>\n",
       "<tr>\n",
       "  <th>C(presents_evidence)[T.1]</th>            <td>    3.9226</td> <td>    1.540</td> <td>    2.548</td> <td> 0.011</td> <td>    0.905</td> <td>    6.940</td>\n",
       "</tr>\n",
       "<tr>\n",
       "  <th>C(provides_information)[T.1]</th>         <td>    1.6097</td> <td>    1.882</td> <td>    0.855</td> <td> 0.392</td> <td>   -2.079</td> <td>    5.299</td>\n",
       "</tr>\n",
       "<tr>\n",
       "  <th>C(clarifies_position_stance)[T.1]</th>    <td>    2.2970</td> <td>    1.621</td> <td>    1.417</td> <td> 0.156</td> <td>   -0.880</td> <td>    5.473</td>\n",
       "</tr>\n",
       "<tr>\n",
       "  <th>C(responds_to_previous_comment)[T.1]</th> <td>   -2.9553</td> <td>    1.607</td> <td>   -1.839</td> <td> 0.066</td> <td>   -6.104</td> <td>    0.194</td>\n",
       "</tr>\n",
       "<tr>\n",
       "  <th>C(constructive_tone)[T.1]</th>            <td>   20.2548</td> <td> 3.88e+04</td> <td>    0.001</td> <td> 1.000</td> <td> -7.6e+04</td> <td>  7.6e+04</td>\n",
       "</tr>\n",
       "<tr>\n",
       "  <th>C(moderator_post)[T.1]</th>               <td>   -2.2271</td> <td>    1.263</td> <td>   -1.763</td> <td> 0.078</td> <td>   -4.702</td> <td>    0.248</td>\n",
       "</tr>\n",
       "<tr>\n",
       "  <th>number_of_likes</th>                      <td>   -0.0284</td> <td>    0.240</td> <td>   -0.118</td> <td> 0.906</td> <td>   -0.499</td> <td>    0.442</td>\n",
       "</tr>\n",
       "</table>"
      ],
      "text/plain": [
       "<class 'statsmodels.iolib.summary.Summary'>\n",
       "\"\"\"\n",
       "                           Generalized Linear Model Regression Results                            \n",
       "==================================================================================================\n",
       "Dep. Variable:     ['disagreement[0]', 'disagreement[1]']   No. Observations:                  158\n",
       "Model:                                                GLM   Df Residuals:                      139\n",
       "Model Family:                                    Binomial   Df Model:                           18\n",
       "Link Function:                                      logit   Scale:                          1.0000\n",
       "Method:                                              IRLS   Log-Likelihood:                -24.849\n",
       "Date:                                    Wed, 05 Aug 2020   Deviance:                       49.698\n",
       "Time:                                            17:26:13   Pearson chi2:                     55.1\n",
       "No. Iterations:                                        23                                         \n",
       "Covariance Type:                                nonrobust                                         \n",
       "========================================================================================================\n",
       "                                           coef    std err          z      P>|z|      [0.025      0.975]\n",
       "--------------------------------------------------------------------------------------------------------\n",
       "Intercept                               -7.7183   3.88e+04     -0.000      1.000    -7.6e+04     7.6e+04\n",
       "C(blending)[T.1]                        -0.9889      0.924     -1.070      0.284      -2.800       0.822\n",
       "C(simple_disagreement)[T.1]            -27.6013   2.49e+04     -0.001      0.999   -4.88e+04    4.88e+04\n",
       "C(topic_shift)[T.1]                     -2.3623      1.346     -1.755      0.079      -5.001       0.276\n",
       "C(brainstorming)[T.1]                   -0.5978      1.117     -0.535      0.592      -2.786       1.591\n",
       "C(building)[T.1]                        -5.6031      1.194     -4.692      0.000      -7.944      -3.263\n",
       "C(broadening)[T.1]                      -1.1587      1.140     -1.017      0.309      -3.392       1.075\n",
       "C(fact)[T.1]                           -27.7351   1.89e+04     -0.001      0.999   -3.71e+04    3.71e+04\n",
       "C(value)[T.1]                            2.0057      1.281      1.566      0.117      -0.505       4.516\n",
       "C(policy)[T.1]                          -6.2993      2.153     -2.926      0.003     -10.518      -2.080\n",
       "C(interpretation)[T.1]                  -2.3183      1.430     -1.621      0.105      -5.121       0.485\n",
       "C(gives_reason_s)[T.1]                  -0.2811      1.271     -0.221      0.825      -2.773       2.211\n",
       "C(presents_evidence)[T.1]                3.9226      1.540      2.548      0.011       0.905       6.940\n",
       "C(provides_information)[T.1]             1.6097      1.882      0.855      0.392      -2.079       5.299\n",
       "C(clarifies_position_stance)[T.1]        2.2970      1.621      1.417      0.156      -0.880       5.473\n",
       "C(responds_to_previous_comment)[T.1]    -2.9553      1.607     -1.839      0.066      -6.104       0.194\n",
       "C(constructive_tone)[T.1]               20.2548   3.88e+04      0.001      1.000    -7.6e+04     7.6e+04\n",
       "C(moderator_post)[T.1]                  -2.2271      1.263     -1.763      0.078      -4.702       0.248\n",
       "number_of_likes                         -0.0284      0.240     -0.118      0.906      -0.499       0.442\n",
       "========================================================================================================\n",
       "\"\"\""
      ]
     },
     "execution_count": 44,
     "metadata": {},
     "output_type": "execute_result"
    }
   ],
   "source": [
    "best_models[0]['model'].summary()"
   ]
  },
  {
   "cell_type": "markdown",
   "metadata": {},
   "source": [
    "The predictors `building`, `policy`, `presents evidence` have a statistical significant effect on `disagreement` for the theme `informal`. The rest of the predictors do not influence significantly in the presence of disagreement in discussions."
   ]
  },
  {
   "cell_type": "markdown",
   "metadata": {},
   "source": [
    "**Interpretation of predictors' effect**"
   ]
  },
  {
   "cell_type": "code",
   "execution_count": 45,
   "metadata": {},
   "outputs": [
    {
     "data": {
      "text/plain": [
       "Intercept                               -7.718327\n",
       "C(blending)[T.1]                        -0.988939\n",
       "C(simple_disagreement)[T.1]            -27.601268\n",
       "C(topic_shift)[T.1]                     -2.362349\n",
       "C(brainstorming)[T.1]                   -0.597811\n",
       "C(building)[T.1]                        -5.603068\n",
       "C(broadening)[T.1]                      -1.158653\n",
       "C(fact)[T.1]                           -27.735063\n",
       "C(value)[T.1]                            2.005679\n",
       "C(policy)[T.1]                          -6.299343\n",
       "C(interpretation)[T.1]                  -2.318278\n",
       "C(gives_reason_s)[T.1]                  -0.281116\n",
       "C(presents_evidence)[T.1]                3.922577\n",
       "C(provides_information)[T.1]             1.609730\n",
       "C(clarifies_position_stance)[T.1]        2.296957\n",
       "C(responds_to_previous_comment)[T.1]    -2.955259\n",
       "C(constructive_tone)[T.1]               20.254823\n",
       "C(moderator_post)[T.1]                  -2.227070\n",
       "number_of_likes                         -0.028385\n",
       "dtype: float64"
      ]
     },
     "execution_count": 45,
     "metadata": {},
     "output_type": "execute_result"
    }
   ],
   "source": [
    "best_models[0]['model'].params"
   ]
  },
  {
   "cell_type": "code",
   "execution_count": 46,
   "metadata": {},
   "outputs": [],
   "source": [
    "# Convert from log odds to odds (only significant predictors are converted)\n",
    "building = np.exp(best_models[0]['model'].params[5])\n",
    "policy = np.exp(best_models[0]['model'].params[9])\n",
    "evidence = np.exp(best_models[0]['model'].params[12])"
   ]
  },
  {
   "cell_type": "markdown",
   "metadata": {},
   "source": [
    "Building"
   ]
  },
  {
   "cell_type": "code",
   "execution_count": 47,
   "metadata": {},
   "outputs": [
    {
     "name": "stdout",
     "output_type": "stream",
     "text": [
      "The odds that disagreement appears in a discussion where participants build upon others' ideas are 0.0037 times the odds that disagreement appears in a discussion without building.\n"
     ]
    }
   ],
   "source": [
    "print(f\"The odds that disagreement appears in a discussion where participants build upon others' ideas \"\\\n",
    "      f\"are {round(building,4)} times the odds that disagreement appears in a discussion without building.\")"
   ]
  },
  {
   "cell_type": "markdown",
   "metadata": {},
   "source": [
    "Policy"
   ]
  },
  {
   "cell_type": "code",
   "execution_count": 49,
   "metadata": {},
   "outputs": [
    {
     "name": "stdout",
     "output_type": "stream",
     "text": [
      "The odds that disagreement appears in a discussion that includes exchange of comments about policies are 0.0018 times the odds that disagreement appears in a discussion without exchange of comments about policies.\n"
     ]
    }
   ],
   "source": [
    "print(f\"The odds that disagreement appears in a discussion that includes exchange of comments about policies are \"\\\n",
    "      f\"{round(policy,4)} times the odds that disagreement appears in a discussion without exchange of \"\\\n",
    "      f\"comments about policies.\")"
   ]
  },
  {
   "cell_type": "markdown",
   "metadata": {},
   "source": [
    "Evidence"
   ]
  },
  {
   "cell_type": "code",
   "execution_count": 52,
   "metadata": {},
   "outputs": [
    {
     "name": "stdout",
     "output_type": "stream",
     "text": [
      "The odds that disagreement appears in a discussion that includes evidence are 50.53 times the odds that disagreement appears in a discussion without evidence.\n"
     ]
    }
   ],
   "source": [
    "print(f\"The odds that disagreement appears in a discussion that includes evidence are \"\\\n",
    "      f\"{round(evidence,2)} times the odds that disagreement appears in a discussion without evidence.\")"
   ]
  },
  {
   "cell_type": "markdown",
   "metadata": {},
   "source": [
    "### Findings"
   ]
  },
  {
   "cell_type": "markdown",
   "metadata": {},
   "source": [
    "Models are differents in each discussion theme. The presence of disagreement in the `member` theme shown to have be modeled by the simplest model (12 predictors). The more complex model is the one that models the presence of disagreement in the `informal` theme (18 predictors). Models in the discussion themes have apparently their own dynamics although there common elements in all of them. The pedictors `building`, `topic shift`, `blending`, `presents evidence`, `constructive tone`, and `number of likes` are available in all models, however, only `building` influence significantly in all models. Although their importance are not necessarily statistically significant, there are predictors that are present in only one model, which might indicate that they are relevant in some contexts but not in others. For instance, `acknowledge problems` is present only in the `member` model while `elaborated disagreement` (has significant impact) is only in the `admin` model. `Policy` (has significant impact), `give reasons`, and `moderator post` are unique for the `informal` model."
   ]
  }
 ],
 "metadata": {
  "kernelspec": {
   "display_name": "Python 3",
   "language": "python",
   "name": "python3"
  },
  "language_info": {
   "codemirror_mode": {
    "name": "ipython",
    "version": 3
   },
   "file_extension": ".py",
   "mimetype": "text/x-python",
   "name": "python",
   "nbconvert_exporter": "python",
   "pygments_lexer": "ipython3",
   "version": "3.7.1"
  }
 },
 "nbformat": 4,
 "nbformat_minor": 4
}
