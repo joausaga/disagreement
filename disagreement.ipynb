{
 "cells": [
  {
   "cell_type": "markdown",
   "metadata": {},
   "source": [
    "# Value of disagreement in crowdsourced policymaking"
   ]
  },
  {
   "cell_type": "markdown",
   "metadata": {},
   "source": [
    "In this notebook we explore the value of disagreement in crowdsourced policymaking by addressing the following research questions."
   ]
  },
  {
   "cell_type": "markdown",
   "metadata": {},
   "source": [
    "## Research Questions"
   ]
  },
  {
   "cell_type": "markdown",
   "metadata": {},
   "source": [
    "1. **RQ1.** What are the predictors of disagreement?\n",
    "2. **RQ2.** What are the predictors of new ideas?\n",
    "3. **RQ3.** How does the presence of both disagreement and agreement affect new idea generation? (if disagreement and agreement are present simultaneously, in the same comment/thread?)\n",
    "4. **RQ4.** Do comments with only disagreement/only agreement lead to more new idea generation?"
   ]
  },
  {
   "cell_type": "markdown",
   "metadata": {},
   "source": [
    "## Methodology"
   ]
  },
  {
   "cell_type": "markdown",
   "metadata": {},
   "source": [
    "To address RQ1 and RQ2, numeric variables computed during the qualitative analysis are considered. As the first step, we propose to conduct correlation analyses to understand collinearity between variables. Collinearity between variables might produce incorrect inferences about the association between predictors and the response variable. To address RQ1, logistic regression is employed to model the relationship between predictors and the variable disagreement. Variables that are found to be highly-correlated are not included in the analysis. In answering RQ2, multi-variate linear regression is applied to learn the relationship between predictors and the generation of new ideas. As in the case of RQ1, highly-correlated variables will be excluded from the analysis."
   ]
  },
  {
   "cell_type": "markdown",
   "metadata": {},
   "source": [
    "RQ3 is answered by fitting a logistic regression model in which the response variable is whether or not the new ideas are produced while the explanatory variables are agreement and disagreement."
   ]
  },
  {
   "cell_type": "markdown",
   "metadata": {},
   "source": [
    "For RQ4, we check the number of comments in which new ideas are produced when there is agreement or disagreement. Also, we count the number of ideas produced in comments than contain agreement and disagreement. Inferential statistics (e.g., student’s t-test) is conducted on the means of ideas produced on comments with agreement and disagreement to understand whether there is a significant difference in the number of ideas produced when agreements are present or vice versa."
   ]
  },
  {
   "cell_type": "markdown",
   "metadata": {},
   "source": [
    "## Load libraries"
   ]
  },
  {
   "cell_type": "code",
   "execution_count": 1,
   "metadata": {},
   "outputs": [],
   "source": [
    "# load libraries\n",
    "import pandas as pd\n",
    "import numpy as np\n",
    "import matplotlib.pyplot as plt\n",
    "import seaborn as sns\n",
    "import statsmodels.api as sm\n",
    "from scipy import stats\n",
    "\n",
    "from collections import defaultdict\n",
    "from predictor import predict_disagreement, get_dataset\n",
    "from statsmodels.formula.api import glm, ols\n",
    "from statsmodels.stats.outliers_influence import variance_inflation_factor\n",
    "\n",
    "plt.style.use('seaborn')"
   ]
  },
  {
   "cell_type": "markdown",
   "metadata": {},
   "source": [
    "## Load data"
   ]
  },
  {
   "cell_type": "markdown",
   "metadata": {},
   "source": [
    "### Topic: Member decision making and right"
   ]
  },
  {
   "cell_type": "code",
   "execution_count": 102,
   "metadata": {},
   "outputs": [
    {
     "name": "stdout",
     "output_type": "stream",
     "text": [
      "The dataset has 213 rows and 51 columns\n"
     ]
    }
   ],
   "source": [
    "member_df = pd.read_csv('data/member_decision_making_and_right.csv')\n",
    "nrows, ncols = member_df.shape\n",
    "print(f'The dataset has {nrows} rows and {ncols} columns')"
   ]
  },
  {
   "cell_type": "markdown",
   "metadata": {},
   "source": [
    "#### Columns"
   ]
  },
  {
   "cell_type": "code",
   "execution_count": 103,
   "metadata": {},
   "outputs": [
    {
     "data": {
      "text/plain": [
       "Index(['Background', 'Proposals', 'Time', 'User ID', 'User email', 'User name',\n",
       "       'Comment ID', 'Comment', 'Response ID', 'Response', 'Number of likes',\n",
       "       'Users who liked', 'Attachments', 'Comment.1', 'Response.1', 'Topic 1',\n",
       "       'Topic 2', 'Topic 3', 'disagreement', 'agreement',\n",
       "       'simple disagreement', 'elaborated disagreement', 'simple agreement',\n",
       "       'elaborated agreement', 'idea(s)', 'number of ideas', 'new idea',\n",
       "       'sourcing', 'value(s)', 'topic shift', 'brainstorming', 'blending',\n",
       "       'building', 'broadening', 'fact', 'value', 'policy', 'interpretation',\n",
       "       'target of disagreement', 'target of agreement', 'gives reason(s)',\n",
       "       'presents evidence', 'asks question(s)', 'provides information',\n",
       "       'clarifies position/stance', 'responds to previous comment',\n",
       "       'constructive tone', 'moderator post', 'acknowledges problem', 'notes',\n",
       "       'annotations for disagreement / new idea cascade(s)'],\n",
       "      dtype='object')"
      ]
     },
     "execution_count": 103,
     "metadata": {},
     "output_type": "execute_result"
    }
   ],
   "source": [
    "member_df.columns"
   ]
  },
  {
   "cell_type": "markdown",
   "metadata": {},
   "source": [
    "### Topic: Administration of an association"
   ]
  },
  {
   "cell_type": "code",
   "execution_count": 104,
   "metadata": {},
   "outputs": [
    {
     "name": "stdout",
     "output_type": "stream",
     "text": [
      "The dataset has 119 rows and 51 columns\n"
     ]
    }
   ],
   "source": [
    "admin_df = pd.read_csv('data/administration_of_association.csv')\n",
    "nrows, ncols = admin_df.shape\n",
    "print(f'The dataset has {nrows} rows and {ncols} columns')"
   ]
  },
  {
   "cell_type": "markdown",
   "metadata": {},
   "source": [
    "#### Columns"
   ]
  },
  {
   "cell_type": "code",
   "execution_count": 105,
   "metadata": {},
   "outputs": [
    {
     "data": {
      "text/plain": [
       "Index(['Background', 'Proposal', 'Time', 'User ID', 'User email', 'User name',\n",
       "       'Comment's ID', 'Comment', 'Response ID', 'Response', 'Amount of likes',\n",
       "       'Users who liked', 'Attachments', 'Comment.1', 'Response.1', 'Topic 1',\n",
       "       'Topic 2', 'Topic 3', 'disagreement', 'agreement',\n",
       "       'simple disagreement', 'elaborated disagreement', 'simple agreement',\n",
       "       'elaborated agreement', 'idea(s)', 'number of ideas', 'new idea',\n",
       "       'sourcing', 'value(s)', 'topic shift', 'brainstorming', 'blending',\n",
       "       'building', 'broadening', 'fact', 'value', 'policy', 'interpretation',\n",
       "       'target of disagreement', 'target of agreement', 'gives reason(s)',\n",
       "       'presents evidence', 'asks question(s)', 'provides information',\n",
       "       'clarifies position/stance', 'responds to previous comment',\n",
       "       'constructive tone', 'moderator post', 'acknowledges problem', 'notes',\n",
       "       'annotations for disagreement / new idea cascades'],\n",
       "      dtype='object')"
      ]
     },
     "execution_count": 105,
     "metadata": {},
     "output_type": "execute_result"
    }
   ],
   "source": [
    "admin_df.columns"
   ]
  },
  {
   "cell_type": "markdown",
   "metadata": {},
   "source": [
    "### Topic: Informally organized groups of an association"
   ]
  },
  {
   "cell_type": "code",
   "execution_count": 106,
   "metadata": {},
   "outputs": [
    {
     "name": "stdout",
     "output_type": "stream",
     "text": [
      "The dataset has 159 rows and 53 columns\n"
     ]
    }
   ],
   "source": [
    "informal_df = pd.read_csv('data/informally_organized_group_of_a.csv')\n",
    "nrows, ncols = informal_df.shape\n",
    "print(f'The dataset has {nrows} rows and {ncols} columns')"
   ]
  },
  {
   "cell_type": "markdown",
   "metadata": {},
   "source": [
    "#### Columns"
   ]
  },
  {
   "cell_type": "code",
   "execution_count": 107,
   "metadata": {},
   "outputs": [
    {
     "data": {
      "text/plain": [
       "Index(['Background', 'Proposal', 'Time', 'User ID', 'User email', 'User name',\n",
       "       'Comment ID', 'Comment', 'Response ID', 'Response', 'Number of likes',\n",
       "       'Users who liked', 'Attachments', 'Comment.1', 'Response.1', 'Topic 1',\n",
       "       'Topic 2', 'Topic 3', 'disagreement', 'agreement',\n",
       "       'simple disagreement', 'elaborated disagreement', 'simple agreement',\n",
       "       'elaborated agreement', 'idea(s)', 'number of ideas', 'new idea',\n",
       "       'sourcing', 'value(s)', 'topic shift', 'brainstorming', 'blending',\n",
       "       'building', 'broadening', 'fact', 'value', 'policy', 'IRRpolicy',\n",
       "       'interpretation', 'IRRinterpretation', 'target of disagreement',\n",
       "       'target of agreement', 'gives reason(s)', 'presents evidence',\n",
       "       'asks question(s)', 'provides information', 'clarifies position/stance',\n",
       "       'responds to previous comment', 'constructive tone',\n",
       "       'IRRconstructive tone', 'moderator post', 'acknowledges problem',\n",
       "       'annotations for disagreement / new idea cascade(s)'],\n",
       "      dtype='object')"
      ]
     },
     "execution_count": 107,
     "metadata": {},
     "output_type": "execute_result"
    }
   ],
   "source": [
    "informal_df.columns"
   ]
  },
  {
   "cell_type": "markdown",
   "metadata": {},
   "source": [
    "## Preprocess data"
   ]
  },
  {
   "cell_type": "markdown",
   "metadata": {},
   "source": [
    "### Normalize column names"
   ]
  },
  {
   "cell_type": "markdown",
   "metadata": {},
   "source": [
    "Put column names to lower case, replace spaces with underscore, delete leading and trailing spaces, and remove non alpha-numerical characters"
   ]
  },
  {
   "cell_type": "code",
   "execution_count": 108,
   "metadata": {},
   "outputs": [],
   "source": [
    "def normalize_column_names(names):\n",
    "    names = names.str.lower()\n",
    "    names = names.str.replace(' ','_')\n",
    "    names = names.str.replace('.','_')\n",
    "    names = names.str.replace('(','_')\n",
    "    names = names.str.replace(')','')\n",
    "    names = names.str.replace('/','_')\n",
    "    names = names.str.replace('___','_')\n",
    "    names = names.str.strip()\n",
    "    return names"
   ]
  },
  {
   "cell_type": "code",
   "execution_count": 109,
   "metadata": {},
   "outputs": [],
   "source": [
    "member_df.columns = normalize_column_names(member_df.columns)\n",
    "admin_df.columns = normalize_column_names(admin_df.columns)\n",
    "informal_df.columns = normalize_column_names(informal_df.columns)"
   ]
  },
  {
   "cell_type": "markdown",
   "metadata": {},
   "source": [
    "### Standarize column names"
   ]
  },
  {
   "cell_type": "markdown",
   "metadata": {},
   "source": [
    "Columns that contained the same information but have slightly different names are renamed for compatibility purposes"
   ]
  },
  {
   "cell_type": "code",
   "execution_count": 110,
   "metadata": {},
   "outputs": [],
   "source": [
    "member_df = member_df.rename(columns={\n",
    "    'annotations_for_disagreement_new_idea_cascade_s': 'annotations_for_disagreement_new_idea_cascades'\n",
    "})"
   ]
  },
  {
   "cell_type": "code",
   "execution_count": 111,
   "metadata": {},
   "outputs": [],
   "source": [
    "admin_df = admin_df.rename(columns={\n",
    "    'amount_of_likes': 'number_of_likes',\n",
    "    'comment\\'s_id': 'comment_id',\n",
    "    'proposal': 'proposals',    \n",
    "})"
   ]
  },
  {
   "cell_type": "code",
   "execution_count": 112,
   "metadata": {},
   "outputs": [],
   "source": [
    "informal_df = informal_df.rename(columns={\n",
    "    'annotations_for_disagreement_new_idea_cascade_s': 'annotations_for_disagreement_new_idea_cascades',\n",
    "    'proposal': 'proposals'\n",
    "})"
   ]
  },
  {
   "cell_type": "markdown",
   "metadata": {},
   "source": [
    "### Merge datasets in one dataframe"
   ]
  },
  {
   "cell_type": "markdown",
   "metadata": {},
   "source": [
    "Add an extra column to indicate the discussion topic"
   ]
  },
  {
   "cell_type": "code",
   "execution_count": 113,
   "metadata": {},
   "outputs": [],
   "source": [
    "member_df['topic'] = 'member'\n",
    "admin_df['topic'] = 'admin'\n",
    "informal_df['topic'] = 'informal'"
   ]
  },
  {
   "cell_type": "markdown",
   "metadata": {},
   "source": [
    "Merge datasets"
   ]
  },
  {
   "cell_type": "code",
   "execution_count": 114,
   "metadata": {},
   "outputs": [],
   "source": [
    "all_df = pd.concat([member_df, admin_df, informal_df], axis=0, ignore_index=True)"
   ]
  },
  {
   "cell_type": "code",
   "execution_count": 115,
   "metadata": {},
   "outputs": [
    {
     "name": "stdout",
     "output_type": "stream",
     "text": [
      "The merged dataset has 491 rows and 55 columns\n"
     ]
    }
   ],
   "source": [
    "nrows, ncols = all_df.shape\n",
    "print(f'The merged dataset has {nrows} rows and {ncols} columns')"
   ]
  },
  {
   "cell_type": "code",
   "execution_count": 116,
   "metadata": {},
   "outputs": [
    {
     "data": {
      "text/plain": [
       "Index(['background', 'proposals', 'time', 'user_id', 'user_email', 'user_name',\n",
       "       'comment_id', 'comment', 'response_id', 'response', 'number_of_likes',\n",
       "       'users_who_liked', 'attachments', 'comment_1', 'response_1', 'topic_1',\n",
       "       'topic_2', 'topic_3', 'disagreement', 'agreement',\n",
       "       'simple_disagreement', 'elaborated_disagreement', 'simple_agreement',\n",
       "       'elaborated_agreement', 'idea_s', 'number_of_ideas', 'new_idea',\n",
       "       'sourcing', 'value_s', 'topic_shift', 'brainstorming', 'blending',\n",
       "       'building', 'broadening', 'fact', 'value', 'policy', 'interpretation',\n",
       "       'target_of_disagreement', 'target_of_agreement', 'gives_reason_s',\n",
       "       'presents_evidence', 'asks_question_s', 'provides_information',\n",
       "       'clarifies_position_stance', 'responds_to_previous_comment',\n",
       "       'constructive_tone', 'moderator_post', 'acknowledges_problem', 'notes',\n",
       "       'annotations_for_disagreement_new_idea_cascades', 'topic', 'irrpolicy',\n",
       "       'irrinterpretation', 'irrconstructive_tone'],\n",
       "      dtype='object')"
      ]
     },
     "execution_count": 116,
     "metadata": {},
     "output_type": "execute_result"
    }
   ],
   "source": [
    "all_df.columns"
   ]
  },
  {
   "cell_type": "markdown",
   "metadata": {},
   "source": [
    "### Remove columns containing text in Finnish"
   ]
  },
  {
   "cell_type": "markdown",
   "metadata": {},
   "source": [
    "Text of comments and responses are both in Finnish and English. Columns `comment` and `response` that contain text in Finnish are removed because they will not be considered in this analysis."
   ]
  },
  {
   "cell_type": "code",
   "execution_count": 117,
   "metadata": {},
   "outputs": [],
   "source": [
    "all_df = all_df.drop(['comment', 'response'], axis=1)"
   ]
  },
  {
   "cell_type": "markdown",
   "metadata": {},
   "source": [
    "Columns `comment_1` and `response_1` are renamed removing `_1` from their names"
   ]
  },
  {
   "cell_type": "code",
   "execution_count": 118,
   "metadata": {},
   "outputs": [],
   "source": [
    "all_df = all_df.rename(columns={'comment_1': 'comment', 'response_1': 'response'})"
   ]
  },
  {
   "cell_type": "markdown",
   "metadata": {},
   "source": [
    "**Final columns**"
   ]
  },
  {
   "cell_type": "code",
   "execution_count": 119,
   "metadata": {},
   "outputs": [
    {
     "data": {
      "text/plain": [
       "Index(['background', 'proposals', 'time', 'user_id', 'user_email', 'user_name',\n",
       "       'comment_id', 'response_id', 'number_of_likes', 'users_who_liked',\n",
       "       'attachments', 'comment', 'response', 'topic_1', 'topic_2', 'topic_3',\n",
       "       'disagreement', 'agreement', 'simple_disagreement',\n",
       "       'elaborated_disagreement', 'simple_agreement', 'elaborated_agreement',\n",
       "       'idea_s', 'number_of_ideas', 'new_idea', 'sourcing', 'value_s',\n",
       "       'topic_shift', 'brainstorming', 'blending', 'building', 'broadening',\n",
       "       'fact', 'value', 'policy', 'interpretation', 'target_of_disagreement',\n",
       "       'target_of_agreement', 'gives_reason_s', 'presents_evidence',\n",
       "       'asks_question_s', 'provides_information', 'clarifies_position_stance',\n",
       "       'responds_to_previous_comment', 'constructive_tone', 'moderator_post',\n",
       "       'acknowledges_problem', 'notes',\n",
       "       'annotations_for_disagreement_new_idea_cascades', 'topic', 'irrpolicy',\n",
       "       'irrinterpretation', 'irrconstructive_tone'],\n",
       "      dtype='object')"
      ]
     },
     "execution_count": 119,
     "metadata": {},
     "output_type": "execute_result"
    }
   ],
   "source": [
    "all_df.columns"
   ]
  },
  {
   "cell_type": "markdown",
   "metadata": {},
   "source": [
    "### Check null values"
   ]
  },
  {
   "cell_type": "markdown",
   "metadata": {},
   "source": [
    "Check the number of null values by columns"
   ]
  },
  {
   "cell_type": "code",
   "execution_count": 120,
   "metadata": {},
   "outputs": [
    {
     "data": {
      "text/plain": [
       "background                                          3\n",
       "proposals                                           3\n",
       "time                                                3\n",
       "user_id                                             3\n",
       "user_email                                          3\n",
       "user_name                                           3\n",
       "comment_id                                        346\n",
       "response_id                                       148\n",
       "number_of_likes                                     0\n",
       "users_who_liked                                   263\n",
       "attachments                                       491\n",
       "comment                                           348\n",
       "response                                          146\n",
       "topic_1                                             4\n",
       "topic_2                                           147\n",
       "topic_3                                           358\n",
       "disagreement                                        0\n",
       "agreement                                           0\n",
       "simple_disagreement                                 0\n",
       "elaborated_disagreement                             0\n",
       "simple_agreement                                    0\n",
       "elaborated_agreement                                0\n",
       "idea_s                                             37\n",
       "number_of_ideas                                     1\n",
       "new_idea                                            0\n",
       "sourcing                                          330\n",
       "value_s                                           340\n",
       "topic_shift                                         0\n",
       "brainstorming                                       0\n",
       "blending                                            0\n",
       "building                                            0\n",
       "broadening                                          0\n",
       "fact                                                0\n",
       "value                                               0\n",
       "policy                                              0\n",
       "interpretation                                      0\n",
       "target_of_disagreement                            209\n",
       "target_of_agreement                               239\n",
       "gives_reason_s                                      0\n",
       "presents_evidence                                   0\n",
       "asks_question_s                                     0\n",
       "provides_information                                0\n",
       "clarifies_position_stance                           0\n",
       "responds_to_previous_comment                        0\n",
       "constructive_tone                                   0\n",
       "moderator_post                                      0\n",
       "acknowledges_problem                                0\n",
       "notes                                             398\n",
       "annotations_for_disagreement_new_idea_cascades    454\n",
       "topic                                               0\n",
       "irrpolicy                                         486\n",
       "irrinterpretation                                 486\n",
       "irrconstructive_tone                              486\n",
       "dtype: int64"
      ]
     },
     "execution_count": 120,
     "metadata": {},
     "output_type": "execute_result"
    }
   ],
   "source": [
    "all_df.isnull().sum()"
   ]
  },
  {
   "cell_type": "markdown",
   "metadata": {},
   "source": [
    "### Remove summary rows"
   ]
  },
  {
   "cell_type": "markdown",
   "metadata": {},
   "source": [
    "Remove rows that contain summaries. They are identified by having a null value in the column background."
   ]
  },
  {
   "cell_type": "code",
   "execution_count": 127,
   "metadata": {},
   "outputs": [],
   "source": [
    "idxs_to_remove = all_df[all_df.background.isnull()].index.values"
   ]
  },
  {
   "cell_type": "code",
   "execution_count": 128,
   "metadata": {},
   "outputs": [],
   "source": [
    "all_df = all_df.drop(index=idxs_to_remove)"
   ]
  },
  {
   "cell_type": "code",
   "execution_count": 129,
   "metadata": {},
   "outputs": [
    {
     "data": {
      "text/plain": [
       "(488, 53)"
      ]
     },
     "execution_count": 129,
     "metadata": {},
     "output_type": "execute_result"
    }
   ],
   "source": [
    "all_df.shape"
   ]
  },
  {
   "cell_type": "markdown",
   "metadata": {},
   "source": [
    "## RQ1. Predictors of disagreement"
   ]
  },
  {
   "cell_type": "markdown",
   "metadata": {},
   "source": [
    "### Methodology"
   ]
  },
  {
   "cell_type": "markdown",
   "metadata": {},
   "source": [
    "To understand which variables best predict disagreement logistic regression is applied through the following procedure:\n",
    "\n",
    "1. Select the explanatory variables or predictors of interest (all of the available in this case). The terms predictors and variables are used interchangeable from here;\n",
    "2. Cast predictors to numeric type ensuring that categorical predictors contain only binary values (1/0). Records in which categorical predictors contain values different from 0 or 1 are discarded;\n",
    "3. Compute correlation between the numerical predictors number of likes and number of ideas. Because the distribution values in the numerical variables does not follow a normal distribution, the non-parametric Spearman correlation method is used. Predictors that are not independent should not be included together in logistic regression models;\n",
    "4. Compute correlation between numerical and categorical variables. [Point-biserial correlation](https://www.statisticssolutions.com/point-biserial-correlation/) is used to understand the independence between categorical and numerical predictors. Predictors that are not independent should be included together in models;\n",
    "5. Cast categorical predictors to category type so later the correlation between these variable can be computed;\n",
    "6. Compute correlation between categorical predictors. Not independent predictors should not be included together in models;\n",
    "7. Fit logistic regression models considering all possible combinations of independent predictors;\n",
    "8. Select the best model and interpret the coefficients."
   ]
  },
  {
   "cell_type": "markdown",
   "metadata": {},
   "source": [
    "### 1. Define and select predictor variables for `disagreement`"
   ]
  },
  {
   "cell_type": "code",
   "execution_count": 130,
   "metadata": {},
   "outputs": [
    {
     "name": "stdout",
     "output_type": "stream",
     "text": [
      "In total 23 variables will be considered in the analysis of RQ1\n"
     ]
    }
   ],
   "source": [
    "predictors_disagreement = [\n",
    "    'number_of_likes', 'number_of_ideas', 'agreement', 'simple_disagreement', 'elaborated_disagreement', \n",
    "    'topic_shift', 'brainstorming', 'blending', 'building', 'broadening', 'fact', 'value', 'policy', \n",
    "    'interpretation', 'gives_reason_s', 'presents_evidence', 'asks_question_s', 'provides_information', \n",
    "    'clarifies_position_stance', 'responds_to_previous_comment', 'constructive_tone', 'moderator_post', \n",
    "    'acknowledges_problem'\n",
    "]\n",
    "print(f\"In total {len(predictors_disagreement)} variables will be considered in the analysis of RQ1\")"
   ]
  },
  {
   "cell_type": "markdown",
   "metadata": {},
   "source": [
    "#### Select columns that include predictors and the target variable"
   ]
  },
  {
   "cell_type": "code",
   "execution_count": 131,
   "metadata": {},
   "outputs": [
    {
     "name": "stdout",
     "output_type": "stream",
     "text": [
      "The analysis is conducted with a dataset composed of 488 rows and 24 columns\n"
     ]
    }
   ],
   "source": [
    "rq1_df = all_df.loc[:,predictors_disagreement+['disagreement']]\n",
    "print(f\"The analysis is conducted with a dataset composed of {rq1_df.shape[0]} rows and {rq1_df.shape[1]} columns\")"
   ]
  },
  {
   "cell_type": "markdown",
   "metadata": {},
   "source": [
    "### 2. Cast variables to numeric"
   ]
  },
  {
   "cell_type": "markdown",
   "metadata": {},
   "source": [
    "Some variables have the values `unclear` and `nan`, which need to be converted to numerical before casting the variable to this type."
   ]
  },
  {
   "cell_type": "code",
   "execution_count": 132,
   "metadata": {},
   "outputs": [],
   "source": [
    "numerical_predictors = ['number_of_likes', 'number_of_ideas']"
   ]
  },
  {
   "cell_type": "code",
   "execution_count": 133,
   "metadata": {},
   "outputs": [
    {
     "name": "stderr",
     "output_type": "stream",
     "text": [
      "/home/jorge/Dropbox/Data Analyses/disagreement/env/lib/python3.7/site-packages/pandas/core/ops/array_ops.py:253: FutureWarning: elementwise comparison failed; returning scalar instead, but in the future will perform elementwise comparison\n",
      "  res_values = method(rvalues)\n"
     ]
    }
   ],
   "source": [
    "for col in rq1_df.columns:\n",
    "    rq1_df.loc[rq1_df[col]=='unclear', col] = 0\n",
    "    rq1_df.loc[rq1_df[col].isna(), col] = 0\n",
    "    rq1_df[col] = pd.to_numeric(rq1_df[col], downcast='unsigned')\n",
    "    if col not in numerical_predictors:\n",
    "        unique_values = rq1_df[col].unique()\n",
    "        invalid_values = set(unique_values) - set([0,1])\n",
    "        if len(invalid_values) > 0:  # the column has invalid values                   \n",
    "            invalid_indexes = list(rq1_df.loc[~rq1_df[col].isin([0,1])].index)\n",
    "            if len(invalid_indexes) > 0:\n",
    "                print(f'Found the following invalid values {invalid_values} in {len(invalid_indexes)} rows of '\\\n",
    "                      f'the column {col}. Rows has been discarded.')\n",
    "                rq1_df = rq1_df.drop(index=invalid_indexes)            "
   ]
  },
  {
   "cell_type": "code",
   "execution_count": 134,
   "metadata": {},
   "outputs": [
    {
     "name": "stdout",
     "output_type": "stream",
     "text": [
      "After the step above the dataset is composed of 488 rows and 24 columns\n"
     ]
    }
   ],
   "source": [
    "print(f\"After the step above the dataset is composed of {rq1_df.shape[0]} rows and {rq1_df.shape[1]} columns\")"
   ]
  },
  {
   "cell_type": "markdown",
   "metadata": {},
   "source": [
    "#### Check variable types"
   ]
  },
  {
   "cell_type": "code",
   "execution_count": 135,
   "metadata": {},
   "outputs": [
    {
     "name": "stdout",
     "output_type": "stream",
     "text": [
      "<class 'pandas.core.frame.DataFrame'>\n",
      "Int64Index: 488 entries, 0 to 489\n",
      "Data columns (total 24 columns):\n",
      " #   Column                        Non-Null Count  Dtype\n",
      "---  ------                        --------------  -----\n",
      " 0   number_of_likes               488 non-null    uint8\n",
      " 1   number_of_ideas               488 non-null    uint8\n",
      " 2   agreement                     488 non-null    uint8\n",
      " 3   simple_disagreement           488 non-null    uint8\n",
      " 4   elaborated_disagreement       488 non-null    uint8\n",
      " 5   topic_shift                   488 non-null    uint8\n",
      " 6   brainstorming                 488 non-null    uint8\n",
      " 7   blending                      488 non-null    uint8\n",
      " 8   building                      488 non-null    uint8\n",
      " 9   broadening                    488 non-null    uint8\n",
      " 10  fact                          488 non-null    uint8\n",
      " 11  value                         488 non-null    uint8\n",
      " 12  policy                        488 non-null    uint8\n",
      " 13  interpretation                488 non-null    uint8\n",
      " 14  gives_reason_s                488 non-null    uint8\n",
      " 15  presents_evidence             488 non-null    uint8\n",
      " 16  asks_question_s               488 non-null    uint8\n",
      " 17  provides_information          488 non-null    uint8\n",
      " 18  clarifies_position_stance     488 non-null    uint8\n",
      " 19  responds_to_previous_comment  488 non-null    uint8\n",
      " 20  constructive_tone             488 non-null    uint8\n",
      " 21  moderator_post                488 non-null    uint8\n",
      " 22  acknowledges_problem          488 non-null    uint8\n",
      " 23  disagreement                  488 non-null    uint8\n",
      "dtypes: uint8(24)\n",
      "memory usage: 15.2 KB\n"
     ]
    }
   ],
   "source": [
    "rq1_df.info()"
   ]
  },
  {
   "cell_type": "markdown",
   "metadata": {},
   "source": [
    "### 3. Check independence between numerical variables"
   ]
  },
  {
   "cell_type": "markdown",
   "metadata": {},
   "source": [
    "We use Persons correlation to find out whether the numerical variables `number_of_likes` and `number_of_ideas` are correlated."
   ]
  },
  {
   "cell_type": "code",
   "execution_count": 136,
   "metadata": {},
   "outputs": [],
   "source": [
    "alpha_level = 0.05"
   ]
  },
  {
   "cell_type": "markdown",
   "metadata": {},
   "source": [
    "Distribution of `number_of_likes`"
   ]
  },
  {
   "cell_type": "code",
   "execution_count": 137,
   "metadata": {},
   "outputs": [
    {
     "data": {
      "text/plain": [
       "<matplotlib.axes._subplots.AxesSubplot at 0x7f55d0b0ec88>"
      ]
     },
     "execution_count": 137,
     "metadata": {},
     "output_type": "execute_result"
    },
    {
     "data": {
      "image/png": "[encoded data removed]",
      "text/plain": [
       "<Figure size 576x396 with 1 Axes>"
      ]
     },
     "metadata": {},
     "output_type": "display_data"
    }
   ],
   "source": [
    "rq1_df['number_of_likes'].hist()"
   ]
  },
  {
   "cell_type": "markdown",
   "metadata": {},
   "source": [
    "Distribution of `number_of_ideas`"
   ]
  },
  {
   "cell_type": "code",
   "execution_count": 138,
   "metadata": {},
   "outputs": [
    {
     "data": {
      "text/plain": [
       "<matplotlib.axes._subplots.AxesSubplot at 0x7f55d0a81cf8>"
      ]
     },
     "execution_count": 138,
     "metadata": {},
     "output_type": "execute_result"
    },
    {
     "data": {
      "image/png": "[encoded data removed]",
      "text/plain": [
       "<Figure size 576x396 with 1 Axes>"
      ]
     },
     "metadata": {},
     "output_type": "display_data"
    }
   ],
   "source": [
    "rq1_df['number_of_ideas'].hist()"
   ]
  },
  {
   "cell_type": "markdown",
   "metadata": {},
   "source": [
    "Because data are not distributed normally, a non-parametric correlation method is used"
   ]
  },
  {
   "cell_type": "code",
   "execution_count": 139,
   "metadata": {},
   "outputs": [],
   "source": [
    "correlation, p_value = stats.spearmanr(rq1_df['number_of_likes'], rq1_df['number_of_ideas'])"
   ]
  },
  {
   "cell_type": "code",
   "execution_count": 140,
   "metadata": {},
   "outputs": [
    {
     "name": "stdout",
     "output_type": "stream",
     "text": [
      "The numerical variables are not correlated, corr: 0.11.\n"
     ]
    }
   ],
   "source": [
    "if correlation > 0.5:\n",
    "    if p_val < alpha_level:\n",
    "        print(f'The numerical variables are strongly and statistically significant correlated, '\\\n",
    "              f'corr: {round(correlation,2)}, p-value: {round(p_value,4)}.')\n",
    "    else:\n",
    "        print(f'The numerical variables are strongly but not statistically significant correlated, '\\\n",
    "              f'corr: {round(correlation,2)}, p-value: {round(p_value,4)}.')\n",
    "else:\n",
    "    print(f'The numerical variables are not correlated, corr: {round(correlation,2)}.')"
   ]
  },
  {
   "cell_type": "markdown",
   "metadata": {},
   "source": [
    "Numerical variables are not correlated, so they can be included together in models."
   ]
  },
  {
   "cell_type": "markdown",
   "metadata": {},
   "source": [
    "### 4. Check independence between numerical and categorical variables"
   ]
  },
  {
   "cell_type": "markdown",
   "metadata": {},
   "source": [
    "Persons correlation is employed to analyze correlation between numerical and categorical variables. Having dichotomous categorical variables, Persons correlation can be used [ref](https://www.researchgate.net/post/Can_I_use_Pearsons_correlation_coefficient_to_know_the_relation_between_perception_and_gender_age_income). "
   ]
  },
  {
   "cell_type": "code",
   "execution_count": 141,
   "metadata": {},
   "outputs": [],
   "source": [
    "independence_num_cat = pd.DataFrame(columns=['number_of_likes_cor', 'number_of_likes_p_value', \n",
    "                                             'number_of_ideas_cor', 'number_of_ideas_p_value'], \n",
    "                                    index=predictors_disagreement)\n",
    "for predictor_1 in numerical_predictors:    \n",
    "    for predictor_2 in predictors_disagreement:        \n",
    "        if predictor_2 == predictor_1:\n",
    "            continue\n",
    "        correlation, p_value = stats.spearmanr(rq1_df[predictor_1],rq1_df[predictor_2])\n",
    "        if predictor_1 == 'number_of_likes':\n",
    "            independence_num_cat.loc[predictor_2, 'number_of_likes_cor'] = round(correlation, 3)\n",
    "            independence_num_cat.loc[predictor_2, 'number_of_likes_p_value'] = round(p_value, 3)\n",
    "        else:\n",
    "            independence_num_cat.loc[predictor_2, 'number_of_ideas_cor'] = round(correlation, 3)\n",
    "            independence_num_cat.loc[predictor_2, 'number_of_ideas_p_value'] = round(p_value, 3)"
   ]
  },
  {
   "cell_type": "code",
   "execution_count": 142,
   "metadata": {},
   "outputs": [
    {
     "data": {
      "text/html": [
       "<div>\n",
       "<style scoped>\n",
       "    .dataframe tbody tr th:only-of-type {\n",
       "        vertical-align: middle;\n",
       "    }\n",
       "\n",
       "    .dataframe tbody tr th {\n",
       "        vertical-align: top;\n",
       "    }\n",
       "\n",
       "    .dataframe thead th {\n",
       "        text-align: right;\n",
       "    }\n",
       "</style>\n",
       "<table border=\"1\" class=\"dataframe\">\n",
       "  <thead>\n",
       "    <tr style=\"text-align: right;\">\n",
       "      <th></th>\n",
       "      <th>number_of_likes_cor</th>\n",
       "      <th>number_of_likes_p_value</th>\n",
       "      <th>number_of_ideas_cor</th>\n",
       "      <th>number_of_ideas_p_value</th>\n",
       "    </tr>\n",
       "  </thead>\n",
       "  <tbody>\n",
       "    <tr>\n",
       "      <th>number_of_likes</th>\n",
       "      <td>NaN</td>\n",
       "      <td>NaN</td>\n",
       "      <td>0.114</td>\n",
       "      <td>0.011</td>\n",
       "    </tr>\n",
       "    <tr>\n",
       "      <th>number_of_ideas</th>\n",
       "      <td>0.114</td>\n",
       "      <td>0.011</td>\n",
       "      <td>NaN</td>\n",
       "      <td>NaN</td>\n",
       "    </tr>\n",
       "    <tr>\n",
       "      <th>agreement</th>\n",
       "      <td>0.105</td>\n",
       "      <td>0.021</td>\n",
       "      <td>0.094</td>\n",
       "      <td>0.039</td>\n",
       "    </tr>\n",
       "    <tr>\n",
       "      <th>simple_disagreement</th>\n",
       "      <td>-0.084</td>\n",
       "      <td>0.063</td>\n",
       "      <td>-0.176</td>\n",
       "      <td>0</td>\n",
       "    </tr>\n",
       "    <tr>\n",
       "      <th>elaborated_disagreement</th>\n",
       "      <td>-0.091</td>\n",
       "      <td>0.044</td>\n",
       "      <td>0.328</td>\n",
       "      <td>0</td>\n",
       "    </tr>\n",
       "    <tr>\n",
       "      <th>topic_shift</th>\n",
       "      <td>0.127</td>\n",
       "      <td>0.005</td>\n",
       "      <td>0.109</td>\n",
       "      <td>0.016</td>\n",
       "    </tr>\n",
       "    <tr>\n",
       "      <th>brainstorming</th>\n",
       "      <td>0.188</td>\n",
       "      <td>0</td>\n",
       "      <td>0.41</td>\n",
       "      <td>0</td>\n",
       "    </tr>\n",
       "    <tr>\n",
       "      <th>blending</th>\n",
       "      <td>0.094</td>\n",
       "      <td>0.037</td>\n",
       "      <td>0.251</td>\n",
       "      <td>0</td>\n",
       "    </tr>\n",
       "    <tr>\n",
       "      <th>building</th>\n",
       "      <td>-0.145</td>\n",
       "      <td>0.001</td>\n",
       "      <td>0.289</td>\n",
       "      <td>0</td>\n",
       "    </tr>\n",
       "    <tr>\n",
       "      <th>broadening</th>\n",
       "      <td>0.043</td>\n",
       "      <td>0.348</td>\n",
       "      <td>0.231</td>\n",
       "      <td>0</td>\n",
       "    </tr>\n",
       "    <tr>\n",
       "      <th>fact</th>\n",
       "      <td>-0.089</td>\n",
       "      <td>0.049</td>\n",
       "      <td>0.061</td>\n",
       "      <td>0.177</td>\n",
       "    </tr>\n",
       "    <tr>\n",
       "      <th>value</th>\n",
       "      <td>0.03</td>\n",
       "      <td>0.512</td>\n",
       "      <td>0.226</td>\n",
       "      <td>0</td>\n",
       "    </tr>\n",
       "    <tr>\n",
       "      <th>policy</th>\n",
       "      <td>-0.024</td>\n",
       "      <td>0.593</td>\n",
       "      <td>0.198</td>\n",
       "      <td>0</td>\n",
       "    </tr>\n",
       "    <tr>\n",
       "      <th>interpretation</th>\n",
       "      <td>-0.09</td>\n",
       "      <td>0.047</td>\n",
       "      <td>0.191</td>\n",
       "      <td>0</td>\n",
       "    </tr>\n",
       "    <tr>\n",
       "      <th>gives_reason_s</th>\n",
       "      <td>0.122</td>\n",
       "      <td>0.007</td>\n",
       "      <td>0.481</td>\n",
       "      <td>0</td>\n",
       "    </tr>\n",
       "    <tr>\n",
       "      <th>presents_evidence</th>\n",
       "      <td>0.014</td>\n",
       "      <td>0.764</td>\n",
       "      <td>0.079</td>\n",
       "      <td>0.082</td>\n",
       "    </tr>\n",
       "    <tr>\n",
       "      <th>asks_question_s</th>\n",
       "      <td>-0.133</td>\n",
       "      <td>0.003</td>\n",
       "      <td>0.079</td>\n",
       "      <td>0.083</td>\n",
       "    </tr>\n",
       "    <tr>\n",
       "      <th>provides_information</th>\n",
       "      <td>0.013</td>\n",
       "      <td>0.774</td>\n",
       "      <td>-0.057</td>\n",
       "      <td>0.212</td>\n",
       "    </tr>\n",
       "    <tr>\n",
       "      <th>clarifies_position_stance</th>\n",
       "      <td>-0.107</td>\n",
       "      <td>0.018</td>\n",
       "      <td>0.137</td>\n",
       "      <td>0.002</td>\n",
       "    </tr>\n",
       "    <tr>\n",
       "      <th>responds_to_previous_comment</th>\n",
       "      <td>-0.182</td>\n",
       "      <td>0</td>\n",
       "      <td>0.032</td>\n",
       "      <td>0.484</td>\n",
       "    </tr>\n",
       "    <tr>\n",
       "      <th>constructive_tone</th>\n",
       "      <td>0.083</td>\n",
       "      <td>0.067</td>\n",
       "      <td>0.053</td>\n",
       "      <td>0.239</td>\n",
       "    </tr>\n",
       "    <tr>\n",
       "      <th>moderator_post</th>\n",
       "      <td>0.195</td>\n",
       "      <td>0</td>\n",
       "      <td>-0.198</td>\n",
       "      <td>0</td>\n",
       "    </tr>\n",
       "    <tr>\n",
       "      <th>acknowledges_problem</th>\n",
       "      <td>0.023</td>\n",
       "      <td>0.605</td>\n",
       "      <td>0.264</td>\n",
       "      <td>0</td>\n",
       "    </tr>\n",
       "  </tbody>\n",
       "</table>\n",
       "</div>"
      ],
      "text/plain": [
       "                             number_of_likes_cor number_of_likes_p_value  \\\n",
       "number_of_likes                              NaN                     NaN   \n",
       "number_of_ideas                            0.114                   0.011   \n",
       "agreement                                  0.105                   0.021   \n",
       "simple_disagreement                       -0.084                   0.063   \n",
       "elaborated_disagreement                   -0.091                   0.044   \n",
       "topic_shift                                0.127                   0.005   \n",
       "brainstorming                              0.188                       0   \n",
       "blending                                   0.094                   0.037   \n",
       "building                                  -0.145                   0.001   \n",
       "broadening                                 0.043                   0.348   \n",
       "fact                                      -0.089                   0.049   \n",
       "value                                       0.03                   0.512   \n",
       "policy                                    -0.024                   0.593   \n",
       "interpretation                             -0.09                   0.047   \n",
       "gives_reason_s                             0.122                   0.007   \n",
       "presents_evidence                          0.014                   0.764   \n",
       "asks_question_s                           -0.133                   0.003   \n",
       "provides_information                       0.013                   0.774   \n",
       "clarifies_position_stance                 -0.107                   0.018   \n",
       "responds_to_previous_comment              -0.182                       0   \n",
       "constructive_tone                          0.083                   0.067   \n",
       "moderator_post                             0.195                       0   \n",
       "acknowledges_problem                       0.023                   0.605   \n",
       "\n",
       "                             number_of_ideas_cor number_of_ideas_p_value  \n",
       "number_of_likes                            0.114                   0.011  \n",
       "number_of_ideas                              NaN                     NaN  \n",
       "agreement                                  0.094                   0.039  \n",
       "simple_disagreement                       -0.176                       0  \n",
       "elaborated_disagreement                    0.328                       0  \n",
       "topic_shift                                0.109                   0.016  \n",
       "brainstorming                               0.41                       0  \n",
       "blending                                   0.251                       0  \n",
       "building                                   0.289                       0  \n",
       "broadening                                 0.231                       0  \n",
       "fact                                       0.061                   0.177  \n",
       "value                                      0.226                       0  \n",
       "policy                                     0.198                       0  \n",
       "interpretation                             0.191                       0  \n",
       "gives_reason_s                             0.481                       0  \n",
       "presents_evidence                          0.079                   0.082  \n",
       "asks_question_s                            0.079                   0.083  \n",
       "provides_information                      -0.057                   0.212  \n",
       "clarifies_position_stance                  0.137                   0.002  \n",
       "responds_to_previous_comment               0.032                   0.484  \n",
       "constructive_tone                          0.053                   0.239  \n",
       "moderator_post                            -0.198                       0  \n",
       "acknowledges_problem                       0.264                       0  "
      ]
     },
     "execution_count": 142,
     "metadata": {},
     "output_type": "execute_result"
    }
   ],
   "source": [
    "independence_num_cat"
   ]
  },
  {
   "cell_type": "markdown",
   "metadata": {},
   "source": [
    "Numerical variables don't show to be strongly correlated with any of the categorical variables. We understand that two variables are not correlated if the correlation between them is less than 0.5."
   ]
  },
  {
   "cell_type": "markdown",
   "metadata": {},
   "source": [
    "### 5. Cast categorical variables to category type"
   ]
  },
  {
   "cell_type": "code",
   "execution_count": 144,
   "metadata": {},
   "outputs": [],
   "source": [
    "for col in rq1_df.columns:\n",
    "    if col not in numerical_predictors:\n",
    "        rq1_df[col] = rq1_df[col].astype('category')"
   ]
  },
  {
   "cell_type": "code",
   "execution_count": 145,
   "metadata": {},
   "outputs": [
    {
     "name": "stdout",
     "output_type": "stream",
     "text": [
      "<class 'pandas.core.frame.DataFrame'>\n",
      "Int64Index: 488 entries, 0 to 489\n",
      "Data columns (total 24 columns):\n",
      " #   Column                        Non-Null Count  Dtype   \n",
      "---  ------                        --------------  -----   \n",
      " 0   number_of_likes               488 non-null    uint8   \n",
      " 1   number_of_ideas               488 non-null    uint8   \n",
      " 2   agreement                     488 non-null    category\n",
      " 3   simple_disagreement           488 non-null    category\n",
      " 4   elaborated_disagreement       488 non-null    category\n",
      " 5   topic_shift                   488 non-null    category\n",
      " 6   brainstorming                 488 non-null    category\n",
      " 7   blending                      488 non-null    category\n",
      " 8   building                      488 non-null    category\n",
      " 9   broadening                    488 non-null    category\n",
      " 10  fact                          488 non-null    category\n",
      " 11  value                         488 non-null    category\n",
      " 12  policy                        488 non-null    category\n",
      " 13  interpretation                488 non-null    category\n",
      " 14  gives_reason_s                488 non-null    category\n",
      " 15  presents_evidence             488 non-null    category\n",
      " 16  asks_question_s               488 non-null    category\n",
      " 17  provides_information          488 non-null    category\n",
      " 18  clarifies_position_stance     488 non-null    category\n",
      " 19  responds_to_previous_comment  488 non-null    category\n",
      " 20  constructive_tone             488 non-null    category\n",
      " 21  moderator_post                488 non-null    category\n",
      " 22  acknowledges_problem          488 non-null    category\n",
      " 23  disagreement                  488 non-null    category\n",
      "dtypes: category(22), uint8(2)\n",
      "memory usage: 17.3 KB\n"
     ]
    }
   ],
   "source": [
    "rq1_df.info()"
   ]
  },
  {
   "cell_type": "markdown",
   "metadata": {},
   "source": [
    "### 6. Check independence of categorial variables"
   ]
  },
  {
   "cell_type": "code",
   "execution_count": 146,
   "metadata": {},
   "outputs": [],
   "source": [
    "independece_analysis = pd.DataFrame(columns=predictors_disagreement, index=predictors_disagreement)\n",
    "for predictor_1 in predictors_disagreement:\n",
    "    if predictor_1 in numerical_predictors:\n",
    "        continue\n",
    "    for predictor_2 in predictors_disagreement:        \n",
    "        if predictor_2 in numerical_predictors:\n",
    "            continue\n",
    "        if predictor_2 == predictor_1:\n",
    "            continue\n",
    "        cross_tab = pd.crosstab(rq1_df[predictor_1],rq1_df[predictor_2])\n",
    "        chi2_stat, p_val, dof, ex = stats.chi2_contingency(cross_tab)\n",
    "        if p_val < alpha_level:\n",
    "            independece_analysis.loc[predictor_1,predictor_2] = 'F'\n",
    "        else:\n",
    "            independece_analysis.loc[predictor_1,predictor_2] = 'T'"
   ]
  },
  {
   "cell_type": "code",
   "execution_count": 147,
   "metadata": {},
   "outputs": [
    {
     "data": {
      "text/html": [
       "<div>\n",
       "<style scoped>\n",
       "    .dataframe tbody tr th:only-of-type {\n",
       "        vertical-align: middle;\n",
       "    }\n",
       "\n",
       "    .dataframe tbody tr th {\n",
       "        vertical-align: top;\n",
       "    }\n",
       "\n",
       "    .dataframe thead th {\n",
       "        text-align: right;\n",
       "    }\n",
       "</style>\n",
       "<table border=\"1\" class=\"dataframe\">\n",
       "  <thead>\n",
       "    <tr style=\"text-align: right;\">\n",
       "      <th></th>\n",
       "      <th>agreement</th>\n",
       "      <th>simple_disagreement</th>\n",
       "      <th>elaborated_disagreement</th>\n",
       "      <th>topic_shift</th>\n",
       "      <th>brainstorming</th>\n",
       "      <th>blending</th>\n",
       "      <th>building</th>\n",
       "      <th>broadening</th>\n",
       "      <th>fact</th>\n",
       "      <th>value</th>\n",
       "      <th>...</th>\n",
       "      <th>interpretation</th>\n",
       "      <th>gives_reason_s</th>\n",
       "      <th>presents_evidence</th>\n",
       "      <th>asks_question_s</th>\n",
       "      <th>provides_information</th>\n",
       "      <th>clarifies_position_stance</th>\n",
       "      <th>responds_to_previous_comment</th>\n",
       "      <th>constructive_tone</th>\n",
       "      <th>moderator_post</th>\n",
       "      <th>acknowledges_problem</th>\n",
       "    </tr>\n",
       "  </thead>\n",
       "  <tbody>\n",
       "    <tr>\n",
       "      <th>agreement</th>\n",
       "      <td>NaN</td>\n",
       "      <td>F</td>\n",
       "      <td>F</td>\n",
       "      <td>F</td>\n",
       "      <td>T</td>\n",
       "      <td>F</td>\n",
       "      <td>F</td>\n",
       "      <td>T</td>\n",
       "      <td>F</td>\n",
       "      <td>F</td>\n",
       "      <td>...</td>\n",
       "      <td>T</td>\n",
       "      <td>F</td>\n",
       "      <td>T</td>\n",
       "      <td>F</td>\n",
       "      <td>T</td>\n",
       "      <td>F</td>\n",
       "      <td>T</td>\n",
       "      <td>F</td>\n",
       "      <td>T</td>\n",
       "      <td>F</td>\n",
       "    </tr>\n",
       "    <tr>\n",
       "      <th>simple_disagreement</th>\n",
       "      <td>F</td>\n",
       "      <td>NaN</td>\n",
       "      <td>F</td>\n",
       "      <td>T</td>\n",
       "      <td>F</td>\n",
       "      <td>T</td>\n",
       "      <td>T</td>\n",
       "      <td>F</td>\n",
       "      <td>T</td>\n",
       "      <td>F</td>\n",
       "      <td>...</td>\n",
       "      <td>T</td>\n",
       "      <td>F</td>\n",
       "      <td>T</td>\n",
       "      <td>T</td>\n",
       "      <td>T</td>\n",
       "      <td>T</td>\n",
       "      <td>T</td>\n",
       "      <td>F</td>\n",
       "      <td>T</td>\n",
       "      <td>F</td>\n",
       "    </tr>\n",
       "    <tr>\n",
       "      <th>elaborated_disagreement</th>\n",
       "      <td>F</td>\n",
       "      <td>F</td>\n",
       "      <td>NaN</td>\n",
       "      <td>T</td>\n",
       "      <td>F</td>\n",
       "      <td>T</td>\n",
       "      <td>F</td>\n",
       "      <td>T</td>\n",
       "      <td>F</td>\n",
       "      <td>F</td>\n",
       "      <td>...</td>\n",
       "      <td>F</td>\n",
       "      <td>F</td>\n",
       "      <td>F</td>\n",
       "      <td>F</td>\n",
       "      <td>T</td>\n",
       "      <td>F</td>\n",
       "      <td>F</td>\n",
       "      <td>T</td>\n",
       "      <td>F</td>\n",
       "      <td>T</td>\n",
       "    </tr>\n",
       "    <tr>\n",
       "      <th>topic_shift</th>\n",
       "      <td>F</td>\n",
       "      <td>T</td>\n",
       "      <td>T</td>\n",
       "      <td>NaN</td>\n",
       "      <td>F</td>\n",
       "      <td>T</td>\n",
       "      <td>F</td>\n",
       "      <td>F</td>\n",
       "      <td>T</td>\n",
       "      <td>T</td>\n",
       "      <td>...</td>\n",
       "      <td>T</td>\n",
       "      <td>T</td>\n",
       "      <td>T</td>\n",
       "      <td>T</td>\n",
       "      <td>T</td>\n",
       "      <td>F</td>\n",
       "      <td>F</td>\n",
       "      <td>T</td>\n",
       "      <td>T</td>\n",
       "      <td>T</td>\n",
       "    </tr>\n",
       "    <tr>\n",
       "      <th>brainstorming</th>\n",
       "      <td>T</td>\n",
       "      <td>F</td>\n",
       "      <td>F</td>\n",
       "      <td>F</td>\n",
       "      <td>NaN</td>\n",
       "      <td>F</td>\n",
       "      <td>T</td>\n",
       "      <td>F</td>\n",
       "      <td>T</td>\n",
       "      <td>T</td>\n",
       "      <td>...</td>\n",
       "      <td>T</td>\n",
       "      <td>F</td>\n",
       "      <td>T</td>\n",
       "      <td>T</td>\n",
       "      <td>T</td>\n",
       "      <td>T</td>\n",
       "      <td>F</td>\n",
       "      <td>F</td>\n",
       "      <td>T</td>\n",
       "      <td>T</td>\n",
       "    </tr>\n",
       "    <tr>\n",
       "      <th>blending</th>\n",
       "      <td>F</td>\n",
       "      <td>T</td>\n",
       "      <td>T</td>\n",
       "      <td>T</td>\n",
       "      <td>F</td>\n",
       "      <td>NaN</td>\n",
       "      <td>T</td>\n",
       "      <td>T</td>\n",
       "      <td>T</td>\n",
       "      <td>F</td>\n",
       "      <td>...</td>\n",
       "      <td>T</td>\n",
       "      <td>F</td>\n",
       "      <td>T</td>\n",
       "      <td>F</td>\n",
       "      <td>T</td>\n",
       "      <td>T</td>\n",
       "      <td>F</td>\n",
       "      <td>T</td>\n",
       "      <td>T</td>\n",
       "      <td>F</td>\n",
       "    </tr>\n",
       "    <tr>\n",
       "      <th>building</th>\n",
       "      <td>F</td>\n",
       "      <td>T</td>\n",
       "      <td>F</td>\n",
       "      <td>F</td>\n",
       "      <td>T</td>\n",
       "      <td>T</td>\n",
       "      <td>NaN</td>\n",
       "      <td>T</td>\n",
       "      <td>F</td>\n",
       "      <td>T</td>\n",
       "      <td>...</td>\n",
       "      <td>F</td>\n",
       "      <td>F</td>\n",
       "      <td>F</td>\n",
       "      <td>F</td>\n",
       "      <td>F</td>\n",
       "      <td>F</td>\n",
       "      <td>F</td>\n",
       "      <td>T</td>\n",
       "      <td>F</td>\n",
       "      <td>T</td>\n",
       "    </tr>\n",
       "    <tr>\n",
       "      <th>broadening</th>\n",
       "      <td>T</td>\n",
       "      <td>F</td>\n",
       "      <td>T</td>\n",
       "      <td>F</td>\n",
       "      <td>F</td>\n",
       "      <td>T</td>\n",
       "      <td>T</td>\n",
       "      <td>NaN</td>\n",
       "      <td>T</td>\n",
       "      <td>F</td>\n",
       "      <td>...</td>\n",
       "      <td>T</td>\n",
       "      <td>F</td>\n",
       "      <td>F</td>\n",
       "      <td>T</td>\n",
       "      <td>F</td>\n",
       "      <td>T</td>\n",
       "      <td>T</td>\n",
       "      <td>T</td>\n",
       "      <td>F</td>\n",
       "      <td>F</td>\n",
       "    </tr>\n",
       "    <tr>\n",
       "      <th>fact</th>\n",
       "      <td>F</td>\n",
       "      <td>T</td>\n",
       "      <td>F</td>\n",
       "      <td>T</td>\n",
       "      <td>T</td>\n",
       "      <td>T</td>\n",
       "      <td>F</td>\n",
       "      <td>T</td>\n",
       "      <td>NaN</td>\n",
       "      <td>T</td>\n",
       "      <td>...</td>\n",
       "      <td>F</td>\n",
       "      <td>F</td>\n",
       "      <td>F</td>\n",
       "      <td>T</td>\n",
       "      <td>T</td>\n",
       "      <td>F</td>\n",
       "      <td>F</td>\n",
       "      <td>T</td>\n",
       "      <td>T</td>\n",
       "      <td>T</td>\n",
       "    </tr>\n",
       "    <tr>\n",
       "      <th>value</th>\n",
       "      <td>F</td>\n",
       "      <td>F</td>\n",
       "      <td>F</td>\n",
       "      <td>T</td>\n",
       "      <td>T</td>\n",
       "      <td>F</td>\n",
       "      <td>T</td>\n",
       "      <td>F</td>\n",
       "      <td>T</td>\n",
       "      <td>NaN</td>\n",
       "      <td>...</td>\n",
       "      <td>F</td>\n",
       "      <td>F</td>\n",
       "      <td>F</td>\n",
       "      <td>T</td>\n",
       "      <td>T</td>\n",
       "      <td>T</td>\n",
       "      <td>T</td>\n",
       "      <td>T</td>\n",
       "      <td>T</td>\n",
       "      <td>F</td>\n",
       "    </tr>\n",
       "    <tr>\n",
       "      <th>policy</th>\n",
       "      <td>F</td>\n",
       "      <td>F</td>\n",
       "      <td>F</td>\n",
       "      <td>F</td>\n",
       "      <td>T</td>\n",
       "      <td>F</td>\n",
       "      <td>F</td>\n",
       "      <td>T</td>\n",
       "      <td>T</td>\n",
       "      <td>F</td>\n",
       "      <td>...</td>\n",
       "      <td>T</td>\n",
       "      <td>F</td>\n",
       "      <td>T</td>\n",
       "      <td>T</td>\n",
       "      <td>F</td>\n",
       "      <td>T</td>\n",
       "      <td>F</td>\n",
       "      <td>T</td>\n",
       "      <td>F</td>\n",
       "      <td>F</td>\n",
       "    </tr>\n",
       "    <tr>\n",
       "      <th>interpretation</th>\n",
       "      <td>T</td>\n",
       "      <td>T</td>\n",
       "      <td>F</td>\n",
       "      <td>T</td>\n",
       "      <td>T</td>\n",
       "      <td>T</td>\n",
       "      <td>F</td>\n",
       "      <td>T</td>\n",
       "      <td>F</td>\n",
       "      <td>F</td>\n",
       "      <td>...</td>\n",
       "      <td>NaN</td>\n",
       "      <td>F</td>\n",
       "      <td>T</td>\n",
       "      <td>T</td>\n",
       "      <td>T</td>\n",
       "      <td>F</td>\n",
       "      <td>F</td>\n",
       "      <td>T</td>\n",
       "      <td>T</td>\n",
       "      <td>T</td>\n",
       "    </tr>\n",
       "    <tr>\n",
       "      <th>gives_reason_s</th>\n",
       "      <td>F</td>\n",
       "      <td>F</td>\n",
       "      <td>F</td>\n",
       "      <td>T</td>\n",
       "      <td>F</td>\n",
       "      <td>F</td>\n",
       "      <td>F</td>\n",
       "      <td>F</td>\n",
       "      <td>F</td>\n",
       "      <td>F</td>\n",
       "      <td>...</td>\n",
       "      <td>F</td>\n",
       "      <td>NaN</td>\n",
       "      <td>F</td>\n",
       "      <td>F</td>\n",
       "      <td>F</td>\n",
       "      <td>F</td>\n",
       "      <td>T</td>\n",
       "      <td>T</td>\n",
       "      <td>F</td>\n",
       "      <td>F</td>\n",
       "    </tr>\n",
       "    <tr>\n",
       "      <th>presents_evidence</th>\n",
       "      <td>T</td>\n",
       "      <td>T</td>\n",
       "      <td>F</td>\n",
       "      <td>T</td>\n",
       "      <td>T</td>\n",
       "      <td>T</td>\n",
       "      <td>F</td>\n",
       "      <td>F</td>\n",
       "      <td>F</td>\n",
       "      <td>F</td>\n",
       "      <td>...</td>\n",
       "      <td>T</td>\n",
       "      <td>F</td>\n",
       "      <td>NaN</td>\n",
       "      <td>T</td>\n",
       "      <td>T</td>\n",
       "      <td>T</td>\n",
       "      <td>T</td>\n",
       "      <td>T</td>\n",
       "      <td>T</td>\n",
       "      <td>T</td>\n",
       "    </tr>\n",
       "    <tr>\n",
       "      <th>asks_question_s</th>\n",
       "      <td>F</td>\n",
       "      <td>T</td>\n",
       "      <td>F</td>\n",
       "      <td>T</td>\n",
       "      <td>T</td>\n",
       "      <td>F</td>\n",
       "      <td>F</td>\n",
       "      <td>T</td>\n",
       "      <td>T</td>\n",
       "      <td>T</td>\n",
       "      <td>...</td>\n",
       "      <td>T</td>\n",
       "      <td>F</td>\n",
       "      <td>T</td>\n",
       "      <td>NaN</td>\n",
       "      <td>T</td>\n",
       "      <td>F</td>\n",
       "      <td>T</td>\n",
       "      <td>T</td>\n",
       "      <td>T</td>\n",
       "      <td>F</td>\n",
       "    </tr>\n",
       "    <tr>\n",
       "      <th>provides_information</th>\n",
       "      <td>T</td>\n",
       "      <td>T</td>\n",
       "      <td>T</td>\n",
       "      <td>T</td>\n",
       "      <td>T</td>\n",
       "      <td>T</td>\n",
       "      <td>F</td>\n",
       "      <td>F</td>\n",
       "      <td>T</td>\n",
       "      <td>T</td>\n",
       "      <td>...</td>\n",
       "      <td>T</td>\n",
       "      <td>F</td>\n",
       "      <td>T</td>\n",
       "      <td>T</td>\n",
       "      <td>NaN</td>\n",
       "      <td>T</td>\n",
       "      <td>T</td>\n",
       "      <td>T</td>\n",
       "      <td>F</td>\n",
       "      <td>T</td>\n",
       "    </tr>\n",
       "    <tr>\n",
       "      <th>clarifies_position_stance</th>\n",
       "      <td>F</td>\n",
       "      <td>T</td>\n",
       "      <td>F</td>\n",
       "      <td>F</td>\n",
       "      <td>T</td>\n",
       "      <td>T</td>\n",
       "      <td>F</td>\n",
       "      <td>T</td>\n",
       "      <td>F</td>\n",
       "      <td>T</td>\n",
       "      <td>...</td>\n",
       "      <td>F</td>\n",
       "      <td>F</td>\n",
       "      <td>T</td>\n",
       "      <td>F</td>\n",
       "      <td>T</td>\n",
       "      <td>NaN</td>\n",
       "      <td>F</td>\n",
       "      <td>T</td>\n",
       "      <td>T</td>\n",
       "      <td>T</td>\n",
       "    </tr>\n",
       "    <tr>\n",
       "      <th>responds_to_previous_comment</th>\n",
       "      <td>T</td>\n",
       "      <td>T</td>\n",
       "      <td>F</td>\n",
       "      <td>F</td>\n",
       "      <td>F</td>\n",
       "      <td>F</td>\n",
       "      <td>F</td>\n",
       "      <td>T</td>\n",
       "      <td>F</td>\n",
       "      <td>T</td>\n",
       "      <td>...</td>\n",
       "      <td>F</td>\n",
       "      <td>T</td>\n",
       "      <td>T</td>\n",
       "      <td>T</td>\n",
       "      <td>T</td>\n",
       "      <td>F</td>\n",
       "      <td>NaN</td>\n",
       "      <td>T</td>\n",
       "      <td>F</td>\n",
       "      <td>F</td>\n",
       "    </tr>\n",
       "    <tr>\n",
       "      <th>constructive_tone</th>\n",
       "      <td>F</td>\n",
       "      <td>F</td>\n",
       "      <td>T</td>\n",
       "      <td>T</td>\n",
       "      <td>F</td>\n",
       "      <td>T</td>\n",
       "      <td>T</td>\n",
       "      <td>T</td>\n",
       "      <td>T</td>\n",
       "      <td>T</td>\n",
       "      <td>...</td>\n",
       "      <td>T</td>\n",
       "      <td>T</td>\n",
       "      <td>T</td>\n",
       "      <td>T</td>\n",
       "      <td>T</td>\n",
       "      <td>T</td>\n",
       "      <td>T</td>\n",
       "      <td>NaN</td>\n",
       "      <td>T</td>\n",
       "      <td>T</td>\n",
       "    </tr>\n",
       "    <tr>\n",
       "      <th>moderator_post</th>\n",
       "      <td>T</td>\n",
       "      <td>T</td>\n",
       "      <td>F</td>\n",
       "      <td>T</td>\n",
       "      <td>T</td>\n",
       "      <td>T</td>\n",
       "      <td>F</td>\n",
       "      <td>F</td>\n",
       "      <td>T</td>\n",
       "      <td>T</td>\n",
       "      <td>...</td>\n",
       "      <td>T</td>\n",
       "      <td>F</td>\n",
       "      <td>T</td>\n",
       "      <td>T</td>\n",
       "      <td>F</td>\n",
       "      <td>T</td>\n",
       "      <td>F</td>\n",
       "      <td>T</td>\n",
       "      <td>NaN</td>\n",
       "      <td>T</td>\n",
       "    </tr>\n",
       "    <tr>\n",
       "      <th>acknowledges_problem</th>\n",
       "      <td>F</td>\n",
       "      <td>F</td>\n",
       "      <td>T</td>\n",
       "      <td>T</td>\n",
       "      <td>T</td>\n",
       "      <td>F</td>\n",
       "      <td>T</td>\n",
       "      <td>F</td>\n",
       "      <td>T</td>\n",
       "      <td>F</td>\n",
       "      <td>...</td>\n",
       "      <td>T</td>\n",
       "      <td>F</td>\n",
       "      <td>T</td>\n",
       "      <td>F</td>\n",
       "      <td>T</td>\n",
       "      <td>T</td>\n",
       "      <td>F</td>\n",
       "      <td>T</td>\n",
       "      <td>T</td>\n",
       "      <td>NaN</td>\n",
       "    </tr>\n",
       "  </tbody>\n",
       "</table>\n",
       "<p>21 rows × 21 columns</p>\n",
       "</div>"
      ],
      "text/plain": [
       "                             agreement simple_disagreement  \\\n",
       "agreement                          NaN                   F   \n",
       "simple_disagreement                  F                 NaN   \n",
       "elaborated_disagreement              F                   F   \n",
       "topic_shift                          F                   T   \n",
       "brainstorming                        T                   F   \n",
       "blending                             F                   T   \n",
       "building                             F                   T   \n",
       "broadening                           T                   F   \n",
       "fact                                 F                   T   \n",
       "value                                F                   F   \n",
       "policy                               F                   F   \n",
       "interpretation                       T                   T   \n",
       "gives_reason_s                       F                   F   \n",
       "presents_evidence                    T                   T   \n",
       "asks_question_s                      F                   T   \n",
       "provides_information                 T                   T   \n",
       "clarifies_position_stance            F                   T   \n",
       "responds_to_previous_comment         T                   T   \n",
       "constructive_tone                    F                   F   \n",
       "moderator_post                       T                   T   \n",
       "acknowledges_problem                 F                   F   \n",
       "\n",
       "                             elaborated_disagreement topic_shift  \\\n",
       "agreement                                          F           F   \n",
       "simple_disagreement                                F           T   \n",
       "elaborated_disagreement                          NaN           T   \n",
       "topic_shift                                        T         NaN   \n",
       "brainstorming                                      F           F   \n",
       "blending                                           T           T   \n",
       "building                                           F           F   \n",
       "broadening                                         T           F   \n",
       "fact                                               F           T   \n",
       "value                                              F           T   \n",
       "policy                                             F           F   \n",
       "interpretation                                     F           T   \n",
       "gives_reason_s                                     F           T   \n",
       "presents_evidence                                  F           T   \n",
       "asks_question_s                                    F           T   \n",
       "provides_information                               T           T   \n",
       "clarifies_position_stance                          F           F   \n",
       "responds_to_previous_comment                       F           F   \n",
       "constructive_tone                                  T           T   \n",
       "moderator_post                                     F           T   \n",
       "acknowledges_problem                               T           T   \n",
       "\n",
       "                             brainstorming blending building broadening fact  \\\n",
       "agreement                                T        F        F          T    F   \n",
       "simple_disagreement                      F        T        T          F    T   \n",
       "elaborated_disagreement                  F        T        F          T    F   \n",
       "topic_shift                              F        T        F          F    T   \n",
       "brainstorming                          NaN        F        T          F    T   \n",
       "blending                                 F      NaN        T          T    T   \n",
       "building                                 T        T      NaN          T    F   \n",
       "broadening                               F        T        T        NaN    T   \n",
       "fact                                     T        T        F          T  NaN   \n",
       "value                                    T        F        T          F    T   \n",
       "policy                                   T        F        F          T    T   \n",
       "interpretation                           T        T        F          T    F   \n",
       "gives_reason_s                           F        F        F          F    F   \n",
       "presents_evidence                        T        T        F          F    F   \n",
       "asks_question_s                          T        F        F          T    T   \n",
       "provides_information                     T        T        F          F    T   \n",
       "clarifies_position_stance                T        T        F          T    F   \n",
       "responds_to_previous_comment             F        F        F          T    F   \n",
       "constructive_tone                        F        T        T          T    T   \n",
       "moderator_post                           T        T        F          F    T   \n",
       "acknowledges_problem                     T        F        T          F    T   \n",
       "\n",
       "                             value  ... interpretation gives_reason_s  \\\n",
       "agreement                        F  ...              T              F   \n",
       "simple_disagreement              F  ...              T              F   \n",
       "elaborated_disagreement          F  ...              F              F   \n",
       "topic_shift                      T  ...              T              T   \n",
       "brainstorming                    T  ...              T              F   \n",
       "blending                         F  ...              T              F   \n",
       "building                         T  ...              F              F   \n",
       "broadening                       F  ...              T              F   \n",
       "fact                             T  ...              F              F   \n",
       "value                          NaN  ...              F              F   \n",
       "policy                           F  ...              T              F   \n",
       "interpretation                   F  ...            NaN              F   \n",
       "gives_reason_s                   F  ...              F            NaN   \n",
       "presents_evidence                F  ...              T              F   \n",
       "asks_question_s                  T  ...              T              F   \n",
       "provides_information             T  ...              T              F   \n",
       "clarifies_position_stance        T  ...              F              F   \n",
       "responds_to_previous_comment     T  ...              F              T   \n",
       "constructive_tone                T  ...              T              T   \n",
       "moderator_post                   T  ...              T              F   \n",
       "acknowledges_problem             F  ...              T              F   \n",
       "\n",
       "                             presents_evidence asks_question_s  \\\n",
       "agreement                                    T               F   \n",
       "simple_disagreement                          T               T   \n",
       "elaborated_disagreement                      F               F   \n",
       "topic_shift                                  T               T   \n",
       "brainstorming                                T               T   \n",
       "blending                                     T               F   \n",
       "building                                     F               F   \n",
       "broadening                                   F               T   \n",
       "fact                                         F               T   \n",
       "value                                        F               T   \n",
       "policy                                       T               T   \n",
       "interpretation                               T               T   \n",
       "gives_reason_s                               F               F   \n",
       "presents_evidence                          NaN               T   \n",
       "asks_question_s                              T             NaN   \n",
       "provides_information                         T               T   \n",
       "clarifies_position_stance                    T               F   \n",
       "responds_to_previous_comment                 T               T   \n",
       "constructive_tone                            T               T   \n",
       "moderator_post                               T               T   \n",
       "acknowledges_problem                         T               F   \n",
       "\n",
       "                             provides_information clarifies_position_stance  \\\n",
       "agreement                                       T                         F   \n",
       "simple_disagreement                             T                         T   \n",
       "elaborated_disagreement                         T                         F   \n",
       "topic_shift                                     T                         F   \n",
       "brainstorming                                   T                         T   \n",
       "blending                                        T                         T   \n",
       "building                                        F                         F   \n",
       "broadening                                      F                         T   \n",
       "fact                                            T                         F   \n",
       "value                                           T                         T   \n",
       "policy                                          F                         T   \n",
       "interpretation                                  T                         F   \n",
       "gives_reason_s                                  F                         F   \n",
       "presents_evidence                               T                         T   \n",
       "asks_question_s                                 T                         F   \n",
       "provides_information                          NaN                         T   \n",
       "clarifies_position_stance                       T                       NaN   \n",
       "responds_to_previous_comment                    T                         F   \n",
       "constructive_tone                               T                         T   \n",
       "moderator_post                                  F                         T   \n",
       "acknowledges_problem                            T                         T   \n",
       "\n",
       "                             responds_to_previous_comment constructive_tone  \\\n",
       "agreement                                               T                 F   \n",
       "simple_disagreement                                     T                 F   \n",
       "elaborated_disagreement                                 F                 T   \n",
       "topic_shift                                             F                 T   \n",
       "brainstorming                                           F                 F   \n",
       "blending                                                F                 T   \n",
       "building                                                F                 T   \n",
       "broadening                                              T                 T   \n",
       "fact                                                    F                 T   \n",
       "value                                                   T                 T   \n",
       "policy                                                  F                 T   \n",
       "interpretation                                          F                 T   \n",
       "gives_reason_s                                          T                 T   \n",
       "presents_evidence                                       T                 T   \n",
       "asks_question_s                                         T                 T   \n",
       "provides_information                                    T                 T   \n",
       "clarifies_position_stance                               F                 T   \n",
       "responds_to_previous_comment                          NaN                 T   \n",
       "constructive_tone                                       T               NaN   \n",
       "moderator_post                                          F                 T   \n",
       "acknowledges_problem                                    F                 T   \n",
       "\n",
       "                             moderator_post acknowledges_problem  \n",
       "agreement                                 T                    F  \n",
       "simple_disagreement                       T                    F  \n",
       "elaborated_disagreement                   F                    T  \n",
       "topic_shift                               T                    T  \n",
       "brainstorming                             T                    T  \n",
       "blending                                  T                    F  \n",
       "building                                  F                    T  \n",
       "broadening                                F                    F  \n",
       "fact                                      T                    T  \n",
       "value                                     T                    F  \n",
       "policy                                    F                    F  \n",
       "interpretation                            T                    T  \n",
       "gives_reason_s                            F                    F  \n",
       "presents_evidence                         T                    T  \n",
       "asks_question_s                           T                    F  \n",
       "provides_information                      F                    T  \n",
       "clarifies_position_stance                 T                    T  \n",
       "responds_to_previous_comment              F                    F  \n",
       "constructive_tone                         T                    T  \n",
       "moderator_post                          NaN                    T  \n",
       "acknowledges_problem                      T                  NaN  \n",
       "\n",
       "[21 rows x 21 columns]"
      ]
     },
     "execution_count": 147,
     "metadata": {},
     "output_type": "execute_result"
    }
   ],
   "source": [
    "independece_analysis.drop(columns=numerical_predictors, index=numerical_predictors, inplace=True)\n",
    "independece_analysis"
   ]
  },
  {
   "cell_type": "markdown",
   "metadata": {},
   "source": [
    "### 7. Fit models based on independent predictors"
   ]
  },
  {
   "cell_type": "markdown",
   "metadata": {},
   "source": [
    "Based on the previous analysis of independencie between categorical variables, predictors will be selected."
   ]
  },
  {
   "cell_type": "code",
   "execution_count": 148,
   "metadata": {},
   "outputs": [],
   "source": [
    "possible_models = [None]*len(independece_analysis.columns)\n",
    "idx = 0\n",
    "for col in independece_analysis.columns:\n",
    "    possible_models[idx] = [col]\n",
    "    for row in independece_analysis.index:\n",
    "        if independece_analysis.loc[row, col] == 'T':\n",
    "            possible_models[idx].append(row)\n",
    "    # Add the numerical variables\n",
    "    for num_var in numerical_predictors:\n",
    "        found_dependency = False\n",
    "        for var in possible_models[idx]:\n",
    "            if independence_num_cat.loc[var, f'{num_var}_cor'] > 0.5 and \\\n",
    "               independence_num_cat.loc[var, f'{num_var}_p_value'] < alpha_level:\n",
    "                found_dependency = True\n",
    "                break\n",
    "        if not found_dependency:\n",
    "            possible_models[idx].append(num_var)\n",
    "    idx += 1"
   ]
  },
  {
   "cell_type": "code",
   "execution_count": 149,
   "metadata": {},
   "outputs": [
    {
     "name": "stdout",
     "output_type": "stream",
     "text": [
      "There are 21 possible models\n"
     ]
    }
   ],
   "source": [
    "print(f'There are {len(possible_models)} possible models')"
   ]
  },
  {
   "cell_type": "markdown",
   "metadata": {},
   "source": [
    "Create formulas for the possible models"
   ]
  },
  {
   "cell_type": "code",
   "execution_count": 150,
   "metadata": {},
   "outputs": [],
   "source": [
    "models = []\n",
    "for possible_model in possible_models:\n",
    "    formula = f'disagreement ~ '\n",
    "    num_predictors = len(possible_model)\n",
    "    for idx, predictor in enumerate(possible_model):\n",
    "        if predictor not in numerical_predictors:\n",
    "            formula += f' C({predictor})'\n",
    "        else:\n",
    "            formula += f' {predictor}'\n",
    "        if idx < (len(possible_model)-1):\n",
    "            formula += ' + '\n",
    "    models.append({'formula': formula, 'num_predictors': num_predictors, 'predictors': possible_model})"
   ]
  },
  {
   "cell_type": "markdown",
   "metadata": {},
   "source": [
    "#### Fit models"
   ]
  },
  {
   "cell_type": "code",
   "execution_count": 151,
   "metadata": {},
   "outputs": [
    {
     "name": "stderr",
     "output_type": "stream",
     "text": [
      "/home/jorge/Dropbox/Data Analyses/disagreement/env/lib/python3.7/site-packages/statsmodels/genmod/families/family.py:894: RuntimeWarning: invalid value encountered in true_divide\n",
      "  n_endog_mu = self._clean((1. - endog) / (1. - mu))\n"
     ]
    },
    {
     "name": "stdout",
     "output_type": "stream",
     "text": [
      "Error: Perfect separation detected, results not available.\n",
      "\n",
      "Model:\n",
      "disagreement ~  C(topic_shift) +  C(simple_disagreement) +  C(elaborated_disagreement) +  C(blending) +  C(fact) +  C(value) +  C(interpretation) +  C(gives_reason_s) +  C(presents_evidence) +  C(asks_question_s) +  C(provides_information) +  C(constructive_tone) +  C(moderator_post) +  C(acknowledges_problem) +  number_of_likes +  number_of_ideas\n",
      "\n",
      "Error: Perfect separation detected, results not available.\n",
      "\n",
      "Model:\n",
      "disagreement ~  C(blending) +  C(simple_disagreement) +  C(elaborated_disagreement) +  C(topic_shift) +  C(building) +  C(broadening) +  C(fact) +  C(interpretation) +  C(presents_evidence) +  C(provides_information) +  C(clarifies_position_stance) +  C(constructive_tone) +  C(moderator_post) +  number_of_likes +  number_of_ideas\n",
      "\n"
     ]
    },
    {
     "name": "stderr",
     "output_type": "stream",
     "text": [
      "/home/jorge/Dropbox/Data Analyses/disagreement/env/lib/python3.7/site-packages/statsmodels/genmod/families/family.py:946: RuntimeWarning: divide by zero encountered in true_divide\n",
      "  special.gammaln(n - y + 1) + y * np.log(mu / (1 - mu)) +\n",
      "/home/jorge/Dropbox/Data Analyses/disagreement/env/lib/python3.7/site-packages/statsmodels/genmod/families/family.py:947: RuntimeWarning: divide by zero encountered in log\n",
      "  n * np.log(1 - mu)) * var_weights\n",
      "/home/jorge/Dropbox/Data Analyses/disagreement/env/lib/python3.7/site-packages/statsmodels/genmod/families/family.py:947: RuntimeWarning: invalid value encountered in add\n",
      "  n * np.log(1 - mu)) * var_weights\n"
     ]
    },
    {
     "name": "stdout",
     "output_type": "stream",
     "text": [
      "Error: Perfect separation detected, results not available.\n",
      "\n",
      "Model:\n",
      "disagreement ~  C(provides_information) +  C(agreement) +  C(simple_disagreement) +  C(elaborated_disagreement) +  C(topic_shift) +  C(brainstorming) +  C(blending) +  C(fact) +  C(value) +  C(interpretation) +  C(presents_evidence) +  C(asks_question_s) +  C(clarifies_position_stance) +  C(responds_to_previous_comment) +  C(constructive_tone) +  C(acknowledges_problem) +  number_of_likes +  number_of_ideas\n",
      "\n"
     ]
    }
   ],
   "source": [
    "idx_not_fitted_models = []\n",
    "for idx, model_dict in enumerate(models):\n",
    "    try:\n",
    "        formula = model_dict['formula']\n",
    "        model = glm(formula, data = rq1_df, family = sm.families.Binomial()).fit()\n",
    "        model_dict['model'] = model\n",
    "        model_dict['deviance'] = model.deviance\n",
    "        model_dict['log_likelihood'] = model.llf \n",
    "    except Exception as e:\n",
    "        idx_not_fitted_models.append(idx)\n",
    "        print(f'Error: {e}.\\n\\nModel:\\n{formula}')\n",
    "        print()"
   ]
  },
  {
   "cell_type": "markdown",
   "metadata": {},
   "source": [
    "The perfect separation error happens when all values in one of the predictor categories are associated with only one of the binary outcome, see [here](https://stackoverflow.com/questions/53041669/error-perfectseparationerror-perfect-separation-detected-results-not-availab). A possible solution, which is executed below, is to drop predictors one by one and try if the resulting model can be fitted."
   ]
  },
  {
   "cell_type": "code",
   "execution_count": 152,
   "metadata": {},
   "outputs": [
    {
     "name": "stdout",
     "output_type": "stream",
     "text": [
      "Variable simple_disagreement has been removed from the predictors list and the model could be fitted.\n",
      "\n",
      "Variable elaborated_disagreement has been removed from the predictors list and the model could be fitted.\n",
      "\n",
      "Variable value has been removed from the predictors list and the model could be fitted.\n",
      "\n",
      "Variable number_of_likes has been removed from the predictors list and the model could be fitted.\n",
      "\n",
      "Variable simple_disagreement has been removed from the predictors list and the model could be fitted.\n",
      "\n",
      "Variable elaborated_disagreement has been removed from the predictors list and the model could be fitted.\n",
      "\n",
      "Variable building has been removed from the predictors list and the model could be fitted.\n",
      "\n",
      "Variable simple_disagreement has been removed from the predictors list and the model could be fitted.\n",
      "\n",
      "Variable elaborated_disagreement has been removed from the predictors list and the model could be fitted.\n",
      "\n",
      "Variable value has been removed from the predictors list and the model could be fitted.\n",
      "\n",
      "Variable number_of_likes has been removed from the predictors list and the model could be fitted.\n",
      "\n"
     ]
    }
   ],
   "source": [
    "updated_models = []\n",
    "for idx_not_fitted_model in idx_not_fitted_models:\n",
    "    predictors = possible_models[idx_not_fitted_model].copy()\n",
    "    for predictor in predictors:\n",
    "        ind_vars = possible_models[idx_not_fitted_model].copy()        \n",
    "        ind_vars.remove(predictor)\n",
    "        formula = 'disagreement ~ '\n",
    "        for idx, ind_var in enumerate(ind_vars):\n",
    "            if ind_var not in numerical_predictors:\n",
    "                formula += f' C({ind_var})'\n",
    "            else:\n",
    "                formula += f' {ind_var}'\n",
    "            if idx < (len(ind_vars)-1):\n",
    "                formula += ' + '\n",
    "        try:\n",
    "            model = glm(formula, data = rq1_df, family = sm.families.Binomial()).fit()\n",
    "            print(f'Variable {predictor} has been removed from the predictors list and the model could be fitted.\\n')\n",
    "            updated_models.append(\n",
    "                {\n",
    "                    'formula': formula, \n",
    "                    'model': model, \n",
    "                    'num_predictors': len(ind_vars),\n",
    "                    'predictors': ind_vars,\n",
    "                    'deviance': model.deviance,\n",
    "                    'log_likelihood': model.llf\n",
    "                }\n",
    "            )\n",
    "        except:\n",
    "            pass"
   ]
  },
  {
   "cell_type": "code",
   "execution_count": 153,
   "metadata": {},
   "outputs": [
    {
     "name": "stdout",
     "output_type": "stream",
     "text": [
      "11 new models could be fitted\n"
     ]
    }
   ],
   "source": [
    "print(f'{len(updated_models)} new models could be fitted')"
   ]
  },
  {
   "cell_type": "markdown",
   "metadata": {},
   "source": [
    "Update list of fitted models"
   ]
  },
  {
   "cell_type": "code",
   "execution_count": 154,
   "metadata": {},
   "outputs": [],
   "source": [
    "models.extend(updated_models)"
   ]
  },
  {
   "cell_type": "markdown",
   "metadata": {},
   "source": [
    "### 6. Select the best model"
   ]
  },
  {
   "cell_type": "markdown",
   "metadata": {},
   "source": [
    "Selection is based on the goodness of fit. `Deviance`, which is measuse of error of fit, is used to evaluate models fit. The lower the deviance the better the model fits the data. "
   ]
  },
  {
   "cell_type": "code",
   "execution_count": 155,
   "metadata": {},
   "outputs": [],
   "source": [
    "min_dev = 1000000\n",
    "best_models = []\n",
    "for model in models:\n",
    "    if 'deviance' in model and model['deviance'] < min_dev:\n",
    "        min_dev = model['deviance']\n",
    "        best_models = [model]\n",
    "    elif 'deviance' in model and model['deviance'] == min_dev:\n",
    "        best_models.append(model)"
   ]
  },
  {
   "cell_type": "code",
   "execution_count": 156,
   "metadata": {},
   "outputs": [
    {
     "name": "stdout",
     "output_type": "stream",
     "text": [
      "There are 1 best model(s)\n"
     ]
    }
   ],
   "source": [
    "print(f\"There are {len(best_models)} best model(s)\")"
   ]
  },
  {
   "cell_type": "markdown",
   "metadata": {},
   "source": [
    "**Best model**"
   ]
  },
  {
   "cell_type": "code",
   "execution_count": 157,
   "metadata": {},
   "outputs": [
    {
     "data": {
      "text/html": [
       "<table class=\"simpletable\">\n",
       "<caption>Generalized Linear Model Regression Results</caption>\n",
       "<tr>\n",
       "  <th>Dep. Variable:</th>   <td>['disagreement[0]', 'disagreement[1]']</td> <th>  No. Observations:  </th>  <td>   488</td> \n",
       "</tr>\n",
       "<tr>\n",
       "  <th>Model:</th>                             <td>GLM</td>                  <th>  Df Residuals:      </th>  <td>   473</td> \n",
       "</tr>\n",
       "<tr>\n",
       "  <th>Model Family:</th>                   <td>Binomial</td>                <th>  Df Model:          </th>  <td>    14</td> \n",
       "</tr>\n",
       "<tr>\n",
       "  <th>Link Function:</th>                    <td>logit</td>                 <th>  Scale:             </th> <td>  1.0000</td>\n",
       "</tr>\n",
       "<tr>\n",
       "  <th>Method:</th>                           <td>IRLS</td>                  <th>  Log-Likelihood:    </th> <td> -54.399</td>\n",
       "</tr>\n",
       "<tr>\n",
       "  <th>Date:</th>                       <td>Thu, 01 Oct 2020</td>            <th>  Deviance:          </th> <td>  108.80</td>\n",
       "</tr>\n",
       "<tr>\n",
       "  <th>Time:</th>                           <td>14:30:54</td>                <th>  Pearson chi2:      </th>  <td>  201.</td> \n",
       "</tr>\n",
       "<tr>\n",
       "  <th>No. Iterations:</th>                     <td>9</td>                   <th>                     </th>     <td> </td>   \n",
       "</tr>\n",
       "<tr>\n",
       "  <th>Covariance Type:</th>                <td>nonrobust</td>               <th>                     </th>     <td> </td>   \n",
       "</tr>\n",
       "</table>\n",
       "<table class=\"simpletable\">\n",
       "<tr>\n",
       "                  <td></td>                     <th>coef</th>     <th>std err</th>      <th>z</th>      <th>P>|z|</th>  <th>[0.025</th>    <th>0.975]</th>  \n",
       "</tr>\n",
       "<tr>\n",
       "  <th>Intercept</th>                         <td>   -0.7289</td> <td>    0.788</td> <td>   -0.925</td> <td> 0.355</td> <td>   -2.274</td> <td>    0.816</td>\n",
       "</tr>\n",
       "<tr>\n",
       "  <th>C(blending)[T.1]</th>                  <td>    0.4774</td> <td>    0.648</td> <td>    0.737</td> <td> 0.461</td> <td>   -0.792</td> <td>    1.747</td>\n",
       "</tr>\n",
       "<tr>\n",
       "  <th>C(elaborated_disagreement)[T.1]</th>   <td>   -8.6447</td> <td>    1.443</td> <td>   -5.990</td> <td> 0.000</td> <td>  -11.473</td> <td>   -5.816</td>\n",
       "</tr>\n",
       "<tr>\n",
       "  <th>C(topic_shift)[T.1]</th>               <td>   -0.7351</td> <td>    0.735</td> <td>   -1.000</td> <td> 0.317</td> <td>   -2.176</td> <td>    0.705</td>\n",
       "</tr>\n",
       "<tr>\n",
       "  <th>C(building)[T.1]</th>                  <td>   -3.4804</td> <td>    0.670</td> <td>   -5.198</td> <td> 0.000</td> <td>   -4.793</td> <td>   -2.168</td>\n",
       "</tr>\n",
       "<tr>\n",
       "  <th>C(broadening)[T.1]</th>                <td>    2.1644</td> <td>    1.343</td> <td>    1.612</td> <td> 0.107</td> <td>   -0.468</td> <td>    4.796</td>\n",
       "</tr>\n",
       "<tr>\n",
       "  <th>C(fact)[T.1]</th>                      <td>   -0.8214</td> <td>    1.010</td> <td>   -0.814</td> <td> 0.416</td> <td>   -2.800</td> <td>    1.157</td>\n",
       "</tr>\n",
       "<tr>\n",
       "  <th>C(interpretation)[T.1]</th>            <td>    0.6459</td> <td>    0.848</td> <td>    0.762</td> <td> 0.446</td> <td>   -1.015</td> <td>    2.307</td>\n",
       "</tr>\n",
       "<tr>\n",
       "  <th>C(presents_evidence)[T.1]</th>         <td>   -0.2460</td> <td>    2.583</td> <td>   -0.095</td> <td> 0.924</td> <td>   -5.308</td> <td>    4.816</td>\n",
       "</tr>\n",
       "<tr>\n",
       "  <th>C(provides_information)[T.1]</th>      <td>    0.9652</td> <td>    1.448</td> <td>    0.666</td> <td> 0.505</td> <td>   -1.873</td> <td>    3.804</td>\n",
       "</tr>\n",
       "<tr>\n",
       "  <th>C(clarifies_position_stance)[T.1]</th> <td>    0.9945</td> <td>    1.041</td> <td>    0.955</td> <td> 0.339</td> <td>   -1.046</td> <td>    3.035</td>\n",
       "</tr>\n",
       "<tr>\n",
       "  <th>C(constructive_tone)[T.1]</th>         <td>    3.2236</td> <td>    0.890</td> <td>    3.621</td> <td> 0.000</td> <td>    1.479</td> <td>    4.969</td>\n",
       "</tr>\n",
       "<tr>\n",
       "  <th>C(moderator_post)[T.1]</th>            <td>    1.0212</td> <td>    0.762</td> <td>    1.341</td> <td> 0.180</td> <td>   -0.472</td> <td>    2.514</td>\n",
       "</tr>\n",
       "<tr>\n",
       "  <th>number_of_likes</th>                   <td>    0.1309</td> <td>    0.145</td> <td>    0.904</td> <td> 0.366</td> <td>   -0.153</td> <td>    0.415</td>\n",
       "</tr>\n",
       "<tr>\n",
       "  <th>number_of_ideas</th>                   <td>    0.8225</td> <td>    0.502</td> <td>    1.640</td> <td> 0.101</td> <td>   -0.161</td> <td>    1.806</td>\n",
       "</tr>\n",
       "</table>"
      ],
      "text/plain": [
       "<class 'statsmodels.iolib.summary.Summary'>\n",
       "\"\"\"\n",
       "                           Generalized Linear Model Regression Results                            \n",
       "==================================================================================================\n",
       "Dep. Variable:     ['disagreement[0]', 'disagreement[1]']   No. Observations:                  488\n",
       "Model:                                                GLM   Df Residuals:                      473\n",
       "Model Family:                                    Binomial   Df Model:                           14\n",
       "Link Function:                                      logit   Scale:                          1.0000\n",
       "Method:                                              IRLS   Log-Likelihood:                -54.399\n",
       "Date:                                    Thu, 01 Oct 2020   Deviance:                       108.80\n",
       "Time:                                            14:30:54   Pearson chi2:                     201.\n",
       "No. Iterations:                                         9                                         \n",
       "Covariance Type:                                nonrobust                                         \n",
       "=====================================================================================================\n",
       "                                        coef    std err          z      P>|z|      [0.025      0.975]\n",
       "-----------------------------------------------------------------------------------------------------\n",
       "Intercept                            -0.7289      0.788     -0.925      0.355      -2.274       0.816\n",
       "C(blending)[T.1]                      0.4774      0.648      0.737      0.461      -0.792       1.747\n",
       "C(elaborated_disagreement)[T.1]      -8.6447      1.443     -5.990      0.000     -11.473      -5.816\n",
       "C(topic_shift)[T.1]                  -0.7351      0.735     -1.000      0.317      -2.176       0.705\n",
       "C(building)[T.1]                     -3.4804      0.670     -5.198      0.000      -4.793      -2.168\n",
       "C(broadening)[T.1]                    2.1644      1.343      1.612      0.107      -0.468       4.796\n",
       "C(fact)[T.1]                         -0.8214      1.010     -0.814      0.416      -2.800       1.157\n",
       "C(interpretation)[T.1]                0.6459      0.848      0.762      0.446      -1.015       2.307\n",
       "C(presents_evidence)[T.1]            -0.2460      2.583     -0.095      0.924      -5.308       4.816\n",
       "C(provides_information)[T.1]          0.9652      1.448      0.666      0.505      -1.873       3.804\n",
       "C(clarifies_position_stance)[T.1]     0.9945      1.041      0.955      0.339      -1.046       3.035\n",
       "C(constructive_tone)[T.1]             3.2236      0.890      3.621      0.000       1.479       4.969\n",
       "C(moderator_post)[T.1]                1.0212      0.762      1.341      0.180      -0.472       2.514\n",
       "number_of_likes                       0.1309      0.145      0.904      0.366      -0.153       0.415\n",
       "number_of_ideas                       0.8225      0.502      1.640      0.101      -0.161       1.806\n",
       "=====================================================================================================\n",
       "\"\"\""
      ]
     },
     "execution_count": 157,
     "metadata": {},
     "output_type": "execute_result"
    }
   ],
   "source": [
    "best_models[0]['model'].summary()"
   ]
  },
  {
   "cell_type": "markdown",
   "metadata": {},
   "source": [
    "Predictors `elaborated disagreement`, `bulding`, and `constructive tone` have a statistical significant effect on `disagreement`. The rest of the predictors (i.e., fact, interpretation, asks questions, clarifies position, constructive tone, and number of likes) do not influence significantly in the presence of disagreement in discussions."
   ]
  },
  {
   "cell_type": "markdown",
   "metadata": {},
   "source": [
    "### 9. Fit a model with only the statistically significant predictors"
   ]
  },
  {
   "cell_type": "markdown",
   "metadata": {},
   "source": [
    "Get the name of the predictors that have a statistically significant influence on disagreement."
   ]
  },
  {
   "cell_type": "code",
   "execution_count": 158,
   "metadata": {},
   "outputs": [],
   "source": [
    "ss_predictors = []\n",
    "model_predictors = best_models[0]['model'].pvalues.index\n",
    "for idx, p_value in enumerate(best_models[0]['model'].pvalues):\n",
    "    if p_value < alpha_level:\n",
    "        if 'C(' in model_predictors[idx]:\n",
    "            predictor_name = model_predictors[idx].split('[T')[0]\n",
    "        else:\n",
    "            predictor_name = model_predictors[idx]\n",
    "        ss_predictors.append(predictor_name)"
   ]
  },
  {
   "cell_type": "code",
   "execution_count": 159,
   "metadata": {},
   "outputs": [],
   "source": [
    "formula = 'disagreement ~ '\n",
    "formula += ' + '.join(ss_predictors)\n",
    "best_model = glm(formula, data = rq1_df, family = sm.families.Binomial()).fit()"
   ]
  },
  {
   "cell_type": "code",
   "execution_count": 160,
   "metadata": {},
   "outputs": [
    {
     "data": {
      "text/html": [
       "<table class=\"simpletable\">\n",
       "<caption>Generalized Linear Model Regression Results</caption>\n",
       "<tr>\n",
       "  <th>Dep. Variable:</th>   <td>['disagreement[0]', 'disagreement[1]']</td> <th>  No. Observations:  </th>  <td>   488</td> \n",
       "</tr>\n",
       "<tr>\n",
       "  <th>Model:</th>                             <td>GLM</td>                  <th>  Df Residuals:      </th>  <td>   484</td> \n",
       "</tr>\n",
       "<tr>\n",
       "  <th>Model Family:</th>                   <td>Binomial</td>                <th>  Df Model:          </th>  <td>     3</td> \n",
       "</tr>\n",
       "<tr>\n",
       "  <th>Link Function:</th>                    <td>logit</td>                 <th>  Scale:             </th> <td>  1.0000</td>\n",
       "</tr>\n",
       "<tr>\n",
       "  <th>Method:</th>                           <td>IRLS</td>                  <th>  Log-Likelihood:    </th> <td> -63.951</td>\n",
       "</tr>\n",
       "<tr>\n",
       "  <th>Date:</th>                       <td>Thu, 01 Oct 2020</td>            <th>  Deviance:          </th> <td>  127.90</td>\n",
       "</tr>\n",
       "<tr>\n",
       "  <th>Time:</th>                           <td>14:31:33</td>                <th>  Pearson chi2:      </th>  <td>  285.</td> \n",
       "</tr>\n",
       "<tr>\n",
       "  <th>No. Iterations:</th>                     <td>8</td>                   <th>                     </th>     <td> </td>   \n",
       "</tr>\n",
       "<tr>\n",
       "  <th>Covariance Type:</th>                <td>nonrobust</td>               <th>                     </th>     <td> </td>   \n",
       "</tr>\n",
       "</table>\n",
       "<table class=\"simpletable\">\n",
       "<tr>\n",
       "                 <td></td>                    <th>coef</th>     <th>std err</th>      <th>z</th>      <th>P>|z|</th>  <th>[0.025</th>    <th>0.975]</th>  \n",
       "</tr>\n",
       "<tr>\n",
       "  <th>Intercept</th>                       <td>   -0.3394</td> <td>    0.749</td> <td>   -0.453</td> <td> 0.650</td> <td>   -1.807</td> <td>    1.128</td>\n",
       "</tr>\n",
       "<tr>\n",
       "  <th>C(elaborated_disagreement)[T.1]</th> <td>   -6.8360</td> <td>    1.041</td> <td>   -6.568</td> <td> 0.000</td> <td>   -8.876</td> <td>   -4.796</td>\n",
       "</tr>\n",
       "<tr>\n",
       "  <th>C(building)[T.1]</th>                <td>   -2.7483</td> <td>    0.547</td> <td>   -5.026</td> <td> 0.000</td> <td>   -3.820</td> <td>   -1.676</td>\n",
       "</tr>\n",
       "<tr>\n",
       "  <th>C(constructive_tone)[T.1]</th>       <td>    4.0030</td> <td>    0.874</td> <td>    4.579</td> <td> 0.000</td> <td>    2.290</td> <td>    5.717</td>\n",
       "</tr>\n",
       "</table>"
      ],
      "text/plain": [
       "<class 'statsmodels.iolib.summary.Summary'>\n",
       "\"\"\"\n",
       "                           Generalized Linear Model Regression Results                            \n",
       "==================================================================================================\n",
       "Dep. Variable:     ['disagreement[0]', 'disagreement[1]']   No. Observations:                  488\n",
       "Model:                                                GLM   Df Residuals:                      484\n",
       "Model Family:                                    Binomial   Df Model:                            3\n",
       "Link Function:                                      logit   Scale:                          1.0000\n",
       "Method:                                              IRLS   Log-Likelihood:                -63.951\n",
       "Date:                                    Thu, 01 Oct 2020   Deviance:                       127.90\n",
       "Time:                                            14:31:33   Pearson chi2:                     285.\n",
       "No. Iterations:                                         8                                         \n",
       "Covariance Type:                                nonrobust                                         \n",
       "===================================================================================================\n",
       "                                      coef    std err          z      P>|z|      [0.025      0.975]\n",
       "---------------------------------------------------------------------------------------------------\n",
       "Intercept                          -0.3394      0.749     -0.453      0.650      -1.807       1.128\n",
       "C(elaborated_disagreement)[T.1]    -6.8360      1.041     -6.568      0.000      -8.876      -4.796\n",
       "C(building)[T.1]                   -2.7483      0.547     -5.026      0.000      -3.820      -1.676\n",
       "C(constructive_tone)[T.1]           4.0030      0.874      4.579      0.000       2.290       5.717\n",
       "===================================================================================================\n",
       "\"\"\""
      ]
     },
     "execution_count": 160,
     "metadata": {},
     "output_type": "execute_result"
    }
   ],
   "source": [
    "best_model.summary()"
   ]
  },
  {
   "cell_type": "markdown",
   "metadata": {},
   "source": [
    "**Interpretation of predictors' effect**"
   ]
  },
  {
   "cell_type": "code",
   "execution_count": 161,
   "metadata": {},
   "outputs": [],
   "source": [
    "elaborated_disagreement = np.exp(best_model.params[1])\n",
    "building = np.exp(best_model.params[2])\n",
    "constructive = np.exp(best_model.params[3])"
   ]
  },
  {
   "cell_type": "markdown",
   "metadata": {},
   "source": [
    "**Elaborated Disagreement**"
   ]
  },
  {
   "cell_type": "code",
   "execution_count": 162,
   "metadata": {},
   "outputs": [
    {
     "name": "stdout",
     "output_type": "stream",
     "text": [
      "The odds that disagreement appears in a discussion with elaborated disagreement are 0.0011 times the odds that disagreement appears in a discussion without elaborated disagreement.\n"
     ]
    }
   ],
   "source": [
    "print(f\"The odds that disagreement appears in a discussion with elaborated disagreement are \"\\\n",
    "      f\"{round(elaborated_disagreement,4)} times the odds that disagreement appears in a \"\\\n",
    "      f\"discussion without elaborated disagreement.\")"
   ]
  },
  {
   "cell_type": "markdown",
   "metadata": {},
   "source": [
    "**Building**"
   ]
  },
  {
   "cell_type": "code",
   "execution_count": 163,
   "metadata": {},
   "outputs": [
    {
     "name": "stdout",
     "output_type": "stream",
     "text": [
      "The odds that disagreement appears in a discussion where participants build upon others' ideas are 0.064 times the odds that disagreement appears in a discussion without building.\n"
     ]
    }
   ],
   "source": [
    "print(f\"The odds that disagreement appears in a discussion where participants build upon others' ideas \"\\\n",
    "      f\"are {round(building,4)} times the odds that disagreement appears in a discussion without building.\")"
   ]
  },
  {
   "cell_type": "markdown",
   "metadata": {},
   "source": [
    "**Constructive Tone**"
   ]
  },
  {
   "cell_type": "code",
   "execution_count": 164,
   "metadata": {},
   "outputs": [
    {
     "name": "stdout",
     "output_type": "stream",
     "text": [
      "The odds that disagreement appears in a discussion with constructive tone are 54.7644 times the estimates odds that disagreement appears in a discussion without constructive tone.\n"
     ]
    }
   ],
   "source": [
    "print(f\"The odds that disagreement appears in a discussion with constructive tone are {round(constructive,4)} \" \\\n",
    "      f\"times the estimates odds that disagreement appears in a discussion without constructive tone.\")"
   ]
  },
  {
   "cell_type": "markdown",
   "metadata": {},
   "source": [
    "### Findings"
   ]
  },
  {
   "cell_type": "markdown",
   "metadata": {},
   "source": [
    "The model that better models the presence of disagreement is composed of the variables `elaborated disagreement`, `building`, and `constructive tone`. The variables influence the presence of disagreement with different strenght. The most influencial showed to be `constructive tone`."
   ]
  },
  {
   "cell_type": "markdown",
   "metadata": {},
   "source": [
    "## RQ1. Predictors of disagreement by discussion theme"
   ]
  },
  {
   "cell_type": "code",
   "execution_count": 2,
   "metadata": {},
   "outputs": [],
   "source": [
    "all_df = get_dataset()"
   ]
  },
  {
   "cell_type": "code",
   "execution_count": 3,
   "metadata": {},
   "outputs": [],
   "source": [
    "predictors_disagreement = [\n",
    "    'number_of_likes', 'number_of_ideas', 'agreement', 'simple_disagreement', 'elaborated_disagreement', \n",
    "    'topic_shift', 'brainstorming', 'blending', 'building', 'broadening', 'fact', 'value', 'policy', \n",
    "    'interpretation', 'gives_reason_s', 'presents_evidence', 'asks_question_s', 'provides_information', \n",
    "    'clarifies_position_stance', 'responds_to_previous_comment', 'constructive_tone', 'moderator_post', \n",
    "    'acknowledges_problem'\n",
    "]"
   ]
  },
  {
   "cell_type": "code",
   "execution_count": 4,
   "metadata": {},
   "outputs": [],
   "source": [
    "numerical_predictors = ['number_of_likes', 'number_of_ideas']"
   ]
  },
  {
   "cell_type": "markdown",
   "metadata": {},
   "source": [
    "### Theme: Member"
   ]
  },
  {
   "cell_type": "code",
   "execution_count": 5,
   "metadata": {},
   "outputs": [],
   "source": [
    "categorical_predictors = predictors_disagreement.copy()\n",
    "for numerical_predictor in numerical_predictors:\n",
    "    categorical_predictors.remove(numerical_predictor)"
   ]
  },
  {
   "cell_type": "code",
   "execution_count": 6,
   "metadata": {},
   "outputs": [
    {
     "name": "stdout",
     "output_type": "stream",
     "text": [
      "The analysis is conducted with a dataset composed of 212 rows and 24 columns\n",
      "After the step above the dataset is composed of 212 rows and 24 columns\n"
     ]
    },
    {
     "name": "stderr",
     "output_type": "stream",
     "text": [
      "/home/jorge/Dropbox/Data Analyses/disagreement/env/lib/python3.7/site-packages/pandas/core/ops/array_ops.py:253: FutureWarning: elementwise comparison failed; returning scalar instead, but in the future will perform elementwise comparison\n",
      "  res_values = method(rvalues)\n"
     ]
    },
    {
     "name": "stdout",
     "output_type": "stream",
     "text": [
      "There are 21 possible models\n"
     ]
    },
    {
     "name": "stderr",
     "output_type": "stream",
     "text": [
      "/home/jorge/Dropbox/Data Analyses/disagreement/env/lib/python3.7/site-packages/statsmodels/genmod/families/family.py:894: RuntimeWarning: invalid value encountered in true_divide\n",
      "  n_endog_mu = self._clean((1. - endog) / (1. - mu))\n",
      "/home/jorge/Dropbox/Data Analyses/disagreement/env/lib/python3.7/site-packages/statsmodels/genmod/families/family.py:946: RuntimeWarning: divide by zero encountered in true_divide\n",
      "  special.gammaln(n - y + 1) + y * np.log(mu / (1 - mu)) +\n",
      "/home/jorge/Dropbox/Data Analyses/disagreement/env/lib/python3.7/site-packages/statsmodels/genmod/families/family.py:947: RuntimeWarning: divide by zero encountered in log\n",
      "  n * np.log(1 - mu)) * var_weights\n",
      "/home/jorge/Dropbox/Data Analyses/disagreement/env/lib/python3.7/site-packages/statsmodels/genmod/families/family.py:947: RuntimeWarning: invalid value encountered in add\n",
      "  n * np.log(1 - mu)) * var_weights\n"
     ]
    },
    {
     "name": "stdout",
     "output_type": "stream",
     "text": [
      "Error: Perfect separation detected, results not available.\n",
      "Model:\n",
      "disagreement ~  C(topic_shift) +  C(agreement) +  C(simple_disagreement) +  C(elaborated_disagreement) +  C(brainstorming) +  C(blending) +  C(building) +  C(broadening) +  C(fact) +  C(value) +  C(policy) +  C(interpretation) +  C(gives_reason_s) +  C(presents_evidence) +  C(asks_question_s) +  C(provides_information) +  C(constructive_tone) +  C(acknowledges_problem) +  number_of_likes +  number_of_ideas\n",
      "\n",
      "Error: Perfect separation detected, results not available.\n",
      "Model:\n",
      "disagreement ~  C(brainstorming) +  C(agreement) +  C(simple_disagreement) +  C(elaborated_disagreement) +  C(topic_shift) +  C(blending) +  C(building) +  C(fact) +  C(value) +  C(policy) +  C(interpretation) +  C(gives_reason_s) +  C(presents_evidence) +  C(asks_question_s) +  C(provides_information) +  C(clarifies_position_stance) +  C(responds_to_previous_comment) +  C(moderator_post) +  C(acknowledges_problem) +  number_of_likes +  number_of_ideas\n",
      "\n",
      "Error: Perfect separation detected, results not available.\n",
      "Model:\n",
      "disagreement ~  C(blending) +  C(simple_disagreement) +  C(elaborated_disagreement) +  C(topic_shift) +  C(brainstorming) +  C(building) +  C(fact) +  C(value) +  C(policy) +  C(interpretation) +  C(presents_evidence) +  C(asks_question_s) +  C(provides_information) +  C(clarifies_position_stance) +  C(constructive_tone) +  C(moderator_post) +  number_of_likes +  number_of_ideas\n",
      "\n",
      "Error: Perfect separation detected, results not available.\n",
      "Model:\n",
      "disagreement ~  C(broadening) +  C(agreement) +  C(simple_disagreement) +  C(elaborated_disagreement) +  C(topic_shift) +  C(building) +  C(fact) +  C(value) +  C(policy) +  C(interpretation) +  C(gives_reason_s) +  C(presents_evidence) +  C(asks_question_s) +  C(provides_information) +  C(clarifies_position_stance) +  C(responds_to_previous_comment) +  C(constructive_tone) +  C(moderator_post) +  C(acknowledges_problem) +  number_of_likes +  number_of_ideas\n",
      "\n",
      "Error: Perfect separation detected, results not available.\n",
      "Model:\n",
      "disagreement ~  C(value) +  C(simple_disagreement) +  C(elaborated_disagreement) +  C(topic_shift) +  C(brainstorming) +  C(blending) +  C(building) +  C(broadening) +  C(fact) +  C(interpretation) +  C(presents_evidence) +  C(asks_question_s) +  C(provides_information) +  C(responds_to_previous_comment) +  C(constructive_tone) +  C(moderator_post) +  number_of_likes +  number_of_ideas\n",
      "\n",
      "Error: Perfect separation detected, results not available.\n",
      "Model:\n",
      "disagreement ~  C(asks_question_s) +  C(agreement) +  C(simple_disagreement) +  C(elaborated_disagreement) +  C(topic_shift) +  C(brainstorming) +  C(blending) +  C(building) +  C(broadening) +  C(fact) +  C(value) +  C(policy) +  C(interpretation) +  C(presents_evidence) +  C(provides_information) +  C(responds_to_previous_comment) +  C(constructive_tone) +  C(moderator_post) +  C(acknowledges_problem) +  number_of_likes +  number_of_ideas\n",
      "\n",
      "Error: Perfect separation detected, results not available.\n",
      "Model:\n",
      "disagreement ~  C(provides_information) +  C(agreement) +  C(simple_disagreement) +  C(elaborated_disagreement) +  C(topic_shift) +  C(brainstorming) +  C(blending) +  C(broadening) +  C(fact) +  C(value) +  C(interpretation) +  C(presents_evidence) +  C(asks_question_s) +  C(clarifies_position_stance) +  C(responds_to_previous_comment) +  C(constructive_tone) +  C(acknowledges_problem) +  number_of_likes +  number_of_ideas\n",
      "\n",
      "Error: Perfect separation detected, results not available.\n",
      "Model:\n",
      "disagreement ~  C(constructive_tone) +  C(agreement) +  C(elaborated_disagreement) +  C(topic_shift) +  C(blending) +  C(building) +  C(broadening) +  C(fact) +  C(value) +  C(policy) +  C(interpretation) +  C(presents_evidence) +  C(asks_question_s) +  C(provides_information) +  C(clarifies_position_stance) +  C(responds_to_previous_comment) +  C(moderator_post) +  C(acknowledges_problem) +  number_of_likes +  number_of_ideas\n",
      "\n",
      "Error: Perfect separation detected, results not available.\n",
      "Model:\n",
      "disagreement ~  C(moderator_post) +  C(agreement) +  C(simple_disagreement) +  C(elaborated_disagreement) +  C(brainstorming) +  C(blending) +  C(broadening) +  C(fact) +  C(value) +  C(interpretation) +  C(gives_reason_s) +  C(presents_evidence) +  C(asks_question_s) +  C(responds_to_previous_comment) +  C(constructive_tone) +  C(acknowledges_problem) +  number_of_likes +  number_of_ideas\n",
      "\n",
      "Error: Perfect separation detected, results not available.\n",
      "Model:\n",
      "disagreement ~  C(acknowledges_problem) +  C(simple_disagreement) +  C(elaborated_disagreement) +  C(topic_shift) +  C(brainstorming) +  C(building) +  C(broadening) +  C(fact) +  C(interpretation) +  C(presents_evidence) +  C(asks_question_s) +  C(provides_information) +  C(clarifies_position_stance) +  C(constructive_tone) +  C(moderator_post) +  number_of_likes +  number_of_ideas\n",
      "\n",
      "Variable elaborated_disagreement has been removed from the predictors list and the model could be fitted.\n",
      "\n",
      "Variable elaborated_disagreement has been removed from the predictors list and the model could be fitted.\n",
      "\n",
      "Variable elaborated_disagreement has been removed from the predictors list and the model could be fitted.\n",
      "\n",
      "Variable elaborated_disagreement has been removed from the predictors list and the model could be fitted.\n",
      "\n",
      "Variable elaborated_disagreement has been removed from the predictors list and the model could be fitted.\n",
      "\n",
      "Variable elaborated_disagreement has been removed from the predictors list and the model could be fitted.\n",
      "\n",
      "Variable simple_disagreement has been removed from the predictors list and the model could be fitted.\n",
      "\n",
      "Variable elaborated_disagreement has been removed from the predictors list and the model could be fitted.\n",
      "\n",
      "Variable elaborated_disagreement has been removed from the predictors list and the model could be fitted.\n",
      "\n",
      "Variable simple_disagreement has been removed from the predictors list and the model could be fitted.\n",
      "\n",
      "Variable elaborated_disagreement has been removed from the predictors list and the model could be fitted.\n",
      "\n",
      "Variable elaborated_disagreement has been removed from the predictors list and the model could be fitted.\n",
      "\n",
      "There are 1 best model(s)\n"
     ]
    }
   ],
   "source": [
    "best_model = predict_disagreement(all_df, categorical_predictors, numerical_predictors, theme='member')"
   ]
  },
  {
   "cell_type": "markdown",
   "metadata": {},
   "source": [
    "**Best model**"
   ]
  },
  {
   "cell_type": "code",
   "execution_count": 8,
   "metadata": {},
   "outputs": [
    {
     "data": {
      "text/html": [
       "<table class=\"simpletable\">\n",
       "<caption>Generalized Linear Model Regression Results</caption>\n",
       "<tr>\n",
       "  <th>Dep. Variable:</th>   <td>['disagreement[0]', 'disagreement[1]']</td> <th>  No. Observations:  </th>  <td>   212</td> \n",
       "</tr>\n",
       "<tr>\n",
       "  <th>Model:</th>                             <td>GLM</td>                  <th>  Df Residuals:      </th>  <td>   210</td> \n",
       "</tr>\n",
       "<tr>\n",
       "  <th>Model Family:</th>                   <td>Binomial</td>                <th>  Df Model:          </th>  <td>     1</td> \n",
       "</tr>\n",
       "<tr>\n",
       "  <th>Link Function:</th>                    <td>logit</td>                 <th>  Scale:             </th> <td>  1.0000</td>\n",
       "</tr>\n",
       "<tr>\n",
       "  <th>Method:</th>                           <td>IRLS</td>                  <th>  Log-Likelihood:    </th> <td> -56.977</td>\n",
       "</tr>\n",
       "<tr>\n",
       "  <th>Date:</th>                       <td>Thu, 01 Oct 2020</td>            <th>  Deviance:          </th> <td>  113.95</td>\n",
       "</tr>\n",
       "<tr>\n",
       "  <th>Time:</th>                           <td>14:37:33</td>                <th>  Pearson chi2:      </th>  <td>  212.</td> \n",
       "</tr>\n",
       "<tr>\n",
       "  <th>No. Iterations:</th>                     <td>6</td>                   <th>                     </th>     <td> </td>   \n",
       "</tr>\n",
       "<tr>\n",
       "  <th>Covariance Type:</th>                <td>nonrobust</td>               <th>                     </th>     <td> </td>   \n",
       "</tr>\n",
       "</table>\n",
       "<table class=\"simpletable\">\n",
       "<tr>\n",
       "          <td></td>            <th>coef</th>     <th>std err</th>      <th>z</th>      <th>P>|z|</th>  <th>[0.025</th>    <th>0.975]</th>  \n",
       "</tr>\n",
       "<tr>\n",
       "  <th>Intercept</th>        <td>    3.5264</td> <td>    0.717</td> <td>    4.915</td> <td> 0.000</td> <td>    2.120</td> <td>    4.932</td>\n",
       "</tr>\n",
       "<tr>\n",
       "  <th>C(building)[T.1]</th> <td>   -5.6625</td> <td>    0.768</td> <td>   -7.377</td> <td> 0.000</td> <td>   -7.167</td> <td>   -4.158</td>\n",
       "</tr>\n",
       "</table>"
      ],
      "text/plain": [
       "<class 'statsmodels.iolib.summary.Summary'>\n",
       "\"\"\"\n",
       "                           Generalized Linear Model Regression Results                            \n",
       "==================================================================================================\n",
       "Dep. Variable:     ['disagreement[0]', 'disagreement[1]']   No. Observations:                  212\n",
       "Model:                                                GLM   Df Residuals:                      210\n",
       "Model Family:                                    Binomial   Df Model:                            1\n",
       "Link Function:                                      logit   Scale:                          1.0000\n",
       "Method:                                              IRLS   Log-Likelihood:                -56.977\n",
       "Date:                                    Thu, 01 Oct 2020   Deviance:                       113.95\n",
       "Time:                                            14:37:33   Pearson chi2:                     212.\n",
       "No. Iterations:                                         6                                         \n",
       "Covariance Type:                                nonrobust                                         \n",
       "====================================================================================\n",
       "                       coef    std err          z      P>|z|      [0.025      0.975]\n",
       "------------------------------------------------------------------------------------\n",
       "Intercept            3.5264      0.717      4.915      0.000       2.120       4.932\n",
       "C(building)[T.1]    -5.6625      0.768     -7.377      0.000      -7.167      -4.158\n",
       "====================================================================================\n",
       "\"\"\""
      ]
     },
     "execution_count": 8,
     "metadata": {},
     "output_type": "execute_result"
    }
   ],
   "source": [
    "best_model.summary()"
   ]
  },
  {
   "cell_type": "markdown",
   "metadata": {},
   "source": [
    "The predictor `bulding` has a statistical significant effect on `disagreement` for the theme `member`."
   ]
  },
  {
   "cell_type": "markdown",
   "metadata": {},
   "source": [
    "**Interpretation of predictors' effect**"
   ]
  },
  {
   "cell_type": "code",
   "execution_count": 9,
   "metadata": {},
   "outputs": [
    {
     "data": {
      "text/plain": [
       "Intercept           3.526361\n",
       "C(building)[T.1]   -5.662497\n",
       "dtype: float64"
      ]
     },
     "execution_count": 9,
     "metadata": {},
     "output_type": "execute_result"
    }
   ],
   "source": [
    "best_model.params"
   ]
  },
  {
   "cell_type": "code",
   "execution_count": 10,
   "metadata": {},
   "outputs": [],
   "source": [
    "building = np.exp(best_model.params[1])"
   ]
  },
  {
   "cell_type": "markdown",
   "metadata": {},
   "source": [
    "Building"
   ]
  },
  {
   "cell_type": "code",
   "execution_count": 11,
   "metadata": {},
   "outputs": [
    {
     "name": "stdout",
     "output_type": "stream",
     "text": [
      "The odds that disagreement appears in a discussion where participants build upon others' ideas are 0.003 times the odds that disagreement appears in a discussion without building.\n"
     ]
    }
   ],
   "source": [
    "print(f\"The odds that disagreement appears in a discussion where participants build upon others' ideas \"\\\n",
    "      f\"are {round(building,3)} times the odds that disagreement appears in a discussion without building.\")"
   ]
  },
  {
   "cell_type": "markdown",
   "metadata": {},
   "source": [
    "### Theme: Admin"
   ]
  },
  {
   "cell_type": "code",
   "execution_count": 12,
   "metadata": {},
   "outputs": [
    {
     "name": "stdout",
     "output_type": "stream",
     "text": [
      "The analysis is conducted with a dataset composed of 118 rows and 24 columns\n",
      "After the step above the dataset is composed of 118 rows and 24 columns\n",
      "There are 21 possible models\n",
      "Error: Perfect separation detected, results not available.\n",
      "Model:\n",
      "disagreement ~  C(simple_disagreement) +  C(agreement) +  C(elaborated_disagreement) +  C(topic_shift) +  C(brainstorming) +  C(blending) +  C(building) +  C(broadening) +  C(fact) +  C(value) +  C(policy) +  C(interpretation) +  C(presents_evidence) +  C(asks_question_s) +  C(provides_information) +  C(clarifies_position_stance) +  C(responds_to_previous_comment) +  C(constructive_tone) +  C(moderator_post) +  C(acknowledges_problem) +  number_of_likes +  number_of_ideas\n",
      "\n",
      "Error: Perfect separation detected, results not available.\n",
      "Model:\n",
      "disagreement ~  C(elaborated_disagreement) +  C(agreement) +  C(simple_disagreement) +  C(topic_shift) +  C(blending) +  C(broadening) +  C(value) +  C(interpretation) +  C(presents_evidence) +  C(asks_question_s) +  C(provides_information) +  C(clarifies_position_stance) +  C(constructive_tone) +  C(moderator_post) +  C(acknowledges_problem) +  number_of_likes +  number_of_ideas\n",
      "\n",
      "Error: Perfect separation detected, results not available.\n",
      "Model:\n",
      "disagreement ~  C(topic_shift) +  C(agreement) +  C(simple_disagreement) +  C(elaborated_disagreement) +  C(blending) +  C(building) +  C(broadening) +  C(fact) +  C(value) +  C(policy) +  C(interpretation) +  C(gives_reason_s) +  C(presents_evidence) +  C(asks_question_s) +  C(provides_information) +  C(clarifies_position_stance) +  C(constructive_tone) +  C(moderator_post) +  C(acknowledges_problem) +  number_of_likes\n",
      "\n",
      "Error: Perfect separation detected, results not available.\n",
      "Model:\n",
      "disagreement ~  C(blending) +  C(simple_disagreement) +  C(elaborated_disagreement) +  C(topic_shift) +  C(building) +  C(broadening) +  C(fact) +  C(interpretation) +  C(presents_evidence) +  C(asks_question_s) +  C(provides_information) +  C(clarifies_position_stance) +  C(responds_to_previous_comment) +  C(constructive_tone) +  number_of_likes +  number_of_ideas\n",
      "\n",
      "Error: Perfect separation detected, results not available.\n",
      "Model:\n",
      "disagreement ~  C(broadening) +  C(agreement) +  C(simple_disagreement) +  C(elaborated_disagreement) +  C(topic_shift) +  C(brainstorming) +  C(blending) +  C(building) +  C(fact) +  C(value) +  C(policy) +  C(interpretation) +  C(gives_reason_s) +  C(presents_evidence) +  C(asks_question_s) +  C(provides_information) +  C(clarifies_position_stance) +  C(responds_to_previous_comment) +  C(constructive_tone) +  C(moderator_post) +  number_of_likes\n",
      "\n",
      "Error: Perfect separation detected, results not available.\n",
      "Model:\n",
      "disagreement ~  C(value) +  C(simple_disagreement) +  C(elaborated_disagreement) +  C(topic_shift) +  C(brainstorming) +  C(building) +  C(broadening) +  C(fact) +  C(policy) +  C(interpretation) +  C(gives_reason_s) +  C(presents_evidence) +  C(asks_question_s) +  C(provides_information) +  C(clarifies_position_stance) +  C(responds_to_previous_comment) +  C(constructive_tone) +  C(moderator_post) +  C(acknowledges_problem) +  number_of_likes\n",
      "\n",
      "Error: Perfect separation detected, results not available.\n",
      "Model:\n",
      "disagreement ~  C(interpretation) +  C(agreement) +  C(simple_disagreement) +  C(elaborated_disagreement) +  C(topic_shift) +  C(brainstorming) +  C(blending) +  C(broadening) +  C(value) +  C(gives_reason_s) +  C(presents_evidence) +  C(asks_question_s) +  C(provides_information) +  C(responds_to_previous_comment) +  C(constructive_tone) +  C(moderator_post) +  C(acknowledges_problem) +  number_of_likes\n",
      "\n",
      "Error: Perfect separation detected, results not available.\n",
      "Model:\n",
      "disagreement ~  C(presents_evidence) +  C(agreement) +  C(simple_disagreement) +  C(elaborated_disagreement) +  C(topic_shift) +  C(brainstorming) +  C(blending) +  C(building) +  C(broadening) +  C(fact) +  C(value) +  C(policy) +  C(interpretation) +  C(gives_reason_s) +  C(asks_question_s) +  C(provides_information) +  C(clarifies_position_stance) +  C(responds_to_previous_comment) +  C(constructive_tone) +  C(moderator_post) +  C(acknowledges_problem) +  number_of_likes\n",
      "\n",
      "Error: Perfect separation detected, results not available.\n",
      "Model:\n",
      "disagreement ~  C(asks_question_s) +  C(simple_disagreement) +  C(elaborated_disagreement) +  C(topic_shift) +  C(brainstorming) +  C(blending) +  C(broadening) +  C(fact) +  C(value) +  C(policy) +  C(interpretation) +  C(gives_reason_s) +  C(presents_evidence) +  C(provides_information) +  C(clarifies_position_stance) +  C(responds_to_previous_comment) +  C(constructive_tone) +  C(moderator_post) +  C(acknowledges_problem) +  number_of_likes\n",
      "\n",
      "Error: Perfect separation detected, results not available.\n",
      "Model:\n",
      "disagreement ~  C(provides_information) +  C(agreement) +  C(simple_disagreement) +  C(elaborated_disagreement) +  C(topic_shift) +  C(brainstorming) +  C(blending) +  C(building) +  C(broadening) +  C(fact) +  C(value) +  C(interpretation) +  C(presents_evidence) +  C(asks_question_s) +  C(clarifies_position_stance) +  C(responds_to_previous_comment) +  C(constructive_tone) +  C(acknowledges_problem) +  number_of_likes +  number_of_ideas\n",
      "\n",
      "Error: Perfect separation detected, results not available.\n",
      "Model:\n",
      "disagreement ~  C(clarifies_position_stance) +  C(agreement) +  C(simple_disagreement) +  C(elaborated_disagreement) +  C(topic_shift) +  C(brainstorming) +  C(blending) +  C(broadening) +  C(value) +  C(policy) +  C(gives_reason_s) +  C(presents_evidence) +  C(asks_question_s) +  C(provides_information) +  C(responds_to_previous_comment) +  C(constructive_tone) +  C(moderator_post) +  C(acknowledges_problem) +  number_of_likes\n",
      "\n",
      "Error: Perfect separation detected, results not available.\n",
      "Model:\n",
      "disagreement ~  C(constructive_tone) +  C(agreement) +  C(simple_disagreement) +  C(elaborated_disagreement) +  C(topic_shift) +  C(brainstorming) +  C(blending) +  C(building) +  C(broadening) +  C(fact) +  C(value) +  C(policy) +  C(interpretation) +  C(gives_reason_s) +  C(presents_evidence) +  C(asks_question_s) +  C(provides_information) +  C(clarifies_position_stance) +  C(responds_to_previous_comment) +  C(moderator_post) +  C(acknowledges_problem) +  number_of_likes\n",
      "\n",
      "Error: Perfect separation detected, results not available.\n",
      "Model:\n",
      "disagreement ~  C(moderator_post) +  C(agreement) +  C(simple_disagreement) +  C(elaborated_disagreement) +  C(topic_shift) +  C(brainstorming) +  C(building) +  C(broadening) +  C(fact) +  C(value) +  C(policy) +  C(interpretation) +  C(presents_evidence) +  C(asks_question_s) +  C(clarifies_position_stance) +  C(responds_to_previous_comment) +  C(constructive_tone) +  C(acknowledges_problem) +  number_of_likes +  number_of_ideas\n",
      "\n",
      "Error: Perfect separation detected, results not available.\n",
      "Model:\n",
      "disagreement ~  C(acknowledges_problem) +  C(simple_disagreement) +  C(elaborated_disagreement) +  C(topic_shift) +  C(brainstorming) +  C(building) +  C(fact) +  C(value) +  C(interpretation) +  C(presents_evidence) +  C(asks_question_s) +  C(provides_information) +  C(clarifies_position_stance) +  C(responds_to_previous_comment) +  C(constructive_tone) +  C(moderator_post) +  number_of_likes +  number_of_ideas\n",
      "\n",
      "Variable elaborated_disagreement has been removed from the predictors list and the model could be fitted.\n",
      "\n",
      "Variable elaborated_disagreement has been removed from the predictors list and the model could be fitted.\n",
      "\n",
      "Variable simple_disagreement has been removed from the predictors list and the model could be fitted.\n",
      "\n",
      "Variable elaborated_disagreement has been removed from the predictors list and the model could be fitted.\n",
      "\n",
      "Variable simple_disagreement has been removed from the predictors list and the model could be fitted.\n",
      "\n",
      "Variable elaborated_disagreement has been removed from the predictors list and the model could be fitted.\n",
      "\n",
      "Variable elaborated_disagreement has been removed from the predictors list and the model could be fitted.\n",
      "\n"
     ]
    },
    {
     "name": "stderr",
     "output_type": "stream",
     "text": [
      "/home/jorge/Dropbox/Data Analyses/disagreement/env/lib/python3.7/site-packages/statsmodels/genmod/families/family.py:894: RuntimeWarning: divide by zero encountered in true_divide\n",
      "  n_endog_mu = self._clean((1. - endog) / (1. - mu))\n",
      "/home/jorge/Dropbox/Data Analyses/disagreement/env/lib/python3.7/site-packages/statsmodels/genmod/families/links.py:188: RuntimeWarning: overflow encountered in exp\n",
      "  t = np.exp(-z)\n",
      "/home/jorge/Dropbox/Data Analyses/disagreement/env/lib/python3.7/site-packages/statsmodels/genmod/families/family.py:893: RuntimeWarning: divide by zero encountered in true_divide\n",
      "  endog_mu = self._clean(endog / mu)\n",
      "/home/jorge/Dropbox/Data Analyses/disagreement/env/lib/python3.7/site-packages/statsmodels/genmod/families/family.py:893: RuntimeWarning: invalid value encountered in true_divide\n",
      "  endog_mu = self._clean(endog / mu)\n"
     ]
    },
    {
     "name": "stdout",
     "output_type": "stream",
     "text": [
      "Variable elaborated_disagreement has been removed from the predictors list and the model could be fitted.\n",
      "\n",
      "Variable simple_disagreement has been removed from the predictors list and the model could be fitted.\n",
      "\n",
      "Variable elaborated_disagreement has been removed from the predictors list and the model could be fitted.\n",
      "\n",
      "Variable elaborated_disagreement has been removed from the predictors list and the model could be fitted.\n",
      "\n",
      "Variable simple_disagreement has been removed from the predictors list and the model could be fitted.\n",
      "\n",
      "Variable elaborated_disagreement has been removed from the predictors list and the model could be fitted.\n",
      "\n",
      "Variable elaborated_disagreement has been removed from the predictors list and the model could be fitted.\n",
      "\n",
      "Variable elaborated_disagreement has been removed from the predictors list and the model could be fitted.\n",
      "\n",
      "Variable elaborated_disagreement has been removed from the predictors list and the model could be fitted.\n",
      "\n",
      "Variable elaborated_disagreement has been removed from the predictors list and the model could be fitted.\n",
      "\n",
      "Variable simple_disagreement has been removed from the predictors list and the model could be fitted.\n",
      "\n",
      "Variable elaborated_disagreement has been removed from the predictors list and the model could be fitted.\n",
      "\n"
     ]
    },
    {
     "name": "stderr",
     "output_type": "stream",
     "text": [
      "/home/jorge/Dropbox/Data Analyses/disagreement/env/lib/python3.7/site-packages/statsmodels/genmod/families/family.py:946: RuntimeWarning: divide by zero encountered in log\n",
      "  special.gammaln(n - y + 1) + y * np.log(mu / (1 - mu)) +\n",
      "/home/jorge/Dropbox/Data Analyses/disagreement/env/lib/python3.7/site-packages/statsmodels/genmod/families/family.py:946: RuntimeWarning: invalid value encountered in multiply\n",
      "  special.gammaln(n - y + 1) + y * np.log(mu / (1 - mu)) +\n"
     ]
    },
    {
     "name": "stdout",
     "output_type": "stream",
     "text": [
      "There are 1 best model(s)\n"
     ]
    }
   ],
   "source": [
    "best_model = predict_disagreement(all_df, categorical_predictors, numerical_predictors, theme='admin')"
   ]
  },
  {
   "cell_type": "markdown",
   "metadata": {},
   "source": [
    "**Best model**"
   ]
  },
  {
   "cell_type": "code",
   "execution_count": 13,
   "metadata": {},
   "outputs": [
    {
     "data": {
      "text/html": [
       "<table class=\"simpletable\">\n",
       "<caption>Generalized Linear Model Regression Results</caption>\n",
       "<tr>\n",
       "  <th>Dep. Variable:</th>   <td>['disagreement[0]', 'disagreement[1]']</td> <th>  No. Observations:  </th>  <td>   118</td> \n",
       "</tr>\n",
       "<tr>\n",
       "  <th>Model:</th>                             <td>GLM</td>                  <th>  Df Residuals:      </th>  <td>   115</td> \n",
       "</tr>\n",
       "<tr>\n",
       "  <th>Model Family:</th>                   <td>Binomial</td>                <th>  Df Model:          </th>  <td>     2</td> \n",
       "</tr>\n",
       "<tr>\n",
       "  <th>Link Function:</th>                    <td>logit</td>                 <th>  Scale:             </th> <td>  1.0000</td>\n",
       "</tr>\n",
       "<tr>\n",
       "  <th>Method:</th>                           <td>IRLS</td>                  <th>  Log-Likelihood:    </th> <td> -20.661</td>\n",
       "</tr>\n",
       "<tr>\n",
       "  <th>Date:</th>                       <td>Thu, 01 Oct 2020</td>            <th>  Deviance:          </th> <td>  41.322</td>\n",
       "</tr>\n",
       "<tr>\n",
       "  <th>Time:</th>                           <td>14:38:13</td>                <th>  Pearson chi2:      </th>  <td>  117.</td> \n",
       "</tr>\n",
       "<tr>\n",
       "  <th>No. Iterations:</th>                     <td>7</td>                   <th>                     </th>     <td> </td>   \n",
       "</tr>\n",
       "<tr>\n",
       "  <th>Covariance Type:</th>                <td>nonrobust</td>               <th>                     </th>     <td> </td>   \n",
       "</tr>\n",
       "</table>\n",
       "<table class=\"simpletable\">\n",
       "<tr>\n",
       "                 <td></td>                    <th>coef</th>     <th>std err</th>      <th>z</th>      <th>P>|z|</th>  <th>[0.025</th>    <th>0.975]</th>  \n",
       "</tr>\n",
       "<tr>\n",
       "  <th>Intercept</th>                       <td>    4.4978</td> <td>    1.174</td> <td>    3.831</td> <td> 0.000</td> <td>    2.197</td> <td>    6.799</td>\n",
       "</tr>\n",
       "<tr>\n",
       "  <th>C(elaborated_disagreement)[T.1]</th> <td>   -5.5217</td> <td>    1.243</td> <td>   -4.443</td> <td> 0.000</td> <td>   -7.957</td> <td>   -3.086</td>\n",
       "</tr>\n",
       "<tr>\n",
       "  <th>C(building)[T.1]</th>                <td>   -3.5014</td> <td>    1.210</td> <td>   -2.893</td> <td> 0.004</td> <td>   -5.873</td> <td>   -1.129</td>\n",
       "</tr>\n",
       "</table>"
      ],
      "text/plain": [
       "<class 'statsmodels.iolib.summary.Summary'>\n",
       "\"\"\"\n",
       "                           Generalized Linear Model Regression Results                            \n",
       "==================================================================================================\n",
       "Dep. Variable:     ['disagreement[0]', 'disagreement[1]']   No. Observations:                  118\n",
       "Model:                                                GLM   Df Residuals:                      115\n",
       "Model Family:                                    Binomial   Df Model:                            2\n",
       "Link Function:                                      logit   Scale:                          1.0000\n",
       "Method:                                              IRLS   Log-Likelihood:                -20.661\n",
       "Date:                                    Thu, 01 Oct 2020   Deviance:                       41.322\n",
       "Time:                                            14:38:13   Pearson chi2:                     117.\n",
       "No. Iterations:                                         7                                         \n",
       "Covariance Type:                                nonrobust                                         \n",
       "===================================================================================================\n",
       "                                      coef    std err          z      P>|z|      [0.025      0.975]\n",
       "---------------------------------------------------------------------------------------------------\n",
       "Intercept                           4.4978      1.174      3.831      0.000       2.197       6.799\n",
       "C(elaborated_disagreement)[T.1]    -5.5217      1.243     -4.443      0.000      -7.957      -3.086\n",
       "C(building)[T.1]                   -3.5014      1.210     -2.893      0.004      -5.873      -1.129\n",
       "===================================================================================================\n",
       "\"\"\""
      ]
     },
     "execution_count": 13,
     "metadata": {},
     "output_type": "execute_result"
    }
   ],
   "source": [
    "best_model.summary()"
   ]
  },
  {
   "cell_type": "markdown",
   "metadata": {},
   "source": [
    "The predictors `building` have a statistical significant effect on `disagreement` for the theme `admin`."
   ]
  },
  {
   "cell_type": "markdown",
   "metadata": {},
   "source": [
    "**Interpretation of predictors' effect**"
   ]
  },
  {
   "cell_type": "code",
   "execution_count": 14,
   "metadata": {},
   "outputs": [
    {
     "data": {
      "text/plain": [
       "Intercept                          4.497796\n",
       "C(elaborated_disagreement)[T.1]   -5.521729\n",
       "C(building)[T.1]                  -3.501371\n",
       "dtype: float64"
      ]
     },
     "execution_count": 14,
     "metadata": {},
     "output_type": "execute_result"
    }
   ],
   "source": [
    "best_model.params"
   ]
  },
  {
   "cell_type": "code",
   "execution_count": 15,
   "metadata": {},
   "outputs": [],
   "source": [
    "elaborated_disagreement = np.exp(best_model.params[1])\n",
    "building = np.exp(best_model.params[2])"
   ]
  },
  {
   "cell_type": "markdown",
   "metadata": {},
   "source": [
    "Elaborated Disagreement"
   ]
  },
  {
   "cell_type": "code",
   "execution_count": 16,
   "metadata": {},
   "outputs": [
    {
     "name": "stdout",
     "output_type": "stream",
     "text": [
      "The odds that disagreement appears in a discussion with elaborated disagreement are 0.004 times the odds that disagreement appears in a discussion without elaborated disagreement.\n"
     ]
    }
   ],
   "source": [
    "print(f\"The odds that disagreement appears in a discussion with elaborated disagreement are \"\\\n",
    "      f\"{round(elaborated_disagreement,4)} times the odds that disagreement appears in a \"\\\n",
    "      f\"discussion without elaborated disagreement.\")"
   ]
  },
  {
   "cell_type": "markdown",
   "metadata": {},
   "source": [
    "Building"
   ]
  },
  {
   "cell_type": "code",
   "execution_count": 17,
   "metadata": {},
   "outputs": [
    {
     "name": "stdout",
     "output_type": "stream",
     "text": [
      "The odds that disagreement appears in a discussion where participants build upon others' ideas are 0.0302 times the odds that disagreement appears in a discussion without building.\n"
     ]
    }
   ],
   "source": [
    "print(f\"The odds that disagreement appears in a discussion where participants build upon others' ideas \"\\\n",
    "      f\"are {round(building,4)} times the odds that disagreement appears in a discussion without building.\")"
   ]
  },
  {
   "cell_type": "markdown",
   "metadata": {},
   "source": [
    "### Theme: Informal"
   ]
  },
  {
   "cell_type": "code",
   "execution_count": 18,
   "metadata": {},
   "outputs": [
    {
     "name": "stdout",
     "output_type": "stream",
     "text": [
      "The analysis is conducted with a dataset composed of 158 rows and 24 columns\n",
      "After the step above the dataset is composed of 158 rows and 24 columns\n",
      "There are 21 possible models\n",
      "Error: Perfect separation detected, results not available.\n",
      "Model:\n",
      "disagreement ~  C(agreement) +  C(simple_disagreement) +  C(elaborated_disagreement) +  C(brainstorming) +  C(blending) +  C(building) +  C(broadening) +  C(fact) +  C(value) +  C(interpretation) +  C(presents_evidence) +  C(provides_information) +  C(clarifies_position_stance) +  C(responds_to_previous_comment) +  C(constructive_tone) +  number_of_likes\n",
      "\n",
      "Error: Perfect separation detected, results not available.\n",
      "Model:\n",
      "disagreement ~  C(topic_shift) +  C(simple_disagreement) +  C(elaborated_disagreement) +  C(brainstorming) +  C(blending) +  C(building) +  C(broadening) +  C(fact) +  C(value) +  C(interpretation) +  C(gives_reason_s) +  C(presents_evidence) +  C(asks_question_s) +  C(provides_information) +  C(clarifies_position_stance) +  C(constructive_tone) +  C(acknowledges_problem) +  number_of_likes\n",
      "\n",
      "Error: Perfect separation detected, results not available.\n",
      "Model:\n",
      "disagreement ~  C(brainstorming) +  C(agreement) +  C(simple_disagreement) +  C(elaborated_disagreement) +  C(topic_shift) +  C(blending) +  C(building) +  C(fact) +  C(value) +  C(policy) +  C(interpretation) +  C(presents_evidence) +  C(asks_question_s) +  C(provides_information) +  C(clarifies_position_stance) +  C(responds_to_previous_comment) +  C(constructive_tone) +  C(moderator_post) +  C(acknowledges_problem) +  number_of_likes\n",
      "\n",
      "Error: Perfect separation detected, results not available.\n",
      "Model:\n",
      "disagreement ~  C(blending) +  C(agreement) +  C(simple_disagreement) +  C(elaborated_disagreement) +  C(topic_shift) +  C(brainstorming) +  C(building) +  C(broadening) +  C(fact) +  C(value) +  C(policy) +  C(interpretation) +  C(gives_reason_s) +  C(presents_evidence) +  C(provides_information) +  C(clarifies_position_stance) +  C(responds_to_previous_comment) +  C(constructive_tone) +  C(moderator_post) +  number_of_likes\n",
      "\n",
      "Error: Perfect separation detected, results not available.\n",
      "Model:\n",
      "disagreement ~  C(value) +  C(agreement) +  C(simple_disagreement) +  C(elaborated_disagreement) +  C(topic_shift) +  C(brainstorming) +  C(blending) +  C(fact) +  C(policy) +  C(interpretation) +  C(asks_question_s) +  C(provides_information) +  C(clarifies_position_stance) +  C(responds_to_previous_comment) +  C(constructive_tone) +  C(moderator_post) +  C(acknowledges_problem) +  number_of_likes\n",
      "\n",
      "Error: Perfect separation detected, results not available.\n",
      "Model:\n",
      "disagreement ~  C(presents_evidence) +  C(agreement) +  C(simple_disagreement) +  C(elaborated_disagreement) +  C(topic_shift) +  C(brainstorming) +  C(blending) +  C(building) +  C(broadening) +  C(policy) +  C(interpretation) +  C(asks_question_s) +  C(provides_information) +  C(responds_to_previous_comment) +  C(constructive_tone) +  C(moderator_post) +  number_of_likes\n",
      "\n",
      "Error: Perfect separation detected, results not available.\n",
      "Model:\n",
      "disagreement ~  C(provides_information) +  C(agreement) +  C(simple_disagreement) +  C(elaborated_disagreement) +  C(topic_shift) +  C(brainstorming) +  C(blending) +  C(building) +  C(fact) +  C(value) +  C(policy) +  C(interpretation) +  C(gives_reason_s) +  C(presents_evidence) +  C(asks_question_s) +  C(clarifies_position_stance) +  C(responds_to_previous_comment) +  C(constructive_tone) +  C(moderator_post) +  C(acknowledges_problem) +  number_of_likes\n",
      "\n",
      "Error: Perfect separation detected, results not available.\n",
      "Model:\n",
      "disagreement ~  C(constructive_tone) +  C(agreement) +  C(elaborated_disagreement) +  C(topic_shift) +  C(brainstorming) +  C(blending) +  C(building) +  C(broadening) +  C(fact) +  C(value) +  C(policy) +  C(interpretation) +  C(gives_reason_s) +  C(presents_evidence) +  C(asks_question_s) +  C(provides_information) +  C(responds_to_previous_comment) +  C(moderator_post) +  C(acknowledges_problem) +  number_of_likes\n",
      "\n",
      "Variable simple_disagreement has been removed from the predictors list and the model could be fitted.\n",
      "\n",
      "Variable elaborated_disagreement has been removed from the predictors list and the model could be fitted.\n",
      "\n",
      "Variable simple_disagreement has been removed from the predictors list and the model could be fitted.\n",
      "\n",
      "Variable elaborated_disagreement has been removed from the predictors list and the model could be fitted.\n",
      "\n",
      "Variable elaborated_disagreement has been removed from the predictors list and the model could be fitted.\n",
      "\n",
      "Variable elaborated_disagreement has been removed from the predictors list and the model could be fitted.\n",
      "\n",
      "Variable simple_disagreement has been removed from the predictors list and the model could be fitted.\n",
      "\n",
      "Variable elaborated_disagreement has been removed from the predictors list and the model could be fitted.\n",
      "\n",
      "Variable simple_disagreement has been removed from the predictors list and the model could be fitted.\n",
      "\n",
      "Variable elaborated_disagreement has been removed from the predictors list and the model could be fitted.\n",
      "\n",
      "Variable elaborated_disagreement has been removed from the predictors list and the model could be fitted.\n",
      "\n",
      "Variable agreement has been removed from the predictors list and the model could be fitted.\n",
      "\n",
      "Variable elaborated_disagreement has been removed from the predictors list and the model could be fitted.\n",
      "\n",
      "Variable building has been removed from the predictors list and the model could be fitted.\n",
      "\n",
      "There are 1 best model(s)\n"
     ]
    }
   ],
   "source": [
    "best_model = predict_disagreement(all_df, categorical_predictors, numerical_predictors, theme='informal')"
   ]
  },
  {
   "cell_type": "markdown",
   "metadata": {},
   "source": [
    "**Best model**"
   ]
  },
  {
   "cell_type": "code",
   "execution_count": 19,
   "metadata": {},
   "outputs": [
    {
     "data": {
      "text/html": [
       "<table class=\"simpletable\">\n",
       "<caption>Generalized Linear Model Regression Results</caption>\n",
       "<tr>\n",
       "  <th>Dep. Variable:</th>   <td>['disagreement[0]', 'disagreement[1]']</td> <th>  No. Observations:  </th>  <td>   158</td> \n",
       "</tr>\n",
       "<tr>\n",
       "  <th>Model:</th>                             <td>GLM</td>                  <th>  Df Residuals:      </th>  <td>   155</td> \n",
       "</tr>\n",
       "<tr>\n",
       "  <th>Model Family:</th>                   <td>Binomial</td>                <th>  Df Model:          </th>  <td>     2</td> \n",
       "</tr>\n",
       "<tr>\n",
       "  <th>Link Function:</th>                    <td>logit</td>                 <th>  Scale:             </th> <td>  1.0000</td>\n",
       "</tr>\n",
       "<tr>\n",
       "  <th>Method:</th>                           <td>IRLS</td>                  <th>  Log-Likelihood:    </th> <td> -58.552</td>\n",
       "</tr>\n",
       "<tr>\n",
       "  <th>Date:</th>                       <td>Thu, 01 Oct 2020</td>            <th>  Deviance:          </th> <td>  117.10</td>\n",
       "</tr>\n",
       "<tr>\n",
       "  <th>Time:</th>                           <td>14:38:59</td>                <th>  Pearson chi2:      </th>  <td>  164.</td> \n",
       "</tr>\n",
       "<tr>\n",
       "  <th>No. Iterations:</th>                     <td>5</td>                   <th>                     </th>     <td> </td>   \n",
       "</tr>\n",
       "<tr>\n",
       "  <th>Covariance Type:</th>                <td>nonrobust</td>               <th>                     </th>     <td> </td>   \n",
       "</tr>\n",
       "</table>\n",
       "<table class=\"simpletable\">\n",
       "<tr>\n",
       "            <td></td>               <th>coef</th>     <th>std err</th>      <th>z</th>      <th>P>|z|</th>  <th>[0.025</th>    <th>0.975]</th>  \n",
       "</tr>\n",
       "<tr>\n",
       "  <th>Intercept</th>             <td>    0.9712</td> <td>    0.442</td> <td>    2.199</td> <td> 0.028</td> <td>    0.106</td> <td>    1.837</td>\n",
       "</tr>\n",
       "<tr>\n",
       "  <th>C(brainstorming)[T.1]</th> <td>    0.5933</td> <td>    0.537</td> <td>    1.105</td> <td> 0.269</td> <td>   -0.459</td> <td>    1.646</td>\n",
       "</tr>\n",
       "<tr>\n",
       "  <th>C(building)[T.1]</th>      <td>   -3.9236</td> <td>    0.514</td> <td>   -7.636</td> <td> 0.000</td> <td>   -4.931</td> <td>   -2.916</td>\n",
       "</tr>\n",
       "</table>"
      ],
      "text/plain": [
       "<class 'statsmodels.iolib.summary.Summary'>\n",
       "\"\"\"\n",
       "                           Generalized Linear Model Regression Results                            \n",
       "==================================================================================================\n",
       "Dep. Variable:     ['disagreement[0]', 'disagreement[1]']   No. Observations:                  158\n",
       "Model:                                                GLM   Df Residuals:                      155\n",
       "Model Family:                                    Binomial   Df Model:                            2\n",
       "Link Function:                                      logit   Scale:                          1.0000\n",
       "Method:                                              IRLS   Log-Likelihood:                -58.552\n",
       "Date:                                    Thu, 01 Oct 2020   Deviance:                       117.10\n",
       "Time:                                            14:38:59   Pearson chi2:                     164.\n",
       "No. Iterations:                                         5                                         \n",
       "Covariance Type:                                nonrobust                                         \n",
       "=========================================================================================\n",
       "                            coef    std err          z      P>|z|      [0.025      0.975]\n",
       "-----------------------------------------------------------------------------------------\n",
       "Intercept                 0.9712      0.442      2.199      0.028       0.106       1.837\n",
       "C(brainstorming)[T.1]     0.5933      0.537      1.105      0.269      -0.459       1.646\n",
       "C(building)[T.1]         -3.9236      0.514     -7.636      0.000      -4.931      -2.916\n",
       "=========================================================================================\n",
       "\"\"\""
      ]
     },
     "execution_count": 19,
     "metadata": {},
     "output_type": "execute_result"
    }
   ],
   "source": [
    "best_model.summary()"
   ]
  },
  {
   "cell_type": "markdown",
   "metadata": {},
   "source": [
    "The predictor `building` has a statistical significant effect on `disagreement` for the theme `informal`."
   ]
  },
  {
   "cell_type": "markdown",
   "metadata": {},
   "source": [
    "**Interpretation of predictors' effect**"
   ]
  },
  {
   "cell_type": "code",
   "execution_count": 20,
   "metadata": {},
   "outputs": [
    {
     "data": {
      "text/plain": [
       "Intercept                0.971206\n",
       "C(brainstorming)[T.1]    0.593320\n",
       "C(building)[T.1]        -3.923608\n",
       "dtype: float64"
      ]
     },
     "execution_count": 20,
     "metadata": {},
     "output_type": "execute_result"
    }
   ],
   "source": [
    "best_model.params"
   ]
  },
  {
   "cell_type": "code",
   "execution_count": 21,
   "metadata": {},
   "outputs": [],
   "source": [
    "brainstorming = np.exp(best_model.params[1])\n",
    "building = np.exp(best_model.params[2])"
   ]
  },
  {
   "cell_type": "markdown",
   "metadata": {},
   "source": [
    "Building"
   ]
  },
  {
   "cell_type": "code",
   "execution_count": 22,
   "metadata": {},
   "outputs": [
    {
     "name": "stdout",
     "output_type": "stream",
     "text": [
      "The odds that disagreement appears in a discussion where participants build upon others' ideas are 0.0198 times the odds that disagreement appears in a discussion without building.\n"
     ]
    }
   ],
   "source": [
    "print(f\"The odds that disagreement appears in a discussion where participants build upon others' ideas \"\\\n",
    "      f\"are {round(building,4)} times the odds that disagreement appears in a discussion without building.\")"
   ]
  },
  {
   "cell_type": "markdown",
   "metadata": {},
   "source": [
    "### Findings"
   ]
  },
  {
   "cell_type": "markdown",
   "metadata": {},
   "source": [
    "Models are differents in each discussion theme. The presence of disagreement in the `member` theme has shown to be statistically significant affected by `building`. `Elaborated disagreement` and `building` influence statistically significant the presence of disagreement in the `admin` theme while `building` and `brainstorming` have a statistically significant effect on disagreement in the `informal` theme. "
   ]
  },
  {
   "cell_type": "markdown",
   "metadata": {},
   "source": [
    "---"
   ]
  },
  {
   "cell_type": "markdown",
   "metadata": {},
   "source": [
    "## RQ2. Predictors of new ideas"
   ]
  },
  {
   "cell_type": "markdown",
   "metadata": {},
   "source": [
    "### 1. Define and select predictor variables for `new ideas`"
   ]
  },
  {
   "cell_type": "code",
   "execution_count": 23,
   "metadata": {},
   "outputs": [
    {
     "name": "stdout",
     "output_type": "stream",
     "text": [
      "In total 23 variables will be considered in the analysis of RQ2\n"
     ]
    }
   ],
   "source": [
    "predictors_new_ideas = [\n",
    "    'number_of_likes', 'agreement', 'disagreement', 'simple_disagreement', 'elaborated_disagreement',\n",
    "    'topic_shift', 'brainstorming', 'blending', 'building', 'broadening', 'fact',\n",
    "    'value', 'policy', 'interpretation', 'gives_reason_s', 'presents_evidence', 'asks_question_s',\n",
    "    'provides_information', 'clarifies_position_stance', 'responds_to_previous_comment', \n",
    "    'constructive_tone', 'moderator_post', 'acknowledges_problem'\n",
    "]\n",
    "print(f\"In total {len(predictors_new_ideas)} variables will be considered in the analysis of RQ2\")"
   ]
  },
  {
   "cell_type": "markdown",
   "metadata": {},
   "source": [
    "#### Select columns that include predictors and the target variable"
   ]
  },
  {
   "cell_type": "code",
   "execution_count": 24,
   "metadata": {},
   "outputs": [
    {
     "name": "stdout",
     "output_type": "stream",
     "text": [
      "The analysis is conducted with a dataset composed of 488 rows and 24 columns\n"
     ]
    }
   ],
   "source": [
    "rq2_df = all_df.loc[:,predictors_new_ideas+['number_of_ideas']]\n",
    "print(f\"The analysis is conducted with a dataset composed of {rq2_df.shape[0]} rows and {rq2_df.shape[1]} columns\")"
   ]
  },
  {
   "cell_type": "markdown",
   "metadata": {},
   "source": [
    "### 2. Cast variables to numeric"
   ]
  },
  {
   "cell_type": "markdown",
   "metadata": {},
   "source": [
    "Some variables have the values `unclear` and `nan`, which need to be converted to numerical before casting the variable to this type."
   ]
  },
  {
   "cell_type": "code",
   "execution_count": 25,
   "metadata": {},
   "outputs": [],
   "source": [
    "numerical_predictors = ['number_of_likes', 'number_of_ideas']"
   ]
  },
  {
   "cell_type": "code",
   "execution_count": 26,
   "metadata": {},
   "outputs": [],
   "source": [
    "for col in rq2_df.columns:\n",
    "    rq2_df.loc[rq2_df[col]=='unclear', col] = 0\n",
    "    rq2_df.loc[rq2_df[col].isna(), col] = 0\n",
    "    rq2_df[col] = pd.to_numeric(rq2_df[col], downcast='unsigned')\n",
    "    if col not in numerical_predictors:\n",
    "        unique_values = rq2_df[col].unique()\n",
    "        invalid_values = set(unique_values) - set([0,1])\n",
    "        if len(invalid_values) > 0:  # the column has invalid values                   \n",
    "            invalid_indexes = list(rq2_df.loc[~rq2_df[col].isin([0,1])].index)\n",
    "            if len(invalid_indexes) > 0:\n",
    "                print(f'Found the following invalid values {invalid_values} in {len(invalid_indexes)} '\\\n",
    "                      f'rows of the column {col}. Rows has been discarded.')\n",
    "                rq2_df = rq2_df.drop(index=invalid_indexes)            "
   ]
  },
  {
   "cell_type": "code",
   "execution_count": 27,
   "metadata": {},
   "outputs": [
    {
     "name": "stdout",
     "output_type": "stream",
     "text": [
      "After the step above the dataset is composed of 488 rows and 24 columns\n"
     ]
    }
   ],
   "source": [
    "print(f\"After the step above the dataset is composed of {rq2_df.shape[0]} rows and {rq2_df.shape[1]} columns\")"
   ]
  },
  {
   "cell_type": "markdown",
   "metadata": {},
   "source": [
    "### 3. Check independence between numerical and categorical variables"
   ]
  },
  {
   "cell_type": "markdown",
   "metadata": {},
   "source": [
    "Persons correlation is employed to analyze correlation between numerical and categorical variables. Having dichotomous categorical variables, Persons correlation can be used [ref](https://www.researchgate.net/post/Can_I_use_Pearsons_correlation_coefficient_to_know_the_relation_between_perception_and_gender_age_income). "
   ]
  },
  {
   "cell_type": "code",
   "execution_count": 28,
   "metadata": {},
   "outputs": [],
   "source": [
    "alpha_level = 0.05"
   ]
  },
  {
   "cell_type": "code",
   "execution_count": 29,
   "metadata": {},
   "outputs": [],
   "source": [
    "independence_num_cat = pd.DataFrame(columns=['number_of_likes_cor', 'number_of_likes_p_value'], \n",
    "                                    index=predictors_disagreement)\n",
    "predictor_1 = 'number_of_likes'\n",
    "for predictor_2 in predictors_disagreement:        \n",
    "    if predictor_2 == predictor_1:\n",
    "        continue\n",
    "    correlation, p_value = stats.spearmanr(rq2_df[predictor_1], rq2_df[predictor_2])    \n",
    "    independence_num_cat.loc[predictor_2, 'number_of_likes_cor'] = round(correlation, 3)\n",
    "    independence_num_cat.loc[predictor_2, 'number_of_likes_p_value'] = round(p_value, 3)"
   ]
  },
  {
   "cell_type": "code",
   "execution_count": 30,
   "metadata": {},
   "outputs": [
    {
     "data": {
      "text/html": [
       "<div>\n",
       "<style scoped>\n",
       "    .dataframe tbody tr th:only-of-type {\n",
       "        vertical-align: middle;\n",
       "    }\n",
       "\n",
       "    .dataframe tbody tr th {\n",
       "        vertical-align: top;\n",
       "    }\n",
       "\n",
       "    .dataframe thead th {\n",
       "        text-align: right;\n",
       "    }\n",
       "</style>\n",
       "<table border=\"1\" class=\"dataframe\">\n",
       "  <thead>\n",
       "    <tr style=\"text-align: right;\">\n",
       "      <th></th>\n",
       "      <th>number_of_likes_cor</th>\n",
       "      <th>number_of_likes_p_value</th>\n",
       "    </tr>\n",
       "  </thead>\n",
       "  <tbody>\n",
       "    <tr>\n",
       "      <th>number_of_likes</th>\n",
       "      <td>NaN</td>\n",
       "      <td>NaN</td>\n",
       "    </tr>\n",
       "    <tr>\n",
       "      <th>number_of_ideas</th>\n",
       "      <td>0.114</td>\n",
       "      <td>0.011</td>\n",
       "    </tr>\n",
       "    <tr>\n",
       "      <th>agreement</th>\n",
       "      <td>0.105</td>\n",
       "      <td>0.021</td>\n",
       "    </tr>\n",
       "    <tr>\n",
       "      <th>simple_disagreement</th>\n",
       "      <td>-0.084</td>\n",
       "      <td>0.063</td>\n",
       "    </tr>\n",
       "    <tr>\n",
       "      <th>elaborated_disagreement</th>\n",
       "      <td>-0.091</td>\n",
       "      <td>0.044</td>\n",
       "    </tr>\n",
       "    <tr>\n",
       "      <th>topic_shift</th>\n",
       "      <td>0.127</td>\n",
       "      <td>0.005</td>\n",
       "    </tr>\n",
       "    <tr>\n",
       "      <th>brainstorming</th>\n",
       "      <td>0.188</td>\n",
       "      <td>0</td>\n",
       "    </tr>\n",
       "    <tr>\n",
       "      <th>blending</th>\n",
       "      <td>0.094</td>\n",
       "      <td>0.037</td>\n",
       "    </tr>\n",
       "    <tr>\n",
       "      <th>building</th>\n",
       "      <td>-0.145</td>\n",
       "      <td>0.001</td>\n",
       "    </tr>\n",
       "    <tr>\n",
       "      <th>broadening</th>\n",
       "      <td>0.043</td>\n",
       "      <td>0.348</td>\n",
       "    </tr>\n",
       "    <tr>\n",
       "      <th>fact</th>\n",
       "      <td>-0.089</td>\n",
       "      <td>0.049</td>\n",
       "    </tr>\n",
       "    <tr>\n",
       "      <th>value</th>\n",
       "      <td>0.03</td>\n",
       "      <td>0.512</td>\n",
       "    </tr>\n",
       "    <tr>\n",
       "      <th>policy</th>\n",
       "      <td>-0.024</td>\n",
       "      <td>0.593</td>\n",
       "    </tr>\n",
       "    <tr>\n",
       "      <th>interpretation</th>\n",
       "      <td>-0.09</td>\n",
       "      <td>0.047</td>\n",
       "    </tr>\n",
       "    <tr>\n",
       "      <th>gives_reason_s</th>\n",
       "      <td>0.122</td>\n",
       "      <td>0.007</td>\n",
       "    </tr>\n",
       "    <tr>\n",
       "      <th>presents_evidence</th>\n",
       "      <td>0.014</td>\n",
       "      <td>0.764</td>\n",
       "    </tr>\n",
       "    <tr>\n",
       "      <th>asks_question_s</th>\n",
       "      <td>-0.133</td>\n",
       "      <td>0.003</td>\n",
       "    </tr>\n",
       "    <tr>\n",
       "      <th>provides_information</th>\n",
       "      <td>0.013</td>\n",
       "      <td>0.774</td>\n",
       "    </tr>\n",
       "    <tr>\n",
       "      <th>clarifies_position_stance</th>\n",
       "      <td>-0.107</td>\n",
       "      <td>0.018</td>\n",
       "    </tr>\n",
       "    <tr>\n",
       "      <th>responds_to_previous_comment</th>\n",
       "      <td>-0.182</td>\n",
       "      <td>0</td>\n",
       "    </tr>\n",
       "    <tr>\n",
       "      <th>constructive_tone</th>\n",
       "      <td>0.083</td>\n",
       "      <td>0.067</td>\n",
       "    </tr>\n",
       "    <tr>\n",
       "      <th>moderator_post</th>\n",
       "      <td>0.195</td>\n",
       "      <td>0</td>\n",
       "    </tr>\n",
       "    <tr>\n",
       "      <th>acknowledges_problem</th>\n",
       "      <td>0.023</td>\n",
       "      <td>0.605</td>\n",
       "    </tr>\n",
       "  </tbody>\n",
       "</table>\n",
       "</div>"
      ],
      "text/plain": [
       "                             number_of_likes_cor number_of_likes_p_value\n",
       "number_of_likes                              NaN                     NaN\n",
       "number_of_ideas                            0.114                   0.011\n",
       "agreement                                  0.105                   0.021\n",
       "simple_disagreement                       -0.084                   0.063\n",
       "elaborated_disagreement                   -0.091                   0.044\n",
       "topic_shift                                0.127                   0.005\n",
       "brainstorming                              0.188                       0\n",
       "blending                                   0.094                   0.037\n",
       "building                                  -0.145                   0.001\n",
       "broadening                                 0.043                   0.348\n",
       "fact                                      -0.089                   0.049\n",
       "value                                       0.03                   0.512\n",
       "policy                                    -0.024                   0.593\n",
       "interpretation                             -0.09                   0.047\n",
       "gives_reason_s                             0.122                   0.007\n",
       "presents_evidence                          0.014                   0.764\n",
       "asks_question_s                           -0.133                   0.003\n",
       "provides_information                       0.013                   0.774\n",
       "clarifies_position_stance                 -0.107                   0.018\n",
       "responds_to_previous_comment              -0.182                       0\n",
       "constructive_tone                          0.083                   0.067\n",
       "moderator_post                             0.195                       0\n",
       "acknowledges_problem                       0.023                   0.605"
      ]
     },
     "execution_count": 30,
     "metadata": {},
     "output_type": "execute_result"
    }
   ],
   "source": [
    "independence_num_cat"
   ]
  },
  {
   "cell_type": "markdown",
   "metadata": {},
   "source": [
    "### 4. Cast categorical variables to category type"
   ]
  },
  {
   "cell_type": "code",
   "execution_count": 31,
   "metadata": {},
   "outputs": [],
   "source": [
    "for col in rq2_df.columns:\n",
    "    if col not in numerical_predictors:\n",
    "        rq2_df[col] = rq2_df[col].astype('category')"
   ]
  },
  {
   "cell_type": "markdown",
   "metadata": {},
   "source": [
    "### 5. Check independence of categorial variables"
   ]
  },
  {
   "cell_type": "code",
   "execution_count": 32,
   "metadata": {},
   "outputs": [],
   "source": [
    "independece_analysis = pd.DataFrame(columns=predictors_disagreement, index=predictors_new_ideas)\n",
    "for predictor_1 in predictors_disagreement:\n",
    "    if predictor_1 in numerical_predictors:\n",
    "        continue\n",
    "    for predictor_2 in predictors_disagreement:        \n",
    "        if predictor_2 in numerical_predictors:\n",
    "            continue\n",
    "        if predictor_2 == predictor_1:\n",
    "            continue\n",
    "        cross_tab = pd.crosstab(rq2_df[predictor_1], rq2_df[predictor_2])\n",
    "        chi2_stat, p_val, dof, ex = stats.chi2_contingency(cross_tab)\n",
    "        if p_val < alpha_level:\n",
    "            independece_analysis.loc[predictor_1,predictor_2] = 'F'\n",
    "        else:\n",
    "            independece_analysis.loc[predictor_1,predictor_2] = 'T'"
   ]
  },
  {
   "cell_type": "code",
   "execution_count": 33,
   "metadata": {},
   "outputs": [
    {
     "data": {
      "text/html": [
       "<div>\n",
       "<style scoped>\n",
       "    .dataframe tbody tr th:only-of-type {\n",
       "        vertical-align: middle;\n",
       "    }\n",
       "\n",
       "    .dataframe tbody tr th {\n",
       "        vertical-align: top;\n",
       "    }\n",
       "\n",
       "    .dataframe thead th {\n",
       "        text-align: right;\n",
       "    }\n",
       "</style>\n",
       "<table border=\"1\" class=\"dataframe\">\n",
       "  <thead>\n",
       "    <tr style=\"text-align: right;\">\n",
       "      <th></th>\n",
       "      <th>agreement</th>\n",
       "      <th>simple_disagreement</th>\n",
       "      <th>elaborated_disagreement</th>\n",
       "      <th>topic_shift</th>\n",
       "      <th>brainstorming</th>\n",
       "      <th>blending</th>\n",
       "      <th>building</th>\n",
       "      <th>broadening</th>\n",
       "      <th>fact</th>\n",
       "      <th>value</th>\n",
       "      <th>...</th>\n",
       "      <th>interpretation</th>\n",
       "      <th>gives_reason_s</th>\n",
       "      <th>presents_evidence</th>\n",
       "      <th>asks_question_s</th>\n",
       "      <th>provides_information</th>\n",
       "      <th>clarifies_position_stance</th>\n",
       "      <th>responds_to_previous_comment</th>\n",
       "      <th>constructive_tone</th>\n",
       "      <th>moderator_post</th>\n",
       "      <th>acknowledges_problem</th>\n",
       "    </tr>\n",
       "  </thead>\n",
       "  <tbody>\n",
       "    <tr>\n",
       "      <th>agreement</th>\n",
       "      <td>NaN</td>\n",
       "      <td>F</td>\n",
       "      <td>F</td>\n",
       "      <td>F</td>\n",
       "      <td>T</td>\n",
       "      <td>F</td>\n",
       "      <td>F</td>\n",
       "      <td>T</td>\n",
       "      <td>F</td>\n",
       "      <td>F</td>\n",
       "      <td>...</td>\n",
       "      <td>T</td>\n",
       "      <td>F</td>\n",
       "      <td>T</td>\n",
       "      <td>F</td>\n",
       "      <td>T</td>\n",
       "      <td>F</td>\n",
       "      <td>T</td>\n",
       "      <td>F</td>\n",
       "      <td>T</td>\n",
       "      <td>F</td>\n",
       "    </tr>\n",
       "    <tr>\n",
       "      <th>disagreement</th>\n",
       "      <td>NaN</td>\n",
       "      <td>NaN</td>\n",
       "      <td>NaN</td>\n",
       "      <td>NaN</td>\n",
       "      <td>NaN</td>\n",
       "      <td>NaN</td>\n",
       "      <td>NaN</td>\n",
       "      <td>NaN</td>\n",
       "      <td>NaN</td>\n",
       "      <td>NaN</td>\n",
       "      <td>...</td>\n",
       "      <td>NaN</td>\n",
       "      <td>NaN</td>\n",
       "      <td>NaN</td>\n",
       "      <td>NaN</td>\n",
       "      <td>NaN</td>\n",
       "      <td>NaN</td>\n",
       "      <td>NaN</td>\n",
       "      <td>NaN</td>\n",
       "      <td>NaN</td>\n",
       "      <td>NaN</td>\n",
       "    </tr>\n",
       "    <tr>\n",
       "      <th>simple_disagreement</th>\n",
       "      <td>F</td>\n",
       "      <td>NaN</td>\n",
       "      <td>F</td>\n",
       "      <td>T</td>\n",
       "      <td>F</td>\n",
       "      <td>T</td>\n",
       "      <td>T</td>\n",
       "      <td>F</td>\n",
       "      <td>T</td>\n",
       "      <td>F</td>\n",
       "      <td>...</td>\n",
       "      <td>T</td>\n",
       "      <td>F</td>\n",
       "      <td>T</td>\n",
       "      <td>T</td>\n",
       "      <td>T</td>\n",
       "      <td>T</td>\n",
       "      <td>T</td>\n",
       "      <td>F</td>\n",
       "      <td>T</td>\n",
       "      <td>F</td>\n",
       "    </tr>\n",
       "    <tr>\n",
       "      <th>elaborated_disagreement</th>\n",
       "      <td>F</td>\n",
       "      <td>F</td>\n",
       "      <td>NaN</td>\n",
       "      <td>T</td>\n",
       "      <td>F</td>\n",
       "      <td>T</td>\n",
       "      <td>F</td>\n",
       "      <td>T</td>\n",
       "      <td>F</td>\n",
       "      <td>F</td>\n",
       "      <td>...</td>\n",
       "      <td>F</td>\n",
       "      <td>F</td>\n",
       "      <td>F</td>\n",
       "      <td>F</td>\n",
       "      <td>T</td>\n",
       "      <td>F</td>\n",
       "      <td>F</td>\n",
       "      <td>T</td>\n",
       "      <td>F</td>\n",
       "      <td>T</td>\n",
       "    </tr>\n",
       "    <tr>\n",
       "      <th>topic_shift</th>\n",
       "      <td>F</td>\n",
       "      <td>T</td>\n",
       "      <td>T</td>\n",
       "      <td>NaN</td>\n",
       "      <td>F</td>\n",
       "      <td>T</td>\n",
       "      <td>F</td>\n",
       "      <td>F</td>\n",
       "      <td>T</td>\n",
       "      <td>T</td>\n",
       "      <td>...</td>\n",
       "      <td>T</td>\n",
       "      <td>T</td>\n",
       "      <td>T</td>\n",
       "      <td>T</td>\n",
       "      <td>T</td>\n",
       "      <td>F</td>\n",
       "      <td>F</td>\n",
       "      <td>T</td>\n",
       "      <td>T</td>\n",
       "      <td>T</td>\n",
       "    </tr>\n",
       "    <tr>\n",
       "      <th>brainstorming</th>\n",
       "      <td>T</td>\n",
       "      <td>F</td>\n",
       "      <td>F</td>\n",
       "      <td>F</td>\n",
       "      <td>NaN</td>\n",
       "      <td>F</td>\n",
       "      <td>T</td>\n",
       "      <td>F</td>\n",
       "      <td>T</td>\n",
       "      <td>T</td>\n",
       "      <td>...</td>\n",
       "      <td>T</td>\n",
       "      <td>F</td>\n",
       "      <td>T</td>\n",
       "      <td>T</td>\n",
       "      <td>T</td>\n",
       "      <td>T</td>\n",
       "      <td>F</td>\n",
       "      <td>F</td>\n",
       "      <td>T</td>\n",
       "      <td>T</td>\n",
       "    </tr>\n",
       "    <tr>\n",
       "      <th>blending</th>\n",
       "      <td>F</td>\n",
       "      <td>T</td>\n",
       "      <td>T</td>\n",
       "      <td>T</td>\n",
       "      <td>F</td>\n",
       "      <td>NaN</td>\n",
       "      <td>T</td>\n",
       "      <td>T</td>\n",
       "      <td>T</td>\n",
       "      <td>F</td>\n",
       "      <td>...</td>\n",
       "      <td>T</td>\n",
       "      <td>F</td>\n",
       "      <td>T</td>\n",
       "      <td>F</td>\n",
       "      <td>T</td>\n",
       "      <td>T</td>\n",
       "      <td>F</td>\n",
       "      <td>T</td>\n",
       "      <td>T</td>\n",
       "      <td>F</td>\n",
       "    </tr>\n",
       "    <tr>\n",
       "      <th>building</th>\n",
       "      <td>F</td>\n",
       "      <td>T</td>\n",
       "      <td>F</td>\n",
       "      <td>F</td>\n",
       "      <td>T</td>\n",
       "      <td>T</td>\n",
       "      <td>NaN</td>\n",
       "      <td>T</td>\n",
       "      <td>F</td>\n",
       "      <td>T</td>\n",
       "      <td>...</td>\n",
       "      <td>F</td>\n",
       "      <td>F</td>\n",
       "      <td>F</td>\n",
       "      <td>F</td>\n",
       "      <td>F</td>\n",
       "      <td>F</td>\n",
       "      <td>F</td>\n",
       "      <td>T</td>\n",
       "      <td>F</td>\n",
       "      <td>T</td>\n",
       "    </tr>\n",
       "    <tr>\n",
       "      <th>broadening</th>\n",
       "      <td>T</td>\n",
       "      <td>F</td>\n",
       "      <td>T</td>\n",
       "      <td>F</td>\n",
       "      <td>F</td>\n",
       "      <td>T</td>\n",
       "      <td>T</td>\n",
       "      <td>NaN</td>\n",
       "      <td>T</td>\n",
       "      <td>F</td>\n",
       "      <td>...</td>\n",
       "      <td>T</td>\n",
       "      <td>F</td>\n",
       "      <td>F</td>\n",
       "      <td>T</td>\n",
       "      <td>F</td>\n",
       "      <td>T</td>\n",
       "      <td>T</td>\n",
       "      <td>T</td>\n",
       "      <td>F</td>\n",
       "      <td>F</td>\n",
       "    </tr>\n",
       "    <tr>\n",
       "      <th>fact</th>\n",
       "      <td>F</td>\n",
       "      <td>T</td>\n",
       "      <td>F</td>\n",
       "      <td>T</td>\n",
       "      <td>T</td>\n",
       "      <td>T</td>\n",
       "      <td>F</td>\n",
       "      <td>T</td>\n",
       "      <td>NaN</td>\n",
       "      <td>T</td>\n",
       "      <td>...</td>\n",
       "      <td>F</td>\n",
       "      <td>F</td>\n",
       "      <td>F</td>\n",
       "      <td>T</td>\n",
       "      <td>T</td>\n",
       "      <td>F</td>\n",
       "      <td>F</td>\n",
       "      <td>T</td>\n",
       "      <td>T</td>\n",
       "      <td>T</td>\n",
       "    </tr>\n",
       "    <tr>\n",
       "      <th>value</th>\n",
       "      <td>F</td>\n",
       "      <td>F</td>\n",
       "      <td>F</td>\n",
       "      <td>T</td>\n",
       "      <td>T</td>\n",
       "      <td>F</td>\n",
       "      <td>T</td>\n",
       "      <td>F</td>\n",
       "      <td>T</td>\n",
       "      <td>NaN</td>\n",
       "      <td>...</td>\n",
       "      <td>F</td>\n",
       "      <td>F</td>\n",
       "      <td>F</td>\n",
       "      <td>T</td>\n",
       "      <td>T</td>\n",
       "      <td>T</td>\n",
       "      <td>T</td>\n",
       "      <td>T</td>\n",
       "      <td>T</td>\n",
       "      <td>F</td>\n",
       "    </tr>\n",
       "    <tr>\n",
       "      <th>policy</th>\n",
       "      <td>F</td>\n",
       "      <td>F</td>\n",
       "      <td>F</td>\n",
       "      <td>F</td>\n",
       "      <td>T</td>\n",
       "      <td>F</td>\n",
       "      <td>F</td>\n",
       "      <td>T</td>\n",
       "      <td>T</td>\n",
       "      <td>F</td>\n",
       "      <td>...</td>\n",
       "      <td>T</td>\n",
       "      <td>F</td>\n",
       "      <td>T</td>\n",
       "      <td>T</td>\n",
       "      <td>F</td>\n",
       "      <td>T</td>\n",
       "      <td>F</td>\n",
       "      <td>T</td>\n",
       "      <td>F</td>\n",
       "      <td>F</td>\n",
       "    </tr>\n",
       "    <tr>\n",
       "      <th>interpretation</th>\n",
       "      <td>T</td>\n",
       "      <td>T</td>\n",
       "      <td>F</td>\n",
       "      <td>T</td>\n",
       "      <td>T</td>\n",
       "      <td>T</td>\n",
       "      <td>F</td>\n",
       "      <td>T</td>\n",
       "      <td>F</td>\n",
       "      <td>F</td>\n",
       "      <td>...</td>\n",
       "      <td>NaN</td>\n",
       "      <td>F</td>\n",
       "      <td>T</td>\n",
       "      <td>T</td>\n",
       "      <td>T</td>\n",
       "      <td>F</td>\n",
       "      <td>F</td>\n",
       "      <td>T</td>\n",
       "      <td>T</td>\n",
       "      <td>T</td>\n",
       "    </tr>\n",
       "    <tr>\n",
       "      <th>gives_reason_s</th>\n",
       "      <td>F</td>\n",
       "      <td>F</td>\n",
       "      <td>F</td>\n",
       "      <td>T</td>\n",
       "      <td>F</td>\n",
       "      <td>F</td>\n",
       "      <td>F</td>\n",
       "      <td>F</td>\n",
       "      <td>F</td>\n",
       "      <td>F</td>\n",
       "      <td>...</td>\n",
       "      <td>F</td>\n",
       "      <td>NaN</td>\n",
       "      <td>F</td>\n",
       "      <td>F</td>\n",
       "      <td>F</td>\n",
       "      <td>F</td>\n",
       "      <td>T</td>\n",
       "      <td>T</td>\n",
       "      <td>F</td>\n",
       "      <td>F</td>\n",
       "    </tr>\n",
       "    <tr>\n",
       "      <th>presents_evidence</th>\n",
       "      <td>T</td>\n",
       "      <td>T</td>\n",
       "      <td>F</td>\n",
       "      <td>T</td>\n",
       "      <td>T</td>\n",
       "      <td>T</td>\n",
       "      <td>F</td>\n",
       "      <td>F</td>\n",
       "      <td>F</td>\n",
       "      <td>F</td>\n",
       "      <td>...</td>\n",
       "      <td>T</td>\n",
       "      <td>F</td>\n",
       "      <td>NaN</td>\n",
       "      <td>T</td>\n",
       "      <td>T</td>\n",
       "      <td>T</td>\n",
       "      <td>T</td>\n",
       "      <td>T</td>\n",
       "      <td>T</td>\n",
       "      <td>T</td>\n",
       "    </tr>\n",
       "    <tr>\n",
       "      <th>asks_question_s</th>\n",
       "      <td>F</td>\n",
       "      <td>T</td>\n",
       "      <td>F</td>\n",
       "      <td>T</td>\n",
       "      <td>T</td>\n",
       "      <td>F</td>\n",
       "      <td>F</td>\n",
       "      <td>T</td>\n",
       "      <td>T</td>\n",
       "      <td>T</td>\n",
       "      <td>...</td>\n",
       "      <td>T</td>\n",
       "      <td>F</td>\n",
       "      <td>T</td>\n",
       "      <td>NaN</td>\n",
       "      <td>T</td>\n",
       "      <td>F</td>\n",
       "      <td>T</td>\n",
       "      <td>T</td>\n",
       "      <td>T</td>\n",
       "      <td>F</td>\n",
       "    </tr>\n",
       "    <tr>\n",
       "      <th>provides_information</th>\n",
       "      <td>T</td>\n",
       "      <td>T</td>\n",
       "      <td>T</td>\n",
       "      <td>T</td>\n",
       "      <td>T</td>\n",
       "      <td>T</td>\n",
       "      <td>F</td>\n",
       "      <td>F</td>\n",
       "      <td>T</td>\n",
       "      <td>T</td>\n",
       "      <td>...</td>\n",
       "      <td>T</td>\n",
       "      <td>F</td>\n",
       "      <td>T</td>\n",
       "      <td>T</td>\n",
       "      <td>NaN</td>\n",
       "      <td>T</td>\n",
       "      <td>T</td>\n",
       "      <td>T</td>\n",
       "      <td>F</td>\n",
       "      <td>T</td>\n",
       "    </tr>\n",
       "    <tr>\n",
       "      <th>clarifies_position_stance</th>\n",
       "      <td>F</td>\n",
       "      <td>T</td>\n",
       "      <td>F</td>\n",
       "      <td>F</td>\n",
       "      <td>T</td>\n",
       "      <td>T</td>\n",
       "      <td>F</td>\n",
       "      <td>T</td>\n",
       "      <td>F</td>\n",
       "      <td>T</td>\n",
       "      <td>...</td>\n",
       "      <td>F</td>\n",
       "      <td>F</td>\n",
       "      <td>T</td>\n",
       "      <td>F</td>\n",
       "      <td>T</td>\n",
       "      <td>NaN</td>\n",
       "      <td>F</td>\n",
       "      <td>T</td>\n",
       "      <td>T</td>\n",
       "      <td>T</td>\n",
       "    </tr>\n",
       "    <tr>\n",
       "      <th>responds_to_previous_comment</th>\n",
       "      <td>T</td>\n",
       "      <td>T</td>\n",
       "      <td>F</td>\n",
       "      <td>F</td>\n",
       "      <td>F</td>\n",
       "      <td>F</td>\n",
       "      <td>F</td>\n",
       "      <td>T</td>\n",
       "      <td>F</td>\n",
       "      <td>T</td>\n",
       "      <td>...</td>\n",
       "      <td>F</td>\n",
       "      <td>T</td>\n",
       "      <td>T</td>\n",
       "      <td>T</td>\n",
       "      <td>T</td>\n",
       "      <td>F</td>\n",
       "      <td>NaN</td>\n",
       "      <td>T</td>\n",
       "      <td>F</td>\n",
       "      <td>F</td>\n",
       "    </tr>\n",
       "    <tr>\n",
       "      <th>constructive_tone</th>\n",
       "      <td>F</td>\n",
       "      <td>F</td>\n",
       "      <td>T</td>\n",
       "      <td>T</td>\n",
       "      <td>F</td>\n",
       "      <td>T</td>\n",
       "      <td>T</td>\n",
       "      <td>T</td>\n",
       "      <td>T</td>\n",
       "      <td>T</td>\n",
       "      <td>...</td>\n",
       "      <td>T</td>\n",
       "      <td>T</td>\n",
       "      <td>T</td>\n",
       "      <td>T</td>\n",
       "      <td>T</td>\n",
       "      <td>T</td>\n",
       "      <td>T</td>\n",
       "      <td>NaN</td>\n",
       "      <td>T</td>\n",
       "      <td>T</td>\n",
       "    </tr>\n",
       "    <tr>\n",
       "      <th>moderator_post</th>\n",
       "      <td>T</td>\n",
       "      <td>T</td>\n",
       "      <td>F</td>\n",
       "      <td>T</td>\n",
       "      <td>T</td>\n",
       "      <td>T</td>\n",
       "      <td>F</td>\n",
       "      <td>F</td>\n",
       "      <td>T</td>\n",
       "      <td>T</td>\n",
       "      <td>...</td>\n",
       "      <td>T</td>\n",
       "      <td>F</td>\n",
       "      <td>T</td>\n",
       "      <td>T</td>\n",
       "      <td>F</td>\n",
       "      <td>T</td>\n",
       "      <td>F</td>\n",
       "      <td>T</td>\n",
       "      <td>NaN</td>\n",
       "      <td>T</td>\n",
       "    </tr>\n",
       "    <tr>\n",
       "      <th>acknowledges_problem</th>\n",
       "      <td>F</td>\n",
       "      <td>F</td>\n",
       "      <td>T</td>\n",
       "      <td>T</td>\n",
       "      <td>T</td>\n",
       "      <td>F</td>\n",
       "      <td>T</td>\n",
       "      <td>F</td>\n",
       "      <td>T</td>\n",
       "      <td>F</td>\n",
       "      <td>...</td>\n",
       "      <td>T</td>\n",
       "      <td>F</td>\n",
       "      <td>T</td>\n",
       "      <td>F</td>\n",
       "      <td>T</td>\n",
       "      <td>T</td>\n",
       "      <td>F</td>\n",
       "      <td>T</td>\n",
       "      <td>T</td>\n",
       "      <td>NaN</td>\n",
       "    </tr>\n",
       "  </tbody>\n",
       "</table>\n",
       "<p>22 rows × 21 columns</p>\n",
       "</div>"
      ],
      "text/plain": [
       "                             agreement simple_disagreement  \\\n",
       "agreement                          NaN                   F   \n",
       "disagreement                       NaN                 NaN   \n",
       "simple_disagreement                  F                 NaN   \n",
       "elaborated_disagreement              F                   F   \n",
       "topic_shift                          F                   T   \n",
       "brainstorming                        T                   F   \n",
       "blending                             F                   T   \n",
       "building                             F                   T   \n",
       "broadening                           T                   F   \n",
       "fact                                 F                   T   \n",
       "value                                F                   F   \n",
       "policy                               F                   F   \n",
       "interpretation                       T                   T   \n",
       "gives_reason_s                       F                   F   \n",
       "presents_evidence                    T                   T   \n",
       "asks_question_s                      F                   T   \n",
       "provides_information                 T                   T   \n",
       "clarifies_position_stance            F                   T   \n",
       "responds_to_previous_comment         T                   T   \n",
       "constructive_tone                    F                   F   \n",
       "moderator_post                       T                   T   \n",
       "acknowledges_problem                 F                   F   \n",
       "\n",
       "                             elaborated_disagreement topic_shift  \\\n",
       "agreement                                          F           F   \n",
       "disagreement                                     NaN         NaN   \n",
       "simple_disagreement                                F           T   \n",
       "elaborated_disagreement                          NaN           T   \n",
       "topic_shift                                        T         NaN   \n",
       "brainstorming                                      F           F   \n",
       "blending                                           T           T   \n",
       "building                                           F           F   \n",
       "broadening                                         T           F   \n",
       "fact                                               F           T   \n",
       "value                                              F           T   \n",
       "policy                                             F           F   \n",
       "interpretation                                     F           T   \n",
       "gives_reason_s                                     F           T   \n",
       "presents_evidence                                  F           T   \n",
       "asks_question_s                                    F           T   \n",
       "provides_information                               T           T   \n",
       "clarifies_position_stance                          F           F   \n",
       "responds_to_previous_comment                       F           F   \n",
       "constructive_tone                                  T           T   \n",
       "moderator_post                                     F           T   \n",
       "acknowledges_problem                               T           T   \n",
       "\n",
       "                             brainstorming blending building broadening fact  \\\n",
       "agreement                                T        F        F          T    F   \n",
       "disagreement                           NaN      NaN      NaN        NaN  NaN   \n",
       "simple_disagreement                      F        T        T          F    T   \n",
       "elaborated_disagreement                  F        T        F          T    F   \n",
       "topic_shift                              F        T        F          F    T   \n",
       "brainstorming                          NaN        F        T          F    T   \n",
       "blending                                 F      NaN        T          T    T   \n",
       "building                                 T        T      NaN          T    F   \n",
       "broadening                               F        T        T        NaN    T   \n",
       "fact                                     T        T        F          T  NaN   \n",
       "value                                    T        F        T          F    T   \n",
       "policy                                   T        F        F          T    T   \n",
       "interpretation                           T        T        F          T    F   \n",
       "gives_reason_s                           F        F        F          F    F   \n",
       "presents_evidence                        T        T        F          F    F   \n",
       "asks_question_s                          T        F        F          T    T   \n",
       "provides_information                     T        T        F          F    T   \n",
       "clarifies_position_stance                T        T        F          T    F   \n",
       "responds_to_previous_comment             F        F        F          T    F   \n",
       "constructive_tone                        F        T        T          T    T   \n",
       "moderator_post                           T        T        F          F    T   \n",
       "acknowledges_problem                     T        F        T          F    T   \n",
       "\n",
       "                             value  ... interpretation gives_reason_s  \\\n",
       "agreement                        F  ...              T              F   \n",
       "disagreement                   NaN  ...            NaN            NaN   \n",
       "simple_disagreement              F  ...              T              F   \n",
       "elaborated_disagreement          F  ...              F              F   \n",
       "topic_shift                      T  ...              T              T   \n",
       "brainstorming                    T  ...              T              F   \n",
       "blending                         F  ...              T              F   \n",
       "building                         T  ...              F              F   \n",
       "broadening                       F  ...              T              F   \n",
       "fact                             T  ...              F              F   \n",
       "value                          NaN  ...              F              F   \n",
       "policy                           F  ...              T              F   \n",
       "interpretation                   F  ...            NaN              F   \n",
       "gives_reason_s                   F  ...              F            NaN   \n",
       "presents_evidence                F  ...              T              F   \n",
       "asks_question_s                  T  ...              T              F   \n",
       "provides_information             T  ...              T              F   \n",
       "clarifies_position_stance        T  ...              F              F   \n",
       "responds_to_previous_comment     T  ...              F              T   \n",
       "constructive_tone                T  ...              T              T   \n",
       "moderator_post                   T  ...              T              F   \n",
       "acknowledges_problem             F  ...              T              F   \n",
       "\n",
       "                             presents_evidence asks_question_s  \\\n",
       "agreement                                    T               F   \n",
       "disagreement                               NaN             NaN   \n",
       "simple_disagreement                          T               T   \n",
       "elaborated_disagreement                      F               F   \n",
       "topic_shift                                  T               T   \n",
       "brainstorming                                T               T   \n",
       "blending                                     T               F   \n",
       "building                                     F               F   \n",
       "broadening                                   F               T   \n",
       "fact                                         F               T   \n",
       "value                                        F               T   \n",
       "policy                                       T               T   \n",
       "interpretation                               T               T   \n",
       "gives_reason_s                               F               F   \n",
       "presents_evidence                          NaN               T   \n",
       "asks_question_s                              T             NaN   \n",
       "provides_information                         T               T   \n",
       "clarifies_position_stance                    T               F   \n",
       "responds_to_previous_comment                 T               T   \n",
       "constructive_tone                            T               T   \n",
       "moderator_post                               T               T   \n",
       "acknowledges_problem                         T               F   \n",
       "\n",
       "                             provides_information clarifies_position_stance  \\\n",
       "agreement                                       T                         F   \n",
       "disagreement                                  NaN                       NaN   \n",
       "simple_disagreement                             T                         T   \n",
       "elaborated_disagreement                         T                         F   \n",
       "topic_shift                                     T                         F   \n",
       "brainstorming                                   T                         T   \n",
       "blending                                        T                         T   \n",
       "building                                        F                         F   \n",
       "broadening                                      F                         T   \n",
       "fact                                            T                         F   \n",
       "value                                           T                         T   \n",
       "policy                                          F                         T   \n",
       "interpretation                                  T                         F   \n",
       "gives_reason_s                                  F                         F   \n",
       "presents_evidence                               T                         T   \n",
       "asks_question_s                                 T                         F   \n",
       "provides_information                          NaN                         T   \n",
       "clarifies_position_stance                       T                       NaN   \n",
       "responds_to_previous_comment                    T                         F   \n",
       "constructive_tone                               T                         T   \n",
       "moderator_post                                  F                         T   \n",
       "acknowledges_problem                            T                         T   \n",
       "\n",
       "                             responds_to_previous_comment constructive_tone  \\\n",
       "agreement                                               T                 F   \n",
       "disagreement                                          NaN               NaN   \n",
       "simple_disagreement                                     T                 F   \n",
       "elaborated_disagreement                                 F                 T   \n",
       "topic_shift                                             F                 T   \n",
       "brainstorming                                           F                 F   \n",
       "blending                                                F                 T   \n",
       "building                                                F                 T   \n",
       "broadening                                              T                 T   \n",
       "fact                                                    F                 T   \n",
       "value                                                   T                 T   \n",
       "policy                                                  F                 T   \n",
       "interpretation                                          F                 T   \n",
       "gives_reason_s                                          T                 T   \n",
       "presents_evidence                                       T                 T   \n",
       "asks_question_s                                         T                 T   \n",
       "provides_information                                    T                 T   \n",
       "clarifies_position_stance                               F                 T   \n",
       "responds_to_previous_comment                          NaN                 T   \n",
       "constructive_tone                                       T               NaN   \n",
       "moderator_post                                          F                 T   \n",
       "acknowledges_problem                                    F                 T   \n",
       "\n",
       "                             moderator_post acknowledges_problem  \n",
       "agreement                                 T                    F  \n",
       "disagreement                            NaN                  NaN  \n",
       "simple_disagreement                       T                    F  \n",
       "elaborated_disagreement                   F                    T  \n",
       "topic_shift                               T                    T  \n",
       "brainstorming                             T                    T  \n",
       "blending                                  T                    F  \n",
       "building                                  F                    T  \n",
       "broadening                                F                    F  \n",
       "fact                                      T                    T  \n",
       "value                                     T                    F  \n",
       "policy                                    F                    F  \n",
       "interpretation                            T                    T  \n",
       "gives_reason_s                            F                    F  \n",
       "presents_evidence                         T                    T  \n",
       "asks_question_s                           T                    F  \n",
       "provides_information                      F                    T  \n",
       "clarifies_position_stance                 T                    T  \n",
       "responds_to_previous_comment              F                    F  \n",
       "constructive_tone                         T                    T  \n",
       "moderator_post                          NaN                    T  \n",
       "acknowledges_problem                      T                  NaN  \n",
       "\n",
       "[22 rows x 21 columns]"
      ]
     },
     "execution_count": 33,
     "metadata": {},
     "output_type": "execute_result"
    }
   ],
   "source": [
    "aux = numerical_predictors.copy()\n",
    "aux.remove('number_of_ideas')\n",
    "independece_analysis.drop(columns=numerical_predictors, index=aux, inplace=True)\n",
    "independece_analysis"
   ]
  },
  {
   "cell_type": "markdown",
   "metadata": {},
   "source": [
    "### 6. Fit models based on independent predictors"
   ]
  },
  {
   "cell_type": "markdown",
   "metadata": {},
   "source": [
    "Based on the previous analysis of independencie between categorical variables, predictors will be selected."
   ]
  },
  {
   "cell_type": "code",
   "execution_count": 34,
   "metadata": {},
   "outputs": [],
   "source": [
    "possible_models = [None]*len(independece_analysis.columns)\n",
    "idx = 0\n",
    "for col in independece_analysis.columns:\n",
    "    possible_models[idx] = [col]\n",
    "    for row in independece_analysis.index:\n",
    "        if independece_analysis.loc[row, col] == 'T':\n",
    "            possible_models[idx].append(row)\n",
    "    # Add the numerical variable\n",
    "    possible_models[idx].append('number_of_likes')\n",
    "    idx += 1"
   ]
  },
  {
   "cell_type": "code",
   "execution_count": 35,
   "metadata": {},
   "outputs": [
    {
     "name": "stdout",
     "output_type": "stream",
     "text": [
      "There are 21 possible models\n"
     ]
    }
   ],
   "source": [
    "print(f'There are {len(possible_models)} possible models')"
   ]
  },
  {
   "cell_type": "markdown",
   "metadata": {},
   "source": [
    "Create formulas for the possible models"
   ]
  },
  {
   "cell_type": "code",
   "execution_count": 36,
   "metadata": {},
   "outputs": [],
   "source": [
    "models = []\n",
    "for possible_model in possible_models:\n",
    "    formula = f'number_of_ideas ~ '\n",
    "    num_predictors = len(possible_model)\n",
    "    for idx, predictor in enumerate(possible_model):\n",
    "        if predictor not in numerical_predictors:\n",
    "            formula += f' C({predictor})'\n",
    "        else:\n",
    "            formula += f' {predictor}'\n",
    "        if idx < (len(possible_model)-1):\n",
    "            formula += ' + '\n",
    "    models.append({'formula': formula, 'num_predictors': num_predictors, 'predictors': possible_model})"
   ]
  },
  {
   "cell_type": "markdown",
   "metadata": {},
   "source": [
    "#### Fit models"
   ]
  },
  {
   "cell_type": "code",
   "execution_count": 37,
   "metadata": {},
   "outputs": [],
   "source": [
    "idx_not_fitted_models = []\n",
    "for idx, model_dict in enumerate(models):\n",
    "    try:\n",
    "        formula = model_dict['formula']\n",
    "        model = ols(formula, data = rq2_df).fit()\n",
    "        model_dict['model'] = model\n",
    "        model_dict['r_squared'] = model.rsquared\n",
    "    except Exception as e:\n",
    "        idx_not_fitted_models.append(idx)\n",
    "        print(f'Error: {e}.\\n\\nModel:\\n{formula}')\n",
    "        print()"
   ]
  },
  {
   "cell_type": "code",
   "execution_count": 38,
   "metadata": {},
   "outputs": [
    {
     "name": "stdout",
     "output_type": "stream",
     "text": [
      "- Formula: number_of_ideas ~  C(agreement) +  C(brainstorming) +  C(broadening) +  C(interpretation) +  C(presents_evidence) +  C(provides_information) +  C(responds_to_previous_comment) +  C(moderator_post) +  number_of_likes\n",
      "- R^2: 0.24813706048809991\n",
      "Predictor: C(agreement)[T.1] influence statistically significant\n",
      "\n",
      "- Formula: number_of_ideas ~  C(simple_disagreement) +  C(topic_shift) +  C(blending) +  C(building) +  C(fact) +  C(interpretation) +  C(presents_evidence) +  C(asks_question_s) +  C(provides_information) +  C(clarifies_position_stance) +  C(responds_to_previous_comment) +  C(moderator_post) +  number_of_likes\n",
      "- R^2: 0.22020384498592227\n",
      "Predictor: C(simple_disagreement)[T.1] influence statistically significant\n",
      "\n",
      "- Formula: number_of_ideas ~  C(elaborated_disagreement) +  C(topic_shift) +  C(blending) +  C(broadening) +  C(provides_information) +  C(constructive_tone) +  C(acknowledges_problem) +  number_of_likes\n",
      "- R^2: 0.22898368510401446\n",
      "Predictor: C(elaborated_disagreement)[T.1] influence statistically significant\n",
      "\n",
      "- Formula: number_of_ideas ~  C(topic_shift) +  C(simple_disagreement) +  C(elaborated_disagreement) +  C(blending) +  C(fact) +  C(value) +  C(interpretation) +  C(gives_reason_s) +  C(presents_evidence) +  C(asks_question_s) +  C(provides_information) +  C(constructive_tone) +  C(moderator_post) +  C(acknowledges_problem) +  number_of_likes\n",
      "- R^2: 0.32331632941234845\n",
      "\n",
      "- Formula: number_of_ideas ~  C(brainstorming) +  C(agreement) +  C(building) +  C(fact) +  C(value) +  C(policy) +  C(interpretation) +  C(presents_evidence) +  C(asks_question_s) +  C(provides_information) +  C(clarifies_position_stance) +  C(moderator_post) +  C(acknowledges_problem) +  number_of_likes\n",
      "- R^2: 0.3269128267391638\n",
      "\n",
      "- Formula: number_of_ideas ~  C(blending) +  C(simple_disagreement) +  C(elaborated_disagreement) +  C(topic_shift) +  C(building) +  C(broadening) +  C(fact) +  C(interpretation) +  C(presents_evidence) +  C(provides_information) +  C(clarifies_position_stance) +  C(constructive_tone) +  C(moderator_post) +  number_of_likes\n",
      "- R^2: 0.2473767201185031\n",
      "Predictor: C(simple_disagreement)[T.1] influence statistically significant\n",
      "\n",
      "- Formula: number_of_ideas ~  C(building) +  C(simple_disagreement) +  C(brainstorming) +  C(blending) +  C(broadening) +  C(value) +  C(constructive_tone) +  C(acknowledges_problem) +  number_of_likes\n",
      "- R^2: 0.3146224561143721\n",
      "Predictor: C(simple_disagreement)[T.1] influence statistically significant\n",
      "\n",
      "- Formula: number_of_ideas ~  C(broadening) +  C(agreement) +  C(elaborated_disagreement) +  C(blending) +  C(building) +  C(fact) +  C(policy) +  C(interpretation) +  C(asks_question_s) +  C(clarifies_position_stance) +  C(responds_to_previous_comment) +  C(constructive_tone) +  number_of_likes\n",
      "- R^2: 0.24239877977106117\n",
      "Predictor: C(agreement)[T.1] influence statistically significant\n",
      "Predictor: C(elaborated_disagreement)[T.1] influence statistically significant\n",
      "\n",
      "- Formula: number_of_ideas ~  C(fact) +  C(simple_disagreement) +  C(topic_shift) +  C(brainstorming) +  C(blending) +  C(broadening) +  C(value) +  C(policy) +  C(asks_question_s) +  C(provides_information) +  C(constructive_tone) +  C(moderator_post) +  C(acknowledges_problem) +  number_of_likes\n",
      "- R^2: 0.31490641457078883\n",
      "Predictor: C(simple_disagreement)[T.1] influence statistically significant\n",
      "\n",
      "- Formula: number_of_ideas ~  C(interpretation) +  C(agreement) +  C(simple_disagreement) +  C(topic_shift) +  C(brainstorming) +  C(blending) +  C(broadening) +  C(policy) +  C(presents_evidence) +  C(asks_question_s) +  C(provides_information) +  C(constructive_tone) +  C(moderator_post) +  C(acknowledges_problem) +  number_of_likes\n",
      "- R^2: 0.3326582227784872\n",
      "Predictor: C(simple_disagreement)[T.1] influence statistically significant\n",
      "\n",
      "- Formula: number_of_ideas ~  C(presents_evidence) +  C(agreement) +  C(simple_disagreement) +  C(topic_shift) +  C(brainstorming) +  C(blending) +  C(policy) +  C(interpretation) +  C(asks_question_s) +  C(provides_information) +  C(clarifies_position_stance) +  C(responds_to_previous_comment) +  C(constructive_tone) +  C(moderator_post) +  C(acknowledges_problem) +  number_of_likes\n",
      "- R^2: 0.32888959094410564\n",
      "Predictor: C(simple_disagreement)[T.1] influence statistically significant\n",
      "\n",
      "- Formula: number_of_ideas ~  C(asks_question_s) +  C(simple_disagreement) +  C(topic_shift) +  C(brainstorming) +  C(broadening) +  C(fact) +  C(value) +  C(policy) +  C(interpretation) +  C(presents_evidence) +  C(provides_information) +  C(responds_to_previous_comment) +  C(constructive_tone) +  C(moderator_post) +  number_of_likes\n",
      "- R^2: 0.2979321970365383\n",
      "Predictor: C(simple_disagreement)[T.1] influence statistically significant\n",
      "\n",
      "- Formula: number_of_ideas ~  C(provides_information) +  C(agreement) +  C(simple_disagreement) +  C(elaborated_disagreement) +  C(topic_shift) +  C(brainstorming) +  C(blending) +  C(fact) +  C(value) +  C(interpretation) +  C(presents_evidence) +  C(asks_question_s) +  C(clarifies_position_stance) +  C(responds_to_previous_comment) +  C(constructive_tone) +  C(acknowledges_problem) +  number_of_likes\n",
      "- R^2: 0.3340359793552007\n",
      "Predictor: C(elaborated_disagreement)[T.1] influence statistically significant\n",
      "\n",
      "- Formula: number_of_ideas ~  C(clarifies_position_stance) +  C(simple_disagreement) +  C(brainstorming) +  C(blending) +  C(broadening) +  C(value) +  C(policy) +  C(presents_evidence) +  C(provides_information) +  C(constructive_tone) +  C(moderator_post) +  C(acknowledges_problem) +  number_of_likes\n",
      "- R^2: 0.3152716778115735\n",
      "\n",
      "- Formula: number_of_ideas ~  C(responds_to_previous_comment) +  C(agreement) +  C(simple_disagreement) +  C(broadening) +  C(value) +  C(gives_reason_s) +  C(presents_evidence) +  C(asks_question_s) +  C(provides_information) +  C(constructive_tone) +  number_of_likes\n",
      "- R^2: 0.26456578535437225\n",
      "\n",
      "- Formula: number_of_ideas ~  C(constructive_tone) +  C(elaborated_disagreement) +  C(topic_shift) +  C(blending) +  C(building) +  C(broadening) +  C(fact) +  C(value) +  C(policy) +  C(interpretation) +  C(gives_reason_s) +  C(presents_evidence) +  C(asks_question_s) +  C(provides_information) +  C(clarifies_position_stance) +  C(responds_to_previous_comment) +  C(moderator_post) +  C(acknowledges_problem) +  number_of_likes\n",
      "- R^2: 0.3497568006722651\n",
      "\n",
      "- Formula: number_of_ideas ~  C(moderator_post) +  C(agreement) +  C(simple_disagreement) +  C(topic_shift) +  C(brainstorming) +  C(blending) +  C(fact) +  C(value) +  C(interpretation) +  C(presents_evidence) +  C(asks_question_s) +  C(clarifies_position_stance) +  C(constructive_tone) +  C(acknowledges_problem) +  number_of_likes\n",
      "- R^2: 0.33851391947252907\n",
      "\n",
      "- Formula: number_of_ideas ~  C(acknowledges_problem) +  C(elaborated_disagreement) +  C(topic_shift) +  C(brainstorming) +  C(building) +  C(fact) +  C(interpretation) +  C(presents_evidence) +  C(provides_information) +  C(clarifies_position_stance) +  C(constructive_tone) +  C(moderator_post) +  number_of_likes\n",
      "- R^2: 0.3121366756003895\n",
      "\n"
     ]
    }
   ],
   "source": [
    "for model in models:\n",
    "    if 'agreement' in model['predictors'] or 'disagreement' in model['predictors'] or \\\n",
    "       'simple_disagreement' in model['predictors'] or 'elaborated_disagreement' in model['predictors']:\n",
    "        print(f\"- Formula: {model['formula']}\\n- R^2: {model['r_squared']}\")        \n",
    "        model_predictors = model['model'].pvalues.index\n",
    "        for idx, p_value in enumerate(model['model'].pvalues):\n",
    "            if p_value < alpha_level:\n",
    "                if 'agreement' in model_predictors[idx] or 'disagreement' in model_predictors[idx] or \\\n",
    "                   'simple_disagreement' in model_predictors[idx] or \\\n",
    "                   'elaborated_disagreement' in model_predictors[idx]:\n",
    "                    print(f\"Predictor: {model_predictors[idx]} influence statistically significant\")\n",
    "        print()"
   ]
  },
  {
   "cell_type": "markdown",
   "metadata": {},
   "source": [
    "### 7. Select the best model"
   ]
  },
  {
   "cell_type": "markdown",
   "metadata": {},
   "source": [
    "Selection is based on the goodness of fit. `R^2` is used to evaluate models fit. The higher the R^2 the better the model fits the data. "
   ]
  },
  {
   "cell_type": "code",
   "execution_count": 39,
   "metadata": {},
   "outputs": [],
   "source": [
    "max_r2 = -100\n",
    "best_models = []\n",
    "for model in models:\n",
    "    if 'r_squared' in model and model['r_squared'] > max_r2:\n",
    "        max_r2 = model['r_squared']\n",
    "        best_models = [model]\n",
    "    elif 'r_squared' in model and model['r_squared'] == max_r2:\n",
    "        best_models.append(model)"
   ]
  },
  {
   "cell_type": "code",
   "execution_count": 40,
   "metadata": {},
   "outputs": [
    {
     "name": "stdout",
     "output_type": "stream",
     "text": [
      "There are 1 best model(s)\n"
     ]
    }
   ],
   "source": [
    "print(f\"There are {len(best_models)} best model(s)\")"
   ]
  },
  {
   "cell_type": "markdown",
   "metadata": {},
   "source": [
    "**Best model**"
   ]
  },
  {
   "cell_type": "code",
   "execution_count": 41,
   "metadata": {},
   "outputs": [
    {
     "data": {
      "text/html": [
       "<table class=\"simpletable\">\n",
       "<caption>OLS Regression Results</caption>\n",
       "<tr>\n",
       "  <th>Dep. Variable:</th>     <td>number_of_ideas</td> <th>  R-squared:         </th> <td>   0.350</td>\n",
       "</tr>\n",
       "<tr>\n",
       "  <th>Model:</th>                   <td>OLS</td>       <th>  Adj. R-squared:    </th> <td>   0.323</td>\n",
       "</tr>\n",
       "<tr>\n",
       "  <th>Method:</th>             <td>Least Squares</td>  <th>  F-statistic:       </th> <td>   13.25</td>\n",
       "</tr>\n",
       "<tr>\n",
       "  <th>Date:</th>             <td>Thu, 01 Oct 2020</td> <th>  Prob (F-statistic):</th> <td>3.53e-33</td>\n",
       "</tr>\n",
       "<tr>\n",
       "  <th>Time:</th>                 <td>14:44:06</td>     <th>  Log-Likelihood:    </th> <td> -594.22</td>\n",
       "</tr>\n",
       "<tr>\n",
       "  <th>No. Observations:</th>      <td>   488</td>      <th>  AIC:               </th> <td>   1228.</td>\n",
       "</tr>\n",
       "<tr>\n",
       "  <th>Df Residuals:</th>          <td>   468</td>      <th>  BIC:               </th> <td>   1312.</td>\n",
       "</tr>\n",
       "<tr>\n",
       "  <th>Df Model:</th>              <td>    19</td>      <th>                     </th>     <td> </td>   \n",
       "</tr>\n",
       "<tr>\n",
       "  <th>Covariance Type:</th>      <td>nonrobust</td>    <th>                     </th>     <td> </td>   \n",
       "</tr>\n",
       "</table>\n",
       "<table class=\"simpletable\">\n",
       "<tr>\n",
       "                    <td></td>                      <th>coef</th>     <th>std err</th>      <th>t</th>      <th>P>|t|</th>  <th>[0.025</th>    <th>0.975]</th>  \n",
       "</tr>\n",
       "<tr>\n",
       "  <th>Intercept</th>                            <td>    0.5755</td> <td>    0.248</td> <td>    2.317</td> <td> 0.021</td> <td>    0.087</td> <td>    1.064</td>\n",
       "</tr>\n",
       "<tr>\n",
       "  <th>C(constructive_tone)[T.1]</th>            <td>    0.0390</td> <td>    0.226</td> <td>    0.173</td> <td> 0.863</td> <td>   -0.405</td> <td>    0.483</td>\n",
       "</tr>\n",
       "<tr>\n",
       "  <th>C(elaborated_disagreement)[T.1]</th>      <td>    0.0838</td> <td>    0.123</td> <td>    0.679</td> <td> 0.497</td> <td>   -0.159</td> <td>    0.326</td>\n",
       "</tr>\n",
       "<tr>\n",
       "  <th>C(topic_shift)[T.1]</th>                  <td>    0.1880</td> <td>    0.103</td> <td>    1.826</td> <td> 0.068</td> <td>   -0.014</td> <td>    0.390</td>\n",
       "</tr>\n",
       "<tr>\n",
       "  <th>C(blending)[T.1]</th>                     <td>    0.4129</td> <td>    0.091</td> <td>    4.535</td> <td> 0.000</td> <td>    0.234</td> <td>    0.592</td>\n",
       "</tr>\n",
       "<tr>\n",
       "  <th>C(building)[T.1]</th>                     <td>    0.1320</td> <td>    0.124</td> <td>    1.062</td> <td> 0.289</td> <td>   -0.112</td> <td>    0.376</td>\n",
       "</tr>\n",
       "<tr>\n",
       "  <th>C(broadening)[T.1]</th>                   <td>    0.3414</td> <td>    0.111</td> <td>    3.085</td> <td> 0.002</td> <td>    0.124</td> <td>    0.559</td>\n",
       "</tr>\n",
       "<tr>\n",
       "  <th>C(fact)[T.1]</th>                         <td>   -0.1136</td> <td>    0.119</td> <td>   -0.951</td> <td> 0.342</td> <td>   -0.348</td> <td>    0.121</td>\n",
       "</tr>\n",
       "<tr>\n",
       "  <th>C(value)[T.1]</th>                        <td>    0.2957</td> <td>    0.109</td> <td>    2.708</td> <td> 0.007</td> <td>    0.081</td> <td>    0.510</td>\n",
       "</tr>\n",
       "<tr>\n",
       "  <th>C(policy)[T.1]</th>                       <td>   -0.0198</td> <td>    0.106</td> <td>   -0.187</td> <td> 0.851</td> <td>   -0.227</td> <td>    0.188</td>\n",
       "</tr>\n",
       "<tr>\n",
       "  <th>C(interpretation)[T.1]</th>               <td>    0.1600</td> <td>    0.092</td> <td>    1.743</td> <td> 0.082</td> <td>   -0.020</td> <td>    0.340</td>\n",
       "</tr>\n",
       "<tr>\n",
       "  <th>C(gives_reason_s)[T.1]</th>               <td>    0.6534</td> <td>    0.109</td> <td>    5.993</td> <td> 0.000</td> <td>    0.439</td> <td>    0.868</td>\n",
       "</tr>\n",
       "<tr>\n",
       "  <th>C(presents_evidence)[T.1]</th>            <td>   -0.0424</td> <td>    0.153</td> <td>   -0.277</td> <td> 0.782</td> <td>   -0.343</td> <td>    0.259</td>\n",
       "</tr>\n",
       "<tr>\n",
       "  <th>C(asks_question_s)[T.1]</th>              <td>    0.4758</td> <td>    0.107</td> <td>    4.448</td> <td> 0.000</td> <td>    0.266</td> <td>    0.686</td>\n",
       "</tr>\n",
       "<tr>\n",
       "  <th>C(provides_information)[T.1]</th>         <td>    0.1490</td> <td>    0.191</td> <td>    0.780</td> <td> 0.436</td> <td>   -0.226</td> <td>    0.524</td>\n",
       "</tr>\n",
       "<tr>\n",
       "  <th>C(clarifies_position_stance)[T.1]</th>    <td>    0.3021</td> <td>    0.127</td> <td>    2.374</td> <td> 0.018</td> <td>    0.052</td> <td>    0.552</td>\n",
       "</tr>\n",
       "<tr>\n",
       "  <th>C(responds_to_previous_comment)[T.1]</th> <td>   -0.2220</td> <td>    0.112</td> <td>   -1.980</td> <td> 0.048</td> <td>   -0.442</td> <td>   -0.002</td>\n",
       "</tr>\n",
       "<tr>\n",
       "  <th>C(moderator_post)[T.1]</th>               <td>   -0.2768</td> <td>    0.097</td> <td>   -2.839</td> <td> 0.005</td> <td>   -0.468</td> <td>   -0.085</td>\n",
       "</tr>\n",
       "<tr>\n",
       "  <th>C(acknowledges_problem)[T.1]</th>         <td>    0.2075</td> <td>    0.090</td> <td>    2.311</td> <td> 0.021</td> <td>    0.031</td> <td>    0.384</td>\n",
       "</tr>\n",
       "<tr>\n",
       "  <th>number_of_likes</th>                      <td>    0.0277</td> <td>    0.023</td> <td>    1.203</td> <td> 0.230</td> <td>   -0.018</td> <td>    0.073</td>\n",
       "</tr>\n",
       "</table>\n",
       "<table class=\"simpletable\">\n",
       "<tr>\n",
       "  <th>Omnibus:</th>       <td>183.027</td> <th>  Durbin-Watson:     </th> <td>   1.859</td> \n",
       "</tr>\n",
       "<tr>\n",
       "  <th>Prob(Omnibus):</th> <td> 0.000</td>  <th>  Jarque-Bera (JB):  </th> <td>1052.631</td> \n",
       "</tr>\n",
       "<tr>\n",
       "  <th>Skew:</th>          <td> 1.525</td>  <th>  Prob(JB):          </th> <td>2.66e-229</td>\n",
       "</tr>\n",
       "<tr>\n",
       "  <th>Kurtosis:</th>      <td> 9.517</td>  <th>  Cond. No.          </th> <td>    22.6</td> \n",
       "</tr>\n",
       "</table><br/><br/>Warnings:<br/>[1] Standard Errors assume that the covariance matrix of the errors is correctly specified."
      ],
      "text/plain": [
       "<class 'statsmodels.iolib.summary.Summary'>\n",
       "\"\"\"\n",
       "                            OLS Regression Results                            \n",
       "==============================================================================\n",
       "Dep. Variable:        number_of_ideas   R-squared:                       0.350\n",
       "Model:                            OLS   Adj. R-squared:                  0.323\n",
       "Method:                 Least Squares   F-statistic:                     13.25\n",
       "Date:                Thu, 01 Oct 2020   Prob (F-statistic):           3.53e-33\n",
       "Time:                        14:44:06   Log-Likelihood:                -594.22\n",
       "No. Observations:                 488   AIC:                             1228.\n",
       "Df Residuals:                     468   BIC:                             1312.\n",
       "Df Model:                          19                                         \n",
       "Covariance Type:            nonrobust                                         \n",
       "========================================================================================================\n",
       "                                           coef    std err          t      P>|t|      [0.025      0.975]\n",
       "--------------------------------------------------------------------------------------------------------\n",
       "Intercept                                0.5755      0.248      2.317      0.021       0.087       1.064\n",
       "C(constructive_tone)[T.1]                0.0390      0.226      0.173      0.863      -0.405       0.483\n",
       "C(elaborated_disagreement)[T.1]          0.0838      0.123      0.679      0.497      -0.159       0.326\n",
       "C(topic_shift)[T.1]                      0.1880      0.103      1.826      0.068      -0.014       0.390\n",
       "C(blending)[T.1]                         0.4129      0.091      4.535      0.000       0.234       0.592\n",
       "C(building)[T.1]                         0.1320      0.124      1.062      0.289      -0.112       0.376\n",
       "C(broadening)[T.1]                       0.3414      0.111      3.085      0.002       0.124       0.559\n",
       "C(fact)[T.1]                            -0.1136      0.119     -0.951      0.342      -0.348       0.121\n",
       "C(value)[T.1]                            0.2957      0.109      2.708      0.007       0.081       0.510\n",
       "C(policy)[T.1]                          -0.0198      0.106     -0.187      0.851      -0.227       0.188\n",
       "C(interpretation)[T.1]                   0.1600      0.092      1.743      0.082      -0.020       0.340\n",
       "C(gives_reason_s)[T.1]                   0.6534      0.109      5.993      0.000       0.439       0.868\n",
       "C(presents_evidence)[T.1]               -0.0424      0.153     -0.277      0.782      -0.343       0.259\n",
       "C(asks_question_s)[T.1]                  0.4758      0.107      4.448      0.000       0.266       0.686\n",
       "C(provides_information)[T.1]             0.1490      0.191      0.780      0.436      -0.226       0.524\n",
       "C(clarifies_position_stance)[T.1]        0.3021      0.127      2.374      0.018       0.052       0.552\n",
       "C(responds_to_previous_comment)[T.1]    -0.2220      0.112     -1.980      0.048      -0.442      -0.002\n",
       "C(moderator_post)[T.1]                  -0.2768      0.097     -2.839      0.005      -0.468      -0.085\n",
       "C(acknowledges_problem)[T.1]             0.2075      0.090      2.311      0.021       0.031       0.384\n",
       "number_of_likes                          0.0277      0.023      1.203      0.230      -0.018       0.073\n",
       "==============================================================================\n",
       "Omnibus:                      183.027   Durbin-Watson:                   1.859\n",
       "Prob(Omnibus):                  0.000   Jarque-Bera (JB):             1052.631\n",
       "Skew:                           1.525   Prob(JB):                    2.66e-229\n",
       "Kurtosis:                       9.517   Cond. No.                         22.6\n",
       "==============================================================================\n",
       "\n",
       "Warnings:\n",
       "[1] Standard Errors assume that the covariance matrix of the errors is correctly specified.\n",
       "\"\"\""
      ]
     },
     "execution_count": 41,
     "metadata": {},
     "output_type": "execute_result"
    }
   ],
   "source": [
    "best_models[0]['model'].summary()"
   ]
  },
  {
   "cell_type": "markdown",
   "metadata": {},
   "source": [
    "### 8. Fit a model with only the statistically significant predictors"
   ]
  },
  {
   "cell_type": "markdown",
   "metadata": {},
   "source": [
    "Get the name of the predictors that have a statistically significant influence on disagreement."
   ]
  },
  {
   "cell_type": "code",
   "execution_count": 42,
   "metadata": {},
   "outputs": [],
   "source": [
    "ss_predictors = []\n",
    "model_predictors = best_models[0]['model'].pvalues.index\n",
    "for idx, p_value in enumerate(best_models[0]['model'].pvalues):\n",
    "    if model_predictors[idx] == 'Intercept':\n",
    "        continue\n",
    "    if p_value < alpha_level:\n",
    "        if 'C(' in model_predictors[idx]:\n",
    "            predictor_name = model_predictors[idx].split('[T')[0]\n",
    "        else:\n",
    "            predictor_name = model_predictors[idx]\n",
    "        ss_predictors.append(predictor_name)"
   ]
  },
  {
   "cell_type": "code",
   "execution_count": 43,
   "metadata": {},
   "outputs": [],
   "source": [
    "formula = 'number_of_ideas ~ '\n",
    "formula += ' + '.join(ss_predictors)\n",
    "best_model = ols(formula, data = rq2_df).fit()"
   ]
  },
  {
   "cell_type": "code",
   "execution_count": 44,
   "metadata": {},
   "outputs": [
    {
     "data": {
      "text/html": [
       "<table class=\"simpletable\">\n",
       "<caption>OLS Regression Results</caption>\n",
       "<tr>\n",
       "  <th>Dep. Variable:</th>     <td>number_of_ideas</td> <th>  R-squared:         </th> <td>   0.329</td>\n",
       "</tr>\n",
       "<tr>\n",
       "  <th>Model:</th>                   <td>OLS</td>       <th>  Adj. R-squared:    </th> <td>   0.316</td>\n",
       "</tr>\n",
       "<tr>\n",
       "  <th>Method:</th>             <td>Least Squares</td>  <th>  F-statistic:       </th> <td>   26.05</td>\n",
       "</tr>\n",
       "<tr>\n",
       "  <th>Date:</th>             <td>Thu, 01 Oct 2020</td> <th>  Prob (F-statistic):</th> <td>1.50e-36</td>\n",
       "</tr>\n",
       "<tr>\n",
       "  <th>Time:</th>                 <td>14:44:18</td>     <th>  Log-Likelihood:    </th> <td> -601.88</td>\n",
       "</tr>\n",
       "<tr>\n",
       "  <th>No. Observations:</th>      <td>   488</td>      <th>  AIC:               </th> <td>   1224.</td>\n",
       "</tr>\n",
       "<tr>\n",
       "  <th>Df Residuals:</th>          <td>   478</td>      <th>  BIC:               </th> <td>   1266.</td>\n",
       "</tr>\n",
       "<tr>\n",
       "  <th>Df Model:</th>              <td>     9</td>      <th>                     </th>     <td> </td>   \n",
       "</tr>\n",
       "<tr>\n",
       "  <th>Covariance Type:</th>      <td>nonrobust</td>    <th>                     </th>     <td> </td>   \n",
       "</tr>\n",
       "</table>\n",
       "<table class=\"simpletable\">\n",
       "<tr>\n",
       "                    <td></td>                      <th>coef</th>     <th>std err</th>      <th>t</th>      <th>P>|t|</th>  <th>[0.025</th>    <th>0.975]</th>  \n",
       "</tr>\n",
       "<tr>\n",
       "  <th>Intercept</th>                            <td>    0.7775</td> <td>    0.111</td> <td>    7.009</td> <td> 0.000</td> <td>    0.560</td> <td>    0.996</td>\n",
       "</tr>\n",
       "<tr>\n",
       "  <th>C(blending)[T.1]</th>                     <td>    0.4138</td> <td>    0.090</td> <td>    4.592</td> <td> 0.000</td> <td>    0.237</td> <td>    0.591</td>\n",
       "</tr>\n",
       "<tr>\n",
       "  <th>C(broadening)[T.1]</th>                   <td>    0.3581</td> <td>    0.106</td> <td>    3.364</td> <td> 0.001</td> <td>    0.149</td> <td>    0.567</td>\n",
       "</tr>\n",
       "<tr>\n",
       "  <th>C(value)[T.1]</th>                        <td>    0.3225</td> <td>    0.107</td> <td>    3.005</td> <td> 0.003</td> <td>    0.112</td> <td>    0.533</td>\n",
       "</tr>\n",
       "<tr>\n",
       "  <th>C(gives_reason_s)[T.1]</th>               <td>    0.7573</td> <td>    0.095</td> <td>    7.974</td> <td> 0.000</td> <td>    0.571</td> <td>    0.944</td>\n",
       "</tr>\n",
       "<tr>\n",
       "  <th>C(asks_question_s)[T.1]</th>              <td>    0.5371</td> <td>    0.102</td> <td>    5.275</td> <td> 0.000</td> <td>    0.337</td> <td>    0.737</td>\n",
       "</tr>\n",
       "<tr>\n",
       "  <th>C(clarifies_position_stance)[T.1]</th>    <td>    0.3590</td> <td>    0.121</td> <td>    2.966</td> <td> 0.003</td> <td>    0.121</td> <td>    0.597</td>\n",
       "</tr>\n",
       "<tr>\n",
       "  <th>C(responds_to_previous_comment)[T.1]</th> <td>   -0.2678</td> <td>    0.095</td> <td>   -2.825</td> <td> 0.005</td> <td>   -0.454</td> <td>   -0.082</td>\n",
       "</tr>\n",
       "<tr>\n",
       "  <th>C(moderator_post)[T.1]</th>               <td>   -0.2660</td> <td>    0.091</td> <td>   -2.913</td> <td> 0.004</td> <td>   -0.445</td> <td>   -0.087</td>\n",
       "</tr>\n",
       "<tr>\n",
       "  <th>C(acknowledges_problem)[T.1]</th>         <td>    0.1839</td> <td>    0.087</td> <td>    2.116</td> <td> 0.035</td> <td>    0.013</td> <td>    0.355</td>\n",
       "</tr>\n",
       "</table>\n",
       "<table class=\"simpletable\">\n",
       "<tr>\n",
       "  <th>Omnibus:</th>       <td>162.510</td> <th>  Durbin-Watson:     </th> <td>   1.820</td> \n",
       "</tr>\n",
       "<tr>\n",
       "  <th>Prob(Omnibus):</th> <td> 0.000</td>  <th>  Jarque-Bera (JB):  </th> <td> 703.556</td> \n",
       "</tr>\n",
       "<tr>\n",
       "  <th>Skew:</th>          <td> 1.430</td>  <th>  Prob(JB):          </th> <td>1.68e-153</td>\n",
       "</tr>\n",
       "<tr>\n",
       "  <th>Kurtosis:</th>      <td> 8.140</td>  <th>  Cond. No.          </th> <td>    6.44</td> \n",
       "</tr>\n",
       "</table><br/><br/>Warnings:<br/>[1] Standard Errors assume that the covariance matrix of the errors is correctly specified."
      ],
      "text/plain": [
       "<class 'statsmodels.iolib.summary.Summary'>\n",
       "\"\"\"\n",
       "                            OLS Regression Results                            \n",
       "==============================================================================\n",
       "Dep. Variable:        number_of_ideas   R-squared:                       0.329\n",
       "Model:                            OLS   Adj. R-squared:                  0.316\n",
       "Method:                 Least Squares   F-statistic:                     26.05\n",
       "Date:                Thu, 01 Oct 2020   Prob (F-statistic):           1.50e-36\n",
       "Time:                        14:44:18   Log-Likelihood:                -601.88\n",
       "No. Observations:                 488   AIC:                             1224.\n",
       "Df Residuals:                     478   BIC:                             1266.\n",
       "Df Model:                           9                                         \n",
       "Covariance Type:            nonrobust                                         \n",
       "========================================================================================================\n",
       "                                           coef    std err          t      P>|t|      [0.025      0.975]\n",
       "--------------------------------------------------------------------------------------------------------\n",
       "Intercept                                0.7775      0.111      7.009      0.000       0.560       0.996\n",
       "C(blending)[T.1]                         0.4138      0.090      4.592      0.000       0.237       0.591\n",
       "C(broadening)[T.1]                       0.3581      0.106      3.364      0.001       0.149       0.567\n",
       "C(value)[T.1]                            0.3225      0.107      3.005      0.003       0.112       0.533\n",
       "C(gives_reason_s)[T.1]                   0.7573      0.095      7.974      0.000       0.571       0.944\n",
       "C(asks_question_s)[T.1]                  0.5371      0.102      5.275      0.000       0.337       0.737\n",
       "C(clarifies_position_stance)[T.1]        0.3590      0.121      2.966      0.003       0.121       0.597\n",
       "C(responds_to_previous_comment)[T.1]    -0.2678      0.095     -2.825      0.005      -0.454      -0.082\n",
       "C(moderator_post)[T.1]                  -0.2660      0.091     -2.913      0.004      -0.445      -0.087\n",
       "C(acknowledges_problem)[T.1]             0.1839      0.087      2.116      0.035       0.013       0.355\n",
       "==============================================================================\n",
       "Omnibus:                      162.510   Durbin-Watson:                   1.820\n",
       "Prob(Omnibus):                  0.000   Jarque-Bera (JB):              703.556\n",
       "Skew:                           1.430   Prob(JB):                    1.68e-153\n",
       "Kurtosis:                       8.140   Cond. No.                         6.44\n",
       "==============================================================================\n",
       "\n",
       "Warnings:\n",
       "[1] Standard Errors assume that the covariance matrix of the errors is correctly specified.\n",
       "\"\"\""
      ]
     },
     "execution_count": 44,
     "metadata": {},
     "output_type": "execute_result"
    }
   ],
   "source": [
    "best_model.summary()"
   ]
  },
  {
   "cell_type": "markdown",
   "metadata": {},
   "source": [
    "### 9. Interpret coefficients"
   ]
  },
  {
   "cell_type": "markdown",
   "metadata": {},
   "source": [
    "#### Inspect significant coefficients"
   ]
  },
  {
   "cell_type": "code",
   "execution_count": 45,
   "metadata": {},
   "outputs": [],
   "source": [
    "blending = best_model.params[1]\n",
    "broadening = best_model.params[2]\n",
    "value = best_model.params[3]\n",
    "give_reasons = best_model.params[4]\n",
    "ask_questions = best_model.params[5]\n",
    "clarifies_position = best_model.params[6]\n",
    "respond_to_previous_comments = best_model.params[7]\n",
    "moderator_post = best_model.params[8]\n",
    "acknowledge_problem = best_model.params[9]"
   ]
  },
  {
   "cell_type": "markdown",
   "metadata": {},
   "source": [
    "Blending"
   ]
  },
  {
   "cell_type": "code",
   "execution_count": 46,
   "metadata": {},
   "outputs": [
    {
     "name": "stdout",
     "output_type": "stream",
     "text": [
      "Discussions where diverse ideas are integrated (blending) increase the estimate value of new ideas by 0.414\n"
     ]
    }
   ],
   "source": [
    "print(f\"Discussions where diverse ideas are integrated (blending) increase the estimate value of new ideas by \"\\\n",
    "      f\"{round(blending,3)}\")"
   ]
  },
  {
   "cell_type": "markdown",
   "metadata": {},
   "source": [
    "Broadening"
   ]
  },
  {
   "cell_type": "code",
   "execution_count": 47,
   "metadata": {},
   "outputs": [
    {
     "name": "stdout",
     "output_type": "stream",
     "text": [
      "Discussions where there is diversity of perspectives (broadening) increase the estimate value of new ideas by 0.358\n"
     ]
    }
   ],
   "source": [
    "print(f\"Discussions where there is diversity of perspectives (broadening) increase the estimate value of new\"\\\n",
    "      f\" ideas by {round(broadening,3)}\")"
   ]
  },
  {
   "cell_type": "markdown",
   "metadata": {},
   "source": [
    "Value"
   ]
  },
  {
   "cell_type": "code",
   "execution_count": 48,
   "metadata": {},
   "outputs": [
    {
     "name": "stdout",
     "output_type": "stream",
     "text": [
      "Discussions where any abstract, cultural, or societal values are mentioned (value) increase theestimate value of new ideas by 0.322\n"
     ]
    }
   ],
   "source": [
    "print(f\"Discussions where any abstract, cultural, or societal values are mentioned (value) increase the\"\\\n",
    "      f\"estimate value of new ideas by {round(value,3)}\")"
   ]
  },
  {
   "cell_type": "markdown",
   "metadata": {},
   "source": [
    "Give reasons"
   ]
  },
  {
   "cell_type": "code",
   "execution_count": 49,
   "metadata": {},
   "outputs": [
    {
     "name": "stdout",
     "output_type": "stream",
     "text": [
      "Discussions where positions are justified increase the estimate value of new ideas by 0.757\n"
     ]
    }
   ],
   "source": [
    "print(f\"Discussions where positions are justified increase the estimate value of new ideas by \"\\\n",
    "      f\"{round(give_reasons,3)}\")"
   ]
  },
  {
   "cell_type": "markdown",
   "metadata": {},
   "source": [
    "Ask questions"
   ]
  },
  {
   "cell_type": "code",
   "execution_count": 50,
   "metadata": {},
   "outputs": [
    {
     "name": "stdout",
     "output_type": "stream",
     "text": [
      "Discussions where questions seeking information or an opinion from others are present increase the estimate value of new ideas by 0.537\n"
     ]
    }
   ],
   "source": [
    "print(f\"Discussions where questions seeking information or an opinion from others are present increase the \"\\\n",
    "      f\"estimate value of new ideas by {round(ask_questions, 3)}\")"
   ]
  },
  {
   "cell_type": "markdown",
   "metadata": {},
   "source": [
    "Clarifies position"
   ]
  },
  {
   "cell_type": "code",
   "execution_count": 51,
   "metadata": {},
   "outputs": [
    {
     "name": "stdout",
     "output_type": "stream",
     "text": [
      "Discussions where commenter clarifies or elaborates on a position increase the estimate value of new ideas by 0.359\n"
     ]
    }
   ],
   "source": [
    "print(f\"Discussions where commenter clarifies or elaborates on a position increase the estimate value of new \"\\\n",
    "      f\"ideas by {round(clarifies_position,3)}\")"
   ]
  },
  {
   "cell_type": "markdown",
   "metadata": {},
   "source": [
    "Response to previous comments"
   ]
  },
  {
   "cell_type": "code",
   "execution_count": 52,
   "metadata": {},
   "outputs": [
    {
     "name": "stdout",
     "output_type": "stream",
     "text": [
      "Discussions where commenter responds directly to previous comments decrease the estimate value of new ideas by -0.268\n"
     ]
    }
   ],
   "source": [
    "print(f\"Discussions where commenter responds directly to previous comments decrease the estimate value of new \"\\\n",
    "      f\"ideas by {round(respond_to_previous_comments,3)}\")"
   ]
  },
  {
   "cell_type": "markdown",
   "metadata": {},
   "source": [
    "Moderator post"
   ]
  },
  {
   "cell_type": "code",
   "execution_count": 53,
   "metadata": {},
   "outputs": [
    {
     "name": "stdout",
     "output_type": "stream",
     "text": [
      "Discussions where moderator intervene decrease the estimate value of new ideas by -0.266\n"
     ]
    }
   ],
   "source": [
    "print(f\"Discussions where moderator intervene decrease the estimate value of new ideas by {round(moderator_post,3)}\")"
   ]
  },
  {
   "cell_type": "markdown",
   "metadata": {},
   "source": [
    "Acknowledge problem"
   ]
  },
  {
   "cell_type": "code",
   "execution_count": 54,
   "metadata": {},
   "outputs": [
    {
     "name": "stdout",
     "output_type": "stream",
     "text": [
      "Discussions where commenter explicitly acknowledge the presence of a problem increase the estimate value of new ideas by 0.184\n"
     ]
    }
   ],
   "source": [
    "print(f\"Discussions where commenter explicitly acknowledge the presence of a problem increase the estimate value of new ideas by {round(acknowledge_problem,3)}\")"
   ]
  },
  {
   "cell_type": "markdown",
   "metadata": {},
   "source": [
    "### 10. Findings"
   ]
  },
  {
   "cell_type": "markdown",
   "metadata": {},
   "source": [
    "The best fitted model account for about 30% of the variantion in the data. This percentage of data variation explained by the model is moderate to substantial according to Cohen, 1998 and Chin, 1998. Predictors that influence positively and significantly the generation of new ideas are `blending`, `broadening`, `value`, `give reasons`, `ask questions`, `clarifies position`, `response to previous comments`, and `acknowledge problem`. They affect the target variable, new ideas, with different magnitud. Interestingly, the predictor `moderator post` influences significantly but negatively the generation of new ideas."
   ]
  },
  {
   "cell_type": "markdown",
   "metadata": {},
   "source": [
    "---"
   ]
  },
  {
   "cell_type": "markdown",
   "metadata": {},
   "source": [
    "## RQ3.  Presence of both disagreement and agreement affect new idea generation"
   ]
  },
  {
   "cell_type": "markdown",
   "metadata": {},
   "source": [
    "### 1. Define and select predictor variables"
   ]
  },
  {
   "cell_type": "code",
   "execution_count": 94,
   "metadata": {},
   "outputs": [
    {
     "name": "stdout",
     "output_type": "stream",
     "text": [
      "In total 5 variables will be considered in the analysis of RQ3\n"
     ]
    }
   ],
   "source": [
    "predictors_rq3 = ['agreement', 'disagreement', 'simple_disagreement', 'elaborated_disagreement', 'number_of_ideas']\n",
    "print(f\"In total {len(predictors_rq3)} variables will be considered in the analysis of RQ3\")"
   ]
  },
  {
   "cell_type": "markdown",
   "metadata": {},
   "source": [
    "#### Select columns that include predictors and the target variable"
   ]
  },
  {
   "cell_type": "code",
   "execution_count": 95,
   "metadata": {},
   "outputs": [
    {
     "name": "stdout",
     "output_type": "stream",
     "text": [
      "The analysis is conducted with a dataset composed of 488 rows and 5 columns\n"
     ]
    }
   ],
   "source": [
    "rq3_df = all_df.loc[:,predictors_rq3]\n",
    "print(f\"The analysis is conducted with a dataset composed of {rq3_df.shape[0]} rows and {rq3_df.shape[1]} columns\")"
   ]
  },
  {
   "cell_type": "markdown",
   "metadata": {},
   "source": [
    "#### Create new columns"
   ]
  },
  {
   "cell_type": "code",
   "execution_count": 96,
   "metadata": {},
   "outputs": [],
   "source": [
    "rq3_df['all_disagreement'] = np.where((rq3_df['disagreement']==1)|(rq3_df['simple_disagreement']==1)|(rq3_df['elaborated_disagreement']==1),1,0)"
   ]
  },
  {
   "cell_type": "code",
   "execution_count": 97,
   "metadata": {},
   "outputs": [],
   "source": [
    "rq3_df['both_agreement_disagreement'] = np.where((rq3_df['all_disagreement']==1)&(rq3_df['agreement']==1),1,0)"
   ]
  },
  {
   "cell_type": "code",
   "execution_count": 98,
   "metadata": {},
   "outputs": [],
   "source": [
    "rq3_df = rq3_df.drop(columns=['agreement','disagreement','simple_disagreement','elaborated_disagreement','all_disagreement'])"
   ]
  },
  {
   "cell_type": "markdown",
   "metadata": {},
   "source": [
    "### 2. Remove rows with invalid values"
   ]
  },
  {
   "cell_type": "markdown",
   "metadata": {},
   "source": [
    "Some variables have the values `unclear` and `nan`, which will be converted to 0"
   ]
  },
  {
   "cell_type": "code",
   "execution_count": 100,
   "metadata": {},
   "outputs": [
    {
     "name": "stderr",
     "output_type": "stream",
     "text": [
      "/home/jorge/Dropbox/Data Analyses/disagreement/env/lib/python3.7/site-packages/pandas/core/ops/array_ops.py:253: FutureWarning: elementwise comparison failed; returning scalar instead, but in the future will perform elementwise comparison\n",
      "  res_values = method(rvalues)\n"
     ]
    }
   ],
   "source": [
    "for col in rq3_df.columns:\n",
    "    rq3_df.loc[rq3_df[col]=='unclear', col] = 0\n",
    "    rq3_df.loc[rq3_df[col].isna(), col] = 0\n",
    "    if col == 'number_of_ideas':\n",
    "        continue\n",
    "    unique_values = rq3_df[col].unique()\n",
    "    invalid_values = set(unique_values) - set([0,1])\n",
    "    if len(invalid_values) > 0:  # the column has invalid values                   \n",
    "        invalid_indexes = list(rq3_df.loc[~rq3_df[col].isin([0,1])].index)\n",
    "        if len(invalid_indexes) > 0:\n",
    "            print(f'Found the following invalid values {invalid_values} in {len(invalid_indexes)} '\\\n",
    "                  f'rows of the column {col}. Rows has been discarded.')\n",
    "            rq3_df = rq3_df.drop(index=invalid_indexes)            "
   ]
  },
  {
   "cell_type": "code",
   "execution_count": 101,
   "metadata": {},
   "outputs": [
    {
     "name": "stdout",
     "output_type": "stream",
     "text": [
      "After the step above the dataset is composed of 488 rows and 2 columns\n"
     ]
    }
   ],
   "source": [
    "print(f\"After the step above the dataset is composed of {rq3_df.shape[0]} rows and {rq3_df.shape[1]} columns\")"
   ]
  },
  {
   "cell_type": "markdown",
   "metadata": {},
   "source": [
    "### 2. Add a new variable"
   ]
  },
  {
   "cell_type": "code",
   "execution_count": 102,
   "metadata": {},
   "outputs": [],
   "source": [
    "rq3_df['number_of_ideas'] = pd.to_numeric(rq3_df['number_of_ideas'], downcast='unsigned')"
   ]
  },
  {
   "cell_type": "code",
   "execution_count": 104,
   "metadata": {},
   "outputs": [],
   "source": [
    "rq3_df['idea_generated'] = np.where(rq3_df['number_of_ideas']>0, 1, 0)"
   ]
  },
  {
   "cell_type": "markdown",
   "metadata": {},
   "source": [
    "### 4. Explore variables"
   ]
  },
  {
   "cell_type": "code",
   "execution_count": 105,
   "metadata": {},
   "outputs": [
    {
     "name": "stdout",
     "output_type": "stream",
     "text": [
      "There are 114 (23%) comments in which agreement and disagreement appear\n"
     ]
    }
   ],
   "source": [
    "both = rq3_df[rq3_df['both_agreement_disagreement']==1].shape[0]\n",
    "print(f'There are {both} ({round(100*(both/rq3_df.shape[0]))}%) comments in which agreement and disagreement '\\\n",
    "      f'appear')"
   ]
  },
  {
   "cell_type": "code",
   "execution_count": 106,
   "metadata": {},
   "outputs": [
    {
     "name": "stdout",
     "output_type": "stream",
     "text": [
      "There are 447(92%) comments in which ideas were generated\n"
     ]
    }
   ],
   "source": [
    "with_ideas = rq3_df[rq3_df['idea_generated']>0].shape[0]\n",
    "print(f'There are {with_ideas}({round(100*(with_ideas/rq3_df.shape[0]))}%) comments in which ideas were generated')"
   ]
  },
  {
   "cell_type": "code",
   "execution_count": 107,
   "metadata": {},
   "outputs": [
    {
     "name": "stdout",
     "output_type": "stream",
     "text": [
      "In 114 (100%) comments in which agreement and disagreement appear, ideas were generated\n"
     ]
    }
   ],
   "source": [
    "both_with_ideas = rq3_df[(rq3_df['both_agreement_disagreement']==1)&(rq3_df['idea_generated']==1)].shape[0]\n",
    "print(f'In {both_with_ideas} ({round(100*(both_with_ideas/both))}%) '\\\n",
    "      f'comments in which agreement and disagreement appear, ideas were generated')"
   ]
  },
  {
   "cell_type": "code",
   "execution_count": 108,
   "metadata": {},
   "outputs": [
    {
     "name": "stdout",
     "output_type": "stream",
     "text": [
      "In 0 (0%) comments in which agreement and disagreement appear, ideas were not generated\n"
     ]
    }
   ],
   "source": [
    "both_without_ideas = rq3_df[(rq3_df['both_agreement_disagreement']==1)&(rq3_df['idea_generated']==0)].shape[0]\n",
    "print(f'In {both_without_ideas} ({round(100*(both_without_ideas/both))}%) '\\\n",
    "      f'comments in which agreement and disagreement appear, ideas were not generated')"
   ]
  },
  {
   "cell_type": "code",
   "execution_count": 109,
   "metadata": {},
   "outputs": [
    {
     "name": "stdout",
     "output_type": "stream",
     "text": [
      "There are 374 (77%) comments in which agreement and disagreement do not appear simultaneously\n"
     ]
    }
   ],
   "source": [
    "no_both = rq3_df[rq3_df['both_agreement_disagreement']==0].shape[0]\n",
    "print(f'There are {no_both} ({round(100*(no_both/rq3_df.shape[0]))}%) comments in which agreement and '\\\n",
    "      f'disagreement do not appear simultaneously')"
   ]
  },
  {
   "cell_type": "code",
   "execution_count": 110,
   "metadata": {},
   "outputs": [
    {
     "name": "stdout",
     "output_type": "stream",
     "text": [
      "In 333 (89%) comments in which agreement and disagreement do not appear simultaneously, ideas were generated\n"
     ]
    }
   ],
   "source": [
    "no_both_with_ideas = rq3_df[(rq3_df['both_agreement_disagreement']==0)&(rq3_df['idea_generated']==1)].shape[0]\n",
    "print(f'In {no_both_with_ideas} ({round(100*(no_both_with_ideas/no_both))}%) '\\\n",
    "      f'comments in which agreement and disagreement do not appear simultaneously, ideas were generated')"
   ]
  },
  {
   "cell_type": "markdown",
   "metadata": {},
   "source": [
    "### 5. Compare mean of ideas generated"
   ]
  },
  {
   "cell_type": "code",
   "execution_count": 111,
   "metadata": {},
   "outputs": [],
   "source": [
    "both_df = rq3_df[rq3_df['both_agreement_disagreement']==1]\n",
    "no_both_df = rq3_df[rq3_df['both_agreement_disagreement']==0]"
   ]
  },
  {
   "cell_type": "code",
   "execution_count": 118,
   "metadata": {},
   "outputs": [
    {
     "name": "stdout",
     "output_type": "stream",
     "text": [
      "The mean of ideas in comments where agreement and disagreement appear is 1.96\n"
     ]
    }
   ],
   "source": [
    "print(f\"The mean of ideas in comments where agreement and disagreement appear is \"\\\n",
    "      f\"{round(both_df['number_of_ideas'].mean(),2)}\")"
   ]
  },
  {
   "cell_type": "code",
   "execution_count": 119,
   "metadata": {},
   "outputs": [
    {
     "name": "stdout",
     "output_type": "stream",
     "text": [
      "The mean of ideas in comments where agreement and disagreement do not appear simultaneously is 1.39\n"
     ]
    }
   ],
   "source": [
    "print(f\"The mean of ideas in comments where agreement and disagreement do not appear simultaneously is \"\\\n",
    "      f\"{round(no_both_df['number_of_ideas'].mean(),2)}\")"
   ]
  },
  {
   "cell_type": "code",
   "execution_count": 121,
   "metadata": {},
   "outputs": [
    {
     "name": "stdout",
     "output_type": "stream",
     "text": [
      "The diference between the means is statistically significant (p-value 6.038094804364531e-09)\n"
     ]
    }
   ],
   "source": [
    "stat, p_val = stats.mannwhitneyu(both_df['number_of_ideas'], no_both_df['number_of_ideas'])\n",
    "if p_val < alpha_level:\n",
    "    print(f'The diference between the means is statistically significant (p-value {p_val})')\n",
    "else:\n",
    "    print(f'The diference between the means is not statistically significant (p-value {p_val})')"
   ]
  },
  {
   "cell_type": "markdown",
   "metadata": {},
   "source": [
    "---"
   ]
  },
  {
   "cell_type": "markdown",
   "metadata": {},
   "source": [
    "## RQ4. Disagreement/agreement and new ideas"
   ]
  },
  {
   "cell_type": "code",
   "execution_count": 72,
   "metadata": {},
   "outputs": [],
   "source": [
    "all_df.loc[all_df['number_of_ideas']=='unclear', 'number_of_ideas'] = 0\n",
    "all_df.loc[all_df['number_of_ideas'].isna(), 'number_of_ideas'] = 0\n",
    "all_df['number_of_ideas'] = pd.to_numeric(all_df['number_of_ideas'], downcast='unsigned')"
   ]
  },
  {
   "cell_type": "markdown",
   "metadata": {},
   "source": [
    "### A) Comments that *only* have disagreement"
   ]
  },
  {
   "cell_type": "code",
   "execution_count": 114,
   "metadata": {},
   "outputs": [
    {
     "name": "stdout",
     "output_type": "stream",
     "text": [
      "There are  165 comments with only disagreement. These comments have in average 1.521 ideas.\n"
     ]
    },
    {
     "data": {
      "text/plain": [
       "<matplotlib.axes._subplots.AxesSubplot at 0x7fdbe0a5b9b0>"
      ]
     },
     "execution_count": 114,
     "metadata": {},
     "output_type": "execute_result"
    },
    {
     "data": {
      "image/png": "[encoded data removed]",
      "text/plain": [
       "<Figure size 576x396 with 1 Axes>"
      ]
     },
     "metadata": {},
     "output_type": "display_data"
    }
   ],
   "source": [
    "dis_comments = all_df.loc[(all_df['disagreement']==1)&(all_df['agreement']==0),'number_of_ideas']\n",
    "print(f'There are  {len(dis_comments)} comments with only disagreement. '\\\n",
    "      f'These comments have in average {round(dis_comments.mean(),3)} ideas.')\n",
    "dis_comments.hist()"
   ]
  },
  {
   "cell_type": "markdown",
   "metadata": {},
   "source": [
    "### B) Comments that *only* have agreement"
   ]
  },
  {
   "cell_type": "code",
   "execution_count": 115,
   "metadata": {},
   "outputs": [
    {
     "name": "stdout",
     "output_type": "stream",
     "text": [
      "There are  132 comments with only agreement. These comments have in average 1.356 ideas.\n"
     ]
    },
    {
     "data": {
      "text/plain": [
       "<matplotlib.axes._subplots.AxesSubplot at 0x7fdbe18d28d0>"
      ]
     },
     "execution_count": 115,
     "metadata": {},
     "output_type": "execute_result"
    },
    {
     "data": {
      "image/png": "[encoded data removed]",
      "text/plain": [
       "<Figure size 576x396 with 1 Axes>"
      ]
     },
     "metadata": {},
     "output_type": "display_data"
    }
   ],
   "source": [
    "agr_comments = all_df.loc[(all_df['disagreement']==0)&(all_df['agreement']==1),'number_of_ideas']\n",
    "print(f'There are  {agr_comments.shape[0]} comments with only agreement. '\\\n",
    "      f'These comments have in average {round(agr_comments.mean(), 3)} ideas.')\n",
    "agr_comments.hist()"
   ]
  },
  {
   "cell_type": "markdown",
   "metadata": {},
   "source": [
    "### C) Comments with both disagreement and agreement"
   ]
  },
  {
   "cell_type": "code",
   "execution_count": 117,
   "metadata": {},
   "outputs": [
    {
     "name": "stdout",
     "output_type": "stream",
     "text": [
      "There are  113 comments with agreement and disagreement. These comments have in average 1.956 ideas.\n"
     ]
    },
    {
     "data": {
      "text/plain": [
       "<matplotlib.axes._subplots.AxesSubplot at 0x7fdbe0a0ed68>"
      ]
     },
     "execution_count": 117,
     "metadata": {},
     "output_type": "execute_result"
    },
    {
     "data": {
      "image/png": "[encoded data removed]",
      "text/plain": [
       "<Figure size 576x396 with 1 Axes>"
      ]
     },
     "metadata": {},
     "output_type": "display_data"
    }
   ],
   "source": [
    "dis_agr_comments = all_df.loc[(all_df['disagreement']==1)&(all_df['agreement']==1), 'number_of_ideas']\n",
    "print(f'There are  {dis_agr_comments.shape[0]} comments with agreement and disagreement. '\\\n",
    "      f'These comments have in average {round(dis_agr_comments.mean(), 3)} ideas.')\n",
    "dis_agr_comments.hist()"
   ]
  },
  {
   "cell_type": "markdown",
   "metadata": {},
   "source": [
    "### D) Comments that don't have disagreement neither agreement"
   ]
  },
  {
   "cell_type": "code",
   "execution_count": 118,
   "metadata": {},
   "outputs": [
    {
     "name": "stdout",
     "output_type": "stream",
     "text": [
      "There are 78 comments with neither agreement and disagreement. These comments have in average 1.167 ideas.\n"
     ]
    },
    {
     "data": {
      "text/plain": [
       "<matplotlib.axes._subplots.AxesSubplot at 0x7fdbe0a15438>"
      ]
     },
     "execution_count": 118,
     "metadata": {},
     "output_type": "execute_result"
    },
    {
     "data": {
      "image/png": "[encoded data removed]",
      "text/plain": [
       "<Figure size 576x396 with 1 Axes>"
      ]
     },
     "metadata": {},
     "output_type": "display_data"
    }
   ],
   "source": [
    "no_dis_agr_comments = all_df.loc[(all_df['disagreement']==0)&(all_df['agreement']==0),'number_of_ideas']\n",
    "print(f'There are {no_dis_agr_comments.shape[0]} comments with neither agreement and disagreement. '\\\n",
    "      f'These comments have in average {round(no_dis_agr_comments.mean(), 3)} ideas.')\n",
    "no_dis_agr_comments.hist()"
   ]
  },
  {
   "cell_type": "markdown",
   "metadata": {},
   "source": [
    "### Difference in the number of ideas"
   ]
  },
  {
   "cell_type": "code",
   "execution_count": 133,
   "metadata": {},
   "outputs": [],
   "source": [
    "comment_types = [\n",
    "    {\n",
    "        'name': 'only disagreement',\n",
    "        'set': dis_comments,\n",
    "        'mean_ideas': dis_comments.mean()\n",
    "    },\n",
    "    {\n",
    "        'name': 'only agreement',\n",
    "        'set': agr_comments,\n",
    "        'mean_ideas': agr_comments.mean()\n",
    "    },\n",
    "    {\n",
    "        'name': 'disagreement and agreement',\n",
    "        'set': dis_agr_comments,\n",
    "        'mean_ideas': dis_agr_comments.mean()\n",
    "    },\n",
    "    {\n",
    "        'name': 'no disagreement neither agreement',\n",
    "        'set': no_dis_agr_comments,\n",
    "        'mean_ideas': no_dis_agr_comments.mean()\n",
    "    }\n",
    "]"
   ]
  },
  {
   "cell_type": "code",
   "execution_count": 136,
   "metadata": {},
   "outputs": [
    {
     "name": "stdout",
     "output_type": "stream",
     "text": [
      "Checking if the difference in the number of ideas between:\n",
      "- comments with only disagreement and\n",
      "- comments with only agreement\n",
      "is statistically significant\n",
      "The difference between samples is statistically significant, p-value: 0.0089.\n",
      "Mean of ideas only disagreement: 1.5212121212121212\n",
      "Mean of ideas only agreement: 1.356060606060606\n",
      "\n",
      "Checking if the difference in the number of ideas between:\n",
      "- comments with only disagreement and\n",
      "- comments with disagreement and agreement\n",
      "is statistically significant\n",
      "The difference between samples is statistically significant, p-value: 0.0001.\n",
      "Mean of ideas only disagreement: 1.5212121212121212\n",
      "Mean of ideas disagreement and agreement: 1.9557522123893805\n",
      "\n",
      "Checking if the difference in the number of ideas between:\n",
      "- comments with only disagreement and\n",
      "- comments with no disagreement neither agreement\n",
      "is statistically significant\n",
      "The difference between samples is statistically significant, p-value: 0.0003.\n",
      "Mean of ideas only disagreement: 1.5212121212121212\n",
      "Mean of ideas no disagreement neither agreement: 1.1666666666666667\n",
      "\n",
      "\n",
      "Checking if the difference in the number of ideas between:\n",
      "- comments with only agreement and\n",
      "- comments with disagreement and agreement\n",
      "is statistically significant\n",
      "The difference between samples is statistically significant, p-value: 0.0.\n",
      "Mean of ideas only agreement: 1.356060606060606\n",
      "Mean of ideas disagreement and agreement: 1.9557522123893805\n",
      "\n",
      "Checking if the difference in the number of ideas between:\n",
      "- comments with only agreement and\n",
      "- comments with no disagreement neither agreement\n",
      "is statistically significant\n",
      "The difference between samples is not statistically significant, p-value: 0.1744.\n",
      "\n",
      "\n",
      "Checking if the difference in the number of ideas between:\n",
      "- comments with disagreement and agreement and\n",
      "- comments with no disagreement neither agreement\n",
      "is statistically significant\n",
      "The difference between samples is statistically significant, p-value: 0.0.\n",
      "Mean of ideas disagreement and agreement: 1.9557522123893805\n",
      "Mean of ideas no disagreement neither agreement: 1.1666666666666667\n",
      "\n",
      "\n"
     ]
    }
   ],
   "source": [
    "for i in range(len(comment_types)-1):\n",
    "    for j in range(i+1, len(comment_types)):\n",
    "        print(f\"Checking if the difference in the number of ideas between:\\n- comments with {comment_types[i]['name']} \"\\\n",
    "              f\"and\\n- comments with {comment_types[j]['name']}\\nis statistically significant\")\n",
    "        stat, p_val = stats.mannwhitneyu(comment_types[i]['set'], comment_types[j]['set'])\n",
    "        if p_val < alpha_level:\n",
    "            print(f'The difference between samples is statistically significant, p-value: {round(p_val,4)}.')\n",
    "            print(f\"Mean of ideas {comment_types[i]['name']}: {comment_types[i]['mean_ideas']}\")\n",
    "            print(f\"Mean of ideas {comment_types[j]['name']}: {comment_types[j]['mean_ideas']}\")\n",
    "        else:\n",
    "            print(f'The difference between samples is not statistically significant, p-value: {round(p_val,4)}.')\n",
    "        print()\n",
    "    print()"
   ]
  },
  {
   "cell_type": "markdown",
   "metadata": {},
   "source": [
    "Summary \n",
    "- Disagreement > agreement\n",
    "- Disagreement > neither agreement nor disagreement\n",
    "- Agreement and disagreement > disagreement\n",
    "- Agreement and disagreement > agreement\n",
    "- Agreement and disagreement > neither agreement nor disagreement"
   ]
  }
 ],
 "metadata": {
  "kernelspec": {
   "display_name": "Python 3",
   "language": "python",
   "name": "python3"
  },
  "language_info": {
   "codemirror_mode": {
    "name": "ipython",
    "version": 3
   },
   "file_extension": ".py",
   "mimetype": "text/x-python",
   "name": "python",
   "nbconvert_exporter": "python",
   "pygments_lexer": "ipython3",
   "version": "3.7.1"
  }
 },
 "nbformat": 4,
 "nbformat_minor": 4
}
