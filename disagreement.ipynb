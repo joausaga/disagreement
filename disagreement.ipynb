{
 "cells": [
  {
   "cell_type": "markdown",
   "metadata": {},
   "source": [
    "# Value of disagreement in crowdsourced policymaking"
   ]
  },
  {
   "cell_type": "markdown",
   "metadata": {},
   "source": [
    "In this notebook we explore the value of disagreement in crowdsourced policymaking by addressing the following research questions."
   ]
  },
  {
   "cell_type": "markdown",
   "metadata": {},
   "source": [
    "## Research Questions"
   ]
  },
  {
   "cell_type": "markdown",
   "metadata": {},
   "source": [
    "1. **RQ1.** What are the predictors of disagreement?\n",
    "2. **RQ2.** What are the predictors of new ideas?\n",
    "3. **RQ3.** How does the presence of both disagreement and agreement affect new idea generation? (if disagreement and agreement are present simultaneously, in the same comment/thread?)\n",
    "4. **RQ4.** Do comments with only disagreement/only agreement lead to more new idea generation?"
   ]
  },
  {
   "cell_type": "markdown",
   "metadata": {},
   "source": [
    "## Methodology"
   ]
  },
  {
   "cell_type": "markdown",
   "metadata": {},
   "source": [
    "To address RQ1 and RQ2, numeric variables computed during the qualitative analysis are considered. As the first step, we propose to conduct correlation analyses to understand collinearity between variables. Collinearity between variables might produce incorrect inferences about the association between predictors and the response variable. To address RQ1, logistic regression is employed to model the relationship between predictors and the variable disagreement. Variables that are found to be highly-correlated are not included in the analysis. In answering RQ2, multi-variate linear regression is applied to learn the relationship between predictors and the generation of new ideas. As in the case of RQ1, highly-correlated variables will be excluded from the analysis."
   ]
  },
  {
   "cell_type": "markdown",
   "metadata": {},
   "source": [
    "RQ3 is answered by fitting a logistic regression model in which the response variable is whether or not the new ideas are produced while the explanatory variables are agreement and disagreement."
   ]
  },
  {
   "cell_type": "markdown",
   "metadata": {},
   "source": [
    "For RQ4, we check the number of comments in which new ideas are produced when there is agreement or disagreement. Also, we count the number of ideas produced in comments than contain agreement and disagreement. Inferential statistics (e.g., student’s t-test) is conducted on the means of ideas produced on comments with agreement and disagreement to understand whether there is a significant difference in the number of ideas produced when agreements are present or vice versa."
   ]
  },
  {
   "cell_type": "markdown",
   "metadata": {},
   "source": [
    "## Load libraries"
   ]
  },
  {
   "cell_type": "code",
   "execution_count": 552,
   "metadata": {},
   "outputs": [],
   "source": [
    "# load libraries\n",
    "import pandas as pd\n",
    "import numpy as np\n",
    "import matplotlib.pyplot as plt\n",
    "import seaborn as sns\n",
    "import statsmodels.api as sm\n",
    "import scipy.stats\n",
    "\n",
    "from collections import defaultdict\n",
    "from statsmodels.formula.api import glm\n",
    "from statsmodels.stats.outliers_influence import variance_inflation_factor\n",
    "\n",
    "plt.style.use('seaborn')"
   ]
  },
  {
   "cell_type": "markdown",
   "metadata": {},
   "source": [
    "## Load data"
   ]
  },
  {
   "cell_type": "markdown",
   "metadata": {},
   "source": [
    "### Topic: Member decision making and right"
   ]
  },
  {
   "cell_type": "code",
   "execution_count": 89,
   "metadata": {},
   "outputs": [
    {
     "name": "stdout",
     "output_type": "stream",
     "text": [
      "The dataset has 213 rows and 51 columns\n"
     ]
    }
   ],
   "source": [
    "member_df = pd.read_csv('data/member_decision_making_and_right.csv')\n",
    "nrows, ncols = member_df.shape\n",
    "print(f'The dataset has {nrows} rows and {ncols} columns')"
   ]
  },
  {
   "cell_type": "markdown",
   "metadata": {},
   "source": [
    "#### Columns"
   ]
  },
  {
   "cell_type": "code",
   "execution_count": 90,
   "metadata": {},
   "outputs": [
    {
     "data": {
      "text/plain": [
       "Index(['Background', 'Proposals', 'Time', 'User ID', 'User email', 'User name',\n",
       "       'Comment ID', 'Comment', 'Response ID', 'Response', 'Number of likes',\n",
       "       'Users who liked', 'Attachments', 'Comment.1', 'Response.1', 'Topic 1',\n",
       "       'Topic 2', 'Topic 3', 'disagreement', 'agreement',\n",
       "       'simple disagreement', 'elaborated disagreement', 'simple agreement',\n",
       "       'elaborated agreement', 'idea(s)', 'number of ideas', 'new idea',\n",
       "       'sourcing', 'value(s)', 'topic shift', 'brainstorming', 'blending',\n",
       "       'building', 'broadening', 'fact', 'value', 'policy', 'interpretation',\n",
       "       'target of disagreement', 'target of agreement', 'gives reason(s)',\n",
       "       'presents evidence', 'asks question(s)', 'provides information',\n",
       "       'clarifies position/stance', 'responds to previous comment',\n",
       "       'constructive tone', 'moderator post', 'acknowledges problem', 'notes',\n",
       "       'annotations for disagreement / new idea cascade(s)'],\n",
       "      dtype='object')"
      ]
     },
     "execution_count": 90,
     "metadata": {},
     "output_type": "execute_result"
    }
   ],
   "source": [
    "member_df.columns"
   ]
  },
  {
   "cell_type": "markdown",
   "metadata": {},
   "source": [
    "### Topic: Administration of an association"
   ]
  },
  {
   "cell_type": "code",
   "execution_count": 91,
   "metadata": {},
   "outputs": [
    {
     "name": "stdout",
     "output_type": "stream",
     "text": [
      "The dataset has 119 rows and 51 columns\n"
     ]
    }
   ],
   "source": [
    "admin_df = pd.read_csv('data/administration_of_association.csv')\n",
    "nrows, ncols = admin_df.shape\n",
    "print(f'The dataset has {nrows} rows and {ncols} columns')"
   ]
  },
  {
   "cell_type": "markdown",
   "metadata": {},
   "source": [
    "#### Columns"
   ]
  },
  {
   "cell_type": "code",
   "execution_count": 92,
   "metadata": {},
   "outputs": [
    {
     "data": {
      "text/plain": [
       "Index(['Background', 'Proposal', 'Time', 'User ID', 'User email', 'User name',\n",
       "       'Comment's ID', 'Comment', 'Response ID', 'Response', 'Amount of likes',\n",
       "       'Users who liked', 'Attachments', 'Comment.1', 'Response.1', 'Topic 1',\n",
       "       'Topic 2', 'Topic 3', 'disagreement', 'agreement',\n",
       "       'simple disagreement', 'elaborated disagreement', 'simple agreement',\n",
       "       'elaborated agreement', 'idea(s)', 'number of ideas', 'new idea',\n",
       "       'sourcing', 'value(s)', 'topic shift', 'brainstorming', 'blending',\n",
       "       'building', 'broadening', 'fact', 'value', 'policy', 'interpretation',\n",
       "       'target of disagreement', 'target of agreement', 'gives reason(s)',\n",
       "       'presents evidence', 'asks question(s)', 'provides information',\n",
       "       'clarifies position/stance', 'responds to previous comment',\n",
       "       'constructive tone', 'moderator post', 'acknowledges problem', 'notes',\n",
       "       'annotations for disagreement / new idea cascades'],\n",
       "      dtype='object')"
      ]
     },
     "execution_count": 92,
     "metadata": {},
     "output_type": "execute_result"
    }
   ],
   "source": [
    "admin_df.columns"
   ]
  },
  {
   "cell_type": "markdown",
   "metadata": {},
   "source": [
    "### Topic: Informally organized groups of an association"
   ]
  },
  {
   "cell_type": "code",
   "execution_count": 93,
   "metadata": {},
   "outputs": [
    {
     "name": "stdout",
     "output_type": "stream",
     "text": [
      "The dataset has 159 rows and 53 columns\n"
     ]
    }
   ],
   "source": [
    "informal_df = pd.read_csv('data/informally_organized_group_of_a.csv')\n",
    "nrows, ncols = informal_df.shape\n",
    "print(f'The dataset has {nrows} rows and {ncols} columns')"
   ]
  },
  {
   "cell_type": "markdown",
   "metadata": {},
   "source": [
    "#### Columns"
   ]
  },
  {
   "cell_type": "code",
   "execution_count": 94,
   "metadata": {},
   "outputs": [
    {
     "data": {
      "text/plain": [
       "Index(['Background', 'Proposal', 'Time', 'User ID', 'User email', 'User name',\n",
       "       'Comment ID', 'Comment', 'Response ID', 'Response', 'Number of likes',\n",
       "       'Users who liked', 'Attachments', 'Comment.1', 'Response.1', 'Topic 1',\n",
       "       'Topic 2', 'Topic 3', 'disagreement', 'agreement',\n",
       "       'simple disagreement', 'elaborated disagreement', 'simple agreement',\n",
       "       'elaborated agreement', 'idea(s)', 'number of ideas', 'new idea',\n",
       "       'sourcing', 'value(s)', 'topic shift', 'brainstorming', 'blending',\n",
       "       'building', 'broadening', 'fact', 'value', 'policy', 'IRRpolicy',\n",
       "       'interpretation', 'IRRinterpretation', 'target of disagreement',\n",
       "       'target of agreement', 'gives reason(s)', 'presents evidence',\n",
       "       'asks question(s)', 'provides information', 'clarifies position/stance',\n",
       "       'responds to previous comment', 'constructive tone',\n",
       "       'IRRconstructive tone', 'moderator post', 'acknowledges problem',\n",
       "       'annotations for disagreement / new idea cascade(s)'],\n",
       "      dtype='object')"
      ]
     },
     "execution_count": 94,
     "metadata": {},
     "output_type": "execute_result"
    }
   ],
   "source": [
    "informal_df.columns"
   ]
  },
  {
   "cell_type": "markdown",
   "metadata": {},
   "source": [
    "## Preprocess data"
   ]
  },
  {
   "cell_type": "markdown",
   "metadata": {},
   "source": [
    "### Normalize column names"
   ]
  },
  {
   "cell_type": "markdown",
   "metadata": {},
   "source": [
    "Put column names to lower case, replace spaces with underscore, delete leading and trailing spaces, and remove non alpha-numerical characters"
   ]
  },
  {
   "cell_type": "code",
   "execution_count": 95,
   "metadata": {},
   "outputs": [],
   "source": [
    "def normalize_column_names(names):\n",
    "    names = names.str.lower()\n",
    "    names = names.str.replace(' ','_')\n",
    "    names = names.str.replace('.','_')\n",
    "    names = names.str.replace('(','_')\n",
    "    names = names.str.replace(')','')\n",
    "    names = names.str.replace('/','_')\n",
    "    names = names.str.replace('___','_')\n",
    "    names = names.str.strip()\n",
    "    return names"
   ]
  },
  {
   "cell_type": "code",
   "execution_count": 96,
   "metadata": {},
   "outputs": [],
   "source": [
    "member_df.columns = normalize_column_names(member_df.columns)\n",
    "admin_df.columns = normalize_column_names(admin_df.columns)\n",
    "informal_df.columns = normalize_column_names(informal_df.columns)"
   ]
  },
  {
   "cell_type": "markdown",
   "metadata": {},
   "source": [
    "### Standarize column names"
   ]
  },
  {
   "cell_type": "markdown",
   "metadata": {},
   "source": [
    "Columns that contained the same information but have slightly different names are renamed for compatibility purposes"
   ]
  },
  {
   "cell_type": "code",
   "execution_count": 97,
   "metadata": {},
   "outputs": [],
   "source": [
    "member_df = member_df.rename(columns={\n",
    "    'annotations_for_disagreement_new_idea_cascade_s': 'annotations_for_disagreement_new_idea_cascades'\n",
    "})"
   ]
  },
  {
   "cell_type": "code",
   "execution_count": 98,
   "metadata": {},
   "outputs": [],
   "source": [
    "admin_df = admin_df.rename(columns={\n",
    "    'amount_of_likes': 'number_of_likes',\n",
    "    'comment\\'s_id': 'comment_id',\n",
    "    'proposal': 'proposals',    \n",
    "})"
   ]
  },
  {
   "cell_type": "code",
   "execution_count": 99,
   "metadata": {},
   "outputs": [],
   "source": [
    "informal_df = informal_df.rename(columns={\n",
    "    'annotations_for_disagreement_new_idea_cascade_s': 'annotations_for_disagreement_new_idea_cascades',\n",
    "    'proposal': 'proposals'\n",
    "})"
   ]
  },
  {
   "cell_type": "markdown",
   "metadata": {},
   "source": [
    "### Merge datasets in one dataframe"
   ]
  },
  {
   "cell_type": "markdown",
   "metadata": {},
   "source": [
    "Add an extra column to indicate the discussion theme"
   ]
  },
  {
   "cell_type": "code",
   "execution_count": 100,
   "metadata": {},
   "outputs": [],
   "source": [
    "member_df['topic'] = 'member'\n",
    "admin_df['topic'] = 'admin'\n",
    "informal_df['topic'] = 'informal'"
   ]
  },
  {
   "cell_type": "markdown",
   "metadata": {},
   "source": [
    "Merge datasets"
   ]
  },
  {
   "cell_type": "code",
   "execution_count": 101,
   "metadata": {},
   "outputs": [],
   "source": [
    "all_df = pd.concat([member_df, admin_df, informal_df], axis=0, ignore_index=True)"
   ]
  },
  {
   "cell_type": "code",
   "execution_count": 102,
   "metadata": {},
   "outputs": [
    {
     "name": "stdout",
     "output_type": "stream",
     "text": [
      "The merged dataset has 491 rows and 55 columns\n"
     ]
    }
   ],
   "source": [
    "nrows, ncols = all_df.shape\n",
    "print(f'The merged dataset has {nrows} rows and {ncols} columns')"
   ]
  },
  {
   "cell_type": "code",
   "execution_count": 103,
   "metadata": {},
   "outputs": [
    {
     "data": {
      "text/plain": [
       "Index(['background', 'proposals', 'time', 'user_id', 'user_email', 'user_name',\n",
       "       'comment_id', 'comment', 'response_id', 'response', 'number_of_likes',\n",
       "       'users_who_liked', 'attachments', 'comment_1', 'response_1', 'topic_1',\n",
       "       'topic_2', 'topic_3', 'disagreement', 'agreement',\n",
       "       'simple_disagreement', 'elaborated_disagreement', 'simple_agreement',\n",
       "       'elaborated_agreement', 'idea_s', 'number_of_ideas', 'new_idea',\n",
       "       'sourcing', 'value_s', 'topic_shift', 'brainstorming', 'blending',\n",
       "       'building', 'broadening', 'fact', 'value', 'policy', 'interpretation',\n",
       "       'target_of_disagreement', 'target_of_agreement', 'gives_reason_s',\n",
       "       'presents_evidence', 'asks_question_s', 'provides_information',\n",
       "       'clarifies_position_stance', 'responds_to_previous_comment',\n",
       "       'constructive_tone', 'moderator_post', 'acknowledges_problem', 'notes',\n",
       "       'annotations_for_disagreement_new_idea_cascades', 'topic', 'irrpolicy',\n",
       "       'irrinterpretation', 'irrconstructive_tone'],\n",
       "      dtype='object')"
      ]
     },
     "execution_count": 103,
     "metadata": {},
     "output_type": "execute_result"
    }
   ],
   "source": [
    "all_df.columns"
   ]
  },
  {
   "cell_type": "markdown",
   "metadata": {},
   "source": [
    "### Remove columns in Finnish language"
   ]
  },
  {
   "cell_type": "markdown",
   "metadata": {},
   "source": [
    "Text of comments and responses are both in Finnish and English. Columns `comment` and `response` that contain text in Finnish are removed because they will not be considered in this analysis."
   ]
  },
  {
   "cell_type": "code",
   "execution_count": 104,
   "metadata": {},
   "outputs": [],
   "source": [
    "all_df = all_df.drop(['comment', 'response'], axis=1)"
   ]
  },
  {
   "cell_type": "markdown",
   "metadata": {},
   "source": [
    "Columns `comment_1` and `response_1` are renamed removing `_1` from their names"
   ]
  },
  {
   "cell_type": "code",
   "execution_count": 105,
   "metadata": {},
   "outputs": [],
   "source": [
    "all_df = all_df.rename(columns={'comment_1': 'comment', 'response_1': 'response'})"
   ]
  },
  {
   "cell_type": "markdown",
   "metadata": {},
   "source": [
    "Final columns"
   ]
  },
  {
   "cell_type": "code",
   "execution_count": 106,
   "metadata": {},
   "outputs": [
    {
     "data": {
      "text/plain": [
       "Index(['background', 'proposals', 'time', 'user_id', 'user_email', 'user_name',\n",
       "       'comment_id', 'response_id', 'number_of_likes', 'users_who_liked',\n",
       "       'attachments', 'comment', 'response', 'topic_1', 'topic_2', 'topic_3',\n",
       "       'disagreement', 'agreement', 'simple_disagreement',\n",
       "       'elaborated_disagreement', 'simple_agreement', 'elaborated_agreement',\n",
       "       'idea_s', 'number_of_ideas', 'new_idea', 'sourcing', 'value_s',\n",
       "       'topic_shift', 'brainstorming', 'blending', 'building', 'broadening',\n",
       "       'fact', 'value', 'policy', 'interpretation', 'target_of_disagreement',\n",
       "       'target_of_agreement', 'gives_reason_s', 'presents_evidence',\n",
       "       'asks_question_s', 'provides_information', 'clarifies_position_stance',\n",
       "       'responds_to_previous_comment', 'constructive_tone', 'moderator_post',\n",
       "       'acknowledges_problem', 'notes',\n",
       "       'annotations_for_disagreement_new_idea_cascades', 'topic', 'irrpolicy',\n",
       "       'irrinterpretation', 'irrconstructive_tone'],\n",
       "      dtype='object')"
      ]
     },
     "execution_count": 106,
     "metadata": {},
     "output_type": "execute_result"
    }
   ],
   "source": [
    "all_df.columns"
   ]
  },
  {
   "cell_type": "markdown",
   "metadata": {},
   "source": [
    "### Check null values"
   ]
  },
  {
   "cell_type": "markdown",
   "metadata": {},
   "source": [
    "Check the number of null values by columns"
   ]
  },
  {
   "cell_type": "code",
   "execution_count": 107,
   "metadata": {},
   "outputs": [
    {
     "data": {
      "text/plain": [
       "background                                          3\n",
       "proposals                                           3\n",
       "time                                                3\n",
       "user_id                                             3\n",
       "user_email                                          3\n",
       "user_name                                           3\n",
       "comment_id                                        346\n",
       "response_id                                       148\n",
       "number_of_likes                                     0\n",
       "users_who_liked                                   263\n",
       "attachments                                       491\n",
       "comment                                           348\n",
       "response                                          146\n",
       "topic_1                                             4\n",
       "topic_2                                           147\n",
       "topic_3                                           358\n",
       "disagreement                                        0\n",
       "agreement                                           0\n",
       "simple_disagreement                                 0\n",
       "elaborated_disagreement                             0\n",
       "simple_agreement                                    0\n",
       "elaborated_agreement                                0\n",
       "idea_s                                             37\n",
       "number_of_ideas                                     1\n",
       "new_idea                                            0\n",
       "sourcing                                          330\n",
       "value_s                                           340\n",
       "topic_shift                                         0\n",
       "brainstorming                                       0\n",
       "blending                                            0\n",
       "building                                            0\n",
       "broadening                                          0\n",
       "fact                                                0\n",
       "value                                               0\n",
       "policy                                              0\n",
       "interpretation                                      0\n",
       "target_of_disagreement                            209\n",
       "target_of_agreement                               239\n",
       "gives_reason_s                                      0\n",
       "presents_evidence                                   0\n",
       "asks_question_s                                     0\n",
       "provides_information                                0\n",
       "clarifies_position_stance                           0\n",
       "responds_to_previous_comment                        0\n",
       "constructive_tone                                   0\n",
       "moderator_post                                      0\n",
       "acknowledges_problem                                0\n",
       "notes                                             398\n",
       "annotations_for_disagreement_new_idea_cascades    454\n",
       "topic                                               0\n",
       "irrpolicy                                         486\n",
       "irrinterpretation                                 486\n",
       "irrconstructive_tone                              486\n",
       "dtype: int64"
      ]
     },
     "execution_count": 107,
     "metadata": {},
     "output_type": "execute_result"
    }
   ],
   "source": [
    "all_df.isnull().sum()"
   ]
  },
  {
   "cell_type": "markdown",
   "metadata": {},
   "source": [
    "## RQ1. Predictors of disagreement"
   ]
  },
  {
   "cell_type": "markdown",
   "metadata": {},
   "source": [
    "### Define predictor variables for `disagreement`"
   ]
  },
  {
   "cell_type": "code",
   "execution_count": 284,
   "metadata": {},
   "outputs": [
    {
     "name": "stdout",
     "output_type": "stream",
     "text": [
      "In total 22 variables will be considered in the analysis of RQ1\n"
     ]
    }
   ],
   "source": [
    "predictors_disagreement = [\n",
    "    'number_of_likes', 'number_of_ideas', 'simple_disagreement', 'elaborated_disagreement',\n",
    "    'topic_shift', 'brainstorming', 'blending', 'building', 'broadening', 'fact',\n",
    "    'value', 'policy', 'interpretation', 'gives_reason_s', 'presents_evidence', 'asks_question_s',\n",
    "    'provides_information', 'clarifies_position_stance', 'responds_to_previous_comment', \n",
    "    'constructive_tone', 'moderator_post', 'acknowledges_problem'\n",
    "]\n",
    "print(f\"In total {len(predictors_disagreement)} variables will be considered in the analysis of RQ1\")"
   ]
  },
  {
   "cell_type": "markdown",
   "metadata": {},
   "source": [
    "### Select predictors and target variable"
   ]
  },
  {
   "cell_type": "code",
   "execution_count": 539,
   "metadata": {},
   "outputs": [
    {
     "data": {
      "text/plain": [
       "(491, 23)"
      ]
     },
     "execution_count": 539,
     "metadata": {},
     "output_type": "execute_result"
    }
   ],
   "source": [
    "rq1_df = all_df.loc[:,predictors_disagreement+['disagreement']]\n",
    "rq1_df.shape"
   ]
  },
  {
   "cell_type": "markdown",
   "metadata": {},
   "source": [
    "### Cast variables to numeric"
   ]
  },
  {
   "cell_type": "markdown",
   "metadata": {},
   "source": [
    "Some variables have the values `unclear` and `nan`, which need to be converted to numerical before casting the variable to this type."
   ]
  },
  {
   "cell_type": "code",
   "execution_count": 522,
   "metadata": {},
   "outputs": [],
   "source": [
    "numerical_predictors = ['number_of_likes', 'number_of_ideas']"
   ]
  },
  {
   "cell_type": "code",
   "execution_count": 540,
   "metadata": {},
   "outputs": [
    {
     "name": "stdout",
     "output_type": "stream",
     "text": [
      "Found the following invalid values {13, 6, 7} in 3 rows of the column simple_disagreement. Rows has been discarded.\n"
     ]
    }
   ],
   "source": [
    "for col in rq1_df.columns:\n",
    "    rq1_df.loc[rq1_df[col]=='unclear', col] = 0\n",
    "    rq1_df.loc[rq1_df[col].isna(), col] = 0\n",
    "    rq1_df[col] = pd.to_numeric(rq1_df[col], downcast='unsigned')\n",
    "    if col not in numerical_predictors:\n",
    "        unique_values = rq1_df[col].unique()\n",
    "        invalid_values = set(unique_values) - set([0,1])\n",
    "        if len(invalid_values) > 0:  # the column has invalid values                   \n",
    "            invalid_indexes = list(rq1_df.loc[~rq1_df[col].isin([0,1])].index)\n",
    "            if len(invalid_indexes) > 0:\n",
    "                print(f'Found the following invalid values {invalid_values} in {len(invalid_indexes)} rows of the column {col}. Rows has been discarded.')\n",
    "                rq1_df = rq1_df.drop(index=invalid_indexes)            "
   ]
  },
  {
   "cell_type": "code",
   "execution_count": 541,
   "metadata": {},
   "outputs": [
    {
     "data": {
      "text/plain": [
       "(488, 23)"
      ]
     },
     "execution_count": 541,
     "metadata": {},
     "output_type": "execute_result"
    }
   ],
   "source": [
    "rq1_df.shape"
   ]
  },
  {
   "cell_type": "code",
   "execution_count": 542,
   "metadata": {},
   "outputs": [
    {
     "name": "stdout",
     "output_type": "stream",
     "text": [
      "<class 'pandas.core.frame.DataFrame'>\n",
      "Int64Index: 488 entries, 0 to 489\n",
      "Data columns (total 23 columns):\n",
      " #   Column                        Non-Null Count  Dtype \n",
      "---  ------                        --------------  ----- \n",
      " 0   number_of_likes               488 non-null    uint8 \n",
      " 1   number_of_ideas               488 non-null    uint16\n",
      " 2   simple_disagreement           488 non-null    uint8 \n",
      " 3   elaborated_disagreement       488 non-null    uint8 \n",
      " 4   topic_shift                   488 non-null    uint8 \n",
      " 5   brainstorming                 488 non-null    uint8 \n",
      " 6   blending                      488 non-null    uint8 \n",
      " 7   building                      488 non-null    uint8 \n",
      " 8   broadening                    488 non-null    uint8 \n",
      " 9   fact                          488 non-null    uint8 \n",
      " 10  value                         488 non-null    uint8 \n",
      " 11  policy                        488 non-null    uint8 \n",
      " 12  interpretation                488 non-null    uint8 \n",
      " 13  gives_reason_s                488 non-null    uint8 \n",
      " 14  presents_evidence             488 non-null    uint8 \n",
      " 15  asks_question_s               488 non-null    uint8 \n",
      " 16  provides_information          488 non-null    uint8 \n",
      " 17  clarifies_position_stance     488 non-null    uint8 \n",
      " 18  responds_to_previous_comment  488 non-null    uint8 \n",
      " 19  constructive_tone             488 non-null    uint8 \n",
      " 20  moderator_post                488 non-null    uint8 \n",
      " 21  acknowledges_problem          488 non-null    uint8 \n",
      " 22  disagreement                  488 non-null    uint8 \n",
      "dtypes: uint16(1), uint8(22)\n",
      "memory usage: 15.2 KB\n"
     ]
    }
   ],
   "source": [
    "rq1_df.info()"
   ]
  },
  {
   "cell_type": "markdown",
   "metadata": {},
   "source": [
    "### Check independence between numerical variables"
   ]
  },
  {
   "cell_type": "markdown",
   "metadata": {},
   "source": [
    "We use Persons correlation to find out whether the numerical variables `number_of_likes` and `number_of_ideas` are correlated."
   ]
  },
  {
   "cell_type": "code",
   "execution_count": 543,
   "metadata": {},
   "outputs": [],
   "source": [
    "alpha_level = 0.05"
   ]
  },
  {
   "cell_type": "markdown",
   "metadata": {},
   "source": [
    "Distribution of `number_of_likes`"
   ]
  },
  {
   "cell_type": "code",
   "execution_count": 544,
   "metadata": {},
   "outputs": [
    {
     "data": {
      "text/plain": [
       "<matplotlib.axes._subplots.AxesSubplot at 0x7f76577af828>"
      ]
     },
     "execution_count": 544,
     "metadata": {},
     "output_type": "execute_result"
    },
    {
     "data": {
      "image/png": "[encoded data removed]",
      "text/plain": [
       "<Figure size 576x396 with 1 Axes>"
      ]
     },
     "metadata": {},
     "output_type": "display_data"
    }
   ],
   "source": [
    "rq1_df['number_of_likes'].hist()"
   ]
  },
  {
   "cell_type": "markdown",
   "metadata": {},
   "source": [
    "Distribution of `number_of_ideas`"
   ]
  },
  {
   "cell_type": "code",
   "execution_count": 545,
   "metadata": {},
   "outputs": [
    {
     "data": {
      "text/plain": [
       "<matplotlib.axes._subplots.AxesSubplot at 0x7f7689f2c048>"
      ]
     },
     "execution_count": 545,
     "metadata": {},
     "output_type": "execute_result"
    },
    {
     "data": {
      "image/png": "[encoded data removed]",
      "text/plain": [
       "<Figure size 576x396 with 1 Axes>"
      ]
     },
     "metadata": {},
     "output_type": "display_data"
    }
   ],
   "source": [
    "rq1_df['number_of_ideas'].hist()"
   ]
  },
  {
   "cell_type": "markdown",
   "metadata": {},
   "source": [
    "Because data are not distributed normally, a non-parametric correlation method is used"
   ]
  },
  {
   "cell_type": "code",
   "execution_count": 561,
   "metadata": {},
   "outputs": [],
   "source": [
    "pearson_stat, p_val = stats.spearmanr(rq1_df['number_of_likes'], rq1_df['number_of_ideas'])"
   ]
  },
  {
   "cell_type": "code",
   "execution_count": 563,
   "metadata": {},
   "outputs": [
    {
     "name": "stdout",
     "output_type": "stream",
     "text": [
      "Numerical variables are not independent, p-value: 0.011.\n"
     ]
    }
   ],
   "source": [
    "if p_val < alpha_level:\n",
    "    print(f'Numerical variables are not independent, p-value: {round(p_val,3)}.')\n",
    "else:\n",
    "    print(f'Numerical variables are independent, p-value: {round(p_val,3)}.')"
   ]
  },
  {
   "cell_type": "markdown",
   "metadata": {},
   "source": [
    "Numerical variables are not independent, so they cannot be included together in models."
   ]
  },
  {
   "cell_type": "markdown",
   "metadata": {},
   "source": [
    "### Check independence between numerical and categorical variables"
   ]
  },
  {
   "cell_type": "markdown",
   "metadata": {},
   "source": [
    "Persons correlation is employed to analyze correlation between numerical and categorical variables. Having dichotomous categorical variables, Persons correlation can be used [ref](https://www.researchgate.net/post/Can_I_use_Pearsons_correlation_coefficient_to_know_the_relation_between_perception_and_gender_age_income). "
   ]
  },
  {
   "cell_type": "code",
   "execution_count": 554,
   "metadata": {},
   "outputs": [],
   "source": [
    "independence_num_cat = pd.DataFrame(columns=numerical_predictors, index=predictors_disagreement)\n",
    "independence_num_cat_vars = defaultdict(list)\n",
    "for predictor_1 in numerical_predictors:    \n",
    "    for predictor_2 in predictors_disagreement:        \n",
    "        if predictor_2 == predictor_1:\n",
    "            continue\n",
    "        pearson_stat, p_val = stats.spearmanr(rq1_df[predictor_1],rq1_df[predictor_2])        \n",
    "        if p_val < alpha_level:\n",
    "            independence_num_cat.loc[predictor_2,predictor_1] = 'F'\n",
    "        else:\n",
    "            independence_num_cat.loc[predictor_2,predictor_1] = 'T'\n",
    "            independence_num_cat_vars[predictor_1].append(predictor_2)"
   ]
  },
  {
   "cell_type": "code",
   "execution_count": 556,
   "metadata": {},
   "outputs": [
    {
     "data": {
      "text/html": [
       "<div>\n",
       "<style scoped>\n",
       "    .dataframe tbody tr th:only-of-type {\n",
       "        vertical-align: middle;\n",
       "    }\n",
       "\n",
       "    .dataframe tbody tr th {\n",
       "        vertical-align: top;\n",
       "    }\n",
       "\n",
       "    .dataframe thead th {\n",
       "        text-align: right;\n",
       "    }\n",
       "</style>\n",
       "<table border=\"1\" class=\"dataframe\">\n",
       "  <thead>\n",
       "    <tr style=\"text-align: right;\">\n",
       "      <th></th>\n",
       "      <th>number_of_likes</th>\n",
       "      <th>number_of_ideas</th>\n",
       "    </tr>\n",
       "  </thead>\n",
       "  <tbody>\n",
       "    <tr>\n",
       "      <th>number_of_likes</th>\n",
       "      <td>NaN</td>\n",
       "      <td>F</td>\n",
       "    </tr>\n",
       "    <tr>\n",
       "      <th>number_of_ideas</th>\n",
       "      <td>F</td>\n",
       "      <td>NaN</td>\n",
       "    </tr>\n",
       "    <tr>\n",
       "      <th>simple_disagreement</th>\n",
       "      <td>T</td>\n",
       "      <td>F</td>\n",
       "    </tr>\n",
       "    <tr>\n",
       "      <th>elaborated_disagreement</th>\n",
       "      <td>F</td>\n",
       "      <td>F</td>\n",
       "    </tr>\n",
       "    <tr>\n",
       "      <th>topic_shift</th>\n",
       "      <td>F</td>\n",
       "      <td>F</td>\n",
       "    </tr>\n",
       "    <tr>\n",
       "      <th>brainstorming</th>\n",
       "      <td>F</td>\n",
       "      <td>F</td>\n",
       "    </tr>\n",
       "    <tr>\n",
       "      <th>blending</th>\n",
       "      <td>F</td>\n",
       "      <td>F</td>\n",
       "    </tr>\n",
       "    <tr>\n",
       "      <th>building</th>\n",
       "      <td>F</td>\n",
       "      <td>F</td>\n",
       "    </tr>\n",
       "    <tr>\n",
       "      <th>broadening</th>\n",
       "      <td>T</td>\n",
       "      <td>F</td>\n",
       "    </tr>\n",
       "    <tr>\n",
       "      <th>fact</th>\n",
       "      <td>F</td>\n",
       "      <td>T</td>\n",
       "    </tr>\n",
       "    <tr>\n",
       "      <th>value</th>\n",
       "      <td>T</td>\n",
       "      <td>F</td>\n",
       "    </tr>\n",
       "    <tr>\n",
       "      <th>policy</th>\n",
       "      <td>T</td>\n",
       "      <td>F</td>\n",
       "    </tr>\n",
       "    <tr>\n",
       "      <th>interpretation</th>\n",
       "      <td>F</td>\n",
       "      <td>F</td>\n",
       "    </tr>\n",
       "    <tr>\n",
       "      <th>gives_reason_s</th>\n",
       "      <td>F</td>\n",
       "      <td>F</td>\n",
       "    </tr>\n",
       "    <tr>\n",
       "      <th>presents_evidence</th>\n",
       "      <td>T</td>\n",
       "      <td>T</td>\n",
       "    </tr>\n",
       "    <tr>\n",
       "      <th>asks_question_s</th>\n",
       "      <td>F</td>\n",
       "      <td>T</td>\n",
       "    </tr>\n",
       "    <tr>\n",
       "      <th>provides_information</th>\n",
       "      <td>T</td>\n",
       "      <td>T</td>\n",
       "    </tr>\n",
       "    <tr>\n",
       "      <th>clarifies_position_stance</th>\n",
       "      <td>F</td>\n",
       "      <td>F</td>\n",
       "    </tr>\n",
       "    <tr>\n",
       "      <th>responds_to_previous_comment</th>\n",
       "      <td>F</td>\n",
       "      <td>T</td>\n",
       "    </tr>\n",
       "    <tr>\n",
       "      <th>constructive_tone</th>\n",
       "      <td>T</td>\n",
       "      <td>T</td>\n",
       "    </tr>\n",
       "    <tr>\n",
       "      <th>moderator_post</th>\n",
       "      <td>F</td>\n",
       "      <td>F</td>\n",
       "    </tr>\n",
       "    <tr>\n",
       "      <th>acknowledges_problem</th>\n",
       "      <td>T</td>\n",
       "      <td>F</td>\n",
       "    </tr>\n",
       "  </tbody>\n",
       "</table>\n",
       "</div>"
      ],
      "text/plain": [
       "                             number_of_likes number_of_ideas\n",
       "number_of_likes                          NaN               F\n",
       "number_of_ideas                            F             NaN\n",
       "simple_disagreement                        T               F\n",
       "elaborated_disagreement                    F               F\n",
       "topic_shift                                F               F\n",
       "brainstorming                              F               F\n",
       "blending                                   F               F\n",
       "building                                   F               F\n",
       "broadening                                 T               F\n",
       "fact                                       F               T\n",
       "value                                      T               F\n",
       "policy                                     T               F\n",
       "interpretation                             F               F\n",
       "gives_reason_s                             F               F\n",
       "presents_evidence                          T               T\n",
       "asks_question_s                            F               T\n",
       "provides_information                       T               T\n",
       "clarifies_position_stance                  F               F\n",
       "responds_to_previous_comment               F               T\n",
       "constructive_tone                          T               T\n",
       "moderator_post                             F               F\n",
       "acknowledges_problem                       T               F"
      ]
     },
     "execution_count": 556,
     "metadata": {},
     "output_type": "execute_result"
    }
   ],
   "source": [
    "independence_num_cat"
   ]
  },
  {
   "cell_type": "markdown",
   "metadata": {},
   "source": [
    "`number_of_likes` is independent from"
   ]
  },
  {
   "cell_type": "code",
   "execution_count": 558,
   "metadata": {},
   "outputs": [
    {
     "data": {
      "text/plain": [
       "['simple_disagreement',\n",
       " 'broadening',\n",
       " 'value',\n",
       " 'policy',\n",
       " 'presents_evidence',\n",
       " 'provides_information',\n",
       " 'constructive_tone',\n",
       " 'acknowledges_problem']"
      ]
     },
     "execution_count": 558,
     "metadata": {},
     "output_type": "execute_result"
    }
   ],
   "source": [
    "independence_num_cat_vars['number_of_likes']"
   ]
  },
  {
   "cell_type": "markdown",
   "metadata": {},
   "source": [
    "`number_of_ideas` is independent from"
   ]
  },
  {
   "cell_type": "code",
   "execution_count": 559,
   "metadata": {},
   "outputs": [
    {
     "data": {
      "text/plain": [
       "['fact',\n",
       " 'presents_evidence',\n",
       " 'asks_question_s',\n",
       " 'provides_information',\n",
       " 'responds_to_previous_comment',\n",
       " 'constructive_tone']"
      ]
     },
     "execution_count": 559,
     "metadata": {},
     "output_type": "execute_result"
    }
   ],
   "source": [
    "independence_num_cat_vars['number_of_ideas']"
   ]
  },
  {
   "cell_type": "markdown",
   "metadata": {},
   "source": [
    "### Cast categorical variables to category type"
   ]
  },
  {
   "cell_type": "code",
   "execution_count": 564,
   "metadata": {},
   "outputs": [],
   "source": [
    "for col in rq1_df.columns:\n",
    "    if col not in numerical_predictors:\n",
    "        rq1_df[col] = rq1_df[col].astype('category')"
   ]
  },
  {
   "cell_type": "code",
   "execution_count": 565,
   "metadata": {},
   "outputs": [
    {
     "name": "stdout",
     "output_type": "stream",
     "text": [
      "<class 'pandas.core.frame.DataFrame'>\n",
      "Int64Index: 488 entries, 0 to 489\n",
      "Data columns (total 23 columns):\n",
      " #   Column                        Non-Null Count  Dtype   \n",
      "---  ------                        --------------  -----   \n",
      " 0   number_of_likes               488 non-null    uint8   \n",
      " 1   number_of_ideas               488 non-null    uint16  \n",
      " 2   simple_disagreement           488 non-null    category\n",
      " 3   elaborated_disagreement       488 non-null    category\n",
      " 4   topic_shift                   488 non-null    category\n",
      " 5   brainstorming                 488 non-null    category\n",
      " 6   blending                      488 non-null    category\n",
      " 7   building                      488 non-null    category\n",
      " 8   broadening                    488 non-null    category\n",
      " 9   fact                          488 non-null    category\n",
      " 10  value                         488 non-null    category\n",
      " 11  policy                        488 non-null    category\n",
      " 12  interpretation                488 non-null    category\n",
      " 13  gives_reason_s                488 non-null    category\n",
      " 14  presents_evidence             488 non-null    category\n",
      " 15  asks_question_s               488 non-null    category\n",
      " 16  provides_information          488 non-null    category\n",
      " 17  clarifies_position_stance     488 non-null    category\n",
      " 18  responds_to_previous_comment  488 non-null    category\n",
      " 19  constructive_tone             488 non-null    category\n",
      " 20  moderator_post                488 non-null    category\n",
      " 21  acknowledges_problem          488 non-null    category\n",
      " 22  disagreement                  488 non-null    category\n",
      "dtypes: category(21), uint16(1), uint8(1)\n",
      "memory usage: 17.2 KB\n"
     ]
    }
   ],
   "source": [
    "rq1_df.info()"
   ]
  },
  {
   "cell_type": "markdown",
   "metadata": {},
   "source": [
    "### Check independence of categorial variables"
   ]
  },
  {
   "cell_type": "code",
   "execution_count": 566,
   "metadata": {},
   "outputs": [],
   "source": [
    "independece_analysis = pd.DataFrame(columns=predictors_disagreement, index=predictors_disagreement)\n",
    "for predictor_1 in predictors_disagreement:\n",
    "    if predictor_1 in numerical_predictors:\n",
    "        continue\n",
    "    for predictor_2 in predictors_disagreement:        \n",
    "        if predictor_2 in numerical_predictors:\n",
    "            continue\n",
    "        if predictor_2 == predictor_1:\n",
    "            continue\n",
    "        cross_tab = pd.crosstab(rq1_df[predictor_1],rq1_df[predictor_2])\n",
    "        chi2_stat, p_val, dof, ex = stats.chi2_contingency(cross_tab)\n",
    "        if p_val < alpha_level:\n",
    "            independece_analysis.loc[predictor_1,predictor_2] = 'F'\n",
    "        else:\n",
    "            independece_analysis.loc[predictor_1,predictor_2] = 'T'"
   ]
  },
  {
   "cell_type": "code",
   "execution_count": 567,
   "metadata": {},
   "outputs": [
    {
     "data": {
      "text/html": [
       "<div>\n",
       "<style scoped>\n",
       "    .dataframe tbody tr th:only-of-type {\n",
       "        vertical-align: middle;\n",
       "    }\n",
       "\n",
       "    .dataframe tbody tr th {\n",
       "        vertical-align: top;\n",
       "    }\n",
       "\n",
       "    .dataframe thead th {\n",
       "        text-align: right;\n",
       "    }\n",
       "</style>\n",
       "<table border=\"1\" class=\"dataframe\">\n",
       "  <thead>\n",
       "    <tr style=\"text-align: right;\">\n",
       "      <th></th>\n",
       "      <th>simple_disagreement</th>\n",
       "      <th>elaborated_disagreement</th>\n",
       "      <th>topic_shift</th>\n",
       "      <th>brainstorming</th>\n",
       "      <th>blending</th>\n",
       "      <th>building</th>\n",
       "      <th>broadening</th>\n",
       "      <th>fact</th>\n",
       "      <th>value</th>\n",
       "      <th>policy</th>\n",
       "      <th>interpretation</th>\n",
       "      <th>gives_reason_s</th>\n",
       "      <th>presents_evidence</th>\n",
       "      <th>asks_question_s</th>\n",
       "      <th>provides_information</th>\n",
       "      <th>clarifies_position_stance</th>\n",
       "      <th>responds_to_previous_comment</th>\n",
       "      <th>constructive_tone</th>\n",
       "      <th>moderator_post</th>\n",
       "      <th>acknowledges_problem</th>\n",
       "    </tr>\n",
       "  </thead>\n",
       "  <tbody>\n",
       "    <tr>\n",
       "      <th>simple_disagreement</th>\n",
       "      <td>NaN</td>\n",
       "      <td>F</td>\n",
       "      <td>T</td>\n",
       "      <td>F</td>\n",
       "      <td>T</td>\n",
       "      <td>T</td>\n",
       "      <td>F</td>\n",
       "      <td>T</td>\n",
       "      <td>F</td>\n",
       "      <td>F</td>\n",
       "      <td>T</td>\n",
       "      <td>F</td>\n",
       "      <td>T</td>\n",
       "      <td>T</td>\n",
       "      <td>T</td>\n",
       "      <td>T</td>\n",
       "      <td>T</td>\n",
       "      <td>F</td>\n",
       "      <td>T</td>\n",
       "      <td>F</td>\n",
       "    </tr>\n",
       "    <tr>\n",
       "      <th>elaborated_disagreement</th>\n",
       "      <td>F</td>\n",
       "      <td>NaN</td>\n",
       "      <td>T</td>\n",
       "      <td>F</td>\n",
       "      <td>T</td>\n",
       "      <td>F</td>\n",
       "      <td>T</td>\n",
       "      <td>F</td>\n",
       "      <td>F</td>\n",
       "      <td>F</td>\n",
       "      <td>F</td>\n",
       "      <td>F</td>\n",
       "      <td>F</td>\n",
       "      <td>F</td>\n",
       "      <td>T</td>\n",
       "      <td>F</td>\n",
       "      <td>F</td>\n",
       "      <td>T</td>\n",
       "      <td>F</td>\n",
       "      <td>T</td>\n",
       "    </tr>\n",
       "    <tr>\n",
       "      <th>topic_shift</th>\n",
       "      <td>T</td>\n",
       "      <td>T</td>\n",
       "      <td>NaN</td>\n",
       "      <td>F</td>\n",
       "      <td>T</td>\n",
       "      <td>F</td>\n",
       "      <td>F</td>\n",
       "      <td>T</td>\n",
       "      <td>T</td>\n",
       "      <td>F</td>\n",
       "      <td>T</td>\n",
       "      <td>T</td>\n",
       "      <td>T</td>\n",
       "      <td>T</td>\n",
       "      <td>T</td>\n",
       "      <td>F</td>\n",
       "      <td>F</td>\n",
       "      <td>T</td>\n",
       "      <td>T</td>\n",
       "      <td>T</td>\n",
       "    </tr>\n",
       "    <tr>\n",
       "      <th>brainstorming</th>\n",
       "      <td>F</td>\n",
       "      <td>F</td>\n",
       "      <td>F</td>\n",
       "      <td>NaN</td>\n",
       "      <td>F</td>\n",
       "      <td>T</td>\n",
       "      <td>F</td>\n",
       "      <td>T</td>\n",
       "      <td>T</td>\n",
       "      <td>T</td>\n",
       "      <td>T</td>\n",
       "      <td>F</td>\n",
       "      <td>T</td>\n",
       "      <td>T</td>\n",
       "      <td>T</td>\n",
       "      <td>T</td>\n",
       "      <td>F</td>\n",
       "      <td>F</td>\n",
       "      <td>T</td>\n",
       "      <td>T</td>\n",
       "    </tr>\n",
       "    <tr>\n",
       "      <th>blending</th>\n",
       "      <td>T</td>\n",
       "      <td>T</td>\n",
       "      <td>T</td>\n",
       "      <td>F</td>\n",
       "      <td>NaN</td>\n",
       "      <td>T</td>\n",
       "      <td>T</td>\n",
       "      <td>T</td>\n",
       "      <td>F</td>\n",
       "      <td>F</td>\n",
       "      <td>T</td>\n",
       "      <td>F</td>\n",
       "      <td>T</td>\n",
       "      <td>F</td>\n",
       "      <td>T</td>\n",
       "      <td>T</td>\n",
       "      <td>F</td>\n",
       "      <td>T</td>\n",
       "      <td>T</td>\n",
       "      <td>F</td>\n",
       "    </tr>\n",
       "    <tr>\n",
       "      <th>building</th>\n",
       "      <td>T</td>\n",
       "      <td>F</td>\n",
       "      <td>F</td>\n",
       "      <td>T</td>\n",
       "      <td>T</td>\n",
       "      <td>NaN</td>\n",
       "      <td>T</td>\n",
       "      <td>F</td>\n",
       "      <td>T</td>\n",
       "      <td>F</td>\n",
       "      <td>F</td>\n",
       "      <td>F</td>\n",
       "      <td>F</td>\n",
       "      <td>F</td>\n",
       "      <td>F</td>\n",
       "      <td>F</td>\n",
       "      <td>F</td>\n",
       "      <td>T</td>\n",
       "      <td>F</td>\n",
       "      <td>T</td>\n",
       "    </tr>\n",
       "    <tr>\n",
       "      <th>broadening</th>\n",
       "      <td>F</td>\n",
       "      <td>T</td>\n",
       "      <td>F</td>\n",
       "      <td>F</td>\n",
       "      <td>T</td>\n",
       "      <td>T</td>\n",
       "      <td>NaN</td>\n",
       "      <td>T</td>\n",
       "      <td>F</td>\n",
       "      <td>T</td>\n",
       "      <td>T</td>\n",
       "      <td>F</td>\n",
       "      <td>F</td>\n",
       "      <td>T</td>\n",
       "      <td>F</td>\n",
       "      <td>T</td>\n",
       "      <td>T</td>\n",
       "      <td>T</td>\n",
       "      <td>F</td>\n",
       "      <td>F</td>\n",
       "    </tr>\n",
       "    <tr>\n",
       "      <th>fact</th>\n",
       "      <td>T</td>\n",
       "      <td>F</td>\n",
       "      <td>T</td>\n",
       "      <td>T</td>\n",
       "      <td>T</td>\n",
       "      <td>F</td>\n",
       "      <td>T</td>\n",
       "      <td>NaN</td>\n",
       "      <td>T</td>\n",
       "      <td>T</td>\n",
       "      <td>F</td>\n",
       "      <td>F</td>\n",
       "      <td>F</td>\n",
       "      <td>T</td>\n",
       "      <td>T</td>\n",
       "      <td>F</td>\n",
       "      <td>F</td>\n",
       "      <td>T</td>\n",
       "      <td>T</td>\n",
       "      <td>T</td>\n",
       "    </tr>\n",
       "    <tr>\n",
       "      <th>value</th>\n",
       "      <td>F</td>\n",
       "      <td>F</td>\n",
       "      <td>T</td>\n",
       "      <td>T</td>\n",
       "      <td>F</td>\n",
       "      <td>T</td>\n",
       "      <td>F</td>\n",
       "      <td>T</td>\n",
       "      <td>NaN</td>\n",
       "      <td>F</td>\n",
       "      <td>F</td>\n",
       "      <td>F</td>\n",
       "      <td>F</td>\n",
       "      <td>T</td>\n",
       "      <td>T</td>\n",
       "      <td>T</td>\n",
       "      <td>T</td>\n",
       "      <td>T</td>\n",
       "      <td>T</td>\n",
       "      <td>F</td>\n",
       "    </tr>\n",
       "    <tr>\n",
       "      <th>policy</th>\n",
       "      <td>F</td>\n",
       "      <td>F</td>\n",
       "      <td>F</td>\n",
       "      <td>T</td>\n",
       "      <td>F</td>\n",
       "      <td>F</td>\n",
       "      <td>T</td>\n",
       "      <td>T</td>\n",
       "      <td>F</td>\n",
       "      <td>NaN</td>\n",
       "      <td>T</td>\n",
       "      <td>F</td>\n",
       "      <td>T</td>\n",
       "      <td>T</td>\n",
       "      <td>F</td>\n",
       "      <td>T</td>\n",
       "      <td>F</td>\n",
       "      <td>T</td>\n",
       "      <td>F</td>\n",
       "      <td>F</td>\n",
       "    </tr>\n",
       "    <tr>\n",
       "      <th>interpretation</th>\n",
       "      <td>T</td>\n",
       "      <td>F</td>\n",
       "      <td>T</td>\n",
       "      <td>T</td>\n",
       "      <td>T</td>\n",
       "      <td>F</td>\n",
       "      <td>T</td>\n",
       "      <td>F</td>\n",
       "      <td>F</td>\n",
       "      <td>T</td>\n",
       "      <td>NaN</td>\n",
       "      <td>F</td>\n",
       "      <td>T</td>\n",
       "      <td>T</td>\n",
       "      <td>T</td>\n",
       "      <td>F</td>\n",
       "      <td>F</td>\n",
       "      <td>T</td>\n",
       "      <td>T</td>\n",
       "      <td>T</td>\n",
       "    </tr>\n",
       "    <tr>\n",
       "      <th>gives_reason_s</th>\n",
       "      <td>F</td>\n",
       "      <td>F</td>\n",
       "      <td>T</td>\n",
       "      <td>F</td>\n",
       "      <td>F</td>\n",
       "      <td>F</td>\n",
       "      <td>F</td>\n",
       "      <td>F</td>\n",
       "      <td>F</td>\n",
       "      <td>F</td>\n",
       "      <td>F</td>\n",
       "      <td>NaN</td>\n",
       "      <td>F</td>\n",
       "      <td>F</td>\n",
       "      <td>F</td>\n",
       "      <td>F</td>\n",
       "      <td>T</td>\n",
       "      <td>T</td>\n",
       "      <td>F</td>\n",
       "      <td>F</td>\n",
       "    </tr>\n",
       "    <tr>\n",
       "      <th>presents_evidence</th>\n",
       "      <td>T</td>\n",
       "      <td>F</td>\n",
       "      <td>T</td>\n",
       "      <td>T</td>\n",
       "      <td>T</td>\n",
       "      <td>F</td>\n",
       "      <td>F</td>\n",
       "      <td>F</td>\n",
       "      <td>F</td>\n",
       "      <td>T</td>\n",
       "      <td>T</td>\n",
       "      <td>F</td>\n",
       "      <td>NaN</td>\n",
       "      <td>T</td>\n",
       "      <td>T</td>\n",
       "      <td>T</td>\n",
       "      <td>T</td>\n",
       "      <td>T</td>\n",
       "      <td>T</td>\n",
       "      <td>T</td>\n",
       "    </tr>\n",
       "    <tr>\n",
       "      <th>asks_question_s</th>\n",
       "      <td>T</td>\n",
       "      <td>F</td>\n",
       "      <td>T</td>\n",
       "      <td>T</td>\n",
       "      <td>F</td>\n",
       "      <td>F</td>\n",
       "      <td>T</td>\n",
       "      <td>T</td>\n",
       "      <td>T</td>\n",
       "      <td>T</td>\n",
       "      <td>T</td>\n",
       "      <td>F</td>\n",
       "      <td>T</td>\n",
       "      <td>NaN</td>\n",
       "      <td>T</td>\n",
       "      <td>F</td>\n",
       "      <td>T</td>\n",
       "      <td>T</td>\n",
       "      <td>T</td>\n",
       "      <td>F</td>\n",
       "    </tr>\n",
       "    <tr>\n",
       "      <th>provides_information</th>\n",
       "      <td>T</td>\n",
       "      <td>T</td>\n",
       "      <td>T</td>\n",
       "      <td>T</td>\n",
       "      <td>T</td>\n",
       "      <td>F</td>\n",
       "      <td>F</td>\n",
       "      <td>T</td>\n",
       "      <td>T</td>\n",
       "      <td>F</td>\n",
       "      <td>T</td>\n",
       "      <td>F</td>\n",
       "      <td>T</td>\n",
       "      <td>T</td>\n",
       "      <td>NaN</td>\n",
       "      <td>T</td>\n",
       "      <td>T</td>\n",
       "      <td>T</td>\n",
       "      <td>F</td>\n",
       "      <td>T</td>\n",
       "    </tr>\n",
       "    <tr>\n",
       "      <th>clarifies_position_stance</th>\n",
       "      <td>T</td>\n",
       "      <td>F</td>\n",
       "      <td>F</td>\n",
       "      <td>T</td>\n",
       "      <td>T</td>\n",
       "      <td>F</td>\n",
       "      <td>T</td>\n",
       "      <td>F</td>\n",
       "      <td>T</td>\n",
       "      <td>T</td>\n",
       "      <td>F</td>\n",
       "      <td>F</td>\n",
       "      <td>T</td>\n",
       "      <td>F</td>\n",
       "      <td>T</td>\n",
       "      <td>NaN</td>\n",
       "      <td>F</td>\n",
       "      <td>T</td>\n",
       "      <td>T</td>\n",
       "      <td>T</td>\n",
       "    </tr>\n",
       "    <tr>\n",
       "      <th>responds_to_previous_comment</th>\n",
       "      <td>T</td>\n",
       "      <td>F</td>\n",
       "      <td>F</td>\n",
       "      <td>F</td>\n",
       "      <td>F</td>\n",
       "      <td>F</td>\n",
       "      <td>T</td>\n",
       "      <td>F</td>\n",
       "      <td>T</td>\n",
       "      <td>F</td>\n",
       "      <td>F</td>\n",
       "      <td>T</td>\n",
       "      <td>T</td>\n",
       "      <td>T</td>\n",
       "      <td>T</td>\n",
       "      <td>F</td>\n",
       "      <td>NaN</td>\n",
       "      <td>T</td>\n",
       "      <td>F</td>\n",
       "      <td>F</td>\n",
       "    </tr>\n",
       "    <tr>\n",
       "      <th>constructive_tone</th>\n",
       "      <td>F</td>\n",
       "      <td>T</td>\n",
       "      <td>T</td>\n",
       "      <td>F</td>\n",
       "      <td>T</td>\n",
       "      <td>T</td>\n",
       "      <td>T</td>\n",
       "      <td>T</td>\n",
       "      <td>T</td>\n",
       "      <td>T</td>\n",
       "      <td>T</td>\n",
       "      <td>T</td>\n",
       "      <td>T</td>\n",
       "      <td>T</td>\n",
       "      <td>T</td>\n",
       "      <td>T</td>\n",
       "      <td>T</td>\n",
       "      <td>NaN</td>\n",
       "      <td>T</td>\n",
       "      <td>T</td>\n",
       "    </tr>\n",
       "    <tr>\n",
       "      <th>moderator_post</th>\n",
       "      <td>T</td>\n",
       "      <td>F</td>\n",
       "      <td>T</td>\n",
       "      <td>T</td>\n",
       "      <td>T</td>\n",
       "      <td>F</td>\n",
       "      <td>F</td>\n",
       "      <td>T</td>\n",
       "      <td>T</td>\n",
       "      <td>F</td>\n",
       "      <td>T</td>\n",
       "      <td>F</td>\n",
       "      <td>T</td>\n",
       "      <td>T</td>\n",
       "      <td>F</td>\n",
       "      <td>T</td>\n",
       "      <td>F</td>\n",
       "      <td>T</td>\n",
       "      <td>NaN</td>\n",
       "      <td>T</td>\n",
       "    </tr>\n",
       "    <tr>\n",
       "      <th>acknowledges_problem</th>\n",
       "      <td>F</td>\n",
       "      <td>T</td>\n",
       "      <td>T</td>\n",
       "      <td>T</td>\n",
       "      <td>F</td>\n",
       "      <td>T</td>\n",
       "      <td>F</td>\n",
       "      <td>T</td>\n",
       "      <td>F</td>\n",
       "      <td>F</td>\n",
       "      <td>T</td>\n",
       "      <td>F</td>\n",
       "      <td>T</td>\n",
       "      <td>F</td>\n",
       "      <td>T</td>\n",
       "      <td>T</td>\n",
       "      <td>F</td>\n",
       "      <td>T</td>\n",
       "      <td>T</td>\n",
       "      <td>NaN</td>\n",
       "    </tr>\n",
       "  </tbody>\n",
       "</table>\n",
       "</div>"
      ],
      "text/plain": [
       "                             simple_disagreement elaborated_disagreement  \\\n",
       "simple_disagreement                          NaN                       F   \n",
       "elaborated_disagreement                        F                     NaN   \n",
       "topic_shift                                    T                       T   \n",
       "brainstorming                                  F                       F   \n",
       "blending                                       T                       T   \n",
       "building                                       T                       F   \n",
       "broadening                                     F                       T   \n",
       "fact                                           T                       F   \n",
       "value                                          F                       F   \n",
       "policy                                         F                       F   \n",
       "interpretation                                 T                       F   \n",
       "gives_reason_s                                 F                       F   \n",
       "presents_evidence                              T                       F   \n",
       "asks_question_s                                T                       F   \n",
       "provides_information                           T                       T   \n",
       "clarifies_position_stance                      T                       F   \n",
       "responds_to_previous_comment                   T                       F   \n",
       "constructive_tone                              F                       T   \n",
       "moderator_post                                 T                       F   \n",
       "acknowledges_problem                           F                       T   \n",
       "\n",
       "                             topic_shift brainstorming blending building  \\\n",
       "simple_disagreement                    T             F        T        T   \n",
       "elaborated_disagreement                T             F        T        F   \n",
       "topic_shift                          NaN             F        T        F   \n",
       "brainstorming                          F           NaN        F        T   \n",
       "blending                               T             F      NaN        T   \n",
       "building                               F             T        T      NaN   \n",
       "broadening                             F             F        T        T   \n",
       "fact                                   T             T        T        F   \n",
       "value                                  T             T        F        T   \n",
       "policy                                 F             T        F        F   \n",
       "interpretation                         T             T        T        F   \n",
       "gives_reason_s                         T             F        F        F   \n",
       "presents_evidence                      T             T        T        F   \n",
       "asks_question_s                        T             T        F        F   \n",
       "provides_information                   T             T        T        F   \n",
       "clarifies_position_stance              F             T        T        F   \n",
       "responds_to_previous_comment           F             F        F        F   \n",
       "constructive_tone                      T             F        T        T   \n",
       "moderator_post                         T             T        T        F   \n",
       "acknowledges_problem                   T             T        F        T   \n",
       "\n",
       "                             broadening fact value policy interpretation  \\\n",
       "simple_disagreement                   F    T     F      F              T   \n",
       "elaborated_disagreement               T    F     F      F              F   \n",
       "topic_shift                           F    T     T      F              T   \n",
       "brainstorming                         F    T     T      T              T   \n",
       "blending                              T    T     F      F              T   \n",
       "building                              T    F     T      F              F   \n",
       "broadening                          NaN    T     F      T              T   \n",
       "fact                                  T  NaN     T      T              F   \n",
       "value                                 F    T   NaN      F              F   \n",
       "policy                                T    T     F    NaN              T   \n",
       "interpretation                        T    F     F      T            NaN   \n",
       "gives_reason_s                        F    F     F      F              F   \n",
       "presents_evidence                     F    F     F      T              T   \n",
       "asks_question_s                       T    T     T      T              T   \n",
       "provides_information                  F    T     T      F              T   \n",
       "clarifies_position_stance             T    F     T      T              F   \n",
       "responds_to_previous_comment          T    F     T      F              F   \n",
       "constructive_tone                     T    T     T      T              T   \n",
       "moderator_post                        F    T     T      F              T   \n",
       "acknowledges_problem                  F    T     F      F              T   \n",
       "\n",
       "                             gives_reason_s presents_evidence asks_question_s  \\\n",
       "simple_disagreement                       F                 T               T   \n",
       "elaborated_disagreement                   F                 F               F   \n",
       "topic_shift                               T                 T               T   \n",
       "brainstorming                             F                 T               T   \n",
       "blending                                  F                 T               F   \n",
       "building                                  F                 F               F   \n",
       "broadening                                F                 F               T   \n",
       "fact                                      F                 F               T   \n",
       "value                                     F                 F               T   \n",
       "policy                                    F                 T               T   \n",
       "interpretation                            F                 T               T   \n",
       "gives_reason_s                          NaN                 F               F   \n",
       "presents_evidence                         F               NaN               T   \n",
       "asks_question_s                           F                 T             NaN   \n",
       "provides_information                      F                 T               T   \n",
       "clarifies_position_stance                 F                 T               F   \n",
       "responds_to_previous_comment              T                 T               T   \n",
       "constructive_tone                         T                 T               T   \n",
       "moderator_post                            F                 T               T   \n",
       "acknowledges_problem                      F                 T               F   \n",
       "\n",
       "                             provides_information clarifies_position_stance  \\\n",
       "simple_disagreement                             T                         T   \n",
       "elaborated_disagreement                         T                         F   \n",
       "topic_shift                                     T                         F   \n",
       "brainstorming                                   T                         T   \n",
       "blending                                        T                         T   \n",
       "building                                        F                         F   \n",
       "broadening                                      F                         T   \n",
       "fact                                            T                         F   \n",
       "value                                           T                         T   \n",
       "policy                                          F                         T   \n",
       "interpretation                                  T                         F   \n",
       "gives_reason_s                                  F                         F   \n",
       "presents_evidence                               T                         T   \n",
       "asks_question_s                                 T                         F   \n",
       "provides_information                          NaN                         T   \n",
       "clarifies_position_stance                       T                       NaN   \n",
       "responds_to_previous_comment                    T                         F   \n",
       "constructive_tone                               T                         T   \n",
       "moderator_post                                  F                         T   \n",
       "acknowledges_problem                            T                         T   \n",
       "\n",
       "                             responds_to_previous_comment constructive_tone  \\\n",
       "simple_disagreement                                     T                 F   \n",
       "elaborated_disagreement                                 F                 T   \n",
       "topic_shift                                             F                 T   \n",
       "brainstorming                                           F                 F   \n",
       "blending                                                F                 T   \n",
       "building                                                F                 T   \n",
       "broadening                                              T                 T   \n",
       "fact                                                    F                 T   \n",
       "value                                                   T                 T   \n",
       "policy                                                  F                 T   \n",
       "interpretation                                          F                 T   \n",
       "gives_reason_s                                          T                 T   \n",
       "presents_evidence                                       T                 T   \n",
       "asks_question_s                                         T                 T   \n",
       "provides_information                                    T                 T   \n",
       "clarifies_position_stance                               F                 T   \n",
       "responds_to_previous_comment                          NaN                 T   \n",
       "constructive_tone                                       T               NaN   \n",
       "moderator_post                                          F                 T   \n",
       "acknowledges_problem                                    F                 T   \n",
       "\n",
       "                             moderator_post acknowledges_problem  \n",
       "simple_disagreement                       T                    F  \n",
       "elaborated_disagreement                   F                    T  \n",
       "topic_shift                               T                    T  \n",
       "brainstorming                             T                    T  \n",
       "blending                                  T                    F  \n",
       "building                                  F                    T  \n",
       "broadening                                F                    F  \n",
       "fact                                      T                    T  \n",
       "value                                     T                    F  \n",
       "policy                                    F                    F  \n",
       "interpretation                            T                    T  \n",
       "gives_reason_s                            F                    F  \n",
       "presents_evidence                         T                    T  \n",
       "asks_question_s                           T                    F  \n",
       "provides_information                      F                    T  \n",
       "clarifies_position_stance                 T                    T  \n",
       "responds_to_previous_comment              F                    F  \n",
       "constructive_tone                         T                    T  \n",
       "moderator_post                          NaN                    T  \n",
       "acknowledges_problem                      T                  NaN  "
      ]
     },
     "execution_count": 567,
     "metadata": {},
     "output_type": "execute_result"
    }
   ],
   "source": [
    "independece_analysis.drop(columns=numerical_predictors, index=numerical_predictors, inplace=True)\n",
    "independece_analysis"
   ]
  },
  {
   "cell_type": "markdown",
   "metadata": {},
   "source": [
    "### Fit models based on independent predictors"
   ]
  },
  {
   "cell_type": "markdown",
   "metadata": {},
   "source": [
    "Based on the previous analysis of independencie between categorical variables, predictors will be selected."
   ]
  },
  {
   "cell_type": "code",
   "execution_count": 605,
   "metadata": {},
   "outputs": [],
   "source": [
    "possible_models = [None]*len(independece_analysis.columns)\n",
    "idx = 0\n",
    "for col in independece_analysis.columns:\n",
    "    possible_models[idx] = [col]\n",
    "    for row in independece_analysis.index:\n",
    "        if independece_analysis.loc[row, col] == 'T':\n",
    "            possible_models[idx].append(row)\n",
    "    # Add independent numerical variables\n",
    "    for num_var, ind_cat_vars in independence_num_cat_vars.items():        \n",
    "        if col in ind_cat_vars:\n",
    "            possible_models[idx].append(num_var)\n",
    "            # After adding a numerical variable to the model\n",
    "            # we break loop because both numerical variables \n",
    "            # cannot be together in a model since they are\n",
    "            # not independent\n",
    "            break\n",
    "    idx += 1"
   ]
  },
  {
   "cell_type": "code",
   "execution_count": 606,
   "metadata": {},
   "outputs": [
    {
     "name": "stdout",
     "output_type": "stream",
     "text": [
      "There are 20 possible models\n"
     ]
    }
   ],
   "source": [
    "print(f'There are {len(possible_models)} possible models')"
   ]
  },
  {
   "cell_type": "markdown",
   "metadata": {},
   "source": [
    "Create formulas for the possible models"
   ]
  },
  {
   "cell_type": "code",
   "execution_count": 621,
   "metadata": {},
   "outputs": [],
   "source": [
    "models = []\n",
    "for possible_model in possible_models:\n",
    "    formula = f'disagreement ~ '\n",
    "    num_predictors = len(possible_model)\n",
    "    for idx, predictor in enumerate(possible_model):\n",
    "        if predictor not in numerical_predictors:\n",
    "            formula += f' C({predictor})'\n",
    "        else:\n",
    "            formula += f' {predictor}'\n",
    "        if idx < (len(possible_model)-1):\n",
    "            formula += ' + '\n",
    "    models.append({'formula': formula, 'num_predictors': num_predictors, 'predictors': possible_model})"
   ]
  },
  {
   "cell_type": "markdown",
   "metadata": {},
   "source": [
    "#### Fit models"
   ]
  },
  {
   "cell_type": "code",
   "execution_count": 623,
   "metadata": {},
   "outputs": [
    {
     "name": "stderr",
     "output_type": "stream",
     "text": [
      "/home/jorge/Dropbox/Data Analyses/disagreement/env/lib/python3.7/site-packages/statsmodels/genmod/families/family.py:946: RuntimeWarning: divide by zero encountered in true_divide\n",
      "  special.gammaln(n - y + 1) + y * np.log(mu / (1 - mu)) +\n",
      "/home/jorge/Dropbox/Data Analyses/disagreement/env/lib/python3.7/site-packages/statsmodels/genmod/families/family.py:947: RuntimeWarning: divide by zero encountered in log\n",
      "  n * np.log(1 - mu)) * var_weights\n",
      "/home/jorge/Dropbox/Data Analyses/disagreement/env/lib/python3.7/site-packages/statsmodels/genmod/families/family.py:947: RuntimeWarning: invalid value encountered in add\n",
      "  n * np.log(1 - mu)) * var_weights\n"
     ]
    },
    {
     "name": "stdout",
     "output_type": "stream",
     "text": [
      "Error: Perfect separation detected, results not available.\n",
      "\n",
      "Model:\n",
      "disagreement ~  C(provides_information) +  C(simple_disagreement) +  C(elaborated_disagreement) +  C(topic_shift) +  C(brainstorming) +  C(blending) +  C(fact) +  C(value) +  C(interpretation) +  C(presents_evidence) +  C(asks_question_s) +  C(clarifies_position_stance) +  C(responds_to_previous_comment) +  C(constructive_tone) +  C(acknowledges_problem) +  number_of_likes\n",
      "\n"
     ]
    }
   ],
   "source": [
    "idx_not_fitted_models = []\n",
    "for idx, model_dict in enumerate(models):\n",
    "    try:\n",
    "        formula = model_dict['formula']\n",
    "        model = glm(formula, data = rq1_df, family = sm.families.Binomial()).fit()\n",
    "        model_dict['model'] = model\n",
    "        model_dict['deviance'] = model.deviance\n",
    "        model_dict['log_likelyhood'] = model.llf \n",
    "        #models.append(model)\n",
    "    except Exception as e:\n",
    "        idx_not_fitted_models.append(idx)\n",
    "        print(f'Error: {e}.\\n\\nModel:\\n{formula}')\n",
    "        print()"
   ]
  },
  {
   "cell_type": "markdown",
   "metadata": {},
   "source": [
    "The perfect separation error happens when all values in one of the predictor categories are associated with only one of the binary outcome, see [here](https://stackoverflow.com/questions/53041669/error-perfectseparationerror-perfect-separation-detected-results-not-availab) for more information. A possible solution, which is executed below, is to drop predictors one by one and try if the resulting model can be fitted."
   ]
  },
  {
   "cell_type": "code",
   "execution_count": 626,
   "metadata": {},
   "outputs": [
    {
     "name": "stdout",
     "output_type": "stream",
     "text": [
      "Variable simple_disagreement has been removed from the predictors list and the model could be fitted.\n",
      "\n",
      "Variable elaborated_disagreement has been removed from the predictors list and the model could be fitted.\n",
      "\n",
      "Variable value has been removed from the predictors list and the model could be fitted.\n",
      "\n",
      "Variable number_of_likes has been removed from the predictors list and the model could be fitted.\n",
      "\n"
     ]
    }
   ],
   "source": [
    "updated_models = []\n",
    "for idx_not_fitted_model in idx_not_fitted_models:\n",
    "    predictors = possible_models[idx_not_fitted_model].copy()\n",
    "    for predictor in predictors:\n",
    "        ind_vars = possible_models[idx_not_fitted_model].copy()        \n",
    "        ind_vars.remove(predictor)\n",
    "        formula = 'disagreement ~ '\n",
    "        for idx, ind_var in enumerate(ind_vars):\n",
    "            if ind_var not in numerical_predictors:\n",
    "                formula += f' C({ind_var})'\n",
    "            else:\n",
    "                formula += f' {ind_var}'\n",
    "            if idx < (len(ind_vars)-1):\n",
    "                formula += ' + '\n",
    "        try:\n",
    "            model = glm(formula, data = rq1_df, family = sm.families.Binomial()).fit()\n",
    "            print(f'Variable {predictor} has been removed from the predictors list and the model could be fitted.\\n')\n",
    "            updated_models.append(\n",
    "                {\n",
    "                    'formula': formula, \n",
    "                    'model': model, \n",
    "                    'num_predictors': len(ind_vars),\n",
    "                    'predictors': ind_vars,\n",
    "                    'deviance': model.deviance,\n",
    "                    'log_likelyhood': model.llf\n",
    "                }\n",
    "            )\n",
    "        except:\n",
    "            pass"
   ]
  },
  {
   "cell_type": "code",
   "execution_count": 627,
   "metadata": {},
   "outputs": [
    {
     "name": "stdout",
     "output_type": "stream",
     "text": [
      "4 new models could be fitted\n"
     ]
    }
   ],
   "source": [
    "print(f'{len(updated_models)} new models could be fitted')"
   ]
  },
  {
   "cell_type": "markdown",
   "metadata": {},
   "source": [
    "Update list of fitted models"
   ]
  },
  {
   "cell_type": "code",
   "execution_count": 628,
   "metadata": {},
   "outputs": [],
   "source": [
    "models.extend(updated_models)"
   ]
  },
  {
   "cell_type": "code",
   "execution_count": 629,
   "metadata": {},
   "outputs": [
    {
     "data": {
      "text/plain": [
       "24"
      ]
     },
     "execution_count": 629,
     "metadata": {},
     "output_type": "execute_result"
    }
   ],
   "source": [
    "len(models)"
   ]
  },
  {
   "cell_type": "code",
   "execution_count": 638,
   "metadata": {},
   "outputs": [
    {
     "data": {
      "text/plain": [
       "{'formula': 'disagreement ~  C(simple_disagreement) +  C(topic_shift) +  C(blending) +  C(building) +  C(fact) +  C(interpretation) +  C(presents_evidence) +  C(asks_question_s) +  C(provides_information) +  C(clarifies_position_stance) +  C(responds_to_previous_comment) +  C(moderator_post) +  number_of_likes',\n",
       " 'num_predictors': 13,\n",
       " 'predictors': ['simple_disagreement',\n",
       "  'topic_shift',\n",
       "  'blending',\n",
       "  'building',\n",
       "  'fact',\n",
       "  'interpretation',\n",
       "  'presents_evidence',\n",
       "  'asks_question_s',\n",
       "  'provides_information',\n",
       "  'clarifies_position_stance',\n",
       "  'responds_to_previous_comment',\n",
       "  'moderator_post',\n",
       "  'number_of_likes'],\n",
       " 'model': <statsmodels.genmod.generalized_linear_model.GLMResultsWrapper at 0x7f7656e24160>,\n",
       " 'deviance': 278.5913033410134,\n",
       " 'log_likelyhood': -139.2956516705067}"
      ]
     },
     "execution_count": 638,
     "metadata": {},
     "output_type": "execute_result"
    }
   ],
   "source": [
    "models[0]"
   ]
  },
  {
   "cell_type": "code",
   "execution_count": 645,
   "metadata": {},
   "outputs": [],
   "source": [
    "min_llf = 1000\n",
    "best_model = None\n",
    "for model in models:\n",
    "    if 'log_likelyhood' in model and model['log_likelyhood'] < min_llf:\n",
    "        min_llf = model['log_likelyhood']\n",
    "        best_model = model"
   ]
  },
  {
   "cell_type": "code",
   "execution_count": 646,
   "metadata": {},
   "outputs": [
    {
     "data": {
      "text/plain": [
       "{'formula': 'disagreement ~  C(gives_reason_s) +  C(topic_shift) +  C(responds_to_previous_comment) +  C(constructive_tone)',\n",
       " 'num_predictors': 4,\n",
       " 'predictors': ['gives_reason_s',\n",
       "  'topic_shift',\n",
       "  'responds_to_previous_comment',\n",
       "  'constructive_tone'],\n",
       " 'model': <statsmodels.genmod.generalized_linear_model.GLMResultsWrapper at 0x7f7656e31e10>,\n",
       " 'deviance': 595.9994620353666,\n",
       " 'log_likelyhood': -297.9997310176833}"
      ]
     },
     "execution_count": 646,
     "metadata": {},
     "output_type": "execute_result"
    }
   ],
   "source": [
    "best_model"
   ]
  },
  {
   "cell_type": "markdown",
   "metadata": {},
   "source": [
    "## Detect multicollinearity"
   ]
  },
  {
   "cell_type": "markdown",
   "metadata": {},
   "source": [
    "The first step in addressing RQ1 is to detect multicollinearity between predictors. Multicollinearity occurs when two predictors or independent variables are highly correlated and it makes difficult to distinguish the effect of the collineared variables on the response variable. The method **`variance inflation factor (VIF)`** will be used to detect multicollinearity. VIF determines the strenght correlation between independent variables by taking a variable and regressing it against the others. Thus, VIF score on an independent variable represents how well the variability on variables is explained by the others variables."
   ]
  },
  {
   "cell_type": "code",
   "execution_count": 338,
   "metadata": {},
   "outputs": [],
   "source": [
    "banned_predictors = ['constructive_tone', 'gives_reason_s', 'building', 'policy', 'number_of_ideas',\n",
    "                     'responds_to_previous_comment', 'brainstorming', 'elaborated_disagreement', \n",
    "                     'acknowledges_problem', 'moderator_post', 'topic_shift', 'blending', 'value',\n",
    "                     'fact', 'asks_question_s', 'clarifies_position_stance', 'presents_evidence',\n",
    "                     'number_of_likes', 'simple_disagreement', 'broadening']\n",
    "selected_predictors = predictors_disagreement.copy()\n",
    "for banned_predictor in banned_predictors:    \n",
    "    selected_predictors.remove(banned_predictor)\n",
    "predictors = rq1_df.loc[:,selected_predictors]\n",
    "predictors['Intercept'] = 1\n",
    "vif = pd.DataFrame()\n",
    "vif['variables'] = predictors.columns\n",
    "vif['VIF'] = [variance_inflation_factor(predictors.values, i) for i in range(predictors.shape[1])]"
   ]
  },
  {
   "cell_type": "code",
   "execution_count": 339,
   "metadata": {},
   "outputs": [
    {
     "data": {
      "text/html": [
       "<div>\n",
       "<style scoped>\n",
       "    .dataframe tbody tr th:only-of-type {\n",
       "        vertical-align: middle;\n",
       "    }\n",
       "\n",
       "    .dataframe tbody tr th {\n",
       "        vertical-align: top;\n",
       "    }\n",
       "\n",
       "    .dataframe thead th {\n",
       "        text-align: right;\n",
       "    }\n",
       "</style>\n",
       "<table border=\"1\" class=\"dataframe\">\n",
       "  <thead>\n",
       "    <tr style=\"text-align: right;\">\n",
       "      <th></th>\n",
       "      <th>variables</th>\n",
       "      <th>VIF</th>\n",
       "    </tr>\n",
       "  </thead>\n",
       "  <tbody>\n",
       "    <tr>\n",
       "      <th>0</th>\n",
       "      <td>number_of_ideas</td>\n",
       "      <td>42.741548</td>\n",
       "    </tr>\n",
       "    <tr>\n",
       "      <th>1</th>\n",
       "      <td>interpretation</td>\n",
       "      <td>23.395039</td>\n",
       "    </tr>\n",
       "    <tr>\n",
       "      <th>2</th>\n",
       "      <td>provides_information</td>\n",
       "      <td>7.901185</td>\n",
       "    </tr>\n",
       "    <tr>\n",
       "      <th>3</th>\n",
       "      <td>Intercept</td>\n",
       "      <td>1.024453</td>\n",
       "    </tr>\n",
       "  </tbody>\n",
       "</table>\n",
       "</div>"
      ],
      "text/plain": [
       "              variables        VIF\n",
       "0       number_of_ideas  42.741548\n",
       "1        interpretation  23.395039\n",
       "2  provides_information   7.901185\n",
       "3             Intercept   1.024453"
      ]
     },
     "execution_count": 339,
     "metadata": {},
     "output_type": "execute_result"
    }
   ],
   "source": [
    "vif.sort_values('VIF', ascending=False)"
   ]
  }
 ],
 "metadata": {
  "kernelspec": {
   "display_name": "Python 3",
   "language": "python",
   "name": "python3"
  },
  "language_info": {
   "codemirror_mode": {
    "name": "ipython",
    "version": 3
   },
   "file_extension": ".py",
   "mimetype": "text/x-python",
   "name": "python",
   "nbconvert_exporter": "python",
   "pygments_lexer": "ipython3",
   "version": "3.7.1"
  }
 },
 "nbformat": 4,
 "nbformat_minor": 4
}
