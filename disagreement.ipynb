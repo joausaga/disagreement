{
 "cells": [
  {
   "cell_type": "markdown",
   "metadata": {},
   "source": [
    "# Value of disagreement in crowdsourced policymaking"
   ]
  },
  {
   "cell_type": "markdown",
   "metadata": {},
   "source": [
    "In this notebook we explore the value of disagreement in crowdsourced policymaking by addressing the following research questions."
   ]
  },
  {
   "cell_type": "markdown",
   "metadata": {},
   "source": [
    "## Research Questions"
   ]
  },
  {
   "cell_type": "markdown",
   "metadata": {},
   "source": [
    "1. **RQ1.** What are the predictors of disagreement?\n",
    "2. **RQ2.** What are the predictors of new ideas?\n",
    "3. **RQ3.** How does the presence of both disagreement and agreement affect new idea generation? (if disagreement and agreement are present simultaneously, in the same comment/thread?)\n",
    "4. **RQ4.** Do comments with only disagreement/only agreement lead to more new idea generation?"
   ]
  },
  {
   "cell_type": "markdown",
   "metadata": {},
   "source": [
    "## Methodology"
   ]
  },
  {
   "cell_type": "markdown",
   "metadata": {},
   "source": [
    "To address RQ1 and RQ2, numeric variables computed during the qualitative analysis are considered. As the first step, we propose to conduct correlation analyses to understand collinearity between variables. Collinearity between variables might produce incorrect inferences about the association between predictors and the response variable. To address RQ1, logistic regression is employed to model the relationship between predictors and the variable disagreement. Variables that are found to be highly-correlated are not included in the analysis. In answering RQ2, multi-variate linear regression is applied to learn the relationship between predictors and the generation of new ideas. As in the case of RQ1, highly-correlated variables will be excluded from the analysis."
   ]
  },
  {
   "cell_type": "markdown",
   "metadata": {},
   "source": [
    "RQ3 is answered by fitting a logistic regression model in which the response variable is whether or not the new ideas are produced while the explanatory variables are agreement and disagreement."
   ]
  },
  {
   "cell_type": "markdown",
   "metadata": {},
   "source": [
    "For RQ4, we check the number of comments in which new ideas are produced when there is agreement or disagreement. Also, we count the number of ideas produced in comments than contain agreement and disagreement. Inferential statistics (e.g., student’s t-test) is conducted on the means of ideas produced on comments with agreement and disagreement to understand whether there is a significant difference in the number of ideas produced when agreements are present or vice versa."
   ]
  },
  {
   "cell_type": "markdown",
   "metadata": {},
   "source": [
    "## Load libraries"
   ]
  },
  {
   "cell_type": "code",
   "execution_count": 1,
   "metadata": {},
   "outputs": [],
   "source": [
    "# load libraries\n",
    "import pandas as pd\n",
    "import numpy as np\n",
    "import matplotlib.pyplot as plt\n",
    "import seaborn as sns\n",
    "import statsmodels.api as sm\n",
    "from scipy import stats\n",
    "\n",
    "from collections import defaultdict\n",
    "from predictor import predict_disagreement, get_dataset\n",
    "from statsmodels.formula.api import glm, ols\n",
    "from statsmodels.stats.outliers_influence import variance_inflation_factor\n",
    "\n",
    "plt.style.use('seaborn')"
   ]
  },
  {
   "cell_type": "markdown",
   "metadata": {},
   "source": [
    "## Load data"
   ]
  },
  {
   "cell_type": "markdown",
   "metadata": {},
   "source": [
    "### Topic: Member decision making and right"
   ]
  },
  {
   "cell_type": "code",
   "execution_count": 2,
   "metadata": {},
   "outputs": [
    {
     "name": "stdout",
     "output_type": "stream",
     "text": [
      "The dataset has 213 rows and 51 columns\n"
     ]
    }
   ],
   "source": [
    "member_df = pd.read_csv('data/member_decision_making_and_right.csv')\n",
    "nrows, ncols = member_df.shape\n",
    "print(f'The dataset has {nrows} rows and {ncols} columns')"
   ]
  },
  {
   "cell_type": "markdown",
   "metadata": {},
   "source": [
    "#### Columns"
   ]
  },
  {
   "cell_type": "code",
   "execution_count": 3,
   "metadata": {},
   "outputs": [
    {
     "data": {
      "text/plain": [
       "Index(['Background', 'Proposals', 'Time', 'User ID', 'User email', 'User name',\n",
       "       'Comment ID', 'Comment', 'Response ID', 'Response', 'Number of likes',\n",
       "       'Users who liked', 'Attachments', 'Comment.1', 'Response.1', 'Topic 1',\n",
       "       'Topic 2', 'Topic 3', 'disagreement', 'agreement',\n",
       "       'simple disagreement', 'elaborated disagreement', 'simple agreement',\n",
       "       'elaborated agreement', 'idea(s)', 'number of ideas', 'new idea',\n",
       "       'sourcing', 'value(s)', 'topic shift', 'brainstorming', 'blending',\n",
       "       'building', 'broadening', 'fact', 'value', 'policy', 'interpretation',\n",
       "       'target of disagreement', 'target of agreement', 'gives reason(s)',\n",
       "       'presents evidence', 'asks question(s)', 'provides information',\n",
       "       'clarifies position/stance', 'responds to previous comment',\n",
       "       'constructive tone', 'moderator post', 'acknowledges problem', 'notes',\n",
       "       'annotations for disagreement / new idea cascade(s)'],\n",
       "      dtype='object')"
      ]
     },
     "execution_count": 3,
     "metadata": {},
     "output_type": "execute_result"
    }
   ],
   "source": [
    "member_df.columns"
   ]
  },
  {
   "cell_type": "markdown",
   "metadata": {},
   "source": [
    "### Topic: Administration of an association"
   ]
  },
  {
   "cell_type": "code",
   "execution_count": 4,
   "metadata": {},
   "outputs": [
    {
     "name": "stdout",
     "output_type": "stream",
     "text": [
      "The dataset has 119 rows and 51 columns\n"
     ]
    }
   ],
   "source": [
    "admin_df = pd.read_csv('data/administration_of_association.csv')\n",
    "nrows, ncols = admin_df.shape\n",
    "print(f'The dataset has {nrows} rows and {ncols} columns')"
   ]
  },
  {
   "cell_type": "markdown",
   "metadata": {},
   "source": [
    "#### Columns"
   ]
  },
  {
   "cell_type": "code",
   "execution_count": 5,
   "metadata": {},
   "outputs": [
    {
     "data": {
      "text/plain": [
       "Index(['Background', 'Proposal', 'Time', 'User ID', 'User email', 'User name',\n",
       "       'Comment's ID', 'Comment', 'Response ID', 'Response', 'Amount of likes',\n",
       "       'Users who liked', 'Attachments', 'Comment.1', 'Response.1', 'Topic 1',\n",
       "       'Topic 2', 'Topic 3', 'disagreement', 'agreement',\n",
       "       'simple disagreement', 'elaborated disagreement', 'simple agreement',\n",
       "       'elaborated agreement', 'idea(s)', 'number of ideas', 'new idea',\n",
       "       'sourcing', 'value(s)', 'topic shift', 'brainstorming', 'blending',\n",
       "       'building', 'broadening', 'fact', 'value', 'policy', 'interpretation',\n",
       "       'target of disagreement', 'target of agreement', 'gives reason(s)',\n",
       "       'presents evidence', 'asks question(s)', 'provides information',\n",
       "       'clarifies position/stance', 'responds to previous comment',\n",
       "       'constructive tone', 'moderator post', 'acknowledges problem', 'notes',\n",
       "       'annotations for disagreement / new idea cascades'],\n",
       "      dtype='object')"
      ]
     },
     "execution_count": 5,
     "metadata": {},
     "output_type": "execute_result"
    }
   ],
   "source": [
    "admin_df.columns"
   ]
  },
  {
   "cell_type": "markdown",
   "metadata": {},
   "source": [
    "### Topic: Informally organized groups of an association"
   ]
  },
  {
   "cell_type": "code",
   "execution_count": 6,
   "metadata": {},
   "outputs": [
    {
     "name": "stdout",
     "output_type": "stream",
     "text": [
      "The dataset has 159 rows and 53 columns\n"
     ]
    }
   ],
   "source": [
    "informal_df = pd.read_csv('data/informally_organized_group_of_a.csv')\n",
    "nrows, ncols = informal_df.shape\n",
    "print(f'The dataset has {nrows} rows and {ncols} columns')"
   ]
  },
  {
   "cell_type": "markdown",
   "metadata": {},
   "source": [
    "#### Columns"
   ]
  },
  {
   "cell_type": "code",
   "execution_count": 7,
   "metadata": {},
   "outputs": [
    {
     "data": {
      "text/plain": [
       "Index(['Background', 'Proposal', 'Time', 'User ID', 'User email', 'User name',\n",
       "       'Comment ID', 'Comment', 'Response ID', 'Response', 'Number of likes',\n",
       "       'Users who liked', 'Attachments', 'Comment.1', 'Response.1', 'Topic 1',\n",
       "       'Topic 2', 'Topic 3', 'disagreement', 'agreement',\n",
       "       'simple disagreement', 'elaborated disagreement', 'simple agreement',\n",
       "       'elaborated agreement', 'idea(s)', 'number of ideas', 'new idea',\n",
       "       'sourcing', 'value(s)', 'topic shift', 'brainstorming', 'blending',\n",
       "       'building', 'broadening', 'fact', 'value', 'policy', 'IRRpolicy',\n",
       "       'interpretation', 'IRRinterpretation', 'target of disagreement',\n",
       "       'target of agreement', 'gives reason(s)', 'presents evidence',\n",
       "       'asks question(s)', 'provides information', 'clarifies position/stance',\n",
       "       'responds to previous comment', 'constructive tone',\n",
       "       'IRRconstructive tone', 'moderator post', 'acknowledges problem',\n",
       "       'annotations for disagreement / new idea cascade(s)'],\n",
       "      dtype='object')"
      ]
     },
     "execution_count": 7,
     "metadata": {},
     "output_type": "execute_result"
    }
   ],
   "source": [
    "informal_df.columns"
   ]
  },
  {
   "cell_type": "markdown",
   "metadata": {},
   "source": [
    "## Preprocess data"
   ]
  },
  {
   "cell_type": "markdown",
   "metadata": {},
   "source": [
    "### Normalize column names"
   ]
  },
  {
   "cell_type": "markdown",
   "metadata": {},
   "source": [
    "Put column names to lower case, replace spaces with underscore, delete leading and trailing spaces, and remove non alpha-numerical characters"
   ]
  },
  {
   "cell_type": "code",
   "execution_count": 8,
   "metadata": {},
   "outputs": [],
   "source": [
    "def normalize_column_names(names):\n",
    "    names = names.str.lower()\n",
    "    names = names.str.replace(' ','_')\n",
    "    names = names.str.replace('.','_')\n",
    "    names = names.str.replace('(','_')\n",
    "    names = names.str.replace(')','')\n",
    "    names = names.str.replace('/','_')\n",
    "    names = names.str.replace('___','_')\n",
    "    names = names.str.strip()\n",
    "    return names"
   ]
  },
  {
   "cell_type": "code",
   "execution_count": 9,
   "metadata": {},
   "outputs": [],
   "source": [
    "member_df.columns = normalize_column_names(member_df.columns)\n",
    "admin_df.columns = normalize_column_names(admin_df.columns)\n",
    "informal_df.columns = normalize_column_names(informal_df.columns)"
   ]
  },
  {
   "cell_type": "markdown",
   "metadata": {},
   "source": [
    "### Standarize column names"
   ]
  },
  {
   "cell_type": "markdown",
   "metadata": {},
   "source": [
    "Columns that contained the same information but have slightly different names are renamed for compatibility purposes"
   ]
  },
  {
   "cell_type": "code",
   "execution_count": 10,
   "metadata": {},
   "outputs": [],
   "source": [
    "member_df = member_df.rename(columns={\n",
    "    'annotations_for_disagreement_new_idea_cascade_s': 'annotations_for_disagreement_new_idea_cascades'\n",
    "})"
   ]
  },
  {
   "cell_type": "code",
   "execution_count": 11,
   "metadata": {},
   "outputs": [],
   "source": [
    "admin_df = admin_df.rename(columns={\n",
    "    'amount_of_likes': 'number_of_likes',\n",
    "    'comment\\'s_id': 'comment_id',\n",
    "    'proposal': 'proposals',    \n",
    "})"
   ]
  },
  {
   "cell_type": "code",
   "execution_count": 12,
   "metadata": {},
   "outputs": [],
   "source": [
    "informal_df = informal_df.rename(columns={\n",
    "    'annotations_for_disagreement_new_idea_cascade_s': 'annotations_for_disagreement_new_idea_cascades',\n",
    "    'proposal': 'proposals'\n",
    "})"
   ]
  },
  {
   "cell_type": "markdown",
   "metadata": {},
   "source": [
    "### Merge datasets in one dataframe"
   ]
  },
  {
   "cell_type": "markdown",
   "metadata": {},
   "source": [
    "Add an extra column to indicate the discussion topic"
   ]
  },
  {
   "cell_type": "code",
   "execution_count": 13,
   "metadata": {},
   "outputs": [],
   "source": [
    "member_df['topic'] = 'member'\n",
    "admin_df['topic'] = 'admin'\n",
    "informal_df['topic'] = 'informal'"
   ]
  },
  {
   "cell_type": "markdown",
   "metadata": {},
   "source": [
    "Merge datasets"
   ]
  },
  {
   "cell_type": "code",
   "execution_count": 14,
   "metadata": {},
   "outputs": [],
   "source": [
    "all_df = pd.concat([member_df, admin_df, informal_df], axis=0, ignore_index=True)"
   ]
  },
  {
   "cell_type": "code",
   "execution_count": 15,
   "metadata": {},
   "outputs": [
    {
     "name": "stdout",
     "output_type": "stream",
     "text": [
      "The merged dataset has 491 rows and 55 columns\n"
     ]
    }
   ],
   "source": [
    "nrows, ncols = all_df.shape\n",
    "print(f'The merged dataset has {nrows} rows and {ncols} columns')"
   ]
  },
  {
   "cell_type": "code",
   "execution_count": 16,
   "metadata": {},
   "outputs": [
    {
     "data": {
      "text/plain": [
       "Index(['background', 'proposals', 'time', 'user_id', 'user_email', 'user_name',\n",
       "       'comment_id', 'comment', 'response_id', 'response', 'number_of_likes',\n",
       "       'users_who_liked', 'attachments', 'comment_1', 'response_1', 'topic_1',\n",
       "       'topic_2', 'topic_3', 'disagreement', 'agreement',\n",
       "       'simple_disagreement', 'elaborated_disagreement', 'simple_agreement',\n",
       "       'elaborated_agreement', 'idea_s', 'number_of_ideas', 'new_idea',\n",
       "       'sourcing', 'value_s', 'topic_shift', 'brainstorming', 'blending',\n",
       "       'building', 'broadening', 'fact', 'value', 'policy', 'interpretation',\n",
       "       'target_of_disagreement', 'target_of_agreement', 'gives_reason_s',\n",
       "       'presents_evidence', 'asks_question_s', 'provides_information',\n",
       "       'clarifies_position_stance', 'responds_to_previous_comment',\n",
       "       'constructive_tone', 'moderator_post', 'acknowledges_problem', 'notes',\n",
       "       'annotations_for_disagreement_new_idea_cascades', 'topic', 'irrpolicy',\n",
       "       'irrinterpretation', 'irrconstructive_tone'],\n",
       "      dtype='object')"
      ]
     },
     "execution_count": 16,
     "metadata": {},
     "output_type": "execute_result"
    }
   ],
   "source": [
    "all_df.columns"
   ]
  },
  {
   "cell_type": "markdown",
   "metadata": {},
   "source": [
    "### Remove columns containing text in Finnish"
   ]
  },
  {
   "cell_type": "markdown",
   "metadata": {},
   "source": [
    "Text of comments and responses are both in Finnish and English. Columns `comment` and `response` that contain text in Finnish are removed because they will not be considered in this analysis."
   ]
  },
  {
   "cell_type": "code",
   "execution_count": 17,
   "metadata": {},
   "outputs": [],
   "source": [
    "all_df = all_df.drop(['comment', 'response'], axis=1)"
   ]
  },
  {
   "cell_type": "markdown",
   "metadata": {},
   "source": [
    "Columns `comment_1` and `response_1` are renamed removing `_1` from their names"
   ]
  },
  {
   "cell_type": "code",
   "execution_count": 18,
   "metadata": {},
   "outputs": [],
   "source": [
    "all_df = all_df.rename(columns={'comment_1': 'comment', 'response_1': 'response'})"
   ]
  },
  {
   "cell_type": "markdown",
   "metadata": {},
   "source": [
    "**Final columns**"
   ]
  },
  {
   "cell_type": "code",
   "execution_count": 19,
   "metadata": {},
   "outputs": [
    {
     "data": {
      "text/plain": [
       "Index(['background', 'proposals', 'time', 'user_id', 'user_email', 'user_name',\n",
       "       'comment_id', 'response_id', 'number_of_likes', 'users_who_liked',\n",
       "       'attachments', 'comment', 'response', 'topic_1', 'topic_2', 'topic_3',\n",
       "       'disagreement', 'agreement', 'simple_disagreement',\n",
       "       'elaborated_disagreement', 'simple_agreement', 'elaborated_agreement',\n",
       "       'idea_s', 'number_of_ideas', 'new_idea', 'sourcing', 'value_s',\n",
       "       'topic_shift', 'brainstorming', 'blending', 'building', 'broadening',\n",
       "       'fact', 'value', 'policy', 'interpretation', 'target_of_disagreement',\n",
       "       'target_of_agreement', 'gives_reason_s', 'presents_evidence',\n",
       "       'asks_question_s', 'provides_information', 'clarifies_position_stance',\n",
       "       'responds_to_previous_comment', 'constructive_tone', 'moderator_post',\n",
       "       'acknowledges_problem', 'notes',\n",
       "       'annotations_for_disagreement_new_idea_cascades', 'topic', 'irrpolicy',\n",
       "       'irrinterpretation', 'irrconstructive_tone'],\n",
       "      dtype='object')"
      ]
     },
     "execution_count": 19,
     "metadata": {},
     "output_type": "execute_result"
    }
   ],
   "source": [
    "all_df.columns"
   ]
  },
  {
   "cell_type": "markdown",
   "metadata": {},
   "source": [
    "### Check null values"
   ]
  },
  {
   "cell_type": "markdown",
   "metadata": {},
   "source": [
    "Check the number of null values by columns"
   ]
  },
  {
   "cell_type": "code",
   "execution_count": 20,
   "metadata": {},
   "outputs": [
    {
     "data": {
      "text/plain": [
       "background                                          3\n",
       "proposals                                           3\n",
       "time                                                3\n",
       "user_id                                             3\n",
       "user_email                                          3\n",
       "user_name                                           3\n",
       "comment_id                                        346\n",
       "response_id                                       148\n",
       "number_of_likes                                     0\n",
       "users_who_liked                                   263\n",
       "attachments                                       491\n",
       "comment                                           348\n",
       "response                                          146\n",
       "topic_1                                             4\n",
       "topic_2                                           147\n",
       "topic_3                                           358\n",
       "disagreement                                        0\n",
       "agreement                                           0\n",
       "simple_disagreement                                 0\n",
       "elaborated_disagreement                             0\n",
       "simple_agreement                                    0\n",
       "elaborated_agreement                                0\n",
       "idea_s                                             37\n",
       "number_of_ideas                                     1\n",
       "new_idea                                            0\n",
       "sourcing                                          330\n",
       "value_s                                           340\n",
       "topic_shift                                         0\n",
       "brainstorming                                       0\n",
       "blending                                            0\n",
       "building                                            0\n",
       "broadening                                          0\n",
       "fact                                                0\n",
       "value                                               0\n",
       "policy                                              0\n",
       "interpretation                                      0\n",
       "target_of_disagreement                            209\n",
       "target_of_agreement                               239\n",
       "gives_reason_s                                      0\n",
       "presents_evidence                                   0\n",
       "asks_question_s                                     0\n",
       "provides_information                                0\n",
       "clarifies_position_stance                           0\n",
       "responds_to_previous_comment                        0\n",
       "constructive_tone                                   0\n",
       "moderator_post                                      0\n",
       "acknowledges_problem                                0\n",
       "notes                                             398\n",
       "annotations_for_disagreement_new_idea_cascades    454\n",
       "topic                                               0\n",
       "irrpolicy                                         486\n",
       "irrinterpretation                                 486\n",
       "irrconstructive_tone                              486\n",
       "dtype: int64"
      ]
     },
     "execution_count": 20,
     "metadata": {},
     "output_type": "execute_result"
    }
   ],
   "source": [
    "all_df.isnull().sum()"
   ]
  },
  {
   "cell_type": "markdown",
   "metadata": {},
   "source": [
    "### Remove summary rows"
   ]
  },
  {
   "cell_type": "markdown",
   "metadata": {},
   "source": [
    "Remove rows that contain summaries. They are identified by having a null value in the column background."
   ]
  },
  {
   "cell_type": "code",
   "execution_count": 21,
   "metadata": {},
   "outputs": [],
   "source": [
    "idxs_to_remove = all_df[all_df.background.isnull()].index.values"
   ]
  },
  {
   "cell_type": "code",
   "execution_count": 22,
   "metadata": {},
   "outputs": [],
   "source": [
    "all_df = all_df.drop(index=idxs_to_remove)"
   ]
  },
  {
   "cell_type": "code",
   "execution_count": 23,
   "metadata": {},
   "outputs": [
    {
     "data": {
      "text/plain": [
       "(488, 53)"
      ]
     },
     "execution_count": 23,
     "metadata": {},
     "output_type": "execute_result"
    }
   ],
   "source": [
    "all_df.shape"
   ]
  },
  {
   "cell_type": "markdown",
   "metadata": {},
   "source": [
    "### Fix errors in variables"
   ]
  },
  {
   "cell_type": "code",
   "execution_count": 24,
   "metadata": {},
   "outputs": [],
   "source": [
    "all_df.loc[336, 'simple_agreement'] = 0\n",
    "all_df.loc[310, 'elaborated_agreement'] = 1"
   ]
  },
  {
   "cell_type": "markdown",
   "metadata": {},
   "source": [
    "## RQ1. Predictors of disagreement"
   ]
  },
  {
   "cell_type": "markdown",
   "metadata": {},
   "source": [
    "### Methodology"
   ]
  },
  {
   "cell_type": "markdown",
   "metadata": {},
   "source": [
    "To understand which variables best predict disagreement logistic regression is applied through the following procedure:\n",
    "\n",
    "1. Select the explanatory variables or predictors of interest (all of the available in this case). The terms predictors and variables are used interchangeable from here;\n",
    "2. Cast predictors to numeric type ensuring that categorical predictors contain only binary values (1/0). Records in which categorical predictors contain values different from 0 or 1 are discarded;\n",
    "3. Compute correlation between the numerical predictors number of likes and number of ideas. Because the distribution values in the numerical variables does not follow a normal distribution, the non-parametric Spearman correlation method is used. Predictors that are not independent should not be included together in logistic regression models;\n",
    "4. Compute correlation between numerical and categorical variables. [Point-biserial correlation](https://www.statisticssolutions.com/point-biserial-correlation/) is used to understand the independence between categorical and numerical predictors. Predictors that are not independent should be included together in models;\n",
    "5. Cast categorical predictors to category type so later the correlation between these variable can be computed;\n",
    "6. Compute correlation between categorical predictors. Not independent predictors should not be included together in models;\n",
    "7. Fit logistic regression models considering all possible combinations of independent predictors;\n",
    "8. Select the best model and interpret the coefficients."
   ]
  },
  {
   "cell_type": "markdown",
   "metadata": {},
   "source": [
    "### 1. Define and select predictor variables for `disagreement`"
   ]
  },
  {
   "cell_type": "code",
   "execution_count": 421,
   "metadata": {},
   "outputs": [
    {
     "name": "stdout",
     "output_type": "stream",
     "text": [
      "In total 22 variables will be considered in the analysis of RQ1\n"
     ]
    }
   ],
   "source": [
    "predictors_disagreement = [\n",
    "    'number_of_likes', 'number_of_ideas', 'simple_agreement', 'elaborated_agreement', 'topic_shift', \n",
    "    'brainstorming', 'blending', 'building', 'broadening', 'fact', 'value', 'policy', 'interpretation', \n",
    "    'gives_reason_s', 'presents_evidence', 'asks_question_s', 'provides_information', 'clarifies_position_stance',\n",
    "    'responds_to_previous_comment', 'constructive_tone', 'moderator_post', 'acknowledges_problem'\n",
    "]\n",
    "print(f\"In total {len(predictors_disagreement)} variables will be considered in the analysis of RQ1\")"
   ]
  },
  {
   "cell_type": "markdown",
   "metadata": {},
   "source": [
    "#### Select columns that include predictors and the target variable"
   ]
  },
  {
   "cell_type": "code",
   "execution_count": 422,
   "metadata": {},
   "outputs": [
    {
     "name": "stdout",
     "output_type": "stream",
     "text": [
      "The analysis is conducted with a dataset composed of 488 rows and 23 columns\n"
     ]
    }
   ],
   "source": [
    "rq1_df = all_df.loc[:,predictors_disagreement+['disagreement']]\n",
    "print(f\"The analysis is conducted with a dataset composed of {rq1_df.shape[0]} rows and {rq1_df.shape[1]} columns\")"
   ]
  },
  {
   "cell_type": "markdown",
   "metadata": {},
   "source": [
    "### 2. Cast variables to numeric"
   ]
  },
  {
   "cell_type": "markdown",
   "metadata": {},
   "source": [
    "Some variables have the values `unclear` and `nan`, which need to be converted to numerical before casting the variable to this type."
   ]
  },
  {
   "cell_type": "code",
   "execution_count": 423,
   "metadata": {},
   "outputs": [],
   "source": [
    "numerical_predictors = ['number_of_likes', 'number_of_ideas']"
   ]
  },
  {
   "cell_type": "code",
   "execution_count": 424,
   "metadata": {},
   "outputs": [],
   "source": [
    "for col in rq1_df.columns:\n",
    "    rq1_df.loc[rq1_df[col]=='unclear', col] = 0\n",
    "    rq1_df.loc[rq1_df[col].isna(), col] = 0\n",
    "    rq1_df[col] = pd.to_numeric(rq1_df[col], downcast='unsigned')\n",
    "    if col not in numerical_predictors:\n",
    "        unique_values = rq1_df[col].unique()\n",
    "        invalid_values = set(unique_values) - set([0,1])\n",
    "        if len(invalid_values) > 0:  # the column has invalid values                   \n",
    "            invalid_indexes = list(rq1_df.loc[~rq1_df[col].isin([0,1])].index)\n",
    "            if len(invalid_indexes) > 0:\n",
    "                print(f'Found the following invalid values {invalid_values} in {len(invalid_indexes)} rows of '\\\n",
    "                      f'the column {col}. Rows has been discarded.')\n",
    "                rq1_df = rq1_df.drop(index=invalid_indexes)            "
   ]
  },
  {
   "cell_type": "code",
   "execution_count": 425,
   "metadata": {},
   "outputs": [
    {
     "name": "stdout",
     "output_type": "stream",
     "text": [
      "After the step above the dataset is composed of 488 rows and 23 columns\n"
     ]
    }
   ],
   "source": [
    "print(f\"After the step above the dataset is composed of {rq1_df.shape[0]} rows and {rq1_df.shape[1]} columns\")"
   ]
  },
  {
   "cell_type": "markdown",
   "metadata": {},
   "source": [
    "#### Check variable types"
   ]
  },
  {
   "cell_type": "code",
   "execution_count": 426,
   "metadata": {},
   "outputs": [
    {
     "name": "stdout",
     "output_type": "stream",
     "text": [
      "<class 'pandas.core.frame.DataFrame'>\n",
      "Int64Index: 488 entries, 0 to 489\n",
      "Data columns (total 23 columns):\n",
      " #   Column                        Non-Null Count  Dtype\n",
      "---  ------                        --------------  -----\n",
      " 0   number_of_likes               488 non-null    uint8\n",
      " 1   number_of_ideas               488 non-null    uint8\n",
      " 2   simple_agreement              488 non-null    uint8\n",
      " 3   elaborated_agreement          488 non-null    uint8\n",
      " 4   topic_shift                   488 non-null    uint8\n",
      " 5   brainstorming                 488 non-null    uint8\n",
      " 6   blending                      488 non-null    uint8\n",
      " 7   building                      488 non-null    uint8\n",
      " 8   broadening                    488 non-null    uint8\n",
      " 9   fact                          488 non-null    uint8\n",
      " 10  value                         488 non-null    uint8\n",
      " 11  policy                        488 non-null    uint8\n",
      " 12  interpretation                488 non-null    uint8\n",
      " 13  gives_reason_s                488 non-null    uint8\n",
      " 14  presents_evidence             488 non-null    uint8\n",
      " 15  asks_question_s               488 non-null    uint8\n",
      " 16  provides_information          488 non-null    uint8\n",
      " 17  clarifies_position_stance     488 non-null    uint8\n",
      " 18  responds_to_previous_comment  488 non-null    uint8\n",
      " 19  constructive_tone             488 non-null    uint8\n",
      " 20  moderator_post                488 non-null    uint8\n",
      " 21  acknowledges_problem          488 non-null    uint8\n",
      " 22  disagreement                  488 non-null    uint8\n",
      "dtypes: uint8(23)\n",
      "memory usage: 34.8 KB\n"
     ]
    }
   ],
   "source": [
    "rq1_df.info()"
   ]
  },
  {
   "cell_type": "markdown",
   "metadata": {},
   "source": [
    "### 3. Check independence between numerical variables"
   ]
  },
  {
   "cell_type": "markdown",
   "metadata": {},
   "source": [
    "We use Persons correlation to find out whether the numerical variables `number_of_likes` and `number_of_ideas` are correlated."
   ]
  },
  {
   "cell_type": "code",
   "execution_count": 427,
   "metadata": {},
   "outputs": [],
   "source": [
    "alpha_level = 0.05"
   ]
  },
  {
   "cell_type": "markdown",
   "metadata": {},
   "source": [
    "Distribution of `number_of_likes`"
   ]
  },
  {
   "cell_type": "code",
   "execution_count": 429,
   "metadata": {},
   "outputs": [
    {
     "data": {
      "text/plain": [
       "<matplotlib.axes._subplots.AxesSubplot at 0x7f5ebef3d978>"
      ]
     },
     "execution_count": 429,
     "metadata": {},
     "output_type": "execute_result"
    },
    {
     "data": {
      "image/png": "[encoded data removed]",
      "text/plain": [
       "<Figure size 576x396 with 1 Axes>"
      ]
     },
     "metadata": {},
     "output_type": "display_data"
    }
   ],
   "source": [
    "rq1_df['number_of_likes'].hist()"
   ]
  },
  {
   "cell_type": "markdown",
   "metadata": {},
   "source": [
    "Distribution of `number_of_ideas`"
   ]
  },
  {
   "cell_type": "code",
   "execution_count": 430,
   "metadata": {},
   "outputs": [
    {
     "data": {
      "text/plain": [
       "<matplotlib.axes._subplots.AxesSubplot at 0x7f5ebf14dcf8>"
      ]
     },
     "execution_count": 430,
     "metadata": {},
     "output_type": "execute_result"
    },
    {
     "data": {
      "image/png": "[encoded data removed]",
      "text/plain": [
       "<Figure size 576x396 with 1 Axes>"
      ]
     },
     "metadata": {},
     "output_type": "display_data"
    }
   ],
   "source": [
    "rq1_df['number_of_ideas'].hist()"
   ]
  },
  {
   "cell_type": "markdown",
   "metadata": {},
   "source": [
    "Because data are not distributed normally, a non-parametric correlation method is used"
   ]
  },
  {
   "cell_type": "code",
   "execution_count": 431,
   "metadata": {},
   "outputs": [],
   "source": [
    "correlation, p_value = stats.spearmanr(rq1_df['number_of_likes'], rq1_df['number_of_ideas'])"
   ]
  },
  {
   "cell_type": "code",
   "execution_count": 432,
   "metadata": {},
   "outputs": [
    {
     "name": "stdout",
     "output_type": "stream",
     "text": [
      "The numerical variables are not correlated, corr: 0.11.\n"
     ]
    }
   ],
   "source": [
    "if correlation > 0.5:\n",
    "    if p_val < alpha_level:\n",
    "        print(f'The numerical variables are strongly and statistically significant correlated, '\\\n",
    "              f'corr: {round(correlation,2)}, p-value: {round(p_value,4)}.')\n",
    "    else:\n",
    "        print(f'The numerical variables are strongly but not statistically significant correlated, '\\\n",
    "              f'corr: {round(correlation,2)}, p-value: {round(p_value,4)}.')\n",
    "else:\n",
    "    print(f'The numerical variables are not correlated, corr: {round(correlation,2)}.')"
   ]
  },
  {
   "cell_type": "markdown",
   "metadata": {},
   "source": [
    "Numerical variables are not correlated, so they can be included together in models."
   ]
  },
  {
   "cell_type": "markdown",
   "metadata": {},
   "source": [
    "### 4. Check independence between numerical and categorical variables"
   ]
  },
  {
   "cell_type": "markdown",
   "metadata": {},
   "source": [
    "Persons correlation is employed to analyze correlation between numerical and categorical variables. Having dichotomous categorical variables, Persons correlation can be used [ref](https://www.researchgate.net/post/Can_I_use_Pearsons_correlation_coefficient_to_know_the_relation_between_perception_and_gender_age_income). "
   ]
  },
  {
   "cell_type": "code",
   "execution_count": 433,
   "metadata": {},
   "outputs": [],
   "source": [
    "independence_num_cat = pd.DataFrame(columns=['number_of_likes_cor', 'number_of_likes_p_value', \n",
    "                                             'number_of_ideas_cor', 'number_of_ideas_p_value'], \n",
    "                                    index=predictors_disagreement)\n",
    "for predictor_1 in numerical_predictors:    \n",
    "    for predictor_2 in predictors_disagreement:        \n",
    "        if predictor_2 == predictor_1:\n",
    "            continue\n",
    "        correlation, p_value = stats.spearmanr(rq1_df[predictor_1],rq1_df[predictor_2])\n",
    "        if predictor_1 == 'number_of_likes':\n",
    "            independence_num_cat.loc[predictor_2, 'number_of_likes_cor'] = round(correlation, 3)\n",
    "            independence_num_cat.loc[predictor_2, 'number_of_likes_p_value'] = round(p_value, 3)\n",
    "        else:\n",
    "            independence_num_cat.loc[predictor_2, 'number_of_ideas_cor'] = round(correlation, 3)\n",
    "            independence_num_cat.loc[predictor_2, 'number_of_ideas_p_value'] = round(p_value, 3)"
   ]
  },
  {
   "cell_type": "code",
   "execution_count": 434,
   "metadata": {},
   "outputs": [
    {
     "data": {
      "text/html": [
       "<div>\n",
       "<style scoped>\n",
       "    .dataframe tbody tr th:only-of-type {\n",
       "        vertical-align: middle;\n",
       "    }\n",
       "\n",
       "    .dataframe tbody tr th {\n",
       "        vertical-align: top;\n",
       "    }\n",
       "\n",
       "    .dataframe thead th {\n",
       "        text-align: right;\n",
       "    }\n",
       "</style>\n",
       "<table border=\"1\" class=\"dataframe\">\n",
       "  <thead>\n",
       "    <tr style=\"text-align: right;\">\n",
       "      <th></th>\n",
       "      <th>number_of_likes_cor</th>\n",
       "      <th>number_of_likes_p_value</th>\n",
       "      <th>number_of_ideas_cor</th>\n",
       "      <th>number_of_ideas_p_value</th>\n",
       "    </tr>\n",
       "  </thead>\n",
       "  <tbody>\n",
       "    <tr>\n",
       "      <th>number_of_likes</th>\n",
       "      <td>NaN</td>\n",
       "      <td>NaN</td>\n",
       "      <td>0.114</td>\n",
       "      <td>0.011</td>\n",
       "    </tr>\n",
       "    <tr>\n",
       "      <th>number_of_ideas</th>\n",
       "      <td>0.114</td>\n",
       "      <td>0.011</td>\n",
       "      <td>NaN</td>\n",
       "      <td>NaN</td>\n",
       "    </tr>\n",
       "    <tr>\n",
       "      <th>simple_agreement</th>\n",
       "      <td>-0.105</td>\n",
       "      <td>0.02</td>\n",
       "      <td>-0.301</td>\n",
       "      <td>0</td>\n",
       "    </tr>\n",
       "    <tr>\n",
       "      <th>elaborated_agreement</th>\n",
       "      <td>0.171</td>\n",
       "      <td>0</td>\n",
       "      <td>0.287</td>\n",
       "      <td>0</td>\n",
       "    </tr>\n",
       "    <tr>\n",
       "      <th>topic_shift</th>\n",
       "      <td>0.127</td>\n",
       "      <td>0.005</td>\n",
       "      <td>0.109</td>\n",
       "      <td>0.016</td>\n",
       "    </tr>\n",
       "    <tr>\n",
       "      <th>brainstorming</th>\n",
       "      <td>0.188</td>\n",
       "      <td>0</td>\n",
       "      <td>0.41</td>\n",
       "      <td>0</td>\n",
       "    </tr>\n",
       "    <tr>\n",
       "      <th>blending</th>\n",
       "      <td>0.094</td>\n",
       "      <td>0.037</td>\n",
       "      <td>0.251</td>\n",
       "      <td>0</td>\n",
       "    </tr>\n",
       "    <tr>\n",
       "      <th>building</th>\n",
       "      <td>-0.145</td>\n",
       "      <td>0.001</td>\n",
       "      <td>0.289</td>\n",
       "      <td>0</td>\n",
       "    </tr>\n",
       "    <tr>\n",
       "      <th>broadening</th>\n",
       "      <td>0.043</td>\n",
       "      <td>0.348</td>\n",
       "      <td>0.231</td>\n",
       "      <td>0</td>\n",
       "    </tr>\n",
       "    <tr>\n",
       "      <th>fact</th>\n",
       "      <td>-0.089</td>\n",
       "      <td>0.049</td>\n",
       "      <td>0.061</td>\n",
       "      <td>0.177</td>\n",
       "    </tr>\n",
       "    <tr>\n",
       "      <th>value</th>\n",
       "      <td>0.03</td>\n",
       "      <td>0.512</td>\n",
       "      <td>0.226</td>\n",
       "      <td>0</td>\n",
       "    </tr>\n",
       "    <tr>\n",
       "      <th>policy</th>\n",
       "      <td>-0.024</td>\n",
       "      <td>0.593</td>\n",
       "      <td>0.198</td>\n",
       "      <td>0</td>\n",
       "    </tr>\n",
       "    <tr>\n",
       "      <th>interpretation</th>\n",
       "      <td>-0.09</td>\n",
       "      <td>0.047</td>\n",
       "      <td>0.191</td>\n",
       "      <td>0</td>\n",
       "    </tr>\n",
       "    <tr>\n",
       "      <th>gives_reason_s</th>\n",
       "      <td>0.122</td>\n",
       "      <td>0.007</td>\n",
       "      <td>0.481</td>\n",
       "      <td>0</td>\n",
       "    </tr>\n",
       "    <tr>\n",
       "      <th>presents_evidence</th>\n",
       "      <td>0.014</td>\n",
       "      <td>0.764</td>\n",
       "      <td>0.079</td>\n",
       "      <td>0.082</td>\n",
       "    </tr>\n",
       "    <tr>\n",
       "      <th>asks_question_s</th>\n",
       "      <td>-0.133</td>\n",
       "      <td>0.003</td>\n",
       "      <td>0.079</td>\n",
       "      <td>0.083</td>\n",
       "    </tr>\n",
       "    <tr>\n",
       "      <th>provides_information</th>\n",
       "      <td>0.013</td>\n",
       "      <td>0.774</td>\n",
       "      <td>-0.057</td>\n",
       "      <td>0.212</td>\n",
       "    </tr>\n",
       "    <tr>\n",
       "      <th>clarifies_position_stance</th>\n",
       "      <td>-0.107</td>\n",
       "      <td>0.018</td>\n",
       "      <td>0.137</td>\n",
       "      <td>0.002</td>\n",
       "    </tr>\n",
       "    <tr>\n",
       "      <th>responds_to_previous_comment</th>\n",
       "      <td>-0.182</td>\n",
       "      <td>0</td>\n",
       "      <td>0.032</td>\n",
       "      <td>0.484</td>\n",
       "    </tr>\n",
       "    <tr>\n",
       "      <th>constructive_tone</th>\n",
       "      <td>0.083</td>\n",
       "      <td>0.067</td>\n",
       "      <td>0.053</td>\n",
       "      <td>0.239</td>\n",
       "    </tr>\n",
       "    <tr>\n",
       "      <th>moderator_post</th>\n",
       "      <td>0.195</td>\n",
       "      <td>0</td>\n",
       "      <td>-0.198</td>\n",
       "      <td>0</td>\n",
       "    </tr>\n",
       "    <tr>\n",
       "      <th>acknowledges_problem</th>\n",
       "      <td>0.023</td>\n",
       "      <td>0.605</td>\n",
       "      <td>0.264</td>\n",
       "      <td>0</td>\n",
       "    </tr>\n",
       "  </tbody>\n",
       "</table>\n",
       "</div>"
      ],
      "text/plain": [
       "                             number_of_likes_cor number_of_likes_p_value  \\\n",
       "number_of_likes                              NaN                     NaN   \n",
       "number_of_ideas                            0.114                   0.011   \n",
       "simple_agreement                          -0.105                    0.02   \n",
       "elaborated_agreement                       0.171                       0   \n",
       "topic_shift                                0.127                   0.005   \n",
       "brainstorming                              0.188                       0   \n",
       "blending                                   0.094                   0.037   \n",
       "building                                  -0.145                   0.001   \n",
       "broadening                                 0.043                   0.348   \n",
       "fact                                      -0.089                   0.049   \n",
       "value                                       0.03                   0.512   \n",
       "policy                                    -0.024                   0.593   \n",
       "interpretation                             -0.09                   0.047   \n",
       "gives_reason_s                             0.122                   0.007   \n",
       "presents_evidence                          0.014                   0.764   \n",
       "asks_question_s                           -0.133                   0.003   \n",
       "provides_information                       0.013                   0.774   \n",
       "clarifies_position_stance                 -0.107                   0.018   \n",
       "responds_to_previous_comment              -0.182                       0   \n",
       "constructive_tone                          0.083                   0.067   \n",
       "moderator_post                             0.195                       0   \n",
       "acknowledges_problem                       0.023                   0.605   \n",
       "\n",
       "                             number_of_ideas_cor number_of_ideas_p_value  \n",
       "number_of_likes                            0.114                   0.011  \n",
       "number_of_ideas                              NaN                     NaN  \n",
       "simple_agreement                          -0.301                       0  \n",
       "elaborated_agreement                       0.287                       0  \n",
       "topic_shift                                0.109                   0.016  \n",
       "brainstorming                               0.41                       0  \n",
       "blending                                   0.251                       0  \n",
       "building                                   0.289                       0  \n",
       "broadening                                 0.231                       0  \n",
       "fact                                       0.061                   0.177  \n",
       "value                                      0.226                       0  \n",
       "policy                                     0.198                       0  \n",
       "interpretation                             0.191                       0  \n",
       "gives_reason_s                             0.481                       0  \n",
       "presents_evidence                          0.079                   0.082  \n",
       "asks_question_s                            0.079                   0.083  \n",
       "provides_information                      -0.057                   0.212  \n",
       "clarifies_position_stance                  0.137                   0.002  \n",
       "responds_to_previous_comment               0.032                   0.484  \n",
       "constructive_tone                          0.053                   0.239  \n",
       "moderator_post                            -0.198                       0  \n",
       "acknowledges_problem                       0.264                       0  "
      ]
     },
     "execution_count": 434,
     "metadata": {},
     "output_type": "execute_result"
    }
   ],
   "source": [
    "independence_num_cat"
   ]
  },
  {
   "cell_type": "markdown",
   "metadata": {},
   "source": [
    "Numerical variables don't show to be strongly correlated with any of the categorical variables. We understand that two variables are not correlated if the correlation between them is less than 0.5."
   ]
  },
  {
   "cell_type": "markdown",
   "metadata": {},
   "source": [
    "### 5. Cast categorical variables to category type"
   ]
  },
  {
   "cell_type": "code",
   "execution_count": 435,
   "metadata": {},
   "outputs": [],
   "source": [
    "for col in rq1_df.columns:\n",
    "    if col not in numerical_predictors:\n",
    "        rq1_df[col] = rq1_df[col].astype('category')"
   ]
  },
  {
   "cell_type": "code",
   "execution_count": 436,
   "metadata": {},
   "outputs": [
    {
     "name": "stdout",
     "output_type": "stream",
     "text": [
      "<class 'pandas.core.frame.DataFrame'>\n",
      "Int64Index: 488 entries, 0 to 489\n",
      "Data columns (total 23 columns):\n",
      " #   Column                        Non-Null Count  Dtype   \n",
      "---  ------                        --------------  -----   \n",
      " 0   number_of_likes               488 non-null    uint8   \n",
      " 1   number_of_ideas               488 non-null    uint8   \n",
      " 2   simple_agreement              488 non-null    category\n",
      " 3   elaborated_agreement          488 non-null    category\n",
      " 4   topic_shift                   488 non-null    category\n",
      " 5   brainstorming                 488 non-null    category\n",
      " 6   blending                      488 non-null    category\n",
      " 7   building                      488 non-null    category\n",
      " 8   broadening                    488 non-null    category\n",
      " 9   fact                          488 non-null    category\n",
      " 10  value                         488 non-null    category\n",
      " 11  policy                        488 non-null    category\n",
      " 12  interpretation                488 non-null    category\n",
      " 13  gives_reason_s                488 non-null    category\n",
      " 14  presents_evidence             488 non-null    category\n",
      " 15  asks_question_s               488 non-null    category\n",
      " 16  provides_information          488 non-null    category\n",
      " 17  clarifies_position_stance     488 non-null    category\n",
      " 18  responds_to_previous_comment  488 non-null    category\n",
      " 19  constructive_tone             488 non-null    category\n",
      " 20  moderator_post                488 non-null    category\n",
      " 21  acknowledges_problem          488 non-null    category\n",
      " 22  disagreement                  488 non-null    category\n",
      "dtypes: category(21), uint8(2)\n",
      "memory usage: 36.7 KB\n"
     ]
    }
   ],
   "source": [
    "rq1_df.info()"
   ]
  },
  {
   "cell_type": "markdown",
   "metadata": {},
   "source": [
    "### 6. Check independence of categorial variables"
   ]
  },
  {
   "cell_type": "code",
   "execution_count": 437,
   "metadata": {},
   "outputs": [],
   "source": [
    "independece_analysis = pd.DataFrame(columns=predictors_disagreement, index=predictors_disagreement)\n",
    "for predictor_1 in predictors_disagreement:\n",
    "    if predictor_1 in numerical_predictors:\n",
    "        continue\n",
    "    for predictor_2 in predictors_disagreement:        \n",
    "        if predictor_2 in numerical_predictors:\n",
    "            continue\n",
    "        if predictor_2 == predictor_1:\n",
    "            continue\n",
    "        cross_tab = pd.crosstab(rq1_df[predictor_1],rq1_df[predictor_2])\n",
    "        chi2_stat, p_val, dof, ex = stats.chi2_contingency(cross_tab)\n",
    "        if p_val < alpha_level:\n",
    "            independece_analysis.loc[predictor_1,predictor_2] = 'F'\n",
    "        else:\n",
    "            independece_analysis.loc[predictor_1,predictor_2] = 'T'"
   ]
  },
  {
   "cell_type": "code",
   "execution_count": 438,
   "metadata": {},
   "outputs": [
    {
     "data": {
      "text/html": [
       "<div>\n",
       "<style scoped>\n",
       "    .dataframe tbody tr th:only-of-type {\n",
       "        vertical-align: middle;\n",
       "    }\n",
       "\n",
       "    .dataframe tbody tr th {\n",
       "        vertical-align: top;\n",
       "    }\n",
       "\n",
       "    .dataframe thead th {\n",
       "        text-align: right;\n",
       "    }\n",
       "</style>\n",
       "<table border=\"1\" class=\"dataframe\">\n",
       "  <thead>\n",
       "    <tr style=\"text-align: right;\">\n",
       "      <th></th>\n",
       "      <th>simple_agreement</th>\n",
       "      <th>elaborated_agreement</th>\n",
       "      <th>topic_shift</th>\n",
       "      <th>brainstorming</th>\n",
       "      <th>blending</th>\n",
       "      <th>building</th>\n",
       "      <th>broadening</th>\n",
       "      <th>fact</th>\n",
       "      <th>value</th>\n",
       "      <th>policy</th>\n",
       "      <th>interpretation</th>\n",
       "      <th>gives_reason_s</th>\n",
       "      <th>presents_evidence</th>\n",
       "      <th>asks_question_s</th>\n",
       "      <th>provides_information</th>\n",
       "      <th>clarifies_position_stance</th>\n",
       "      <th>responds_to_previous_comment</th>\n",
       "      <th>constructive_tone</th>\n",
       "      <th>moderator_post</th>\n",
       "      <th>acknowledges_problem</th>\n",
       "    </tr>\n",
       "  </thead>\n",
       "  <tbody>\n",
       "    <tr>\n",
       "      <th>simple_agreement</th>\n",
       "      <td>NaN</td>\n",
       "      <td>F</td>\n",
       "      <td>T</td>\n",
       "      <td>F</td>\n",
       "      <td>F</td>\n",
       "      <td>F</td>\n",
       "      <td>F</td>\n",
       "      <td>F</td>\n",
       "      <td>T</td>\n",
       "      <td>F</td>\n",
       "      <td>T</td>\n",
       "      <td>F</td>\n",
       "      <td>F</td>\n",
       "      <td>F</td>\n",
       "      <td>T</td>\n",
       "      <td>T</td>\n",
       "      <td>T</td>\n",
       "      <td>T</td>\n",
       "      <td>T</td>\n",
       "      <td>T</td>\n",
       "    </tr>\n",
       "    <tr>\n",
       "      <th>elaborated_agreement</th>\n",
       "      <td>F</td>\n",
       "      <td>NaN</td>\n",
       "      <td>T</td>\n",
       "      <td>F</td>\n",
       "      <td>F</td>\n",
       "      <td>T</td>\n",
       "      <td>T</td>\n",
       "      <td>T</td>\n",
       "      <td>F</td>\n",
       "      <td>F</td>\n",
       "      <td>T</td>\n",
       "      <td>F</td>\n",
       "      <td>T</td>\n",
       "      <td>F</td>\n",
       "      <td>T</td>\n",
       "      <td>T</td>\n",
       "      <td>T</td>\n",
       "      <td>T</td>\n",
       "      <td>T</td>\n",
       "      <td>F</td>\n",
       "    </tr>\n",
       "    <tr>\n",
       "      <th>topic_shift</th>\n",
       "      <td>T</td>\n",
       "      <td>T</td>\n",
       "      <td>NaN</td>\n",
       "      <td>F</td>\n",
       "      <td>T</td>\n",
       "      <td>F</td>\n",
       "      <td>F</td>\n",
       "      <td>T</td>\n",
       "      <td>T</td>\n",
       "      <td>F</td>\n",
       "      <td>T</td>\n",
       "      <td>T</td>\n",
       "      <td>T</td>\n",
       "      <td>T</td>\n",
       "      <td>T</td>\n",
       "      <td>F</td>\n",
       "      <td>F</td>\n",
       "      <td>T</td>\n",
       "      <td>T</td>\n",
       "      <td>T</td>\n",
       "    </tr>\n",
       "    <tr>\n",
       "      <th>brainstorming</th>\n",
       "      <td>F</td>\n",
       "      <td>F</td>\n",
       "      <td>F</td>\n",
       "      <td>NaN</td>\n",
       "      <td>F</td>\n",
       "      <td>T</td>\n",
       "      <td>F</td>\n",
       "      <td>T</td>\n",
       "      <td>T</td>\n",
       "      <td>T</td>\n",
       "      <td>T</td>\n",
       "      <td>F</td>\n",
       "      <td>T</td>\n",
       "      <td>T</td>\n",
       "      <td>T</td>\n",
       "      <td>T</td>\n",
       "      <td>F</td>\n",
       "      <td>F</td>\n",
       "      <td>T</td>\n",
       "      <td>T</td>\n",
       "    </tr>\n",
       "    <tr>\n",
       "      <th>blending</th>\n",
       "      <td>F</td>\n",
       "      <td>F</td>\n",
       "      <td>T</td>\n",
       "      <td>F</td>\n",
       "      <td>NaN</td>\n",
       "      <td>T</td>\n",
       "      <td>T</td>\n",
       "      <td>T</td>\n",
       "      <td>F</td>\n",
       "      <td>F</td>\n",
       "      <td>T</td>\n",
       "      <td>F</td>\n",
       "      <td>T</td>\n",
       "      <td>F</td>\n",
       "      <td>T</td>\n",
       "      <td>T</td>\n",
       "      <td>F</td>\n",
       "      <td>T</td>\n",
       "      <td>T</td>\n",
       "      <td>F</td>\n",
       "    </tr>\n",
       "    <tr>\n",
       "      <th>building</th>\n",
       "      <td>F</td>\n",
       "      <td>T</td>\n",
       "      <td>F</td>\n",
       "      <td>T</td>\n",
       "      <td>T</td>\n",
       "      <td>NaN</td>\n",
       "      <td>T</td>\n",
       "      <td>F</td>\n",
       "      <td>T</td>\n",
       "      <td>F</td>\n",
       "      <td>F</td>\n",
       "      <td>F</td>\n",
       "      <td>F</td>\n",
       "      <td>F</td>\n",
       "      <td>F</td>\n",
       "      <td>F</td>\n",
       "      <td>F</td>\n",
       "      <td>T</td>\n",
       "      <td>F</td>\n",
       "      <td>T</td>\n",
       "    </tr>\n",
       "    <tr>\n",
       "      <th>broadening</th>\n",
       "      <td>F</td>\n",
       "      <td>T</td>\n",
       "      <td>F</td>\n",
       "      <td>F</td>\n",
       "      <td>T</td>\n",
       "      <td>T</td>\n",
       "      <td>NaN</td>\n",
       "      <td>T</td>\n",
       "      <td>F</td>\n",
       "      <td>T</td>\n",
       "      <td>T</td>\n",
       "      <td>F</td>\n",
       "      <td>F</td>\n",
       "      <td>T</td>\n",
       "      <td>F</td>\n",
       "      <td>T</td>\n",
       "      <td>T</td>\n",
       "      <td>T</td>\n",
       "      <td>F</td>\n",
       "      <td>F</td>\n",
       "    </tr>\n",
       "    <tr>\n",
       "      <th>fact</th>\n",
       "      <td>F</td>\n",
       "      <td>T</td>\n",
       "      <td>T</td>\n",
       "      <td>T</td>\n",
       "      <td>T</td>\n",
       "      <td>F</td>\n",
       "      <td>T</td>\n",
       "      <td>NaN</td>\n",
       "      <td>T</td>\n",
       "      <td>T</td>\n",
       "      <td>F</td>\n",
       "      <td>F</td>\n",
       "      <td>F</td>\n",
       "      <td>T</td>\n",
       "      <td>T</td>\n",
       "      <td>F</td>\n",
       "      <td>F</td>\n",
       "      <td>T</td>\n",
       "      <td>T</td>\n",
       "      <td>T</td>\n",
       "    </tr>\n",
       "    <tr>\n",
       "      <th>value</th>\n",
       "      <td>T</td>\n",
       "      <td>F</td>\n",
       "      <td>T</td>\n",
       "      <td>T</td>\n",
       "      <td>F</td>\n",
       "      <td>T</td>\n",
       "      <td>F</td>\n",
       "      <td>T</td>\n",
       "      <td>NaN</td>\n",
       "      <td>F</td>\n",
       "      <td>F</td>\n",
       "      <td>F</td>\n",
       "      <td>F</td>\n",
       "      <td>T</td>\n",
       "      <td>T</td>\n",
       "      <td>T</td>\n",
       "      <td>T</td>\n",
       "      <td>T</td>\n",
       "      <td>T</td>\n",
       "      <td>F</td>\n",
       "    </tr>\n",
       "    <tr>\n",
       "      <th>policy</th>\n",
       "      <td>F</td>\n",
       "      <td>F</td>\n",
       "      <td>F</td>\n",
       "      <td>T</td>\n",
       "      <td>F</td>\n",
       "      <td>F</td>\n",
       "      <td>T</td>\n",
       "      <td>T</td>\n",
       "      <td>F</td>\n",
       "      <td>NaN</td>\n",
       "      <td>T</td>\n",
       "      <td>F</td>\n",
       "      <td>T</td>\n",
       "      <td>T</td>\n",
       "      <td>F</td>\n",
       "      <td>T</td>\n",
       "      <td>F</td>\n",
       "      <td>T</td>\n",
       "      <td>F</td>\n",
       "      <td>F</td>\n",
       "    </tr>\n",
       "    <tr>\n",
       "      <th>interpretation</th>\n",
       "      <td>T</td>\n",
       "      <td>T</td>\n",
       "      <td>T</td>\n",
       "      <td>T</td>\n",
       "      <td>T</td>\n",
       "      <td>F</td>\n",
       "      <td>T</td>\n",
       "      <td>F</td>\n",
       "      <td>F</td>\n",
       "      <td>T</td>\n",
       "      <td>NaN</td>\n",
       "      <td>F</td>\n",
       "      <td>T</td>\n",
       "      <td>T</td>\n",
       "      <td>T</td>\n",
       "      <td>F</td>\n",
       "      <td>F</td>\n",
       "      <td>T</td>\n",
       "      <td>T</td>\n",
       "      <td>T</td>\n",
       "    </tr>\n",
       "    <tr>\n",
       "      <th>gives_reason_s</th>\n",
       "      <td>F</td>\n",
       "      <td>F</td>\n",
       "      <td>T</td>\n",
       "      <td>F</td>\n",
       "      <td>F</td>\n",
       "      <td>F</td>\n",
       "      <td>F</td>\n",
       "      <td>F</td>\n",
       "      <td>F</td>\n",
       "      <td>F</td>\n",
       "      <td>F</td>\n",
       "      <td>NaN</td>\n",
       "      <td>F</td>\n",
       "      <td>F</td>\n",
       "      <td>F</td>\n",
       "      <td>F</td>\n",
       "      <td>T</td>\n",
       "      <td>T</td>\n",
       "      <td>F</td>\n",
       "      <td>F</td>\n",
       "    </tr>\n",
       "    <tr>\n",
       "      <th>presents_evidence</th>\n",
       "      <td>F</td>\n",
       "      <td>T</td>\n",
       "      <td>T</td>\n",
       "      <td>T</td>\n",
       "      <td>T</td>\n",
       "      <td>F</td>\n",
       "      <td>F</td>\n",
       "      <td>F</td>\n",
       "      <td>F</td>\n",
       "      <td>T</td>\n",
       "      <td>T</td>\n",
       "      <td>F</td>\n",
       "      <td>NaN</td>\n",
       "      <td>T</td>\n",
       "      <td>T</td>\n",
       "      <td>T</td>\n",
       "      <td>T</td>\n",
       "      <td>T</td>\n",
       "      <td>T</td>\n",
       "      <td>T</td>\n",
       "    </tr>\n",
       "    <tr>\n",
       "      <th>asks_question_s</th>\n",
       "      <td>F</td>\n",
       "      <td>F</td>\n",
       "      <td>T</td>\n",
       "      <td>T</td>\n",
       "      <td>F</td>\n",
       "      <td>F</td>\n",
       "      <td>T</td>\n",
       "      <td>T</td>\n",
       "      <td>T</td>\n",
       "      <td>T</td>\n",
       "      <td>T</td>\n",
       "      <td>F</td>\n",
       "      <td>T</td>\n",
       "      <td>NaN</td>\n",
       "      <td>T</td>\n",
       "      <td>F</td>\n",
       "      <td>T</td>\n",
       "      <td>T</td>\n",
       "      <td>T</td>\n",
       "      <td>F</td>\n",
       "    </tr>\n",
       "    <tr>\n",
       "      <th>provides_information</th>\n",
       "      <td>T</td>\n",
       "      <td>T</td>\n",
       "      <td>T</td>\n",
       "      <td>T</td>\n",
       "      <td>T</td>\n",
       "      <td>F</td>\n",
       "      <td>F</td>\n",
       "      <td>T</td>\n",
       "      <td>T</td>\n",
       "      <td>F</td>\n",
       "      <td>T</td>\n",
       "      <td>F</td>\n",
       "      <td>T</td>\n",
       "      <td>T</td>\n",
       "      <td>NaN</td>\n",
       "      <td>T</td>\n",
       "      <td>T</td>\n",
       "      <td>T</td>\n",
       "      <td>F</td>\n",
       "      <td>T</td>\n",
       "    </tr>\n",
       "    <tr>\n",
       "      <th>clarifies_position_stance</th>\n",
       "      <td>T</td>\n",
       "      <td>T</td>\n",
       "      <td>F</td>\n",
       "      <td>T</td>\n",
       "      <td>T</td>\n",
       "      <td>F</td>\n",
       "      <td>T</td>\n",
       "      <td>F</td>\n",
       "      <td>T</td>\n",
       "      <td>T</td>\n",
       "      <td>F</td>\n",
       "      <td>F</td>\n",
       "      <td>T</td>\n",
       "      <td>F</td>\n",
       "      <td>T</td>\n",
       "      <td>NaN</td>\n",
       "      <td>F</td>\n",
       "      <td>T</td>\n",
       "      <td>T</td>\n",
       "      <td>T</td>\n",
       "    </tr>\n",
       "    <tr>\n",
       "      <th>responds_to_previous_comment</th>\n",
       "      <td>T</td>\n",
       "      <td>T</td>\n",
       "      <td>F</td>\n",
       "      <td>F</td>\n",
       "      <td>F</td>\n",
       "      <td>F</td>\n",
       "      <td>T</td>\n",
       "      <td>F</td>\n",
       "      <td>T</td>\n",
       "      <td>F</td>\n",
       "      <td>F</td>\n",
       "      <td>T</td>\n",
       "      <td>T</td>\n",
       "      <td>T</td>\n",
       "      <td>T</td>\n",
       "      <td>F</td>\n",
       "      <td>NaN</td>\n",
       "      <td>T</td>\n",
       "      <td>F</td>\n",
       "      <td>F</td>\n",
       "    </tr>\n",
       "    <tr>\n",
       "      <th>constructive_tone</th>\n",
       "      <td>T</td>\n",
       "      <td>T</td>\n",
       "      <td>T</td>\n",
       "      <td>F</td>\n",
       "      <td>T</td>\n",
       "      <td>T</td>\n",
       "      <td>T</td>\n",
       "      <td>T</td>\n",
       "      <td>T</td>\n",
       "      <td>T</td>\n",
       "      <td>T</td>\n",
       "      <td>T</td>\n",
       "      <td>T</td>\n",
       "      <td>T</td>\n",
       "      <td>T</td>\n",
       "      <td>T</td>\n",
       "      <td>T</td>\n",
       "      <td>NaN</td>\n",
       "      <td>T</td>\n",
       "      <td>T</td>\n",
       "    </tr>\n",
       "    <tr>\n",
       "      <th>moderator_post</th>\n",
       "      <td>T</td>\n",
       "      <td>T</td>\n",
       "      <td>T</td>\n",
       "      <td>T</td>\n",
       "      <td>T</td>\n",
       "      <td>F</td>\n",
       "      <td>F</td>\n",
       "      <td>T</td>\n",
       "      <td>T</td>\n",
       "      <td>F</td>\n",
       "      <td>T</td>\n",
       "      <td>F</td>\n",
       "      <td>T</td>\n",
       "      <td>T</td>\n",
       "      <td>F</td>\n",
       "      <td>T</td>\n",
       "      <td>F</td>\n",
       "      <td>T</td>\n",
       "      <td>NaN</td>\n",
       "      <td>T</td>\n",
       "    </tr>\n",
       "    <tr>\n",
       "      <th>acknowledges_problem</th>\n",
       "      <td>T</td>\n",
       "      <td>F</td>\n",
       "      <td>T</td>\n",
       "      <td>T</td>\n",
       "      <td>F</td>\n",
       "      <td>T</td>\n",
       "      <td>F</td>\n",
       "      <td>T</td>\n",
       "      <td>F</td>\n",
       "      <td>F</td>\n",
       "      <td>T</td>\n",
       "      <td>F</td>\n",
       "      <td>T</td>\n",
       "      <td>F</td>\n",
       "      <td>T</td>\n",
       "      <td>T</td>\n",
       "      <td>F</td>\n",
       "      <td>T</td>\n",
       "      <td>T</td>\n",
       "      <td>NaN</td>\n",
       "    </tr>\n",
       "  </tbody>\n",
       "</table>\n",
       "</div>"
      ],
      "text/plain": [
       "                             simple_agreement elaborated_agreement  \\\n",
       "simple_agreement                          NaN                    F   \n",
       "elaborated_agreement                        F                  NaN   \n",
       "topic_shift                                 T                    T   \n",
       "brainstorming                               F                    F   \n",
       "blending                                    F                    F   \n",
       "building                                    F                    T   \n",
       "broadening                                  F                    T   \n",
       "fact                                        F                    T   \n",
       "value                                       T                    F   \n",
       "policy                                      F                    F   \n",
       "interpretation                              T                    T   \n",
       "gives_reason_s                              F                    F   \n",
       "presents_evidence                           F                    T   \n",
       "asks_question_s                             F                    F   \n",
       "provides_information                        T                    T   \n",
       "clarifies_position_stance                   T                    T   \n",
       "responds_to_previous_comment                T                    T   \n",
       "constructive_tone                           T                    T   \n",
       "moderator_post                              T                    T   \n",
       "acknowledges_problem                        T                    F   \n",
       "\n",
       "                             topic_shift brainstorming blending building  \\\n",
       "simple_agreement                       T             F        F        F   \n",
       "elaborated_agreement                   T             F        F        T   \n",
       "topic_shift                          NaN             F        T        F   \n",
       "brainstorming                          F           NaN        F        T   \n",
       "blending                               T             F      NaN        T   \n",
       "building                               F             T        T      NaN   \n",
       "broadening                             F             F        T        T   \n",
       "fact                                   T             T        T        F   \n",
       "value                                  T             T        F        T   \n",
       "policy                                 F             T        F        F   \n",
       "interpretation                         T             T        T        F   \n",
       "gives_reason_s                         T             F        F        F   \n",
       "presents_evidence                      T             T        T        F   \n",
       "asks_question_s                        T             T        F        F   \n",
       "provides_information                   T             T        T        F   \n",
       "clarifies_position_stance              F             T        T        F   \n",
       "responds_to_previous_comment           F             F        F        F   \n",
       "constructive_tone                      T             F        T        T   \n",
       "moderator_post                         T             T        T        F   \n",
       "acknowledges_problem                   T             T        F        T   \n",
       "\n",
       "                             broadening fact value policy interpretation  \\\n",
       "simple_agreement                      F    F     T      F              T   \n",
       "elaborated_agreement                  T    T     F      F              T   \n",
       "topic_shift                           F    T     T      F              T   \n",
       "brainstorming                         F    T     T      T              T   \n",
       "blending                              T    T     F      F              T   \n",
       "building                              T    F     T      F              F   \n",
       "broadening                          NaN    T     F      T              T   \n",
       "fact                                  T  NaN     T      T              F   \n",
       "value                                 F    T   NaN      F              F   \n",
       "policy                                T    T     F    NaN              T   \n",
       "interpretation                        T    F     F      T            NaN   \n",
       "gives_reason_s                        F    F     F      F              F   \n",
       "presents_evidence                     F    F     F      T              T   \n",
       "asks_question_s                       T    T     T      T              T   \n",
       "provides_information                  F    T     T      F              T   \n",
       "clarifies_position_stance             T    F     T      T              F   \n",
       "responds_to_previous_comment          T    F     T      F              F   \n",
       "constructive_tone                     T    T     T      T              T   \n",
       "moderator_post                        F    T     T      F              T   \n",
       "acknowledges_problem                  F    T     F      F              T   \n",
       "\n",
       "                             gives_reason_s presents_evidence asks_question_s  \\\n",
       "simple_agreement                          F                 F               F   \n",
       "elaborated_agreement                      F                 T               F   \n",
       "topic_shift                               T                 T               T   \n",
       "brainstorming                             F                 T               T   \n",
       "blending                                  F                 T               F   \n",
       "building                                  F                 F               F   \n",
       "broadening                                F                 F               T   \n",
       "fact                                      F                 F               T   \n",
       "value                                     F                 F               T   \n",
       "policy                                    F                 T               T   \n",
       "interpretation                            F                 T               T   \n",
       "gives_reason_s                          NaN                 F               F   \n",
       "presents_evidence                         F               NaN               T   \n",
       "asks_question_s                           F                 T             NaN   \n",
       "provides_information                      F                 T               T   \n",
       "clarifies_position_stance                 F                 T               F   \n",
       "responds_to_previous_comment              T                 T               T   \n",
       "constructive_tone                         T                 T               T   \n",
       "moderator_post                            F                 T               T   \n",
       "acknowledges_problem                      F                 T               F   \n",
       "\n",
       "                             provides_information clarifies_position_stance  \\\n",
       "simple_agreement                                T                         T   \n",
       "elaborated_agreement                            T                         T   \n",
       "topic_shift                                     T                         F   \n",
       "brainstorming                                   T                         T   \n",
       "blending                                        T                         T   \n",
       "building                                        F                         F   \n",
       "broadening                                      F                         T   \n",
       "fact                                            T                         F   \n",
       "value                                           T                         T   \n",
       "policy                                          F                         T   \n",
       "interpretation                                  T                         F   \n",
       "gives_reason_s                                  F                         F   \n",
       "presents_evidence                               T                         T   \n",
       "asks_question_s                                 T                         F   \n",
       "provides_information                          NaN                         T   \n",
       "clarifies_position_stance                       T                       NaN   \n",
       "responds_to_previous_comment                    T                         F   \n",
       "constructive_tone                               T                         T   \n",
       "moderator_post                                  F                         T   \n",
       "acknowledges_problem                            T                         T   \n",
       "\n",
       "                             responds_to_previous_comment constructive_tone  \\\n",
       "simple_agreement                                        T                 T   \n",
       "elaborated_agreement                                    T                 T   \n",
       "topic_shift                                             F                 T   \n",
       "brainstorming                                           F                 F   \n",
       "blending                                                F                 T   \n",
       "building                                                F                 T   \n",
       "broadening                                              T                 T   \n",
       "fact                                                    F                 T   \n",
       "value                                                   T                 T   \n",
       "policy                                                  F                 T   \n",
       "interpretation                                          F                 T   \n",
       "gives_reason_s                                          T                 T   \n",
       "presents_evidence                                       T                 T   \n",
       "asks_question_s                                         T                 T   \n",
       "provides_information                                    T                 T   \n",
       "clarifies_position_stance                               F                 T   \n",
       "responds_to_previous_comment                          NaN                 T   \n",
       "constructive_tone                                       T               NaN   \n",
       "moderator_post                                          F                 T   \n",
       "acknowledges_problem                                    F                 T   \n",
       "\n",
       "                             moderator_post acknowledges_problem  \n",
       "simple_agreement                          T                    T  \n",
       "elaborated_agreement                      T                    F  \n",
       "topic_shift                               T                    T  \n",
       "brainstorming                             T                    T  \n",
       "blending                                  T                    F  \n",
       "building                                  F                    T  \n",
       "broadening                                F                    F  \n",
       "fact                                      T                    T  \n",
       "value                                     T                    F  \n",
       "policy                                    F                    F  \n",
       "interpretation                            T                    T  \n",
       "gives_reason_s                            F                    F  \n",
       "presents_evidence                         T                    T  \n",
       "asks_question_s                           T                    F  \n",
       "provides_information                      F                    T  \n",
       "clarifies_position_stance                 T                    T  \n",
       "responds_to_previous_comment              F                    F  \n",
       "constructive_tone                         T                    T  \n",
       "moderator_post                          NaN                    T  \n",
       "acknowledges_problem                      T                  NaN  "
      ]
     },
     "execution_count": 438,
     "metadata": {},
     "output_type": "execute_result"
    }
   ],
   "source": [
    "independece_analysis.drop(columns=numerical_predictors, index=numerical_predictors, inplace=True)\n",
    "independece_analysis"
   ]
  },
  {
   "cell_type": "markdown",
   "metadata": {},
   "source": [
    "### 7. Fit models based on independent predictors"
   ]
  },
  {
   "cell_type": "markdown",
   "metadata": {},
   "source": [
    "Based on the previous analysis of independencie between categorical variables, predictors will be selected."
   ]
  },
  {
   "cell_type": "code",
   "execution_count": 439,
   "metadata": {},
   "outputs": [],
   "source": [
    "possible_models = [None]*len(independece_analysis.columns)\n",
    "idx = 0\n",
    "for col in independece_analysis.columns:\n",
    "    possible_models[idx] = [col]\n",
    "    for row in independece_analysis.index:\n",
    "        if independece_analysis.loc[row, col] == 'T':\n",
    "            possible_models[idx].append(row)\n",
    "    # Add the numerical variables\n",
    "    for num_var in numerical_predictors:\n",
    "        found_dependency = False\n",
    "        for var in possible_models[idx]:\n",
    "            if independence_num_cat.loc[var, f'{num_var}_cor'] > 0.5 and \\\n",
    "               independence_num_cat.loc[var, f'{num_var}_p_value'] < alpha_level:\n",
    "                found_dependency = True\n",
    "                break\n",
    "        if not found_dependency:\n",
    "            possible_models[idx].append(num_var)\n",
    "    idx += 1"
   ]
  },
  {
   "cell_type": "code",
   "execution_count": 440,
   "metadata": {},
   "outputs": [
    {
     "name": "stdout",
     "output_type": "stream",
     "text": [
      "There are 20 possible models\n"
     ]
    }
   ],
   "source": [
    "print(f'There are {len(possible_models)} possible models')"
   ]
  },
  {
   "cell_type": "markdown",
   "metadata": {},
   "source": [
    "Create formulas for the possible models"
   ]
  },
  {
   "cell_type": "code",
   "execution_count": 441,
   "metadata": {},
   "outputs": [],
   "source": [
    "models = []\n",
    "for possible_model in possible_models:\n",
    "    formula = f'disagreement ~ '\n",
    "    num_predictors = len(possible_model)\n",
    "    for idx, predictor in enumerate(possible_model):\n",
    "        if predictor not in numerical_predictors:\n",
    "            formula += f' C({predictor})'\n",
    "        else:\n",
    "            formula += f' {predictor}'\n",
    "        if idx < (len(possible_model)-1):\n",
    "            formula += ' + '\n",
    "    models.append({'formula': formula, 'num_predictors': num_predictors, 'predictors': possible_model})"
   ]
  },
  {
   "cell_type": "markdown",
   "metadata": {},
   "source": [
    "#### Fit models"
   ]
  },
  {
   "cell_type": "code",
   "execution_count": 442,
   "metadata": {},
   "outputs": [],
   "source": [
    "idx_not_fitted_models = []\n",
    "for idx, model_dict in enumerate(models):\n",
    "    try:\n",
    "        formula = model_dict['formula']\n",
    "        model = glm(formula, data = rq1_df, family = sm.families.Binomial()).fit()\n",
    "        model_dict['model'] = model\n",
    "        model_dict['deviance'] = model.deviance\n",
    "        model_dict['log_likelihood'] = model.llf \n",
    "    except Exception as e:\n",
    "        idx_not_fitted_models.append(idx)\n",
    "        print(f'Error: {e}.\\n\\nModel:\\n{formula}')\n",
    "        print()"
   ]
  },
  {
   "cell_type": "markdown",
   "metadata": {},
   "source": [
    "The perfect separation error happens when all values in one of the predictor categories are associated with only one of the binary outcome, see [here](https://stackoverflow.com/questions/53041669/error-perfectseparationerror-perfect-separation-detected-results-not-availab). A possible solution, which is executed below, is to drop predictors one by one and try if the resulting model can be fitted."
   ]
  },
  {
   "cell_type": "code",
   "execution_count": 443,
   "metadata": {},
   "outputs": [],
   "source": [
    "updated_models = []\n",
    "for idx_not_fitted_model in idx_not_fitted_models:\n",
    "    predictors = possible_models[idx_not_fitted_model].copy()\n",
    "    for predictor in predictors:\n",
    "        ind_vars = possible_models[idx_not_fitted_model].copy()        \n",
    "        ind_vars.remove(predictor)\n",
    "        formula = 'disagreement ~ '\n",
    "        for idx, ind_var in enumerate(ind_vars):\n",
    "            if ind_var not in numerical_predictors:\n",
    "                formula += f' C({ind_var})'\n",
    "            else:\n",
    "                formula += f' {ind_var}'\n",
    "            if idx < (len(ind_vars)-1):\n",
    "                formula += ' + '\n",
    "        try:\n",
    "            model = glm(formula, data = rq1_df, family = sm.families.Binomial()).fit()\n",
    "            print(f'Variable {predictor} has been removed from the predictors list and the model could be fitted.\\n')\n",
    "            updated_models.append(\n",
    "                {\n",
    "                    'formula': formula, \n",
    "                    'model': model, \n",
    "                    'num_predictors': len(ind_vars),\n",
    "                    'predictors': ind_vars,\n",
    "                    'deviance': model.deviance,\n",
    "                    'log_likelihood': model.llf\n",
    "                }\n",
    "            )\n",
    "        except:\n",
    "            pass"
   ]
  },
  {
   "cell_type": "code",
   "execution_count": 444,
   "metadata": {},
   "outputs": [
    {
     "name": "stdout",
     "output_type": "stream",
     "text": [
      "0 new models could be fitted\n"
     ]
    }
   ],
   "source": [
    "print(f'{len(updated_models)} new models could be fitted')"
   ]
  },
  {
   "cell_type": "markdown",
   "metadata": {},
   "source": [
    "Update list of fitted models"
   ]
  },
  {
   "cell_type": "code",
   "execution_count": 445,
   "metadata": {},
   "outputs": [],
   "source": [
    "models.extend(updated_models)"
   ]
  },
  {
   "cell_type": "markdown",
   "metadata": {},
   "source": [
    "### 6. Select the best model"
   ]
  },
  {
   "cell_type": "markdown",
   "metadata": {},
   "source": [
    "Selection is based on the goodness of fit. `Deviance`, which is measuse of error of fit, is used to evaluate models fit. The lower the deviance the better the model fits the data. "
   ]
  },
  {
   "cell_type": "code",
   "execution_count": 446,
   "metadata": {},
   "outputs": [],
   "source": [
    "min_dev = 1000000\n",
    "best_models = []\n",
    "for model in models:\n",
    "    if 'deviance' in model and model['deviance'] < min_dev:\n",
    "        min_dev = model['deviance']\n",
    "        best_models = [model]\n",
    "    elif 'deviance' in model and model['deviance'] == min_dev:\n",
    "        best_models.append(model)"
   ]
  },
  {
   "cell_type": "code",
   "execution_count": 447,
   "metadata": {},
   "outputs": [
    {
     "name": "stdout",
     "output_type": "stream",
     "text": [
      "There are 1 best model(s)\n"
     ]
    }
   ],
   "source": [
    "print(f\"There are {len(best_models)} best model(s)\")"
   ]
  },
  {
   "cell_type": "markdown",
   "metadata": {},
   "source": [
    "**Best model**"
   ]
  },
  {
   "cell_type": "code",
   "execution_count": 448,
   "metadata": {},
   "outputs": [
    {
     "data": {
      "text/html": [
       "<table class=\"simpletable\">\n",
       "<caption>Generalized Linear Model Regression Results</caption>\n",
       "<tr>\n",
       "  <th>Dep. Variable:</th>   <td>['disagreement[0]', 'disagreement[1]']</td> <th>  No. Observations:  </th>  <td>   488</td> \n",
       "</tr>\n",
       "<tr>\n",
       "  <th>Model:</th>                             <td>GLM</td>                  <th>  Df Residuals:      </th>  <td>   466</td> \n",
       "</tr>\n",
       "<tr>\n",
       "  <th>Model Family:</th>                   <td>Binomial</td>                <th>  Df Model:          </th>  <td>    21</td> \n",
       "</tr>\n",
       "<tr>\n",
       "  <th>Link Function:</th>                    <td>logit</td>                 <th>  Scale:             </th> <td>  1.0000</td>\n",
       "</tr>\n",
       "<tr>\n",
       "  <th>Method:</th>                           <td>IRLS</td>                  <th>  Log-Likelihood:    </th> <td> -98.349</td>\n",
       "</tr>\n",
       "<tr>\n",
       "  <th>Date:</th>                       <td>Mon, 05 Oct 2020</td>            <th>  Deviance:          </th> <td>  196.70</td>\n",
       "</tr>\n",
       "<tr>\n",
       "  <th>Time:</th>                           <td>09:20:13</td>                <th>  Pearson chi2:      </th>  <td>  341.</td> \n",
       "</tr>\n",
       "<tr>\n",
       "  <th>No. Iterations:</th>                     <td>7</td>                   <th>                     </th>     <td> </td>   \n",
       "</tr>\n",
       "<tr>\n",
       "  <th>Covariance Type:</th>                <td>nonrobust</td>               <th>                     </th>     <td> </td>   \n",
       "</tr>\n",
       "</table>\n",
       "<table class=\"simpletable\">\n",
       "<tr>\n",
       "                    <td></td>                      <th>coef</th>     <th>std err</th>      <th>z</th>      <th>P>|z|</th>  <th>[0.025</th>    <th>0.975]</th>  \n",
       "</tr>\n",
       "<tr>\n",
       "  <th>Intercept</th>                            <td>    2.1744</td> <td>    1.231</td> <td>    1.767</td> <td> 0.077</td> <td>   -0.238</td> <td>    4.586</td>\n",
       "</tr>\n",
       "<tr>\n",
       "  <th>C(constructive_tone)[T.1]</th>            <td>    3.1804</td> <td>    1.183</td> <td>    2.689</td> <td> 0.007</td> <td>    0.862</td> <td>    5.499</td>\n",
       "</tr>\n",
       "<tr>\n",
       "  <th>C(simple_agreement)[T.1]</th>             <td>    3.3526</td> <td>    0.877</td> <td>    3.824</td> <td> 0.000</td> <td>    1.634</td> <td>    5.071</td>\n",
       "</tr>\n",
       "<tr>\n",
       "  <th>C(elaborated_agreement)[T.1]</th>         <td>    5.3791</td> <td>    0.878</td> <td>    6.128</td> <td> 0.000</td> <td>    3.659</td> <td>    7.100</td>\n",
       "</tr>\n",
       "<tr>\n",
       "  <th>C(topic_shift)[T.1]</th>                  <td>   -0.2070</td> <td>    0.562</td> <td>   -0.368</td> <td> 0.713</td> <td>   -1.308</td> <td>    0.894</td>\n",
       "</tr>\n",
       "<tr>\n",
       "  <th>C(blending)[T.1]</th>                     <td>   -0.1488</td> <td>    0.465</td> <td>   -0.320</td> <td> 0.749</td> <td>   -1.060</td> <td>    0.762</td>\n",
       "</tr>\n",
       "<tr>\n",
       "  <th>C(building)[T.1]</th>                     <td>   -4.6446</td> <td>    0.547</td> <td>   -8.484</td> <td> 0.000</td> <td>   -5.718</td> <td>   -3.572</td>\n",
       "</tr>\n",
       "<tr>\n",
       "  <th>C(broadening)[T.1]</th>                   <td>    0.8609</td> <td>    0.548</td> <td>    1.572</td> <td> 0.116</td> <td>   -0.213</td> <td>    1.934</td>\n",
       "</tr>\n",
       "<tr>\n",
       "  <th>C(fact)[T.1]</th>                         <td>   -1.7230</td> <td>    0.695</td> <td>   -2.479</td> <td> 0.013</td> <td>   -3.085</td> <td>   -0.361</td>\n",
       "</tr>\n",
       "<tr>\n",
       "  <th>C(value)[T.1]</th>                        <td>    0.6539</td> <td>    0.542</td> <td>    1.206</td> <td> 0.228</td> <td>   -0.409</td> <td>    1.716</td>\n",
       "</tr>\n",
       "<tr>\n",
       "  <th>C(policy)[T.1]</th>                       <td>   -5.9471</td> <td>    0.858</td> <td>   -6.934</td> <td> 0.000</td> <td>   -7.628</td> <td>   -4.266</td>\n",
       "</tr>\n",
       "<tr>\n",
       "  <th>C(interpretation)[T.1]</th>               <td>   -1.4267</td> <td>    0.457</td> <td>   -3.123</td> <td> 0.002</td> <td>   -2.322</td> <td>   -0.531</td>\n",
       "</tr>\n",
       "<tr>\n",
       "  <th>C(gives_reason_s)[T.1]</th>               <td>   -1.3609</td> <td>    0.647</td> <td>   -2.102</td> <td> 0.036</td> <td>   -2.630</td> <td>   -0.092</td>\n",
       "</tr>\n",
       "<tr>\n",
       "  <th>C(presents_evidence)[T.1]</th>            <td>   -1.3615</td> <td>    0.797</td> <td>   -1.708</td> <td> 0.088</td> <td>   -2.924</td> <td>    0.201</td>\n",
       "</tr>\n",
       "<tr>\n",
       "  <th>C(asks_question_s)[T.1]</th>              <td>    0.4006</td> <td>    0.560</td> <td>    0.716</td> <td> 0.474</td> <td>   -0.697</td> <td>    1.498</td>\n",
       "</tr>\n",
       "<tr>\n",
       "  <th>C(provides_information)[T.1]</th>         <td>   -0.5793</td> <td>    0.967</td> <td>   -0.599</td> <td> 0.549</td> <td>   -2.474</td> <td>    1.316</td>\n",
       "</tr>\n",
       "<tr>\n",
       "  <th>C(clarifies_position_stance)[T.1]</th>    <td>    2.6525</td> <td>    0.695</td> <td>    3.819</td> <td> 0.000</td> <td>    1.291</td> <td>    4.014</td>\n",
       "</tr>\n",
       "<tr>\n",
       "  <th>C(responds_to_previous_comment)[T.1]</th> <td>    0.0267</td> <td>    0.592</td> <td>    0.045</td> <td> 0.964</td> <td>   -1.133</td> <td>    1.187</td>\n",
       "</tr>\n",
       "<tr>\n",
       "  <th>C(moderator_post)[T.1]</th>               <td>    0.4628</td> <td>    0.503</td> <td>    0.919</td> <td> 0.358</td> <td>   -0.524</td> <td>    1.449</td>\n",
       "</tr>\n",
       "<tr>\n",
       "  <th>C(acknowledges_problem)[T.1]</th>         <td>    0.1027</td> <td>    0.487</td> <td>    0.211</td> <td> 0.833</td> <td>   -0.851</td> <td>    1.057</td>\n",
       "</tr>\n",
       "<tr>\n",
       "  <th>number_of_likes</th>                      <td>    0.0898</td> <td>    0.101</td> <td>    0.892</td> <td> 0.372</td> <td>   -0.108</td> <td>    0.287</td>\n",
       "</tr>\n",
       "<tr>\n",
       "  <th>number_of_ideas</th>                      <td>   -0.2513</td> <td>    0.233</td> <td>   -1.079</td> <td> 0.281</td> <td>   -0.708</td> <td>    0.205</td>\n",
       "</tr>\n",
       "</table>"
      ],
      "text/plain": [
       "<class 'statsmodels.iolib.summary.Summary'>\n",
       "\"\"\"\n",
       "                           Generalized Linear Model Regression Results                            \n",
       "==================================================================================================\n",
       "Dep. Variable:     ['disagreement[0]', 'disagreement[1]']   No. Observations:                  488\n",
       "Model:                                                GLM   Df Residuals:                      466\n",
       "Model Family:                                    Binomial   Df Model:                           21\n",
       "Link Function:                                      logit   Scale:                          1.0000\n",
       "Method:                                              IRLS   Log-Likelihood:                -98.349\n",
       "Date:                                    Mon, 05 Oct 2020   Deviance:                       196.70\n",
       "Time:                                            09:20:13   Pearson chi2:                     341.\n",
       "No. Iterations:                                         7                                         \n",
       "Covariance Type:                                nonrobust                                         \n",
       "========================================================================================================\n",
       "                                           coef    std err          z      P>|z|      [0.025      0.975]\n",
       "--------------------------------------------------------------------------------------------------------\n",
       "Intercept                                2.1744      1.231      1.767      0.077      -0.238       4.586\n",
       "C(constructive_tone)[T.1]                3.1804      1.183      2.689      0.007       0.862       5.499\n",
       "C(simple_agreement)[T.1]                 3.3526      0.877      3.824      0.000       1.634       5.071\n",
       "C(elaborated_agreement)[T.1]             5.3791      0.878      6.128      0.000       3.659       7.100\n",
       "C(topic_shift)[T.1]                     -0.2070      0.562     -0.368      0.713      -1.308       0.894\n",
       "C(blending)[T.1]                        -0.1488      0.465     -0.320      0.749      -1.060       0.762\n",
       "C(building)[T.1]                        -4.6446      0.547     -8.484      0.000      -5.718      -3.572\n",
       "C(broadening)[T.1]                       0.8609      0.548      1.572      0.116      -0.213       1.934\n",
       "C(fact)[T.1]                            -1.7230      0.695     -2.479      0.013      -3.085      -0.361\n",
       "C(value)[T.1]                            0.6539      0.542      1.206      0.228      -0.409       1.716\n",
       "C(policy)[T.1]                          -5.9471      0.858     -6.934      0.000      -7.628      -4.266\n",
       "C(interpretation)[T.1]                  -1.4267      0.457     -3.123      0.002      -2.322      -0.531\n",
       "C(gives_reason_s)[T.1]                  -1.3609      0.647     -2.102      0.036      -2.630      -0.092\n",
       "C(presents_evidence)[T.1]               -1.3615      0.797     -1.708      0.088      -2.924       0.201\n",
       "C(asks_question_s)[T.1]                  0.4006      0.560      0.716      0.474      -0.697       1.498\n",
       "C(provides_information)[T.1]            -0.5793      0.967     -0.599      0.549      -2.474       1.316\n",
       "C(clarifies_position_stance)[T.1]        2.6525      0.695      3.819      0.000       1.291       4.014\n",
       "C(responds_to_previous_comment)[T.1]     0.0267      0.592      0.045      0.964      -1.133       1.187\n",
       "C(moderator_post)[T.1]                   0.4628      0.503      0.919      0.358      -0.524       1.449\n",
       "C(acknowledges_problem)[T.1]             0.1027      0.487      0.211      0.833      -0.851       1.057\n",
       "number_of_likes                          0.0898      0.101      0.892      0.372      -0.108       0.287\n",
       "number_of_ideas                         -0.2513      0.233     -1.079      0.281      -0.708       0.205\n",
       "========================================================================================================\n",
       "\"\"\""
      ]
     },
     "execution_count": 448,
     "metadata": {},
     "output_type": "execute_result"
    }
   ],
   "source": [
    "best_models[0]['model'].summary()"
   ]
  },
  {
   "cell_type": "markdown",
   "metadata": {},
   "source": [
    "### 9. Fit a model with only the statistically significant predictors"
   ]
  },
  {
   "cell_type": "markdown",
   "metadata": {},
   "source": [
    "Get the name of the predictors that have a statistically significant influence on disagreement."
   ]
  },
  {
   "cell_type": "code",
   "execution_count": 449,
   "metadata": {},
   "outputs": [],
   "source": [
    "ss_predictors = []\n",
    "model_predictors = best_models[0]['model'].pvalues.index\n",
    "for idx, p_value in enumerate(best_models[0]['model'].pvalues):\n",
    "    if p_value < alpha_level:\n",
    "        if 'C(' in model_predictors[idx]:\n",
    "            predictor_name = model_predictors[idx].split('[T')[0]\n",
    "        else:\n",
    "            predictor_name = model_predictors[idx]\n",
    "        ss_predictors.append(predictor_name)"
   ]
  },
  {
   "cell_type": "code",
   "execution_count": 450,
   "metadata": {},
   "outputs": [],
   "source": [
    "formula = 'disagreement ~ '\n",
    "formula += ' + '.join(ss_predictors)\n",
    "best_model = glm(formula, data = rq1_df, family = sm.families.Binomial()).fit()"
   ]
  },
  {
   "cell_type": "code",
   "execution_count": 451,
   "metadata": {},
   "outputs": [
    {
     "data": {
      "text/html": [
       "<table class=\"simpletable\">\n",
       "<caption>Generalized Linear Model Regression Results</caption>\n",
       "<tr>\n",
       "  <th>Dep. Variable:</th>   <td>['disagreement[0]', 'disagreement[1]']</td> <th>  No. Observations:  </th>  <td>   488</td> \n",
       "</tr>\n",
       "<tr>\n",
       "  <th>Model:</th>                             <td>GLM</td>                  <th>  Df Residuals:      </th>  <td>   478</td> \n",
       "</tr>\n",
       "<tr>\n",
       "  <th>Model Family:</th>                   <td>Binomial</td>                <th>  Df Model:          </th>  <td>     9</td> \n",
       "</tr>\n",
       "<tr>\n",
       "  <th>Link Function:</th>                    <td>logit</td>                 <th>  Scale:             </th> <td>  1.0000</td>\n",
       "</tr>\n",
       "<tr>\n",
       "  <th>Method:</th>                           <td>IRLS</td>                  <th>  Log-Likelihood:    </th> <td> -103.19</td>\n",
       "</tr>\n",
       "<tr>\n",
       "  <th>Date:</th>                       <td>Mon, 05 Oct 2020</td>            <th>  Deviance:          </th> <td>  206.38</td>\n",
       "</tr>\n",
       "<tr>\n",
       "  <th>Time:</th>                           <td>09:20:34</td>                <th>  Pearson chi2:      </th>  <td>  377.</td> \n",
       "</tr>\n",
       "<tr>\n",
       "  <th>No. Iterations:</th>                     <td>7</td>                   <th>                     </th>     <td> </td>   \n",
       "</tr>\n",
       "<tr>\n",
       "  <th>Covariance Type:</th>                <td>nonrobust</td>               <th>                     </th>     <td> </td>   \n",
       "</tr>\n",
       "</table>\n",
       "<table class=\"simpletable\">\n",
       "<tr>\n",
       "                  <td></td>                     <th>coef</th>     <th>std err</th>      <th>z</th>      <th>P>|z|</th>  <th>[0.025</th>    <th>0.975]</th>  \n",
       "</tr>\n",
       "<tr>\n",
       "  <th>Intercept</th>                         <td>    1.8013</td> <td>    1.061</td> <td>    1.697</td> <td> 0.090</td> <td>   -0.279</td> <td>    3.881</td>\n",
       "</tr>\n",
       "<tr>\n",
       "  <th>C(constructive_tone)[T.1]</th>         <td>    3.4932</td> <td>    1.108</td> <td>    3.154</td> <td> 0.002</td> <td>    1.322</td> <td>    5.664</td>\n",
       "</tr>\n",
       "<tr>\n",
       "  <th>C(simple_agreement)[T.1]</th>          <td>    3.0489</td> <td>    0.822</td> <td>    3.711</td> <td> 0.000</td> <td>    1.439</td> <td>    4.659</td>\n",
       "</tr>\n",
       "<tr>\n",
       "  <th>C(elaborated_agreement)[T.1]</th>      <td>    5.0409</td> <td>    0.808</td> <td>    6.242</td> <td> 0.000</td> <td>    3.458</td> <td>    6.624</td>\n",
       "</tr>\n",
       "<tr>\n",
       "  <th>C(building)[T.1]</th>                  <td>   -4.3044</td> <td>    0.473</td> <td>   -9.106</td> <td> 0.000</td> <td>   -5.231</td> <td>   -3.378</td>\n",
       "</tr>\n",
       "<tr>\n",
       "  <th>C(fact)[T.1]</th>                      <td>   -2.0400</td> <td>    0.676</td> <td>   -3.016</td> <td> 0.003</td> <td>   -3.366</td> <td>   -0.714</td>\n",
       "</tr>\n",
       "<tr>\n",
       "  <th>C(policy)[T.1]</th>                    <td>   -5.6346</td> <td>    0.790</td> <td>   -7.135</td> <td> 0.000</td> <td>   -7.182</td> <td>   -4.087</td>\n",
       "</tr>\n",
       "<tr>\n",
       "  <th>C(interpretation)[T.1]</th>            <td>   -1.4256</td> <td>    0.441</td> <td>   -3.235</td> <td> 0.001</td> <td>   -2.289</td> <td>   -0.562</td>\n",
       "</tr>\n",
       "<tr>\n",
       "  <th>C(gives_reason_s)[T.1]</th>            <td>   -1.4563</td> <td>    0.552</td> <td>   -2.636</td> <td> 0.008</td> <td>   -2.539</td> <td>   -0.374</td>\n",
       "</tr>\n",
       "<tr>\n",
       "  <th>C(clarifies_position_stance)[T.1]</th> <td>    2.2111</td> <td>    0.624</td> <td>    3.542</td> <td> 0.000</td> <td>    0.988</td> <td>    3.435</td>\n",
       "</tr>\n",
       "</table>"
      ],
      "text/plain": [
       "<class 'statsmodels.iolib.summary.Summary'>\n",
       "\"\"\"\n",
       "                           Generalized Linear Model Regression Results                            \n",
       "==================================================================================================\n",
       "Dep. Variable:     ['disagreement[0]', 'disagreement[1]']   No. Observations:                  488\n",
       "Model:                                                GLM   Df Residuals:                      478\n",
       "Model Family:                                    Binomial   Df Model:                            9\n",
       "Link Function:                                      logit   Scale:                          1.0000\n",
       "Method:                                              IRLS   Log-Likelihood:                -103.19\n",
       "Date:                                    Mon, 05 Oct 2020   Deviance:                       206.38\n",
       "Time:                                            09:20:34   Pearson chi2:                     377.\n",
       "No. Iterations:                                         7                                         \n",
       "Covariance Type:                                nonrobust                                         \n",
       "=====================================================================================================\n",
       "                                        coef    std err          z      P>|z|      [0.025      0.975]\n",
       "-----------------------------------------------------------------------------------------------------\n",
       "Intercept                             1.8013      1.061      1.697      0.090      -0.279       3.881\n",
       "C(constructive_tone)[T.1]             3.4932      1.108      3.154      0.002       1.322       5.664\n",
       "C(simple_agreement)[T.1]              3.0489      0.822      3.711      0.000       1.439       4.659\n",
       "C(elaborated_agreement)[T.1]          5.0409      0.808      6.242      0.000       3.458       6.624\n",
       "C(building)[T.1]                     -4.3044      0.473     -9.106      0.000      -5.231      -3.378\n",
       "C(fact)[T.1]                         -2.0400      0.676     -3.016      0.003      -3.366      -0.714\n",
       "C(policy)[T.1]                       -5.6346      0.790     -7.135      0.000      -7.182      -4.087\n",
       "C(interpretation)[T.1]               -1.4256      0.441     -3.235      0.001      -2.289      -0.562\n",
       "C(gives_reason_s)[T.1]               -1.4563      0.552     -2.636      0.008      -2.539      -0.374\n",
       "C(clarifies_position_stance)[T.1]     2.2111      0.624      3.542      0.000       0.988       3.435\n",
       "=====================================================================================================\n",
       "\"\"\""
      ]
     },
     "execution_count": 451,
     "metadata": {},
     "output_type": "execute_result"
    }
   ],
   "source": [
    "best_model.summary()"
   ]
  },
  {
   "cell_type": "markdown",
   "metadata": {},
   "source": [
    "**Interpretation of predictors' effect**"
   ]
  },
  {
   "cell_type": "code",
   "execution_count": 452,
   "metadata": {},
   "outputs": [],
   "source": [
    "constructive = np.exp(best_model.params[1])\n",
    "simple_agreement = np.exp(best_model.params[2])\n",
    "elaborated_agreement = np.exp(best_model.params[3])\n",
    "building = np.exp(best_model.params[4])\n",
    "fact = np.exp(best_model.params[5])\n",
    "policy = np.exp(best_model.params[6])\n",
    "interpretation = np.exp(best_model.params[7])\n",
    "give_reasons = np.exp(best_model.params[8])\n",
    "clarify = np.exp(best_model.params[9])"
   ]
  },
  {
   "cell_type": "markdown",
   "metadata": {},
   "source": [
    "**Constructive Tone**"
   ]
  },
  {
   "cell_type": "code",
   "execution_count": 453,
   "metadata": {},
   "outputs": [
    {
     "name": "stdout",
     "output_type": "stream",
     "text": [
      "The odds that disagreement appears in a discussion with constructive tone are 32.8903 times the estimates odds that disagreement appears in a discussion without constructive tone.\n"
     ]
    }
   ],
   "source": [
    "print(f\"The odds that disagreement appears in a discussion with constructive tone are {round(constructive,4)} \" \\\n",
    "      f\"times the estimates odds that disagreement appears in a discussion without constructive tone.\")"
   ]
  },
  {
   "cell_type": "markdown",
   "metadata": {},
   "source": [
    "**Simple Agreement**"
   ]
  },
  {
   "cell_type": "code",
   "execution_count": 454,
   "metadata": {},
   "outputs": [
    {
     "name": "stdout",
     "output_type": "stream",
     "text": [
      "The odds that disagreement appears in a discussion with simple agreement are 21.09242 times the odds that disagreement appears in a discussion without simple agreement.\n"
     ]
    }
   ],
   "source": [
    "print(f\"The odds that disagreement appears in a discussion with simple agreement are \"\\\n",
    "      f\"{round(simple_agreement,5)} times the odds that disagreement appears in a \"\\\n",
    "      f\"discussion without simple agreement.\")"
   ]
  },
  {
   "cell_type": "markdown",
   "metadata": {},
   "source": [
    "**Elaborated Agreement**"
   ]
  },
  {
   "cell_type": "code",
   "execution_count": 455,
   "metadata": {},
   "outputs": [
    {
     "name": "stdout",
     "output_type": "stream",
     "text": [
      "The odds that disagreement appears in a discussion with elaborated agreement are 154.60404 times the odds that disagreement appears in a discussion without elaborated agreement.\n"
     ]
    }
   ],
   "source": [
    "print(f\"The odds that disagreement appears in a discussion with elaborated agreement are \"\\\n",
    "      f\"{round(elaborated_agreement,5)} times the odds that disagreement appears in a \"\\\n",
    "      f\"discussion without elaborated agreement.\")"
   ]
  },
  {
   "cell_type": "markdown",
   "metadata": {},
   "source": [
    "**Building**"
   ]
  },
  {
   "cell_type": "code",
   "execution_count": 456,
   "metadata": {},
   "outputs": [
    {
     "name": "stdout",
     "output_type": "stream",
     "text": [
      "The odds that disagreement appears in a discussion where participants build upon others' ideas are 0.0135 times the odds that disagreement appears in a discussion without building.\n"
     ]
    }
   ],
   "source": [
    "print(f\"The odds that disagreement appears in a discussion where participants build upon others' ideas \"\\\n",
    "      f\"are {round(building,4)} times the odds that disagreement appears in a discussion without building.\")"
   ]
  },
  {
   "cell_type": "markdown",
   "metadata": {},
   "source": [
    "**Fact**"
   ]
  },
  {
   "cell_type": "code",
   "execution_count": 457,
   "metadata": {},
   "outputs": [
    {
     "name": "stdout",
     "output_type": "stream",
     "text": [
      "The odds that disagreement appears in a discussion where participants provide facts are 0.13 times the odds that disagreement appears in a discussion without facts.\n"
     ]
    }
   ],
   "source": [
    "print(f\"The odds that disagreement appears in a discussion where participants provide facts \"\\\n",
    "      f\"are {round(fact,4)} times the odds that disagreement appears in a discussion without facts.\")"
   ]
  },
  {
   "cell_type": "markdown",
   "metadata": {},
   "source": [
    "**Policy**"
   ]
  },
  {
   "cell_type": "code",
   "execution_count": 458,
   "metadata": {},
   "outputs": [
    {
     "name": "stdout",
     "output_type": "stream",
     "text": [
      "The odds that disagreement appears in a discussion with policy are 0.00357 times the odds that disagreement appears in a discussion without policy.\n"
     ]
    }
   ],
   "source": [
    "print(f\"The odds that disagreement appears in a discussion with policy are \"\\\n",
    "      f\"{round(policy,5)} times the odds that disagreement appears in a \"\\\n",
    "      f\"discussion without policy.\")"
   ]
  },
  {
   "cell_type": "markdown",
   "metadata": {},
   "source": [
    "**Interpretation**"
   ]
  },
  {
   "cell_type": "code",
   "execution_count": 459,
   "metadata": {},
   "outputs": [
    {
     "name": "stdout",
     "output_type": "stream",
     "text": [
      "The odds that disagreement appears in a discussion with intepretation are 0.24036 times the odds that disagreement appears in a discussion without interpretation.\n"
     ]
    }
   ],
   "source": [
    "print(f\"The odds that disagreement appears in a discussion with intepretation are \"\\\n",
    "      f\"{round(interpretation,5)} times the odds that disagreement appears in a \"\\\n",
    "      f\"discussion without interpretation.\")"
   ]
  },
  {
   "cell_type": "markdown",
   "metadata": {},
   "source": [
    "**Give reasons**"
   ]
  },
  {
   "cell_type": "code",
   "execution_count": 461,
   "metadata": {},
   "outputs": [
    {
     "name": "stdout",
     "output_type": "stream",
     "text": [
      "The odds that disagreement appears in a discussion in which participants give reasons are 0.2331 times the odds that disagreement appears in a discussion in which participant don't give reasons.\n"
     ]
    }
   ],
   "source": [
    "print(f\"The odds that disagreement appears in a discussion in which participants give reasons are \"\\\n",
    "      f\"{round(give_reasons,5)} times the odds that disagreement appears in a \"\\\n",
    "      f\"discussion in which participant don't give reasons.\")"
   ]
  },
  {
   "cell_type": "markdown",
   "metadata": {},
   "source": [
    "**Clarify position/stance**"
   ]
  },
  {
   "cell_type": "code",
   "execution_count": 462,
   "metadata": {},
   "outputs": [
    {
     "name": "stdout",
     "output_type": "stream",
     "text": [
      "The odds that disagreement appears in a discussion in which participants clarify their positions are 9.12603 times the odds that disagreement appears in a discussion in which participant don't clarify their positions.\n"
     ]
    }
   ],
   "source": [
    "print(f\"The odds that disagreement appears in a discussion in which participants clarify their positions are \"\\\n",
    "      f\"{round(clarify,5)} times the odds that disagreement appears in a \"\\\n",
    "      f\"discussion in which participant don't clarify their positions.\")"
   ]
  },
  {
   "cell_type": "markdown",
   "metadata": {},
   "source": [
    "### Findings"
   ]
  },
  {
   "cell_type": "markdown",
   "metadata": {},
   "source": [
    "The model that better models the presence of disagreement is composed of the variables `elaborated agreement`, `constructive tone`, `simple agreement`, `clarify position`, `interpretation`, `building`, `fact`, `policy`, and `give reasons`. The variables influence the presence of disagreement with different strenght. The most influencial showed to be `elaborated agreement`."
   ]
  },
  {
   "cell_type": "markdown",
   "metadata": {},
   "source": [
    "## RQ1. Predictors of disagreement by discussion theme"
   ]
  },
  {
   "cell_type": "code",
   "execution_count": 25,
   "metadata": {},
   "outputs": [],
   "source": [
    "all_df = get_dataset()"
   ]
  },
  {
   "cell_type": "code",
   "execution_count": 26,
   "metadata": {},
   "outputs": [],
   "source": [
    "predictors_disagreement = [\n",
    "    'number_of_likes', 'number_of_ideas', 'simple_agreement', 'elaborated_agreement', \n",
    "    'topic_shift', 'brainstorming', 'blending', 'building', 'broadening', 'fact', 'value', 'policy', \n",
    "    'interpretation', 'gives_reason_s', 'presents_evidence', 'asks_question_s', 'provides_information', \n",
    "    'clarifies_position_stance', 'responds_to_previous_comment', 'constructive_tone', 'moderator_post', \n",
    "    'acknowledges_problem'\n",
    "]"
   ]
  },
  {
   "cell_type": "code",
   "execution_count": 27,
   "metadata": {},
   "outputs": [],
   "source": [
    "numerical_predictors = ['number_of_likes', 'number_of_ideas']"
   ]
  },
  {
   "cell_type": "markdown",
   "metadata": {},
   "source": [
    "### Theme: Member"
   ]
  },
  {
   "cell_type": "code",
   "execution_count": 28,
   "metadata": {},
   "outputs": [],
   "source": [
    "categorical_predictors = predictors_disagreement.copy()\n",
    "for numerical_predictor in numerical_predictors:\n",
    "    categorical_predictors.remove(numerical_predictor)"
   ]
  },
  {
   "cell_type": "code",
   "execution_count": 29,
   "metadata": {},
   "outputs": [
    {
     "name": "stdout",
     "output_type": "stream",
     "text": [
      "The analysis is conducted with a dataset composed of 212 rows and 23 columns\n",
      "After the step above the dataset is composed of 212 rows and 23 columns\n"
     ]
    },
    {
     "name": "stderr",
     "output_type": "stream",
     "text": [
      "/home/jorge/Dropbox/Data Analyses/disagreement/env/lib/python3.7/site-packages/pandas/core/ops/array_ops.py:253: FutureWarning: elementwise comparison failed; returning scalar instead, but in the future will perform elementwise comparison\n",
      "  res_values = method(rvalues)\n"
     ]
    },
    {
     "name": "stdout",
     "output_type": "stream",
     "text": [
      "There are 20 possible models\n"
     ]
    },
    {
     "name": "stderr",
     "output_type": "stream",
     "text": [
      "/home/jorge/Dropbox/Data Analyses/disagreement/env/lib/python3.7/site-packages/statsmodels/genmod/families/family.py:894: RuntimeWarning: invalid value encountered in true_divide\n",
      "  n_endog_mu = self._clean((1. - endog) / (1. - mu))\n",
      "/home/jorge/Dropbox/Data Analyses/disagreement/env/lib/python3.7/site-packages/statsmodels/genmod/families/family.py:946: RuntimeWarning: divide by zero encountered in true_divide\n",
      "  special.gammaln(n - y + 1) + y * np.log(mu / (1 - mu)) +\n",
      "/home/jorge/Dropbox/Data Analyses/disagreement/env/lib/python3.7/site-packages/statsmodels/genmod/families/family.py:947: RuntimeWarning: divide by zero encountered in log\n",
      "  n * np.log(1 - mu)) * var_weights\n",
      "/home/jorge/Dropbox/Data Analyses/disagreement/env/lib/python3.7/site-packages/statsmodels/genmod/families/family.py:947: RuntimeWarning: invalid value encountered in add\n",
      "  n * np.log(1 - mu)) * var_weights\n"
     ]
    },
    {
     "name": "stdout",
     "output_type": "stream",
     "text": [
      "There are 1 best model(s)\n"
     ]
    }
   ],
   "source": [
    "best_model = predict_disagreement(all_df, categorical_predictors, numerical_predictors, theme='member')"
   ]
  },
  {
   "cell_type": "markdown",
   "metadata": {},
   "source": [
    "**Best model**"
   ]
  },
  {
   "cell_type": "code",
   "execution_count": 30,
   "metadata": {},
   "outputs": [
    {
     "data": {
      "text/html": [
       "<table class=\"simpletable\">\n",
       "<caption>Generalized Linear Model Regression Results</caption>\n",
       "<tr>\n",
       "  <th>Dep. Variable:</th>   <td>['disagreement[0]', 'disagreement[1]']</td> <th>  No. Observations:  </th>  <td>   212</td> \n",
       "</tr>\n",
       "<tr>\n",
       "  <th>Model:</th>                             <td>GLM</td>                  <th>  Df Residuals:      </th>  <td>   203</td> \n",
       "</tr>\n",
       "<tr>\n",
       "  <th>Model Family:</th>                   <td>Binomial</td>                <th>  Df Model:          </th>  <td>     8</td> \n",
       "</tr>\n",
       "<tr>\n",
       "  <th>Link Function:</th>                    <td>logit</td>                 <th>  Scale:             </th> <td>  1.0000</td>\n",
       "</tr>\n",
       "<tr>\n",
       "  <th>Method:</th>                           <td>IRLS</td>                  <th>  Log-Likelihood:    </th> <td> -37.212</td>\n",
       "</tr>\n",
       "<tr>\n",
       "  <th>Date:</th>                       <td>Mon, 05 Oct 2020</td>            <th>  Deviance:          </th> <td>  74.424</td>\n",
       "</tr>\n",
       "<tr>\n",
       "  <th>Time:</th>                           <td>11:56:09</td>                <th>  Pearson chi2:      </th>  <td>  111.</td> \n",
       "</tr>\n",
       "<tr>\n",
       "  <th>No. Iterations:</th>                     <td>8</td>                   <th>                     </th>     <td> </td>   \n",
       "</tr>\n",
       "<tr>\n",
       "  <th>Covariance Type:</th>                <td>nonrobust</td>               <th>                     </th>     <td> </td>   \n",
       "</tr>\n",
       "</table>\n",
       "<table class=\"simpletable\">\n",
       "<tr>\n",
       "                  <td></td>                     <th>coef</th>     <th>std err</th>      <th>z</th>      <th>P>|z|</th>  <th>[0.025</th>    <th>0.975]</th>  \n",
       "</tr>\n",
       "<tr>\n",
       "  <th>Intercept</th>                         <td>    6.0476</td> <td>    1.395</td> <td>    4.334</td> <td> 0.000</td> <td>    3.313</td> <td>    8.782</td>\n",
       "</tr>\n",
       "<tr>\n",
       "  <th>C(brainstorming)[T.1]</th>             <td>    1.0413</td> <td>    0.868</td> <td>    1.200</td> <td> 0.230</td> <td>   -0.659</td> <td>    2.742</td>\n",
       "</tr>\n",
       "<tr>\n",
       "  <th>C(elaborated_agreement)[T.1]</th>      <td>    4.2873</td> <td>    1.100</td> <td>    3.896</td> <td> 0.000</td> <td>    2.130</td> <td>    6.444</td>\n",
       "</tr>\n",
       "<tr>\n",
       "  <th>C(building)[T.1]</th>                  <td>   -7.8825</td> <td>    1.511</td> <td>   -5.217</td> <td> 0.000</td> <td>  -10.844</td> <td>   -4.921</td>\n",
       "</tr>\n",
       "<tr>\n",
       "  <th>C(policy)[T.1]</th>                    <td>   -3.1406</td> <td>    0.938</td> <td>   -3.349</td> <td> 0.001</td> <td>   -4.979</td> <td>   -1.303</td>\n",
       "</tr>\n",
       "<tr>\n",
       "  <th>C(interpretation)[T.1]</th>            <td>   -2.1282</td> <td>    0.749</td> <td>   -2.842</td> <td> 0.004</td> <td>   -3.596</td> <td>   -0.661</td>\n",
       "</tr>\n",
       "<tr>\n",
       "  <th>C(provides_information)[T.1]</th>      <td>   -3.7001</td> <td>    1.775</td> <td>   -2.084</td> <td> 0.037</td> <td>   -7.179</td> <td>   -0.221</td>\n",
       "</tr>\n",
       "<tr>\n",
       "  <th>C(clarifies_position_stance)[T.1]</th> <td>    2.2710</td> <td>    0.878</td> <td>    2.586</td> <td> 0.010</td> <td>    0.549</td> <td>    3.993</td>\n",
       "</tr>\n",
       "<tr>\n",
       "  <th>C(acknowledges_problem)[T.1]</th>      <td>   -1.5103</td> <td>    0.767</td> <td>   -1.968</td> <td> 0.049</td> <td>   -3.014</td> <td>   -0.006</td>\n",
       "</tr>\n",
       "</table>"
      ],
      "text/plain": [
       "<class 'statsmodels.iolib.summary.Summary'>\n",
       "\"\"\"\n",
       "                           Generalized Linear Model Regression Results                            \n",
       "==================================================================================================\n",
       "Dep. Variable:     ['disagreement[0]', 'disagreement[1]']   No. Observations:                  212\n",
       "Model:                                                GLM   Df Residuals:                      203\n",
       "Model Family:                                    Binomial   Df Model:                            8\n",
       "Link Function:                                      logit   Scale:                          1.0000\n",
       "Method:                                              IRLS   Log-Likelihood:                -37.212\n",
       "Date:                                    Mon, 05 Oct 2020   Deviance:                       74.424\n",
       "Time:                                            11:56:09   Pearson chi2:                     111.\n",
       "No. Iterations:                                         8                                         \n",
       "Covariance Type:                                nonrobust                                         \n",
       "=====================================================================================================\n",
       "                                        coef    std err          z      P>|z|      [0.025      0.975]\n",
       "-----------------------------------------------------------------------------------------------------\n",
       "Intercept                             6.0476      1.395      4.334      0.000       3.313       8.782\n",
       "C(brainstorming)[T.1]                 1.0413      0.868      1.200      0.230      -0.659       2.742\n",
       "C(elaborated_agreement)[T.1]          4.2873      1.100      3.896      0.000       2.130       6.444\n",
       "C(building)[T.1]                     -7.8825      1.511     -5.217      0.000     -10.844      -4.921\n",
       "C(policy)[T.1]                       -3.1406      0.938     -3.349      0.001      -4.979      -1.303\n",
       "C(interpretation)[T.1]               -2.1282      0.749     -2.842      0.004      -3.596      -0.661\n",
       "C(provides_information)[T.1]         -3.7001      1.775     -2.084      0.037      -7.179      -0.221\n",
       "C(clarifies_position_stance)[T.1]     2.2710      0.878      2.586      0.010       0.549       3.993\n",
       "C(acknowledges_problem)[T.1]         -1.5103      0.767     -1.968      0.049      -3.014      -0.006\n",
       "=====================================================================================================\n",
       "\"\"\""
      ]
     },
     "execution_count": 30,
     "metadata": {},
     "output_type": "execute_result"
    }
   ],
   "source": [
    "best_model.summary()"
   ]
  },
  {
   "cell_type": "markdown",
   "metadata": {},
   "source": [
    "The predictor `elaborated_agreement`. `bulding`, `policy`, `interpretation`, `provide information`, `clarify position`, and `acknowledge problem` have a statistical significant effect on `disagreement` for the theme `member`."
   ]
  },
  {
   "cell_type": "markdown",
   "metadata": {},
   "source": [
    "**Interpretation of predictors' effect**"
   ]
  },
  {
   "cell_type": "code",
   "execution_count": 31,
   "metadata": {},
   "outputs": [
    {
     "data": {
      "text/plain": [
       "Intercept                            6.047596\n",
       "C(brainstorming)[T.1]                1.041286\n",
       "C(elaborated_agreement)[T.1]         4.287275\n",
       "C(building)[T.1]                    -7.882503\n",
       "C(policy)[T.1]                      -3.140577\n",
       "C(interpretation)[T.1]              -2.128218\n",
       "C(provides_information)[T.1]        -3.700075\n",
       "C(clarifies_position_stance)[T.1]    2.271026\n",
       "C(acknowledges_problem)[T.1]        -1.510349\n",
       "dtype: float64"
      ]
     },
     "execution_count": 31,
     "metadata": {},
     "output_type": "execute_result"
    }
   ],
   "source": [
    "best_model.params"
   ]
  },
  {
   "cell_type": "code",
   "execution_count": 32,
   "metadata": {},
   "outputs": [],
   "source": [
    "elaborated_agreement = np.exp(best_model.params[2])\n",
    "building = np.exp(best_model.params[3])\n",
    "policy = np.exp(best_model.params[4])\n",
    "interpretation = np.exp(best_model.params[5])\n",
    "provide_info = np.exp(best_model.params[6])\n",
    "clarify_position = np.exp(best_model.params[7])\n",
    "ack_problem = np.exp(best_model.params[8])"
   ]
  },
  {
   "cell_type": "markdown",
   "metadata": {},
   "source": [
    "**Elaborated agreement**"
   ]
  },
  {
   "cell_type": "code",
   "execution_count": 35,
   "metadata": {},
   "outputs": [
    {
     "name": "stdout",
     "output_type": "stream",
     "text": [
      "The odds that disagreement appears in a discussion with elaborated agreement are 72.7679 times the odds that disagreement appears in a discussion without elaborated agreement.\n"
     ]
    }
   ],
   "source": [
    "print(f\"The odds that disagreement appears in a discussion with elaborated agreement \"\\\n",
    "      f\"are {round(elaborated_agreement,4)} times the odds that disagreement appears in a discussion without elaborated agreement.\")"
   ]
  },
  {
   "cell_type": "markdown",
   "metadata": {},
   "source": [
    "**Building**"
   ]
  },
  {
   "cell_type": "code",
   "execution_count": 34,
   "metadata": {},
   "outputs": [
    {
     "name": "stdout",
     "output_type": "stream",
     "text": [
      "The odds that disagreement appears in a discussion where participants build upon others' ideas are 0.0004 times the odds that disagreement appears in a discussion without building.\n"
     ]
    }
   ],
   "source": [
    "print(f\"The odds that disagreement appears in a discussion where participants build upon others' ideas \"\\\n",
    "      f\"are {round(building,4)} times the odds that disagreement appears in a discussion without building.\")"
   ]
  },
  {
   "cell_type": "markdown",
   "metadata": {},
   "source": [
    "**Policy**"
   ]
  },
  {
   "cell_type": "code",
   "execution_count": 36,
   "metadata": {},
   "outputs": [
    {
     "name": "stdout",
     "output_type": "stream",
     "text": [
      "The odds that disagreement appears in a discussion with policy are 0.0433 times the odds that disagreement appears in a discussion without policy.\n"
     ]
    }
   ],
   "source": [
    "print(f\"The odds that disagreement appears in a discussion with policy \"\\\n",
    "      f\"are {round(policy,4)} times the odds that disagreement appears in a discussion without policy.\")"
   ]
  },
  {
   "cell_type": "markdown",
   "metadata": {},
   "source": [
    "**Interpretation**"
   ]
  },
  {
   "cell_type": "code",
   "execution_count": 37,
   "metadata": {},
   "outputs": [
    {
     "name": "stdout",
     "output_type": "stream",
     "text": [
      "The odds that disagreement appears in a discussion with interpretation are 0.119 times the odds that disagreement appears in a discussion without interpretation.\n"
     ]
    }
   ],
   "source": [
    "print(f\"The odds that disagreement appears in a discussion with interpretation \"\\\n",
    "      f\"are {round(interpretation,4)} times the odds that disagreement appears in a discussion without interpretation.\")"
   ]
  },
  {
   "cell_type": "markdown",
   "metadata": {},
   "source": [
    "**Provide information**"
   ]
  },
  {
   "cell_type": "code",
   "execution_count": 38,
   "metadata": {},
   "outputs": [
    {
     "name": "stdout",
     "output_type": "stream",
     "text": [
      "The odds that disagreement appears in a discussion in which information is provided are 0.0247 times the odds that disagreement appears in a discussion in which information is not provided.\n"
     ]
    }
   ],
   "source": [
    "print(f\"The odds that disagreement appears in a discussion in which information is provided \"\\\n",
    "      f\"are {round(provide_info,4)} times the odds that disagreement appears in a discussion in which information is not provided.\")"
   ]
  },
  {
   "cell_type": "markdown",
   "metadata": {},
   "source": [
    "**Clarify position**"
   ]
  },
  {
   "cell_type": "code",
   "execution_count": 39,
   "metadata": {},
   "outputs": [
    {
     "name": "stdout",
     "output_type": "stream",
     "text": [
      "The odds that disagreement appears in a discussion in which participants clarify position are 9.6893 times the odds that disagreement appears in a discussion in which participants do not clarify position.\n"
     ]
    }
   ],
   "source": [
    "print(f\"The odds that disagreement appears in a discussion in which participants clarify position \"\\\n",
    "      f\"are {round(clarify_position,4)} times the odds that disagreement appears in a discussion in which \"\\\n",
    "      f\"participants do not clarify position.\")"
   ]
  },
  {
   "cell_type": "markdown",
   "metadata": {},
   "source": [
    "**Acknowledge problem**"
   ]
  },
  {
   "cell_type": "code",
   "execution_count": 40,
   "metadata": {},
   "outputs": [
    {
     "name": "stdout",
     "output_type": "stream",
     "text": [
      "The odds that disagreement appears in a discussion in which participants acknowledge problem are 0.2208 times the odds that disagreement appears in a discussion in which participants do not acknowledge problem.\n"
     ]
    }
   ],
   "source": [
    "print(f\"The odds that disagreement appears in a discussion in which participants acknowledge problem \"\\\n",
    "      f\"are {round(ack_problem,4)} times the odds that disagreement appears in a discussion in which \"\\\n",
    "      f\"participants do not acknowledge problem.\")"
   ]
  },
  {
   "cell_type": "markdown",
   "metadata": {},
   "source": [
    "### Theme: Admin"
   ]
  },
  {
   "cell_type": "code",
   "execution_count": 41,
   "metadata": {},
   "outputs": [
    {
     "name": "stdout",
     "output_type": "stream",
     "text": [
      "The analysis is conducted with a dataset composed of 118 rows and 23 columns\n",
      "After the step above the dataset is composed of 118 rows and 23 columns\n",
      "There are 20 possible models\n"
     ]
    },
    {
     "name": "stderr",
     "output_type": "stream",
     "text": [
      "/home/jorge/Dropbox/Data Analyses/disagreement/env/lib/python3.7/site-packages/statsmodels/genmod/families/links.py:188: RuntimeWarning: overflow encountered in exp\n",
      "  t = np.exp(-z)\n",
      "/home/jorge/Dropbox/Data Analyses/disagreement/env/lib/python3.7/site-packages/statsmodels/genmod/families/family.py:893: RuntimeWarning: invalid value encountered in true_divide\n",
      "  endog_mu = self._clean(endog / mu)\n",
      "/home/jorge/Dropbox/Data Analyses/disagreement/env/lib/python3.7/site-packages/statsmodels/genmod/families/family.py:946: RuntimeWarning: divide by zero encountered in log\n",
      "  special.gammaln(n - y + 1) + y * np.log(mu / (1 - mu)) +\n",
      "/home/jorge/Dropbox/Data Analyses/disagreement/env/lib/python3.7/site-packages/statsmodels/genmod/families/family.py:946: RuntimeWarning: invalid value encountered in multiply\n",
      "  special.gammaln(n - y + 1) + y * np.log(mu / (1 - mu)) +\n"
     ]
    },
    {
     "name": "stdout",
     "output_type": "stream",
     "text": [
      "There are 1 best model(s)\n"
     ]
    }
   ],
   "source": [
    "best_model = predict_disagreement(all_df, categorical_predictors, numerical_predictors, theme='admin')"
   ]
  },
  {
   "cell_type": "markdown",
   "metadata": {},
   "source": [
    "**Best model**"
   ]
  },
  {
   "cell_type": "code",
   "execution_count": 42,
   "metadata": {},
   "outputs": [
    {
     "data": {
      "text/html": [
       "<table class=\"simpletable\">\n",
       "<caption>Generalized Linear Model Regression Results</caption>\n",
       "<tr>\n",
       "  <th>Dep. Variable:</th>   <td>['disagreement[0]', 'disagreement[1]']</td> <th>  No. Observations:  </th>  <td>   118</td> \n",
       "</tr>\n",
       "<tr>\n",
       "  <th>Model:</th>                             <td>GLM</td>                  <th>  Df Residuals:      </th>  <td>   112</td> \n",
       "</tr>\n",
       "<tr>\n",
       "  <th>Model Family:</th>                   <td>Binomial</td>                <th>  Df Model:          </th>  <td>     5</td> \n",
       "</tr>\n",
       "<tr>\n",
       "  <th>Link Function:</th>                    <td>logit</td>                 <th>  Scale:             </th> <td>  1.0000</td>\n",
       "</tr>\n",
       "<tr>\n",
       "  <th>Method:</th>                           <td>IRLS</td>                  <th>  Log-Likelihood:    </th> <td> -34.023</td>\n",
       "</tr>\n",
       "<tr>\n",
       "  <th>Date:</th>                       <td>Mon, 05 Oct 2020</td>            <th>  Deviance:          </th> <td>  68.046</td>\n",
       "</tr>\n",
       "<tr>\n",
       "  <th>Time:</th>                           <td>12:40:40</td>                <th>  Pearson chi2:      </th>  <td>  113.</td> \n",
       "</tr>\n",
       "<tr>\n",
       "  <th>No. Iterations:</th>                     <td>7</td>                   <th>                     </th>     <td> </td>   \n",
       "</tr>\n",
       "<tr>\n",
       "  <th>Covariance Type:</th>                <td>nonrobust</td>               <th>                     </th>     <td> </td>   \n",
       "</tr>\n",
       "</table>\n",
       "<table class=\"simpletable\">\n",
       "<tr>\n",
       "                <td></td>                  <th>coef</th>     <th>std err</th>      <th>z</th>      <th>P>|z|</th>  <th>[0.025</th>    <th>0.975]</th>  \n",
       "</tr>\n",
       "<tr>\n",
       "  <th>Intercept</th>                    <td>    6.3170</td> <td>    1.197</td> <td>    5.276</td> <td> 0.000</td> <td>    3.971</td> <td>    8.664</td>\n",
       "</tr>\n",
       "<tr>\n",
       "  <th>C(value)[T.1]</th>                <td>    0.5174</td> <td>    0.947</td> <td>    0.547</td> <td> 0.585</td> <td>   -1.338</td> <td>    2.373</td>\n",
       "</tr>\n",
       "<tr>\n",
       "  <th>C(building)[T.1]</th>             <td>   -5.3001</td> <td>    1.011</td> <td>   -5.240</td> <td> 0.000</td> <td>   -7.283</td> <td>   -3.318</td>\n",
       "</tr>\n",
       "<tr>\n",
       "  <th>C(policy)[T.1]</th>               <td>   -4.7798</td> <td>    1.147</td> <td>   -4.166</td> <td> 0.000</td> <td>   -7.028</td> <td>   -2.531</td>\n",
       "</tr>\n",
       "<tr>\n",
       "  <th>C(interpretation)[T.1]</th>       <td>    1.5907</td> <td>    0.807</td> <td>    1.970</td> <td> 0.049</td> <td>    0.008</td> <td>    3.173</td>\n",
       "</tr>\n",
       "<tr>\n",
       "  <th>C(acknowledges_problem)[T.1]</th> <td>    1.9115</td> <td>    0.866</td> <td>    2.207</td> <td> 0.027</td> <td>    0.214</td> <td>    3.609</td>\n",
       "</tr>\n",
       "</table>"
      ],
      "text/plain": [
       "<class 'statsmodels.iolib.summary.Summary'>\n",
       "\"\"\"\n",
       "                           Generalized Linear Model Regression Results                            \n",
       "==================================================================================================\n",
       "Dep. Variable:     ['disagreement[0]', 'disagreement[1]']   No. Observations:                  118\n",
       "Model:                                                GLM   Df Residuals:                      112\n",
       "Model Family:                                    Binomial   Df Model:                            5\n",
       "Link Function:                                      logit   Scale:                          1.0000\n",
       "Method:                                              IRLS   Log-Likelihood:                -34.023\n",
       "Date:                                    Mon, 05 Oct 2020   Deviance:                       68.046\n",
       "Time:                                            12:40:40   Pearson chi2:                     113.\n",
       "No. Iterations:                                         7                                         \n",
       "Covariance Type:                                nonrobust                                         \n",
       "================================================================================================\n",
       "                                   coef    std err          z      P>|z|      [0.025      0.975]\n",
       "------------------------------------------------------------------------------------------------\n",
       "Intercept                        6.3170      1.197      5.276      0.000       3.971       8.664\n",
       "C(value)[T.1]                    0.5174      0.947      0.547      0.585      -1.338       2.373\n",
       "C(building)[T.1]                -5.3001      1.011     -5.240      0.000      -7.283      -3.318\n",
       "C(policy)[T.1]                  -4.7798      1.147     -4.166      0.000      -7.028      -2.531\n",
       "C(interpretation)[T.1]           1.5907      0.807      1.970      0.049       0.008       3.173\n",
       "C(acknowledges_problem)[T.1]     1.9115      0.866      2.207      0.027       0.214       3.609\n",
       "================================================================================================\n",
       "\"\"\""
      ]
     },
     "execution_count": 42,
     "metadata": {},
     "output_type": "execute_result"
    }
   ],
   "source": [
    "best_model.summary()"
   ]
  },
  {
   "cell_type": "markdown",
   "metadata": {},
   "source": [
    "The predictors `building`, `policy`, `interpretation`, `acknowledge problem` have a statistical significant effect on `disagreement` for the theme `admin`."
   ]
  },
  {
   "cell_type": "markdown",
   "metadata": {},
   "source": [
    "**Interpretation of predictors' effect**"
   ]
  },
  {
   "cell_type": "code",
   "execution_count": 43,
   "metadata": {},
   "outputs": [
    {
     "data": {
      "text/plain": [
       "Intercept                       6.317005\n",
       "C(value)[T.1]                   0.517368\n",
       "C(building)[T.1]               -5.300098\n",
       "C(policy)[T.1]                 -4.779755\n",
       "C(interpretation)[T.1]          1.590736\n",
       "C(acknowledges_problem)[T.1]    1.911460\n",
       "dtype: float64"
      ]
     },
     "execution_count": 43,
     "metadata": {},
     "output_type": "execute_result"
    }
   ],
   "source": [
    "best_model.params"
   ]
  },
  {
   "cell_type": "code",
   "execution_count": 44,
   "metadata": {},
   "outputs": [],
   "source": [
    "building = np.exp(best_model.params[2])\n",
    "policy = np.exp(best_model.params[3])\n",
    "interpretation = np.exp(best_model.params[4])\n",
    "ack_problem = np.exp(best_model.params[5])"
   ]
  },
  {
   "cell_type": "markdown",
   "metadata": {},
   "source": [
    "Building"
   ]
  },
  {
   "cell_type": "code",
   "execution_count": 45,
   "metadata": {},
   "outputs": [
    {
     "name": "stdout",
     "output_type": "stream",
     "text": [
      "The odds that disagreement appears in a discussion where participants build upon others' ideas are 0.005 times the odds that disagreement appears in a discussion without building.\n"
     ]
    }
   ],
   "source": [
    "print(f\"The odds that disagreement appears in a discussion where participants build upon others' ideas \"\\\n",
    "      f\"are {round(building,4)} times the odds that disagreement appears in a discussion without building.\")"
   ]
  },
  {
   "cell_type": "markdown",
   "metadata": {},
   "source": [
    "Policy"
   ]
  },
  {
   "cell_type": "code",
   "execution_count": 46,
   "metadata": {},
   "outputs": [
    {
     "name": "stdout",
     "output_type": "stream",
     "text": [
      "The odds that disagreement appears in a discussion with policy are 0.0084 times the odds that disagreement appears in a discussion without policy.\n"
     ]
    }
   ],
   "source": [
    "print(f\"The odds that disagreement appears in a discussion with policy \"\\\n",
    "      f\"are {round(policy,4)} times the odds that disagreement appears in a discussion without policy.\")"
   ]
  },
  {
   "cell_type": "markdown",
   "metadata": {},
   "source": [
    "Interpretation"
   ]
  },
  {
   "cell_type": "code",
   "execution_count": 49,
   "metadata": {},
   "outputs": [
    {
     "name": "stdout",
     "output_type": "stream",
     "text": [
      "The odds that disagreement appears in a discussion with interpretation are 4.9074 times the odds that disagreement appears in a discussion without interpretation.\n"
     ]
    }
   ],
   "source": [
    "print(f\"The odds that disagreement appears in a discussion with interpretation \"\\\n",
    "      f\"are {round(interpretation,4)} times the odds that disagreement appears in a discussion without \"\\\n",
    "      \"interpretation.\")"
   ]
  },
  {
   "cell_type": "markdown",
   "metadata": {},
   "source": [
    "Acknowledge problem"
   ]
  },
  {
   "cell_type": "code",
   "execution_count": 50,
   "metadata": {},
   "outputs": [
    {
     "name": "stdout",
     "output_type": "stream",
     "text": [
      "The odds that disagreement appears in a discussion in which problems are acknowledged are 6.763 times the odds that disagreement appears in a discussion in which problems are not acknowledged.\n"
     ]
    }
   ],
   "source": [
    "print(f\"The odds that disagreement appears in a discussion in which problems are acknowledged \"\\\n",
    "      f\"are {round(ack_problem,4)} times the odds that disagreement appears in a discussion in which \"\\\n",
    "      f\"problems are not acknowledged.\")"
   ]
  },
  {
   "cell_type": "markdown",
   "metadata": {},
   "source": [
    "### Theme: Informal"
   ]
  },
  {
   "cell_type": "code",
   "execution_count": 51,
   "metadata": {},
   "outputs": [
    {
     "name": "stdout",
     "output_type": "stream",
     "text": [
      "The analysis is conducted with a dataset composed of 158 rows and 23 columns\n",
      "After the step above the dataset is composed of 158 rows and 23 columns\n",
      "There are 20 possible models\n",
      "There are 1 best model(s)\n"
     ]
    }
   ],
   "source": [
    "best_model = predict_disagreement(all_df, categorical_predictors, numerical_predictors, theme='informal')"
   ]
  },
  {
   "cell_type": "markdown",
   "metadata": {},
   "source": [
    "**Best model**"
   ]
  },
  {
   "cell_type": "code",
   "execution_count": 52,
   "metadata": {},
   "outputs": [
    {
     "data": {
      "text/html": [
       "<table class=\"simpletable\">\n",
       "<caption>Generalized Linear Model Regression Results</caption>\n",
       "<tr>\n",
       "  <th>Dep. Variable:</th>   <td>['disagreement[0]', 'disagreement[1]']</td> <th>  No. Observations:  </th>  <td>   158</td> \n",
       "</tr>\n",
       "<tr>\n",
       "  <th>Model:</th>                             <td>GLM</td>                  <th>  Df Residuals:      </th>  <td>   156</td> \n",
       "</tr>\n",
       "<tr>\n",
       "  <th>Model Family:</th>                   <td>Binomial</td>                <th>  Df Model:          </th>  <td>     1</td> \n",
       "</tr>\n",
       "<tr>\n",
       "  <th>Link Function:</th>                    <td>logit</td>                 <th>  Scale:             </th> <td>  1.0000</td>\n",
       "</tr>\n",
       "<tr>\n",
       "  <th>Method:</th>                           <td>IRLS</td>                  <th>  Log-Likelihood:    </th> <td> -59.172</td>\n",
       "</tr>\n",
       "<tr>\n",
       "  <th>Date:</th>                       <td>Mon, 05 Oct 2020</td>            <th>  Deviance:          </th> <td>  118.34</td>\n",
       "</tr>\n",
       "<tr>\n",
       "  <th>Time:</th>                           <td>12:48:23</td>                <th>  Pearson chi2:      </th>  <td>  158.</td> \n",
       "</tr>\n",
       "<tr>\n",
       "  <th>No. Iterations:</th>                     <td>5</td>                   <th>                     </th>     <td> </td>   \n",
       "</tr>\n",
       "<tr>\n",
       "  <th>Covariance Type:</th>                <td>nonrobust</td>               <th>                     </th>     <td> </td>   \n",
       "</tr>\n",
       "</table>\n",
       "<table class=\"simpletable\">\n",
       "<tr>\n",
       "          <td></td>            <th>coef</th>     <th>std err</th>      <th>z</th>      <th>P>|z|</th>  <th>[0.025</th>    <th>0.975]</th>  \n",
       "</tr>\n",
       "<tr>\n",
       "  <th>Intercept</th>        <td>    1.3499</td> <td>    0.300</td> <td>    4.501</td> <td> 0.000</td> <td>    0.762</td> <td>    1.938</td>\n",
       "</tr>\n",
       "<tr>\n",
       "  <th>C(building)[T.1]</th> <td>   -3.8229</td> <td>    0.495</td> <td>   -7.726</td> <td> 0.000</td> <td>   -4.793</td> <td>   -2.853</td>\n",
       "</tr>\n",
       "</table>"
      ],
      "text/plain": [
       "<class 'statsmodels.iolib.summary.Summary'>\n",
       "\"\"\"\n",
       "                           Generalized Linear Model Regression Results                            \n",
       "==================================================================================================\n",
       "Dep. Variable:     ['disagreement[0]', 'disagreement[1]']   No. Observations:                  158\n",
       "Model:                                                GLM   Df Residuals:                      156\n",
       "Model Family:                                    Binomial   Df Model:                            1\n",
       "Link Function:                                      logit   Scale:                          1.0000\n",
       "Method:                                              IRLS   Log-Likelihood:                -59.172\n",
       "Date:                                    Mon, 05 Oct 2020   Deviance:                       118.34\n",
       "Time:                                            12:48:23   Pearson chi2:                     158.\n",
       "No. Iterations:                                         5                                         \n",
       "Covariance Type:                                nonrobust                                         \n",
       "====================================================================================\n",
       "                       coef    std err          z      P>|z|      [0.025      0.975]\n",
       "------------------------------------------------------------------------------------\n",
       "Intercept            1.3499      0.300      4.501      0.000       0.762       1.938\n",
       "C(building)[T.1]    -3.8229      0.495     -7.726      0.000      -4.793      -2.853\n",
       "====================================================================================\n",
       "\"\"\""
      ]
     },
     "execution_count": 52,
     "metadata": {},
     "output_type": "execute_result"
    }
   ],
   "source": [
    "best_model.summary()"
   ]
  },
  {
   "cell_type": "markdown",
   "metadata": {},
   "source": [
    "The predictor `building` has a statistical significant effect on `disagreement` for the theme `informal`."
   ]
  },
  {
   "cell_type": "markdown",
   "metadata": {},
   "source": [
    "**Interpretation of predictors' effect**"
   ]
  },
  {
   "cell_type": "code",
   "execution_count": 53,
   "metadata": {},
   "outputs": [
    {
     "data": {
      "text/plain": [
       "Intercept           1.349927\n",
       "C(building)[T.1]   -3.822857\n",
       "dtype: float64"
      ]
     },
     "execution_count": 53,
     "metadata": {},
     "output_type": "execute_result"
    }
   ],
   "source": [
    "best_model.params"
   ]
  },
  {
   "cell_type": "code",
   "execution_count": 54,
   "metadata": {},
   "outputs": [],
   "source": [
    "building = np.exp(best_model.params[1])"
   ]
  },
  {
   "cell_type": "markdown",
   "metadata": {},
   "source": [
    "Building"
   ]
  },
  {
   "cell_type": "code",
   "execution_count": 55,
   "metadata": {},
   "outputs": [
    {
     "name": "stdout",
     "output_type": "stream",
     "text": [
      "The odds that disagreement appears in a discussion where participants build upon others' ideas are 0.0219 times the odds that disagreement appears in a discussion without building.\n"
     ]
    }
   ],
   "source": [
    "print(f\"The odds that disagreement appears in a discussion where participants build upon others' ideas \"\\\n",
    "      f\"are {round(building,4)} times the odds that disagreement appears in a discussion without building.\")"
   ]
  },
  {
   "cell_type": "markdown",
   "metadata": {},
   "source": [
    "### Findings"
   ]
  },
  {
   "cell_type": "markdown",
   "metadata": {},
   "source": [
    "Models are differents in each discussion theme. The presence of disagreement in the `member` theme has shown to be statistically significant affected by `elaborated agreement`, `building`, `policy`, `interpretation`, `provide information`, `clarify position`, `acknowledge problem`. `Building`, `policy`, `interpretation`, and `acknowledge problem` influence statistically significant the presence of disagreement in the `admin` theme while `building` has a statistically significant effect on disagreement in the `informal` theme. "
   ]
  },
  {
   "cell_type": "markdown",
   "metadata": {},
   "source": [
    "---"
   ]
  },
  {
   "cell_type": "markdown",
   "metadata": {},
   "source": [
    "## RQ2. Predictors of new ideas"
   ]
  },
  {
   "cell_type": "markdown",
   "metadata": {},
   "source": [
    "### 1. Define and select predictor variables for `new ideas`"
   ]
  },
  {
   "cell_type": "code",
   "execution_count": 56,
   "metadata": {},
   "outputs": [
    {
     "name": "stdout",
     "output_type": "stream",
     "text": [
      "In total 23 variables will be considered in the analysis of RQ2\n"
     ]
    }
   ],
   "source": [
    "predictors_new_ideas = [\n",
    "    'number_of_likes', 'simple_agreement', 'elaborated_agreement', 'simple_disagreement', 'elaborated_disagreement',\n",
    "    'topic_shift', 'brainstorming', 'blending', 'building', 'broadening', 'fact',\n",
    "    'value', 'policy', 'interpretation', 'gives_reason_s', 'presents_evidence', 'asks_question_s',\n",
    "    'provides_information', 'clarifies_position_stance', 'responds_to_previous_comment', \n",
    "    'constructive_tone', 'moderator_post', 'acknowledges_problem'\n",
    "]\n",
    "print(f\"In total {len(predictors_new_ideas)} variables will be considered in the analysis of RQ2\")"
   ]
  },
  {
   "cell_type": "markdown",
   "metadata": {},
   "source": [
    "#### Select columns that include predictors and the target variable"
   ]
  },
  {
   "cell_type": "code",
   "execution_count": 57,
   "metadata": {},
   "outputs": [
    {
     "name": "stdout",
     "output_type": "stream",
     "text": [
      "The analysis is conducted with a dataset composed of 488 rows and 24 columns\n"
     ]
    }
   ],
   "source": [
    "rq2_df = all_df.loc[:,predictors_new_ideas+['number_of_ideas']]\n",
    "print(f\"The analysis is conducted with a dataset composed of {rq2_df.shape[0]} rows and {rq2_df.shape[1]} columns\")"
   ]
  },
  {
   "cell_type": "markdown",
   "metadata": {},
   "source": [
    "### 2. Cast variables to numeric"
   ]
  },
  {
   "cell_type": "markdown",
   "metadata": {},
   "source": [
    "Some variables have the values `unclear` and `nan`, which need to be converted to numerical before casting the variable to this type."
   ]
  },
  {
   "cell_type": "code",
   "execution_count": 58,
   "metadata": {},
   "outputs": [],
   "source": [
    "numerical_predictors = ['number_of_likes', 'number_of_ideas']"
   ]
  },
  {
   "cell_type": "code",
   "execution_count": 59,
   "metadata": {},
   "outputs": [],
   "source": [
    "for col in rq2_df.columns:\n",
    "    rq2_df.loc[rq2_df[col]=='unclear', col] = 0\n",
    "    rq2_df.loc[rq2_df[col].isna(), col] = 0\n",
    "    rq2_df[col] = pd.to_numeric(rq2_df[col], downcast='unsigned')\n",
    "    if col not in numerical_predictors:\n",
    "        unique_values = rq2_df[col].unique()\n",
    "        invalid_values = set(unique_values) - set([0,1])\n",
    "        if len(invalid_values) > 0:  # the column has invalid values                   \n",
    "            invalid_indexes = list(rq2_df.loc[~rq2_df[col].isin([0,1])].index)\n",
    "            if len(invalid_indexes) > 0:\n",
    "                print(f'Found the following invalid values {invalid_values} in {len(invalid_indexes)} '\\\n",
    "                      f'rows of the column {col}. Rows has been discarded.')\n",
    "                rq2_df = rq2_df.drop(index=invalid_indexes)            "
   ]
  },
  {
   "cell_type": "code",
   "execution_count": 60,
   "metadata": {},
   "outputs": [
    {
     "name": "stdout",
     "output_type": "stream",
     "text": [
      "After the step above the dataset is composed of 488 rows and 24 columns\n"
     ]
    }
   ],
   "source": [
    "print(f\"After the step above the dataset is composed of {rq2_df.shape[0]} rows and {rq2_df.shape[1]} columns\")"
   ]
  },
  {
   "cell_type": "markdown",
   "metadata": {},
   "source": [
    "### 3. Check independence between numerical and categorical variables"
   ]
  },
  {
   "cell_type": "markdown",
   "metadata": {},
   "source": [
    "Persons correlation is employed to analyze correlation between numerical and categorical variables. Having dichotomous categorical variables, Persons correlation can be used [ref](https://www.researchgate.net/post/Can_I_use_Pearsons_correlation_coefficient_to_know_the_relation_between_perception_and_gender_age_income). "
   ]
  },
  {
   "cell_type": "code",
   "execution_count": 61,
   "metadata": {},
   "outputs": [],
   "source": [
    "alpha_level = 0.05"
   ]
  },
  {
   "cell_type": "code",
   "execution_count": 62,
   "metadata": {},
   "outputs": [],
   "source": [
    "independence_num_cat = pd.DataFrame(columns=['number_of_likes_cor', 'number_of_likes_p_value'], \n",
    "                                    index=predictors_new_ideas)\n",
    "predictor_1 = 'number_of_likes'\n",
    "for predictor_2 in predictors_new_ideas:        \n",
    "    if predictor_2 == predictor_1:\n",
    "        continue\n",
    "    correlation, p_value = stats.spearmanr(rq2_df[predictor_1], rq2_df[predictor_2])    \n",
    "    independence_num_cat.loc[predictor_2, 'number_of_likes_cor'] = round(correlation, 3)\n",
    "    independence_num_cat.loc[predictor_2, 'number_of_likes_p_value'] = round(p_value, 3)"
   ]
  },
  {
   "cell_type": "code",
   "execution_count": 63,
   "metadata": {},
   "outputs": [
    {
     "data": {
      "text/html": [
       "<div>\n",
       "<style scoped>\n",
       "    .dataframe tbody tr th:only-of-type {\n",
       "        vertical-align: middle;\n",
       "    }\n",
       "\n",
       "    .dataframe tbody tr th {\n",
       "        vertical-align: top;\n",
       "    }\n",
       "\n",
       "    .dataframe thead th {\n",
       "        text-align: right;\n",
       "    }\n",
       "</style>\n",
       "<table border=\"1\" class=\"dataframe\">\n",
       "  <thead>\n",
       "    <tr style=\"text-align: right;\">\n",
       "      <th></th>\n",
       "      <th>number_of_likes_cor</th>\n",
       "      <th>number_of_likes_p_value</th>\n",
       "    </tr>\n",
       "  </thead>\n",
       "  <tbody>\n",
       "    <tr>\n",
       "      <th>number_of_likes</th>\n",
       "      <td>NaN</td>\n",
       "      <td>NaN</td>\n",
       "    </tr>\n",
       "    <tr>\n",
       "      <th>simple_agreement</th>\n",
       "      <td>-0.105</td>\n",
       "      <td>0.02</td>\n",
       "    </tr>\n",
       "    <tr>\n",
       "      <th>elaborated_agreement</th>\n",
       "      <td>0.171</td>\n",
       "      <td>0</td>\n",
       "    </tr>\n",
       "    <tr>\n",
       "      <th>simple_disagreement</th>\n",
       "      <td>-0.084</td>\n",
       "      <td>0.063</td>\n",
       "    </tr>\n",
       "    <tr>\n",
       "      <th>elaborated_disagreement</th>\n",
       "      <td>-0.091</td>\n",
       "      <td>0.044</td>\n",
       "    </tr>\n",
       "    <tr>\n",
       "      <th>topic_shift</th>\n",
       "      <td>0.127</td>\n",
       "      <td>0.005</td>\n",
       "    </tr>\n",
       "    <tr>\n",
       "      <th>brainstorming</th>\n",
       "      <td>0.188</td>\n",
       "      <td>0</td>\n",
       "    </tr>\n",
       "    <tr>\n",
       "      <th>blending</th>\n",
       "      <td>0.094</td>\n",
       "      <td>0.037</td>\n",
       "    </tr>\n",
       "    <tr>\n",
       "      <th>building</th>\n",
       "      <td>-0.145</td>\n",
       "      <td>0.001</td>\n",
       "    </tr>\n",
       "    <tr>\n",
       "      <th>broadening</th>\n",
       "      <td>0.043</td>\n",
       "      <td>0.348</td>\n",
       "    </tr>\n",
       "    <tr>\n",
       "      <th>fact</th>\n",
       "      <td>-0.089</td>\n",
       "      <td>0.049</td>\n",
       "    </tr>\n",
       "    <tr>\n",
       "      <th>value</th>\n",
       "      <td>0.03</td>\n",
       "      <td>0.512</td>\n",
       "    </tr>\n",
       "    <tr>\n",
       "      <th>policy</th>\n",
       "      <td>-0.024</td>\n",
       "      <td>0.593</td>\n",
       "    </tr>\n",
       "    <tr>\n",
       "      <th>interpretation</th>\n",
       "      <td>-0.09</td>\n",
       "      <td>0.047</td>\n",
       "    </tr>\n",
       "    <tr>\n",
       "      <th>gives_reason_s</th>\n",
       "      <td>0.122</td>\n",
       "      <td>0.007</td>\n",
       "    </tr>\n",
       "    <tr>\n",
       "      <th>presents_evidence</th>\n",
       "      <td>0.014</td>\n",
       "      <td>0.764</td>\n",
       "    </tr>\n",
       "    <tr>\n",
       "      <th>asks_question_s</th>\n",
       "      <td>-0.133</td>\n",
       "      <td>0.003</td>\n",
       "    </tr>\n",
       "    <tr>\n",
       "      <th>provides_information</th>\n",
       "      <td>0.013</td>\n",
       "      <td>0.774</td>\n",
       "    </tr>\n",
       "    <tr>\n",
       "      <th>clarifies_position_stance</th>\n",
       "      <td>-0.107</td>\n",
       "      <td>0.018</td>\n",
       "    </tr>\n",
       "    <tr>\n",
       "      <th>responds_to_previous_comment</th>\n",
       "      <td>-0.182</td>\n",
       "      <td>0</td>\n",
       "    </tr>\n",
       "    <tr>\n",
       "      <th>constructive_tone</th>\n",
       "      <td>0.083</td>\n",
       "      <td>0.067</td>\n",
       "    </tr>\n",
       "    <tr>\n",
       "      <th>moderator_post</th>\n",
       "      <td>0.195</td>\n",
       "      <td>0</td>\n",
       "    </tr>\n",
       "    <tr>\n",
       "      <th>acknowledges_problem</th>\n",
       "      <td>0.023</td>\n",
       "      <td>0.605</td>\n",
       "    </tr>\n",
       "  </tbody>\n",
       "</table>\n",
       "</div>"
      ],
      "text/plain": [
       "                             number_of_likes_cor number_of_likes_p_value\n",
       "number_of_likes                              NaN                     NaN\n",
       "simple_agreement                          -0.105                    0.02\n",
       "elaborated_agreement                       0.171                       0\n",
       "simple_disagreement                       -0.084                   0.063\n",
       "elaborated_disagreement                   -0.091                   0.044\n",
       "topic_shift                                0.127                   0.005\n",
       "brainstorming                              0.188                       0\n",
       "blending                                   0.094                   0.037\n",
       "building                                  -0.145                   0.001\n",
       "broadening                                 0.043                   0.348\n",
       "fact                                      -0.089                   0.049\n",
       "value                                       0.03                   0.512\n",
       "policy                                    -0.024                   0.593\n",
       "interpretation                             -0.09                   0.047\n",
       "gives_reason_s                             0.122                   0.007\n",
       "presents_evidence                          0.014                   0.764\n",
       "asks_question_s                           -0.133                   0.003\n",
       "provides_information                       0.013                   0.774\n",
       "clarifies_position_stance                 -0.107                   0.018\n",
       "responds_to_previous_comment              -0.182                       0\n",
       "constructive_tone                          0.083                   0.067\n",
       "moderator_post                             0.195                       0\n",
       "acknowledges_problem                       0.023                   0.605"
      ]
     },
     "execution_count": 63,
     "metadata": {},
     "output_type": "execute_result"
    }
   ],
   "source": [
    "independence_num_cat"
   ]
  },
  {
   "cell_type": "markdown",
   "metadata": {},
   "source": [
    "### 4. Cast categorical variables to category type"
   ]
  },
  {
   "cell_type": "code",
   "execution_count": 64,
   "metadata": {},
   "outputs": [],
   "source": [
    "for col in rq2_df.columns:\n",
    "    if col not in numerical_predictors:\n",
    "        rq2_df[col] = rq2_df[col].astype('category')"
   ]
  },
  {
   "cell_type": "markdown",
   "metadata": {},
   "source": [
    "### 5. Check independence of categorial variables"
   ]
  },
  {
   "cell_type": "code",
   "execution_count": 65,
   "metadata": {},
   "outputs": [],
   "source": [
    "independece_analysis = pd.DataFrame(columns=predictors_new_ideas, index=predictors_new_ideas)\n",
    "for predictor_1 in predictors_new_ideas:\n",
    "    if predictor_1 in numerical_predictors:\n",
    "        continue\n",
    "    for predictor_2 in predictors_new_ideas:        \n",
    "        if predictor_2 in numerical_predictors:\n",
    "            continue\n",
    "        if predictor_2 == predictor_1:\n",
    "            continue\n",
    "        cross_tab = pd.crosstab(rq2_df[predictor_1], rq2_df[predictor_2])\n",
    "        chi2_stat, p_val, dof, ex = stats.chi2_contingency(cross_tab)\n",
    "        if p_val < alpha_level:\n",
    "            independece_analysis.loc[predictor_1,predictor_2] = 'F'\n",
    "        else:\n",
    "            independece_analysis.loc[predictor_1,predictor_2] = 'T'"
   ]
  },
  {
   "cell_type": "code",
   "execution_count": 66,
   "metadata": {},
   "outputs": [
    {
     "data": {
      "text/html": [
       "<div>\n",
       "<style scoped>\n",
       "    .dataframe tbody tr th:only-of-type {\n",
       "        vertical-align: middle;\n",
       "    }\n",
       "\n",
       "    .dataframe tbody tr th {\n",
       "        vertical-align: top;\n",
       "    }\n",
       "\n",
       "    .dataframe thead th {\n",
       "        text-align: right;\n",
       "    }\n",
       "</style>\n",
       "<table border=\"1\" class=\"dataframe\">\n",
       "  <thead>\n",
       "    <tr style=\"text-align: right;\">\n",
       "      <th></th>\n",
       "      <th>simple_agreement</th>\n",
       "      <th>elaborated_agreement</th>\n",
       "      <th>simple_disagreement</th>\n",
       "      <th>elaborated_disagreement</th>\n",
       "      <th>topic_shift</th>\n",
       "      <th>brainstorming</th>\n",
       "      <th>blending</th>\n",
       "      <th>building</th>\n",
       "      <th>broadening</th>\n",
       "      <th>fact</th>\n",
       "      <th>...</th>\n",
       "      <th>interpretation</th>\n",
       "      <th>gives_reason_s</th>\n",
       "      <th>presents_evidence</th>\n",
       "      <th>asks_question_s</th>\n",
       "      <th>provides_information</th>\n",
       "      <th>clarifies_position_stance</th>\n",
       "      <th>responds_to_previous_comment</th>\n",
       "      <th>constructive_tone</th>\n",
       "      <th>moderator_post</th>\n",
       "      <th>acknowledges_problem</th>\n",
       "    </tr>\n",
       "  </thead>\n",
       "  <tbody>\n",
       "    <tr>\n",
       "      <th>simple_agreement</th>\n",
       "      <td>NaN</td>\n",
       "      <td>F</td>\n",
       "      <td>T</td>\n",
       "      <td>F</td>\n",
       "      <td>T</td>\n",
       "      <td>F</td>\n",
       "      <td>F</td>\n",
       "      <td>F</td>\n",
       "      <td>F</td>\n",
       "      <td>F</td>\n",
       "      <td>...</td>\n",
       "      <td>T</td>\n",
       "      <td>F</td>\n",
       "      <td>F</td>\n",
       "      <td>F</td>\n",
       "      <td>T</td>\n",
       "      <td>T</td>\n",
       "      <td>T</td>\n",
       "      <td>T</td>\n",
       "      <td>T</td>\n",
       "      <td>T</td>\n",
       "    </tr>\n",
       "    <tr>\n",
       "      <th>elaborated_agreement</th>\n",
       "      <td>F</td>\n",
       "      <td>NaN</td>\n",
       "      <td>F</td>\n",
       "      <td>T</td>\n",
       "      <td>T</td>\n",
       "      <td>F</td>\n",
       "      <td>F</td>\n",
       "      <td>T</td>\n",
       "      <td>T</td>\n",
       "      <td>T</td>\n",
       "      <td>...</td>\n",
       "      <td>T</td>\n",
       "      <td>F</td>\n",
       "      <td>T</td>\n",
       "      <td>F</td>\n",
       "      <td>T</td>\n",
       "      <td>T</td>\n",
       "      <td>T</td>\n",
       "      <td>T</td>\n",
       "      <td>T</td>\n",
       "      <td>F</td>\n",
       "    </tr>\n",
       "    <tr>\n",
       "      <th>simple_disagreement</th>\n",
       "      <td>T</td>\n",
       "      <td>F</td>\n",
       "      <td>NaN</td>\n",
       "      <td>F</td>\n",
       "      <td>T</td>\n",
       "      <td>F</td>\n",
       "      <td>T</td>\n",
       "      <td>T</td>\n",
       "      <td>F</td>\n",
       "      <td>T</td>\n",
       "      <td>...</td>\n",
       "      <td>T</td>\n",
       "      <td>F</td>\n",
       "      <td>T</td>\n",
       "      <td>T</td>\n",
       "      <td>T</td>\n",
       "      <td>T</td>\n",
       "      <td>T</td>\n",
       "      <td>F</td>\n",
       "      <td>T</td>\n",
       "      <td>F</td>\n",
       "    </tr>\n",
       "    <tr>\n",
       "      <th>elaborated_disagreement</th>\n",
       "      <td>F</td>\n",
       "      <td>T</td>\n",
       "      <td>F</td>\n",
       "      <td>NaN</td>\n",
       "      <td>T</td>\n",
       "      <td>F</td>\n",
       "      <td>T</td>\n",
       "      <td>F</td>\n",
       "      <td>T</td>\n",
       "      <td>F</td>\n",
       "      <td>...</td>\n",
       "      <td>F</td>\n",
       "      <td>F</td>\n",
       "      <td>F</td>\n",
       "      <td>F</td>\n",
       "      <td>T</td>\n",
       "      <td>F</td>\n",
       "      <td>F</td>\n",
       "      <td>T</td>\n",
       "      <td>F</td>\n",
       "      <td>T</td>\n",
       "    </tr>\n",
       "    <tr>\n",
       "      <th>topic_shift</th>\n",
       "      <td>T</td>\n",
       "      <td>T</td>\n",
       "      <td>T</td>\n",
       "      <td>T</td>\n",
       "      <td>NaN</td>\n",
       "      <td>F</td>\n",
       "      <td>T</td>\n",
       "      <td>F</td>\n",
       "      <td>F</td>\n",
       "      <td>T</td>\n",
       "      <td>...</td>\n",
       "      <td>T</td>\n",
       "      <td>T</td>\n",
       "      <td>T</td>\n",
       "      <td>T</td>\n",
       "      <td>T</td>\n",
       "      <td>F</td>\n",
       "      <td>F</td>\n",
       "      <td>T</td>\n",
       "      <td>T</td>\n",
       "      <td>T</td>\n",
       "    </tr>\n",
       "    <tr>\n",
       "      <th>brainstorming</th>\n",
       "      <td>F</td>\n",
       "      <td>F</td>\n",
       "      <td>F</td>\n",
       "      <td>F</td>\n",
       "      <td>F</td>\n",
       "      <td>NaN</td>\n",
       "      <td>F</td>\n",
       "      <td>T</td>\n",
       "      <td>F</td>\n",
       "      <td>T</td>\n",
       "      <td>...</td>\n",
       "      <td>T</td>\n",
       "      <td>F</td>\n",
       "      <td>T</td>\n",
       "      <td>T</td>\n",
       "      <td>T</td>\n",
       "      <td>T</td>\n",
       "      <td>F</td>\n",
       "      <td>F</td>\n",
       "      <td>T</td>\n",
       "      <td>T</td>\n",
       "    </tr>\n",
       "    <tr>\n",
       "      <th>blending</th>\n",
       "      <td>F</td>\n",
       "      <td>F</td>\n",
       "      <td>T</td>\n",
       "      <td>T</td>\n",
       "      <td>T</td>\n",
       "      <td>F</td>\n",
       "      <td>NaN</td>\n",
       "      <td>T</td>\n",
       "      <td>T</td>\n",
       "      <td>T</td>\n",
       "      <td>...</td>\n",
       "      <td>T</td>\n",
       "      <td>F</td>\n",
       "      <td>T</td>\n",
       "      <td>F</td>\n",
       "      <td>T</td>\n",
       "      <td>T</td>\n",
       "      <td>F</td>\n",
       "      <td>T</td>\n",
       "      <td>T</td>\n",
       "      <td>F</td>\n",
       "    </tr>\n",
       "    <tr>\n",
       "      <th>building</th>\n",
       "      <td>F</td>\n",
       "      <td>T</td>\n",
       "      <td>T</td>\n",
       "      <td>F</td>\n",
       "      <td>F</td>\n",
       "      <td>T</td>\n",
       "      <td>T</td>\n",
       "      <td>NaN</td>\n",
       "      <td>T</td>\n",
       "      <td>F</td>\n",
       "      <td>...</td>\n",
       "      <td>F</td>\n",
       "      <td>F</td>\n",
       "      <td>F</td>\n",
       "      <td>F</td>\n",
       "      <td>F</td>\n",
       "      <td>F</td>\n",
       "      <td>F</td>\n",
       "      <td>T</td>\n",
       "      <td>F</td>\n",
       "      <td>T</td>\n",
       "    </tr>\n",
       "    <tr>\n",
       "      <th>broadening</th>\n",
       "      <td>F</td>\n",
       "      <td>T</td>\n",
       "      <td>F</td>\n",
       "      <td>T</td>\n",
       "      <td>F</td>\n",
       "      <td>F</td>\n",
       "      <td>T</td>\n",
       "      <td>T</td>\n",
       "      <td>NaN</td>\n",
       "      <td>T</td>\n",
       "      <td>...</td>\n",
       "      <td>T</td>\n",
       "      <td>F</td>\n",
       "      <td>F</td>\n",
       "      <td>T</td>\n",
       "      <td>F</td>\n",
       "      <td>T</td>\n",
       "      <td>T</td>\n",
       "      <td>T</td>\n",
       "      <td>F</td>\n",
       "      <td>F</td>\n",
       "    </tr>\n",
       "    <tr>\n",
       "      <th>fact</th>\n",
       "      <td>F</td>\n",
       "      <td>T</td>\n",
       "      <td>T</td>\n",
       "      <td>F</td>\n",
       "      <td>T</td>\n",
       "      <td>T</td>\n",
       "      <td>T</td>\n",
       "      <td>F</td>\n",
       "      <td>T</td>\n",
       "      <td>NaN</td>\n",
       "      <td>...</td>\n",
       "      <td>F</td>\n",
       "      <td>F</td>\n",
       "      <td>F</td>\n",
       "      <td>T</td>\n",
       "      <td>T</td>\n",
       "      <td>F</td>\n",
       "      <td>F</td>\n",
       "      <td>T</td>\n",
       "      <td>T</td>\n",
       "      <td>T</td>\n",
       "    </tr>\n",
       "    <tr>\n",
       "      <th>value</th>\n",
       "      <td>T</td>\n",
       "      <td>F</td>\n",
       "      <td>F</td>\n",
       "      <td>F</td>\n",
       "      <td>T</td>\n",
       "      <td>T</td>\n",
       "      <td>F</td>\n",
       "      <td>T</td>\n",
       "      <td>F</td>\n",
       "      <td>T</td>\n",
       "      <td>...</td>\n",
       "      <td>F</td>\n",
       "      <td>F</td>\n",
       "      <td>F</td>\n",
       "      <td>T</td>\n",
       "      <td>T</td>\n",
       "      <td>T</td>\n",
       "      <td>T</td>\n",
       "      <td>T</td>\n",
       "      <td>T</td>\n",
       "      <td>F</td>\n",
       "    </tr>\n",
       "    <tr>\n",
       "      <th>policy</th>\n",
       "      <td>F</td>\n",
       "      <td>F</td>\n",
       "      <td>F</td>\n",
       "      <td>F</td>\n",
       "      <td>F</td>\n",
       "      <td>T</td>\n",
       "      <td>F</td>\n",
       "      <td>F</td>\n",
       "      <td>T</td>\n",
       "      <td>T</td>\n",
       "      <td>...</td>\n",
       "      <td>T</td>\n",
       "      <td>F</td>\n",
       "      <td>T</td>\n",
       "      <td>T</td>\n",
       "      <td>F</td>\n",
       "      <td>T</td>\n",
       "      <td>F</td>\n",
       "      <td>T</td>\n",
       "      <td>F</td>\n",
       "      <td>F</td>\n",
       "    </tr>\n",
       "    <tr>\n",
       "      <th>interpretation</th>\n",
       "      <td>T</td>\n",
       "      <td>T</td>\n",
       "      <td>T</td>\n",
       "      <td>F</td>\n",
       "      <td>T</td>\n",
       "      <td>T</td>\n",
       "      <td>T</td>\n",
       "      <td>F</td>\n",
       "      <td>T</td>\n",
       "      <td>F</td>\n",
       "      <td>...</td>\n",
       "      <td>NaN</td>\n",
       "      <td>F</td>\n",
       "      <td>T</td>\n",
       "      <td>T</td>\n",
       "      <td>T</td>\n",
       "      <td>F</td>\n",
       "      <td>F</td>\n",
       "      <td>T</td>\n",
       "      <td>T</td>\n",
       "      <td>T</td>\n",
       "    </tr>\n",
       "    <tr>\n",
       "      <th>gives_reason_s</th>\n",
       "      <td>F</td>\n",
       "      <td>F</td>\n",
       "      <td>F</td>\n",
       "      <td>F</td>\n",
       "      <td>T</td>\n",
       "      <td>F</td>\n",
       "      <td>F</td>\n",
       "      <td>F</td>\n",
       "      <td>F</td>\n",
       "      <td>F</td>\n",
       "      <td>...</td>\n",
       "      <td>F</td>\n",
       "      <td>NaN</td>\n",
       "      <td>F</td>\n",
       "      <td>F</td>\n",
       "      <td>F</td>\n",
       "      <td>F</td>\n",
       "      <td>T</td>\n",
       "      <td>T</td>\n",
       "      <td>F</td>\n",
       "      <td>F</td>\n",
       "    </tr>\n",
       "    <tr>\n",
       "      <th>presents_evidence</th>\n",
       "      <td>F</td>\n",
       "      <td>T</td>\n",
       "      <td>T</td>\n",
       "      <td>F</td>\n",
       "      <td>T</td>\n",
       "      <td>T</td>\n",
       "      <td>T</td>\n",
       "      <td>F</td>\n",
       "      <td>F</td>\n",
       "      <td>F</td>\n",
       "      <td>...</td>\n",
       "      <td>T</td>\n",
       "      <td>F</td>\n",
       "      <td>NaN</td>\n",
       "      <td>T</td>\n",
       "      <td>T</td>\n",
       "      <td>T</td>\n",
       "      <td>T</td>\n",
       "      <td>T</td>\n",
       "      <td>T</td>\n",
       "      <td>T</td>\n",
       "    </tr>\n",
       "    <tr>\n",
       "      <th>asks_question_s</th>\n",
       "      <td>F</td>\n",
       "      <td>F</td>\n",
       "      <td>T</td>\n",
       "      <td>F</td>\n",
       "      <td>T</td>\n",
       "      <td>T</td>\n",
       "      <td>F</td>\n",
       "      <td>F</td>\n",
       "      <td>T</td>\n",
       "      <td>T</td>\n",
       "      <td>...</td>\n",
       "      <td>T</td>\n",
       "      <td>F</td>\n",
       "      <td>T</td>\n",
       "      <td>NaN</td>\n",
       "      <td>T</td>\n",
       "      <td>F</td>\n",
       "      <td>T</td>\n",
       "      <td>T</td>\n",
       "      <td>T</td>\n",
       "      <td>F</td>\n",
       "    </tr>\n",
       "    <tr>\n",
       "      <th>provides_information</th>\n",
       "      <td>T</td>\n",
       "      <td>T</td>\n",
       "      <td>T</td>\n",
       "      <td>T</td>\n",
       "      <td>T</td>\n",
       "      <td>T</td>\n",
       "      <td>T</td>\n",
       "      <td>F</td>\n",
       "      <td>F</td>\n",
       "      <td>T</td>\n",
       "      <td>...</td>\n",
       "      <td>T</td>\n",
       "      <td>F</td>\n",
       "      <td>T</td>\n",
       "      <td>T</td>\n",
       "      <td>NaN</td>\n",
       "      <td>T</td>\n",
       "      <td>T</td>\n",
       "      <td>T</td>\n",
       "      <td>F</td>\n",
       "      <td>T</td>\n",
       "    </tr>\n",
       "    <tr>\n",
       "      <th>clarifies_position_stance</th>\n",
       "      <td>T</td>\n",
       "      <td>T</td>\n",
       "      <td>T</td>\n",
       "      <td>F</td>\n",
       "      <td>F</td>\n",
       "      <td>T</td>\n",
       "      <td>T</td>\n",
       "      <td>F</td>\n",
       "      <td>T</td>\n",
       "      <td>F</td>\n",
       "      <td>...</td>\n",
       "      <td>F</td>\n",
       "      <td>F</td>\n",
       "      <td>T</td>\n",
       "      <td>F</td>\n",
       "      <td>T</td>\n",
       "      <td>NaN</td>\n",
       "      <td>F</td>\n",
       "      <td>T</td>\n",
       "      <td>T</td>\n",
       "      <td>T</td>\n",
       "    </tr>\n",
       "    <tr>\n",
       "      <th>responds_to_previous_comment</th>\n",
       "      <td>T</td>\n",
       "      <td>T</td>\n",
       "      <td>T</td>\n",
       "      <td>F</td>\n",
       "      <td>F</td>\n",
       "      <td>F</td>\n",
       "      <td>F</td>\n",
       "      <td>F</td>\n",
       "      <td>T</td>\n",
       "      <td>F</td>\n",
       "      <td>...</td>\n",
       "      <td>F</td>\n",
       "      <td>T</td>\n",
       "      <td>T</td>\n",
       "      <td>T</td>\n",
       "      <td>T</td>\n",
       "      <td>F</td>\n",
       "      <td>NaN</td>\n",
       "      <td>T</td>\n",
       "      <td>F</td>\n",
       "      <td>F</td>\n",
       "    </tr>\n",
       "    <tr>\n",
       "      <th>constructive_tone</th>\n",
       "      <td>T</td>\n",
       "      <td>T</td>\n",
       "      <td>F</td>\n",
       "      <td>T</td>\n",
       "      <td>T</td>\n",
       "      <td>F</td>\n",
       "      <td>T</td>\n",
       "      <td>T</td>\n",
       "      <td>T</td>\n",
       "      <td>T</td>\n",
       "      <td>...</td>\n",
       "      <td>T</td>\n",
       "      <td>T</td>\n",
       "      <td>T</td>\n",
       "      <td>T</td>\n",
       "      <td>T</td>\n",
       "      <td>T</td>\n",
       "      <td>T</td>\n",
       "      <td>NaN</td>\n",
       "      <td>T</td>\n",
       "      <td>T</td>\n",
       "    </tr>\n",
       "    <tr>\n",
       "      <th>moderator_post</th>\n",
       "      <td>T</td>\n",
       "      <td>T</td>\n",
       "      <td>T</td>\n",
       "      <td>F</td>\n",
       "      <td>T</td>\n",
       "      <td>T</td>\n",
       "      <td>T</td>\n",
       "      <td>F</td>\n",
       "      <td>F</td>\n",
       "      <td>T</td>\n",
       "      <td>...</td>\n",
       "      <td>T</td>\n",
       "      <td>F</td>\n",
       "      <td>T</td>\n",
       "      <td>T</td>\n",
       "      <td>F</td>\n",
       "      <td>T</td>\n",
       "      <td>F</td>\n",
       "      <td>T</td>\n",
       "      <td>NaN</td>\n",
       "      <td>T</td>\n",
       "    </tr>\n",
       "    <tr>\n",
       "      <th>acknowledges_problem</th>\n",
       "      <td>T</td>\n",
       "      <td>F</td>\n",
       "      <td>F</td>\n",
       "      <td>T</td>\n",
       "      <td>T</td>\n",
       "      <td>T</td>\n",
       "      <td>F</td>\n",
       "      <td>T</td>\n",
       "      <td>F</td>\n",
       "      <td>T</td>\n",
       "      <td>...</td>\n",
       "      <td>T</td>\n",
       "      <td>F</td>\n",
       "      <td>T</td>\n",
       "      <td>F</td>\n",
       "      <td>T</td>\n",
       "      <td>T</td>\n",
       "      <td>F</td>\n",
       "      <td>T</td>\n",
       "      <td>T</td>\n",
       "      <td>NaN</td>\n",
       "    </tr>\n",
       "  </tbody>\n",
       "</table>\n",
       "<p>22 rows × 22 columns</p>\n",
       "</div>"
      ],
      "text/plain": [
       "                             simple_agreement elaborated_agreement  \\\n",
       "simple_agreement                          NaN                    F   \n",
       "elaborated_agreement                        F                  NaN   \n",
       "simple_disagreement                         T                    F   \n",
       "elaborated_disagreement                     F                    T   \n",
       "topic_shift                                 T                    T   \n",
       "brainstorming                               F                    F   \n",
       "blending                                    F                    F   \n",
       "building                                    F                    T   \n",
       "broadening                                  F                    T   \n",
       "fact                                        F                    T   \n",
       "value                                       T                    F   \n",
       "policy                                      F                    F   \n",
       "interpretation                              T                    T   \n",
       "gives_reason_s                              F                    F   \n",
       "presents_evidence                           F                    T   \n",
       "asks_question_s                             F                    F   \n",
       "provides_information                        T                    T   \n",
       "clarifies_position_stance                   T                    T   \n",
       "responds_to_previous_comment                T                    T   \n",
       "constructive_tone                           T                    T   \n",
       "moderator_post                              T                    T   \n",
       "acknowledges_problem                        T                    F   \n",
       "\n",
       "                             simple_disagreement elaborated_disagreement  \\\n",
       "simple_agreement                               T                       F   \n",
       "elaborated_agreement                           F                       T   \n",
       "simple_disagreement                          NaN                       F   \n",
       "elaborated_disagreement                        F                     NaN   \n",
       "topic_shift                                    T                       T   \n",
       "brainstorming                                  F                       F   \n",
       "blending                                       T                       T   \n",
       "building                                       T                       F   \n",
       "broadening                                     F                       T   \n",
       "fact                                           T                       F   \n",
       "value                                          F                       F   \n",
       "policy                                         F                       F   \n",
       "interpretation                                 T                       F   \n",
       "gives_reason_s                                 F                       F   \n",
       "presents_evidence                              T                       F   \n",
       "asks_question_s                                T                       F   \n",
       "provides_information                           T                       T   \n",
       "clarifies_position_stance                      T                       F   \n",
       "responds_to_previous_comment                   T                       F   \n",
       "constructive_tone                              F                       T   \n",
       "moderator_post                                 T                       F   \n",
       "acknowledges_problem                           F                       T   \n",
       "\n",
       "                             topic_shift brainstorming blending building  \\\n",
       "simple_agreement                       T             F        F        F   \n",
       "elaborated_agreement                   T             F        F        T   \n",
       "simple_disagreement                    T             F        T        T   \n",
       "elaborated_disagreement                T             F        T        F   \n",
       "topic_shift                          NaN             F        T        F   \n",
       "brainstorming                          F           NaN        F        T   \n",
       "blending                               T             F      NaN        T   \n",
       "building                               F             T        T      NaN   \n",
       "broadening                             F             F        T        T   \n",
       "fact                                   T             T        T        F   \n",
       "value                                  T             T        F        T   \n",
       "policy                                 F             T        F        F   \n",
       "interpretation                         T             T        T        F   \n",
       "gives_reason_s                         T             F        F        F   \n",
       "presents_evidence                      T             T        T        F   \n",
       "asks_question_s                        T             T        F        F   \n",
       "provides_information                   T             T        T        F   \n",
       "clarifies_position_stance              F             T        T        F   \n",
       "responds_to_previous_comment           F             F        F        F   \n",
       "constructive_tone                      T             F        T        T   \n",
       "moderator_post                         T             T        T        F   \n",
       "acknowledges_problem                   T             T        F        T   \n",
       "\n",
       "                             broadening fact  ... interpretation  \\\n",
       "simple_agreement                      F    F  ...              T   \n",
       "elaborated_agreement                  T    T  ...              T   \n",
       "simple_disagreement                   F    T  ...              T   \n",
       "elaborated_disagreement               T    F  ...              F   \n",
       "topic_shift                           F    T  ...              T   \n",
       "brainstorming                         F    T  ...              T   \n",
       "blending                              T    T  ...              T   \n",
       "building                              T    F  ...              F   \n",
       "broadening                          NaN    T  ...              T   \n",
       "fact                                  T  NaN  ...              F   \n",
       "value                                 F    T  ...              F   \n",
       "policy                                T    T  ...              T   \n",
       "interpretation                        T    F  ...            NaN   \n",
       "gives_reason_s                        F    F  ...              F   \n",
       "presents_evidence                     F    F  ...              T   \n",
       "asks_question_s                       T    T  ...              T   \n",
       "provides_information                  F    T  ...              T   \n",
       "clarifies_position_stance             T    F  ...              F   \n",
       "responds_to_previous_comment          T    F  ...              F   \n",
       "constructive_tone                     T    T  ...              T   \n",
       "moderator_post                        F    T  ...              T   \n",
       "acknowledges_problem                  F    T  ...              T   \n",
       "\n",
       "                             gives_reason_s presents_evidence asks_question_s  \\\n",
       "simple_agreement                          F                 F               F   \n",
       "elaborated_agreement                      F                 T               F   \n",
       "simple_disagreement                       F                 T               T   \n",
       "elaborated_disagreement                   F                 F               F   \n",
       "topic_shift                               T                 T               T   \n",
       "brainstorming                             F                 T               T   \n",
       "blending                                  F                 T               F   \n",
       "building                                  F                 F               F   \n",
       "broadening                                F                 F               T   \n",
       "fact                                      F                 F               T   \n",
       "value                                     F                 F               T   \n",
       "policy                                    F                 T               T   \n",
       "interpretation                            F                 T               T   \n",
       "gives_reason_s                          NaN                 F               F   \n",
       "presents_evidence                         F               NaN               T   \n",
       "asks_question_s                           F                 T             NaN   \n",
       "provides_information                      F                 T               T   \n",
       "clarifies_position_stance                 F                 T               F   \n",
       "responds_to_previous_comment              T                 T               T   \n",
       "constructive_tone                         T                 T               T   \n",
       "moderator_post                            F                 T               T   \n",
       "acknowledges_problem                      F                 T               F   \n",
       "\n",
       "                             provides_information clarifies_position_stance  \\\n",
       "simple_agreement                                T                         T   \n",
       "elaborated_agreement                            T                         T   \n",
       "simple_disagreement                             T                         T   \n",
       "elaborated_disagreement                         T                         F   \n",
       "topic_shift                                     T                         F   \n",
       "brainstorming                                   T                         T   \n",
       "blending                                        T                         T   \n",
       "building                                        F                         F   \n",
       "broadening                                      F                         T   \n",
       "fact                                            T                         F   \n",
       "value                                           T                         T   \n",
       "policy                                          F                         T   \n",
       "interpretation                                  T                         F   \n",
       "gives_reason_s                                  F                         F   \n",
       "presents_evidence                               T                         T   \n",
       "asks_question_s                                 T                         F   \n",
       "provides_information                          NaN                         T   \n",
       "clarifies_position_stance                       T                       NaN   \n",
       "responds_to_previous_comment                    T                         F   \n",
       "constructive_tone                               T                         T   \n",
       "moderator_post                                  F                         T   \n",
       "acknowledges_problem                            T                         T   \n",
       "\n",
       "                             responds_to_previous_comment constructive_tone  \\\n",
       "simple_agreement                                        T                 T   \n",
       "elaborated_agreement                                    T                 T   \n",
       "simple_disagreement                                     T                 F   \n",
       "elaborated_disagreement                                 F                 T   \n",
       "topic_shift                                             F                 T   \n",
       "brainstorming                                           F                 F   \n",
       "blending                                                F                 T   \n",
       "building                                                F                 T   \n",
       "broadening                                              T                 T   \n",
       "fact                                                    F                 T   \n",
       "value                                                   T                 T   \n",
       "policy                                                  F                 T   \n",
       "interpretation                                          F                 T   \n",
       "gives_reason_s                                          T                 T   \n",
       "presents_evidence                                       T                 T   \n",
       "asks_question_s                                         T                 T   \n",
       "provides_information                                    T                 T   \n",
       "clarifies_position_stance                               F                 T   \n",
       "responds_to_previous_comment                          NaN                 T   \n",
       "constructive_tone                                       T               NaN   \n",
       "moderator_post                                          F                 T   \n",
       "acknowledges_problem                                    F                 T   \n",
       "\n",
       "                             moderator_post acknowledges_problem  \n",
       "simple_agreement                          T                    T  \n",
       "elaborated_agreement                      T                    F  \n",
       "simple_disagreement                       T                    F  \n",
       "elaborated_disagreement                   F                    T  \n",
       "topic_shift                               T                    T  \n",
       "brainstorming                             T                    T  \n",
       "blending                                  T                    F  \n",
       "building                                  F                    T  \n",
       "broadening                                F                    F  \n",
       "fact                                      T                    T  \n",
       "value                                     T                    F  \n",
       "policy                                    F                    F  \n",
       "interpretation                            T                    T  \n",
       "gives_reason_s                            F                    F  \n",
       "presents_evidence                         T                    T  \n",
       "asks_question_s                           T                    F  \n",
       "provides_information                      F                    T  \n",
       "clarifies_position_stance                 T                    T  \n",
       "responds_to_previous_comment              F                    F  \n",
       "constructive_tone                         T                    T  \n",
       "moderator_post                          NaN                    T  \n",
       "acknowledges_problem                      T                  NaN  \n",
       "\n",
       "[22 rows x 22 columns]"
      ]
     },
     "execution_count": 66,
     "metadata": {},
     "output_type": "execute_result"
    }
   ],
   "source": [
    "aux = numerical_predictors.copy()\n",
    "aux.remove('number_of_ideas')\n",
    "independece_analysis.drop(columns=aux, index=aux, inplace=True)\n",
    "independece_analysis"
   ]
  },
  {
   "cell_type": "markdown",
   "metadata": {},
   "source": [
    "### 6. Fit models based on independent predictors"
   ]
  },
  {
   "cell_type": "markdown",
   "metadata": {},
   "source": [
    "Based on the previous analysis of independencie between categorical variables, predictors will be selected."
   ]
  },
  {
   "cell_type": "code",
   "execution_count": 67,
   "metadata": {},
   "outputs": [],
   "source": [
    "possible_models = [None]*len(independece_analysis.columns)\n",
    "idx = 0\n",
    "for col in independece_analysis.columns:\n",
    "    possible_models[idx] = [col]\n",
    "    for row in independece_analysis.index:\n",
    "        if independece_analysis.loc[row, col] == 'T':\n",
    "            possible_models[idx].append(row)\n",
    "    # Add the numerical variable\n",
    "    possible_models[idx].append('number_of_likes')\n",
    "    idx += 1"
   ]
  },
  {
   "cell_type": "code",
   "execution_count": 68,
   "metadata": {},
   "outputs": [
    {
     "name": "stdout",
     "output_type": "stream",
     "text": [
      "There are 22 possible models\n"
     ]
    }
   ],
   "source": [
    "print(f'There are {len(possible_models)} possible models')"
   ]
  },
  {
   "cell_type": "markdown",
   "metadata": {},
   "source": [
    "Create formulas for the possible models"
   ]
  },
  {
   "cell_type": "code",
   "execution_count": 69,
   "metadata": {},
   "outputs": [],
   "source": [
    "models = []\n",
    "for possible_model in possible_models:\n",
    "    formula = f'number_of_ideas ~ '\n",
    "    num_predictors = len(possible_model)\n",
    "    for idx, predictor in enumerate(possible_model):\n",
    "        if predictor not in numerical_predictors:\n",
    "            formula += f' C({predictor})'\n",
    "        else:\n",
    "            formula += f' {predictor}'\n",
    "        if idx < (len(possible_model)-1):\n",
    "            formula += ' + '\n",
    "    models.append({'formula': formula, 'num_predictors': num_predictors, 'predictors': possible_model})"
   ]
  },
  {
   "cell_type": "markdown",
   "metadata": {},
   "source": [
    "#### Fit models"
   ]
  },
  {
   "cell_type": "code",
   "execution_count": 70,
   "metadata": {},
   "outputs": [],
   "source": [
    "idx_not_fitted_models = []\n",
    "for idx, model_dict in enumerate(models):\n",
    "    try:\n",
    "        formula = model_dict['formula']\n",
    "        model = ols(formula, data = rq2_df).fit()\n",
    "        model_dict['model'] = model\n",
    "        model_dict['r_squared'] = model.rsquared\n",
    "    except Exception as e:\n",
    "        idx_not_fitted_models.append(idx)\n",
    "        print(f'Error: {e}.\\n\\nModel:\\n{formula}')\n",
    "        print()"
   ]
  },
  {
   "cell_type": "code",
   "execution_count": 71,
   "metadata": {},
   "outputs": [
    {
     "name": "stdout",
     "output_type": "stream",
     "text": [
      "- Formula: number_of_ideas ~  C(simple_agreement) +  C(simple_disagreement) +  C(topic_shift) +  C(value) +  C(interpretation) +  C(provides_information) +  C(clarifies_position_stance) +  C(responds_to_previous_comment) +  C(constructive_tone) +  C(moderator_post) +  C(acknowledges_problem) +  number_of_likes\n",
      "- R^2: 0.2559011375738055\n",
      "Predictor: C(simple_agreement)[T.1] influence statistically significant\n",
      "Predictor: C(simple_disagreement)[T.1] influence statistically significant\n",
      "\n",
      "- Formula: number_of_ideas ~  C(elaborated_agreement) +  C(elaborated_disagreement) +  C(topic_shift) +  C(building) +  C(broadening) +  C(fact) +  C(interpretation) +  C(presents_evidence) +  C(provides_information) +  C(clarifies_position_stance) +  C(responds_to_previous_comment) +  C(constructive_tone) +  C(moderator_post) +  number_of_likes\n",
      "- R^2: 0.2562600402201778\n",
      "Predictor: C(elaborated_agreement)[T.1] influence statistically significant\n",
      "Predictor: C(elaborated_disagreement)[T.1] influence statistically significant\n",
      "\n",
      "- Formula: number_of_ideas ~  C(simple_disagreement) +  C(simple_agreement) +  C(topic_shift) +  C(blending) +  C(building) +  C(fact) +  C(interpretation) +  C(presents_evidence) +  C(asks_question_s) +  C(provides_information) +  C(clarifies_position_stance) +  C(responds_to_previous_comment) +  C(moderator_post) +  number_of_likes\n",
      "- R^2: 0.2546955446636501\n",
      "Predictor: C(simple_disagreement)[T.1] influence statistically significant\n",
      "Predictor: C(simple_agreement)[T.1] influence statistically significant\n",
      "\n",
      "- Formula: number_of_ideas ~  C(elaborated_disagreement) +  C(elaborated_agreement) +  C(topic_shift) +  C(blending) +  C(broadening) +  C(provides_information) +  C(constructive_tone) +  C(acknowledges_problem) +  number_of_likes\n",
      "- R^2: 0.25315040709801884\n",
      "Predictor: C(elaborated_disagreement)[T.1] influence statistically significant\n",
      "Predictor: C(elaborated_agreement)[T.1] influence statistically significant\n",
      "\n",
      "- Formula: number_of_ideas ~  C(topic_shift) +  C(simple_agreement) +  C(elaborated_agreement) +  C(simple_disagreement) +  C(elaborated_disagreement) +  C(blending) +  C(fact) +  C(value) +  C(interpretation) +  C(gives_reason_s) +  C(presents_evidence) +  C(asks_question_s) +  C(provides_information) +  C(constructive_tone) +  C(moderator_post) +  C(acknowledges_problem) +  number_of_likes\n",
      "- R^2: 0.3338340698920922\n",
      "Predictor: C(simple_agreement)[T.1] influence statistically significant\n",
      "\n",
      "- Formula: number_of_ideas ~  C(blending) +  C(simple_disagreement) +  C(elaborated_disagreement) +  C(topic_shift) +  C(building) +  C(broadening) +  C(fact) +  C(interpretation) +  C(presents_evidence) +  C(provides_information) +  C(clarifies_position_stance) +  C(constructive_tone) +  C(moderator_post) +  number_of_likes\n",
      "- R^2: 0.2473767201185031\n",
      "Predictor: C(simple_disagreement)[T.1] influence statistically significant\n",
      "\n",
      "- Formula: number_of_ideas ~  C(building) +  C(elaborated_agreement) +  C(simple_disagreement) +  C(brainstorming) +  C(blending) +  C(broadening) +  C(value) +  C(constructive_tone) +  C(acknowledges_problem) +  number_of_likes\n",
      "- R^2: 0.3238866810902805\n",
      "Predictor: C(elaborated_agreement)[T.1] influence statistically significant\n",
      "\n",
      "- Formula: number_of_ideas ~  C(broadening) +  C(elaborated_agreement) +  C(elaborated_disagreement) +  C(blending) +  C(building) +  C(fact) +  C(policy) +  C(interpretation) +  C(asks_question_s) +  C(clarifies_position_stance) +  C(responds_to_previous_comment) +  C(constructive_tone) +  number_of_likes\n",
      "- R^2: 0.272915850422202\n",
      "Predictor: C(elaborated_agreement)[T.1] influence statistically significant\n",
      "Predictor: C(elaborated_disagreement)[T.1] influence statistically significant\n",
      "\n",
      "- Formula: number_of_ideas ~  C(fact) +  C(elaborated_agreement) +  C(simple_disagreement) +  C(topic_shift) +  C(brainstorming) +  C(blending) +  C(broadening) +  C(value) +  C(policy) +  C(asks_question_s) +  C(provides_information) +  C(constructive_tone) +  C(moderator_post) +  C(acknowledges_problem) +  number_of_likes\n",
      "- R^2: 0.3202628834614061\n",
      "\n",
      "- Formula: number_of_ideas ~  C(interpretation) +  C(simple_agreement) +  C(elaborated_agreement) +  C(simple_disagreement) +  C(topic_shift) +  C(brainstorming) +  C(blending) +  C(broadening) +  C(policy) +  C(presents_evidence) +  C(asks_question_s) +  C(provides_information) +  C(constructive_tone) +  C(moderator_post) +  C(acknowledges_problem) +  number_of_likes\n",
      "- R^2: 0.3513207874283586\n",
      "Predictor: C(simple_agreement)[T.1] influence statistically significant\n",
      "\n",
      "- Formula: number_of_ideas ~  C(presents_evidence) +  C(elaborated_agreement) +  C(simple_disagreement) +  C(topic_shift) +  C(brainstorming) +  C(blending) +  C(policy) +  C(interpretation) +  C(asks_question_s) +  C(provides_information) +  C(clarifies_position_stance) +  C(responds_to_previous_comment) +  C(constructive_tone) +  C(moderator_post) +  C(acknowledges_problem) +  number_of_likes\n",
      "- R^2: 0.3375228914152102\n",
      "Predictor: C(elaborated_agreement)[T.1] influence statistically significant\n",
      "\n",
      "- Formula: number_of_ideas ~  C(asks_question_s) +  C(simple_disagreement) +  C(topic_shift) +  C(brainstorming) +  C(broadening) +  C(fact) +  C(value) +  C(policy) +  C(interpretation) +  C(presents_evidence) +  C(provides_information) +  C(responds_to_previous_comment) +  C(constructive_tone) +  C(moderator_post) +  number_of_likes\n",
      "- R^2: 0.2979321970365383\n",
      "Predictor: C(simple_disagreement)[T.1] influence statistically significant\n",
      "\n",
      "- Formula: number_of_ideas ~  C(provides_information) +  C(simple_agreement) +  C(elaborated_agreement) +  C(simple_disagreement) +  C(elaborated_disagreement) +  C(topic_shift) +  C(brainstorming) +  C(blending) +  C(fact) +  C(value) +  C(interpretation) +  C(presents_evidence) +  C(asks_question_s) +  C(clarifies_position_stance) +  C(responds_to_previous_comment) +  C(constructive_tone) +  C(acknowledges_problem) +  number_of_likes\n",
      "- R^2: 0.34950043562771593\n",
      "Predictor: C(elaborated_agreement)[T.1] influence statistically significant\n",
      "Predictor: C(elaborated_disagreement)[T.1] influence statistically significant\n",
      "\n",
      "- Formula: number_of_ideas ~  C(clarifies_position_stance) +  C(simple_agreement) +  C(elaborated_agreement) +  C(simple_disagreement) +  C(brainstorming) +  C(blending) +  C(broadening) +  C(value) +  C(policy) +  C(presents_evidence) +  C(provides_information) +  C(constructive_tone) +  C(moderator_post) +  C(acknowledges_problem) +  number_of_likes\n",
      "- R^2: 0.33839993358560927\n",
      "Predictor: C(simple_agreement)[T.1] influence statistically significant\n",
      "\n",
      "- Formula: number_of_ideas ~  C(responds_to_previous_comment) +  C(simple_agreement) +  C(elaborated_agreement) +  C(simple_disagreement) +  C(broadening) +  C(value) +  C(gives_reason_s) +  C(presents_evidence) +  C(asks_question_s) +  C(provides_information) +  C(constructive_tone) +  number_of_likes\n",
      "- R^2: 0.27792274546129647\n",
      "Predictor: C(elaborated_agreement)[T.1] influence statistically significant\n",
      "\n",
      "- Formula: number_of_ideas ~  C(constructive_tone) +  C(simple_agreement) +  C(elaborated_agreement) +  C(elaborated_disagreement) +  C(topic_shift) +  C(blending) +  C(building) +  C(broadening) +  C(fact) +  C(value) +  C(policy) +  C(interpretation) +  C(gives_reason_s) +  C(presents_evidence) +  C(asks_question_s) +  C(provides_information) +  C(clarifies_position_stance) +  C(responds_to_previous_comment) +  C(moderator_post) +  C(acknowledges_problem) +  number_of_likes\n",
      "- R^2: 0.35906833362818413\n",
      "\n",
      "- Formula: number_of_ideas ~  C(moderator_post) +  C(simple_agreement) +  C(elaborated_agreement) +  C(simple_disagreement) +  C(topic_shift) +  C(brainstorming) +  C(blending) +  C(fact) +  C(value) +  C(interpretation) +  C(presents_evidence) +  C(asks_question_s) +  C(clarifies_position_stance) +  C(constructive_tone) +  C(acknowledges_problem) +  number_of_likes\n",
      "- R^2: 0.35757226472366266\n",
      "Predictor: C(simple_agreement)[T.1] influence statistically significant\n",
      "\n",
      "- Formula: number_of_ideas ~  C(acknowledges_problem) +  C(simple_agreement) +  C(elaborated_disagreement) +  C(topic_shift) +  C(brainstorming) +  C(building) +  C(fact) +  C(interpretation) +  C(presents_evidence) +  C(provides_information) +  C(clarifies_position_stance) +  C(constructive_tone) +  C(moderator_post) +  number_of_likes\n",
      "- R^2: 0.32892036042278694\n",
      "Predictor: C(simple_agreement)[T.1] influence statistically significant\n",
      "\n"
     ]
    }
   ],
   "source": [
    "for model in models:\n",
    "    if 'agreement' in model['predictors'] or 'disagreement' in model['predictors'] or \\\n",
    "       'simple_disagreement' in model['predictors'] or 'elaborated_disagreement' in model['predictors']:\n",
    "        print(f\"- Formula: {model['formula']}\\n- R^2: {model['r_squared']}\")        \n",
    "        model_predictors = model['model'].pvalues.index\n",
    "        for idx, p_value in enumerate(model['model'].pvalues):\n",
    "            if p_value < alpha_level:\n",
    "                if 'agreement' in model_predictors[idx] or 'disagreement' in model_predictors[idx] or \\\n",
    "                   'simple_disagreement' in model_predictors[idx] or \\\n",
    "                   'elaborated_disagreement' in model_predictors[idx]:\n",
    "                    print(f\"Predictor: {model_predictors[idx]} influence statistically significant\")\n",
    "        print()"
   ]
  },
  {
   "cell_type": "markdown",
   "metadata": {},
   "source": [
    "### 7. Select the best model"
   ]
  },
  {
   "cell_type": "markdown",
   "metadata": {},
   "source": [
    "Selection is based on the goodness of fit. `R^2` is used to evaluate models fit. The higher the R^2 the better the model fits the data. "
   ]
  },
  {
   "cell_type": "code",
   "execution_count": 72,
   "metadata": {},
   "outputs": [],
   "source": [
    "max_r2 = -100\n",
    "best_models = []\n",
    "for model in models:\n",
    "    if 'r_squared' in model and model['r_squared'] > max_r2:\n",
    "        max_r2 = model['r_squared']\n",
    "        best_models = [model]\n",
    "    elif 'r_squared' in model and model['r_squared'] == max_r2:\n",
    "        best_models.append(model)"
   ]
  },
  {
   "cell_type": "code",
   "execution_count": 73,
   "metadata": {},
   "outputs": [
    {
     "name": "stdout",
     "output_type": "stream",
     "text": [
      "There are 1 best model(s)\n"
     ]
    }
   ],
   "source": [
    "print(f\"There are {len(best_models)} best model(s)\")"
   ]
  },
  {
   "cell_type": "markdown",
   "metadata": {},
   "source": [
    "**Best model**"
   ]
  },
  {
   "cell_type": "code",
   "execution_count": 74,
   "metadata": {},
   "outputs": [
    {
     "data": {
      "text/html": [
       "<table class=\"simpletable\">\n",
       "<caption>OLS Regression Results</caption>\n",
       "<tr>\n",
       "  <th>Dep. Variable:</th>     <td>number_of_ideas</td> <th>  R-squared:         </th> <td>   0.359</td>\n",
       "</tr>\n",
       "<tr>\n",
       "  <th>Model:</th>                   <td>OLS</td>       <th>  Adj. R-squared:    </th> <td>   0.330</td>\n",
       "</tr>\n",
       "<tr>\n",
       "  <th>Method:</th>             <td>Least Squares</td>  <th>  F-statistic:       </th> <td>   12.43</td>\n",
       "</tr>\n",
       "<tr>\n",
       "  <th>Date:</th>             <td>Mon, 05 Oct 2020</td> <th>  Prob (F-statistic):</th> <td>2.09e-33</td>\n",
       "</tr>\n",
       "<tr>\n",
       "  <th>Time:</th>                 <td>12:59:40</td>     <th>  Log-Likelihood:    </th> <td> -590.70</td>\n",
       "</tr>\n",
       "<tr>\n",
       "  <th>No. Observations:</th>      <td>   488</td>      <th>  AIC:               </th> <td>   1225.</td>\n",
       "</tr>\n",
       "<tr>\n",
       "  <th>Df Residuals:</th>          <td>   466</td>      <th>  BIC:               </th> <td>   1318.</td>\n",
       "</tr>\n",
       "<tr>\n",
       "  <th>Df Model:</th>              <td>    21</td>      <th>                     </th>     <td> </td>   \n",
       "</tr>\n",
       "<tr>\n",
       "  <th>Covariance Type:</th>      <td>nonrobust</td>    <th>                     </th>     <td> </td>   \n",
       "</tr>\n",
       "</table>\n",
       "<table class=\"simpletable\">\n",
       "<tr>\n",
       "                    <td></td>                      <th>coef</th>     <th>std err</th>      <th>t</th>      <th>P>|t|</th>  <th>[0.025</th>    <th>0.975]</th>  \n",
       "</tr>\n",
       "<tr>\n",
       "  <th>Intercept</th>                            <td>    0.6351</td> <td>    0.249</td> <td>    2.554</td> <td> 0.011</td> <td>    0.146</td> <td>    1.124</td>\n",
       "</tr>\n",
       "<tr>\n",
       "  <th>C(constructive_tone)[T.1]</th>            <td>    0.0965</td> <td>    0.228</td> <td>    0.422</td> <td> 0.673</td> <td>   -0.352</td> <td>    0.545</td>\n",
       "</tr>\n",
       "<tr>\n",
       "  <th>C(simple_agreement)[T.1]</th>             <td>   -0.2766</td> <td>    0.148</td> <td>   -1.870</td> <td> 0.062</td> <td>   -0.567</td> <td>    0.014</td>\n",
       "</tr>\n",
       "<tr>\n",
       "  <th>C(elaborated_agreement)[T.1]</th>         <td>    0.1246</td> <td>    0.113</td> <td>    1.103</td> <td> 0.271</td> <td>   -0.097</td> <td>    0.347</td>\n",
       "</tr>\n",
       "<tr>\n",
       "  <th>C(elaborated_disagreement)[T.1]</th>      <td>    0.1284</td> <td>    0.128</td> <td>    1.005</td> <td> 0.315</td> <td>   -0.123</td> <td>    0.379</td>\n",
       "</tr>\n",
       "<tr>\n",
       "  <th>C(topic_shift)[T.1]</th>                  <td>    0.1900</td> <td>    0.103</td> <td>    1.846</td> <td> 0.066</td> <td>   -0.012</td> <td>    0.392</td>\n",
       "</tr>\n",
       "<tr>\n",
       "  <th>C(blending)[T.1]</th>                     <td>    0.3680</td> <td>    0.093</td> <td>    3.974</td> <td> 0.000</td> <td>    0.186</td> <td>    0.550</td>\n",
       "</tr>\n",
       "<tr>\n",
       "  <th>C(building)[T.1]</th>                     <td>    0.1122</td> <td>    0.124</td> <td>    0.903</td> <td> 0.367</td> <td>   -0.132</td> <td>    0.356</td>\n",
       "</tr>\n",
       "<tr>\n",
       "  <th>C(broadening)[T.1]</th>                   <td>    0.3212</td> <td>    0.111</td> <td>    2.901</td> <td> 0.004</td> <td>    0.104</td> <td>    0.539</td>\n",
       "</tr>\n",
       "<tr>\n",
       "  <th>C(fact)[T.1]</th>                         <td>   -0.1182</td> <td>    0.119</td> <td>   -0.994</td> <td> 0.321</td> <td>   -0.352</td> <td>    0.116</td>\n",
       "</tr>\n",
       "<tr>\n",
       "  <th>C(value)[T.1]</th>                        <td>    0.2800</td> <td>    0.109</td> <td>    2.561</td> <td> 0.011</td> <td>    0.065</td> <td>    0.495</td>\n",
       "</tr>\n",
       "<tr>\n",
       "  <th>C(policy)[T.1]</th>                       <td>   -0.0133</td> <td>    0.118</td> <td>   -0.113</td> <td> 0.910</td> <td>   -0.244</td> <td>    0.218</td>\n",
       "</tr>\n",
       "<tr>\n",
       "  <th>C(interpretation)[T.1]</th>               <td>    0.1455</td> <td>    0.093</td> <td>    1.567</td> <td> 0.118</td> <td>   -0.037</td> <td>    0.328</td>\n",
       "</tr>\n",
       "<tr>\n",
       "  <th>C(gives_reason_s)[T.1]</th>               <td>    0.5268</td> <td>    0.120</td> <td>    4.405</td> <td> 0.000</td> <td>    0.292</td> <td>    0.762</td>\n",
       "</tr>\n",
       "<tr>\n",
       "  <th>C(presents_evidence)[T.1]</th>            <td>   -0.0484</td> <td>    0.153</td> <td>   -0.317</td> <td> 0.751</td> <td>   -0.349</td> <td>    0.252</td>\n",
       "</tr>\n",
       "<tr>\n",
       "  <th>C(asks_question_s)[T.1]</th>              <td>    0.4259</td> <td>    0.109</td> <td>    3.917</td> <td> 0.000</td> <td>    0.212</td> <td>    0.640</td>\n",
       "</tr>\n",
       "<tr>\n",
       "  <th>C(provides_information)[T.1]</th>         <td>    0.1400</td> <td>    0.190</td> <td>    0.736</td> <td> 0.462</td> <td>   -0.234</td> <td>    0.513</td>\n",
       "</tr>\n",
       "<tr>\n",
       "  <th>C(clarifies_position_stance)[T.1]</th>    <td>    0.3207</td> <td>    0.130</td> <td>    2.473</td> <td> 0.014</td> <td>    0.066</td> <td>    0.575</td>\n",
       "</tr>\n",
       "<tr>\n",
       "  <th>C(responds_to_previous_comment)[T.1]</th> <td>   -0.2227</td> <td>    0.112</td> <td>   -1.996</td> <td> 0.047</td> <td>   -0.442</td> <td>   -0.003</td>\n",
       "</tr>\n",
       "<tr>\n",
       "  <th>C(moderator_post)[T.1]</th>               <td>   -0.3121</td> <td>    0.098</td> <td>   -3.181</td> <td> 0.002</td> <td>   -0.505</td> <td>   -0.119</td>\n",
       "</tr>\n",
       "<tr>\n",
       "  <th>C(acknowledges_problem)[T.1]</th>         <td>    0.1812</td> <td>    0.092</td> <td>    1.975</td> <td> 0.049</td> <td>    0.001</td> <td>    0.361</td>\n",
       "</tr>\n",
       "<tr>\n",
       "  <th>number_of_likes</th>                      <td>    0.0226</td> <td>    0.023</td> <td>    0.977</td> <td> 0.329</td> <td>   -0.023</td> <td>    0.068</td>\n",
       "</tr>\n",
       "</table>\n",
       "<table class=\"simpletable\">\n",
       "<tr>\n",
       "  <th>Omnibus:</th>       <td>182.170</td> <th>  Durbin-Watson:     </th> <td>   1.858</td> \n",
       "</tr>\n",
       "<tr>\n",
       "  <th>Prob(Omnibus):</th> <td> 0.000</td>  <th>  Jarque-Bera (JB):  </th> <td>1044.605</td> \n",
       "</tr>\n",
       "<tr>\n",
       "  <th>Skew:</th>          <td> 1.517</td>  <th>  Prob(JB):          </th> <td>1.47e-227</td>\n",
       "</tr>\n",
       "<tr>\n",
       "  <th>Kurtosis:</th>      <td> 9.493</td>  <th>  Cond. No.          </th> <td>    23.1</td> \n",
       "</tr>\n",
       "</table><br/><br/>Warnings:<br/>[1] Standard Errors assume that the covariance matrix of the errors is correctly specified."
      ],
      "text/plain": [
       "<class 'statsmodels.iolib.summary.Summary'>\n",
       "\"\"\"\n",
       "                            OLS Regression Results                            \n",
       "==============================================================================\n",
       "Dep. Variable:        number_of_ideas   R-squared:                       0.359\n",
       "Model:                            OLS   Adj. R-squared:                  0.330\n",
       "Method:                 Least Squares   F-statistic:                     12.43\n",
       "Date:                Mon, 05 Oct 2020   Prob (F-statistic):           2.09e-33\n",
       "Time:                        12:59:40   Log-Likelihood:                -590.70\n",
       "No. Observations:                 488   AIC:                             1225.\n",
       "Df Residuals:                     466   BIC:                             1318.\n",
       "Df Model:                          21                                         \n",
       "Covariance Type:            nonrobust                                         \n",
       "========================================================================================================\n",
       "                                           coef    std err          t      P>|t|      [0.025      0.975]\n",
       "--------------------------------------------------------------------------------------------------------\n",
       "Intercept                                0.6351      0.249      2.554      0.011       0.146       1.124\n",
       "C(constructive_tone)[T.1]                0.0965      0.228      0.422      0.673      -0.352       0.545\n",
       "C(simple_agreement)[T.1]                -0.2766      0.148     -1.870      0.062      -0.567       0.014\n",
       "C(elaborated_agreement)[T.1]             0.1246      0.113      1.103      0.271      -0.097       0.347\n",
       "C(elaborated_disagreement)[T.1]          0.1284      0.128      1.005      0.315      -0.123       0.379\n",
       "C(topic_shift)[T.1]                      0.1900      0.103      1.846      0.066      -0.012       0.392\n",
       "C(blending)[T.1]                         0.3680      0.093      3.974      0.000       0.186       0.550\n",
       "C(building)[T.1]                         0.1122      0.124      0.903      0.367      -0.132       0.356\n",
       "C(broadening)[T.1]                       0.3212      0.111      2.901      0.004       0.104       0.539\n",
       "C(fact)[T.1]                            -0.1182      0.119     -0.994      0.321      -0.352       0.116\n",
       "C(value)[T.1]                            0.2800      0.109      2.561      0.011       0.065       0.495\n",
       "C(policy)[T.1]                          -0.0133      0.118     -0.113      0.910      -0.244       0.218\n",
       "C(interpretation)[T.1]                   0.1455      0.093      1.567      0.118      -0.037       0.328\n",
       "C(gives_reason_s)[T.1]                   0.5268      0.120      4.405      0.000       0.292       0.762\n",
       "C(presents_evidence)[T.1]               -0.0484      0.153     -0.317      0.751      -0.349       0.252\n",
       "C(asks_question_s)[T.1]                  0.4259      0.109      3.917      0.000       0.212       0.640\n",
       "C(provides_information)[T.1]             0.1400      0.190      0.736      0.462      -0.234       0.513\n",
       "C(clarifies_position_stance)[T.1]        0.3207      0.130      2.473      0.014       0.066       0.575\n",
       "C(responds_to_previous_comment)[T.1]    -0.2227      0.112     -1.996      0.047      -0.442      -0.003\n",
       "C(moderator_post)[T.1]                  -0.3121      0.098     -3.181      0.002      -0.505      -0.119\n",
       "C(acknowledges_problem)[T.1]             0.1812      0.092      1.975      0.049       0.001       0.361\n",
       "number_of_likes                          0.0226      0.023      0.977      0.329      -0.023       0.068\n",
       "==============================================================================\n",
       "Omnibus:                      182.170   Durbin-Watson:                   1.858\n",
       "Prob(Omnibus):                  0.000   Jarque-Bera (JB):             1044.605\n",
       "Skew:                           1.517   Prob(JB):                    1.47e-227\n",
       "Kurtosis:                       9.493   Cond. No.                         23.1\n",
       "==============================================================================\n",
       "\n",
       "Warnings:\n",
       "[1] Standard Errors assume that the covariance matrix of the errors is correctly specified.\n",
       "\"\"\""
      ]
     },
     "execution_count": 74,
     "metadata": {},
     "output_type": "execute_result"
    }
   ],
   "source": [
    "best_models[0]['model'].summary()"
   ]
  },
  {
   "cell_type": "markdown",
   "metadata": {},
   "source": [
    "### 8. Fit a model with only the statistically significant predictors"
   ]
  },
  {
   "cell_type": "markdown",
   "metadata": {},
   "source": [
    "Get the name of the predictors that have a statistically significant influence on disagreement."
   ]
  },
  {
   "cell_type": "code",
   "execution_count": 75,
   "metadata": {},
   "outputs": [],
   "source": [
    "ss_predictors = []\n",
    "model_predictors = best_models[0]['model'].pvalues.index\n",
    "for idx, p_value in enumerate(best_models[0]['model'].pvalues):\n",
    "    if model_predictors[idx] == 'Intercept':\n",
    "        continue\n",
    "    if p_value < alpha_level:\n",
    "        if 'C(' in model_predictors[idx]:\n",
    "            predictor_name = model_predictors[idx].split('[T')[0]\n",
    "        else:\n",
    "            predictor_name = model_predictors[idx]\n",
    "        ss_predictors.append(predictor_name)"
   ]
  },
  {
   "cell_type": "code",
   "execution_count": 76,
   "metadata": {},
   "outputs": [],
   "source": [
    "formula = 'number_of_ideas ~ '\n",
    "formula += ' + '.join(ss_predictors)\n",
    "best_model = ols(formula, data = rq2_df).fit()"
   ]
  },
  {
   "cell_type": "code",
   "execution_count": 77,
   "metadata": {},
   "outputs": [
    {
     "data": {
      "text/html": [
       "<table class=\"simpletable\">\n",
       "<caption>OLS Regression Results</caption>\n",
       "<tr>\n",
       "  <th>Dep. Variable:</th>     <td>number_of_ideas</td> <th>  R-squared:         </th> <td>   0.329</td>\n",
       "</tr>\n",
       "<tr>\n",
       "  <th>Model:</th>                   <td>OLS</td>       <th>  Adj. R-squared:    </th> <td>   0.316</td>\n",
       "</tr>\n",
       "<tr>\n",
       "  <th>Method:</th>             <td>Least Squares</td>  <th>  F-statistic:       </th> <td>   26.05</td>\n",
       "</tr>\n",
       "<tr>\n",
       "  <th>Date:</th>             <td>Mon, 05 Oct 2020</td> <th>  Prob (F-statistic):</th> <td>1.50e-36</td>\n",
       "</tr>\n",
       "<tr>\n",
       "  <th>Time:</th>                 <td>12:59:47</td>     <th>  Log-Likelihood:    </th> <td> -601.88</td>\n",
       "</tr>\n",
       "<tr>\n",
       "  <th>No. Observations:</th>      <td>   488</td>      <th>  AIC:               </th> <td>   1224.</td>\n",
       "</tr>\n",
       "<tr>\n",
       "  <th>Df Residuals:</th>          <td>   478</td>      <th>  BIC:               </th> <td>   1266.</td>\n",
       "</tr>\n",
       "<tr>\n",
       "  <th>Df Model:</th>              <td>     9</td>      <th>                     </th>     <td> </td>   \n",
       "</tr>\n",
       "<tr>\n",
       "  <th>Covariance Type:</th>      <td>nonrobust</td>    <th>                     </th>     <td> </td>   \n",
       "</tr>\n",
       "</table>\n",
       "<table class=\"simpletable\">\n",
       "<tr>\n",
       "                    <td></td>                      <th>coef</th>     <th>std err</th>      <th>t</th>      <th>P>|t|</th>  <th>[0.025</th>    <th>0.975]</th>  \n",
       "</tr>\n",
       "<tr>\n",
       "  <th>Intercept</th>                            <td>    0.7775</td> <td>    0.111</td> <td>    7.009</td> <td> 0.000</td> <td>    0.560</td> <td>    0.996</td>\n",
       "</tr>\n",
       "<tr>\n",
       "  <th>C(blending)[T.1]</th>                     <td>    0.4138</td> <td>    0.090</td> <td>    4.592</td> <td> 0.000</td> <td>    0.237</td> <td>    0.591</td>\n",
       "</tr>\n",
       "<tr>\n",
       "  <th>C(broadening)[T.1]</th>                   <td>    0.3581</td> <td>    0.106</td> <td>    3.364</td> <td> 0.001</td> <td>    0.149</td> <td>    0.567</td>\n",
       "</tr>\n",
       "<tr>\n",
       "  <th>C(value)[T.1]</th>                        <td>    0.3225</td> <td>    0.107</td> <td>    3.005</td> <td> 0.003</td> <td>    0.112</td> <td>    0.533</td>\n",
       "</tr>\n",
       "<tr>\n",
       "  <th>C(gives_reason_s)[T.1]</th>               <td>    0.7573</td> <td>    0.095</td> <td>    7.974</td> <td> 0.000</td> <td>    0.571</td> <td>    0.944</td>\n",
       "</tr>\n",
       "<tr>\n",
       "  <th>C(asks_question_s)[T.1]</th>              <td>    0.5371</td> <td>    0.102</td> <td>    5.275</td> <td> 0.000</td> <td>    0.337</td> <td>    0.737</td>\n",
       "</tr>\n",
       "<tr>\n",
       "  <th>C(clarifies_position_stance)[T.1]</th>    <td>    0.3590</td> <td>    0.121</td> <td>    2.966</td> <td> 0.003</td> <td>    0.121</td> <td>    0.597</td>\n",
       "</tr>\n",
       "<tr>\n",
       "  <th>C(responds_to_previous_comment)[T.1]</th> <td>   -0.2678</td> <td>    0.095</td> <td>   -2.825</td> <td> 0.005</td> <td>   -0.454</td> <td>   -0.082</td>\n",
       "</tr>\n",
       "<tr>\n",
       "  <th>C(moderator_post)[T.1]</th>               <td>   -0.2660</td> <td>    0.091</td> <td>   -2.913</td> <td> 0.004</td> <td>   -0.445</td> <td>   -0.087</td>\n",
       "</tr>\n",
       "<tr>\n",
       "  <th>C(acknowledges_problem)[T.1]</th>         <td>    0.1839</td> <td>    0.087</td> <td>    2.116</td> <td> 0.035</td> <td>    0.013</td> <td>    0.355</td>\n",
       "</tr>\n",
       "</table>\n",
       "<table class=\"simpletable\">\n",
       "<tr>\n",
       "  <th>Omnibus:</th>       <td>162.510</td> <th>  Durbin-Watson:     </th> <td>   1.820</td> \n",
       "</tr>\n",
       "<tr>\n",
       "  <th>Prob(Omnibus):</th> <td> 0.000</td>  <th>  Jarque-Bera (JB):  </th> <td> 703.556</td> \n",
       "</tr>\n",
       "<tr>\n",
       "  <th>Skew:</th>          <td> 1.430</td>  <th>  Prob(JB):          </th> <td>1.68e-153</td>\n",
       "</tr>\n",
       "<tr>\n",
       "  <th>Kurtosis:</th>      <td> 8.140</td>  <th>  Cond. No.          </th> <td>    6.44</td> \n",
       "</tr>\n",
       "</table><br/><br/>Warnings:<br/>[1] Standard Errors assume that the covariance matrix of the errors is correctly specified."
      ],
      "text/plain": [
       "<class 'statsmodels.iolib.summary.Summary'>\n",
       "\"\"\"\n",
       "                            OLS Regression Results                            \n",
       "==============================================================================\n",
       "Dep. Variable:        number_of_ideas   R-squared:                       0.329\n",
       "Model:                            OLS   Adj. R-squared:                  0.316\n",
       "Method:                 Least Squares   F-statistic:                     26.05\n",
       "Date:                Mon, 05 Oct 2020   Prob (F-statistic):           1.50e-36\n",
       "Time:                        12:59:47   Log-Likelihood:                -601.88\n",
       "No. Observations:                 488   AIC:                             1224.\n",
       "Df Residuals:                     478   BIC:                             1266.\n",
       "Df Model:                           9                                         \n",
       "Covariance Type:            nonrobust                                         \n",
       "========================================================================================================\n",
       "                                           coef    std err          t      P>|t|      [0.025      0.975]\n",
       "--------------------------------------------------------------------------------------------------------\n",
       "Intercept                                0.7775      0.111      7.009      0.000       0.560       0.996\n",
       "C(blending)[T.1]                         0.4138      0.090      4.592      0.000       0.237       0.591\n",
       "C(broadening)[T.1]                       0.3581      0.106      3.364      0.001       0.149       0.567\n",
       "C(value)[T.1]                            0.3225      0.107      3.005      0.003       0.112       0.533\n",
       "C(gives_reason_s)[T.1]                   0.7573      0.095      7.974      0.000       0.571       0.944\n",
       "C(asks_question_s)[T.1]                  0.5371      0.102      5.275      0.000       0.337       0.737\n",
       "C(clarifies_position_stance)[T.1]        0.3590      0.121      2.966      0.003       0.121       0.597\n",
       "C(responds_to_previous_comment)[T.1]    -0.2678      0.095     -2.825      0.005      -0.454      -0.082\n",
       "C(moderator_post)[T.1]                  -0.2660      0.091     -2.913      0.004      -0.445      -0.087\n",
       "C(acknowledges_problem)[T.1]             0.1839      0.087      2.116      0.035       0.013       0.355\n",
       "==============================================================================\n",
       "Omnibus:                      162.510   Durbin-Watson:                   1.820\n",
       "Prob(Omnibus):                  0.000   Jarque-Bera (JB):              703.556\n",
       "Skew:                           1.430   Prob(JB):                    1.68e-153\n",
       "Kurtosis:                       8.140   Cond. No.                         6.44\n",
       "==============================================================================\n",
       "\n",
       "Warnings:\n",
       "[1] Standard Errors assume that the covariance matrix of the errors is correctly specified.\n",
       "\"\"\""
      ]
     },
     "execution_count": 77,
     "metadata": {},
     "output_type": "execute_result"
    }
   ],
   "source": [
    "best_model.summary()"
   ]
  },
  {
   "cell_type": "markdown",
   "metadata": {},
   "source": [
    "### 9. Interpret coefficients"
   ]
  },
  {
   "cell_type": "markdown",
   "metadata": {},
   "source": [
    "#### Inspect significant coefficients"
   ]
  },
  {
   "cell_type": "code",
   "execution_count": 78,
   "metadata": {},
   "outputs": [],
   "source": [
    "blending = best_model.params[1]\n",
    "broadening = best_model.params[2]\n",
    "value = best_model.params[3]\n",
    "give_reasons = best_model.params[4]\n",
    "ask_questions = best_model.params[5]\n",
    "clarifies_position = best_model.params[6]\n",
    "respond_to_previous_comments = best_model.params[7]\n",
    "moderator_post = best_model.params[8]\n",
    "acknowledge_problem = best_model.params[9]"
   ]
  },
  {
   "cell_type": "markdown",
   "metadata": {},
   "source": [
    "Blending"
   ]
  },
  {
   "cell_type": "code",
   "execution_count": 79,
   "metadata": {},
   "outputs": [
    {
     "name": "stdout",
     "output_type": "stream",
     "text": [
      "Discussions where diverse ideas are integrated (blending) increase the estimate value of new ideas by 0.414\n"
     ]
    }
   ],
   "source": [
    "print(f\"Discussions where diverse ideas are integrated (blending) increase the estimate value of new ideas by \"\\\n",
    "      f\"{round(blending,3)}\")"
   ]
  },
  {
   "cell_type": "markdown",
   "metadata": {},
   "source": [
    "Broadening"
   ]
  },
  {
   "cell_type": "code",
   "execution_count": 80,
   "metadata": {},
   "outputs": [
    {
     "name": "stdout",
     "output_type": "stream",
     "text": [
      "Discussions where there is diversity of perspectives (broadening) increase the estimate value of new ideas by 0.358\n"
     ]
    }
   ],
   "source": [
    "print(f\"Discussions where there is diversity of perspectives (broadening) increase the estimate value of new\"\\\n",
    "      f\" ideas by {round(broadening,3)}\")"
   ]
  },
  {
   "cell_type": "markdown",
   "metadata": {},
   "source": [
    "Value"
   ]
  },
  {
   "cell_type": "code",
   "execution_count": 82,
   "metadata": {},
   "outputs": [
    {
     "name": "stdout",
     "output_type": "stream",
     "text": [
      "Discussions where any abstract, cultural, or societal values are mentioned (value) increase theestimate value of new ideas by 0.322\n"
     ]
    }
   ],
   "source": [
    "print(f\"Discussions where any abstract, cultural, or societal values are mentioned (value) increase the\"\\\n",
    "      f\"estimate value of new ideas by {round(value,3)}\")"
   ]
  },
  {
   "cell_type": "markdown",
   "metadata": {},
   "source": [
    "Give reasons"
   ]
  },
  {
   "cell_type": "code",
   "execution_count": 83,
   "metadata": {},
   "outputs": [
    {
     "name": "stdout",
     "output_type": "stream",
     "text": [
      "Discussions where positions are justified increase the estimate value of new ideas by 0.757\n"
     ]
    }
   ],
   "source": [
    "print(f\"Discussions where positions are justified increase the estimate value of new ideas by \"\\\n",
    "      f\"{round(give_reasons,3)}\")"
   ]
  },
  {
   "cell_type": "markdown",
   "metadata": {},
   "source": [
    "Ask questions"
   ]
  },
  {
   "cell_type": "code",
   "execution_count": 84,
   "metadata": {},
   "outputs": [
    {
     "name": "stdout",
     "output_type": "stream",
     "text": [
      "Discussions where questions seeking information or an opinion from others are present increase the estimate value of new ideas by 0.537\n"
     ]
    }
   ],
   "source": [
    "print(f\"Discussions where questions seeking information or an opinion from others are present increase the \"\\\n",
    "      f\"estimate value of new ideas by {round(ask_questions, 3)}\")"
   ]
  },
  {
   "cell_type": "markdown",
   "metadata": {},
   "source": [
    "Clarifies position"
   ]
  },
  {
   "cell_type": "code",
   "execution_count": 85,
   "metadata": {},
   "outputs": [
    {
     "name": "stdout",
     "output_type": "stream",
     "text": [
      "Discussions where commenter clarifies or elaborates on a position increase the estimate value of new ideas by 0.359\n"
     ]
    }
   ],
   "source": [
    "print(f\"Discussions where commenter clarifies or elaborates on a position increase the estimate value of new \"\\\n",
    "      f\"ideas by {round(clarifies_position,3)}\")"
   ]
  },
  {
   "cell_type": "markdown",
   "metadata": {},
   "source": [
    "Response to previous comments"
   ]
  },
  {
   "cell_type": "code",
   "execution_count": 86,
   "metadata": {},
   "outputs": [
    {
     "name": "stdout",
     "output_type": "stream",
     "text": [
      "Discussions where commenter responds directly to previous comments decrease the estimate value of new ideas by -0.268\n"
     ]
    }
   ],
   "source": [
    "print(f\"Discussions where commenter responds directly to previous comments decrease the estimate value of new \"\\\n",
    "      f\"ideas by {round(respond_to_previous_comments,3)}\")"
   ]
  },
  {
   "cell_type": "markdown",
   "metadata": {},
   "source": [
    "Moderator post"
   ]
  },
  {
   "cell_type": "code",
   "execution_count": 87,
   "metadata": {},
   "outputs": [
    {
     "name": "stdout",
     "output_type": "stream",
     "text": [
      "Discussions where moderator intervene decrease the estimate value of new ideas by -0.266\n"
     ]
    }
   ],
   "source": [
    "print(f\"Discussions where moderator intervene decrease the estimate value of new ideas by {round(moderator_post,3)}\")"
   ]
  },
  {
   "cell_type": "markdown",
   "metadata": {},
   "source": [
    "Acknowledge problem"
   ]
  },
  {
   "cell_type": "code",
   "execution_count": 88,
   "metadata": {},
   "outputs": [
    {
     "name": "stdout",
     "output_type": "stream",
     "text": [
      "Discussions where commenter explicitly acknowledge the presence of a problem increase the estimate value of new ideas by 0.184\n"
     ]
    }
   ],
   "source": [
    "print(f\"Discussions where commenter explicitly acknowledge the presence of a problem increase the estimate value of new ideas by {round(acknowledge_problem,3)}\")"
   ]
  },
  {
   "cell_type": "markdown",
   "metadata": {},
   "source": [
    "### 10. Findings"
   ]
  },
  {
   "cell_type": "markdown",
   "metadata": {},
   "source": [
    "The best fitted model account for about 30% of the variantion in the data. This percentage of data variation explained by the model is moderate to substantial according to Cohen, 1998 and Chin, 1998. Predictors that influence positively and significantly the generation of new ideas are `blending`, `broadening`, `value`, `give reasons`, `ask questions`, `clarifies position`, `response to previous comments`, and `acknowledge problem`. They affect the target variable, new ideas, with different magnitud. Interestingly, the predictor `moderator post` influences significantly but negatively the generation of new ideas."
   ]
  },
  {
   "cell_type": "markdown",
   "metadata": {},
   "source": [
    "---"
   ]
  },
  {
   "cell_type": "markdown",
   "metadata": {},
   "source": [
    "## RQ3.  Presence of both disagreement and agreement affect new idea generation"
   ]
  },
  {
   "cell_type": "markdown",
   "metadata": {},
   "source": [
    "### 1. Define and select predictor variables"
   ]
  },
  {
   "cell_type": "code",
   "execution_count": 89,
   "metadata": {},
   "outputs": [
    {
     "name": "stdout",
     "output_type": "stream",
     "text": [
      "In total 7 variables will be considered in the analysis of RQ3\n"
     ]
    }
   ],
   "source": [
    "predictors_rq3 = ['agreement', 'simple_agreement', 'elaborated_agreement', 'disagreement', \\\n",
    "                  'simple_disagreement', 'elaborated_disagreement', 'number_of_ideas']\n",
    "print(f\"In total {len(predictors_rq3)} variables will be considered in the analysis of RQ3\")"
   ]
  },
  {
   "cell_type": "markdown",
   "metadata": {},
   "source": [
    "#### Select columns that include predictors and the target variable"
   ]
  },
  {
   "cell_type": "code",
   "execution_count": 90,
   "metadata": {},
   "outputs": [
    {
     "name": "stdout",
     "output_type": "stream",
     "text": [
      "The analysis is conducted with a dataset composed of 488 rows and 7 columns\n"
     ]
    }
   ],
   "source": [
    "rq3_df = all_df.loc[:,predictors_rq3]\n",
    "print(f\"The analysis is conducted with a dataset composed of {rq3_df.shape[0]} rows and {rq3_df.shape[1]} columns\")"
   ]
  },
  {
   "cell_type": "markdown",
   "metadata": {},
   "source": [
    "#### Check data consistency"
   ]
  },
  {
   "cell_type": "code",
   "execution_count": 91,
   "metadata": {},
   "outputs": [
    {
     "data": {
      "text/html": [
       "<div>\n",
       "<style scoped>\n",
       "    .dataframe tbody tr th:only-of-type {\n",
       "        vertical-align: middle;\n",
       "    }\n",
       "\n",
       "    .dataframe tbody tr th {\n",
       "        vertical-align: top;\n",
       "    }\n",
       "\n",
       "    .dataframe thead th {\n",
       "        text-align: right;\n",
       "    }\n",
       "</style>\n",
       "<table border=\"1\" class=\"dataframe\">\n",
       "  <thead>\n",
       "    <tr style=\"text-align: right;\">\n",
       "      <th></th>\n",
       "      <th>agreement</th>\n",
       "      <th>simple_agreement</th>\n",
       "      <th>elaborated_agreement</th>\n",
       "      <th>disagreement</th>\n",
       "      <th>simple_disagreement</th>\n",
       "      <th>elaborated_disagreement</th>\n",
       "      <th>number_of_ideas</th>\n",
       "    </tr>\n",
       "  </thead>\n",
       "  <tbody>\n",
       "  </tbody>\n",
       "</table>\n",
       "</div>"
      ],
      "text/plain": [
       "Empty DataFrame\n",
       "Columns: [agreement, simple_agreement, elaborated_agreement, disagreement, simple_disagreement, elaborated_disagreement, number_of_ideas]\n",
       "Index: []"
      ]
     },
     "execution_count": 91,
     "metadata": {},
     "output_type": "execute_result"
    }
   ],
   "source": [
    "rq3_df[(rq3_df['agreement']==1)&(rq3_df['simple_agreement']==0)&(rq3_df['elaborated_agreement']==0)]"
   ]
  },
  {
   "cell_type": "markdown",
   "metadata": {},
   "source": [
    "There should not be comments with agreement set to 1 but which do not have specified the type of agreement"
   ]
  },
  {
   "cell_type": "code",
   "execution_count": 92,
   "metadata": {},
   "outputs": [
    {
     "data": {
      "text/html": [
       "<div>\n",
       "<style scoped>\n",
       "    .dataframe tbody tr th:only-of-type {\n",
       "        vertical-align: middle;\n",
       "    }\n",
       "\n",
       "    .dataframe tbody tr th {\n",
       "        vertical-align: top;\n",
       "    }\n",
       "\n",
       "    .dataframe thead th {\n",
       "        text-align: right;\n",
       "    }\n",
       "</style>\n",
       "<table border=\"1\" class=\"dataframe\">\n",
       "  <thead>\n",
       "    <tr style=\"text-align: right;\">\n",
       "      <th></th>\n",
       "      <th>agreement</th>\n",
       "      <th>simple_agreement</th>\n",
       "      <th>elaborated_agreement</th>\n",
       "      <th>disagreement</th>\n",
       "      <th>simple_disagreement</th>\n",
       "      <th>elaborated_disagreement</th>\n",
       "      <th>number_of_ideas</th>\n",
       "    </tr>\n",
       "  </thead>\n",
       "  <tbody>\n",
       "  </tbody>\n",
       "</table>\n",
       "</div>"
      ],
      "text/plain": [
       "Empty DataFrame\n",
       "Columns: [agreement, simple_agreement, elaborated_agreement, disagreement, simple_disagreement, elaborated_disagreement, number_of_ideas]\n",
       "Index: []"
      ]
     },
     "execution_count": 92,
     "metadata": {},
     "output_type": "execute_result"
    }
   ],
   "source": [
    "rq3_df[(rq3_df['disagreement']==1)&(rq3_df['simple_disagreement']==0)&(rq3_df['elaborated_disagreement']==0)]"
   ]
  },
  {
   "cell_type": "markdown",
   "metadata": {},
   "source": [
    "There should not be comments that have disagreement set 1 without specifying the type of disagreement"
   ]
  },
  {
   "cell_type": "code",
   "execution_count": 93,
   "metadata": {},
   "outputs": [
    {
     "data": {
      "text/html": [
       "<div>\n",
       "<style scoped>\n",
       "    .dataframe tbody tr th:only-of-type {\n",
       "        vertical-align: middle;\n",
       "    }\n",
       "\n",
       "    .dataframe tbody tr th {\n",
       "        vertical-align: top;\n",
       "    }\n",
       "\n",
       "    .dataframe thead th {\n",
       "        text-align: right;\n",
       "    }\n",
       "</style>\n",
       "<table border=\"1\" class=\"dataframe\">\n",
       "  <thead>\n",
       "    <tr style=\"text-align: right;\">\n",
       "      <th></th>\n",
       "      <th>agreement</th>\n",
       "      <th>simple_agreement</th>\n",
       "      <th>elaborated_agreement</th>\n",
       "      <th>disagreement</th>\n",
       "      <th>simple_disagreement</th>\n",
       "      <th>elaborated_disagreement</th>\n",
       "      <th>number_of_ideas</th>\n",
       "    </tr>\n",
       "  </thead>\n",
       "  <tbody>\n",
       "  </tbody>\n",
       "</table>\n",
       "</div>"
      ],
      "text/plain": [
       "Empty DataFrame\n",
       "Columns: [agreement, simple_agreement, elaborated_agreement, disagreement, simple_disagreement, elaborated_disagreement, number_of_ideas]\n",
       "Index: []"
      ]
     },
     "execution_count": 93,
     "metadata": {},
     "output_type": "execute_result"
    }
   ],
   "source": [
    "rq3_df[(rq3_df['simple_agreement']==1)&(rq3_df['elaborated_agreement']==1)]"
   ]
  },
  {
   "cell_type": "markdown",
   "metadata": {},
   "source": [
    "There should not be comments that have at the same simple agreement and elaborated agreement. Index 336 should be removed."
   ]
  },
  {
   "cell_type": "code",
   "execution_count": 94,
   "metadata": {},
   "outputs": [
    {
     "data": {
      "text/html": [
       "<div>\n",
       "<style scoped>\n",
       "    .dataframe tbody tr th:only-of-type {\n",
       "        vertical-align: middle;\n",
       "    }\n",
       "\n",
       "    .dataframe tbody tr th {\n",
       "        vertical-align: top;\n",
       "    }\n",
       "\n",
       "    .dataframe thead th {\n",
       "        text-align: right;\n",
       "    }\n",
       "</style>\n",
       "<table border=\"1\" class=\"dataframe\">\n",
       "  <thead>\n",
       "    <tr style=\"text-align: right;\">\n",
       "      <th></th>\n",
       "      <th>agreement</th>\n",
       "      <th>simple_agreement</th>\n",
       "      <th>elaborated_agreement</th>\n",
       "      <th>disagreement</th>\n",
       "      <th>simple_disagreement</th>\n",
       "      <th>elaborated_disagreement</th>\n",
       "      <th>number_of_ideas</th>\n",
       "    </tr>\n",
       "  </thead>\n",
       "  <tbody>\n",
       "    <tr>\n",
       "      <th>334</th>\n",
       "      <td>0</td>\n",
       "      <td>0</td>\n",
       "      <td>1</td>\n",
       "      <td>1</td>\n",
       "      <td>0</td>\n",
       "      <td>1</td>\n",
       "      <td>1</td>\n",
       "    </tr>\n",
       "  </tbody>\n",
       "</table>\n",
       "</div>"
      ],
      "text/plain": [
       "     agreement  simple_agreement  elaborated_agreement  disagreement  \\\n",
       "334          0                 0                     1             1   \n",
       "\n",
       "     simple_disagreement  elaborated_disagreement number_of_ideas  \n",
       "334                    0                        1               1  "
      ]
     },
     "execution_count": 94,
     "metadata": {},
     "output_type": "execute_result"
    }
   ],
   "source": [
    "rq3_df[(rq3_df['agreement']==0)&((rq3_df['simple_agreement']==1)|(rq3_df['elaborated_agreement']==1))]"
   ]
  },
  {
   "cell_type": "markdown",
   "metadata": {},
   "source": [
    "There should not be comments in which there simple agreement or elaborated agreement appears but agreement is set to 0"
   ]
  },
  {
   "cell_type": "code",
   "execution_count": 95,
   "metadata": {},
   "outputs": [
    {
     "data": {
      "text/html": [
       "<div>\n",
       "<style scoped>\n",
       "    .dataframe tbody tr th:only-of-type {\n",
       "        vertical-align: middle;\n",
       "    }\n",
       "\n",
       "    .dataframe tbody tr th {\n",
       "        vertical-align: top;\n",
       "    }\n",
       "\n",
       "    .dataframe thead th {\n",
       "        text-align: right;\n",
       "    }\n",
       "</style>\n",
       "<table border=\"1\" class=\"dataframe\">\n",
       "  <thead>\n",
       "    <tr style=\"text-align: right;\">\n",
       "      <th></th>\n",
       "      <th>agreement</th>\n",
       "      <th>simple_agreement</th>\n",
       "      <th>elaborated_agreement</th>\n",
       "      <th>disagreement</th>\n",
       "      <th>simple_disagreement</th>\n",
       "      <th>elaborated_disagreement</th>\n",
       "      <th>number_of_ideas</th>\n",
       "    </tr>\n",
       "  </thead>\n",
       "  <tbody>\n",
       "  </tbody>\n",
       "</table>\n",
       "</div>"
      ],
      "text/plain": [
       "Empty DataFrame\n",
       "Columns: [agreement, simple_agreement, elaborated_agreement, disagreement, simple_disagreement, elaborated_disagreement, number_of_ideas]\n",
       "Index: []"
      ]
     },
     "execution_count": 95,
     "metadata": {},
     "output_type": "execute_result"
    }
   ],
   "source": [
    "rq3_df[(rq3_df['simple_disagreement']==1)&(rq3_df['elaborated_disagreement']==1)]"
   ]
  },
  {
   "cell_type": "code",
   "execution_count": 96,
   "metadata": {},
   "outputs": [
    {
     "data": {
      "text/html": [
       "<div>\n",
       "<style scoped>\n",
       "    .dataframe tbody tr th:only-of-type {\n",
       "        vertical-align: middle;\n",
       "    }\n",
       "\n",
       "    .dataframe tbody tr th {\n",
       "        vertical-align: top;\n",
       "    }\n",
       "\n",
       "    .dataframe thead th {\n",
       "        text-align: right;\n",
       "    }\n",
       "</style>\n",
       "<table border=\"1\" class=\"dataframe\">\n",
       "  <thead>\n",
       "    <tr style=\"text-align: right;\">\n",
       "      <th></th>\n",
       "      <th>agreement</th>\n",
       "      <th>simple_agreement</th>\n",
       "      <th>elaborated_agreement</th>\n",
       "      <th>disagreement</th>\n",
       "      <th>simple_disagreement</th>\n",
       "      <th>elaborated_disagreement</th>\n",
       "      <th>number_of_ideas</th>\n",
       "    </tr>\n",
       "  </thead>\n",
       "  <tbody>\n",
       "    <tr>\n",
       "      <th>310</th>\n",
       "      <td>1</td>\n",
       "      <td>0</td>\n",
       "      <td>1</td>\n",
       "      <td>0</td>\n",
       "      <td>0</td>\n",
       "      <td>1</td>\n",
       "      <td>2</td>\n",
       "    </tr>\n",
       "  </tbody>\n",
       "</table>\n",
       "</div>"
      ],
      "text/plain": [
       "     agreement  simple_agreement  elaborated_agreement  disagreement  \\\n",
       "310          1                 0                     1             0   \n",
       "\n",
       "     simple_disagreement  elaborated_disagreement number_of_ideas  \n",
       "310                    0                        1               2  "
      ]
     },
     "execution_count": 96,
     "metadata": {},
     "output_type": "execute_result"
    }
   ],
   "source": [
    "rq3_df[(rq3_df['disagreement']==0)&((rq3_df['simple_disagreement']==1)|(rq3_df['elaborated_disagreement']==1))]"
   ]
  },
  {
   "cell_type": "markdown",
   "metadata": {},
   "source": [
    "#### Fix data inconsistencies"
   ]
  },
  {
   "cell_type": "markdown",
   "metadata": {},
   "source": [
    "Agreement will be set to 1 in index `334`"
   ]
  },
  {
   "cell_type": "code",
   "execution_count": 97,
   "metadata": {},
   "outputs": [],
   "source": [
    "idx_to_change = rq3_df[(rq3_df['agreement']==0)&((rq3_df['simple_agreement']==1)|(rq3_df['elaborated_agreement']==1))].index.values"
   ]
  },
  {
   "cell_type": "code",
   "execution_count": 98,
   "metadata": {},
   "outputs": [],
   "source": [
    "rq3_df.loc[idx_to_change[0],'agreement']=1"
   ]
  },
  {
   "cell_type": "code",
   "execution_count": 99,
   "metadata": {},
   "outputs": [
    {
     "data": {
      "text/plain": [
       "agreement                  1\n",
       "simple_agreement           0\n",
       "elaborated_agreement       1\n",
       "disagreement               1\n",
       "simple_disagreement        0\n",
       "elaborated_disagreement    1\n",
       "number_of_ideas            1\n",
       "Name: 334, dtype: object"
      ]
     },
     "execution_count": 99,
     "metadata": {},
     "output_type": "execute_result"
    }
   ],
   "source": [
    "rq3_df.loc[idx_to_change[0]]"
   ]
  },
  {
   "cell_type": "markdown",
   "metadata": {},
   "source": [
    "Disagreement will be set to 1 in index `310`"
   ]
  },
  {
   "cell_type": "code",
   "execution_count": 100,
   "metadata": {},
   "outputs": [],
   "source": [
    "idx_to_change = \\\n",
    "    rq3_df[(rq3_df['disagreement']==0)&((rq3_df['simple_disagreement']==1)|(rq3_df['elaborated_disagreement']==1))].index.values"
   ]
  },
  {
   "cell_type": "code",
   "execution_count": 101,
   "metadata": {},
   "outputs": [],
   "source": [
    "rq3_df.loc[idx_to_change[0],'disagreement']=1"
   ]
  },
  {
   "cell_type": "code",
   "execution_count": 102,
   "metadata": {},
   "outputs": [
    {
     "data": {
      "text/plain": [
       "agreement                  1\n",
       "simple_agreement           0\n",
       "elaborated_agreement       1\n",
       "disagreement               1\n",
       "simple_disagreement        0\n",
       "elaborated_disagreement    1\n",
       "number_of_ideas            2\n",
       "Name: 310, dtype: object"
      ]
     },
     "execution_count": 102,
     "metadata": {},
     "output_type": "execute_result"
    }
   ],
   "source": [
    "rq3_df.loc[idx_to_change[0]]"
   ]
  },
  {
   "cell_type": "markdown",
   "metadata": {},
   "source": [
    "#### Create a new column to reflect that both agreement and disagreement occur"
   ]
  },
  {
   "cell_type": "code",
   "execution_count": 103,
   "metadata": {},
   "outputs": [],
   "source": [
    "rq3_df['both_agreement_disagreement'] = np.where((rq3_df['disagreement']==1)&(rq3_df['agreement']==1),1,0)"
   ]
  },
  {
   "cell_type": "markdown",
   "metadata": {},
   "source": [
    "### 2. Remove rows with invalid values"
   ]
  },
  {
   "cell_type": "markdown",
   "metadata": {},
   "source": [
    "Some variables have the values `unclear` and `nan`, which will be converted to 0"
   ]
  },
  {
   "cell_type": "code",
   "execution_count": 104,
   "metadata": {},
   "outputs": [
    {
     "name": "stderr",
     "output_type": "stream",
     "text": [
      "/home/jorge/Dropbox/Data Analyses/disagreement/env/lib/python3.7/site-packages/pandas/core/ops/array_ops.py:253: FutureWarning: elementwise comparison failed; returning scalar instead, but in the future will perform elementwise comparison\n",
      "  res_values = method(rvalues)\n"
     ]
    }
   ],
   "source": [
    "for col in rq3_df.columns:\n",
    "    rq3_df.loc[rq3_df[col]=='unclear', col] = 0\n",
    "    rq3_df.loc[rq3_df[col].isna(), col] = 0\n",
    "    if col == 'number_of_ideas':\n",
    "        continue\n",
    "    unique_values = rq3_df[col].unique()\n",
    "    invalid_values = set(unique_values) - set([0,1])\n",
    "    if len(invalid_values) > 0:  # the column has invalid values                   \n",
    "        invalid_indexes = list(rq3_df.loc[~rq3_df[col].isin([0,1])].index)\n",
    "        if len(invalid_indexes) > 0:\n",
    "            print(f'Found the following invalid values {invalid_values} in {len(invalid_indexes)} '\\\n",
    "                  f'rows of the column {col}. Rows has been discarded.')\n",
    "            rq3_df = rq3_df.drop(index=invalid_indexes)            "
   ]
  },
  {
   "cell_type": "code",
   "execution_count": 105,
   "metadata": {},
   "outputs": [
    {
     "name": "stdout",
     "output_type": "stream",
     "text": [
      "After the step above the dataset is composed of 488 rows and 8 columns\n"
     ]
    }
   ],
   "source": [
    "print(f\"After the step above the dataset is composed of {rq3_df.shape[0]} rows and {rq3_df.shape[1]} columns\")"
   ]
  },
  {
   "cell_type": "markdown",
   "metadata": {},
   "source": [
    "### 2. Add a new variable"
   ]
  },
  {
   "cell_type": "code",
   "execution_count": 106,
   "metadata": {},
   "outputs": [],
   "source": [
    "rq3_df['number_of_ideas'] = pd.to_numeric(rq3_df['number_of_ideas'], downcast='unsigned')"
   ]
  },
  {
   "cell_type": "code",
   "execution_count": 107,
   "metadata": {},
   "outputs": [],
   "source": [
    "rq3_df['idea_generated'] = np.where(rq3_df['number_of_ideas']>0, 1, 0)"
   ]
  },
  {
   "cell_type": "markdown",
   "metadata": {},
   "source": [
    "### 4. Explore variables"
   ]
  },
  {
   "cell_type": "code",
   "execution_count": 108,
   "metadata": {},
   "outputs": [
    {
     "name": "stdout",
     "output_type": "stream",
     "text": [
      "There are 115 (24%) comments in which agreement and disagreement appear\n"
     ]
    }
   ],
   "source": [
    "both = rq3_df[rq3_df['both_agreement_disagreement']==1].shape[0]\n",
    "print(f'There are {both} ({round(100*(both/rq3_df.shape[0]))}%) comments in which agreement and disagreement '\\\n",
    "      f'appear')"
   ]
  },
  {
   "cell_type": "code",
   "execution_count": 109,
   "metadata": {},
   "outputs": [
    {
     "name": "stdout",
     "output_type": "stream",
     "text": [
      "There are 447(92%) comments in which ideas were generated\n"
     ]
    }
   ],
   "source": [
    "with_ideas = rq3_df[rq3_df['idea_generated']>0].shape[0]\n",
    "print(f'There are {with_ideas}({round(100*(with_ideas/rq3_df.shape[0]))}%) comments in which ideas were generated')"
   ]
  },
  {
   "cell_type": "code",
   "execution_count": 110,
   "metadata": {},
   "outputs": [
    {
     "name": "stdout",
     "output_type": "stream",
     "text": [
      "In 115 (100%) comments in which agreement and disagreement appear, ideas were generated\n"
     ]
    }
   ],
   "source": [
    "both_with_ideas = rq3_df[(rq3_df['both_agreement_disagreement']==1)&(rq3_df['idea_generated']==1)].shape[0]\n",
    "print(f'In {both_with_ideas} ({round(100*(both_with_ideas/both))}%) '\\\n",
    "      f'comments in which agreement and disagreement appear, ideas were generated')"
   ]
  },
  {
   "cell_type": "code",
   "execution_count": 111,
   "metadata": {
    "scrolled": true
   },
   "outputs": [
    {
     "name": "stdout",
     "output_type": "stream",
     "text": [
      "In 0 (0%) comments in which agreement and disagreement appear, ideas were not generated\n"
     ]
    }
   ],
   "source": [
    "both_without_ideas = rq3_df[(rq3_df['both_agreement_disagreement']==1)&(rq3_df['idea_generated']==0)].shape[0]\n",
    "print(f'In {both_without_ideas} ({round(100*(both_without_ideas/both))}%) '\\\n",
    "      f'comments in which agreement and disagreement appear, ideas were not generated')"
   ]
  },
  {
   "cell_type": "code",
   "execution_count": 112,
   "metadata": {},
   "outputs": [
    {
     "name": "stdout",
     "output_type": "stream",
     "text": [
      "There are 373 (76%) comments in which agreement and disagreement do not appear simultaneously\n"
     ]
    }
   ],
   "source": [
    "no_both = rq3_df[rq3_df['both_agreement_disagreement']==0].shape[0]\n",
    "print(f'There are {no_both} ({round(100*(no_both/rq3_df.shape[0]))}%) comments in which agreement and '\\\n",
    "      f'disagreement do not appear simultaneously')"
   ]
  },
  {
   "cell_type": "code",
   "execution_count": 113,
   "metadata": {},
   "outputs": [
    {
     "name": "stdout",
     "output_type": "stream",
     "text": [
      "In 332 (89%) comments in which agreement and disagreement do not appear simultaneously, ideas were generated\n"
     ]
    }
   ],
   "source": [
    "no_both_with_ideas = rq3_df[(rq3_df['both_agreement_disagreement']==0)&(rq3_df['idea_generated']==1)].shape[0]\n",
    "print(f'In {no_both_with_ideas} ({round(100*(no_both_with_ideas/no_both))}%) '\\\n",
    "      f'comments in which agreement and disagreement do not appear simultaneously, ideas were generated')"
   ]
  },
  {
   "cell_type": "markdown",
   "metadata": {},
   "source": [
    "### 5. Compare mean of ideas generated"
   ]
  },
  {
   "cell_type": "code",
   "execution_count": 114,
   "metadata": {},
   "outputs": [],
   "source": [
    "both_df = rq3_df[rq3_df['both_agreement_disagreement']==1]\n",
    "no_both_df = rq3_df[rq3_df['both_agreement_disagreement']==0]"
   ]
  },
  {
   "cell_type": "code",
   "execution_count": 115,
   "metadata": {},
   "outputs": [
    {
     "name": "stdout",
     "output_type": "stream",
     "text": [
      "The mean of ideas in comments where agreement and disagreement appear is 1.95\n"
     ]
    }
   ],
   "source": [
    "print(f\"The mean of ideas in comments where agreement and disagreement appear is \"\\\n",
    "      f\"{round(both_df['number_of_ideas'].mean(),2)}\")"
   ]
  },
  {
   "cell_type": "code",
   "execution_count": 116,
   "metadata": {},
   "outputs": [
    {
     "name": "stdout",
     "output_type": "stream",
     "text": [
      "The mean of ideas in comments where agreement and disagreement do not appear simultaneously is 1.39\n"
     ]
    }
   ],
   "source": [
    "print(f\"The mean of ideas in comments where agreement and disagreement do not appear simultaneously is \"\\\n",
    "      f\"{round(no_both_df['number_of_ideas'].mean(),2)}\")"
   ]
  },
  {
   "cell_type": "code",
   "execution_count": 117,
   "metadata": {},
   "outputs": [
    {
     "name": "stdout",
     "output_type": "stream",
     "text": [
      "The diference between the means is statistically significant (p-value 9.55363877397982e-09)\n"
     ]
    }
   ],
   "source": [
    "stat, p_val = stats.mannwhitneyu(both_df['number_of_ideas'], no_both_df['number_of_ideas'])\n",
    "if p_val < alpha_level:\n",
    "    print(f'The diference between the means is statistically significant (p-value {p_val})')\n",
    "else:\n",
    "    print(f'The diference between the means is not statistically significant (p-value {p_val})')"
   ]
  },
  {
   "cell_type": "markdown",
   "metadata": {},
   "source": [
    "### 6. Split data by the type of agreement/disagreement"
   ]
  },
  {
   "cell_type": "markdown",
   "metadata": {},
   "source": [
    "#### Compute `simple agreement` / `simple disagreement` data"
   ]
  },
  {
   "cell_type": "code",
   "execution_count": 119,
   "metadata": {},
   "outputs": [
    {
     "name": "stdout",
     "output_type": "stream",
     "text": [
      "There are 5 comments with simple agreement and simple disagreement\n"
     ]
    }
   ],
   "source": [
    "s_agreement_s_disagreement_df = rq3_df[(rq3_df['simple_agreement']==1)&(rq3_df['simple_disagreement']==1)]\n",
    "print(f'There are {s_agreement_s_disagreement_df.shape[0]} comments with simple agreement and simple '\\\n",
    "      f'disagreement')"
   ]
  },
  {
   "cell_type": "code",
   "execution_count": 120,
   "metadata": {},
   "outputs": [
    {
     "data": {
      "text/plain": [
       "1.2"
      ]
     },
     "execution_count": 120,
     "metadata": {},
     "output_type": "execute_result"
    }
   ],
   "source": [
    "s_agreement_s_disagreement_df['number_of_ideas'].mean()"
   ]
  },
  {
   "cell_type": "markdown",
   "metadata": {},
   "source": [
    "#### Compute `simple agreement` / `elaborated disagreement` data"
   ]
  },
  {
   "cell_type": "code",
   "execution_count": 121,
   "metadata": {},
   "outputs": [
    {
     "name": "stdout",
     "output_type": "stream",
     "text": [
      "There are 15 comments with simple agreement and elaborated disagreement\n"
     ]
    }
   ],
   "source": [
    "s_agreement_e_disagreement_df = rq3_df[(rq3_df['simple_agreement']==1)&(rq3_df['elaborated_disagreement']==1)]\n",
    "print(f'There are {s_agreement_e_disagreement_df.shape[0]} comments with simple agreement and elaborated '\\\n",
    "      f'disagreement')"
   ]
  },
  {
   "cell_type": "code",
   "execution_count": 122,
   "metadata": {},
   "outputs": [
    {
     "data": {
      "text/plain": [
       "1.4666666666666666"
      ]
     },
     "execution_count": 122,
     "metadata": {},
     "output_type": "execute_result"
    }
   ],
   "source": [
    "s_agreement_e_disagreement_df['number_of_ideas'].mean()"
   ]
  },
  {
   "cell_type": "code",
   "execution_count": 123,
   "metadata": {},
   "outputs": [
    {
     "name": "stdout",
     "output_type": "stream",
     "text": [
      "The diference between the means is not statistically significant (p-value 0.2892518773674667)\n"
     ]
    }
   ],
   "source": [
    "stat, p_val = stats.mannwhitneyu(s_agreement_e_disagreement_df['number_of_ideas'], no_both_df['number_of_ideas'])\n",
    "if p_val < alpha_level:\n",
    "    print(f'The diference between the means is statistically significant (p-value {p_val})')\n",
    "else:\n",
    "    print(f'The diference between the means is not statistically significant (p-value {p_val})')"
   ]
  },
  {
   "cell_type": "markdown",
   "metadata": {},
   "source": [
    "#### Compute `elaborated agreement` \\ `simple disagreement` data"
   ]
  },
  {
   "cell_type": "code",
   "execution_count": 124,
   "metadata": {},
   "outputs": [
    {
     "name": "stdout",
     "output_type": "stream",
     "text": [
      "There are 0 comments with elaborated agreement and simple disagreement\n"
     ]
    }
   ],
   "source": [
    "e_agreement_s_disagreement_df = rq3_df[(rq3_df['elaborated_agreement']==1)&(rq3_df['simple_disagreement']==1)]\n",
    "print(f'There are {e_agreement_s_disagreement_df.shape[0]} comments with elaborated agreement and simple '\\\n",
    "      f'disagreement')"
   ]
  },
  {
   "cell_type": "markdown",
   "metadata": {},
   "source": [
    "#### Compute `elaborated agreement` \\ `elaborated disagreement` data"
   ]
  },
  {
   "cell_type": "code",
   "execution_count": 125,
   "metadata": {},
   "outputs": [
    {
     "name": "stdout",
     "output_type": "stream",
     "text": [
      "There are 95 comments with elaborated agreement and elaborated disagreement\n"
     ]
    }
   ],
   "source": [
    "e_agreement_e_disagreement_df = rq3_df[(rq3_df['elaborated_agreement']==1)&(rq3_df['elaborated_disagreement']==1)]\n",
    "print(f'There are {e_agreement_e_disagreement_df.shape[0]} comments with elaborated agreement and '\\\n",
    "      f'elaborated disagreement')"
   ]
  },
  {
   "cell_type": "code",
   "execution_count": 126,
   "metadata": {},
   "outputs": [
    {
     "data": {
      "text/plain": [
       "2.0631578947368423"
      ]
     },
     "execution_count": 126,
     "metadata": {},
     "output_type": "execute_result"
    }
   ],
   "source": [
    "e_agreement_e_disagreement_df['number_of_ideas'].mean()"
   ]
  },
  {
   "cell_type": "code",
   "execution_count": 128,
   "metadata": {},
   "outputs": [
    {
     "name": "stdout",
     "output_type": "stream",
     "text": [
      "The diference between the means is statistically significant (p-value 3.809997261837655e-10)\n"
     ]
    }
   ],
   "source": [
    "stat, p_val = stats.mannwhitneyu(e_agreement_e_disagreement_df['number_of_ideas'], no_both_df['number_of_ideas'])\n",
    "if p_val < alpha_level:\n",
    "    print(f'The diference between the means is statistically significant (p-value {p_val})')\n",
    "else:\n",
    "    print(f'The diference between the means is not statistically significant (p-value {p_val})')"
   ]
  },
  {
   "cell_type": "markdown",
   "metadata": {},
   "source": [
    "---"
   ]
  },
  {
   "cell_type": "markdown",
   "metadata": {},
   "source": [
    "## RQ4. Disagreement/agreement and new ideas"
   ]
  },
  {
   "cell_type": "code",
   "execution_count": 129,
   "metadata": {},
   "outputs": [],
   "source": [
    "all_df.loc[all_df['number_of_ideas']=='unclear', 'number_of_ideas'] = 0\n",
    "all_df.loc[all_df['number_of_ideas'].isna(), 'number_of_ideas'] = 0\n",
    "all_df['number_of_ideas'] = pd.to_numeric(all_df['number_of_ideas'], downcast='unsigned')"
   ]
  },
  {
   "cell_type": "code",
   "execution_count": 131,
   "metadata": {},
   "outputs": [
    {
     "data": {
      "text/plain": [
       "488"
      ]
     },
     "execution_count": 131,
     "metadata": {},
     "output_type": "execute_result"
    }
   ],
   "source": [
    "rq4_df = all_df\n",
    "rq4_df.shape[0]"
   ]
  },
  {
   "cell_type": "markdown",
   "metadata": {},
   "source": [
    "### A) Comments that *only* have `simple` disagreement"
   ]
  },
  {
   "cell_type": "code",
   "execution_count": 132,
   "metadata": {},
   "outputs": [
    {
     "name": "stdout",
     "output_type": "stream",
     "text": [
      "There are 21 comments with only simple disagreement. These comments have in average 0.762 ideas.\n"
     ]
    },
    {
     "data": {
      "text/plain": [
       "<matplotlib.axes._subplots.AxesSubplot at 0x7f03b9607f28>"
      ]
     },
     "execution_count": 132,
     "metadata": {},
     "output_type": "execute_result"
    },
    {
     "data": {
      "image/png": "[encoded data removed]",
      "text/plain": [
       "<Figure size 576x396 with 1 Axes>"
      ]
     },
     "metadata": {},
     "output_type": "display_data"
    }
   ],
   "source": [
    "s_dis_comments = rq4_df.loc[(rq4_df['simple_disagreement']==1)&(rq4_df['agreement']==0),'number_of_ideas']\n",
    "print(f'There are {len(s_dis_comments)} comments with only simple disagreement. '\\\n",
    "      f'These comments have in average {round(s_dis_comments.mean(),3)} ideas.')\n",
    "s_dis_comments.hist()"
   ]
  },
  {
   "cell_type": "markdown",
   "metadata": {},
   "source": [
    "### B) Comments that *only* have `elaborated` disagreement"
   ]
  },
  {
   "cell_type": "code",
   "execution_count": 133,
   "metadata": {},
   "outputs": [
    {
     "name": "stdout",
     "output_type": "stream",
     "text": [
      "There are 144 comments with only elaborated disagreement. These comments have in average 1.632 ideas.\n"
     ]
    },
    {
     "data": {
      "text/plain": [
       "<matplotlib.axes._subplots.AxesSubplot at 0x7f03b8efcfd0>"
      ]
     },
     "execution_count": 133,
     "metadata": {},
     "output_type": "execute_result"
    },
    {
     "data": {
      "image/png": "[encoded data removed]",
      "text/plain": [
       "<Figure size 576x396 with 1 Axes>"
      ]
     },
     "metadata": {},
     "output_type": "display_data"
    }
   ],
   "source": [
    "e_dis_comments = rq4_df.loc[(rq4_df['elaborated_disagreement']==1)&(rq4_df['agreement']==0),'number_of_ideas']\n",
    "print(f'There are {len(e_dis_comments)} comments with only elaborated disagreement. '\\\n",
    "      f'These comments have in average {round(e_dis_comments.mean(),3)} ideas.')\n",
    "e_dis_comments.hist()"
   ]
  },
  {
   "cell_type": "markdown",
   "metadata": {},
   "source": [
    "### C) Comments that *only* have `simple` agreement"
   ]
  },
  {
   "cell_type": "code",
   "execution_count": 134,
   "metadata": {},
   "outputs": [
    {
     "name": "stdout",
     "output_type": "stream",
     "text": [
      "There are 34 comments with only simple agreement. These comments have in average 0.353 ideas.\n"
     ]
    },
    {
     "data": {
      "text/plain": [
       "<matplotlib.axes._subplots.AxesSubplot at 0x7f03b8e84710>"
      ]
     },
     "execution_count": 134,
     "metadata": {},
     "output_type": "execute_result"
    },
    {
     "data": {
      "image/png": "[encoded data removed]",
      "text/plain": [
       "<Figure size 576x396 with 1 Axes>"
      ]
     },
     "metadata": {},
     "output_type": "display_data"
    }
   ],
   "source": [
    "s_agr_comments = rq4_df.loc[(rq4_df['disagreement']==0)&(rq4_df['simple_agreement']==1),'number_of_ideas']\n",
    "print(f'There are {s_agr_comments.shape[0]} comments with only simple agreement. '\\\n",
    "      f'These comments have in average {round(s_agr_comments.mean(), 3)} ideas.')\n",
    "s_agr_comments.hist()"
   ]
  },
  {
   "cell_type": "markdown",
   "metadata": {},
   "source": [
    "### D) Comments that *only* have `elaborated` agreement"
   ]
  },
  {
   "cell_type": "code",
   "execution_count": 135,
   "metadata": {},
   "outputs": [
    {
     "name": "stdout",
     "output_type": "stream",
     "text": [
      "There are 98 comments with only elaborated agreement. These comments have in average 1.704 ideas.\n"
     ]
    },
    {
     "data": {
      "text/plain": [
       "<matplotlib.axes._subplots.AxesSubplot at 0x7f03b8de7b70>"
      ]
     },
     "execution_count": 135,
     "metadata": {},
     "output_type": "execute_result"
    },
    {
     "data": {
      "image/png": "[encoded data removed]",
      "text/plain": [
       "<Figure size 576x396 with 1 Axes>"
      ]
     },
     "metadata": {},
     "output_type": "display_data"
    }
   ],
   "source": [
    "e_agr_comments = rq4_df.loc[(rq4_df['disagreement']==0)&(rq4_df['elaborated_agreement']==1),'number_of_ideas']\n",
    "print(f'There are {e_agr_comments.shape[0]} comments with only elaborated agreement. '\\\n",
    "      f'These comments have in average {round(e_agr_comments.mean(), 3)} ideas.')\n",
    "e_agr_comments.hist()"
   ]
  },
  {
   "cell_type": "markdown",
   "metadata": {},
   "source": [
    "### E) Comments that have both agreement and disagreement"
   ]
  },
  {
   "cell_type": "code",
   "execution_count": 136,
   "metadata": {},
   "outputs": [
    {
     "name": "stdout",
     "output_type": "stream",
     "text": [
      "There are 113 comments that have both agreement and disagreement. These comments have in average 1.956 ideas.\n"
     ]
    },
    {
     "data": {
      "text/plain": [
       "<matplotlib.axes._subplots.AxesSubplot at 0x7f03b8d89240>"
      ]
     },
     "execution_count": 136,
     "metadata": {},
     "output_type": "execute_result"
    },
    {
     "data": {
      "image/png": "[encoded data removed]",
      "text/plain": [
       "<Figure size 576x396 with 1 Axes>"
      ]
     },
     "metadata": {},
     "output_type": "display_data"
    }
   ],
   "source": [
    "both_agr_dis_comments = rq4_df.loc[(rq4_df['disagreement']==1)&(rq4_df['agreement']==1),'number_of_ideas']\n",
    "print(f'There are {both_agr_dis_comments.shape[0]} comments that have both agreement and disagreement. '\\\n",
    "      f'These comments have in average {round(both_agr_dis_comments.mean(), 3)} ideas.')\n",
    "both_agr_dis_comments.hist()"
   ]
  },
  {
   "cell_type": "markdown",
   "metadata": {},
   "source": [
    "### F) Comments that don't have disagreement neither agreement"
   ]
  },
  {
   "cell_type": "code",
   "execution_count": 137,
   "metadata": {},
   "outputs": [
    {
     "name": "stdout",
     "output_type": "stream",
     "text": [
      "There are 78 comments with neither agreement and disagreement. These comments have in average 1.167 ideas.\n"
     ]
    },
    {
     "data": {
      "text/plain": [
       "<matplotlib.axes._subplots.AxesSubplot at 0x7f03b8d91940>"
      ]
     },
     "execution_count": 137,
     "metadata": {},
     "output_type": "execute_result"
    },
    {
     "data": {
      "image/png": "[encoded data removed]",
      "text/plain": [
       "<Figure size 576x396 with 1 Axes>"
      ]
     },
     "metadata": {},
     "output_type": "display_data"
    }
   ],
   "source": [
    "no_dis_agr_comments = rq4_df.loc[(rq4_df['disagreement']==0)&(rq4_df['agreement']==0),'number_of_ideas']\n",
    "print(f'There are {no_dis_agr_comments.shape[0]} comments with neither agreement and disagreement. '\\\n",
    "      f'These comments have in average {round(no_dis_agr_comments.mean(), 3)} ideas.')\n",
    "no_dis_agr_comments.hist()"
   ]
  },
  {
   "cell_type": "markdown",
   "metadata": {},
   "source": [
    "### Difference in the number of ideas"
   ]
  },
  {
   "cell_type": "code",
   "execution_count": 138,
   "metadata": {},
   "outputs": [],
   "source": [
    "comment_types = [\n",
    "    {\n",
    "        'name': 'only simple disagreement',\n",
    "        'set': s_dis_comments,\n",
    "        'mean_ideas': s_dis_comments.mean()\n",
    "    },\n",
    "    {\n",
    "        'name': 'only simple agreement',\n",
    "        'set': s_agr_comments,\n",
    "        'mean_ideas': s_agr_comments.mean()\n",
    "    },\n",
    "    {\n",
    "        'name': 'only elaborated disagreement',\n",
    "        'set': e_dis_comments,\n",
    "        'mean_ideas': e_dis_comments.mean()\n",
    "    },\n",
    "    {\n",
    "        'name': 'only elaborated agreement',\n",
    "        'set': e_agr_comments,\n",
    "        'mean_ideas': e_agr_comments.mean()\n",
    "    },\n",
    "    {\n",
    "        'name': 'disagreement and agreement',\n",
    "        'set': both_agr_dis_comments,\n",
    "        'mean_ideas': both_agr_dis_comments.mean()\n",
    "    },\n",
    "    {\n",
    "        'name': 'no disagreement neither agreement',\n",
    "        'set': no_dis_agr_comments,\n",
    "        'mean_ideas': no_dis_agr_comments.mean()\n",
    "    }\n",
    "]"
   ]
  },
  {
   "cell_type": "code",
   "execution_count": 139,
   "metadata": {},
   "outputs": [
    {
     "name": "stdout",
     "output_type": "stream",
     "text": [
      "Checking if the difference in the number of ideas between:\n",
      "- comments with only simple disagreement and\n",
      "- comments with only simple agreement\n",
      "is statistically significant\n",
      "The difference between samples is statistically significant, p-value: 0.0015.\n",
      "Mean of ideas only simple disagreement: 0.7619047619047619\n",
      "Mean of ideas only simple agreement: 0.35294117647058826\n",
      "\n",
      "Checking if the difference in the number of ideas between:\n",
      "- comments with only simple disagreement and\n",
      "- comments with only elaborated disagreement\n",
      "is statistically significant\n",
      "The difference between samples is statistically significant, p-value: 0.0.\n",
      "Mean of ideas only simple disagreement: 0.7619047619047619\n",
      "Mean of ideas only elaborated disagreement: 1.6319444444444444\n",
      "\n",
      "Checking if the difference in the number of ideas between:\n",
      "- comments with only simple disagreement and\n",
      "- comments with only elaborated agreement\n",
      "is statistically significant\n",
      "The difference between samples is statistically significant, p-value: 0.0.\n",
      "Mean of ideas only simple disagreement: 0.7619047619047619\n",
      "Mean of ideas only elaborated agreement: 1.7040816326530612\n",
      "\n",
      "Checking if the difference in the number of ideas between:\n",
      "- comments with only simple disagreement and\n",
      "- comments with disagreement and agreement\n",
      "is statistically significant\n",
      "The difference between samples is statistically significant, p-value: 0.0.\n",
      "Mean of ideas only simple disagreement: 0.7619047619047619\n",
      "Mean of ideas disagreement and agreement: 1.9557522123893805\n",
      "\n",
      "Checking if the difference in the number of ideas between:\n",
      "- comments with only simple disagreement and\n",
      "- comments with no disagreement neither agreement\n",
      "is statistically significant\n",
      "The difference between samples is statistically significant, p-value: 0.0135.\n",
      "Mean of ideas only simple disagreement: 0.7619047619047619\n",
      "Mean of ideas no disagreement neither agreement: 1.1666666666666667\n",
      "\n",
      "\n",
      "Checking if the difference in the number of ideas between:\n",
      "- comments with only simple agreement and\n",
      "- comments with only elaborated disagreement\n",
      "is statistically significant\n",
      "The difference between samples is statistically significant, p-value: 0.0.\n",
      "Mean of ideas only simple agreement: 0.35294117647058826\n",
      "Mean of ideas only elaborated disagreement: 1.6319444444444444\n",
      "\n",
      "Checking if the difference in the number of ideas between:\n",
      "- comments with only simple agreement and\n",
      "- comments with only elaborated agreement\n",
      "is statistically significant\n",
      "The difference between samples is statistically significant, p-value: 0.0.\n",
      "Mean of ideas only simple agreement: 0.35294117647058826\n",
      "Mean of ideas only elaborated agreement: 1.7040816326530612\n",
      "\n",
      "Checking if the difference in the number of ideas between:\n",
      "- comments with only simple agreement and\n",
      "- comments with disagreement and agreement\n",
      "is statistically significant\n",
      "The difference between samples is statistically significant, p-value: 0.0.\n",
      "Mean of ideas only simple agreement: 0.35294117647058826\n",
      "Mean of ideas disagreement and agreement: 1.9557522123893805\n",
      "\n",
      "Checking if the difference in the number of ideas between:\n",
      "- comments with only simple agreement and\n",
      "- comments with no disagreement neither agreement\n",
      "is statistically significant\n",
      "The difference between samples is statistically significant, p-value: 0.0.\n",
      "Mean of ideas only simple agreement: 0.35294117647058826\n",
      "Mean of ideas no disagreement neither agreement: 1.1666666666666667\n",
      "\n",
      "\n",
      "Checking if the difference in the number of ideas between:\n",
      "- comments with only elaborated disagreement and\n",
      "- comments with only elaborated agreement\n",
      "is statistically significant\n",
      "The difference between samples is not statistically significant, p-value: 0.4083.\n",
      "\n",
      "Checking if the difference in the number of ideas between:\n",
      "- comments with only elaborated disagreement and\n",
      "- comments with disagreement and agreement\n",
      "is statistically significant\n",
      "The difference between samples is statistically significant, p-value: 0.0049.\n",
      "Mean of ideas only elaborated disagreement: 1.6319444444444444\n",
      "Mean of ideas disagreement and agreement: 1.9557522123893805\n",
      "\n",
      "Checking if the difference in the number of ideas between:\n",
      "- comments with only elaborated disagreement and\n",
      "- comments with no disagreement neither agreement\n",
      "is statistically significant\n",
      "The difference between samples is statistically significant, p-value: 0.0.\n",
      "Mean of ideas only elaborated disagreement: 1.6319444444444444\n",
      "Mean of ideas no disagreement neither agreement: 1.1666666666666667\n",
      "\n",
      "\n",
      "Checking if the difference in the number of ideas between:\n",
      "- comments with only elaborated agreement and\n",
      "- comments with disagreement and agreement\n",
      "is statistically significant\n",
      "The difference between samples is statistically significant, p-value: 0.0079.\n",
      "Mean of ideas only elaborated agreement: 1.7040816326530612\n",
      "Mean of ideas disagreement and agreement: 1.9557522123893805\n",
      "\n",
      "Checking if the difference in the number of ideas between:\n",
      "- comments with only elaborated agreement and\n",
      "- comments with no disagreement neither agreement\n",
      "is statistically significant\n",
      "The difference between samples is statistically significant, p-value: 0.0.\n",
      "Mean of ideas only elaborated agreement: 1.7040816326530612\n",
      "Mean of ideas no disagreement neither agreement: 1.1666666666666667\n",
      "\n",
      "\n",
      "Checking if the difference in the number of ideas between:\n",
      "- comments with disagreement and agreement and\n",
      "- comments with no disagreement neither agreement\n",
      "is statistically significant\n",
      "The difference between samples is statistically significant, p-value: 0.0.\n",
      "Mean of ideas disagreement and agreement: 1.9557522123893805\n",
      "Mean of ideas no disagreement neither agreement: 1.1666666666666667\n",
      "\n",
      "\n"
     ]
    }
   ],
   "source": [
    "for i in range(len(comment_types)-1):\n",
    "    for j in range(i+1, len(comment_types)):\n",
    "        print(f\"Checking if the difference in the number of ideas between:\\n- comments with {comment_types[i]['name']} \"\\\n",
    "              f\"and\\n- comments with {comment_types[j]['name']}\\nis statistically significant\")\n",
    "        stat, p_val = stats.mannwhitneyu(comment_types[i]['set'], comment_types[j]['set'])\n",
    "        if p_val < alpha_level:\n",
    "            print(f'The difference between samples is statistically significant, p-value: {round(p_val,4)}.')\n",
    "            print(f\"Mean of ideas {comment_types[i]['name']}: {comment_types[i]['mean_ideas']}\")\n",
    "            print(f\"Mean of ideas {comment_types[j]['name']}: {comment_types[j]['mean_ideas']}\")\n",
    "        else:\n",
    "            print(f'The difference between samples is not statistically significant, p-value: {round(p_val,4)}.')\n",
    "        print()\n",
    "    print()"
   ]
  },
  {
   "cell_type": "markdown",
   "metadata": {},
   "source": [
    "### Findings"
   ]
  },
  {
   "cell_type": "markdown",
   "metadata": {},
   "source": [
    "Apparently there is no real value on simple disagreement or agreement. The number of ideas generated in comments with simple agreement/disagreement is consistently lower than the number of ideas in comments with elaborated agreement/disagreement and even in comments without agreement/disagreement of any kind. On the other hand, comments with elaborated agreement/disagreement show to have in average the highest number of ideas in relation to comments with only simple agreement/disagreement or with a comments in which agreement/disagreement do not occur. The difference in all cases is statistically significant. The combination that seems to produce the highest number of ideas is when both agreement and disagreement is present. In particular when both elaborated disagreement/agreement appear in the comment. \n",
    "\n",
    "In comments where both disagreement and agreement are simple the average number of ideas is lower than comments where there is either only elaborated agreement or disagreement, however it is higher than in comments where there is not agreement neither disagreement, although the difference is not statistically significant. The same happens in comments where there is simultaneously simple agreement and elaborated disagreement, which produce in average higher number of ideas than comments that do not have agreement neither disagreement, however the difference is not statistically significant."
   ]
  },
  {
   "cell_type": "markdown",
   "metadata": {},
   "source": [
    "### A) Comments that have both simple agreement and simple disagreement"
   ]
  },
  {
   "cell_type": "code",
   "execution_count": 140,
   "metadata": {},
   "outputs": [
    {
     "name": "stdout",
     "output_type": "stream",
     "text": [
      "There are 5 comments that have both simple agreement and disagreement. These comments have in average 1.2 ideas.\n"
     ]
    },
    {
     "data": {
      "text/plain": [
       "<matplotlib.axes._subplots.AxesSubplot at 0x7f03b8e20390>"
      ]
     },
     "execution_count": 140,
     "metadata": {},
     "output_type": "execute_result"
    },
    {
     "data": {
      "image/png": "[encoded data removed]",
      "text/plain": [
       "<Figure size 576x396 with 1 Axes>"
      ]
     },
     "metadata": {},
     "output_type": "display_data"
    }
   ],
   "source": [
    "both_sagr_sdis_comments = rq4_df.loc[(rq4_df['simple_disagreement']==1)&(rq4_df['simple_agreement']==1),'number_of_ideas']\n",
    "print(f'There are {both_sagr_sdis_comments.shape[0]} comments that have both simple agreement and disagreement. '\\\n",
    "      f'These comments have in average {round(both_sagr_sdis_comments.mean(), 3)} ideas.')\n",
    "both_sagr_sdis_comments.hist()"
   ]
  },
  {
   "cell_type": "code",
   "execution_count": 141,
   "metadata": {},
   "outputs": [
    {
     "name": "stdout",
     "output_type": "stream",
     "text": [
      "The diference between the means is not statistically significant (p-value 0.3415159458405511)\n"
     ]
    }
   ],
   "source": [
    "stat, p_val = stats.mannwhitneyu(both_sagr_sdis_comments, no_dis_agr_comments)\n",
    "if p_val < alpha_level:\n",
    "    print(f'The diference between the means is statistically significant (p-value {p_val})')\n",
    "else:\n",
    "    print(f'The diference between the means is not statistically significant (p-value {p_val})')"
   ]
  },
  {
   "cell_type": "markdown",
   "metadata": {},
   "source": [
    "### B) Comments that have simple agreement and elaborated disagreement"
   ]
  },
  {
   "cell_type": "code",
   "execution_count": 142,
   "metadata": {},
   "outputs": [
    {
     "name": "stdout",
     "output_type": "stream",
     "text": [
      "There are 15 comments that have simple agreement and elaborated disagreement. These comments have in average 1.467 ideas.\n"
     ]
    },
    {
     "data": {
      "text/plain": [
       "<matplotlib.axes._subplots.AxesSubplot at 0x7f03b8c8acc0>"
      ]
     },
     "execution_count": 142,
     "metadata": {},
     "output_type": "execute_result"
    },
    {
     "data": {
      "image/png": "[encoded data removed]",
      "text/plain": [
       "<Figure size 576x396 with 1 Axes>"
      ]
     },
     "metadata": {},
     "output_type": "display_data"
    }
   ],
   "source": [
    "both_sagr_edis_comments = rq4_df.loc[(rq4_df['elaborated_disagreement']==1)&(rq4_df['simple_agreement']==1),'number_of_ideas']\n",
    "print(f'There are {both_sagr_edis_comments.shape[0]} comments that have simple agreement and elaborated disagreement. '\\\n",
    "      f'These comments have in average {round(both_sagr_edis_comments.mean(), 3)} ideas.')\n",
    "both_sagr_edis_comments.hist()"
   ]
  },
  {
   "cell_type": "code",
   "execution_count": 143,
   "metadata": {},
   "outputs": [
    {
     "name": "stdout",
     "output_type": "stream",
     "text": [
      "The diference between the means is not statistically significant (p-value 0.052511292046575946)\n"
     ]
    }
   ],
   "source": [
    "stat, p_val = stats.mannwhitneyu(both_sagr_edis_comments, no_dis_agr_comments)\n",
    "if p_val < alpha_level:\n",
    "    print(f'The diference between the means is statistically significant (p-value {p_val})')\n",
    "else:\n",
    "    print(f'The diference between the means is not statistically significant (p-value {p_val})')"
   ]
  },
  {
   "cell_type": "markdown",
   "metadata": {},
   "source": [
    "### C) Comments that have elaborated agreement and simple disagreement"
   ]
  },
  {
   "cell_type": "code",
   "execution_count": 144,
   "metadata": {},
   "outputs": [
    {
     "name": "stdout",
     "output_type": "stream",
     "text": [
      "There are 0 comments that have elaborated agreement and simple disagreement. These comments have in average nan ideas.\n"
     ]
    },
    {
     "data": {
      "text/plain": [
       "<matplotlib.axes._subplots.AxesSubplot at 0x7f03b8bce780>"
      ]
     },
     "execution_count": 144,
     "metadata": {},
     "output_type": "execute_result"
    },
    {
     "data": {
      "image/png": "[encoded data removed]",
      "text/plain": [
       "<Figure size 576x396 with 1 Axes>"
      ]
     },
     "metadata": {},
     "output_type": "display_data"
    }
   ],
   "source": [
    "both_eagr_sdis_comments = rq4_df.loc[(rq4_df['simple_disagreement']==1)&(rq4_df['elaborated_agreement']==1),'number_of_ideas']\n",
    "print(f'There are {both_eagr_sdis_comments.shape[0]} comments that have elaborated agreement and simple disagreement. '\\\n",
    "      f'These comments have in average {round(both_eagr_sdis_comments.mean(), 3)} ideas.')\n",
    "both_eagr_sdis_comments.hist()"
   ]
  },
  {
   "cell_type": "markdown",
   "metadata": {},
   "source": [
    "### D) Comments that have elaborated agreement and elaborated disagreement"
   ]
  },
  {
   "cell_type": "code",
   "execution_count": 145,
   "metadata": {},
   "outputs": [
    {
     "name": "stdout",
     "output_type": "stream",
     "text": [
      "There are 95 comments that have both elaborated agreement and disagreement. These comments have in average 2.063 ideas.\n"
     ]
    },
    {
     "data": {
      "text/plain": [
       "<matplotlib.axes._subplots.AxesSubplot at 0x7f03b8b335c0>"
      ]
     },
     "execution_count": 145,
     "metadata": {},
     "output_type": "execute_result"
    },
    {
     "data": {
      "image/png": "[encoded data removed]",
      "text/plain": [
       "<Figure size 576x396 with 1 Axes>"
      ]
     },
     "metadata": {},
     "output_type": "display_data"
    }
   ],
   "source": [
    "both_eagr_edis_comments = rq4_df.loc[(rq4_df['elaborated_disagreement']==1)&(rq4_df['elaborated_agreement']==1),'number_of_ideas']\n",
    "print(f'There are {both_eagr_edis_comments.shape[0]} comments that have both elaborated agreement and disagreement. '\\\n",
    "      f'These comments have in average {round(both_eagr_edis_comments.mean(), 3)} ideas.')\n",
    "both_eagr_edis_comments.hist()"
   ]
  }
 ],
 "metadata": {
  "kernelspec": {
   "display_name": "Python 3",
   "language": "python",
   "name": "python3"
  },
  "language_info": {
   "codemirror_mode": {
    "name": "ipython",
    "version": 3
   },
   "file_extension": ".py",
   "mimetype": "text/x-python",
   "name": "python",
   "nbconvert_exporter": "python",
   "pygments_lexer": "ipython3",
   "version": "3.7.1"
  }
 },
 "nbformat": 4,
 "nbformat_minor": 4
}
