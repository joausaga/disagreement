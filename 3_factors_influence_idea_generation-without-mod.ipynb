{
 "cells": [
  {
   "cell_type": "markdown",
   "metadata": {},
   "source": [
    "# Disagreement in Crowdsourced Policymaking"
   ]
  },
  {
   "cell_type": "markdown",
   "metadata": {},
   "source": [
    "## Factors that influence idea generation (w/o moderation)"
   ]
  },
  {
   "cell_type": "markdown",
   "metadata": {},
   "source": [
    "This notebook contains the regression analysis conducted for the article *The Value of Disagreement in Crowdsourced Policymaking:Idea Generation Through Elaborated Perspectives*. Multivariate regression analysis is applied to explore what factors influence idea generation and to which extend."
   ]
  },
  {
   "cell_type": "markdown",
   "metadata": {},
   "source": [
    "## Content"
   ]
  },
  {
   "cell_type": "markdown",
   "metadata": {},
   "source": [
    "- [Load libraries](#0.-Load-libraries)\n",
    "- [Load data](#1.-Load-data)\n",
    "- [Preprocess data](#2.-Preprocess-data)\n",
    "- [Regression analysis](#3.-Regression-analysis)"
   ]
  },
  {
   "cell_type": "markdown",
   "metadata": {},
   "source": [
    "## 0. Load libraries"
   ]
  },
  {
   "cell_type": "code",
   "execution_count": 1,
   "metadata": {},
   "outputs": [],
   "source": [
    "import pandas as pd\n",
    "import numpy as np\n",
    "import matplotlib.pyplot as plt\n",
    "import statsmodels.api as sm\n",
    "from scipy import stats\n",
    "\n",
    "from collections import defaultdict\n",
    "from statsmodels.formula.api import glm, ols\n",
    "from statsmodels.stats.outliers_influence import variance_inflation_factor"
   ]
  },
  {
   "cell_type": "markdown",
   "metadata": {},
   "source": [
    "## 1. Load data"
   ]
  },
  {
   "cell_type": "markdown",
   "metadata": {},
   "source": [
    "Data is distributed in three data files, each representing a discussion topic."
   ]
  },
  {
   "cell_type": "markdown",
   "metadata": {},
   "source": [
    "### Topic: Member decision making and right"
   ]
  },
  {
   "cell_type": "code",
   "execution_count": 26,
   "metadata": {},
   "outputs": [
    {
     "name": "stdout",
     "output_type": "stream",
     "text": [
      "The dataset has 213 rows and 49 columns\n"
     ]
    }
   ],
   "source": [
    "member_df = pd.read_csv('data/member_decision_making_and_right.csv')\n",
    "print(f'The dataset has {member_df.shape[0]} rows and {member_df.shape[1]} columns')"
   ]
  },
  {
   "cell_type": "markdown",
   "metadata": {},
   "source": [
    "### Topic: Administration of an association"
   ]
  },
  {
   "cell_type": "code",
   "execution_count": 27,
   "metadata": {},
   "outputs": [
    {
     "name": "stdout",
     "output_type": "stream",
     "text": [
      "The dataset has 119 rows and 49 columns\n"
     ]
    }
   ],
   "source": [
    "admin_df = pd.read_csv('data/administration_of_association.csv')\n",
    "print(f'The dataset has {admin_df.shape[0]} rows and {admin_df.shape[1]} columns')"
   ]
  },
  {
   "cell_type": "markdown",
   "metadata": {},
   "source": [
    "### Topic: Informally organized groups of an association"
   ]
  },
  {
   "cell_type": "code",
   "execution_count": 28,
   "metadata": {},
   "outputs": [
    {
     "name": "stdout",
     "output_type": "stream",
     "text": [
      "The dataset has 159 rows and 51 columns\n"
     ]
    }
   ],
   "source": [
    "informal_df = pd.read_csv('data/informally_organized_group_of_a.csv')\n",
    "print(f'The dataset has {informal_df.shape[0]} rows and {informal_df.shape[1]} columns')"
   ]
  },
  {
   "cell_type": "markdown",
   "metadata": {},
   "source": [
    "## 2. Preprocess data"
   ]
  },
  {
   "cell_type": "markdown",
   "metadata": {},
   "source": [
    "### Normalize column names"
   ]
  },
  {
   "cell_type": "markdown",
   "metadata": {},
   "source": [
    "Put column names to lower case, replace spaces with underscore, delete leading and trailing spaces, and remove non alpha-numerical characters"
   ]
  },
  {
   "cell_type": "code",
   "execution_count": 29,
   "metadata": {},
   "outputs": [],
   "source": [
    "def normalize_column_names(names):\n",
    "    names = names.str.lower()\n",
    "    names = names.str.replace(' ','_')\n",
    "    names = names.str.replace('.','_')\n",
    "    names = names.str.replace('(','_')\n",
    "    names = names.str.replace(')','')\n",
    "    names = names.str.replace('/','_')\n",
    "    names = names.str.replace('___','_')\n",
    "    names = names.str.strip()\n",
    "    return names"
   ]
  },
  {
   "cell_type": "code",
   "execution_count": 30,
   "metadata": {},
   "outputs": [],
   "source": [
    "member_df.columns = normalize_column_names(member_df.columns)\n",
    "admin_df.columns = normalize_column_names(admin_df.columns)\n",
    "informal_df.columns = normalize_column_names(informal_df.columns)"
   ]
  },
  {
   "cell_type": "markdown",
   "metadata": {},
   "source": [
    "### Standarize column names"
   ]
  },
  {
   "cell_type": "markdown",
   "metadata": {},
   "source": [
    "Columns that contained the same information but have slightly different names are renamed for compatibility purposes"
   ]
  },
  {
   "cell_type": "code",
   "execution_count": 31,
   "metadata": {},
   "outputs": [],
   "source": [
    "member_df = member_df.rename(columns={\n",
    "    'annotations_for_disagreement_new_idea_cascade_s': 'annotations_for_disagreement_new_idea_cascades'\n",
    "})"
   ]
  },
  {
   "cell_type": "code",
   "execution_count": 32,
   "metadata": {},
   "outputs": [],
   "source": [
    "admin_df = admin_df.rename(columns={\n",
    "    'amount_of_likes': 'number_of_likes',\n",
    "    'comment\\'s_id': 'comment_id',\n",
    "    'proposal': 'proposals',    \n",
    "})"
   ]
  },
  {
   "cell_type": "code",
   "execution_count": 10,
   "metadata": {},
   "outputs": [],
   "source": [
    "informal_df = informal_df.rename(columns={\n",
    "    'annotations_for_disagreement_new_idea_cascade_s': 'annotations_for_disagreement_new_idea_cascades',\n",
    "    'proposal': 'proposals'\n",
    "})"
   ]
  },
  {
   "cell_type": "markdown",
   "metadata": {},
   "source": [
    "### Merge datasets in one dataframe"
   ]
  },
  {
   "cell_type": "markdown",
   "metadata": {},
   "source": [
    "Add an extra column to indicate the discussion topic"
   ]
  },
  {
   "cell_type": "code",
   "execution_count": 33,
   "metadata": {},
   "outputs": [],
   "source": [
    "member_df['topic'] = 'member'\n",
    "admin_df['topic'] = 'admin'\n",
    "informal_df['topic'] = 'informal'"
   ]
  },
  {
   "cell_type": "markdown",
   "metadata": {},
   "source": [
    "#### Merge datasets"
   ]
  },
  {
   "cell_type": "code",
   "execution_count": 34,
   "metadata": {},
   "outputs": [
    {
     "name": "stdout",
     "output_type": "stream",
     "text": [
      "The merged dataset has 491 rows and 55 columns\n"
     ]
    }
   ],
   "source": [
    "all_df = pd.concat([member_df, admin_df, informal_df], axis=0, ignore_index=True)\n",
    "print(f'The merged dataset has {all_df.shape[0]} rows and {all_df.shape[1]} columns')"
   ]
  },
  {
   "cell_type": "markdown",
   "metadata": {},
   "source": [
    "### Remove columns containing text in Finnish"
   ]
  },
  {
   "cell_type": "markdown",
   "metadata": {},
   "source": [
    "Text of comments and responses are both in Finnish and English. Columns `comment` and `response` that contain text in Finnish are removed because they will not be considered in this analysis."
   ]
  },
  {
   "cell_type": "code",
   "execution_count": 35,
   "metadata": {},
   "outputs": [],
   "source": [
    "all_df = all_df.drop(['comment', 'response'], axis=1)"
   ]
  },
  {
   "cell_type": "markdown",
   "metadata": {},
   "source": [
    "Columns `comment_1` and `response_1` are renamed removing `_1` from their names"
   ]
  },
  {
   "cell_type": "code",
   "execution_count": 36,
   "metadata": {},
   "outputs": [],
   "source": [
    "all_df = all_df.rename(columns={'comment_1': 'comment', 'response_1': 'response'})"
   ]
  },
  {
   "cell_type": "markdown",
   "metadata": {},
   "source": [
    "### Check null values"
   ]
  },
  {
   "cell_type": "markdown",
   "metadata": {},
   "source": [
    "Check the number of null values by columns"
   ]
  },
  {
   "cell_type": "code",
   "execution_count": 37,
   "metadata": {},
   "outputs": [
    {
     "data": {
      "text/plain": [
       "background                                           3\n",
       "proposals                                          161\n",
       "time                                                 3\n",
       "user_id                                              3\n",
       "comment_id                                         346\n",
       "response_id                                        148\n",
       "number_of_likes                                      0\n",
       "users_who_liked                                    263\n",
       "attachments                                        491\n",
       "comment                                            348\n",
       "response                                           146\n",
       "topic_1                                              4\n",
       "topic_2                                            147\n",
       "topic_3                                            358\n",
       "disagreement                                         0\n",
       "agreement                                            0\n",
       "simple_disagreement                                  0\n",
       "elaborated_disagreement                              0\n",
       "simple_agreement                                     0\n",
       "elaborated_agreement                                 0\n",
       "idea_s                                              37\n",
       "number_of_ideas                                      1\n",
       "new_idea                                             0\n",
       "sourcing                                           330\n",
       "value_s                                            340\n",
       "topic_shift                                          0\n",
       "brainstorming                                        0\n",
       "blending                                             0\n",
       "building                                             0\n",
       "broadening                                           0\n",
       "fact                                                 0\n",
       "value                                                0\n",
       "policy                                               0\n",
       "interpretation                                       0\n",
       "target_of_disagreement                             209\n",
       "target_of_agreement                                239\n",
       "gives_reason_s                                       0\n",
       "presents_evidence                                    0\n",
       "asks_question_s                                      0\n",
       "provides_information                                 0\n",
       "clarifies_position_stance                            0\n",
       "responds_to_previous_comment                         0\n",
       "constructive_tone                                    0\n",
       "moderator_post                                       0\n",
       "acknowledges_problem                                 0\n",
       "notes                                              398\n",
       "annotations_for_disagreement_new_idea_cascades     465\n",
       "topic                                                0\n",
       "proposal                                           333\n",
       "irrpolicy                                          486\n",
       "irrinterpretation                                  486\n",
       "irrconstructive_tone                               486\n",
       "annotations_for_disagreement_new_idea_cascade_s    480\n",
       "dtype: int64"
      ]
     },
     "execution_count": 37,
     "metadata": {},
     "output_type": "execute_result"
    }
   ],
   "source": [
    "all_df.isnull().sum()"
   ]
  },
  {
   "cell_type": "markdown",
   "metadata": {},
   "source": [
    "### Remove summary rows"
   ]
  },
  {
   "cell_type": "markdown",
   "metadata": {},
   "source": [
    "Remove rows that contain summaries. They are identified by having a null value in the column background."
   ]
  },
  {
   "cell_type": "code",
   "execution_count": 38,
   "metadata": {},
   "outputs": [
    {
     "name": "stdout",
     "output_type": "stream",
     "text": [
      "Data set size after removing summary rows. Rows: 488, Columns: 53\n"
     ]
    }
   ],
   "source": [
    "idxs_to_remove = all_df[all_df.background.isnull()].index.values\n",
    "all_df = all_df.drop(index=idxs_to_remove)\n",
    "print(f'Data set size after removing summary rows. Rows: {all_df.shape[0]}, Columns: {all_df.shape[1]}')"
   ]
  },
  {
   "cell_type": "markdown",
   "metadata": {},
   "source": [
    "### Fix errors in variables"
   ]
  },
  {
   "cell_type": "markdown",
   "metadata": {},
   "source": [
    "There were labeling errors in the rows `336` and `310`; they are fixed below"
   ]
  },
  {
   "cell_type": "code",
   "execution_count": 39,
   "metadata": {},
   "outputs": [],
   "source": [
    "all_df.loc[336, 'simple_agreement'] = 0\n",
    "all_df.loc[310, 'elaborated_agreement'] = 1"
   ]
  },
  {
   "cell_type": "markdown",
   "metadata": {},
   "source": [
    "### Fix values in the column `number_of_ideas`"
   ]
  },
  {
   "cell_type": "code",
   "execution_count": 40,
   "metadata": {},
   "outputs": [],
   "source": [
    "all_df.loc[all_df['number_of_ideas']=='unclear', 'number_of_ideas'] = 0\n",
    "all_df.loc[all_df['number_of_ideas'].isna(), 'number_of_ideas'] = 0\n",
    "all_df['number_of_ideas'] = pd.to_numeric(all_df['number_of_ideas'], downcast='unsigned')"
   ]
  },
  {
   "cell_type": "markdown",
   "metadata": {},
   "source": [
    "### Set value `unclear` of column `gives_reason_s` to `0`"
   ]
  },
  {
   "cell_type": "code",
   "execution_count": 41,
   "metadata": {},
   "outputs": [],
   "source": [
    "all_df.loc[all_df['gives_reason_s']=='unclear', 'gives_reason_s'] = '0'"
   ]
  },
  {
   "cell_type": "markdown",
   "metadata": {},
   "source": [
    "### Remove moderator comments"
   ]
  },
  {
   "cell_type": "code",
   "execution_count": 44,
   "metadata": {},
   "outputs": [
    {
     "name": "stdout",
     "output_type": "stream",
     "text": [
      "There are 120 comments that will be removed\n"
     ]
    }
   ],
   "source": [
    "print(f'There are {len(all_df[all_df[\"moderator_post\"]==1])} comments that will be removed')"
   ]
  },
  {
   "cell_type": "code",
   "execution_count": 45,
   "metadata": {},
   "outputs": [],
   "source": [
    "all_df = all_df[all_df['moderator_post']!=1]"
   ]
  },
  {
   "cell_type": "markdown",
   "metadata": {},
   "source": [
    "### Show final columns"
   ]
  },
  {
   "cell_type": "code",
   "execution_count": 46,
   "metadata": {},
   "outputs": [
    {
     "data": {
      "text/plain": [
       "Index(['background', 'proposals', 'time', 'user_id', 'comment_id',\n",
       "       'response_id', 'number_of_likes', 'users_who_liked', 'attachments',\n",
       "       'comment', 'response', 'topic_1', 'topic_2', 'topic_3', 'disagreement',\n",
       "       'agreement', 'simple_disagreement', 'elaborated_disagreement',\n",
       "       'simple_agreement', 'elaborated_agreement', 'idea_s', 'number_of_ideas',\n",
       "       'new_idea', 'sourcing', 'value_s', 'topic_shift', 'brainstorming',\n",
       "       'blending', 'building', 'broadening', 'fact', 'value', 'policy',\n",
       "       'interpretation', 'target_of_disagreement', 'target_of_agreement',\n",
       "       'gives_reason_s', 'presents_evidence', 'asks_question_s',\n",
       "       'provides_information', 'clarifies_position_stance',\n",
       "       'responds_to_previous_comment', 'constructive_tone', 'moderator_post',\n",
       "       'acknowledges_problem', 'notes',\n",
       "       'annotations_for_disagreement_new_idea_cascades', 'topic', 'proposal',\n",
       "       'irrpolicy', 'irrinterpretation', 'irrconstructive_tone',\n",
       "       'annotations_for_disagreement_new_idea_cascade_s'],\n",
       "      dtype='object')"
      ]
     },
     "execution_count": 46,
     "metadata": {},
     "output_type": "execute_result"
    }
   ],
   "source": [
    "all_df.columns"
   ]
  },
  {
   "cell_type": "markdown",
   "metadata": {},
   "source": [
    "### Show a small sample"
   ]
  },
  {
   "cell_type": "code",
   "execution_count": 47,
   "metadata": {},
   "outputs": [
    {
     "data": {
      "text/html": [
       "<div>\n",
       "<style scoped>\n",
       "    .dataframe tbody tr th:only-of-type {\n",
       "        vertical-align: middle;\n",
       "    }\n",
       "\n",
       "    .dataframe tbody tr th {\n",
       "        vertical-align: top;\n",
       "    }\n",
       "\n",
       "    .dataframe thead th {\n",
       "        text-align: right;\n",
       "    }\n",
       "</style>\n",
       "<table border=\"1\" class=\"dataframe\">\n",
       "  <thead>\n",
       "    <tr style=\"text-align: right;\">\n",
       "      <th></th>\n",
       "      <th>background</th>\n",
       "      <th>proposals</th>\n",
       "      <th>time</th>\n",
       "      <th>user_id</th>\n",
       "      <th>comment_id</th>\n",
       "      <th>response_id</th>\n",
       "      <th>number_of_likes</th>\n",
       "      <th>users_who_liked</th>\n",
       "      <th>attachments</th>\n",
       "      <th>comment</th>\n",
       "      <th>...</th>\n",
       "      <th>moderator_post</th>\n",
       "      <th>acknowledges_problem</th>\n",
       "      <th>notes</th>\n",
       "      <th>annotations_for_disagreement_new_idea_cascades</th>\n",
       "      <th>topic</th>\n",
       "      <th>proposal</th>\n",
       "      <th>irrpolicy</th>\n",
       "      <th>irrinterpretation</th>\n",
       "      <th>irrconstructive_tone</th>\n",
       "      <th>annotations_for_disagreement_new_idea_cascade_s</th>\n",
       "    </tr>\n",
       "  </thead>\n",
       "  <tbody>\n",
       "    <tr>\n",
       "      <th>1</th>\n",
       "      <td>Members’ decision-making and rights\\n\\nIn this...</td>\n",
       "      <td>Proposal: Allow association members’ decision-...</td>\n",
       "      <td>2019-06-04T07:08:18+00:00</td>\n",
       "      <td>5cf60f17d8f1250a070160ee</td>\n",
       "      <td>NaN</td>\n",
       "      <td>5cf618e22878cf073b0eafca</td>\n",
       "      <td>1</td>\n",
       "      <td>karin.rinne@netti.fi</td>\n",
       "      <td>NaN</td>\n",
       "      <td>NaN</td>\n",
       "      <td>...</td>\n",
       "      <td>0</td>\n",
       "      <td>0</td>\n",
       "      <td>NaN</td>\n",
       "      <td>NaN</td>\n",
       "      <td>member</td>\n",
       "      <td>NaN</td>\n",
       "      <td>NaN</td>\n",
       "      <td>NaN</td>\n",
       "      <td>NaN</td>\n",
       "      <td>NaN</td>\n",
       "    </tr>\n",
       "    <tr>\n",
       "      <th>2</th>\n",
       "      <td>Members’ decision-making and rights\\n\\nIn this...</td>\n",
       "      <td>Proposal: Allow association members’ decision-...</td>\n",
       "      <td>2019-06-04T10:39:32+00:00</td>\n",
       "      <td>5cf6379534204f3a8d121027</td>\n",
       "      <td>NaN</td>\n",
       "      <td>5cf64a64d8f1253e5a242b5b</td>\n",
       "      <td>0</td>\n",
       "      <td>NaN</td>\n",
       "      <td>NaN</td>\n",
       "      <td>NaN</td>\n",
       "      <td>...</td>\n",
       "      <td>0</td>\n",
       "      <td>0</td>\n",
       "      <td>NaN</td>\n",
       "      <td>NaN</td>\n",
       "      <td>member</td>\n",
       "      <td>NaN</td>\n",
       "      <td>NaN</td>\n",
       "      <td>NaN</td>\n",
       "      <td>NaN</td>\n",
       "      <td>NaN</td>\n",
       "    </tr>\n",
       "    <tr>\n",
       "      <th>3</th>\n",
       "      <td>Members’ decision-making and rights\\n\\nIn this...</td>\n",
       "      <td>Proposal: Allow association members’ decision-...</td>\n",
       "      <td>2019-06-04T11:34:33+00:00</td>\n",
       "      <td>5cf63071d8f12537d5632b3e</td>\n",
       "      <td>NaN</td>\n",
       "      <td>5cf657492878cf36b01b767b</td>\n",
       "      <td>0</td>\n",
       "      <td>NaN</td>\n",
       "      <td>NaN</td>\n",
       "      <td>NaN</td>\n",
       "      <td>...</td>\n",
       "      <td>0</td>\n",
       "      <td>1</td>\n",
       "      <td>NaN</td>\n",
       "      <td>NaN</td>\n",
       "      <td>member</td>\n",
       "      <td>NaN</td>\n",
       "      <td>NaN</td>\n",
       "      <td>NaN</td>\n",
       "      <td>NaN</td>\n",
       "      <td>NaN</td>\n",
       "    </tr>\n",
       "    <tr>\n",
       "      <th>7</th>\n",
       "      <td>Members’ decision-making and rights\\n\\nIn this...</td>\n",
       "      <td>Proposal: Allow association members’ decision-...</td>\n",
       "      <td>2019-06-04T16:31:27+00:00</td>\n",
       "      <td>5cf63071d8f12537d5632b3e</td>\n",
       "      <td>NaN</td>\n",
       "      <td>5cf69cdfd8f12530a35e8e7c</td>\n",
       "      <td>2</td>\n",
       "      <td>arto.paeivinen@gmail.com,stina.koivisto@eslu.fi</td>\n",
       "      <td>NaN</td>\n",
       "      <td>NaN</td>\n",
       "      <td>...</td>\n",
       "      <td>0</td>\n",
       "      <td>1</td>\n",
       "      <td>NaN</td>\n",
       "      <td>NaN</td>\n",
       "      <td>member</td>\n",
       "      <td>NaN</td>\n",
       "      <td>NaN</td>\n",
       "      <td>NaN</td>\n",
       "      <td>NaN</td>\n",
       "      <td>NaN</td>\n",
       "    </tr>\n",
       "    <tr>\n",
       "      <th>9</th>\n",
       "      <td>Members’ decision-making and rights\\n\\nIn this...</td>\n",
       "      <td>Proposal: Allow association members’ decision-...</td>\n",
       "      <td>2019-06-07T12:01:58+00:00</td>\n",
       "      <td>5cf63071d8f12537d5632b3e</td>\n",
       "      <td>NaN</td>\n",
       "      <td>5cfa52362878cf5c9946913f</td>\n",
       "      <td>0</td>\n",
       "      <td>NaN</td>\n",
       "      <td>NaN</td>\n",
       "      <td>NaN</td>\n",
       "      <td>...</td>\n",
       "      <td>0</td>\n",
       "      <td>0</td>\n",
       "      <td>NaN</td>\n",
       "      <td>NaN</td>\n",
       "      <td>member</td>\n",
       "      <td>NaN</td>\n",
       "      <td>NaN</td>\n",
       "      <td>NaN</td>\n",
       "      <td>NaN</td>\n",
       "      <td>NaN</td>\n",
       "    </tr>\n",
       "  </tbody>\n",
       "</table>\n",
       "<p>5 rows × 53 columns</p>\n",
       "</div>"
      ],
      "text/plain": [
       "                                          background  \\\n",
       "1  Members’ decision-making and rights\\n\\nIn this...   \n",
       "2  Members’ decision-making and rights\\n\\nIn this...   \n",
       "3  Members’ decision-making and rights\\n\\nIn this...   \n",
       "7  Members’ decision-making and rights\\n\\nIn this...   \n",
       "9  Members’ decision-making and rights\\n\\nIn this...   \n",
       "\n",
       "                                           proposals  \\\n",
       "1  Proposal: Allow association members’ decision-...   \n",
       "2  Proposal: Allow association members’ decision-...   \n",
       "3  Proposal: Allow association members’ decision-...   \n",
       "7  Proposal: Allow association members’ decision-...   \n",
       "9  Proposal: Allow association members’ decision-...   \n",
       "\n",
       "                        time                   user_id comment_id  \\\n",
       "1  2019-06-04T07:08:18+00:00  5cf60f17d8f1250a070160ee        NaN   \n",
       "2  2019-06-04T10:39:32+00:00  5cf6379534204f3a8d121027        NaN   \n",
       "3  2019-06-04T11:34:33+00:00  5cf63071d8f12537d5632b3e        NaN   \n",
       "7  2019-06-04T16:31:27+00:00  5cf63071d8f12537d5632b3e        NaN   \n",
       "9  2019-06-07T12:01:58+00:00  5cf63071d8f12537d5632b3e        NaN   \n",
       "\n",
       "                response_id  number_of_likes  \\\n",
       "1  5cf618e22878cf073b0eafca                1   \n",
       "2  5cf64a64d8f1253e5a242b5b                0   \n",
       "3  5cf657492878cf36b01b767b                0   \n",
       "7  5cf69cdfd8f12530a35e8e7c                2   \n",
       "9  5cfa52362878cf5c9946913f                0   \n",
       "\n",
       "                                   users_who_liked  attachments comment  ...  \\\n",
       "1                             karin.rinne@netti.fi          NaN     NaN  ...   \n",
       "2                                              NaN          NaN     NaN  ...   \n",
       "3                                              NaN          NaN     NaN  ...   \n",
       "7  arto.paeivinen@gmail.com,stina.koivisto@eslu.fi          NaN     NaN  ...   \n",
       "9                                              NaN          NaN     NaN  ...   \n",
       "\n",
       "  moderator_post acknowledges_problem notes  \\\n",
       "1              0                    0   NaN   \n",
       "2              0                    0   NaN   \n",
       "3              0                    1   NaN   \n",
       "7              0                    1   NaN   \n",
       "9              0                    0   NaN   \n",
       "\n",
       "  annotations_for_disagreement_new_idea_cascades   topic  proposal  irrpolicy  \\\n",
       "1                                            NaN  member       NaN        NaN   \n",
       "2                                            NaN  member       NaN        NaN   \n",
       "3                                            NaN  member       NaN        NaN   \n",
       "7                                            NaN  member       NaN        NaN   \n",
       "9                                            NaN  member       NaN        NaN   \n",
       "\n",
       "   irrinterpretation  irrconstructive_tone  \\\n",
       "1                NaN                   NaN   \n",
       "2                NaN                   NaN   \n",
       "3                NaN                   NaN   \n",
       "7                NaN                   NaN   \n",
       "9                NaN                   NaN   \n",
       "\n",
       "   annotations_for_disagreement_new_idea_cascade_s  \n",
       "1                                              NaN  \n",
       "2                                              NaN  \n",
       "3                                              NaN  \n",
       "7                                              NaN  \n",
       "9                                              NaN  \n",
       "\n",
       "[5 rows x 53 columns]"
      ]
     },
     "execution_count": 47,
     "metadata": {},
     "output_type": "execute_result"
    }
   ],
   "source": [
    "all_df.head()"
   ]
  },
  {
   "cell_type": "markdown",
   "metadata": {},
   "source": [
    "### Show final dataset dimesion"
   ]
  },
  {
   "cell_type": "code",
   "execution_count": 48,
   "metadata": {},
   "outputs": [
    {
     "name": "stdout",
     "output_type": "stream",
     "text": [
      "The final dataset has a dimension of 368 rows and 53 columns\n"
     ]
    }
   ],
   "source": [
    "print(f'The final dataset has a dimension of {all_df.shape[0]} rows and {all_df.shape[1]} columns')"
   ]
  },
  {
   "cell_type": "markdown",
   "metadata": {},
   "source": [
    "## 3. Regression analysis"
   ]
  },
  {
   "cell_type": "markdown",
   "metadata": {},
   "source": [
    "### Select variables"
   ]
  },
  {
   "cell_type": "markdown",
   "metadata": {},
   "source": [
    "Variable selection is based on the literature and goals of the paper."
   ]
  },
  {
   "cell_type": "code",
   "execution_count": 49,
   "metadata": {},
   "outputs": [
    {
     "name": "stdout",
     "output_type": "stream",
     "text": [
      "In total 6 independent variables will be considered in the analysis\n"
     ]
    }
   ],
   "source": [
    "independent_vars = ['simple_agreement', 'elaborated_agreement', 'simple_disagreement', 'elaborated_disagreement',\n",
    "                    'gives_reason_s', 'presents_evidence']\n",
    "print(f\"In total {len(independent_vars)} independent variables will be considered in the analysis\")"
   ]
  },
  {
   "cell_type": "markdown",
   "metadata": {},
   "source": [
    "Select columns that include independent and dependent variables"
   ]
  },
  {
   "cell_type": "code",
   "execution_count": 50,
   "metadata": {},
   "outputs": [
    {
     "name": "stdout",
     "output_type": "stream",
     "text": [
      "The analysis is conducted with a dataset composed of 368 rows and 7 columns\n"
     ]
    }
   ],
   "source": [
    "analysis_df = all_df.loc[:,independent_vars + ['number_of_ideas']]\n",
    "print(f\"The analysis is conducted with a dataset composed of \" \\\n",
    "      f\"{analysis_df.shape[0]} rows and {analysis_df.shape[1]} columns\")"
   ]
  },
  {
   "cell_type": "markdown",
   "metadata": {},
   "source": [
    "### Check data consistency"
   ]
  },
  {
   "cell_type": "markdown",
   "metadata": {},
   "source": [
    "There should not be comments that have at the same time `simple agreement` and `elaborated agreement`"
   ]
  },
  {
   "cell_type": "code",
   "execution_count": 51,
   "metadata": {},
   "outputs": [
    {
     "data": {
      "text/plain": [
       "0"
      ]
     },
     "execution_count": 51,
     "metadata": {},
     "output_type": "execute_result"
    }
   ],
   "source": [
    "analysis_df[(analysis_df['simple_agreement']==1)&(analysis_df['elaborated_agreement']==1)].shape[0]"
   ]
  },
  {
   "cell_type": "markdown",
   "metadata": {},
   "source": [
    "There should not be comments that have at the same time `simple disagreement` and `elaborated disagreement`"
   ]
  },
  {
   "cell_type": "code",
   "execution_count": 52,
   "metadata": {},
   "outputs": [
    {
     "data": {
      "text/plain": [
       "0"
      ]
     },
     "execution_count": 52,
     "metadata": {},
     "output_type": "execute_result"
    }
   ],
   "source": [
    "analysis_df[(analysis_df['simple_disagreement']==1)&(analysis_df['elaborated_disagreement']==1)].shape[0]"
   ]
  },
  {
   "cell_type": "markdown",
   "metadata": {},
   "source": [
    "### Cast variables to numeric"
   ]
  },
  {
   "cell_type": "markdown",
   "metadata": {},
   "source": [
    "Before modeling data, it is required to ensure that independent variables are not correlated. Varince Inflation Factor (VIF) is the most common method used to detect multicollinearity (or variables independence). The python implementation of VIF requires the variables to be numeric. Here, the independent variables are casted to numeric."
   ]
  },
  {
   "cell_type": "code",
   "execution_count": 53,
   "metadata": {},
   "outputs": [
    {
     "data": {
      "text/plain": [
       "Index(['simple_agreement', 'elaborated_agreement', 'simple_disagreement',\n",
       "       'elaborated_disagreement', 'gives_reason_s', 'presents_evidence',\n",
       "       'number_of_ideas'],\n",
       "      dtype='object')"
      ]
     },
     "execution_count": 53,
     "metadata": {},
     "output_type": "execute_result"
    }
   ],
   "source": [
    "analysis_df.columns"
   ]
  },
  {
   "cell_type": "code",
   "execution_count": 54,
   "metadata": {},
   "outputs": [
    {
     "data": {
      "text/html": [
       "<div>\n",
       "<style scoped>\n",
       "    .dataframe tbody tr th:only-of-type {\n",
       "        vertical-align: middle;\n",
       "    }\n",
       "\n",
       "    .dataframe tbody tr th {\n",
       "        vertical-align: top;\n",
       "    }\n",
       "\n",
       "    .dataframe thead th {\n",
       "        text-align: right;\n",
       "    }\n",
       "</style>\n",
       "<table border=\"1\" class=\"dataframe\">\n",
       "  <thead>\n",
       "    <tr style=\"text-align: right;\">\n",
       "      <th></th>\n",
       "      <th>simple_agreement</th>\n",
       "      <th>elaborated_agreement</th>\n",
       "      <th>simple_disagreement</th>\n",
       "      <th>elaborated_disagreement</th>\n",
       "      <th>gives_reason_s</th>\n",
       "      <th>presents_evidence</th>\n",
       "      <th>number_of_ideas</th>\n",
       "    </tr>\n",
       "  </thead>\n",
       "  <tbody>\n",
       "  </tbody>\n",
       "</table>\n",
       "</div>"
      ],
      "text/plain": [
       "Empty DataFrame\n",
       "Columns: [simple_agreement, elaborated_agreement, simple_disagreement, elaborated_disagreement, gives_reason_s, presents_evidence, number_of_ideas]\n",
       "Index: []"
      ]
     },
     "execution_count": 54,
     "metadata": {},
     "output_type": "execute_result"
    }
   ],
   "source": [
    "analysis_df[analysis_df['gives_reason_s']=='unclear']"
   ]
  },
  {
   "cell_type": "code",
   "execution_count": 55,
   "metadata": {},
   "outputs": [],
   "source": [
    "analysis_df = analysis_df.apply(pd.to_numeric)"
   ]
  },
  {
   "cell_type": "markdown",
   "metadata": {},
   "source": [
    "### Check for multicollinearity"
   ]
  },
  {
   "cell_type": "markdown",
   "metadata": {},
   "source": [
    "In general, values above 5 indicate high multicollinearity."
   ]
  },
  {
   "cell_type": "code",
   "execution_count": 56,
   "metadata": {},
   "outputs": [
    {
     "data": {
      "text/html": [
       "<div>\n",
       "<style scoped>\n",
       "    .dataframe tbody tr th:only-of-type {\n",
       "        vertical-align: middle;\n",
       "    }\n",
       "\n",
       "    .dataframe tbody tr th {\n",
       "        vertical-align: top;\n",
       "    }\n",
       "\n",
       "    .dataframe thead th {\n",
       "        text-align: right;\n",
       "    }\n",
       "</style>\n",
       "<table border=\"1\" class=\"dataframe\">\n",
       "  <thead>\n",
       "    <tr style=\"text-align: right;\">\n",
       "      <th></th>\n",
       "      <th>Variable</th>\n",
       "      <th>VIF</th>\n",
       "    </tr>\n",
       "  </thead>\n",
       "  <tbody>\n",
       "    <tr>\n",
       "      <th>0</th>\n",
       "      <td>simple_agreement</td>\n",
       "      <td>1.055298</td>\n",
       "    </tr>\n",
       "    <tr>\n",
       "      <th>1</th>\n",
       "      <td>elaborated_agreement</td>\n",
       "      <td>2.094704</td>\n",
       "    </tr>\n",
       "    <tr>\n",
       "      <th>2</th>\n",
       "      <td>simple_disagreement</td>\n",
       "      <td>1.024406</td>\n",
       "    </tr>\n",
       "    <tr>\n",
       "      <th>3</th>\n",
       "      <td>elaborated_disagreement</td>\n",
       "      <td>2.944082</td>\n",
       "    </tr>\n",
       "    <tr>\n",
       "      <th>4</th>\n",
       "      <td>gives_reason_s</td>\n",
       "      <td>4.609584</td>\n",
       "    </tr>\n",
       "    <tr>\n",
       "      <th>5</th>\n",
       "      <td>presents_evidence</td>\n",
       "      <td>1.114999</td>\n",
       "    </tr>\n",
       "  </tbody>\n",
       "</table>\n",
       "</div>"
      ],
      "text/plain": [
       "                  Variable       VIF\n",
       "0         simple_agreement  1.055298\n",
       "1     elaborated_agreement  2.094704\n",
       "2      simple_disagreement  1.024406\n",
       "3  elaborated_disagreement  2.944082\n",
       "4           gives_reason_s  4.609584\n",
       "5        presents_evidence  1.114999"
      ]
     },
     "execution_count": 56,
     "metadata": {},
     "output_type": "execute_result"
    }
   ],
   "source": [
    "vif = pd.DataFrame()\n",
    "vif[\"Variable\"] = analysis_df[independent_vars].columns\n",
    "vif[\"VIF\"] = [variance_inflation_factor(analysis_df[independent_vars].values, i) \n",
    "              for i in range(analysis_df[independent_vars].shape[1])]\n",
    "vif"
   ]
  },
  {
   "cell_type": "markdown",
   "metadata": {},
   "source": [
    "There is not multicollinearity among the independent variables."
   ]
  },
  {
   "cell_type": "markdown",
   "metadata": {},
   "source": [
    "### Cast independent variables to category"
   ]
  },
  {
   "cell_type": "code",
   "execution_count": 57,
   "metadata": {},
   "outputs": [],
   "source": [
    "cast = {}\n",
    "for independent_var in independent_vars:\n",
    "    cast[independent_var] = 'category'\n",
    "analysis_df = analysis_df.astype(cast)"
   ]
  },
  {
   "cell_type": "markdown",
   "metadata": {},
   "source": [
    "Check variable types"
   ]
  },
  {
   "cell_type": "code",
   "execution_count": 58,
   "metadata": {},
   "outputs": [
    {
     "data": {
      "text/plain": [
       "simple_agreement           category\n",
       "elaborated_agreement       category\n",
       "simple_disagreement        category\n",
       "elaborated_disagreement    category\n",
       "gives_reason_s             category\n",
       "presents_evidence          category\n",
       "number_of_ideas               uint8\n",
       "dtype: object"
      ]
     },
     "execution_count": 58,
     "metadata": {},
     "output_type": "execute_result"
    }
   ],
   "source": [
    "analysis_df.dtypes"
   ]
  },
  {
   "cell_type": "markdown",
   "metadata": {},
   "source": [
    "### Fit model"
   ]
  },
  {
   "cell_type": "markdown",
   "metadata": {},
   "source": [
    "Iterate over independent variables to create formula."
   ]
  },
  {
   "cell_type": "code",
   "execution_count": 59,
   "metadata": {},
   "outputs": [
    {
     "name": "stdout",
     "output_type": "stream",
     "text": [
      "Model formula:\n",
      "number_of_ideas ~  C(simple_agreement) +  C(elaborated_agreement) +  C(simple_disagreement) +  C(elaborated_disagreement) +  C(gives_reason_s) +  C(presents_evidence)\n"
     ]
    }
   ],
   "source": [
    "formula = f'number_of_ideas ~ '\n",
    "for idx, independent_var in enumerate(independent_vars):\n",
    "    formula += f' C({independent_var})'\n",
    "    if idx < (len(independent_vars)-1):\n",
    "        formula += ' + '\n",
    "print(f'Model formula:\\n{formula}')"
   ]
  },
  {
   "cell_type": "markdown",
   "metadata": {},
   "source": [
    "Build model with created formula"
   ]
  },
  {
   "cell_type": "code",
   "execution_count": 60,
   "metadata": {},
   "outputs": [],
   "source": [
    "model = ols(formula, data = analysis_df).fit()"
   ]
  },
  {
   "cell_type": "code",
   "execution_count": 61,
   "metadata": {},
   "outputs": [
    {
     "data": {
      "text/html": [
       "<table class=\"simpletable\">\n",
       "<caption>OLS Regression Results</caption>\n",
       "<tr>\n",
       "  <th>Dep. Variable:</th>     <td>number_of_ideas</td> <th>  R-squared:         </th> <td>   0.253</td>\n",
       "</tr>\n",
       "<tr>\n",
       "  <th>Model:</th>                   <td>OLS</td>       <th>  Adj. R-squared:    </th> <td>   0.241</td>\n",
       "</tr>\n",
       "<tr>\n",
       "  <th>Method:</th>             <td>Least Squares</td>  <th>  F-statistic:       </th> <td>   20.39</td>\n",
       "</tr>\n",
       "<tr>\n",
       "  <th>Date:</th>             <td>Tue, 23 Nov 2021</td> <th>  Prob (F-statistic):</th> <td>1.47e-20</td>\n",
       "</tr>\n",
       "<tr>\n",
       "  <th>Time:</th>                 <td>15:52:01</td>     <th>  Log-Likelihood:    </th> <td> -501.98</td>\n",
       "</tr>\n",
       "<tr>\n",
       "  <th>No. Observations:</th>      <td>   368</td>      <th>  AIC:               </th> <td>   1018.</td>\n",
       "</tr>\n",
       "<tr>\n",
       "  <th>Df Residuals:</th>          <td>   361</td>      <th>  BIC:               </th> <td>   1045.</td>\n",
       "</tr>\n",
       "<tr>\n",
       "  <th>Df Model:</th>              <td>     6</td>      <th>                     </th>     <td> </td>   \n",
       "</tr>\n",
       "<tr>\n",
       "  <th>Covariance Type:</th>      <td>nonrobust</td>    <th>                     </th>     <td> </td>   \n",
       "</tr>\n",
       "</table>\n",
       "<table class=\"simpletable\">\n",
       "<tr>\n",
       "                 <td></td>                    <th>coef</th>     <th>std err</th>      <th>t</th>      <th>P>|t|</th>  <th>[0.025</th>    <th>0.975]</th>  \n",
       "</tr>\n",
       "<tr>\n",
       "  <th>Intercept</th>                       <td>    0.8331</td> <td>    0.139</td> <td>    6.008</td> <td> 0.000</td> <td>    0.560</td> <td>    1.106</td>\n",
       "</tr>\n",
       "<tr>\n",
       "  <th>C(simple_agreement)[T.1]</th>        <td>   -0.3966</td> <td>    0.169</td> <td>   -2.343</td> <td> 0.020</td> <td>   -0.729</td> <td>   -0.064</td>\n",
       "</tr>\n",
       "<tr>\n",
       "  <th>C(elaborated_agreement)[T.1]</th>    <td>    0.3167</td> <td>    0.117</td> <td>    2.706</td> <td> 0.007</td> <td>    0.087</td> <td>    0.547</td>\n",
       "</tr>\n",
       "<tr>\n",
       "  <th>C(simple_disagreement)[T.1]</th>     <td>    0.0792</td> <td>    0.234</td> <td>    0.338</td> <td> 0.735</td> <td>   -0.381</td> <td>    0.540</td>\n",
       "</tr>\n",
       "<tr>\n",
       "  <th>C(elaborated_disagreement)[T.1]</th> <td>    0.2091</td> <td>    0.119</td> <td>    1.763</td> <td> 0.079</td> <td>   -0.024</td> <td>    0.442</td>\n",
       "</tr>\n",
       "<tr>\n",
       "  <th>C(gives_reason_s)[T.1]</th>          <td>    0.7977</td> <td>    0.159</td> <td>    5.019</td> <td> 0.000</td> <td>    0.485</td> <td>    1.110</td>\n",
       "</tr>\n",
       "<tr>\n",
       "  <th>C(presents_evidence)[T.1]</th>       <td>    0.1164</td> <td>    0.194</td> <td>    0.599</td> <td> 0.549</td> <td>   -0.266</td> <td>    0.498</td>\n",
       "</tr>\n",
       "</table>\n",
       "<table class=\"simpletable\">\n",
       "<tr>\n",
       "  <th>Omnibus:</th>       <td>119.027</td> <th>  Durbin-Watson:     </th> <td>   1.807</td>\n",
       "</tr>\n",
       "<tr>\n",
       "  <th>Prob(Omnibus):</th> <td> 0.000</td>  <th>  Jarque-Bera (JB):  </th> <td> 414.888</td>\n",
       "</tr>\n",
       "<tr>\n",
       "  <th>Skew:</th>          <td> 1.423</td>  <th>  Prob(JB):          </th> <td>8.09e-91</td>\n",
       "</tr>\n",
       "<tr>\n",
       "  <th>Kurtosis:</th>      <td> 7.354</td>  <th>  Cond. No.          </th> <td>    8.04</td>\n",
       "</tr>\n",
       "</table><br/><br/>Warnings:<br/>[1] Standard Errors assume that the covariance matrix of the errors is correctly specified."
      ],
      "text/plain": [
       "<class 'statsmodels.iolib.summary.Summary'>\n",
       "\"\"\"\n",
       "                            OLS Regression Results                            \n",
       "==============================================================================\n",
       "Dep. Variable:        number_of_ideas   R-squared:                       0.253\n",
       "Model:                            OLS   Adj. R-squared:                  0.241\n",
       "Method:                 Least Squares   F-statistic:                     20.39\n",
       "Date:                Tue, 23 Nov 2021   Prob (F-statistic):           1.47e-20\n",
       "Time:                        15:52:01   Log-Likelihood:                -501.98\n",
       "No. Observations:                 368   AIC:                             1018.\n",
       "Df Residuals:                     361   BIC:                             1045.\n",
       "Df Model:                           6                                         \n",
       "Covariance Type:            nonrobust                                         \n",
       "===================================================================================================\n",
       "                                      coef    std err          t      P>|t|      [0.025      0.975]\n",
       "---------------------------------------------------------------------------------------------------\n",
       "Intercept                           0.8331      0.139      6.008      0.000       0.560       1.106\n",
       "C(simple_agreement)[T.1]           -0.3966      0.169     -2.343      0.020      -0.729      -0.064\n",
       "C(elaborated_agreement)[T.1]        0.3167      0.117      2.706      0.007       0.087       0.547\n",
       "C(simple_disagreement)[T.1]         0.0792      0.234      0.338      0.735      -0.381       0.540\n",
       "C(elaborated_disagreement)[T.1]     0.2091      0.119      1.763      0.079      -0.024       0.442\n",
       "C(gives_reason_s)[T.1]              0.7977      0.159      5.019      0.000       0.485       1.110\n",
       "C(presents_evidence)[T.1]           0.1164      0.194      0.599      0.549      -0.266       0.498\n",
       "==============================================================================\n",
       "Omnibus:                      119.027   Durbin-Watson:                   1.807\n",
       "Prob(Omnibus):                  0.000   Jarque-Bera (JB):              414.888\n",
       "Skew:                           1.423   Prob(JB):                     8.09e-91\n",
       "Kurtosis:                       7.354   Cond. No.                         8.04\n",
       "==============================================================================\n",
       "\n",
       "Warnings:\n",
       "[1] Standard Errors assume that the covariance matrix of the errors is correctly specified.\n",
       "\"\"\""
      ]
     },
     "execution_count": 61,
     "metadata": {},
     "output_type": "execute_result"
    }
   ],
   "source": [
    "model.summary()"
   ]
  },
  {
   "cell_type": "markdown",
   "metadata": {},
   "source": [
    "### Interpret significant coefficients"
   ]
  },
  {
   "cell_type": "markdown",
   "metadata": {},
   "source": [
    "Out of the six independent variables (i.e., `simple_agreement`, `elaborated_agreement`, `simple_disagreement`, `elaborated_disagreement`, `gives_reason_s`, and `presents_evidence`), three of them influence the dependent variable statistically significant at alpha level `0.05`. These variables are: `simple_agreement`, `elaborated_agreement`, and `give_reasons`. Next, the coefficient of these variables are interpreted."
   ]
  },
  {
   "cell_type": "code",
   "execution_count": 62,
   "metadata": {},
   "outputs": [],
   "source": [
    "significant_coefficients = {}\n",
    "model_variables = model.pvalues.index\n",
    "alpha_level = 0.05\n",
    "for idx, p_value in enumerate(model.pvalues):\n",
    "    if model_variables[idx] == 'Intercept':\n",
    "        continue\n",
    "    if p_value < alpha_level:\n",
    "        if 'C(' in model_variables[idx]:\n",
    "            variable_name = model_variables[idx].split('[T')[0].replace('C(','').replace(')','')\n",
    "        else:\n",
    "            variable_name = model_variables[idx]\n",
    "        significant_coefficients[variable_name] = model.params[model_variables[idx]]"
   ]
  },
  {
   "cell_type": "markdown",
   "metadata": {},
   "source": [
    "#### Simple agreement"
   ]
  },
  {
   "cell_type": "code",
   "execution_count": 63,
   "metadata": {},
   "outputs": [
    {
     "name": "stdout",
     "output_type": "stream",
     "text": [
      "Discussions with simple agreement decrease the estimate value of new ideas by -0.397\n"
     ]
    }
   ],
   "source": [
    "print(f\"Discussions with simple agreement decrease the estimate value of new ideas by \"\\\n",
    "      f\"{round(significant_coefficients['simple_agreement'],3)}\")"
   ]
  },
  {
   "cell_type": "markdown",
   "metadata": {},
   "source": [
    "#### Elaborated agreement"
   ]
  },
  {
   "cell_type": "code",
   "execution_count": 64,
   "metadata": {},
   "outputs": [
    {
     "name": "stdout",
     "output_type": "stream",
     "text": [
      "Discussions with elaborated agreement increase the estimate value of new ideas by 0.317\n"
     ]
    }
   ],
   "source": [
    "print(f\"Discussions with elaborated agreement increase the estimate value of new ideas by \"\\\n",
    "      f\"{round(significant_coefficients['elaborated_agreement'],3)}\")"
   ]
  },
  {
   "cell_type": "markdown",
   "metadata": {},
   "source": [
    "#### Giver reasons"
   ]
  },
  {
   "cell_type": "code",
   "execution_count": 67,
   "metadata": {},
   "outputs": [
    {
     "name": "stdout",
     "output_type": "stream",
     "text": [
      "Discussions where positions are justified increase the estimate value of new ideas by 0.798\n"
     ]
    }
   ],
   "source": [
    "print(f\"Discussions where positions are justified increase the estimate value of new ideas by \"\\\n",
    "      f\"{round(significant_coefficients['gives_reason_s'],3)}\")"
   ]
  }
 ],
 "metadata": {
  "kernelspec": {
   "display_name": "Python 3",
   "language": "python",
   "name": "python3"
  },
  "language_info": {
   "codemirror_mode": {
    "name": "ipython",
    "version": 3
   },
   "file_extension": ".py",
   "mimetype": "text/x-python",
   "name": "python",
   "nbconvert_exporter": "python",
   "pygments_lexer": "ipython3",
   "version": "3.8.0"
  }
 },
 "nbformat": 4,
 "nbformat_minor": 2
}
