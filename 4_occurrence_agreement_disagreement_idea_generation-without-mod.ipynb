{
 "cells": [
  {
   "cell_type": "markdown",
   "metadata": {},
   "source": [
    "# Disagreement in Crowdsourced Policymaking"
   ]
  },
  {
   "cell_type": "markdown",
   "metadata": {},
   "source": [
    "##  Occurrence of Disagreement, Agreement, and Elaboration in Idea Generation (w/o moderation)"
   ]
  },
  {
   "cell_type": "markdown",
   "metadata": {},
   "source": [
    "This notebook contains the statistical analyses conducted for the article *The Value of Disagreement in Crowdsourced Policymaking:Idea Generation Through Elaborated Perspectives*. The analyses aim at understanding how the occurrence of disagreement and agreement affects idea generation. The design of the analysis is presented below.\n",
    "\n",
    "<img src=\"imgs/disagreement_crowdsourcing_deliberation_wo_mod.png\">"
   ]
  },
  {
   "cell_type": "markdown",
   "metadata": {},
   "source": [
    "## Content"
   ]
  },
  {
   "cell_type": "markdown",
   "metadata": {},
   "source": [
    "- [Load libraries](#0.-Load-libraries)\n",
    "- [Load data](#1.-Load-data)\n",
    "- [Preprocess data](#2.-Preprocess-data)\n",
    "- [Analysis: Step 1](#3.-Analysis:-Step-1)\n",
    "- [Analysis: Step 2](#4.-Analysis:-Step-2)\n",
    "- [Analysis: Step 3](#5.-Analysis:-Step-3)"
   ]
  },
  {
   "cell_type": "markdown",
   "metadata": {},
   "source": [
    "## 0. Load libraries"
   ]
  },
  {
   "cell_type": "code",
   "execution_count": 1,
   "metadata": {},
   "outputs": [],
   "source": [
    "import pandas as pd\n",
    "import numpy as np\n",
    "import matplotlib.pyplot as plt\n",
    "import statsmodels.api as sm\n",
    "\n",
    "from collections import defaultdict\n",
    "from scipy import stats\n",
    "from statsmodels.stats.multicomp import pairwise_tukeyhsd"
   ]
  },
  {
   "cell_type": "markdown",
   "metadata": {},
   "source": [
    "## 1. Load data"
   ]
  },
  {
   "cell_type": "markdown",
   "metadata": {},
   "source": [
    "Data is distributed in three data files, each representing a discussion topic."
   ]
  },
  {
   "cell_type": "markdown",
   "metadata": {},
   "source": [
    "### Topic: Member decision making and right"
   ]
  },
  {
   "cell_type": "code",
   "execution_count": 2,
   "metadata": {},
   "outputs": [
    {
     "name": "stdout",
     "output_type": "stream",
     "text": [
      "The dataset has 213 rows and 49 columns\n"
     ]
    }
   ],
   "source": [
    "member_df = pd.read_csv('data/member_decision_making_and_right.csv')\n",
    "print(f'The dataset has {member_df.shape[0]} rows and {member_df.shape[1]} columns')"
   ]
  },
  {
   "cell_type": "markdown",
   "metadata": {},
   "source": [
    "### Topic: Administration of an association"
   ]
  },
  {
   "cell_type": "code",
   "execution_count": 3,
   "metadata": {},
   "outputs": [
    {
     "name": "stdout",
     "output_type": "stream",
     "text": [
      "The dataset has 119 rows and 49 columns\n"
     ]
    }
   ],
   "source": [
    "admin_df = pd.read_csv('data/administration_of_association.csv')\n",
    "print(f'The dataset has {admin_df.shape[0]} rows and {admin_df.shape[1]} columns')"
   ]
  },
  {
   "cell_type": "markdown",
   "metadata": {},
   "source": [
    "### Topic: Informally organized groups of an association"
   ]
  },
  {
   "cell_type": "code",
   "execution_count": 4,
   "metadata": {},
   "outputs": [
    {
     "name": "stdout",
     "output_type": "stream",
     "text": [
      "The dataset has 159 rows and 51 columns\n"
     ]
    }
   ],
   "source": [
    "informal_df = pd.read_csv('data/informally_organized_group_of_a.csv')\n",
    "print(f'The dataset has {informal_df.shape[0]} rows and {informal_df.shape[1]} columns')"
   ]
  },
  {
   "cell_type": "markdown",
   "metadata": {},
   "source": [
    "## 2. Preprocess data"
   ]
  },
  {
   "cell_type": "markdown",
   "metadata": {},
   "source": [
    "### Normalize column names"
   ]
  },
  {
   "cell_type": "markdown",
   "metadata": {},
   "source": [
    "Put column names to lower case, replace spaces with underscore, delete leading and trailing spaces, and remove non alpha-numerical characters"
   ]
  },
  {
   "cell_type": "code",
   "execution_count": 5,
   "metadata": {},
   "outputs": [],
   "source": [
    "def normalize_column_names(names):\n",
    "    names = names.str.lower()\n",
    "    names = names.str.replace(' ','_')\n",
    "    names = names.str.replace('.','_')\n",
    "    names = names.str.replace('(','_')\n",
    "    names = names.str.replace(')','')\n",
    "    names = names.str.replace('/','_')\n",
    "    names = names.str.replace('___','_')\n",
    "    names = names.str.strip()\n",
    "    return names"
   ]
  },
  {
   "cell_type": "code",
   "execution_count": 6,
   "metadata": {},
   "outputs": [],
   "source": [
    "member_df.columns = normalize_column_names(member_df.columns)\n",
    "admin_df.columns = normalize_column_names(admin_df.columns)\n",
    "informal_df.columns = normalize_column_names(informal_df.columns)"
   ]
  },
  {
   "cell_type": "markdown",
   "metadata": {},
   "source": [
    "### Standarize column names"
   ]
  },
  {
   "cell_type": "markdown",
   "metadata": {},
   "source": [
    "Columns that contained the same information but have slightly different names are renamed for compatibility purposes"
   ]
  },
  {
   "cell_type": "code",
   "execution_count": 7,
   "metadata": {},
   "outputs": [],
   "source": [
    "member_df = member_df.rename(columns={\n",
    "    'annotations_for_disagreement_new_idea_cascade_s': 'annotations_for_disagreement_new_idea_cascades'\n",
    "})"
   ]
  },
  {
   "cell_type": "code",
   "execution_count": 8,
   "metadata": {},
   "outputs": [],
   "source": [
    "admin_df = admin_df.rename(columns={\n",
    "    'amount_of_likes': 'number_of_likes',\n",
    "    'comment\\'s_id': 'comment_id',\n",
    "    'proposal': 'proposals',    \n",
    "})"
   ]
  },
  {
   "cell_type": "code",
   "execution_count": 9,
   "metadata": {},
   "outputs": [],
   "source": [
    "informal_df = informal_df.rename(columns={\n",
    "    'annotations_for_disagreement_new_idea_cascade_s': 'annotations_for_disagreement_new_idea_cascades',\n",
    "    'proposal': 'proposals'\n",
    "})"
   ]
  },
  {
   "cell_type": "markdown",
   "metadata": {},
   "source": [
    "### Merge datasets in one dataframe"
   ]
  },
  {
   "cell_type": "markdown",
   "metadata": {},
   "source": [
    "Add an extra column to indicate the discussion topic"
   ]
  },
  {
   "cell_type": "code",
   "execution_count": 10,
   "metadata": {},
   "outputs": [],
   "source": [
    "member_df['topic'] = 'member'\n",
    "admin_df['topic'] = 'admin'\n",
    "informal_df['topic'] = 'informal'"
   ]
  },
  {
   "cell_type": "markdown",
   "metadata": {},
   "source": [
    "#### Merge datasets"
   ]
  },
  {
   "cell_type": "code",
   "execution_count": 11,
   "metadata": {},
   "outputs": [
    {
     "name": "stdout",
     "output_type": "stream",
     "text": [
      "The merged dataset has 491 rows and 53 columns\n"
     ]
    }
   ],
   "source": [
    "all_df = pd.concat([member_df, admin_df, informal_df], axis=0, ignore_index=True)\n",
    "print(f'The merged dataset has {all_df.shape[0]} rows and {all_df.shape[1]} columns')"
   ]
  },
  {
   "cell_type": "markdown",
   "metadata": {},
   "source": [
    "### Remove columns containing text in Finnish"
   ]
  },
  {
   "cell_type": "markdown",
   "metadata": {},
   "source": [
    "Text of comments and responses are both in Finnish and English. Columns `comment` and `response` that contain text in Finnish are removed because they will not be considered in this analysis."
   ]
  },
  {
   "cell_type": "code",
   "execution_count": 12,
   "metadata": {},
   "outputs": [],
   "source": [
    "all_df = all_df.drop(['comment', 'response'], axis=1)"
   ]
  },
  {
   "cell_type": "markdown",
   "metadata": {},
   "source": [
    "Columns `comment_1` and `response_1` are renamed removing `_1` from their names"
   ]
  },
  {
   "cell_type": "code",
   "execution_count": 13,
   "metadata": {},
   "outputs": [],
   "source": [
    "all_df = all_df.rename(columns={'comment_1': 'comment', 'response_1': 'response'})"
   ]
  },
  {
   "cell_type": "markdown",
   "metadata": {},
   "source": [
    "### Check null values"
   ]
  },
  {
   "cell_type": "markdown",
   "metadata": {},
   "source": [
    "Check the number of null values by columns"
   ]
  },
  {
   "cell_type": "code",
   "execution_count": 14,
   "metadata": {},
   "outputs": [
    {
     "data": {
      "text/plain": [
       "background                                          3\n",
       "proposals                                           3\n",
       "time                                                3\n",
       "user_id                                             3\n",
       "comment_id                                        346\n",
       "response_id                                       148\n",
       "number_of_likes                                     0\n",
       "users_who_liked                                   263\n",
       "attachments                                       491\n",
       "comment                                           348\n",
       "response                                          146\n",
       "topic_1                                             4\n",
       "topic_2                                           147\n",
       "topic_3                                           358\n",
       "disagreement                                        0\n",
       "agreement                                           0\n",
       "simple_disagreement                                 0\n",
       "elaborated_disagreement                             0\n",
       "simple_agreement                                    0\n",
       "elaborated_agreement                                0\n",
       "idea_s                                             37\n",
       "number_of_ideas                                     1\n",
       "new_idea                                            0\n",
       "sourcing                                          330\n",
       "value_s                                           340\n",
       "topic_shift                                         0\n",
       "brainstorming                                       0\n",
       "blending                                            0\n",
       "building                                            0\n",
       "broadening                                          0\n",
       "fact                                                0\n",
       "value                                               0\n",
       "policy                                              0\n",
       "interpretation                                      0\n",
       "target_of_disagreement                            209\n",
       "target_of_agreement                               239\n",
       "gives_reason_s                                      0\n",
       "presents_evidence                                   0\n",
       "asks_question_s                                     0\n",
       "provides_information                                0\n",
       "clarifies_position_stance                           0\n",
       "responds_to_previous_comment                        0\n",
       "constructive_tone                                   0\n",
       "moderator_post                                      0\n",
       "acknowledges_problem                                0\n",
       "notes                                             398\n",
       "annotations_for_disagreement_new_idea_cascades    454\n",
       "topic                                               0\n",
       "irrpolicy                                         486\n",
       "irrinterpretation                                 486\n",
       "irrconstructive_tone                              486\n",
       "dtype: int64"
      ]
     },
     "execution_count": 14,
     "metadata": {},
     "output_type": "execute_result"
    }
   ],
   "source": [
    "all_df.isnull().sum()"
   ]
  },
  {
   "cell_type": "markdown",
   "metadata": {},
   "source": [
    "### Remove summary rows"
   ]
  },
  {
   "cell_type": "markdown",
   "metadata": {},
   "source": [
    "Remove rows that contain summaries. They are identified by having a null value in the column background."
   ]
  },
  {
   "cell_type": "code",
   "execution_count": 15,
   "metadata": {},
   "outputs": [
    {
     "name": "stdout",
     "output_type": "stream",
     "text": [
      "Data set size after removing summary rows. Rows: 488, Columns: 51\n"
     ]
    }
   ],
   "source": [
    "idxs_to_remove = all_df[all_df.background.isnull()].index.values\n",
    "all_df = all_df.drop(index=idxs_to_remove)\n",
    "print(f'Data set size after removing summary rows. Rows: {all_df.shape[0]}, Columns: {all_df.shape[1]}')"
   ]
  },
  {
   "cell_type": "markdown",
   "metadata": {},
   "source": [
    "### Fix errors in variables"
   ]
  },
  {
   "cell_type": "markdown",
   "metadata": {},
   "source": [
    "There were labeling errors in the rows `336` and `310`; they are fixed below"
   ]
  },
  {
   "cell_type": "code",
   "execution_count": 16,
   "metadata": {},
   "outputs": [],
   "source": [
    "all_df.loc[336, 'simple_agreement'] = 0\n",
    "all_df.loc[310, 'elaborated_agreement'] = 1"
   ]
  },
  {
   "cell_type": "markdown",
   "metadata": {},
   "source": [
    "### Fix values in the column `number_of_ideas`"
   ]
  },
  {
   "cell_type": "code",
   "execution_count": 17,
   "metadata": {},
   "outputs": [],
   "source": [
    "all_df.loc[all_df['number_of_ideas']=='unclear', 'number_of_ideas'] = 0\n",
    "all_df.loc[all_df['number_of_ideas'].isna(), 'number_of_ideas'] = 0\n",
    "all_df['number_of_ideas'] = pd.to_numeric(all_df['number_of_ideas'], downcast='unsigned')"
   ]
  },
  {
   "cell_type": "markdown",
   "metadata": {},
   "source": [
    "### Remove moderator comments"
   ]
  },
  {
   "cell_type": "code",
   "execution_count": 18,
   "metadata": {},
   "outputs": [
    {
     "name": "stdout",
     "output_type": "stream",
     "text": [
      "There are 120 comments that will be removed\n"
     ]
    }
   ],
   "source": [
    "print(f'There are {len(all_df[all_df[\"moderator_post\"]==1])} comments that will be removed')"
   ]
  },
  {
   "cell_type": "code",
   "execution_count": 19,
   "metadata": {},
   "outputs": [],
   "source": [
    "all_df = all_df[all_df['moderator_post']!=1]"
   ]
  },
  {
   "cell_type": "markdown",
   "metadata": {},
   "source": [
    "### Show final columns"
   ]
  },
  {
   "cell_type": "code",
   "execution_count": 20,
   "metadata": {},
   "outputs": [
    {
     "data": {
      "text/plain": [
       "Index(['background', 'proposals', 'time', 'user_id', 'comment_id',\n",
       "       'response_id', 'number_of_likes', 'users_who_liked', 'attachments',\n",
       "       'comment', 'response', 'topic_1', 'topic_2', 'topic_3', 'disagreement',\n",
       "       'agreement', 'simple_disagreement', 'elaborated_disagreement',\n",
       "       'simple_agreement', 'elaborated_agreement', 'idea_s', 'number_of_ideas',\n",
       "       'new_idea', 'sourcing', 'value_s', 'topic_shift', 'brainstorming',\n",
       "       'blending', 'building', 'broadening', 'fact', 'value', 'policy',\n",
       "       'interpretation', 'target_of_disagreement', 'target_of_agreement',\n",
       "       'gives_reason_s', 'presents_evidence', 'asks_question_s',\n",
       "       'provides_information', 'clarifies_position_stance',\n",
       "       'responds_to_previous_comment', 'constructive_tone', 'moderator_post',\n",
       "       'acknowledges_problem', 'notes',\n",
       "       'annotations_for_disagreement_new_idea_cascades', 'topic', 'irrpolicy',\n",
       "       'irrinterpretation', 'irrconstructive_tone'],\n",
       "      dtype='object')"
      ]
     },
     "execution_count": 20,
     "metadata": {},
     "output_type": "execute_result"
    }
   ],
   "source": [
    "all_df.columns"
   ]
  },
  {
   "cell_type": "markdown",
   "metadata": {},
   "source": [
    "### Show a small sample"
   ]
  },
  {
   "cell_type": "code",
   "execution_count": 21,
   "metadata": {},
   "outputs": [
    {
     "data": {
      "text/html": [
       "<div>\n",
       "<style scoped>\n",
       "    .dataframe tbody tr th:only-of-type {\n",
       "        vertical-align: middle;\n",
       "    }\n",
       "\n",
       "    .dataframe tbody tr th {\n",
       "        vertical-align: top;\n",
       "    }\n",
       "\n",
       "    .dataframe thead th {\n",
       "        text-align: right;\n",
       "    }\n",
       "</style>\n",
       "<table border=\"1\" class=\"dataframe\">\n",
       "  <thead>\n",
       "    <tr style=\"text-align: right;\">\n",
       "      <th></th>\n",
       "      <th>background</th>\n",
       "      <th>proposals</th>\n",
       "      <th>time</th>\n",
       "      <th>user_id</th>\n",
       "      <th>comment_id</th>\n",
       "      <th>response_id</th>\n",
       "      <th>number_of_likes</th>\n",
       "      <th>users_who_liked</th>\n",
       "      <th>attachments</th>\n",
       "      <th>comment</th>\n",
       "      <th>...</th>\n",
       "      <th>responds_to_previous_comment</th>\n",
       "      <th>constructive_tone</th>\n",
       "      <th>moderator_post</th>\n",
       "      <th>acknowledges_problem</th>\n",
       "      <th>notes</th>\n",
       "      <th>annotations_for_disagreement_new_idea_cascades</th>\n",
       "      <th>topic</th>\n",
       "      <th>irrpolicy</th>\n",
       "      <th>irrinterpretation</th>\n",
       "      <th>irrconstructive_tone</th>\n",
       "    </tr>\n",
       "  </thead>\n",
       "  <tbody>\n",
       "    <tr>\n",
       "      <th>1</th>\n",
       "      <td>Members’ decision-making and rights\\n\\nIn this...</td>\n",
       "      <td>Proposal: Allow association members’ decision-...</td>\n",
       "      <td>2019-06-04T07:08:18+00:00</td>\n",
       "      <td>5cf60f17d8f1250a070160ee</td>\n",
       "      <td>NaN</td>\n",
       "      <td>5cf618e22878cf073b0eafca</td>\n",
       "      <td>1</td>\n",
       "      <td>karin.rinne@netti.fi</td>\n",
       "      <td>NaN</td>\n",
       "      <td>NaN</td>\n",
       "      <td>...</td>\n",
       "      <td>1</td>\n",
       "      <td>1</td>\n",
       "      <td>0</td>\n",
       "      <td>0</td>\n",
       "      <td>NaN</td>\n",
       "      <td>NaN</td>\n",
       "      <td>member</td>\n",
       "      <td>NaN</td>\n",
       "      <td>NaN</td>\n",
       "      <td>NaN</td>\n",
       "    </tr>\n",
       "    <tr>\n",
       "      <th>2</th>\n",
       "      <td>Members’ decision-making and rights\\n\\nIn this...</td>\n",
       "      <td>Proposal: Allow association members’ decision-...</td>\n",
       "      <td>2019-06-04T10:39:32+00:00</td>\n",
       "      <td>5cf6379534204f3a8d121027</td>\n",
       "      <td>NaN</td>\n",
       "      <td>5cf64a64d8f1253e5a242b5b</td>\n",
       "      <td>0</td>\n",
       "      <td>NaN</td>\n",
       "      <td>NaN</td>\n",
       "      <td>NaN</td>\n",
       "      <td>...</td>\n",
       "      <td>1</td>\n",
       "      <td>1</td>\n",
       "      <td>0</td>\n",
       "      <td>0</td>\n",
       "      <td>NaN</td>\n",
       "      <td>NaN</td>\n",
       "      <td>member</td>\n",
       "      <td>NaN</td>\n",
       "      <td>NaN</td>\n",
       "      <td>NaN</td>\n",
       "    </tr>\n",
       "    <tr>\n",
       "      <th>3</th>\n",
       "      <td>Members’ decision-making and rights\\n\\nIn this...</td>\n",
       "      <td>Proposal: Allow association members’ decision-...</td>\n",
       "      <td>2019-06-04T11:34:33+00:00</td>\n",
       "      <td>5cf63071d8f12537d5632b3e</td>\n",
       "      <td>NaN</td>\n",
       "      <td>5cf657492878cf36b01b767b</td>\n",
       "      <td>0</td>\n",
       "      <td>NaN</td>\n",
       "      <td>NaN</td>\n",
       "      <td>NaN</td>\n",
       "      <td>...</td>\n",
       "      <td>1</td>\n",
       "      <td>1</td>\n",
       "      <td>0</td>\n",
       "      <td>1</td>\n",
       "      <td>NaN</td>\n",
       "      <td>NaN</td>\n",
       "      <td>member</td>\n",
       "      <td>NaN</td>\n",
       "      <td>NaN</td>\n",
       "      <td>NaN</td>\n",
       "    </tr>\n",
       "    <tr>\n",
       "      <th>7</th>\n",
       "      <td>Members’ decision-making and rights\\n\\nIn this...</td>\n",
       "      <td>Proposal: Allow association members’ decision-...</td>\n",
       "      <td>2019-06-04T16:31:27+00:00</td>\n",
       "      <td>5cf63071d8f12537d5632b3e</td>\n",
       "      <td>NaN</td>\n",
       "      <td>5cf69cdfd8f12530a35e8e7c</td>\n",
       "      <td>2</td>\n",
       "      <td>arto.paeivinen@gmail.com,stina.koivisto@eslu.fi</td>\n",
       "      <td>NaN</td>\n",
       "      <td>NaN</td>\n",
       "      <td>...</td>\n",
       "      <td>1</td>\n",
       "      <td>1</td>\n",
       "      <td>0</td>\n",
       "      <td>1</td>\n",
       "      <td>NaN</td>\n",
       "      <td>NaN</td>\n",
       "      <td>member</td>\n",
       "      <td>NaN</td>\n",
       "      <td>NaN</td>\n",
       "      <td>NaN</td>\n",
       "    </tr>\n",
       "    <tr>\n",
       "      <th>9</th>\n",
       "      <td>Members’ decision-making and rights\\n\\nIn this...</td>\n",
       "      <td>Proposal: Allow association members’ decision-...</td>\n",
       "      <td>2019-06-07T12:01:58+00:00</td>\n",
       "      <td>5cf63071d8f12537d5632b3e</td>\n",
       "      <td>NaN</td>\n",
       "      <td>5cfa52362878cf5c9946913f</td>\n",
       "      <td>0</td>\n",
       "      <td>NaN</td>\n",
       "      <td>NaN</td>\n",
       "      <td>NaN</td>\n",
       "      <td>...</td>\n",
       "      <td>1</td>\n",
       "      <td>1</td>\n",
       "      <td>0</td>\n",
       "      <td>0</td>\n",
       "      <td>NaN</td>\n",
       "      <td>NaN</td>\n",
       "      <td>member</td>\n",
       "      <td>NaN</td>\n",
       "      <td>NaN</td>\n",
       "      <td>NaN</td>\n",
       "    </tr>\n",
       "  </tbody>\n",
       "</table>\n",
       "<p>5 rows × 51 columns</p>\n",
       "</div>"
      ],
      "text/plain": [
       "                                          background  \\\n",
       "1  Members’ decision-making and rights\\n\\nIn this...   \n",
       "2  Members’ decision-making and rights\\n\\nIn this...   \n",
       "3  Members’ decision-making and rights\\n\\nIn this...   \n",
       "7  Members’ decision-making and rights\\n\\nIn this...   \n",
       "9  Members’ decision-making and rights\\n\\nIn this...   \n",
       "\n",
       "                                           proposals  \\\n",
       "1  Proposal: Allow association members’ decision-...   \n",
       "2  Proposal: Allow association members’ decision-...   \n",
       "3  Proposal: Allow association members’ decision-...   \n",
       "7  Proposal: Allow association members’ decision-...   \n",
       "9  Proposal: Allow association members’ decision-...   \n",
       "\n",
       "                        time                   user_id comment_id  \\\n",
       "1  2019-06-04T07:08:18+00:00  5cf60f17d8f1250a070160ee        NaN   \n",
       "2  2019-06-04T10:39:32+00:00  5cf6379534204f3a8d121027        NaN   \n",
       "3  2019-06-04T11:34:33+00:00  5cf63071d8f12537d5632b3e        NaN   \n",
       "7  2019-06-04T16:31:27+00:00  5cf63071d8f12537d5632b3e        NaN   \n",
       "9  2019-06-07T12:01:58+00:00  5cf63071d8f12537d5632b3e        NaN   \n",
       "\n",
       "                response_id  number_of_likes  \\\n",
       "1  5cf618e22878cf073b0eafca                1   \n",
       "2  5cf64a64d8f1253e5a242b5b                0   \n",
       "3  5cf657492878cf36b01b767b                0   \n",
       "7  5cf69cdfd8f12530a35e8e7c                2   \n",
       "9  5cfa52362878cf5c9946913f                0   \n",
       "\n",
       "                                   users_who_liked  attachments comment  ...  \\\n",
       "1                             karin.rinne@netti.fi          NaN     NaN  ...   \n",
       "2                                              NaN          NaN     NaN  ...   \n",
       "3                                              NaN          NaN     NaN  ...   \n",
       "7  arto.paeivinen@gmail.com,stina.koivisto@eslu.fi          NaN     NaN  ...   \n",
       "9                                              NaN          NaN     NaN  ...   \n",
       "\n",
       "  responds_to_previous_comment constructive_tone moderator_post  \\\n",
       "1                            1                 1              0   \n",
       "2                            1                 1              0   \n",
       "3                            1                 1              0   \n",
       "7                            1                 1              0   \n",
       "9                            1                 1              0   \n",
       "\n",
       "  acknowledges_problem  notes  annotations_for_disagreement_new_idea_cascades  \\\n",
       "1                    0    NaN                                             NaN   \n",
       "2                    0    NaN                                             NaN   \n",
       "3                    1    NaN                                             NaN   \n",
       "7                    1    NaN                                             NaN   \n",
       "9                    0    NaN                                             NaN   \n",
       "\n",
       "    topic  irrpolicy  irrinterpretation  irrconstructive_tone  \n",
       "1  member        NaN                NaN                   NaN  \n",
       "2  member        NaN                NaN                   NaN  \n",
       "3  member        NaN                NaN                   NaN  \n",
       "7  member        NaN                NaN                   NaN  \n",
       "9  member        NaN                NaN                   NaN  \n",
       "\n",
       "[5 rows x 51 columns]"
      ]
     },
     "execution_count": 21,
     "metadata": {},
     "output_type": "execute_result"
    }
   ],
   "source": [
    "all_df.head()"
   ]
  },
  {
   "cell_type": "markdown",
   "metadata": {},
   "source": [
    "### Show final dataset dimesion"
   ]
  },
  {
   "cell_type": "code",
   "execution_count": 22,
   "metadata": {},
   "outputs": [
    {
     "name": "stdout",
     "output_type": "stream",
     "text": [
      "The final dataset has a dimension of 368 rows and 51 columns\n"
     ]
    }
   ],
   "source": [
    "print(f'The final dataset has a dimension of {all_df.shape[0]} rows and {all_df.shape[1]} columns')"
   ]
  },
  {
   "cell_type": "markdown",
   "metadata": {},
   "source": [
    "## 3. Analysis: Step 1"
   ]
  },
  {
   "cell_type": "markdown",
   "metadata": {},
   "source": [
    "In the first step of the analysis, the mean of ideas in comments with neither agreement nor disagreement is compared against the mean of ideas in comments with agreement and/or disagreement. The statistical significance of the mean difference is evaluated."
   ]
  },
  {
   "cell_type": "markdown",
   "metadata": {},
   "source": [
    "### Define alpha level"
   ]
  },
  {
   "cell_type": "code",
   "execution_count": 23,
   "metadata": {},
   "outputs": [],
   "source": [
    "alpha_level = 0.05"
   ]
  },
  {
   "cell_type": "markdown",
   "metadata": {},
   "source": [
    "### Split dataset"
   ]
  },
  {
   "cell_type": "markdown",
   "metadata": {},
   "source": [
    "The dataset is divided in two smaller datasets that are going to be used in the analysis."
   ]
  },
  {
   "cell_type": "markdown",
   "metadata": {},
   "source": [
    "#### Comments with neither agreement nor disagreement"
   ]
  },
  {
   "cell_type": "code",
   "execution_count": 24,
   "metadata": {},
   "outputs": [
    {
     "name": "stdout",
     "output_type": "stream",
     "text": [
      "There are 44 comments with neither agreement and disagreement\n"
     ]
    }
   ],
   "source": [
    "n_dis_n_agg = all_df[(all_df['disagreement']==0)&(all_df['agreement']==0)]\n",
    "print(f'There are {n_dis_n_agg.shape[0]} comments with neither agreement and disagreement')"
   ]
  },
  {
   "cell_type": "markdown",
   "metadata": {},
   "source": [
    "Descriptive stats regarding **`number of ideas`**"
   ]
  },
  {
   "cell_type": "code",
   "execution_count": 25,
   "metadata": {},
   "outputs": [
    {
     "data": {
      "text/plain": [
       "count    44.000\n",
       "mean      1.295\n",
       "std       0.930\n",
       "min       0.000\n",
       "25%       1.000\n",
       "50%       1.000\n",
       "75%       2.000\n",
       "max       4.000\n",
       "Name: number_of_ideas, dtype: float64"
      ]
     },
     "execution_count": 25,
     "metadata": {},
     "output_type": "execute_result"
    }
   ],
   "source": [
    "round(n_dis_n_agg['number_of_ideas'].describe(),3)"
   ]
  },
  {
   "cell_type": "markdown",
   "metadata": {},
   "source": [
    "Histogram"
   ]
  },
  {
   "cell_type": "code",
   "execution_count": 26,
   "metadata": {},
   "outputs": [
    {
     "data": {
      "text/plain": [
       "<matplotlib.axes._subplots.AxesSubplot at 0x11e5f6eb0>"
      ]
     },
     "execution_count": 26,
     "metadata": {},
     "output_type": "execute_result"
    },
    {
     "data": {
      "image/png": "[encoded data removed]",
      "text/plain": [
       "<Figure size 432x288 with 1 Axes>"
      ]
     },
     "metadata": {
      "needs_background": "light"
     },
     "output_type": "display_data"
    }
   ],
   "source": [
    "n_dis_n_agg['number_of_ideas'].hist()"
   ]
  },
  {
   "cell_type": "markdown",
   "metadata": {},
   "source": [
    "#### Comments with agreement and/or disagreement"
   ]
  },
  {
   "cell_type": "code",
   "execution_count": 27,
   "metadata": {},
   "outputs": [
    {
     "name": "stdout",
     "output_type": "stream",
     "text": [
      "There are 324 comments with agreement and/or disagreement\n"
     ]
    }
   ],
   "source": [
    "dis_agg = all_df[(all_df['disagreement']!=0)|(all_df['agreement']!=0)]\n",
    "print(f'There are {dis_agg.shape[0]} comments with agreement and/or disagreement')"
   ]
  },
  {
   "cell_type": "markdown",
   "metadata": {},
   "source": [
    "Descriptive stats regarding **`number of ideas`**"
   ]
  },
  {
   "cell_type": "code",
   "execution_count": 28,
   "metadata": {},
   "outputs": [
    {
     "data": {
      "text/plain": [
       "count    324.000\n",
       "mean       1.679\n",
       "std        1.111\n",
       "min        0.000\n",
       "25%        1.000\n",
       "50%        1.000\n",
       "75%        2.000\n",
       "max        8.000\n",
       "Name: number_of_ideas, dtype: float64"
      ]
     },
     "execution_count": 28,
     "metadata": {},
     "output_type": "execute_result"
    }
   ],
   "source": [
    "round(dis_agg['number_of_ideas'].describe(),3)"
   ]
  },
  {
   "cell_type": "markdown",
   "metadata": {},
   "source": [
    "Histogram"
   ]
  },
  {
   "cell_type": "code",
   "execution_count": 29,
   "metadata": {},
   "outputs": [
    {
     "data": {
      "text/plain": [
       "<matplotlib.axes._subplots.AxesSubplot at 0x120695a90>"
      ]
     },
     "execution_count": 29,
     "metadata": {},
     "output_type": "execute_result"
    },
    {
     "data": {
      "image/png": "[encoded data removed]",
      "text/plain": [
       "<Figure size 432x288 with 1 Axes>"
      ]
     },
     "metadata": {
      "needs_background": "light"
     },
     "output_type": "display_data"
    }
   ],
   "source": [
    "dis_agg['number_of_ideas'].hist()"
   ]
  },
  {
   "cell_type": "markdown",
   "metadata": {},
   "source": [
    "### Analysis"
   ]
  },
  {
   "cell_type": "markdown",
   "metadata": {},
   "source": [
    "Given that the distributions of ideas in samples do not follow a normal distribution the non-parametric test [Mann–Whitney U test](https://en.wikipedia.org/wiki/Mann%E2%80%93Whitney_U_test) is used."
   ]
  },
  {
   "cell_type": "code",
   "execution_count": 30,
   "metadata": {},
   "outputs": [],
   "source": [
    "stat, p_val = stats.mannwhitneyu(n_dis_n_agg['number_of_ideas'], dis_agg['number_of_ideas'])"
   ]
  },
  {
   "cell_type": "code",
   "execution_count": 31,
   "metadata": {},
   "outputs": [
    {
     "name": "stdout",
     "output_type": "stream",
     "text": [
      "The difference in the number of ideas between sets is statistically significance, p-value=0.00886603758555911\n"
     ]
    }
   ],
   "source": [
    "if p_val < alpha_level:\n",
    "    print(f'The difference in the number of ideas between sets is statistically significance, p-value={p_val}')"
   ]
  },
  {
   "cell_type": "markdown",
   "metadata": {},
   "source": [
    "### Results"
   ]
  },
  {
   "cell_type": "markdown",
   "metadata": {},
   "source": [
    "Comments in which disagreement and/or agreement occur show to have a statistically significant larger number of ideas than comments with neither agreement nor disagreement."
   ]
  },
  {
   "cell_type": "markdown",
   "metadata": {},
   "source": [
    "## 4. Analysis: Step 2"
   ]
  },
  {
   "cell_type": "markdown",
   "metadata": {},
   "source": [
    "In the second step of the analysis, comments with agreement and/or disagreement is divided into three sets, namely, comments with only agreement, comments only disagreement, and comments both agreement and disagreement. The mean of ideas in each set is compared and the statistical significance of the mean difference is evaluated."
   ]
  },
  {
   "cell_type": "markdown",
   "metadata": {},
   "source": [
    "### Define alpha level"
   ]
  },
  {
   "cell_type": "code",
   "execution_count": 32,
   "metadata": {},
   "outputs": [],
   "source": [
    "alpha_level = 0.05"
   ]
  },
  {
   "cell_type": "markdown",
   "metadata": {},
   "source": [
    "### Split dataset"
   ]
  },
  {
   "cell_type": "markdown",
   "metadata": {},
   "source": [
    "#### Comments with only agreement"
   ]
  },
  {
   "cell_type": "code",
   "execution_count": 33,
   "metadata": {},
   "outputs": [
    {
     "name": "stdout",
     "output_type": "stream",
     "text": [
      "There are 98 comments with only agreement\n"
     ]
    }
   ],
   "source": [
    "agg = dis_agg[(dis_agg['disagreement']==0)&(dis_agg['agreement']==1)]\n",
    "print(f'There are {agg.shape[0]} comments with only agreement')"
   ]
  },
  {
   "cell_type": "markdown",
   "metadata": {},
   "source": [
    "Descriptive stats regarding **`number of ideas`**"
   ]
  },
  {
   "cell_type": "code",
   "execution_count": 34,
   "metadata": {},
   "outputs": [
    {
     "data": {
      "text/plain": [
       "count    98.000\n",
       "mean      1.439\n",
       "std       1.332\n",
       "min       0.000\n",
       "25%       1.000\n",
       "50%       1.000\n",
       "75%       2.000\n",
       "max       8.000\n",
       "Name: number_of_ideas, dtype: float64"
      ]
     },
     "execution_count": 34,
     "metadata": {},
     "output_type": "execute_result"
    }
   ],
   "source": [
    "round(agg['number_of_ideas'].describe(),3)"
   ]
  },
  {
   "cell_type": "markdown",
   "metadata": {},
   "source": [
    "Histogram"
   ]
  },
  {
   "cell_type": "code",
   "execution_count": 35,
   "metadata": {},
   "outputs": [
    {
     "data": {
      "text/plain": [
       "<matplotlib.axes._subplots.AxesSubplot at 0x1207d4bb0>"
      ]
     },
     "execution_count": 35,
     "metadata": {},
     "output_type": "execute_result"
    },
    {
     "data": {
      "image/png": "[encoded data removed]",
      "text/plain": [
       "<Figure size 432x288 with 1 Axes>"
      ]
     },
     "metadata": {
      "needs_background": "light"
     },
     "output_type": "display_data"
    }
   ],
   "source": [
    "agg['number_of_ideas'].hist()"
   ]
  },
  {
   "cell_type": "markdown",
   "metadata": {},
   "source": [
    "#### Comments with only disagreement"
   ]
  },
  {
   "cell_type": "code",
   "execution_count": 36,
   "metadata": {},
   "outputs": [
    {
     "name": "stdout",
     "output_type": "stream",
     "text": [
      "There are 130 comments with only disagreement\n"
     ]
    }
   ],
   "source": [
    "dis = dis_agg[(dis_agg['disagreement']==1)&(dis_agg['agreement']==0)]\n",
    "print(f'There are {dis.shape[0]} comments with only disagreement')"
   ]
  },
  {
   "cell_type": "markdown",
   "metadata": {},
   "source": [
    "Descriptive stats regarding **`number of ideas`**"
   ]
  },
  {
   "cell_type": "code",
   "execution_count": 37,
   "metadata": {},
   "outputs": [
    {
     "data": {
      "text/plain": [
       "count    130.000\n",
       "mean       1.615\n",
       "std        0.927\n",
       "min        0.000\n",
       "25%        1.000\n",
       "50%        1.000\n",
       "75%        2.000\n",
       "max        5.000\n",
       "Name: number_of_ideas, dtype: float64"
      ]
     },
     "execution_count": 37,
     "metadata": {},
     "output_type": "execute_result"
    }
   ],
   "source": [
    "round(dis['number_of_ideas'].describe(),3)"
   ]
  },
  {
   "cell_type": "markdown",
   "metadata": {},
   "source": [
    "Histogram"
   ]
  },
  {
   "cell_type": "code",
   "execution_count": 38,
   "metadata": {},
   "outputs": [
    {
     "data": {
      "text/plain": [
       "<matplotlib.axes._subplots.AxesSubplot at 0x120836490>"
      ]
     },
     "execution_count": 38,
     "metadata": {},
     "output_type": "execute_result"
    },
    {
     "data": {
      "image/png": "[encoded data removed]",
      "text/plain": [
       "<Figure size 432x288 with 1 Axes>"
      ]
     },
     "metadata": {
      "needs_background": "light"
     },
     "output_type": "display_data"
    }
   ],
   "source": [
    "dis['number_of_ideas'].hist()"
   ]
  },
  {
   "cell_type": "markdown",
   "metadata": {},
   "source": [
    "#### Comments with both agreement and disagreement"
   ]
  },
  {
   "cell_type": "code",
   "execution_count": 39,
   "metadata": {},
   "outputs": [
    {
     "name": "stdout",
     "output_type": "stream",
     "text": [
      "There are 96 comments with both agreement and disagreement\n"
     ]
    }
   ],
   "source": [
    "both_dis_agg = dis_agg[(dis_agg['disagreement']==1)&(dis_agg['agreement']==1)]\n",
    "print(f'There are {both_dis_agg.shape[0]} comments with both agreement and disagreement')"
   ]
  },
  {
   "cell_type": "markdown",
   "metadata": {},
   "source": [
    "Descriptive stats regarding **`number of ideas`**"
   ]
  },
  {
   "cell_type": "code",
   "execution_count": 40,
   "metadata": {},
   "outputs": [
    {
     "data": {
      "text/plain": [
       "count    96.000\n",
       "mean      2.010\n",
       "std       1.021\n",
       "min       1.000\n",
       "25%       1.000\n",
       "50%       2.000\n",
       "75%       3.000\n",
       "max       5.000\n",
       "Name: number_of_ideas, dtype: float64"
      ]
     },
     "execution_count": 40,
     "metadata": {},
     "output_type": "execute_result"
    }
   ],
   "source": [
    "round(both_dis_agg['number_of_ideas'].describe(),3)"
   ]
  },
  {
   "cell_type": "markdown",
   "metadata": {},
   "source": [
    "Histogram"
   ]
  },
  {
   "cell_type": "code",
   "execution_count": 41,
   "metadata": {},
   "outputs": [
    {
     "data": {
      "text/plain": [
       "<matplotlib.axes._subplots.AxesSubplot at 0x1208aecd0>"
      ]
     },
     "execution_count": 41,
     "metadata": {},
     "output_type": "execute_result"
    },
    {
     "data": {
      "image/png": "[encoded data removed]",
      "text/plain": [
       "<Figure size 432x288 with 1 Axes>"
      ]
     },
     "metadata": {
      "needs_background": "light"
     },
     "output_type": "display_data"
    }
   ],
   "source": [
    "both_dis_agg['number_of_ideas'].hist()"
   ]
  },
  {
   "cell_type": "markdown",
   "metadata": {},
   "source": [
    "### Analysis"
   ]
  },
  {
   "cell_type": "markdown",
   "metadata": {},
   "source": [
    "Given that the distributions of ideas in samples do not follow a normal distribution the non-parametric test [Kruskal-Wallis one-way ANOVA](https://en.wikipedia.org/wiki/Kruskal%E2%80%93Wallis_one-way_analysis_of_variance) is used."
   ]
  },
  {
   "cell_type": "code",
   "execution_count": 42,
   "metadata": {},
   "outputs": [],
   "source": [
    "stat, p_val = stats.kruskal(agg['number_of_ideas'], dis['number_of_ideas'], both_dis_agg['number_of_ideas'])"
   ]
  },
  {
   "cell_type": "code",
   "execution_count": 43,
   "metadata": {},
   "outputs": [
    {
     "name": "stdout",
     "output_type": "stream",
     "text": [
      "The difference in the number of ideas between sets is statistically significance, p-value=8.139497573431767e-05\n"
     ]
    }
   ],
   "source": [
    "if p_val < alpha_level:\n",
    "    print(f'The difference in the number of ideas between sets is statistically significance, p-value={p_val}')"
   ]
  },
  {
   "cell_type": "markdown",
   "metadata": {},
   "source": [
    "#### Post hoc Test"
   ]
  },
  {
   "cell_type": "markdown",
   "metadata": {},
   "source": [
    "To conduct the poshoc analysis, data need to be transformed."
   ]
  },
  {
   "cell_type": "code",
   "execution_count": 44,
   "metadata": {},
   "outputs": [],
   "source": [
    "posthoc_df = pd.DataFrame({\n",
    "    'group': np.repeat(['agg'], repeats=agg.shape[0]), \n",
    "    'number_of_ideas': agg['number_of_ideas']}\n",
    ")\n",
    "posthoc_df = posthoc_df.append(\n",
    "    pd.DataFrame({\n",
    "        'group': np.repeat(['dis'], repeats=dis.shape[0]), \n",
    "        'number_of_ideas': dis['number_of_ideas']})\n",
    ")\n",
    "posthoc_df = posthoc_df.append(\n",
    "    pd.DataFrame({\n",
    "        'group': np.repeat(['both_dis_agg'], repeats=both_dis_agg.shape[0]), \n",
    "        'number_of_ideas': both_dis_agg['number_of_ideas']\n",
    "    })\n",
    ")"
   ]
  },
  {
   "cell_type": "markdown",
   "metadata": {},
   "source": [
    "[Tukey test](https://en.wikipedia.org/wiki/Tukey%27s_range_test) is employed to find out which specific set's means (compared with each other) is statistically different."
   ]
  },
  {
   "cell_type": "code",
   "execution_count": 45,
   "metadata": {},
   "outputs": [],
   "source": [
    "tukey = pairwise_tukeyhsd(endog=posthoc_df['number_of_ideas'], groups=posthoc_df['group'], alpha=alpha_level)"
   ]
  },
  {
   "cell_type": "code",
   "execution_count": 46,
   "metadata": {},
   "outputs": [
    {
     "name": "stdout",
     "output_type": "stream",
     "text": [
      "      Multiple Comparison of Means - Tukey HSD, FWER=0.05       \n",
      "================================================================\n",
      "   group1       group2    meandiff p-adj   lower   upper  reject\n",
      "----------------------------------------------------------------\n",
      "         agg both_dis_agg   0.5716  0.001  0.2028  0.9405   True\n",
      "         agg          dis   0.1766 0.4498  -0.167  0.5202  False\n",
      "both_dis_agg          dis   -0.395 0.0204 -0.7407 -0.0494   True\n",
      "----------------------------------------------------------------\n"
     ]
    }
   ],
   "source": [
    "print(tukey)"
   ]
  },
  {
   "cell_type": "markdown",
   "metadata": {},
   "source": [
    "### Results"
   ]
  },
  {
   "cell_type": "markdown",
   "metadata": {},
   "source": [
    "Comments in which both disagreement and agreement are present show to have a statistically significant larger number of ideas than comments with only agreement. The same is true for comments with both disagreement and agreement and comments with only disagreement."
   ]
  },
  {
   "cell_type": "markdown",
   "metadata": {},
   "source": [
    "## 5. Analysis: Step 3"
   ]
  },
  {
   "cell_type": "markdown",
   "metadata": {},
   "source": [
    "In the third step of the analysis, it is studied how the type agreement and disagreement (simple, elaborated) influence the generation of ideas. In doing so, comments with only agreement are split in two sets, comments with only simple agreement and comments with only elaborated agreement. Similarly comments with only disagreement are divided. Comments with both agreement and disagreement are split in four sets, comments with both simple agreement and simple disagreement, comments with simple agreement and elaborated disagreement, comments with elaborated agreement and simple disagreement, and comments with elaborated agreement and elaborated disagreement. The mean of ideas in each set is compared and the statistical significance of the mean difference is evaluated."
   ]
  },
  {
   "cell_type": "markdown",
   "metadata": {},
   "source": [
    "### Define alpha level"
   ]
  },
  {
   "cell_type": "code",
   "execution_count": 58,
   "metadata": {},
   "outputs": [],
   "source": [
    "alpha_level = 0.05"
   ]
  },
  {
   "cell_type": "markdown",
   "metadata": {},
   "source": [
    "### Split dataset"
   ]
  },
  {
   "cell_type": "markdown",
   "metadata": {},
   "source": [
    "#### Comments with only simple agreement"
   ]
  },
  {
   "cell_type": "code",
   "execution_count": 47,
   "metadata": {},
   "outputs": [
    {
     "name": "stdout",
     "output_type": "stream",
     "text": [
      "There are 29 comments with only simple agreement\n"
     ]
    }
   ],
   "source": [
    "simple_agg = agg[(agg['simple_agreement']==1)&(agg['elaborated_agreement']==0)]\n",
    "print(f'There are {simple_agg.shape[0]} comments with only simple agreement')"
   ]
  },
  {
   "cell_type": "markdown",
   "metadata": {},
   "source": [
    "Descriptive stats regarding **`number of ideas`**"
   ]
  },
  {
   "cell_type": "code",
   "execution_count": 48,
   "metadata": {},
   "outputs": [
    {
     "data": {
      "text/plain": [
       "count    29.000\n",
       "mean      0.310\n",
       "std       0.604\n",
       "min       0.000\n",
       "25%       0.000\n",
       "50%       0.000\n",
       "75%       0.000\n",
       "max       2.000\n",
       "Name: number_of_ideas, dtype: float64"
      ]
     },
     "execution_count": 48,
     "metadata": {},
     "output_type": "execute_result"
    }
   ],
   "source": [
    "round(simple_agg['number_of_ideas'].describe(),3)"
   ]
  },
  {
   "cell_type": "markdown",
   "metadata": {},
   "source": [
    "Histogram"
   ]
  },
  {
   "cell_type": "code",
   "execution_count": 49,
   "metadata": {},
   "outputs": [
    {
     "data": {
      "text/plain": [
       "<matplotlib.axes._subplots.AxesSubplot at 0x120950f10>"
      ]
     },
     "execution_count": 49,
     "metadata": {},
     "output_type": "execute_result"
    },
    {
     "data": {
      "image/png": "[encoded data removed]",
      "text/plain": [
       "<Figure size 432x288 with 1 Axes>"
      ]
     },
     "metadata": {
      "needs_background": "light"
     },
     "output_type": "display_data"
    }
   ],
   "source": [
    "simple_agg['number_of_ideas'].hist()"
   ]
  },
  {
   "cell_type": "markdown",
   "metadata": {},
   "source": [
    "#### Comments with only elaborated agreement"
   ]
  },
  {
   "cell_type": "code",
   "execution_count": 50,
   "metadata": {},
   "outputs": [
    {
     "name": "stdout",
     "output_type": "stream",
     "text": [
      "There are 69 comments with only elaborated agreement\n"
     ]
    }
   ],
   "source": [
    "elaborated_agg = agg[(agg['simple_agreement']==0)&(agg['elaborated_agreement']==1)]\n",
    "print(f'There are {elaborated_agg.shape[0]} comments with only elaborated agreement')"
   ]
  },
  {
   "cell_type": "markdown",
   "metadata": {},
   "source": [
    "Descriptive stats regarding **`number of ideas`**"
   ]
  },
  {
   "cell_type": "code",
   "execution_count": 51,
   "metadata": {},
   "outputs": [
    {
     "data": {
      "text/plain": [
       "count    69.000\n",
       "mean      1.913\n",
       "std       1.269\n",
       "min       1.000\n",
       "25%       1.000\n",
       "50%       2.000\n",
       "75%       2.000\n",
       "max       8.000\n",
       "Name: number_of_ideas, dtype: float64"
      ]
     },
     "execution_count": 51,
     "metadata": {},
     "output_type": "execute_result"
    }
   ],
   "source": [
    "round(elaborated_agg['number_of_ideas'].describe(),3)"
   ]
  },
  {
   "cell_type": "markdown",
   "metadata": {},
   "source": [
    "Histogram"
   ]
  },
  {
   "cell_type": "code",
   "execution_count": 52,
   "metadata": {},
   "outputs": [
    {
     "data": {
      "text/plain": [
       "<matplotlib.axes._subplots.AxesSubplot at 0x1209ea970>"
      ]
     },
     "execution_count": 52,
     "metadata": {},
     "output_type": "execute_result"
    },
    {
     "data": {
      "image/png": "[encoded data removed]",
      "text/plain": [
       "<Figure size 432x288 with 1 Axes>"
      ]
     },
     "metadata": {
      "needs_background": "light"
     },
     "output_type": "display_data"
    }
   ],
   "source": [
    "elaborated_agg['number_of_ideas'].hist()"
   ]
  },
  {
   "cell_type": "markdown",
   "metadata": {},
   "source": [
    "#### Comments with only simple disagreement"
   ]
  },
  {
   "cell_type": "code",
   "execution_count": 53,
   "metadata": {},
   "outputs": [
    {
     "name": "stdout",
     "output_type": "stream",
     "text": [
      "There are 18 comments with only simple disagreement\n"
     ]
    }
   ],
   "source": [
    "simple_dis = dis[(dis['simple_disagreement']==1)&(dis['elaborated_disagreement']==0)]\n",
    "print(f'There are {simple_dis.shape[0]} comments with only simple disagreement')"
   ]
  },
  {
   "cell_type": "markdown",
   "metadata": {},
   "source": [
    "Descriptive stats regarding **`number of ideas`**"
   ]
  },
  {
   "cell_type": "code",
   "execution_count": 54,
   "metadata": {},
   "outputs": [
    {
     "data": {
      "text/plain": [
       "count    18.000\n",
       "mean      0.722\n",
       "std       0.461\n",
       "min       0.000\n",
       "25%       0.250\n",
       "50%       1.000\n",
       "75%       1.000\n",
       "max       1.000\n",
       "Name: number_of_ideas, dtype: float64"
      ]
     },
     "execution_count": 54,
     "metadata": {},
     "output_type": "execute_result"
    }
   ],
   "source": [
    "round(simple_dis['number_of_ideas'].describe(),3)"
   ]
  },
  {
   "cell_type": "markdown",
   "metadata": {},
   "source": [
    "Histogram"
   ]
  },
  {
   "cell_type": "code",
   "execution_count": 55,
   "metadata": {},
   "outputs": [
    {
     "data": {
      "text/plain": [
       "<matplotlib.axes._subplots.AxesSubplot at 0x120a62d90>"
      ]
     },
     "execution_count": 55,
     "metadata": {},
     "output_type": "execute_result"
    },
    {
     "data": {
      "image/png": "[encoded data removed]",
      "text/plain": [
       "<Figure size 432x288 with 1 Axes>"
      ]
     },
     "metadata": {
      "needs_background": "light"
     },
     "output_type": "display_data"
    }
   ],
   "source": [
    "simple_dis['number_of_ideas'].hist()"
   ]
  },
  {
   "cell_type": "markdown",
   "metadata": {},
   "source": [
    "#### Comments with only elaborated disagreement"
   ]
  },
  {
   "cell_type": "code",
   "execution_count": 56,
   "metadata": {},
   "outputs": [
    {
     "name": "stdout",
     "output_type": "stream",
     "text": [
      "There are 112 comments with only elaborated disagreement\n"
     ]
    }
   ],
   "source": [
    "elaborated_dis = dis[(dis['simple_disagreement']==0)&(dis['elaborated_disagreement']==1)]\n",
    "print(f'There are {elaborated_dis.shape[0]} comments with only elaborated disagreement')"
   ]
  },
  {
   "cell_type": "markdown",
   "metadata": {},
   "source": [
    "Descriptive stats regarding **`number of ideas`**"
   ]
  },
  {
   "cell_type": "code",
   "execution_count": 57,
   "metadata": {},
   "outputs": [
    {
     "data": {
      "text/plain": [
       "count    112.000\n",
       "mean       1.759\n",
       "std        0.903\n",
       "min        0.000\n",
       "25%        1.000\n",
       "50%        2.000\n",
       "75%        2.000\n",
       "max        5.000\n",
       "Name: number_of_ideas, dtype: float64"
      ]
     },
     "execution_count": 57,
     "metadata": {},
     "output_type": "execute_result"
    }
   ],
   "source": [
    "round(elaborated_dis['number_of_ideas'].describe(),3)"
   ]
  },
  {
   "cell_type": "markdown",
   "metadata": {},
   "source": [
    "Histogram"
   ]
  },
  {
   "cell_type": "code",
   "execution_count": 58,
   "metadata": {},
   "outputs": [
    {
     "data": {
      "text/plain": [
       "<matplotlib.axes._subplots.AxesSubplot at 0x1208569a0>"
      ]
     },
     "execution_count": 58,
     "metadata": {},
     "output_type": "execute_result"
    },
    {
     "data": {
      "image/png": "[encoded data removed]",
      "text/plain": [
       "<Figure size 432x288 with 1 Axes>"
      ]
     },
     "metadata": {
      "needs_background": "light"
     },
     "output_type": "display_data"
    }
   ],
   "source": [
    "elaborated_dis['number_of_ideas'].hist()"
   ]
  },
  {
   "cell_type": "markdown",
   "metadata": {},
   "source": [
    "#### Comments with simple agreement and simple disagreement"
   ]
  },
  {
   "cell_type": "code",
   "execution_count": 59,
   "metadata": {},
   "outputs": [
    {
     "name": "stdout",
     "output_type": "stream",
     "text": [
      "There are 5 comments with simple agreement and simple disagreement\n"
     ]
    }
   ],
   "source": [
    "simple_dis_simple_agg = both_dis_agg[\n",
    "    (both_dis_agg['simple_disagreement']==1)&\n",
    "    (both_dis_agg['elaborated_disagreement']==0)&\n",
    "    (both_dis_agg['simple_agreement']==1)&\n",
    "    (both_dis_agg['elaborated_agreement']==0)\n",
    "]\n",
    "print(f'There are {simple_dis_simple_agg.shape[0]} comments with simple agreement and simple disagreement')"
   ]
  },
  {
   "cell_type": "markdown",
   "metadata": {},
   "source": [
    "Descriptive stats regarding **`number of ideas`**"
   ]
  },
  {
   "cell_type": "code",
   "execution_count": 60,
   "metadata": {},
   "outputs": [
    {
     "data": {
      "text/plain": [
       "count    5.000\n",
       "mean     1.200\n",
       "std      0.447\n",
       "min      1.000\n",
       "25%      1.000\n",
       "50%      1.000\n",
       "75%      1.000\n",
       "max      2.000\n",
       "Name: number_of_ideas, dtype: float64"
      ]
     },
     "execution_count": 60,
     "metadata": {},
     "output_type": "execute_result"
    }
   ],
   "source": [
    "round(simple_dis_simple_agg['number_of_ideas'].describe(),3)"
   ]
  },
  {
   "cell_type": "markdown",
   "metadata": {},
   "source": [
    "Histogram"
   ]
  },
  {
   "cell_type": "code",
   "execution_count": 61,
   "metadata": {},
   "outputs": [
    {
     "data": {
      "text/plain": [
       "<matplotlib.axes._subplots.AxesSubplot at 0x120b28910>"
      ]
     },
     "execution_count": 61,
     "metadata": {},
     "output_type": "execute_result"
    },
    {
     "data": {
      "image/png": "[encoded data removed]",
      "text/plain": [
       "<Figure size 432x288 with 1 Axes>"
      ]
     },
     "metadata": {
      "needs_background": "light"
     },
     "output_type": "display_data"
    }
   ],
   "source": [
    "simple_dis_simple_agg['number_of_ideas'].hist()"
   ]
  },
  {
   "cell_type": "markdown",
   "metadata": {},
   "source": [
    "#### Comments with simple agreement and elaborated disagreement"
   ]
  },
  {
   "cell_type": "code",
   "execution_count": 62,
   "metadata": {},
   "outputs": [
    {
     "name": "stdout",
     "output_type": "stream",
     "text": [
      "There are 13 comments with simple agreement and elaborated disagreement\n"
     ]
    }
   ],
   "source": [
    "elaborate_dis_simple_agg = both_dis_agg[\n",
    "    (both_dis_agg['simple_disagreement']==0)&\n",
    "    (both_dis_agg['elaborated_disagreement']==1)&\n",
    "    (both_dis_agg['simple_agreement']==1)&\n",
    "    (both_dis_agg['elaborated_agreement']==0)\n",
    "]\n",
    "print(f'There are {elaborate_dis_simple_agg.shape[0]} comments with simple agreement and elaborated disagreement')"
   ]
  },
  {
   "cell_type": "markdown",
   "metadata": {},
   "source": [
    "Descriptive stats regarding **`number of ideas`**"
   ]
  },
  {
   "cell_type": "code",
   "execution_count": 63,
   "metadata": {},
   "outputs": [
    {
     "data": {
      "text/plain": [
       "count    13.000\n",
       "mean      1.462\n",
       "std       0.776\n",
       "min       1.000\n",
       "25%       1.000\n",
       "50%       1.000\n",
       "75%       2.000\n",
       "max       3.000\n",
       "Name: number_of_ideas, dtype: float64"
      ]
     },
     "execution_count": 63,
     "metadata": {},
     "output_type": "execute_result"
    }
   ],
   "source": [
    "round(elaborate_dis_simple_agg['number_of_ideas'].describe(),3)"
   ]
  },
  {
   "cell_type": "markdown",
   "metadata": {},
   "source": [
    "Histogram"
   ]
  },
  {
   "cell_type": "code",
   "execution_count": 64,
   "metadata": {},
   "outputs": [
    {
     "data": {
      "text/plain": [
       "<matplotlib.axes._subplots.AxesSubplot at 0x120ba1550>"
      ]
     },
     "execution_count": 64,
     "metadata": {},
     "output_type": "execute_result"
    },
    {
     "data": {
      "image/png": "[encoded data removed]",
      "text/plain": [
       "<Figure size 432x288 with 1 Axes>"
      ]
     },
     "metadata": {
      "needs_background": "light"
     },
     "output_type": "display_data"
    }
   ],
   "source": [
    "elaborate_dis_simple_agg['number_of_ideas'].hist()"
   ]
  },
  {
   "cell_type": "markdown",
   "metadata": {},
   "source": [
    "#### Comments with elaborated agreement and simple disagreement"
   ]
  },
  {
   "cell_type": "code",
   "execution_count": 65,
   "metadata": {},
   "outputs": [
    {
     "name": "stdout",
     "output_type": "stream",
     "text": [
      "There are 0 comments with elaborated agreement and simple disagreement\n"
     ]
    }
   ],
   "source": [
    "simple_dis_elaborate_agg = both_dis_agg[\n",
    "    (both_dis_agg['simple_disagreement']==1)&\n",
    "    (both_dis_agg['elaborated_disagreement']==0)&\n",
    "    (both_dis_agg['simple_agreement']==0)&\n",
    "    (both_dis_agg['elaborated_agreement']==1)\n",
    "]\n",
    "print(f'There are {simple_dis_elaborate_agg.shape[0]} comments with elaborated agreement and simple disagreement')"
   ]
  },
  {
   "cell_type": "markdown",
   "metadata": {},
   "source": [
    "#### Comments with elaborated agreement and elaborated disagreement"
   ]
  },
  {
   "cell_type": "code",
   "execution_count": 66,
   "metadata": {},
   "outputs": [
    {
     "name": "stdout",
     "output_type": "stream",
     "text": [
      "There are 78 comments with elaborated agreement and elaborated disagreement\n"
     ]
    }
   ],
   "source": [
    "elaborated_dis_elaborated_agg = both_dis_agg[\n",
    "    (both_dis_agg['simple_disagreement']==0)&\n",
    "    (both_dis_agg['elaborated_disagreement']==1)&\n",
    "    (both_dis_agg['simple_agreement']==0)&\n",
    "    (both_dis_agg['elaborated_agreement']==1)\n",
    "]\n",
    "print(f'There are {elaborated_dis_elaborated_agg.shape[0]} comments with elaborated agreement and elaborated disagreement')"
   ]
  },
  {
   "cell_type": "markdown",
   "metadata": {},
   "source": [
    "Descriptive stats regarding **`number of ideas`**"
   ]
  },
  {
   "cell_type": "code",
   "execution_count": 67,
   "metadata": {},
   "outputs": [
    {
     "data": {
      "text/plain": [
       "count    78.000\n",
       "mean      2.154\n",
       "std       1.033\n",
       "min       1.000\n",
       "25%       1.000\n",
       "50%       2.000\n",
       "75%       3.000\n",
       "max       5.000\n",
       "Name: number_of_ideas, dtype: float64"
      ]
     },
     "execution_count": 67,
     "metadata": {},
     "output_type": "execute_result"
    }
   ],
   "source": [
    "round(elaborated_dis_elaborated_agg['number_of_ideas'].describe(),3)"
   ]
  },
  {
   "cell_type": "markdown",
   "metadata": {},
   "source": [
    "Histogram"
   ]
  },
  {
   "cell_type": "code",
   "execution_count": 68,
   "metadata": {},
   "outputs": [
    {
     "data": {
      "text/plain": [
       "<matplotlib.axes._subplots.AxesSubplot at 0x120c15880>"
      ]
     },
     "execution_count": 68,
     "metadata": {},
     "output_type": "execute_result"
    },
    {
     "data": {
      "image/png": "[encoded data removed]",
      "text/plain": [
       "<Figure size 432x288 with 1 Axes>"
      ]
     },
     "metadata": {
      "needs_background": "light"
     },
     "output_type": "display_data"
    }
   ],
   "source": [
    "elaborated_dis_elaborated_agg['number_of_ideas'].hist()"
   ]
  },
  {
   "cell_type": "markdown",
   "metadata": {},
   "source": [
    "### Analysis"
   ]
  },
  {
   "cell_type": "markdown",
   "metadata": {},
   "source": [
    "Given that the distributions of ideas in samples do not follow a normal distribution the non-parametric test [Kruskal-Wallis one-way ANOVA](https://en.wikipedia.org/wiki/Kruskal%E2%80%93Wallis_one-way_analysis_of_variance) is used. Only the subgroup of comments featuring both elaborated disagreement and elaborated agreement was large enough to include in the analysis."
   ]
  },
  {
   "cell_type": "code",
   "execution_count": 69,
   "metadata": {},
   "outputs": [],
   "source": [
    "stat, p_val = stats.kruskal(\n",
    "    simple_agg['number_of_ideas'], \n",
    "    elaborated_agg['number_of_ideas'],\n",
    "    simple_dis['number_of_ideas'], \n",
    "    elaborated_dis['number_of_ideas'], \n",
    "    elaborated_dis_elaborated_agg['number_of_ideas']\n",
    ")"
   ]
  },
  {
   "cell_type": "code",
   "execution_count": 70,
   "metadata": {},
   "outputs": [
    {
     "name": "stdout",
     "output_type": "stream",
     "text": [
      "The difference in the number of ideas between sets is statistically significance, p-value=4.406875247614016e-18\n"
     ]
    }
   ],
   "source": [
    "if p_val < alpha_level:\n",
    "    print(f'The difference in the number of ideas between sets is statistically significance, p-value={p_val}')"
   ]
  },
  {
   "cell_type": "markdown",
   "metadata": {},
   "source": [
    "#### Post hoc Test"
   ]
  },
  {
   "cell_type": "markdown",
   "metadata": {},
   "source": [
    "To conduct the poshoc analysis, data need to be transformed."
   ]
  },
  {
   "cell_type": "code",
   "execution_count": 71,
   "metadata": {},
   "outputs": [],
   "source": [
    "posthoc_df = pd.DataFrame({\n",
    "    'group': np.repeat(['simple_agg'], repeats=simple_agg.shape[0]), \n",
    "    'number_of_ideas': simple_agg['number_of_ideas']}\n",
    ")\n",
    "posthoc_df = posthoc_df.append(\n",
    "    pd.DataFrame({\n",
    "        'group': np.repeat(['simple_dis'], repeats=simple_dis.shape[0]), \n",
    "        'number_of_ideas': simple_dis['number_of_ideas']})\n",
    ")\n",
    "posthoc_df = posthoc_df.append(\n",
    "    pd.DataFrame({\n",
    "        'group': np.repeat(['elaborated_agg'], repeats=elaborated_agg.shape[0]), \n",
    "        'number_of_ideas': elaborated_agg['number_of_ideas']})\n",
    ")\n",
    "posthoc_df = posthoc_df.append(\n",
    "    pd.DataFrame({\n",
    "        'group': np.repeat(['elaborated_dis'], repeats=elaborated_dis.shape[0]), \n",
    "        'number_of_ideas': elaborated_dis['number_of_ideas']})\n",
    ")\n",
    "posthoc_df = posthoc_df.append(\n",
    "    pd.DataFrame({\n",
    "        'group': np.repeat(['elaborated_dis_elaborated_agg'], repeats=elaborated_dis_elaborated_agg.shape[0]), \n",
    "        'number_of_ideas': elaborated_dis_elaborated_agg['number_of_ideas']\n",
    "    })\n",
    ")"
   ]
  },
  {
   "cell_type": "markdown",
   "metadata": {},
   "source": [
    "[Tukey test](https://en.wikipedia.org/wiki/Tukey%27s_range_test) is employed to find out which specific set's means (compared with each other) is statistically different."
   ]
  },
  {
   "cell_type": "code",
   "execution_count": 72,
   "metadata": {},
   "outputs": [],
   "source": [
    "tukey = pairwise_tukeyhsd(endog=posthoc_df['number_of_ideas'], groups=posthoc_df['group'], alpha=alpha_level)"
   ]
  },
  {
   "cell_type": "code",
   "execution_count": 73,
   "metadata": {},
   "outputs": [
    {
     "name": "stdout",
     "output_type": "stream",
     "text": [
      "                       Multiple Comparison of Means - Tukey HSD, FWER=0.05                        \n",
      "==================================================================================================\n",
      "            group1                        group2            meandiff p-adj   lower   upper  reject\n",
      "--------------------------------------------------------------------------------------------------\n",
      "               elaborated_agg                elaborated_dis  -0.1541 0.8288 -0.5706  0.2623  False\n",
      "               elaborated_agg elaborated_dis_elaborated_agg   0.2408 0.5721 -0.2089  0.6905  False\n",
      "               elaborated_agg                    simple_agg  -1.6027  0.001 -2.2049 -1.0005   True\n",
      "               elaborated_agg                    simple_dis  -1.1908  0.001  -1.911 -0.4706   True\n",
      "               elaborated_dis elaborated_dis_elaborated_agg   0.3949 0.0562 -0.0064  0.7962  False\n",
      "               elaborated_dis                    simple_agg  -1.4486  0.001 -2.0156 -0.8816   True\n",
      "               elaborated_dis                    simple_dis  -1.0367  0.001 -1.7277 -0.3457   True\n",
      "elaborated_dis_elaborated_agg                    simple_agg  -1.8435  0.001 -2.4354 -1.2516   True\n",
      "elaborated_dis_elaborated_agg                    simple_dis  -1.4316  0.001 -2.1432   -0.72   True\n",
      "                   simple_agg                    simple_dis   0.4119 0.6203 -0.4047  1.2284  False\n",
      "--------------------------------------------------------------------------------------------------\n"
     ]
    }
   ],
   "source": [
    "print(tukey)"
   ]
  },
  {
   "cell_type": "markdown",
   "metadata": {},
   "source": [
    "### Results"
   ]
  },
  {
   "cell_type": "markdown",
   "metadata": {},
   "source": [
    "Comments in which both elaborated disagreement and elaborated agreement are present show to have statistically significant larger number of ideas than comments with simple agreement and than comments with simple disagreemment. Comments with elaborated agreement have statistically significant larger number of ideas than comment with simple agreement and than comments with simple disagreement. Similarly, comment with elaborated disagreement have statistically significant larger number of ideas than comments simple agreement and than comments with simple disagreement.\n"
   ]
  }
 ],
 "metadata": {
  "kernelspec": {
   "display_name": "Python 3",
   "language": "python",
   "name": "python3"
  },
  "language_info": {
   "codemirror_mode": {
    "name": "ipython",
    "version": 3
   },
   "file_extension": ".py",
   "mimetype": "text/x-python",
   "name": "python",
   "nbconvert_exporter": "python",
   "pygments_lexer": "ipython3",
   "version": "3.8.0"
  }
 },
 "nbformat": 4,
 "nbformat_minor": 4
}
