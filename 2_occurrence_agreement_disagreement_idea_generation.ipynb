{
 "cells": [
  {
   "cell_type": "markdown",
   "metadata": {},
   "source": [
    "# Disagreement in Crowdsourced Policymaking"
   ]
  },
  {
   "cell_type": "markdown",
   "metadata": {},
   "source": [
    "##  Occurrence of Disagreement, Agreement, and Elaboration in Idea Generation"
   ]
  },
  {
   "cell_type": "markdown",
   "metadata": {},
   "source": [
    "This notebook contains the statistical analyses conducted for the article *The Value of Disagreement in Crowdsourced Policymaking:Idea Generation Through Elaborated Perspectives*. The analyses aim at understanding how the occurrence of disagreement and agreement affects idea generation. The design of the analysis is presented below.\n",
    "\n",
    "<img src=\"imgs/disagreement_crowdsourcing_deliberation.png\">"
   ]
  },
  {
   "cell_type": "markdown",
   "metadata": {},
   "source": [
    "## Content"
   ]
  },
  {
   "cell_type": "markdown",
   "metadata": {},
   "source": [
    "- [Load libraries](#0.-Load-libraries)\n",
    "- [Load data](#1.-Load-data)\n",
    "- [Preprocess data](#2.-Preprocess-data)\n",
    "- [Analysis: Step 1](#3.-Analysis:-Step-1)\n",
    "- [Analysis: Step 2](#4.-Analysis:-Step-2)\n",
    "- [Analysis: Step 3](#5.-Analysis:-Step-3)"
   ]
  },
  {
   "cell_type": "markdown",
   "metadata": {},
   "source": [
    "## 0. Load libraries"
   ]
  },
  {
   "cell_type": "code",
   "execution_count": 90,
   "metadata": {},
   "outputs": [],
   "source": [
    "import pandas as pd\n",
    "import numpy as np\n",
    "import matplotlib.pyplot as plt\n",
    "import statsmodels.api as sm\n",
    "\n",
    "from collections import defaultdict\n",
    "from scipy import stats\n",
    "from statsmodels.stats.multicomp import pairwise_tukeyhsd"
   ]
  },
  {
   "cell_type": "markdown",
   "metadata": {},
   "source": [
    "## 1. Load data"
   ]
  },
  {
   "cell_type": "markdown",
   "metadata": {},
   "source": [
    "Data is distributed in three data files, each representing a discussion topic."
   ]
  },
  {
   "cell_type": "markdown",
   "metadata": {},
   "source": [
    "### Topic: Member decision making and right"
   ]
  },
  {
   "cell_type": "code",
   "execution_count": 175,
   "metadata": {},
   "outputs": [
    {
     "name": "stdout",
     "output_type": "stream",
     "text": [
      "The dataset has 213 rows and 49 columns\n"
     ]
    }
   ],
   "source": [
    "member_df = pd.read_csv('data/member_decision_making_and_right.csv')\n",
    "print(f'The dataset has {member_df.shape[0]} rows and {member_df.shape[1]} columns')"
   ]
  },
  {
   "cell_type": "markdown",
   "metadata": {},
   "source": [
    "### Topic: Administration of an association"
   ]
  },
  {
   "cell_type": "code",
   "execution_count": 176,
   "metadata": {},
   "outputs": [
    {
     "name": "stdout",
     "output_type": "stream",
     "text": [
      "The dataset has 119 rows and 49 columns\n"
     ]
    }
   ],
   "source": [
    "admin_df = pd.read_csv('data/administration_of_association.csv')\n",
    "print(f'The dataset has {admin_df.shape[0]} rows and {admin_df.shape[1]} columns')"
   ]
  },
  {
   "cell_type": "markdown",
   "metadata": {},
   "source": [
    "### Topic: Informally organized groups of an association"
   ]
  },
  {
   "cell_type": "code",
   "execution_count": 177,
   "metadata": {},
   "outputs": [
    {
     "name": "stdout",
     "output_type": "stream",
     "text": [
      "The dataset has 159 rows and 51 columns\n"
     ]
    }
   ],
   "source": [
    "informal_df = pd.read_csv('data/informally_organized_group_of_a.csv')\n",
    "print(f'The dataset has {informal_df.shape[0]} rows and {informal_df.shape[1]} columns')"
   ]
  },
  {
   "cell_type": "markdown",
   "metadata": {},
   "source": [
    "## 2. Preprocess data"
   ]
  },
  {
   "cell_type": "markdown",
   "metadata": {},
   "source": [
    "### Normalize column names"
   ]
  },
  {
   "cell_type": "markdown",
   "metadata": {},
   "source": [
    "Put column names to lower case, replace spaces with underscore, delete leading and trailing spaces, and remove non alpha-numerical characters"
   ]
  },
  {
   "cell_type": "code",
   "execution_count": 7,
   "metadata": {},
   "outputs": [],
   "source": [
    "def normalize_column_names(names):\n",
    "    names = names.str.lower()\n",
    "    names = names.str.replace(' ','_')\n",
    "    names = names.str.replace('.','_')\n",
    "    names = names.str.replace('(','_')\n",
    "    names = names.str.replace(')','')\n",
    "    names = names.str.replace('/','_')\n",
    "    names = names.str.replace('___','_')\n",
    "    names = names.str.strip()\n",
    "    return names"
   ]
  },
  {
   "cell_type": "code",
   "execution_count": 178,
   "metadata": {},
   "outputs": [],
   "source": [
    "member_df.columns = normalize_column_names(member_df.columns)\n",
    "admin_df.columns = normalize_column_names(admin_df.columns)\n",
    "informal_df.columns = normalize_column_names(informal_df.columns)"
   ]
  },
  {
   "cell_type": "markdown",
   "metadata": {},
   "source": [
    "### Standarize column names"
   ]
  },
  {
   "cell_type": "markdown",
   "metadata": {},
   "source": [
    "Columns that contained the same information but have slightly different names are renamed for compatibility purposes"
   ]
  },
  {
   "cell_type": "code",
   "execution_count": 179,
   "metadata": {},
   "outputs": [],
   "source": [
    "member_df = member_df.rename(columns={\n",
    "    'annotations_for_disagreement_new_idea_cascade_s': 'annotations_for_disagreement_new_idea_cascades'\n",
    "})"
   ]
  },
  {
   "cell_type": "code",
   "execution_count": 180,
   "metadata": {},
   "outputs": [],
   "source": [
    "admin_df = admin_df.rename(columns={\n",
    "    'amount_of_likes': 'number_of_likes',\n",
    "    'comment\\'s_id': 'comment_id',\n",
    "    'proposal': 'proposals',    \n",
    "})"
   ]
  },
  {
   "cell_type": "code",
   "execution_count": 181,
   "metadata": {},
   "outputs": [],
   "source": [
    "informal_df = informal_df.rename(columns={\n",
    "    'annotations_for_disagreement_new_idea_cascade_s': 'annotations_for_disagreement_new_idea_cascades',\n",
    "    'proposal': 'proposals'\n",
    "})"
   ]
  },
  {
   "cell_type": "markdown",
   "metadata": {},
   "source": [
    "### Merge datasets in one dataframe"
   ]
  },
  {
   "cell_type": "markdown",
   "metadata": {},
   "source": [
    "Add an extra column to indicate the discussion topic"
   ]
  },
  {
   "cell_type": "code",
   "execution_count": 182,
   "metadata": {},
   "outputs": [],
   "source": [
    "member_df['topic'] = 'member'\n",
    "admin_df['topic'] = 'admin'\n",
    "informal_df['topic'] = 'informal'"
   ]
  },
  {
   "cell_type": "markdown",
   "metadata": {},
   "source": [
    "#### Merge datasets"
   ]
  },
  {
   "cell_type": "code",
   "execution_count": 183,
   "metadata": {},
   "outputs": [
    {
     "name": "stdout",
     "output_type": "stream",
     "text": [
      "The merged dataset has 491 rows and 53 columns\n"
     ]
    }
   ],
   "source": [
    "all_df = pd.concat([member_df, admin_df, informal_df], axis=0, ignore_index=True)\n",
    "print(f'The merged dataset has {all_df.shape[0]} rows and {all_df.shape[1]} columns')"
   ]
  },
  {
   "cell_type": "markdown",
   "metadata": {},
   "source": [
    "### Remove columns containing text in Finnish"
   ]
  },
  {
   "cell_type": "markdown",
   "metadata": {},
   "source": [
    "Text of comments and responses are both in Finnish and English. Columns `comment` and `response` that contain text in Finnish are removed because they will not be considered in this analysis."
   ]
  },
  {
   "cell_type": "code",
   "execution_count": 184,
   "metadata": {},
   "outputs": [],
   "source": [
    "all_df = all_df.drop(['comment', 'response'], axis=1)"
   ]
  },
  {
   "cell_type": "markdown",
   "metadata": {},
   "source": [
    "Columns `comment_1` and `response_1` are renamed removing `_1` from their names"
   ]
  },
  {
   "cell_type": "code",
   "execution_count": 185,
   "metadata": {},
   "outputs": [],
   "source": [
    "all_df = all_df.rename(columns={'comment_1': 'comment', 'response_1': 'response'})"
   ]
  },
  {
   "cell_type": "markdown",
   "metadata": {},
   "source": [
    "### Check null values"
   ]
  },
  {
   "cell_type": "markdown",
   "metadata": {},
   "source": [
    "Check the number of null values by columns"
   ]
  },
  {
   "cell_type": "code",
   "execution_count": 186,
   "metadata": {},
   "outputs": [
    {
     "data": {
      "text/plain": [
       "background                                          3\n",
       "proposals                                           3\n",
       "time                                                3\n",
       "user_id                                             3\n",
       "comment_id                                        346\n",
       "response_id                                       148\n",
       "number_of_likes                                     0\n",
       "users_who_liked                                   263\n",
       "attachments                                       491\n",
       "comment                                           348\n",
       "response                                          146\n",
       "topic_1                                             4\n",
       "topic_2                                           147\n",
       "topic_3                                           358\n",
       "disagreement                                        0\n",
       "agreement                                           0\n",
       "simple_disagreement                                 0\n",
       "elaborated_disagreement                             0\n",
       "simple_agreement                                    0\n",
       "elaborated_agreement                                0\n",
       "idea_s                                             37\n",
       "number_of_ideas                                     1\n",
       "new_idea                                            0\n",
       "sourcing                                          330\n",
       "value_s                                           340\n",
       "topic_shift                                         0\n",
       "brainstorming                                       0\n",
       "blending                                            0\n",
       "building                                            0\n",
       "broadening                                          0\n",
       "fact                                                0\n",
       "value                                               0\n",
       "policy                                              0\n",
       "interpretation                                      0\n",
       "target_of_disagreement                            209\n",
       "target_of_agreement                               239\n",
       "gives_reason_s                                      0\n",
       "presents_evidence                                   0\n",
       "asks_question_s                                     0\n",
       "provides_information                                0\n",
       "clarifies_position_stance                           0\n",
       "responds_to_previous_comment                        0\n",
       "constructive_tone                                   0\n",
       "moderator_post                                      0\n",
       "acknowledges_problem                                0\n",
       "notes                                             398\n",
       "annotations_for_disagreement_new_idea_cascades    454\n",
       "topic                                               0\n",
       "irrpolicy                                         486\n",
       "irrinterpretation                                 486\n",
       "irrconstructive_tone                              486\n",
       "dtype: int64"
      ]
     },
     "execution_count": 186,
     "metadata": {},
     "output_type": "execute_result"
    }
   ],
   "source": [
    "all_df.isnull().sum()"
   ]
  },
  {
   "cell_type": "markdown",
   "metadata": {},
   "source": [
    "### Remove summary rows"
   ]
  },
  {
   "cell_type": "markdown",
   "metadata": {},
   "source": [
    "Remove rows that contain summaries. They are identified by having a null value in the column background."
   ]
  },
  {
   "cell_type": "code",
   "execution_count": 187,
   "metadata": {},
   "outputs": [
    {
     "name": "stdout",
     "output_type": "stream",
     "text": [
      "Data set size after removing summary rows. Rows: 488, Columns: 51\n"
     ]
    }
   ],
   "source": [
    "idxs_to_remove = all_df[all_df.background.isnull()].index.values\n",
    "all_df = all_df.drop(index=idxs_to_remove)\n",
    "print(f'Data set size after removing summary rows. Rows: {all_df.shape[0]}, Columns: {all_df.shape[1]}')"
   ]
  },
  {
   "cell_type": "markdown",
   "metadata": {},
   "source": [
    "### Fix errors in variables"
   ]
  },
  {
   "cell_type": "markdown",
   "metadata": {},
   "source": [
    "There were labeling errors in the rows `336` and `310`; they are fixed below"
   ]
  },
  {
   "cell_type": "code",
   "execution_count": 188,
   "metadata": {},
   "outputs": [],
   "source": [
    "all_df.loc[336, 'simple_agreement'] = 0\n",
    "all_df.loc[310, 'elaborated_agreement'] = 1"
   ]
  },
  {
   "cell_type": "markdown",
   "metadata": {},
   "source": [
    "### Fix values in the column `number_of_ideas`"
   ]
  },
  {
   "cell_type": "code",
   "execution_count": 189,
   "metadata": {},
   "outputs": [],
   "source": [
    "all_df.loc[all_df['number_of_ideas']=='unclear', 'number_of_ideas'] = 0\n",
    "all_df.loc[all_df['number_of_ideas'].isna(), 'number_of_ideas'] = 0\n",
    "all_df['number_of_ideas'] = pd.to_numeric(all_df['number_of_ideas'], downcast='unsigned')"
   ]
  },
  {
   "cell_type": "markdown",
   "metadata": {},
   "source": [
    "### Show final columns"
   ]
  },
  {
   "cell_type": "code",
   "execution_count": 190,
   "metadata": {},
   "outputs": [
    {
     "data": {
      "text/plain": [
       "Index(['background', 'proposals', 'time', 'user_id', 'comment_id',\n",
       "       'response_id', 'number_of_likes', 'users_who_liked', 'attachments',\n",
       "       'comment', 'response', 'topic_1', 'topic_2', 'topic_3', 'disagreement',\n",
       "       'agreement', 'simple_disagreement', 'elaborated_disagreement',\n",
       "       'simple_agreement', 'elaborated_agreement', 'idea_s', 'number_of_ideas',\n",
       "       'new_idea', 'sourcing', 'value_s', 'topic_shift', 'brainstorming',\n",
       "       'blending', 'building', 'broadening', 'fact', 'value', 'policy',\n",
       "       'interpretation', 'target_of_disagreement', 'target_of_agreement',\n",
       "       'gives_reason_s', 'presents_evidence', 'asks_question_s',\n",
       "       'provides_information', 'clarifies_position_stance',\n",
       "       'responds_to_previous_comment', 'constructive_tone', 'moderator_post',\n",
       "       'acknowledges_problem', 'notes',\n",
       "       'annotations_for_disagreement_new_idea_cascades', 'topic', 'irrpolicy',\n",
       "       'irrinterpretation', 'irrconstructive_tone'],\n",
       "      dtype='object')"
      ]
     },
     "execution_count": 190,
     "metadata": {},
     "output_type": "execute_result"
    }
   ],
   "source": [
    "all_df.columns"
   ]
  },
  {
   "cell_type": "markdown",
   "metadata": {},
   "source": [
    "### Show a small sample"
   ]
  },
  {
   "cell_type": "code",
   "execution_count": 191,
   "metadata": {},
   "outputs": [
    {
     "data": {
      "text/html": [
       "<div>\n",
       "<style scoped>\n",
       "    .dataframe tbody tr th:only-of-type {\n",
       "        vertical-align: middle;\n",
       "    }\n",
       "\n",
       "    .dataframe tbody tr th {\n",
       "        vertical-align: top;\n",
       "    }\n",
       "\n",
       "    .dataframe thead th {\n",
       "        text-align: right;\n",
       "    }\n",
       "</style>\n",
       "<table border=\"1\" class=\"dataframe\">\n",
       "  <thead>\n",
       "    <tr style=\"text-align: right;\">\n",
       "      <th></th>\n",
       "      <th>background</th>\n",
       "      <th>proposals</th>\n",
       "      <th>time</th>\n",
       "      <th>user_id</th>\n",
       "      <th>comment_id</th>\n",
       "      <th>response_id</th>\n",
       "      <th>number_of_likes</th>\n",
       "      <th>users_who_liked</th>\n",
       "      <th>attachments</th>\n",
       "      <th>comment</th>\n",
       "      <th>...</th>\n",
       "      <th>responds_to_previous_comment</th>\n",
       "      <th>constructive_tone</th>\n",
       "      <th>moderator_post</th>\n",
       "      <th>acknowledges_problem</th>\n",
       "      <th>notes</th>\n",
       "      <th>annotations_for_disagreement_new_idea_cascades</th>\n",
       "      <th>topic</th>\n",
       "      <th>irrpolicy</th>\n",
       "      <th>irrinterpretation</th>\n",
       "      <th>irrconstructive_tone</th>\n",
       "    </tr>\n",
       "  </thead>\n",
       "  <tbody>\n",
       "    <tr>\n",
       "      <th>0</th>\n",
       "      <td>Members’ decision-making and rights\\n\\nIn this...</td>\n",
       "      <td>Proposal: Allow association members’ decision-...</td>\n",
       "      <td>2019-05-29T06:46:24+00:00</td>\n",
       "      <td>5cee25de2878cf678e79d737</td>\n",
       "      <td>5cee2ac02878cf4c8d260521</td>\n",
       "      <td>NaN</td>\n",
       "      <td>1</td>\n",
       "      <td>nina-laakso@luukku.com</td>\n",
       "      <td>NaN</td>\n",
       "      <td>Association members’ decision-making, access t...</td>\n",
       "      <td>...</td>\n",
       "      <td>0</td>\n",
       "      <td>1</td>\n",
       "      <td>1</td>\n",
       "      <td>0</td>\n",
       "      <td>NaN</td>\n",
       "      <td>NaN</td>\n",
       "      <td>member</td>\n",
       "      <td>NaN</td>\n",
       "      <td>NaN</td>\n",
       "      <td>NaN</td>\n",
       "    </tr>\n",
       "    <tr>\n",
       "      <th>1</th>\n",
       "      <td>Members’ decision-making and rights\\n\\nIn this...</td>\n",
       "      <td>Proposal: Allow association members’ decision-...</td>\n",
       "      <td>2019-06-04T07:08:18+00:00</td>\n",
       "      <td>5cf60f17d8f1250a070160ee</td>\n",
       "      <td>NaN</td>\n",
       "      <td>5cf618e22878cf073b0eafca</td>\n",
       "      <td>1</td>\n",
       "      <td>karin.rinne@netti.fi</td>\n",
       "      <td>NaN</td>\n",
       "      <td>NaN</td>\n",
       "      <td>...</td>\n",
       "      <td>1</td>\n",
       "      <td>1</td>\n",
       "      <td>0</td>\n",
       "      <td>0</td>\n",
       "      <td>NaN</td>\n",
       "      <td>NaN</td>\n",
       "      <td>member</td>\n",
       "      <td>NaN</td>\n",
       "      <td>NaN</td>\n",
       "      <td>NaN</td>\n",
       "    </tr>\n",
       "    <tr>\n",
       "      <th>2</th>\n",
       "      <td>Members’ decision-making and rights\\n\\nIn this...</td>\n",
       "      <td>Proposal: Allow association members’ decision-...</td>\n",
       "      <td>2019-06-04T10:39:32+00:00</td>\n",
       "      <td>5cf6379534204f3a8d121027</td>\n",
       "      <td>NaN</td>\n",
       "      <td>5cf64a64d8f1253e5a242b5b</td>\n",
       "      <td>0</td>\n",
       "      <td>NaN</td>\n",
       "      <td>NaN</td>\n",
       "      <td>NaN</td>\n",
       "      <td>...</td>\n",
       "      <td>1</td>\n",
       "      <td>1</td>\n",
       "      <td>0</td>\n",
       "      <td>0</td>\n",
       "      <td>NaN</td>\n",
       "      <td>NaN</td>\n",
       "      <td>member</td>\n",
       "      <td>NaN</td>\n",
       "      <td>NaN</td>\n",
       "      <td>NaN</td>\n",
       "    </tr>\n",
       "    <tr>\n",
       "      <th>3</th>\n",
       "      <td>Members’ decision-making and rights\\n\\nIn this...</td>\n",
       "      <td>Proposal: Allow association members’ decision-...</td>\n",
       "      <td>2019-06-04T11:34:33+00:00</td>\n",
       "      <td>5cf63071d8f12537d5632b3e</td>\n",
       "      <td>NaN</td>\n",
       "      <td>5cf657492878cf36b01b767b</td>\n",
       "      <td>0</td>\n",
       "      <td>NaN</td>\n",
       "      <td>NaN</td>\n",
       "      <td>NaN</td>\n",
       "      <td>...</td>\n",
       "      <td>1</td>\n",
       "      <td>1</td>\n",
       "      <td>0</td>\n",
       "      <td>1</td>\n",
       "      <td>NaN</td>\n",
       "      <td>NaN</td>\n",
       "      <td>member</td>\n",
       "      <td>NaN</td>\n",
       "      <td>NaN</td>\n",
       "      <td>NaN</td>\n",
       "    </tr>\n",
       "    <tr>\n",
       "      <th>4</th>\n",
       "      <td>Members’ decision-making and rights\\n\\nIn this...</td>\n",
       "      <td>Proposal: Allow association members’ decision-...</td>\n",
       "      <td>2019-06-04T12:44:16+00:00</td>\n",
       "      <td>5cee2ce1d8f125593074aeeb</td>\n",
       "      <td>NaN</td>\n",
       "      <td>5cf667a034204f5af1758bd9</td>\n",
       "      <td>2</td>\n",
       "      <td>valtteri.tervala@vanhempainliitto.fi,tanja.sal...</td>\n",
       "      <td>NaN</td>\n",
       "      <td>NaN</td>\n",
       "      <td>...</td>\n",
       "      <td>1</td>\n",
       "      <td>1</td>\n",
       "      <td>1</td>\n",
       "      <td>0</td>\n",
       "      <td>NaN</td>\n",
       "      <td>NaN</td>\n",
       "      <td>member</td>\n",
       "      <td>NaN</td>\n",
       "      <td>NaN</td>\n",
       "      <td>NaN</td>\n",
       "    </tr>\n",
       "  </tbody>\n",
       "</table>\n",
       "<p>5 rows × 51 columns</p>\n",
       "</div>"
      ],
      "text/plain": [
       "                                          background  \\\n",
       "0  Members’ decision-making and rights\\n\\nIn this...   \n",
       "1  Members’ decision-making and rights\\n\\nIn this...   \n",
       "2  Members’ decision-making and rights\\n\\nIn this...   \n",
       "3  Members’ decision-making and rights\\n\\nIn this...   \n",
       "4  Members’ decision-making and rights\\n\\nIn this...   \n",
       "\n",
       "                                           proposals  \\\n",
       "0  Proposal: Allow association members’ decision-...   \n",
       "1  Proposal: Allow association members’ decision-...   \n",
       "2  Proposal: Allow association members’ decision-...   \n",
       "3  Proposal: Allow association members’ decision-...   \n",
       "4  Proposal: Allow association members’ decision-...   \n",
       "\n",
       "                        time                   user_id  \\\n",
       "0  2019-05-29T06:46:24+00:00  5cee25de2878cf678e79d737   \n",
       "1  2019-06-04T07:08:18+00:00  5cf60f17d8f1250a070160ee   \n",
       "2  2019-06-04T10:39:32+00:00  5cf6379534204f3a8d121027   \n",
       "3  2019-06-04T11:34:33+00:00  5cf63071d8f12537d5632b3e   \n",
       "4  2019-06-04T12:44:16+00:00  5cee2ce1d8f125593074aeeb   \n",
       "\n",
       "                 comment_id               response_id  number_of_likes  \\\n",
       "0  5cee2ac02878cf4c8d260521                       NaN                1   \n",
       "1                       NaN  5cf618e22878cf073b0eafca                1   \n",
       "2                       NaN  5cf64a64d8f1253e5a242b5b                0   \n",
       "3                       NaN  5cf657492878cf36b01b767b                0   \n",
       "4                       NaN  5cf667a034204f5af1758bd9                2   \n",
       "\n",
       "                                     users_who_liked  attachments  \\\n",
       "0                             nina-laakso@luukku.com          NaN   \n",
       "1                               karin.rinne@netti.fi          NaN   \n",
       "2                                                NaN          NaN   \n",
       "3                                                NaN          NaN   \n",
       "4  valtteri.tervala@vanhempainliitto.fi,tanja.sal...          NaN   \n",
       "\n",
       "                                             comment  ...  \\\n",
       "0  Association members’ decision-making, access t...  ...   \n",
       "1                                                NaN  ...   \n",
       "2                                                NaN  ...   \n",
       "3                                                NaN  ...   \n",
       "4                                                NaN  ...   \n",
       "\n",
       "  responds_to_previous_comment constructive_tone moderator_post  \\\n",
       "0                            0                 1              1   \n",
       "1                            1                 1              0   \n",
       "2                            1                 1              0   \n",
       "3                            1                 1              0   \n",
       "4                            1                 1              1   \n",
       "\n",
       "  acknowledges_problem  notes  annotations_for_disagreement_new_idea_cascades  \\\n",
       "0                    0    NaN                                             NaN   \n",
       "1                    0    NaN                                             NaN   \n",
       "2                    0    NaN                                             NaN   \n",
       "3                    1    NaN                                             NaN   \n",
       "4                    0    NaN                                             NaN   \n",
       "\n",
       "    topic  irrpolicy  irrinterpretation  irrconstructive_tone  \n",
       "0  member        NaN                NaN                   NaN  \n",
       "1  member        NaN                NaN                   NaN  \n",
       "2  member        NaN                NaN                   NaN  \n",
       "3  member        NaN                NaN                   NaN  \n",
       "4  member        NaN                NaN                   NaN  \n",
       "\n",
       "[5 rows x 51 columns]"
      ]
     },
     "execution_count": 191,
     "metadata": {},
     "output_type": "execute_result"
    }
   ],
   "source": [
    "all_df.head()"
   ]
  },
  {
   "cell_type": "markdown",
   "metadata": {},
   "source": [
    "### Show final dataset dimesion"
   ]
  },
  {
   "cell_type": "code",
   "execution_count": 192,
   "metadata": {},
   "outputs": [
    {
     "name": "stdout",
     "output_type": "stream",
     "text": [
      "The final dataset has a dimension of 488 rows and 51 columns\n"
     ]
    }
   ],
   "source": [
    "print(f'The final dataset has a dimension of {all_df.shape[0]} rows and {all_df.shape[1]} columns')"
   ]
  },
  {
   "cell_type": "markdown",
   "metadata": {},
   "source": [
    "## 3. Analysis: Step 1"
   ]
  },
  {
   "cell_type": "markdown",
   "metadata": {},
   "source": [
    "In the first step of the analysis, the mean of ideas in comments with neither agreement nor disagreement is compared against the mean of ideas in comments with agreement and/or disagreement. The statistical significance of the mean difference is evaluated."
   ]
  },
  {
   "cell_type": "markdown",
   "metadata": {},
   "source": [
    "### Define alpha level"
   ]
  },
  {
   "cell_type": "code",
   "execution_count": 58,
   "metadata": {},
   "outputs": [],
   "source": [
    "alpha_level = 0.05"
   ]
  },
  {
   "cell_type": "markdown",
   "metadata": {},
   "source": [
    "### Split dataset"
   ]
  },
  {
   "cell_type": "markdown",
   "metadata": {},
   "source": [
    "The dataset is divided in two smaller datasets that are going to be used in the analysis."
   ]
  },
  {
   "cell_type": "markdown",
   "metadata": {},
   "source": [
    "#### Comments with neither agreement nor disagreement"
   ]
  },
  {
   "cell_type": "code",
   "execution_count": 67,
   "metadata": {},
   "outputs": [
    {
     "name": "stdout",
     "output_type": "stream",
     "text": [
      "There are 78 comments with neither agreement and disagreement\n"
     ]
    }
   ],
   "source": [
    "n_dis_n_agg = all_df[(all_df['disagreement']==0)&(all_df['agreement']==0)]\n",
    "print(f'There are {n_dis_n_agg.shape[0]} comments with neither agreement and disagreement')"
   ]
  },
  {
   "cell_type": "markdown",
   "metadata": {},
   "source": [
    "Descriptive stats regarding **`number of ideas`**"
   ]
  },
  {
   "cell_type": "code",
   "execution_count": 70,
   "metadata": {},
   "outputs": [
    {
     "data": {
      "text/plain": [
       "count    78.000\n",
       "mean      1.167\n",
       "std       0.796\n",
       "min       0.000\n",
       "25%       1.000\n",
       "50%       1.000\n",
       "75%       1.000\n",
       "max       4.000\n",
       "Name: number_of_ideas, dtype: float64"
      ]
     },
     "execution_count": 70,
     "metadata": {},
     "output_type": "execute_result"
    }
   ],
   "source": [
    "round(n_dis_n_agg['number_of_ideas'].describe(),3)"
   ]
  },
  {
   "cell_type": "markdown",
   "metadata": {},
   "source": [
    "Histogram"
   ]
  },
  {
   "cell_type": "code",
   "execution_count": 73,
   "metadata": {},
   "outputs": [
    {
     "data": {
      "text/plain": [
       "<matplotlib.axes._subplots.AxesSubplot at 0x7ff50bf2c908>"
      ]
     },
     "execution_count": 73,
     "metadata": {},
     "output_type": "execute_result"
    },
    {
     "data": {
      "image/png": "[encoded data removed]",
      "text/plain": [
       "<Figure size 576x396 with 1 Axes>"
      ]
     },
     "metadata": {},
     "output_type": "display_data"
    }
   ],
   "source": [
    "n_dis_n_agg['number_of_ideas'].hist()"
   ]
  },
  {
   "cell_type": "markdown",
   "metadata": {},
   "source": [
    "#### Comments with agreement and/or disagreement"
   ]
  },
  {
   "cell_type": "code",
   "execution_count": 71,
   "metadata": {},
   "outputs": [
    {
     "name": "stdout",
     "output_type": "stream",
     "text": [
      "There are 410 comments with agreement and/or disagreement\n"
     ]
    }
   ],
   "source": [
    "dis_agg = all_df[(all_df['disagreement']!=0)|(all_df['agreement']!=0)]\n",
    "print(f'There are {dis_agg.shape[0]} comments with agreement and/or disagreement')"
   ]
  },
  {
   "cell_type": "markdown",
   "metadata": {},
   "source": [
    "Descriptive stats regarding **`number of ideas`**"
   ]
  },
  {
   "cell_type": "code",
   "execution_count": 72,
   "metadata": {},
   "outputs": [
    {
     "data": {
      "text/plain": [
       "count    410.000\n",
       "mean       1.588\n",
       "std        1.039\n",
       "min        0.000\n",
       "25%        1.000\n",
       "50%        1.000\n",
       "75%        2.000\n",
       "max        8.000\n",
       "Name: number_of_ideas, dtype: float64"
      ]
     },
     "execution_count": 72,
     "metadata": {},
     "output_type": "execute_result"
    }
   ],
   "source": [
    "round(dis_agg['number_of_ideas'].describe(),3)"
   ]
  },
  {
   "cell_type": "markdown",
   "metadata": {},
   "source": [
    "Histogram"
   ]
  },
  {
   "cell_type": "code",
   "execution_count": 74,
   "metadata": {},
   "outputs": [
    {
     "data": {
      "text/plain": [
       "<matplotlib.axes._subplots.AxesSubplot at 0x7ff50bf328d0>"
      ]
     },
     "execution_count": 74,
     "metadata": {},
     "output_type": "execute_result"
    },
    {
     "data": {
      "image/png": "[encoded data removed]",
      "text/plain": [
       "<Figure size 576x396 with 1 Axes>"
      ]
     },
     "metadata": {},
     "output_type": "display_data"
    }
   ],
   "source": [
    "dis_agg['number_of_ideas'].hist()"
   ]
  },
  {
   "cell_type": "markdown",
   "metadata": {},
   "source": [
    "### Analysis"
   ]
  },
  {
   "cell_type": "markdown",
   "metadata": {},
   "source": [
    "Given that the distributions of ideas in samples do not follow a normal distribution the non-parametric test [Mann–Whitney U test](https://en.wikipedia.org/wiki/Mann%E2%80%93Whitney_U_test) is used."
   ]
  },
  {
   "cell_type": "code",
   "execution_count": 75,
   "metadata": {},
   "outputs": [],
   "source": [
    "stat, p_val = stats.mannwhitneyu(n_dis_n_agg['number_of_ideas'], dis_agg['number_of_ideas'])"
   ]
  },
  {
   "cell_type": "code",
   "execution_count": 76,
   "metadata": {},
   "outputs": [
    {
     "name": "stdout",
     "output_type": "stream",
     "text": [
      "The difference in the number of ideas between sets is statistically significance, p-value=0.00010042579229535813\n"
     ]
    }
   ],
   "source": [
    "if p_val < alpha_level:\n",
    "    print(f'The difference in the number of ideas between sets is statistically significance, p-value={p_val}')"
   ]
  },
  {
   "cell_type": "markdown",
   "metadata": {},
   "source": [
    "### Results"
   ]
  },
  {
   "cell_type": "markdown",
   "metadata": {},
   "source": [
    "Comments in which disagreement and/or agreement occur show to have a statistically significant larger number of ideas than comments with neither agreement nor disagreement."
   ]
  },
  {
   "cell_type": "markdown",
   "metadata": {},
   "source": [
    "## 4. Analysis: Step 2"
   ]
  },
  {
   "cell_type": "markdown",
   "metadata": {},
   "source": [
    "In the second step of the analysis, comments with agreement and/or disagreement is divided into three sets, namely, comments with only agreement, comments only disagreement, and comments both agreement and disagreement. The mean of ideas in each set is compared and the statistical significance of the mean difference is evaluated."
   ]
  },
  {
   "cell_type": "markdown",
   "metadata": {},
   "source": [
    "### Define alpha level"
   ]
  },
  {
   "cell_type": "code",
   "execution_count": 58,
   "metadata": {},
   "outputs": [],
   "source": [
    "alpha_level = 0.05"
   ]
  },
  {
   "cell_type": "markdown",
   "metadata": {},
   "source": [
    "### Split dataset"
   ]
  },
  {
   "cell_type": "markdown",
   "metadata": {},
   "source": [
    "#### Comments with only agreement"
   ]
  },
  {
   "cell_type": "code",
   "execution_count": 147,
   "metadata": {},
   "outputs": [
    {
     "name": "stdout",
     "output_type": "stream",
     "text": [
      "There are 132 comments with only agreement\n"
     ]
    }
   ],
   "source": [
    "agg = dis_agg[(dis_agg['disagreement']==0)&(dis_agg['agreement']==1)]\n",
    "print(f'There are {agg.shape[0]} comments with only agreement')"
   ]
  },
  {
   "cell_type": "markdown",
   "metadata": {},
   "source": [
    "Descriptive stats regarding **`number of ideas`**"
   ]
  },
  {
   "cell_type": "code",
   "execution_count": 78,
   "metadata": {},
   "outputs": [
    {
     "data": {
      "text/plain": [
       "count    132.000\n",
       "mean       1.356\n",
       "std        1.180\n",
       "min        0.000\n",
       "25%        1.000\n",
       "50%        1.000\n",
       "75%        2.000\n",
       "max        8.000\n",
       "Name: number_of_ideas, dtype: float64"
      ]
     },
     "execution_count": 78,
     "metadata": {},
     "output_type": "execute_result"
    }
   ],
   "source": [
    "round(agg['number_of_ideas'].describe(),3)"
   ]
  },
  {
   "cell_type": "markdown",
   "metadata": {},
   "source": [
    "Histogram"
   ]
  },
  {
   "cell_type": "code",
   "execution_count": 79,
   "metadata": {},
   "outputs": [
    {
     "data": {
      "text/plain": [
       "<matplotlib.axes._subplots.AxesSubplot at 0x7ff50c19c978>"
      ]
     },
     "execution_count": 79,
     "metadata": {},
     "output_type": "execute_result"
    },
    {
     "data": {
      "image/png": "[encoded data removed]",
      "text/plain": [
       "<Figure size 576x396 with 1 Axes>"
      ]
     },
     "metadata": {},
     "output_type": "display_data"
    }
   ],
   "source": [
    "agg['number_of_ideas'].hist()"
   ]
  },
  {
   "cell_type": "markdown",
   "metadata": {},
   "source": [
    "#### Comments with only disagreement"
   ]
  },
  {
   "cell_type": "code",
   "execution_count": 149,
   "metadata": {},
   "outputs": [
    {
     "name": "stdout",
     "output_type": "stream",
     "text": [
      "There are 165 comments with only disagreement\n"
     ]
    }
   ],
   "source": [
    "dis = dis_agg[(dis_agg['disagreement']==1)&(dis_agg['agreement']==0)]\n",
    "print(f'There are {dis.shape[0]} comments with only disagreement')"
   ]
  },
  {
   "cell_type": "markdown",
   "metadata": {},
   "source": [
    "Descriptive stats regarding **`number of ideas`**"
   ]
  },
  {
   "cell_type": "code",
   "execution_count": 150,
   "metadata": {},
   "outputs": [
    {
     "data": {
      "text/plain": [
       "count    165.000\n",
       "mean       1.521\n",
       "std        0.867\n",
       "min        0.000\n",
       "25%        1.000\n",
       "50%        1.000\n",
       "75%        2.000\n",
       "max        5.000\n",
       "Name: number_of_ideas, dtype: float64"
      ]
     },
     "execution_count": 150,
     "metadata": {},
     "output_type": "execute_result"
    }
   ],
   "source": [
    "round(dis['number_of_ideas'].describe(),3)"
   ]
  },
  {
   "cell_type": "markdown",
   "metadata": {},
   "source": [
    "Histogram"
   ]
  },
  {
   "cell_type": "code",
   "execution_count": 151,
   "metadata": {},
   "outputs": [
    {
     "data": {
      "text/plain": [
       "<matplotlib.axes._subplots.AxesSubplot at 0x7ff50dd91588>"
      ]
     },
     "execution_count": 151,
     "metadata": {},
     "output_type": "execute_result"
    },
    {
     "data": {
      "image/png": "[encoded data removed]",
      "text/plain": [
       "<Figure size 576x396 with 1 Axes>"
      ]
     },
     "metadata": {},
     "output_type": "display_data"
    }
   ],
   "source": [
    "dis['number_of_ideas'].hist()"
   ]
  },
  {
   "cell_type": "markdown",
   "metadata": {},
   "source": [
    "#### Comments with both agreement and disagreement"
   ]
  },
  {
   "cell_type": "code",
   "execution_count": 152,
   "metadata": {},
   "outputs": [
    {
     "name": "stdout",
     "output_type": "stream",
     "text": [
      "There are 113 comments with both agreement and disagreement\n"
     ]
    }
   ],
   "source": [
    "both_dis_agg = dis_agg[(dis_agg['disagreement']==1)&(dis_agg['agreement']==1)]\n",
    "print(f'There are {both_dis_agg.shape[0]} comments with both agreement and disagreement')"
   ]
  },
  {
   "cell_type": "markdown",
   "metadata": {},
   "source": [
    "Descriptive stats regarding **`number of ideas`**"
   ]
  },
  {
   "cell_type": "code",
   "execution_count": 153,
   "metadata": {},
   "outputs": [
    {
     "data": {
      "text/plain": [
       "count    113.000\n",
       "mean       1.956\n",
       "std        1.003\n",
       "min        1.000\n",
       "25%        1.000\n",
       "50%        2.000\n",
       "75%        3.000\n",
       "max        5.000\n",
       "Name: number_of_ideas, dtype: float64"
      ]
     },
     "execution_count": 153,
     "metadata": {},
     "output_type": "execute_result"
    }
   ],
   "source": [
    "round(both_dis_agg['number_of_ideas'].describe(),3)"
   ]
  },
  {
   "cell_type": "markdown",
   "metadata": {},
   "source": [
    "Histogram"
   ]
  },
  {
   "cell_type": "code",
   "execution_count": 154,
   "metadata": {},
   "outputs": [
    {
     "data": {
      "text/plain": [
       "<matplotlib.axes._subplots.AxesSubplot at 0x7ff50de9e860>"
      ]
     },
     "execution_count": 154,
     "metadata": {},
     "output_type": "execute_result"
    },
    {
     "data": {
      "image/png": "[encoded data removed]",
      "text/plain": [
       "<Figure size 576x396 with 1 Axes>"
      ]
     },
     "metadata": {},
     "output_type": "display_data"
    }
   ],
   "source": [
    "both_dis_agg['number_of_ideas'].hist()"
   ]
  },
  {
   "cell_type": "markdown",
   "metadata": {},
   "source": [
    "### Analysis"
   ]
  },
  {
   "cell_type": "markdown",
   "metadata": {},
   "source": [
    "Given that the distributions of ideas in samples do not follow a normal distribution the non-parametric test [Kruskal-Wallis one-way ANOVA](https://en.wikipedia.org/wiki/Kruskal%E2%80%93Wallis_one-way_analysis_of_variance) is used."
   ]
  },
  {
   "cell_type": "code",
   "execution_count": 88,
   "metadata": {},
   "outputs": [],
   "source": [
    "stat, p_val = stats.kruskal(agg['number_of_ideas'], dis['number_of_ideas'], both_dis_agg['number_of_ideas'])"
   ]
  },
  {
   "cell_type": "code",
   "execution_count": 89,
   "metadata": {},
   "outputs": [
    {
     "name": "stdout",
     "output_type": "stream",
     "text": [
      "The difference in the number of ideas between sets is statistically significance, p-value=7.531022293909677e-07\n"
     ]
    }
   ],
   "source": [
    "if p_val < alpha_level:\n",
    "    print(f'The difference in the number of ideas between sets is statistically significance, p-value={p_val}')"
   ]
  },
  {
   "cell_type": "markdown",
   "metadata": {},
   "source": [
    "#### Post hoc Test"
   ]
  },
  {
   "cell_type": "markdown",
   "metadata": {},
   "source": [
    "To conduct the poshoc analysis, data need to be transformed."
   ]
  },
  {
   "cell_type": "code",
   "execution_count": 122,
   "metadata": {},
   "outputs": [],
   "source": [
    "posthoc_df = pd.DataFrame({\n",
    "    'group': np.repeat(['agg'], repeats=agg.shape[0]), \n",
    "    'number_of_ideas': agg['number_of_ideas']}\n",
    ")\n",
    "posthoc_df = posthoc_df.append(\n",
    "    pd.DataFrame({\n",
    "        'group': np.repeat(['dis'], repeats=dis.shape[0]), \n",
    "        'number_of_ideas': dis['number_of_ideas']})\n",
    ")\n",
    "posthoc_df = posthoc_df.append(\n",
    "    pd.DataFrame({\n",
    "        'group': np.repeat(['both_dis_agg'], repeats=both_dis_agg.shape[0]), \n",
    "        'number_of_ideas': both_dis_agg['number_of_ideas']\n",
    "    })\n",
    ")"
   ]
  },
  {
   "cell_type": "markdown",
   "metadata": {},
   "source": [
    "[Tukey test](https://en.wikipedia.org/wiki/Tukey%27s_range_test) is employed to find out which specific set's means (compared with each other) is statistically different."
   ]
  },
  {
   "cell_type": "code",
   "execution_count": 123,
   "metadata": {},
   "outputs": [],
   "source": [
    "tukey = pairwise_tukeyhsd(endog=posthoc_df['number_of_ideas'], groups=posthoc_df['group'], alpha=alpha_level)"
   ]
  },
  {
   "cell_type": "code",
   "execution_count": 124,
   "metadata": {},
   "outputs": [
    {
     "name": "stdout",
     "output_type": "stream",
     "text": [
      "      Multiple Comparison of Means - Tukey HSD, FWER=0.05       \n",
      "================================================================\n",
      "   group1       group2    meandiff p-adj   lower   upper  reject\n",
      "----------------------------------------------------------------\n",
      "         agg both_dis_agg   0.5997  0.001  0.2941  0.9053   True\n",
      "         agg          dis   0.1652 0.3451 -0.1133  0.4436  False\n",
      "both_dis_agg          dis  -0.4345 0.0014 -0.7257 -0.1434   True\n",
      "----------------------------------------------------------------\n"
     ]
    }
   ],
   "source": [
    "print(tukey)"
   ]
  },
  {
   "cell_type": "markdown",
   "metadata": {},
   "source": [
    "### Results"
   ]
  },
  {
   "cell_type": "markdown",
   "metadata": {},
   "source": [
    "Comments in which both disagreement and agreement are present show to have a statistically significant larger number of ideas than comments with only agreement. The same is true for comments with both disagreement and agreement and comments with only disagreement."
   ]
  },
  {
   "cell_type": "markdown",
   "metadata": {},
   "source": [
    "## 5. Analysis: Step 3"
   ]
  },
  {
   "cell_type": "markdown",
   "metadata": {},
   "source": [
    "In the third step of the analysis, it is studied how the type agreement and disagreement (simple, elaborated) influence the generation of ideas. In doing so, comments with only agreement are split in two sets, comments with only simple agreement and comments with only elaborated agreement. Similarly comments with only disagreement are divided. Comments with both agreement and disagreement are split in four sets, comments with both simple agreement and simple disagreement, comments with simple agreement and elaborated disagreement, comments with elaborated agreement and simple disagreement, and comments with elaborated agreement and elaborated disagreement. The mean of ideas in each set is compared and the statistical significance of the mean difference is evaluated."
   ]
  },
  {
   "cell_type": "markdown",
   "metadata": {},
   "source": [
    "### Define alpha level"
   ]
  },
  {
   "cell_type": "code",
   "execution_count": 58,
   "metadata": {},
   "outputs": [],
   "source": [
    "alpha_level = 0.05"
   ]
  },
  {
   "cell_type": "markdown",
   "metadata": {},
   "source": [
    "### Split dataset"
   ]
  },
  {
   "cell_type": "markdown",
   "metadata": {},
   "source": [
    "#### Comments with only simple agreement"
   ]
  },
  {
   "cell_type": "code",
   "execution_count": 130,
   "metadata": {},
   "outputs": [
    {
     "name": "stdout",
     "output_type": "stream",
     "text": [
      "There are 34 comments with only simple agreement\n"
     ]
    }
   ],
   "source": [
    "simple_agg = agg[(agg['simple_agreement']==1)&(agg['elaborated_agreement']==0)]\n",
    "print(f'There are {simple_agg.shape[0]} comments with only simple agreement')"
   ]
  },
  {
   "cell_type": "markdown",
   "metadata": {},
   "source": [
    "Descriptive stats regarding **`number of ideas`**"
   ]
  },
  {
   "cell_type": "code",
   "execution_count": 126,
   "metadata": {},
   "outputs": [
    {
     "data": {
      "text/plain": [
       "count    34.000\n",
       "mean      0.353\n",
       "std       0.597\n",
       "min       0.000\n",
       "25%       0.000\n",
       "50%       0.000\n",
       "75%       1.000\n",
       "max       2.000\n",
       "Name: number_of_ideas, dtype: float64"
      ]
     },
     "execution_count": 126,
     "metadata": {},
     "output_type": "execute_result"
    }
   ],
   "source": [
    "round(simple_agg['number_of_ideas'].describe(),3)"
   ]
  },
  {
   "cell_type": "markdown",
   "metadata": {},
   "source": [
    "Histogram"
   ]
  },
  {
   "cell_type": "code",
   "execution_count": 127,
   "metadata": {},
   "outputs": [
    {
     "data": {
      "text/plain": [
       "<matplotlib.axes._subplots.AxesSubplot at 0x7ff50d941c50>"
      ]
     },
     "execution_count": 127,
     "metadata": {},
     "output_type": "execute_result"
    },
    {
     "data": {
      "image/png": "[encoded data removed]",
      "text/plain": [
       "<Figure size 576x396 with 1 Axes>"
      ]
     },
     "metadata": {},
     "output_type": "display_data"
    }
   ],
   "source": [
    "simple_agg['number_of_ideas'].hist()"
   ]
  },
  {
   "cell_type": "markdown",
   "metadata": {},
   "source": [
    "#### Comments with only elaborated agreement"
   ]
  },
  {
   "cell_type": "code",
   "execution_count": 131,
   "metadata": {},
   "outputs": [
    {
     "name": "stdout",
     "output_type": "stream",
     "text": [
      "There are 98 comments with only elaborated agreement\n"
     ]
    }
   ],
   "source": [
    "elaborated_agg = agg[(agg['simple_agreement']==0)&(agg['elaborated_agreement']==1)]\n",
    "print(f'There are {elaborated_agg.shape[0]} comments with only elaborated agreement')"
   ]
  },
  {
   "cell_type": "markdown",
   "metadata": {},
   "source": [
    "Descriptive stats regarding **`number of ideas`**"
   ]
  },
  {
   "cell_type": "code",
   "execution_count": 134,
   "metadata": {},
   "outputs": [
    {
     "data": {
      "text/plain": [
       "count    98.000\n",
       "mean      1.704\n",
       "std       1.133\n",
       "min       1.000\n",
       "25%       1.000\n",
       "50%       1.000\n",
       "75%       2.000\n",
       "max       8.000\n",
       "Name: number_of_ideas, dtype: float64"
      ]
     },
     "execution_count": 134,
     "metadata": {},
     "output_type": "execute_result"
    }
   ],
   "source": [
    "round(elaborated_agg['number_of_ideas'].describe(),3)"
   ]
  },
  {
   "cell_type": "markdown",
   "metadata": {},
   "source": [
    "Histogram"
   ]
  },
  {
   "cell_type": "code",
   "execution_count": 135,
   "metadata": {},
   "outputs": [
    {
     "data": {
      "text/plain": [
       "<matplotlib.axes._subplots.AxesSubplot at 0x7ff50d9b7828>"
      ]
     },
     "execution_count": 135,
     "metadata": {},
     "output_type": "execute_result"
    },
    {
     "data": {
      "image/png": "[encoded data removed]",
      "text/plain": [
       "<Figure size 576x396 with 1 Axes>"
      ]
     },
     "metadata": {},
     "output_type": "display_data"
    }
   ],
   "source": [
    "elaborated_agg['number_of_ideas'].hist()"
   ]
  },
  {
   "cell_type": "markdown",
   "metadata": {},
   "source": [
    "#### Comments with only simple disagreement"
   ]
  },
  {
   "cell_type": "code",
   "execution_count": 136,
   "metadata": {},
   "outputs": [
    {
     "name": "stdout",
     "output_type": "stream",
     "text": [
      "There are 21 comments with only simple disagreement\n"
     ]
    }
   ],
   "source": [
    "simple_dis = dis[(dis['simple_disagreement']==1)&(dis['elaborated_disagreement']==0)]\n",
    "print(f'There are {simple_dis.shape[0]} comments with only simple disagreement')"
   ]
  },
  {
   "cell_type": "markdown",
   "metadata": {},
   "source": [
    "Descriptive stats regarding **`number of ideas`**"
   ]
  },
  {
   "cell_type": "code",
   "execution_count": 137,
   "metadata": {},
   "outputs": [
    {
     "data": {
      "text/plain": [
       "count    21.000\n",
       "mean      0.762\n",
       "std       0.436\n",
       "min       0.000\n",
       "25%       1.000\n",
       "50%       1.000\n",
       "75%       1.000\n",
       "max       1.000\n",
       "Name: number_of_ideas, dtype: float64"
      ]
     },
     "execution_count": 137,
     "metadata": {},
     "output_type": "execute_result"
    }
   ],
   "source": [
    "round(simple_dis['number_of_ideas'].describe(),3)"
   ]
  },
  {
   "cell_type": "markdown",
   "metadata": {},
   "source": [
    "Histogram"
   ]
  },
  {
   "cell_type": "code",
   "execution_count": 138,
   "metadata": {},
   "outputs": [
    {
     "data": {
      "text/plain": [
       "<matplotlib.axes._subplots.AxesSubplot at 0x7ff50d9ca4e0>"
      ]
     },
     "execution_count": 138,
     "metadata": {},
     "output_type": "execute_result"
    },
    {
     "data": {
      "image/png": "[encoded data removed]",
      "text/plain": [
       "<Figure size 576x396 with 1 Axes>"
      ]
     },
     "metadata": {},
     "output_type": "display_data"
    }
   ],
   "source": [
    "simple_dis['number_of_ideas'].hist()"
   ]
  },
  {
   "cell_type": "markdown",
   "metadata": {},
   "source": [
    "#### Comments with only elaborated disagreement"
   ]
  },
  {
   "cell_type": "code",
   "execution_count": 139,
   "metadata": {},
   "outputs": [
    {
     "name": "stdout",
     "output_type": "stream",
     "text": [
      "There are 144 comments with only elaborated disagreement\n"
     ]
    }
   ],
   "source": [
    "elaborated_dis = dis[(dis['simple_disagreement']==0)&(dis['elaborated_disagreement']==1)]\n",
    "print(f'There are {elaborated_dis.shape[0]} comments with only elaborated disagreement')"
   ]
  },
  {
   "cell_type": "markdown",
   "metadata": {},
   "source": [
    "Descriptive stats regarding **`number of ideas`**"
   ]
  },
  {
   "cell_type": "code",
   "execution_count": 140,
   "metadata": {},
   "outputs": [
    {
     "data": {
      "text/plain": [
       "count    144.000\n",
       "mean       1.632\n",
       "std        0.859\n",
       "min        0.000\n",
       "25%        1.000\n",
       "50%        1.000\n",
       "75%        2.000\n",
       "max        5.000\n",
       "Name: number_of_ideas, dtype: float64"
      ]
     },
     "execution_count": 140,
     "metadata": {},
     "output_type": "execute_result"
    }
   ],
   "source": [
    "round(elaborated_dis['number_of_ideas'].describe(),3)"
   ]
  },
  {
   "cell_type": "markdown",
   "metadata": {},
   "source": [
    "Histogram"
   ]
  },
  {
   "cell_type": "code",
   "execution_count": 141,
   "metadata": {},
   "outputs": [
    {
     "data": {
      "text/plain": [
       "<matplotlib.axes._subplots.AxesSubplot at 0x7ff50c3c94e0>"
      ]
     },
     "execution_count": 141,
     "metadata": {},
     "output_type": "execute_result"
    },
    {
     "data": {
      "image/png": "[encoded data removed]",
      "text/plain": [
       "<Figure size 576x396 with 1 Axes>"
      ]
     },
     "metadata": {},
     "output_type": "display_data"
    }
   ],
   "source": [
    "elaborated_dis['number_of_ideas'].hist()"
   ]
  },
  {
   "cell_type": "markdown",
   "metadata": {},
   "source": [
    "#### Comments with simple agreement and simple disagreement"
   ]
  },
  {
   "cell_type": "code",
   "execution_count": 143,
   "metadata": {},
   "outputs": [
    {
     "name": "stdout",
     "output_type": "stream",
     "text": [
      "There are 5 comments with simple agreement and simple disagreement\n"
     ]
    }
   ],
   "source": [
    "simple_dis_simple_agg = both_dis_agg[\n",
    "    (both_dis_agg['simple_disagreement']==1)&\n",
    "    (both_dis_agg['elaborated_disagreement']==0)&\n",
    "    (both_dis_agg['simple_agreement']==1)&\n",
    "    (both_dis_agg['elaborated_agreement']==0)\n",
    "]\n",
    "print(f'There are {simple_dis_simple_agg.shape[0]} comments with simple agreement and simple disagreement')"
   ]
  },
  {
   "cell_type": "markdown",
   "metadata": {},
   "source": [
    "Descriptive stats regarding **`number of ideas`**"
   ]
  },
  {
   "cell_type": "code",
   "execution_count": 145,
   "metadata": {},
   "outputs": [
    {
     "data": {
      "text/plain": [
       "count    5.000\n",
       "mean     1.200\n",
       "std      0.447\n",
       "min      1.000\n",
       "25%      1.000\n",
       "50%      1.000\n",
       "75%      1.000\n",
       "max      2.000\n",
       "Name: number_of_ideas, dtype: float64"
      ]
     },
     "execution_count": 145,
     "metadata": {},
     "output_type": "execute_result"
    }
   ],
   "source": [
    "round(simple_dis_simple_agg['number_of_ideas'].describe(),3)"
   ]
  },
  {
   "cell_type": "markdown",
   "metadata": {},
   "source": [
    "Histogram"
   ]
  },
  {
   "cell_type": "code",
   "execution_count": 146,
   "metadata": {},
   "outputs": [
    {
     "data": {
      "text/plain": [
       "<matplotlib.axes._subplots.AxesSubplot at 0x7ff50dafdf28>"
      ]
     },
     "execution_count": 146,
     "metadata": {},
     "output_type": "execute_result"
    },
    {
     "data": {
      "image/png": "[encoded data removed]",
      "text/plain": [
       "<Figure size 576x396 with 1 Axes>"
      ]
     },
     "metadata": {},
     "output_type": "display_data"
    }
   ],
   "source": [
    "simple_dis_simple_agg['number_of_ideas'].hist()"
   ]
  },
  {
   "cell_type": "markdown",
   "metadata": {},
   "source": [
    "#### Comments with simple agreement and elaborated disagreement"
   ]
  },
  {
   "cell_type": "code",
   "execution_count": 155,
   "metadata": {},
   "outputs": [
    {
     "name": "stdout",
     "output_type": "stream",
     "text": [
      "There are 15 comments with simple agreement and elaborated disagreement\n"
     ]
    }
   ],
   "source": [
    "elaborate_dis_simple_agg = both_dis_agg[\n",
    "    (both_dis_agg['simple_disagreement']==0)&\n",
    "    (both_dis_agg['elaborated_disagreement']==1)&\n",
    "    (both_dis_agg['simple_agreement']==1)&\n",
    "    (both_dis_agg['elaborated_agreement']==0)\n",
    "]\n",
    "print(f'There are {elaborate_dis_simple_agg.shape[0]} comments with simple agreement and elaborated disagreement')"
   ]
  },
  {
   "cell_type": "markdown",
   "metadata": {},
   "source": [
    "Descriptive stats regarding **`number of ideas`**"
   ]
  },
  {
   "cell_type": "code",
   "execution_count": 156,
   "metadata": {},
   "outputs": [
    {
     "data": {
      "text/plain": [
       "count    15.000\n",
       "mean      1.467\n",
       "std       0.743\n",
       "min       1.000\n",
       "25%       1.000\n",
       "50%       1.000\n",
       "75%       2.000\n",
       "max       3.000\n",
       "Name: number_of_ideas, dtype: float64"
      ]
     },
     "execution_count": 156,
     "metadata": {},
     "output_type": "execute_result"
    }
   ],
   "source": [
    "round(elaborate_dis_simple_agg['number_of_ideas'].describe(),3)"
   ]
  },
  {
   "cell_type": "markdown",
   "metadata": {},
   "source": [
    "Histogram"
   ]
  },
  {
   "cell_type": "code",
   "execution_count": 157,
   "metadata": {},
   "outputs": [
    {
     "data": {
      "text/plain": [
       "<matplotlib.axes._subplots.AxesSubplot at 0x7ff50dfc0978>"
      ]
     },
     "execution_count": 157,
     "metadata": {},
     "output_type": "execute_result"
    },
    {
     "data": {
      "image/png": "[encoded data removed]",
      "text/plain": [
       "<Figure size 576x396 with 1 Axes>"
      ]
     },
     "metadata": {},
     "output_type": "display_data"
    }
   ],
   "source": [
    "elaborate_dis_simple_agg['number_of_ideas'].hist()"
   ]
  },
  {
   "cell_type": "markdown",
   "metadata": {},
   "source": [
    "#### Comments with elaborated agreement and simple disagreement"
   ]
  },
  {
   "cell_type": "code",
   "execution_count": 158,
   "metadata": {},
   "outputs": [
    {
     "name": "stdout",
     "output_type": "stream",
     "text": [
      "There are 0 comments with elaborated agreement and simple disagreement\n"
     ]
    }
   ],
   "source": [
    "simple_dis_elaborate_agg = both_dis_agg[\n",
    "    (both_dis_agg['simple_disagreement']==1)&\n",
    "    (both_dis_agg['elaborated_disagreement']==0)&\n",
    "    (both_dis_agg['simple_agreement']==0)&\n",
    "    (both_dis_agg['elaborated_agreement']==1)\n",
    "]\n",
    "print(f'There are {simple_dis_elaborate_agg.shape[0]} comments with elaborated agreement and simple disagreement')"
   ]
  },
  {
   "cell_type": "markdown",
   "metadata": {},
   "source": [
    "#### Comments with elaborated agreement and elaborated disagreement"
   ]
  },
  {
   "cell_type": "code",
   "execution_count": 164,
   "metadata": {},
   "outputs": [
    {
     "name": "stdout",
     "output_type": "stream",
     "text": [
      "There are 93 comments with elaborated agreement and elaborated disagreement\n"
     ]
    }
   ],
   "source": [
    "elaborated_dis_elaborated_agg = both_dis_agg[\n",
    "    (both_dis_agg['simple_disagreement']==0)&\n",
    "    (both_dis_agg['elaborated_disagreement']==1)&\n",
    "    (both_dis_agg['simple_agreement']==0)&\n",
    "    (both_dis_agg['elaborated_agreement']==1)\n",
    "]\n",
    "print(f'There are {elaborated_dis_elaborated_agg.shape[0]} comments with elaborated agreement and elaborated disagreement')"
   ]
  },
  {
   "cell_type": "markdown",
   "metadata": {},
   "source": [
    "Descriptive stats regarding **`number of ideas`**"
   ]
  },
  {
   "cell_type": "code",
   "execution_count": 165,
   "metadata": {},
   "outputs": [
    {
     "data": {
      "text/plain": [
       "count    93.000\n",
       "mean      2.075\n",
       "std       1.024\n",
       "min       1.000\n",
       "25%       1.000\n",
       "50%       2.000\n",
       "75%       3.000\n",
       "max       5.000\n",
       "Name: number_of_ideas, dtype: float64"
      ]
     },
     "execution_count": 165,
     "metadata": {},
     "output_type": "execute_result"
    }
   ],
   "source": [
    "round(elaborated_dis_elaborated_agg['number_of_ideas'].describe(),3)"
   ]
  },
  {
   "cell_type": "markdown",
   "metadata": {},
   "source": [
    "Histogram"
   ]
  },
  {
   "cell_type": "code",
   "execution_count": 166,
   "metadata": {},
   "outputs": [
    {
     "data": {
      "text/plain": [
       "<matplotlib.axes._subplots.AxesSubplot at 0x7ff50e363438>"
      ]
     },
     "execution_count": 166,
     "metadata": {},
     "output_type": "execute_result"
    },
    {
     "data": {
      "image/png": "[encoded data removed]",
      "text/plain": [
       "<Figure size 576x396 with 1 Axes>"
      ]
     },
     "metadata": {},
     "output_type": "display_data"
    }
   ],
   "source": [
    "elaborated_dis_elaborated_agg['number_of_ideas'].hist()"
   ]
  },
  {
   "cell_type": "markdown",
   "metadata": {},
   "source": [
    "### Analysis"
   ]
  },
  {
   "cell_type": "markdown",
   "metadata": {},
   "source": [
    "Given that the distributions of ideas in samples do not follow a normal distribution the non-parametric test [Kruskal-Wallis one-way ANOVA](https://en.wikipedia.org/wiki/Kruskal%E2%80%93Wallis_one-way_analysis_of_variance) is used. Only the subgroup of comments featuring both elaborated disagreement and elaborated agreement was large enough to include in the analysis."
   ]
  },
  {
   "cell_type": "code",
   "execution_count": 167,
   "metadata": {},
   "outputs": [],
   "source": [
    "stat, p_val = stats.kruskal(\n",
    "    simple_agg['number_of_ideas'], \n",
    "    elaborated_agg['number_of_ideas'],\n",
    "    simple_dis['number_of_ideas'], \n",
    "    elaborated_dis['number_of_ideas'], \n",
    "    elaborated_dis_elaborated_agg['number_of_ideas']\n",
    ")"
   ]
  },
  {
   "cell_type": "code",
   "execution_count": 168,
   "metadata": {},
   "outputs": [
    {
     "name": "stdout",
     "output_type": "stream",
     "text": [
      "The difference in the number of ideas between sets is statistically significance, p-value=7.008980137452715e-21\n"
     ]
    }
   ],
   "source": [
    "if p_val < alpha_level:\n",
    "    print(f'The difference in the number of ideas between sets is statistically significance, p-value={p_val}')"
   ]
  },
  {
   "cell_type": "markdown",
   "metadata": {},
   "source": [
    "#### Post hoc Test"
   ]
  },
  {
   "cell_type": "markdown",
   "metadata": {},
   "source": [
    "To conduct the poshoc analysis, data need to be transformed."
   ]
  },
  {
   "cell_type": "code",
   "execution_count": 170,
   "metadata": {},
   "outputs": [],
   "source": [
    "posthoc_df = pd.DataFrame({\n",
    "    'group': np.repeat(['simple_agg'], repeats=simple_agg.shape[0]), \n",
    "    'number_of_ideas': simple_agg['number_of_ideas']}\n",
    ")\n",
    "posthoc_df = posthoc_df.append(\n",
    "    pd.DataFrame({\n",
    "        'group': np.repeat(['simple_dis'], repeats=simple_dis.shape[0]), \n",
    "        'number_of_ideas': simple_dis['number_of_ideas']})\n",
    ")\n",
    "posthoc_df = posthoc_df.append(\n",
    "    pd.DataFrame({\n",
    "        'group': np.repeat(['elaborated_agg'], repeats=elaborated_agg.shape[0]), \n",
    "        'number_of_ideas': elaborated_agg['number_of_ideas']})\n",
    ")\n",
    "posthoc_df = posthoc_df.append(\n",
    "    pd.DataFrame({\n",
    "        'group': np.repeat(['elaborated_dis'], repeats=elaborated_dis.shape[0]), \n",
    "        'number_of_ideas': elaborated_dis['number_of_ideas']})\n",
    ")\n",
    "posthoc_df = posthoc_df.append(\n",
    "    pd.DataFrame({\n",
    "        'group': np.repeat(['elaborated_dis_elaborated_agg'], repeats=elaborated_dis_elaborated_agg.shape[0]), \n",
    "        'number_of_ideas': elaborated_dis_elaborated_agg['number_of_ideas']\n",
    "    })\n",
    ")"
   ]
  },
  {
   "cell_type": "markdown",
   "metadata": {},
   "source": [
    "[Tukey test](https://en.wikipedia.org/wiki/Tukey%27s_range_test) is employed to find out which specific set's means (compared with each other) is statistically different."
   ]
  },
  {
   "cell_type": "code",
   "execution_count": 171,
   "metadata": {},
   "outputs": [],
   "source": [
    "tukey = pairwise_tukeyhsd(endog=posthoc_df['number_of_ideas'], groups=posthoc_df['group'], alpha=alpha_level)"
   ]
  },
  {
   "cell_type": "code",
   "execution_count": 172,
   "metadata": {},
   "outputs": [
    {
     "name": "stdout",
     "output_type": "stream",
     "text": [
      "                       Multiple Comparison of Means - Tukey HSD, FWER=0.05                        \n",
      "==================================================================================================\n",
      "            group1                        group2            meandiff p-adj   lower   upper  reject\n",
      "--------------------------------------------------------------------------------------------------\n",
      "               elaborated_agg                elaborated_dis  -0.0721    0.9 -0.4104  0.2661  False\n",
      "               elaborated_agg elaborated_dis_elaborated_agg   0.3712 0.0528 -0.0027  0.7451  False\n",
      "               elaborated_agg                    simple_agg  -1.3511  0.001 -1.8653  -0.837   True\n",
      "               elaborated_agg                    simple_dis  -0.9422  0.001 -1.5633  -0.321   True\n",
      "               elaborated_dis elaborated_dis_elaborated_agg   0.4433 0.0041  0.0997  0.7869   True\n",
      "               elaborated_dis                    simple_agg   -1.279  0.001 -1.7715 -0.7865   True\n",
      "               elaborated_dis                    simple_dis    -0.87  0.001 -1.4734 -0.2667   True\n",
      "elaborated_dis_elaborated_agg                    simple_agg  -1.7223  0.001   -2.24 -1.2047   True\n",
      "elaborated_dis_elaborated_agg                    simple_dis  -1.3134  0.001 -1.9374 -0.6893   True\n",
      "                   simple_agg                    simple_dis    0.409 0.5187 -0.3079  1.1259  False\n",
      "--------------------------------------------------------------------------------------------------\n"
     ]
    }
   ],
   "source": [
    "print(tukey)"
   ]
  },
  {
   "cell_type": "markdown",
   "metadata": {},
   "source": [
    "### Results"
   ]
  },
  {
   "cell_type": "markdown",
   "metadata": {},
   "source": [
    "Comments in which both elaborated disagreement and elaborated agreement are present show to have statistically significant larger number of ideas than comments with simple agreement, than comments with simple disagreemment, and than comments with elaborated disagreement. Comments with elaborated agreement have statistically significant larger number of ideas than comment with simple agreement and than comments with simple disagreement. Similarly, comment with elaborated disagreement have statistically significant larger number of ideas than comments simple agreement and than comments with simple disagreement.\n"
   ]
  }
 ],
 "metadata": {
  "kernelspec": {
   "display_name": "Python 3",
   "language": "python",
   "name": "python3"
  },
  "language_info": {
   "codemirror_mode": {
    "name": "ipython",
    "version": 3
   },
   "file_extension": ".py",
   "mimetype": "text/x-python",
   "name": "python",
   "nbconvert_exporter": "python",
   "pygments_lexer": "ipython3",
   "version": "3.6.5"
  }
 },
 "nbformat": 4,
 "nbformat_minor": 4
}
