{
 "cells": [
  {
   "cell_type": "markdown",
   "metadata": {},
   "source": [
    "# Disagreement in Crowdsourced Policymaking"
   ]
  },
  {
   "cell_type": "markdown",
   "metadata": {},
   "source": [
    "## Discursive features and idea generation"
   ]
  },
  {
   "cell_type": "markdown",
   "metadata": {},
   "source": [
    "This notebook contains the regression analysis conducted for the article *The Value of Disagreement in Crowdsourced Policymaking:Idea Generation Through Elaborated Perspectives*. Multivariate regression analysis is applied to explore how discursive features influence idea generation and to which extend."
   ]
  },
  {
   "cell_type": "markdown",
   "metadata": {},
   "source": [
    "## Content"
   ]
  },
  {
   "cell_type": "markdown",
   "metadata": {},
   "source": [
    "- [Load libraries](#0.-Load-libraries)\n",
    "- [Load data](#1.-Load-data)\n",
    "- [Preprocess data](#2.-Preprocess-data)\n",
    "- [Regression analysis](#3.-Regression-analysis)"
   ]
  },
  {
   "cell_type": "markdown",
   "metadata": {},
   "source": [
    "## 0. Load libraries"
   ]
  },
  {
   "cell_type": "code",
   "execution_count": 1,
   "metadata": {},
   "outputs": [],
   "source": [
    "import pandas as pd\n",
    "import numpy as np\n",
    "import matplotlib.pyplot as plt\n",
    "import statsmodels.api as sm\n",
    "from scipy import stats\n",
    "\n",
    "from collections import defaultdict\n",
    "from statsmodels.formula.api import glm, ols\n",
    "from statsmodels.stats.outliers_influence import variance_inflation_factor"
   ]
  },
  {
   "cell_type": "markdown",
   "metadata": {},
   "source": [
    "## 1. Load data"
   ]
  },
  {
   "cell_type": "markdown",
   "metadata": {},
   "source": [
    "Data is distributed in three data files, each representing a discussion topic."
   ]
  },
  {
   "cell_type": "markdown",
   "metadata": {},
   "source": [
    "### Topic: Member decision making and right"
   ]
  },
  {
   "cell_type": "code",
   "execution_count": 2,
   "metadata": {},
   "outputs": [
    {
     "name": "stdout",
     "output_type": "stream",
     "text": [
      "The dataset has 213 rows and 49 columns\n"
     ]
    }
   ],
   "source": [
    "member_df = pd.read_csv('data/member_decision_making_and_right.csv')\n",
    "print(f'The dataset has {member_df.shape[0]} rows and {member_df.shape[1]} columns')"
   ]
  },
  {
   "cell_type": "markdown",
   "metadata": {},
   "source": [
    "### Topic: Administration of an association"
   ]
  },
  {
   "cell_type": "code",
   "execution_count": 3,
   "metadata": {},
   "outputs": [
    {
     "name": "stdout",
     "output_type": "stream",
     "text": [
      "The dataset has 119 rows and 49 columns\n"
     ]
    }
   ],
   "source": [
    "admin_df = pd.read_csv('data/administration_of_association.csv')\n",
    "print(f'The dataset has {admin_df.shape[0]} rows and {admin_df.shape[1]} columns')"
   ]
  },
  {
   "cell_type": "markdown",
   "metadata": {},
   "source": [
    "### Topic: Informally organized groups of an association"
   ]
  },
  {
   "cell_type": "code",
   "execution_count": 4,
   "metadata": {},
   "outputs": [
    {
     "name": "stdout",
     "output_type": "stream",
     "text": [
      "The dataset has 159 rows and 51 columns\n"
     ]
    }
   ],
   "source": [
    "informal_df = pd.read_csv('data/informally_organized_group_of_a.csv')\n",
    "print(f'The dataset has {informal_df.shape[0]} rows and {informal_df.shape[1]} columns')"
   ]
  },
  {
   "cell_type": "markdown",
   "metadata": {},
   "source": [
    "## 2. Preprocess data"
   ]
  },
  {
   "cell_type": "markdown",
   "metadata": {},
   "source": [
    "### Normalize column names"
   ]
  },
  {
   "cell_type": "markdown",
   "metadata": {},
   "source": [
    "Put column names to lower case, replace spaces with underscore, delete leading and trailing spaces, and remove non alpha-numerical characters"
   ]
  },
  {
   "cell_type": "code",
   "execution_count": 5,
   "metadata": {},
   "outputs": [],
   "source": [
    "def normalize_column_names(names):\n",
    "    names = names.str.lower()\n",
    "    names = names.str.replace(' ','_')\n",
    "    names = names.str.replace('.','_')\n",
    "    names = names.str.replace('(','_')\n",
    "    names = names.str.replace(')','')\n",
    "    names = names.str.replace('/','_')\n",
    "    names = names.str.replace('___','_')\n",
    "    names = names.str.strip()\n",
    "    return names"
   ]
  },
  {
   "cell_type": "code",
   "execution_count": 6,
   "metadata": {},
   "outputs": [],
   "source": [
    "member_df.columns = normalize_column_names(member_df.columns)\n",
    "admin_df.columns = normalize_column_names(admin_df.columns)\n",
    "informal_df.columns = normalize_column_names(informal_df.columns)"
   ]
  },
  {
   "cell_type": "markdown",
   "metadata": {},
   "source": [
    "### Standarize column names"
   ]
  },
  {
   "cell_type": "markdown",
   "metadata": {},
   "source": [
    "Columns that contained the same information but have slightly different names are renamed for compatibility purposes"
   ]
  },
  {
   "cell_type": "code",
   "execution_count": 7,
   "metadata": {},
   "outputs": [],
   "source": [
    "member_df = member_df.rename(columns={\n",
    "    'annotations_for_disagreement_new_idea_cascade_s': 'annotations_for_disagreement_new_idea_cascades'\n",
    "})"
   ]
  },
  {
   "cell_type": "code",
   "execution_count": 8,
   "metadata": {},
   "outputs": [],
   "source": [
    "admin_df = admin_df.rename(columns={\n",
    "    'amount_of_likes': 'number_of_likes',\n",
    "    'comment\\'s_id': 'comment_id',\n",
    "    'proposal': 'proposals',    \n",
    "})"
   ]
  },
  {
   "cell_type": "code",
   "execution_count": 9,
   "metadata": {},
   "outputs": [],
   "source": [
    "informal_df = informal_df.rename(columns={\n",
    "    'annotations_for_disagreement_new_idea_cascade_s': 'annotations_for_disagreement_new_idea_cascades',\n",
    "    'proposal': 'proposals'\n",
    "})"
   ]
  },
  {
   "cell_type": "markdown",
   "metadata": {},
   "source": [
    "### Merge datasets in one dataframe"
   ]
  },
  {
   "cell_type": "markdown",
   "metadata": {},
   "source": [
    "Add an extra column to indicate the discussion topic"
   ]
  },
  {
   "cell_type": "code",
   "execution_count": 10,
   "metadata": {},
   "outputs": [],
   "source": [
    "member_df['topic'] = 'member'\n",
    "admin_df['topic'] = 'admin'\n",
    "informal_df['topic'] = 'informal'"
   ]
  },
  {
   "cell_type": "markdown",
   "metadata": {},
   "source": [
    "#### Merge datasets"
   ]
  },
  {
   "cell_type": "code",
   "execution_count": 11,
   "metadata": {},
   "outputs": [
    {
     "name": "stdout",
     "output_type": "stream",
     "text": [
      "The merged dataset has 491 rows and 53 columns\n"
     ]
    }
   ],
   "source": [
    "all_df = pd.concat([member_df, admin_df, informal_df], axis=0, ignore_index=True)\n",
    "print(f'The merged dataset has {all_df.shape[0]} rows and {all_df.shape[1]} columns')"
   ]
  },
  {
   "cell_type": "markdown",
   "metadata": {},
   "source": [
    "### Remove columns containing text in Finnish"
   ]
  },
  {
   "cell_type": "markdown",
   "metadata": {},
   "source": [
    "Text of comments and responses are both in Finnish and English. Columns `comment` and `response` that contain text in Finnish are removed because they will not be considered in this analysis."
   ]
  },
  {
   "cell_type": "code",
   "execution_count": 12,
   "metadata": {},
   "outputs": [],
   "source": [
    "all_df = all_df.drop(['comment', 'response'], axis=1)"
   ]
  },
  {
   "cell_type": "markdown",
   "metadata": {},
   "source": [
    "Columns `comment_1` and `response_1` are renamed removing `_1` from their names"
   ]
  },
  {
   "cell_type": "code",
   "execution_count": 13,
   "metadata": {},
   "outputs": [],
   "source": [
    "all_df = all_df.rename(columns={'comment_1': 'comment', 'response_1': 'response'})"
   ]
  },
  {
   "cell_type": "markdown",
   "metadata": {},
   "source": [
    "### Check null values"
   ]
  },
  {
   "cell_type": "markdown",
   "metadata": {},
   "source": [
    "Check the number of null values by columns"
   ]
  },
  {
   "cell_type": "code",
   "execution_count": 14,
   "metadata": {},
   "outputs": [
    {
     "data": {
      "text/plain": [
       "background                                          3\n",
       "proposals                                           3\n",
       "time                                                3\n",
       "user_id                                             3\n",
       "comment_id                                        346\n",
       "response_id                                       148\n",
       "number_of_likes                                     0\n",
       "users_who_liked                                   263\n",
       "attachments                                       491\n",
       "comment                                           348\n",
       "response                                          146\n",
       "topic_1                                             4\n",
       "topic_2                                           147\n",
       "topic_3                                           358\n",
       "disagreement                                        0\n",
       "agreement                                           0\n",
       "simple_disagreement                                 0\n",
       "elaborated_disagreement                             0\n",
       "simple_agreement                                    0\n",
       "elaborated_agreement                                0\n",
       "idea_s                                             37\n",
       "number_of_ideas                                     1\n",
       "new_idea                                            0\n",
       "sourcing                                          330\n",
       "value_s                                           340\n",
       "topic_shift                                         0\n",
       "brainstorming                                       0\n",
       "blending                                            0\n",
       "building                                            0\n",
       "broadening                                          0\n",
       "fact                                                0\n",
       "value                                               0\n",
       "policy                                              0\n",
       "interpretation                                      0\n",
       "target_of_disagreement                            209\n",
       "target_of_agreement                               239\n",
       "gives_reason_s                                      0\n",
       "presents_evidence                                   0\n",
       "asks_question_s                                     0\n",
       "provides_information                                0\n",
       "clarifies_position_stance                           0\n",
       "responds_to_previous_comment                        0\n",
       "constructive_tone                                   0\n",
       "moderator_post                                      0\n",
       "acknowledges_problem                                0\n",
       "notes                                             398\n",
       "annotations_for_disagreement_new_idea_cascades    454\n",
       "topic                                               0\n",
       "irrpolicy                                         486\n",
       "irrinterpretation                                 486\n",
       "irrconstructive_tone                              486\n",
       "dtype: int64"
      ]
     },
     "execution_count": 14,
     "metadata": {},
     "output_type": "execute_result"
    }
   ],
   "source": [
    "all_df.isnull().sum()"
   ]
  },
  {
   "cell_type": "markdown",
   "metadata": {},
   "source": [
    "### Remove summary rows"
   ]
  },
  {
   "cell_type": "markdown",
   "metadata": {},
   "source": [
    "Remove rows that contain summaries. They are identified by having a null value in the column background."
   ]
  },
  {
   "cell_type": "code",
   "execution_count": 15,
   "metadata": {},
   "outputs": [
    {
     "name": "stdout",
     "output_type": "stream",
     "text": [
      "Data set size after removing summary rows. Rows: 488, Columns: 51\n"
     ]
    }
   ],
   "source": [
    "idxs_to_remove = all_df[all_df.background.isnull()].index.values\n",
    "all_df = all_df.drop(index=idxs_to_remove)\n",
    "print(f'Data set size after removing summary rows. Rows: {all_df.shape[0]}, Columns: {all_df.shape[1]}')"
   ]
  },
  {
   "cell_type": "markdown",
   "metadata": {},
   "source": [
    "### Fix errors in variables"
   ]
  },
  {
   "cell_type": "markdown",
   "metadata": {},
   "source": [
    "There were labeling errors in the rows `336` and `310`; they are fixed below"
   ]
  },
  {
   "cell_type": "code",
   "execution_count": 16,
   "metadata": {},
   "outputs": [],
   "source": [
    "all_df.loc[336, 'simple_agreement'] = 0\n",
    "all_df.loc[310, 'elaborated_agreement'] = 1"
   ]
  },
  {
   "cell_type": "markdown",
   "metadata": {},
   "source": [
    "### Fix values in the column `number_of_ideas`"
   ]
  },
  {
   "cell_type": "code",
   "execution_count": 17,
   "metadata": {},
   "outputs": [],
   "source": [
    "all_df.loc[all_df['number_of_ideas']=='unclear', 'number_of_ideas'] = 0\n",
    "all_df.loc[all_df['number_of_ideas'].isna(), 'number_of_ideas'] = 0\n",
    "all_df['number_of_ideas'] = pd.to_numeric(all_df['number_of_ideas'], downcast='unsigned')"
   ]
  },
  {
   "cell_type": "markdown",
   "metadata": {},
   "source": [
    "### Set value `unclear` of column `gives_reason_s` to `0`"
   ]
  },
  {
   "cell_type": "code",
   "execution_count": 18,
   "metadata": {},
   "outputs": [],
   "source": [
    "all_df.loc[all_df['gives_reason_s']=='unclear', 'gives_reason_s'] = '0'"
   ]
  },
  {
   "cell_type": "markdown",
   "metadata": {},
   "source": [
    "### Show final columns"
   ]
  },
  {
   "cell_type": "code",
   "execution_count": 19,
   "metadata": {},
   "outputs": [
    {
     "data": {
      "text/plain": [
       "Index(['background', 'proposals', 'time', 'user_id', 'comment_id',\n",
       "       'response_id', 'number_of_likes', 'users_who_liked', 'attachments',\n",
       "       'comment', 'response', 'topic_1', 'topic_2', 'topic_3', 'disagreement',\n",
       "       'agreement', 'simple_disagreement', 'elaborated_disagreement',\n",
       "       'simple_agreement', 'elaborated_agreement', 'idea_s', 'number_of_ideas',\n",
       "       'new_idea', 'sourcing', 'value_s', 'topic_shift', 'brainstorming',\n",
       "       'blending', 'building', 'broadening', 'fact', 'value', 'policy',\n",
       "       'interpretation', 'target_of_disagreement', 'target_of_agreement',\n",
       "       'gives_reason_s', 'presents_evidence', 'asks_question_s',\n",
       "       'provides_information', 'clarifies_position_stance',\n",
       "       'responds_to_previous_comment', 'constructive_tone', 'moderator_post',\n",
       "       'acknowledges_problem', 'notes',\n",
       "       'annotations_for_disagreement_new_idea_cascades', 'topic', 'irrpolicy',\n",
       "       'irrinterpretation', 'irrconstructive_tone'],\n",
       "      dtype='object')"
      ]
     },
     "execution_count": 19,
     "metadata": {},
     "output_type": "execute_result"
    }
   ],
   "source": [
    "all_df.columns"
   ]
  },
  {
   "cell_type": "markdown",
   "metadata": {},
   "source": [
    "### Show a small sample"
   ]
  },
  {
   "cell_type": "code",
   "execution_count": 20,
   "metadata": {},
   "outputs": [
    {
     "data": {
      "text/html": [
       "<div>\n",
       "<style scoped>\n",
       "    .dataframe tbody tr th:only-of-type {\n",
       "        vertical-align: middle;\n",
       "    }\n",
       "\n",
       "    .dataframe tbody tr th {\n",
       "        vertical-align: top;\n",
       "    }\n",
       "\n",
       "    .dataframe thead th {\n",
       "        text-align: right;\n",
       "    }\n",
       "</style>\n",
       "<table border=\"1\" class=\"dataframe\">\n",
       "  <thead>\n",
       "    <tr style=\"text-align: right;\">\n",
       "      <th></th>\n",
       "      <th>background</th>\n",
       "      <th>proposals</th>\n",
       "      <th>time</th>\n",
       "      <th>user_id</th>\n",
       "      <th>comment_id</th>\n",
       "      <th>response_id</th>\n",
       "      <th>number_of_likes</th>\n",
       "      <th>users_who_liked</th>\n",
       "      <th>attachments</th>\n",
       "      <th>comment</th>\n",
       "      <th>...</th>\n",
       "      <th>responds_to_previous_comment</th>\n",
       "      <th>constructive_tone</th>\n",
       "      <th>moderator_post</th>\n",
       "      <th>acknowledges_problem</th>\n",
       "      <th>notes</th>\n",
       "      <th>annotations_for_disagreement_new_idea_cascades</th>\n",
       "      <th>topic</th>\n",
       "      <th>irrpolicy</th>\n",
       "      <th>irrinterpretation</th>\n",
       "      <th>irrconstructive_tone</th>\n",
       "    </tr>\n",
       "  </thead>\n",
       "  <tbody>\n",
       "    <tr>\n",
       "      <th>0</th>\n",
       "      <td>Members’ decision-making and rights\\n\\nIn this...</td>\n",
       "      <td>Proposal: Allow association members’ decision-...</td>\n",
       "      <td>2019-05-29T06:46:24+00:00</td>\n",
       "      <td>5cee25de2878cf678e79d737</td>\n",
       "      <td>5cee2ac02878cf4c8d260521</td>\n",
       "      <td>NaN</td>\n",
       "      <td>1</td>\n",
       "      <td>nina-laakso@luukku.com</td>\n",
       "      <td>NaN</td>\n",
       "      <td>Association members’ decision-making, access t...</td>\n",
       "      <td>...</td>\n",
       "      <td>0</td>\n",
       "      <td>1</td>\n",
       "      <td>1</td>\n",
       "      <td>0</td>\n",
       "      <td>NaN</td>\n",
       "      <td>NaN</td>\n",
       "      <td>member</td>\n",
       "      <td>NaN</td>\n",
       "      <td>NaN</td>\n",
       "      <td>NaN</td>\n",
       "    </tr>\n",
       "    <tr>\n",
       "      <th>1</th>\n",
       "      <td>Members’ decision-making and rights\\n\\nIn this...</td>\n",
       "      <td>Proposal: Allow association members’ decision-...</td>\n",
       "      <td>2019-06-04T07:08:18+00:00</td>\n",
       "      <td>5cf60f17d8f1250a070160ee</td>\n",
       "      <td>NaN</td>\n",
       "      <td>5cf618e22878cf073b0eafca</td>\n",
       "      <td>1</td>\n",
       "      <td>karin.rinne@netti.fi</td>\n",
       "      <td>NaN</td>\n",
       "      <td>NaN</td>\n",
       "      <td>...</td>\n",
       "      <td>1</td>\n",
       "      <td>1</td>\n",
       "      <td>0</td>\n",
       "      <td>0</td>\n",
       "      <td>NaN</td>\n",
       "      <td>NaN</td>\n",
       "      <td>member</td>\n",
       "      <td>NaN</td>\n",
       "      <td>NaN</td>\n",
       "      <td>NaN</td>\n",
       "    </tr>\n",
       "    <tr>\n",
       "      <th>2</th>\n",
       "      <td>Members’ decision-making and rights\\n\\nIn this...</td>\n",
       "      <td>Proposal: Allow association members’ decision-...</td>\n",
       "      <td>2019-06-04T10:39:32+00:00</td>\n",
       "      <td>5cf6379534204f3a8d121027</td>\n",
       "      <td>NaN</td>\n",
       "      <td>5cf64a64d8f1253e5a242b5b</td>\n",
       "      <td>0</td>\n",
       "      <td>NaN</td>\n",
       "      <td>NaN</td>\n",
       "      <td>NaN</td>\n",
       "      <td>...</td>\n",
       "      <td>1</td>\n",
       "      <td>1</td>\n",
       "      <td>0</td>\n",
       "      <td>0</td>\n",
       "      <td>NaN</td>\n",
       "      <td>NaN</td>\n",
       "      <td>member</td>\n",
       "      <td>NaN</td>\n",
       "      <td>NaN</td>\n",
       "      <td>NaN</td>\n",
       "    </tr>\n",
       "    <tr>\n",
       "      <th>3</th>\n",
       "      <td>Members’ decision-making and rights\\n\\nIn this...</td>\n",
       "      <td>Proposal: Allow association members’ decision-...</td>\n",
       "      <td>2019-06-04T11:34:33+00:00</td>\n",
       "      <td>5cf63071d8f12537d5632b3e</td>\n",
       "      <td>NaN</td>\n",
       "      <td>5cf657492878cf36b01b767b</td>\n",
       "      <td>0</td>\n",
       "      <td>NaN</td>\n",
       "      <td>NaN</td>\n",
       "      <td>NaN</td>\n",
       "      <td>...</td>\n",
       "      <td>1</td>\n",
       "      <td>1</td>\n",
       "      <td>0</td>\n",
       "      <td>1</td>\n",
       "      <td>NaN</td>\n",
       "      <td>NaN</td>\n",
       "      <td>member</td>\n",
       "      <td>NaN</td>\n",
       "      <td>NaN</td>\n",
       "      <td>NaN</td>\n",
       "    </tr>\n",
       "    <tr>\n",
       "      <th>4</th>\n",
       "      <td>Members’ decision-making and rights\\n\\nIn this...</td>\n",
       "      <td>Proposal: Allow association members’ decision-...</td>\n",
       "      <td>2019-06-04T12:44:16+00:00</td>\n",
       "      <td>5cee2ce1d8f125593074aeeb</td>\n",
       "      <td>NaN</td>\n",
       "      <td>5cf667a034204f5af1758bd9</td>\n",
       "      <td>2</td>\n",
       "      <td>valtteri.tervala@vanhempainliitto.fi,tanja.sal...</td>\n",
       "      <td>NaN</td>\n",
       "      <td>NaN</td>\n",
       "      <td>...</td>\n",
       "      <td>1</td>\n",
       "      <td>1</td>\n",
       "      <td>1</td>\n",
       "      <td>0</td>\n",
       "      <td>NaN</td>\n",
       "      <td>NaN</td>\n",
       "      <td>member</td>\n",
       "      <td>NaN</td>\n",
       "      <td>NaN</td>\n",
       "      <td>NaN</td>\n",
       "    </tr>\n",
       "  </tbody>\n",
       "</table>\n",
       "<p>5 rows × 51 columns</p>\n",
       "</div>"
      ],
      "text/plain": [
       "                                          background  \\\n",
       "0  Members’ decision-making and rights\\n\\nIn this...   \n",
       "1  Members’ decision-making and rights\\n\\nIn this...   \n",
       "2  Members’ decision-making and rights\\n\\nIn this...   \n",
       "3  Members’ decision-making and rights\\n\\nIn this...   \n",
       "4  Members’ decision-making and rights\\n\\nIn this...   \n",
       "\n",
       "                                           proposals  \\\n",
       "0  Proposal: Allow association members’ decision-...   \n",
       "1  Proposal: Allow association members’ decision-...   \n",
       "2  Proposal: Allow association members’ decision-...   \n",
       "3  Proposal: Allow association members’ decision-...   \n",
       "4  Proposal: Allow association members’ decision-...   \n",
       "\n",
       "                        time                   user_id  \\\n",
       "0  2019-05-29T06:46:24+00:00  5cee25de2878cf678e79d737   \n",
       "1  2019-06-04T07:08:18+00:00  5cf60f17d8f1250a070160ee   \n",
       "2  2019-06-04T10:39:32+00:00  5cf6379534204f3a8d121027   \n",
       "3  2019-06-04T11:34:33+00:00  5cf63071d8f12537d5632b3e   \n",
       "4  2019-06-04T12:44:16+00:00  5cee2ce1d8f125593074aeeb   \n",
       "\n",
       "                 comment_id               response_id  number_of_likes  \\\n",
       "0  5cee2ac02878cf4c8d260521                       NaN                1   \n",
       "1                       NaN  5cf618e22878cf073b0eafca                1   \n",
       "2                       NaN  5cf64a64d8f1253e5a242b5b                0   \n",
       "3                       NaN  5cf657492878cf36b01b767b                0   \n",
       "4                       NaN  5cf667a034204f5af1758bd9                2   \n",
       "\n",
       "                                     users_who_liked  attachments  \\\n",
       "0                             nina-laakso@luukku.com          NaN   \n",
       "1                               karin.rinne@netti.fi          NaN   \n",
       "2                                                NaN          NaN   \n",
       "3                                                NaN          NaN   \n",
       "4  valtteri.tervala@vanhempainliitto.fi,tanja.sal...          NaN   \n",
       "\n",
       "                                             comment  ...  \\\n",
       "0  Association members’ decision-making, access t...  ...   \n",
       "1                                                NaN  ...   \n",
       "2                                                NaN  ...   \n",
       "3                                                NaN  ...   \n",
       "4                                                NaN  ...   \n",
       "\n",
       "  responds_to_previous_comment constructive_tone moderator_post  \\\n",
       "0                            0                 1              1   \n",
       "1                            1                 1              0   \n",
       "2                            1                 1              0   \n",
       "3                            1                 1              0   \n",
       "4                            1                 1              1   \n",
       "\n",
       "  acknowledges_problem  notes  annotations_for_disagreement_new_idea_cascades  \\\n",
       "0                    0    NaN                                             NaN   \n",
       "1                    0    NaN                                             NaN   \n",
       "2                    0    NaN                                             NaN   \n",
       "3                    1    NaN                                             NaN   \n",
       "4                    0    NaN                                             NaN   \n",
       "\n",
       "    topic  irrpolicy  irrinterpretation  irrconstructive_tone  \n",
       "0  member        NaN                NaN                   NaN  \n",
       "1  member        NaN                NaN                   NaN  \n",
       "2  member        NaN                NaN                   NaN  \n",
       "3  member        NaN                NaN                   NaN  \n",
       "4  member        NaN                NaN                   NaN  \n",
       "\n",
       "[5 rows x 51 columns]"
      ]
     },
     "execution_count": 20,
     "metadata": {},
     "output_type": "execute_result"
    }
   ],
   "source": [
    "all_df.head()"
   ]
  },
  {
   "cell_type": "markdown",
   "metadata": {},
   "source": [
    "### Show final dataset dimesion"
   ]
  },
  {
   "cell_type": "code",
   "execution_count": 21,
   "metadata": {},
   "outputs": [
    {
     "name": "stdout",
     "output_type": "stream",
     "text": [
      "The final dataset has a dimension of 488 rows and 51 columns\n"
     ]
    }
   ],
   "source": [
    "print(f'The final dataset has a dimension of {all_df.shape[0]} rows and {all_df.shape[1]} columns')"
   ]
  },
  {
   "cell_type": "markdown",
   "metadata": {},
   "source": [
    "## 3. Regression analysis"
   ]
  },
  {
   "cell_type": "markdown",
   "metadata": {},
   "source": [
    "### Select variables"
   ]
  },
  {
   "cell_type": "markdown",
   "metadata": {},
   "source": [
    "Variable selection is based on the literature and goals of the paper."
   ]
  },
  {
   "cell_type": "code",
   "execution_count": 22,
   "metadata": {},
   "outputs": [
    {
     "name": "stdout",
     "output_type": "stream",
     "text": [
      "In total 9 independent variables will be considered in the analysis\n"
     ]
    }
   ],
   "source": [
    "independent_vars = ['constructive_tone', 'responds_to_previous_comment', 'acknowledges_problem', \n",
    "                    'topic_shift', 'asks_question_s', 'clarifies_position_stance', 'provides_information',\n",
    "                    'gives_reason_s', 'presents_evidence']\n",
    "print(f\"In total {len(independent_vars)} independent variables will be considered in the analysis\")"
   ]
  },
  {
   "cell_type": "markdown",
   "metadata": {},
   "source": [
    "Select columns that include independent and dependent variables"
   ]
  },
  {
   "cell_type": "code",
   "execution_count": 23,
   "metadata": {},
   "outputs": [
    {
     "name": "stdout",
     "output_type": "stream",
     "text": [
      "The analysis is conducted with a dataset composed of 488 rows and 10 columns\n"
     ]
    }
   ],
   "source": [
    "analysis_df = all_df.loc[:,independent_vars + ['number_of_ideas']]\n",
    "print(f\"The analysis is conducted with a dataset composed of \" \\\n",
    "      f\"{analysis_df.shape[0]} rows and {analysis_df.shape[1]} columns\")"
   ]
  },
  {
   "cell_type": "markdown",
   "metadata": {},
   "source": [
    "### Fix inconsistencies"
   ]
  },
  {
   "cell_type": "code",
   "execution_count": 29,
   "metadata": {},
   "outputs": [],
   "source": [
    "analysis_df[analysis_df['acknowledges_problem']=='unclear'] = 0"
   ]
  },
  {
   "cell_type": "code",
   "execution_count": 31,
   "metadata": {},
   "outputs": [],
   "source": [
    "analysis_df[analysis_df['provides_information']=='unclear'] = 0"
   ]
  },
  {
   "cell_type": "markdown",
   "metadata": {},
   "source": [
    "### Cast variables to numeric"
   ]
  },
  {
   "cell_type": "markdown",
   "metadata": {},
   "source": [
    "Before modeling data, it is required to ensure that independent variables are not correlated. Varince Inflation Factor (VIF) is the most common method used to detect multicollinearity (or variables independence). The python implementation of VIF requires the variables to be numeric. Here, the independent variables are casted to numeric."
   ]
  },
  {
   "cell_type": "code",
   "execution_count": 24,
   "metadata": {},
   "outputs": [
    {
     "data": {
      "text/plain": [
       "Index(['constructive_tone', 'responds_to_previous_comment',\n",
       "       'acknowledges_problem', 'topic_shift', 'asks_question_s',\n",
       "       'clarifies_position_stance', 'provides_information', 'gives_reason_s',\n",
       "       'presents_evidence', 'number_of_ideas'],\n",
       "      dtype='object')"
      ]
     },
     "execution_count": 24,
     "metadata": {},
     "output_type": "execute_result"
    }
   ],
   "source": [
    "analysis_df.columns"
   ]
  },
  {
   "cell_type": "code",
   "execution_count": 32,
   "metadata": {},
   "outputs": [
    {
     "data": {
      "text/html": [
       "<div>\n",
       "<style scoped>\n",
       "    .dataframe tbody tr th:only-of-type {\n",
       "        vertical-align: middle;\n",
       "    }\n",
       "\n",
       "    .dataframe tbody tr th {\n",
       "        vertical-align: top;\n",
       "    }\n",
       "\n",
       "    .dataframe thead th {\n",
       "        text-align: right;\n",
       "    }\n",
       "</style>\n",
       "<table border=\"1\" class=\"dataframe\">\n",
       "  <thead>\n",
       "    <tr style=\"text-align: right;\">\n",
       "      <th></th>\n",
       "      <th>constructive_tone</th>\n",
       "      <th>responds_to_previous_comment</th>\n",
       "      <th>acknowledges_problem</th>\n",
       "      <th>topic_shift</th>\n",
       "      <th>asks_question_s</th>\n",
       "      <th>clarifies_position_stance</th>\n",
       "      <th>provides_information</th>\n",
       "      <th>gives_reason_s</th>\n",
       "      <th>presents_evidence</th>\n",
       "      <th>number_of_ideas</th>\n",
       "    </tr>\n",
       "  </thead>\n",
       "  <tbody>\n",
       "  </tbody>\n",
       "</table>\n",
       "</div>"
      ],
      "text/plain": [
       "Empty DataFrame\n",
       "Columns: [constructive_tone, responds_to_previous_comment, acknowledges_problem, topic_shift, asks_question_s, clarifies_position_stance, provides_information, gives_reason_s, presents_evidence, number_of_ideas]\n",
       "Index: []"
      ]
     },
     "execution_count": 32,
     "metadata": {},
     "output_type": "execute_result"
    }
   ],
   "source": [
    "analysis_df[analysis_df['gives_reason_s']=='unclear']"
   ]
  },
  {
   "cell_type": "code",
   "execution_count": 33,
   "metadata": {},
   "outputs": [],
   "source": [
    "analysis_df = analysis_df.apply(pd.to_numeric)"
   ]
  },
  {
   "cell_type": "markdown",
   "metadata": {},
   "source": [
    "### Check for multicollinearity"
   ]
  },
  {
   "cell_type": "markdown",
   "metadata": {},
   "source": [
    "In general, values above 5 indicate high multicollinearity."
   ]
  },
  {
   "cell_type": "code",
   "execution_count": 34,
   "metadata": {},
   "outputs": [
    {
     "data": {
      "text/html": [
       "<div>\n",
       "<style scoped>\n",
       "    .dataframe tbody tr th:only-of-type {\n",
       "        vertical-align: middle;\n",
       "    }\n",
       "\n",
       "    .dataframe tbody tr th {\n",
       "        vertical-align: top;\n",
       "    }\n",
       "\n",
       "    .dataframe thead th {\n",
       "        text-align: right;\n",
       "    }\n",
       "</style>\n",
       "<table border=\"1\" class=\"dataframe\">\n",
       "  <thead>\n",
       "    <tr style=\"text-align: right;\">\n",
       "      <th></th>\n",
       "      <th>Variable</th>\n",
       "      <th>VIF</th>\n",
       "    </tr>\n",
       "  </thead>\n",
       "  <tbody>\n",
       "    <tr>\n",
       "      <th>0</th>\n",
       "      <td>constructive_tone</td>\n",
       "      <td>8.019988</td>\n",
       "    </tr>\n",
       "    <tr>\n",
       "      <th>1</th>\n",
       "      <td>responds_to_previous_comment</td>\n",
       "      <td>5.198898</td>\n",
       "    </tr>\n",
       "    <tr>\n",
       "      <th>2</th>\n",
       "      <td>acknowledges_problem</td>\n",
       "      <td>2.107215</td>\n",
       "    </tr>\n",
       "    <tr>\n",
       "      <th>3</th>\n",
       "      <td>topic_shift</td>\n",
       "      <td>1.576782</td>\n",
       "    </tr>\n",
       "    <tr>\n",
       "      <th>4</th>\n",
       "      <td>asks_question_s</td>\n",
       "      <td>1.340329</td>\n",
       "    </tr>\n",
       "    <tr>\n",
       "      <th>5</th>\n",
       "      <td>clarifies_position_stance</td>\n",
       "      <td>1.273552</td>\n",
       "    </tr>\n",
       "    <tr>\n",
       "      <th>6</th>\n",
       "      <td>provides_information</td>\n",
       "      <td>1.081606</td>\n",
       "    </tr>\n",
       "    <tr>\n",
       "      <th>7</th>\n",
       "      <td>gives_reason_s</td>\n",
       "      <td>4.259415</td>\n",
       "    </tr>\n",
       "    <tr>\n",
       "      <th>8</th>\n",
       "      <td>presents_evidence</td>\n",
       "      <td>1.128076</td>\n",
       "    </tr>\n",
       "  </tbody>\n",
       "</table>\n",
       "</div>"
      ],
      "text/plain": [
       "                       Variable       VIF\n",
       "0             constructive_tone  8.019988\n",
       "1  responds_to_previous_comment  5.198898\n",
       "2          acknowledges_problem  2.107215\n",
       "3                   topic_shift  1.576782\n",
       "4               asks_question_s  1.340329\n",
       "5     clarifies_position_stance  1.273552\n",
       "6          provides_information  1.081606\n",
       "7                gives_reason_s  4.259415\n",
       "8             presents_evidence  1.128076"
      ]
     },
     "execution_count": 34,
     "metadata": {},
     "output_type": "execute_result"
    }
   ],
   "source": [
    "vif = pd.DataFrame()\n",
    "vif[\"Variable\"] = analysis_df[independent_vars].columns\n",
    "vif[\"VIF\"] = [variance_inflation_factor(analysis_df[independent_vars].values, i) \n",
    "              for i in range(analysis_df[independent_vars].shape[1])]\n",
    "vif"
   ]
  },
  {
   "cell_type": "markdown",
   "metadata": {},
   "source": [
    "Variables `constructive_tone` and `responds_to_previous_comments` show to have high multicollineratity so they should be removed from the set of independent variables."
   ]
  },
  {
   "cell_type": "markdown",
   "metadata": {},
   "source": [
    "### Remove not independent variables"
   ]
  },
  {
   "cell_type": "code",
   "execution_count": 36,
   "metadata": {},
   "outputs": [],
   "source": [
    "analysis_df.drop(['constructive_tone', 'responds_to_previous_comment'], axis=1, inplace=True)"
   ]
  },
  {
   "cell_type": "code",
   "execution_count": 37,
   "metadata": {},
   "outputs": [
    {
     "data": {
      "text/plain": [
       "Index(['acknowledges_problem', 'topic_shift', 'asks_question_s',\n",
       "       'clarifies_position_stance', 'provides_information', 'gives_reason_s',\n",
       "       'presents_evidence', 'number_of_ideas'],\n",
       "      dtype='object')"
      ]
     },
     "execution_count": 37,
     "metadata": {},
     "output_type": "execute_result"
    }
   ],
   "source": [
    "analysis_df.columns"
   ]
  },
  {
   "cell_type": "code",
   "execution_count": 40,
   "metadata": {},
   "outputs": [],
   "source": [
    "independent_vars.remove('constructive_tone')"
   ]
  },
  {
   "cell_type": "code",
   "execution_count": 41,
   "metadata": {},
   "outputs": [],
   "source": [
    "independent_vars.remove('responds_to_previous_comment')"
   ]
  },
  {
   "cell_type": "markdown",
   "metadata": {},
   "source": [
    "### Cast independent variables to category"
   ]
  },
  {
   "cell_type": "code",
   "execution_count": 42,
   "metadata": {},
   "outputs": [],
   "source": [
    "cast = {}\n",
    "for independent_var in independent_vars:\n",
    "    cast[independent_var] = 'category'\n",
    "analysis_df = analysis_df.astype(cast)"
   ]
  },
  {
   "cell_type": "markdown",
   "metadata": {},
   "source": [
    "Check variable types"
   ]
  },
  {
   "cell_type": "code",
   "execution_count": 43,
   "metadata": {},
   "outputs": [
    {
     "data": {
      "text/plain": [
       "acknowledges_problem         category\n",
       "topic_shift                  category\n",
       "asks_question_s              category\n",
       "clarifies_position_stance    category\n",
       "provides_information         category\n",
       "gives_reason_s               category\n",
       "presents_evidence            category\n",
       "number_of_ideas                 uint8\n",
       "dtype: object"
      ]
     },
     "execution_count": 43,
     "metadata": {},
     "output_type": "execute_result"
    }
   ],
   "source": [
    "analysis_df.dtypes"
   ]
  },
  {
   "cell_type": "markdown",
   "metadata": {},
   "source": [
    "### Fit model"
   ]
  },
  {
   "cell_type": "markdown",
   "metadata": {},
   "source": [
    "Iterate over independent variables to create formula."
   ]
  },
  {
   "cell_type": "code",
   "execution_count": 44,
   "metadata": {},
   "outputs": [
    {
     "name": "stdout",
     "output_type": "stream",
     "text": [
      "Model formula:\n",
      "number_of_ideas ~  C(acknowledges_problem) +  C(topic_shift) +  C(asks_question_s) +  C(clarifies_position_stance) +  C(provides_information) +  C(gives_reason_s) +  C(presents_evidence)\n"
     ]
    }
   ],
   "source": [
    "formula = f'number_of_ideas ~ '\n",
    "for idx, independent_var in enumerate(independent_vars):\n",
    "    formula += f' C({independent_var})'\n",
    "    if idx < (len(independent_vars)-1):\n",
    "        formula += ' + '\n",
    "print(f'Model formula:\\n{formula}')"
   ]
  },
  {
   "cell_type": "markdown",
   "metadata": {},
   "source": [
    "Build model with created formula"
   ]
  },
  {
   "cell_type": "code",
   "execution_count": 45,
   "metadata": {},
   "outputs": [],
   "source": [
    "model = ols(formula, data = analysis_df).fit()"
   ]
  },
  {
   "cell_type": "code",
   "execution_count": 46,
   "metadata": {},
   "outputs": [
    {
     "data": {
      "text/html": [
       "<table class=\"simpletable\">\n",
       "<caption>OLS Regression Results</caption>\n",
       "<tr>\n",
       "  <th>Dep. Variable:</th>     <td>number_of_ideas</td> <th>  R-squared:         </th> <td>   0.269</td>\n",
       "</tr>\n",
       "<tr>\n",
       "  <th>Model:</th>                   <td>OLS</td>       <th>  Adj. R-squared:    </th> <td>   0.259</td>\n",
       "</tr>\n",
       "<tr>\n",
       "  <th>Method:</th>             <td>Least Squares</td>  <th>  F-statistic:       </th> <td>   25.29</td>\n",
       "</tr>\n",
       "<tr>\n",
       "  <th>Date:</th>             <td>Thu, 25 Nov 2021</td> <th>  Prob (F-statistic):</th> <td>2.01e-29</td>\n",
       "</tr>\n",
       "<tr>\n",
       "  <th>Time:</th>                 <td>13:43:29</td>     <th>  Log-Likelihood:    </th> <td> -622.64</td>\n",
       "</tr>\n",
       "<tr>\n",
       "  <th>No. Observations:</th>      <td>   488</td>      <th>  AIC:               </th> <td>   1261.</td>\n",
       "</tr>\n",
       "<tr>\n",
       "  <th>Df Residuals:</th>          <td>   480</td>      <th>  BIC:               </th> <td>   1295.</td>\n",
       "</tr>\n",
       "<tr>\n",
       "  <th>Df Model:</th>              <td>     7</td>      <th>                     </th>     <td> </td>   \n",
       "</tr>\n",
       "<tr>\n",
       "  <th>Covariance Type:</th>      <td>nonrobust</td>    <th>                     </th>     <td> </td>   \n",
       "</tr>\n",
       "</table>\n",
       "<table class=\"simpletable\">\n",
       "<tr>\n",
       "                  <td></td>                     <th>coef</th>     <th>std err</th>      <th>t</th>      <th>P>|t|</th>  <th>[0.025</th>    <th>0.975]</th>  \n",
       "</tr>\n",
       "<tr>\n",
       "  <th>Intercept</th>                         <td>    0.4923</td> <td>    0.089</td> <td>    5.519</td> <td> 0.000</td> <td>    0.317</td> <td>    0.668</td>\n",
       "</tr>\n",
       "<tr>\n",
       "  <th>C(acknowledges_problem)[T.1]</th>      <td>    0.3545</td> <td>    0.084</td> <td>    4.202</td> <td> 0.000</td> <td>    0.189</td> <td>    0.520</td>\n",
       "</tr>\n",
       "<tr>\n",
       "  <th>C(topic_shift)[T.1]</th>               <td>    0.3116</td> <td>    0.094</td> <td>    3.325</td> <td> 0.001</td> <td>    0.127</td> <td>    0.496</td>\n",
       "</tr>\n",
       "<tr>\n",
       "  <th>C(asks_question_s)[T.1]</th>           <td>    0.5506</td> <td>    0.104</td> <td>    5.275</td> <td> 0.000</td> <td>    0.345</td> <td>    0.756</td>\n",
       "</tr>\n",
       "<tr>\n",
       "  <th>C(clarifies_position_stance)[T.1]</th> <td>    0.2597</td> <td>    0.124</td> <td>    2.093</td> <td> 0.037</td> <td>    0.016</td> <td>    0.504</td>\n",
       "</tr>\n",
       "<tr>\n",
       "  <th>C(provides_information)[T.1]</th>      <td>    0.0137</td> <td>    0.189</td> <td>    0.073</td> <td> 0.942</td> <td>   -0.358</td> <td>    0.385</td>\n",
       "</tr>\n",
       "<tr>\n",
       "  <th>C(gives_reason_s)[T.1]</th>            <td>    0.9209</td> <td>    0.097</td> <td>    9.473</td> <td> 0.000</td> <td>    0.730</td> <td>    1.112</td>\n",
       "</tr>\n",
       "<tr>\n",
       "  <th>C(presents_evidence)[T.1]</th>         <td>   -0.0280</td> <td>    0.151</td> <td>   -0.186</td> <td> 0.853</td> <td>   -0.324</td> <td>    0.268</td>\n",
       "</tr>\n",
       "</table>\n",
       "<table class=\"simpletable\">\n",
       "<tr>\n",
       "  <th>Omnibus:</th>       <td>173.964</td> <th>  Durbin-Watson:     </th> <td>   1.911</td> \n",
       "</tr>\n",
       "<tr>\n",
       "  <th>Prob(Omnibus):</th> <td> 0.000</td>  <th>  Jarque-Bera (JB):  </th> <td> 795.563</td> \n",
       "</tr>\n",
       "<tr>\n",
       "  <th>Skew:</th>          <td> 1.522</td>  <th>  Prob(JB):          </th> <td>1.76e-173</td>\n",
       "</tr>\n",
       "<tr>\n",
       "  <th>Kurtosis:</th>      <td> 8.464</td>  <th>  Cond. No.          </th> <td>    6.82</td> \n",
       "</tr>\n",
       "</table><br/><br/>Warnings:<br/>[1] Standard Errors assume that the covariance matrix of the errors is correctly specified."
      ],
      "text/plain": [
       "<class 'statsmodels.iolib.summary.Summary'>\n",
       "\"\"\"\n",
       "                            OLS Regression Results                            \n",
       "==============================================================================\n",
       "Dep. Variable:        number_of_ideas   R-squared:                       0.269\n",
       "Model:                            OLS   Adj. R-squared:                  0.259\n",
       "Method:                 Least Squares   F-statistic:                     25.29\n",
       "Date:                Thu, 25 Nov 2021   Prob (F-statistic):           2.01e-29\n",
       "Time:                        13:43:29   Log-Likelihood:                -622.64\n",
       "No. Observations:                 488   AIC:                             1261.\n",
       "Df Residuals:                     480   BIC:                             1295.\n",
       "Df Model:                           7                                         \n",
       "Covariance Type:            nonrobust                                         \n",
       "=====================================================================================================\n",
       "                                        coef    std err          t      P>|t|      [0.025      0.975]\n",
       "-----------------------------------------------------------------------------------------------------\n",
       "Intercept                             0.4923      0.089      5.519      0.000       0.317       0.668\n",
       "C(acknowledges_problem)[T.1]          0.3545      0.084      4.202      0.000       0.189       0.520\n",
       "C(topic_shift)[T.1]                   0.3116      0.094      3.325      0.001       0.127       0.496\n",
       "C(asks_question_s)[T.1]               0.5506      0.104      5.275      0.000       0.345       0.756\n",
       "C(clarifies_position_stance)[T.1]     0.2597      0.124      2.093      0.037       0.016       0.504\n",
       "C(provides_information)[T.1]          0.0137      0.189      0.073      0.942      -0.358       0.385\n",
       "C(gives_reason_s)[T.1]                0.9209      0.097      9.473      0.000       0.730       1.112\n",
       "C(presents_evidence)[T.1]            -0.0280      0.151     -0.186      0.853      -0.324       0.268\n",
       "==============================================================================\n",
       "Omnibus:                      173.964   Durbin-Watson:                   1.911\n",
       "Prob(Omnibus):                  0.000   Jarque-Bera (JB):              795.563\n",
       "Skew:                           1.522   Prob(JB):                    1.76e-173\n",
       "Kurtosis:                       8.464   Cond. No.                         6.82\n",
       "==============================================================================\n",
       "\n",
       "Warnings:\n",
       "[1] Standard Errors assume that the covariance matrix of the errors is correctly specified.\n",
       "\"\"\""
      ]
     },
     "execution_count": 46,
     "metadata": {},
     "output_type": "execute_result"
    }
   ],
   "source": [
    "model.summary()"
   ]
  },
  {
   "cell_type": "markdown",
   "metadata": {},
   "source": [
    "### Interpret significant coefficients"
   ]
  },
  {
   "cell_type": "markdown",
   "metadata": {},
   "source": [
    "Out of the seven independent variables, five of them influence the dependent variable statistically significant at alpha level `0.05`. These variables are: `acknowledges_problem`, `topic_shift`, `asks_question_s`, `clarifies_position_stance`, and `give_reasons`. Next, the coefficient of these variables are interpreted."
   ]
  },
  {
   "cell_type": "code",
   "execution_count": 47,
   "metadata": {},
   "outputs": [],
   "source": [
    "significant_coefficients = {}\n",
    "model_variables = model.pvalues.index\n",
    "alpha_level = 0.05\n",
    "for idx, p_value in enumerate(model.pvalues):\n",
    "    if model_variables[idx] == 'Intercept':\n",
    "        continue\n",
    "    if p_value < alpha_level:\n",
    "        if 'C(' in model_variables[idx]:\n",
    "            variable_name = model_variables[idx].split('[T')[0].replace('C(','').replace(')','')\n",
    "        else:\n",
    "            variable_name = model_variables[idx]\n",
    "        significant_coefficients[variable_name] = model.params[model_variables[idx]]"
   ]
  },
  {
   "cell_type": "markdown",
   "metadata": {},
   "source": [
    "#### Acknowledge problem"
   ]
  },
  {
   "cell_type": "code",
   "execution_count": 48,
   "metadata": {},
   "outputs": [
    {
     "name": "stdout",
     "output_type": "stream",
     "text": [
      "Discussions with acknowledge problem increase the estimate value of new ideas by 0.354\n"
     ]
    }
   ],
   "source": [
    "print(f\"Discussions with acknowledge problem increase the estimate value of new ideas by \"\\\n",
    "      f\"{round(significant_coefficients['acknowledges_problem'],3)}\")"
   ]
  },
  {
   "cell_type": "markdown",
   "metadata": {},
   "source": [
    "#### Topic shift"
   ]
  },
  {
   "cell_type": "code",
   "execution_count": 49,
   "metadata": {},
   "outputs": [
    {
     "name": "stdout",
     "output_type": "stream",
     "text": [
      "Discussions with topic shift increase the estimate value of new ideas by 0.312\n"
     ]
    }
   ],
   "source": [
    "print(f\"Discussions with topic shift increase the estimate value of new ideas by \"\\\n",
    "      f\"{round(significant_coefficients['topic_shift'],3)}\")"
   ]
  },
  {
   "cell_type": "markdown",
   "metadata": {},
   "source": [
    "#### Ask questions"
   ]
  },
  {
   "cell_type": "code",
   "execution_count": 50,
   "metadata": {},
   "outputs": [
    {
     "name": "stdout",
     "output_type": "stream",
     "text": [
      "Discussions with ask questions increase the estimate value of new ideas by 0.551\n"
     ]
    }
   ],
   "source": [
    "print(f\"Discussions with ask questions increase the estimate value of new ideas by \"\\\n",
    "      f\"{round(significant_coefficients['asks_question_s'],3)}\")"
   ]
  },
  {
   "cell_type": "markdown",
   "metadata": {},
   "source": [
    "#### Clarify position"
   ]
  },
  {
   "cell_type": "code",
   "execution_count": 52,
   "metadata": {},
   "outputs": [
    {
     "name": "stdout",
     "output_type": "stream",
     "text": [
      "Discussions with clarify position increase the estimate value of new ideas by 0.26\n"
     ]
    }
   ],
   "source": [
    "print(f\"Discussions with clarify position increase the estimate value of new ideas by \"\\\n",
    "      f\"{round(significant_coefficients['clarifies_position_stance'],3)}\")"
   ]
  },
  {
   "cell_type": "markdown",
   "metadata": {},
   "source": [
    "#### Giver reasons"
   ]
  },
  {
   "cell_type": "code",
   "execution_count": 51,
   "metadata": {},
   "outputs": [
    {
     "name": "stdout",
     "output_type": "stream",
     "text": [
      "Discussions where positions are justified increase the estimate value of new ideas by 0.921\n"
     ]
    }
   ],
   "source": [
    "print(f\"Discussions where positions are justified increase the estimate value of new ideas by \"\\\n",
    "      f\"{round(significant_coefficients['gives_reason_s'],3)}\")"
   ]
  }
 ],
 "metadata": {
  "kernelspec": {
   "display_name": "Python 3",
   "language": "python",
   "name": "python3"
  },
  "language_info": {
   "codemirror_mode": {
    "name": "ipython",
    "version": 3
   },
   "file_extension": ".py",
   "mimetype": "text/x-python",
   "name": "python",
   "nbconvert_exporter": "python",
   "pygments_lexer": "ipython3",
   "version": "3.8.0"
  }
 },
 "nbformat": 4,
 "nbformat_minor": 2
}
